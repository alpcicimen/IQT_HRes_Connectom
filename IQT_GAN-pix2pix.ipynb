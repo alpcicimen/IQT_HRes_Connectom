{
 "cells": [
  {
   "cell_type": "code",
   "execution_count": 1,
   "metadata": {
    "ExecuteTime": {
     "end_time": "2023-08-05T13:44:49.616254700Z",
     "start_time": "2023-08-05T13:44:43.055344700Z"
    }
   },
   "outputs": [
    {
     "name": "stderr",
     "output_type": "stream",
     "text": [
      "2023-08-24 03:21:29.230342: I tensorflow/core/util/port.cc:110] oneDNN custom operations are on. You may see slightly different numerical results due to floating-point round-off errors from different computation orders. To turn them off, set the environment variable `TF_ENABLE_ONEDNN_OPTS=0`.\n",
      "2023-08-24 03:21:29.259639: I tensorflow/core/platform/cpu_feature_guard.cc:182] This TensorFlow binary is optimized to use available CPU instructions in performance-critical operations.\n",
      "To enable the following instructions: AVX2 AVX_VNNI FMA, in other operations, rebuild TensorFlow with the appropriate compiler flags.\n",
      "2023-08-24 03:21:30.123045: W tensorflow/compiler/tf2tensorrt/utils/py_utils.cc:38] TF-TRT Warning: Could not find TensorRT\n"
     ]
    }
   ],
   "source": [
    "import tensorflow as tf"
   ]
  },
  {
   "cell_type": "code",
   "execution_count": 2,
   "metadata": {
    "ExecuteTime": {
     "end_time": "2023-08-05T13:44:49.635699800Z",
     "start_time": "2023-08-05T13:44:49.617799900Z"
    },
    "collapsed": false,
    "jupyter": {
     "outputs_hidden": false
    }
   },
   "outputs": [
    {
     "data": {
      "text/plain": [
       "'2.13.0'"
      ]
     },
     "execution_count": 2,
     "metadata": {},
     "output_type": "execute_result"
    }
   ],
   "source": [
    "tf.__version__"
   ]
  },
  {
   "cell_type": "code",
   "execution_count": 3,
   "metadata": {
    "ExecuteTime": {
     "end_time": "2023-08-05T13:44:51.214287100Z",
     "start_time": "2023-08-05T13:44:49.620274400Z"
    },
    "collapsed": false,
    "jupyter": {
     "outputs_hidden": false
    }
   },
   "outputs": [],
   "source": [
    "import glob\n",
    "# import imageio\n",
    "import matplotlib.pyplot as plt\n",
    "import numpy as np\n",
    "import os\n",
    "import PIL\n",
    "# from tensorflow.python.keras import layers\n",
    "from tensorflow.keras import layers, activations\n",
    "import time\n",
    "import nibabel as nib\n",
    "from tqdm import tqdm\n",
    "import gc\n",
    "from scipy.ndimage import binary_erosion\n",
    "from IPython import display\n",
    "import datetime\n",
    "\n",
    "import model"
   ]
  },
  {
   "cell_type": "code",
   "execution_count": 4,
   "metadata": {},
   "outputs": [
    {
     "name": "stdout",
     "output_type": "stream",
     "text": [
      "['390645', '545345', '106016', '120111', '101915', '351938', '705341']\n"
     ]
    }
   ],
   "source": [
    "subjects = [ f.name for f in os.scandir('./Data') if f.is_dir() and f.name != '.ipynb_checkpoints']\n",
    "\n",
    "# subjects = ['390645', '120111']\n",
    "\n",
    "e_or_o = 0\n",
    "\n",
    "p_size_i = 16\n",
    "p_size_o = 16\n",
    "\n",
    "print(subjects)"
   ]
  },
  {
   "cell_type": "code",
   "execution_count": 5,
   "metadata": {
    "ExecuteTime": {
     "end_time": "2023-08-05T15:25:06.718078900Z",
     "start_time": "2023-08-05T15:25:06.534741600Z"
    },
    "collapsed": false,
    "jupyter": {
     "outputs_hidden": false
    }
   },
   "outputs": [
    {
     "name": "stderr",
     "output_type": "stream",
     "text": [
      "2023-08-24 03:21:31.900234: I tensorflow/compiler/xla/stream_executor/cuda/cuda_gpu_executor.cc:995] successful NUMA node read from SysFS had negative value (-1), but there must be at least one NUMA node, so returning NUMA node zero. See more at https://github.com/torvalds/linux/blob/v6.0/Documentation/ABI/testing/sysfs-bus-pci#L344-L355\n",
      "2023-08-24 03:21:31.919875: I tensorflow/compiler/xla/stream_executor/cuda/cuda_gpu_executor.cc:995] successful NUMA node read from SysFS had negative value (-1), but there must be at least one NUMA node, so returning NUMA node zero. See more at https://github.com/torvalds/linux/blob/v6.0/Documentation/ABI/testing/sysfs-bus-pci#L344-L355\n",
      "2023-08-24 03:21:31.919999: I tensorflow/compiler/xla/stream_executor/cuda/cuda_gpu_executor.cc:995] successful NUMA node read from SysFS had negative value (-1), but there must be at least one NUMA node, so returning NUMA node zero. See more at https://github.com/torvalds/linux/blob/v6.0/Documentation/ABI/testing/sysfs-bus-pci#L344-L355\n",
      "2023-08-24 03:21:31.921965: I tensorflow/compiler/xla/stream_executor/cuda/cuda_gpu_executor.cc:995] successful NUMA node read from SysFS had negative value (-1), but there must be at least one NUMA node, so returning NUMA node zero. See more at https://github.com/torvalds/linux/blob/v6.0/Documentation/ABI/testing/sysfs-bus-pci#L344-L355\n",
      "2023-08-24 03:21:31.922081: I tensorflow/compiler/xla/stream_executor/cuda/cuda_gpu_executor.cc:995] successful NUMA node read from SysFS had negative value (-1), but there must be at least one NUMA node, so returning NUMA node zero. See more at https://github.com/torvalds/linux/blob/v6.0/Documentation/ABI/testing/sysfs-bus-pci#L344-L355\n",
      "2023-08-24 03:21:31.922132: I tensorflow/compiler/xla/stream_executor/cuda/cuda_gpu_executor.cc:995] successful NUMA node read from SysFS had negative value (-1), but there must be at least one NUMA node, so returning NUMA node zero. See more at https://github.com/torvalds/linux/blob/v6.0/Documentation/ABI/testing/sysfs-bus-pci#L344-L355\n",
      "2023-08-24 03:21:32.260209: I tensorflow/compiler/xla/stream_executor/cuda/cuda_gpu_executor.cc:995] successful NUMA node read from SysFS had negative value (-1), but there must be at least one NUMA node, so returning NUMA node zero. See more at https://github.com/torvalds/linux/blob/v6.0/Documentation/ABI/testing/sysfs-bus-pci#L344-L355\n",
      "2023-08-24 03:21:32.260326: I tensorflow/compiler/xla/stream_executor/cuda/cuda_gpu_executor.cc:995] successful NUMA node read from SysFS had negative value (-1), but there must be at least one NUMA node, so returning NUMA node zero. See more at https://github.com/torvalds/linux/blob/v6.0/Documentation/ABI/testing/sysfs-bus-pci#L344-L355\n",
      "2023-08-24 03:21:32.260380: I tensorflow/compiler/xla/stream_executor/cuda/cuda_gpu_executor.cc:995] successful NUMA node read from SysFS had negative value (-1), but there must be at least one NUMA node, so returning NUMA node zero. See more at https://github.com/torvalds/linux/blob/v6.0/Documentation/ABI/testing/sysfs-bus-pci#L344-L355\n",
      "2023-08-24 03:21:32.260433: I tensorflow/core/common_runtime/gpu/gpu_device.cc:1639] Created device /job:localhost/replica:0/task:0/device:GPU:0 with 21880 MB memory:  -> device: 0, name: NVIDIA GeForce RTX 3090 Ti, pci bus id: 0000:01:00.0, compute capability: 8.6\n"
     ]
    }
   ],
   "source": [
    "# input_layer = tf.keras.Input(shape=(32, 32, 32, 36))\n",
    "# output_layer = model.unet3d(input_layer, 36)\n",
    "\n",
    "# generator = tf.keras.Model(input_layer, output_layer)\n",
    "generator = model.gen_pix2pix()\n",
    "discriminator = model.disc_pix2pix()"
   ]
  },
  {
   "cell_type": "code",
   "execution_count": 6,
   "metadata": {},
   "outputs": [
    {
     "name": "stdout",
     "output_type": "stream",
     "text": [
      "Model: \"model\"\n",
      "__________________________________________________________________________________________________\n",
      " Layer (type)                Output Shape                 Param #   Connected to                  \n",
      "==================================================================================================\n",
      " input_1 (InputLayer)        [(None, 32, 32, 32, 30)]     0         []                            \n",
      "                                                                                                  \n",
      " sequential (Sequential)     (None, 16, 16, 16, 64)       122880    ['input_1[0][0]']             \n",
      "                                                                                                  \n",
      " sequential_1 (Sequential)   (None, 8, 8, 8, 128)         524800    ['sequential[0][0]']          \n",
      "                                                                                                  \n",
      " sequential_2 (Sequential)   (None, 4, 4, 4, 256)         2098176   ['sequential_1[0][0]']        \n",
      "                                                                                                  \n",
      " sequential_3 (Sequential)   (None, 8, 8, 8, 256)         4195328   ['sequential_2[0][0]']        \n",
      "                                                                                                  \n",
      " concatenate (Concatenate)   (None, 8, 8, 8, 384)         0         ['sequential_3[0][0]',        \n",
      "                                                                     'sequential_1[0][0]']        \n",
      "                                                                                                  \n",
      " sequential_4 (Sequential)   (None, 16, 16, 16, 128)      3146240   ['concatenate[0][0]']         \n",
      "                                                                                                  \n",
      " concatenate_1 (Concatenate  (None, 16, 16, 16, 192)      0         ['sequential_4[0][0]',        \n",
      " )                                                                   'sequential[0][0]']          \n",
      "                                                                                                  \n",
      " conv3d_transpose_3 (Conv3D  (None, 32, 32, 32, 22)       270358    ['concatenate_1[0][0]']       \n",
      " Transpose)                                                                                       \n",
      "                                                                                                  \n",
      "==================================================================================================\n",
      "Total params: 10357782 (39.51 MB)\n",
      "Trainable params: 10356246 (39.51 MB)\n",
      "Non-trainable params: 1536 (6.00 KB)\n",
      "__________________________________________________________________________________________________\n",
      "None\n",
      "Model: \"model_1\"\n",
      "__________________________________________________________________________________________________\n",
      " Layer (type)                Output Shape                 Param #   Connected to                  \n",
      "==================================================================================================\n",
      " input_image (InputLayer)    [(None, 32, 32, 32, 22)]     0         []                            \n",
      "                                                                                                  \n",
      " target_image (InputLayer)   [(None, 32, 32, 32, 22)]     0         []                            \n",
      "                                                                                                  \n",
      " concatenate_2 (Concatenate  (None, 32, 32, 32, 44)       0         ['input_image[0][0]',         \n",
      " )                                                                   'target_image[0][0]']        \n",
      "                                                                                                  \n",
      " sequential_6 (Sequential)   (None, 16, 16, 16, 64)       180224    ['concatenate_2[0][0]']       \n",
      "                                                                                                  \n",
      " sequential_7 (Sequential)   (None, 8, 8, 8, 128)         524800    ['sequential_6[0][0]']        \n",
      "                                                                                                  \n",
      " sequential_8 (Sequential)   (None, 4, 4, 4, 256)         2098176   ['sequential_7[0][0]']        \n",
      "                                                                                                  \n",
      " zero_padding3d (ZeroPaddin  (None, 6, 6, 6, 256)         0         ['sequential_8[0][0]']        \n",
      " g3D)                                                                                             \n",
      "                                                                                                  \n",
      " conv3d_6 (Conv3D)           (None, 3, 3, 3, 512)         8388608   ['zero_padding3d[0][0]']      \n",
      "                                                                                                  \n",
      " batch_normalization_7 (Bat  (None, 3, 3, 3, 512)         2048      ['conv3d_6[0][0]']            \n",
      " chNormalization)                                                                                 \n",
      "                                                                                                  \n",
      " leaky_re_lu_6 (LeakyReLU)   (None, 3, 3, 3, 512)         0         ['batch_normalization_7[0][0]'\n",
      "                                                                    ]                             \n",
      "                                                                                                  \n",
      " zero_padding3d_1 (ZeroPadd  (None, 5, 5, 5, 512)         0         ['leaky_re_lu_6[0][0]']       \n",
      " ing3D)                                                                                           \n",
      "                                                                                                  \n",
      " conv3d_7 (Conv3D)           (None, 2, 2, 2, 1)           32769     ['zero_padding3d_1[0][0]']    \n",
      "                                                                                                  \n",
      "==================================================================================================\n",
      "Total params: 11226625 (42.83 MB)\n",
      "Trainable params: 11224833 (42.82 MB)\n",
      "Non-trainable params: 1792 (7.00 KB)\n",
      "__________________________________________________________________________________________________\n",
      "None\n"
     ]
    }
   ],
   "source": [
    "print(generator.summary())\n",
    "print(discriminator.summary())"
   ]
  },
  {
   "cell_type": "code",
   "execution_count": 7,
   "metadata": {
    "ExecuteTime": {
     "end_time": "2023-08-05T14:00:04.659577500Z",
     "start_time": "2023-08-05T14:00:01.079241200Z"
    }
   },
   "outputs": [
    {
     "name": "stdout",
     "output_type": "stream",
     "text": [
      "Loading Subject 390645\n",
      "Loading Subject 545345\n",
      "Loading Subject 106016\n",
      "Loading Subject 120111\n",
      "Loading Subject 101915\n",
      "Loading Subject 351938\n",
      "Loading Subject 705341\n"
     ]
    }
   ],
   "source": [
    "subjects_lr = []\n",
    "subjects_hr = []\n",
    "subjects_masks = []\n",
    "\n",
    "subjects_preproc_values_lr = []\n",
    "subjects_preproc_values_hr = []\n",
    "\n",
    "subjects_t1_preproc_values = []\n",
    "\n",
    "for subj in subjects:\n",
    "\n",
    "    h4_imgs = []\n",
    "    h4_imgs_lr = []\n",
    "    dti_imgs = []\n",
    "    dti_imgs_lr = []\n",
    "\n",
    "    # DTI normalisation metrics pre-normalisation (storing max and min values in the mask) - Store for HR only\n",
    "    dti_preprocs_hr = np.zeros((6,2))\n",
    "    dti_preprocs_lr = np.zeros((6,2))\n",
    "\n",
    "    print(\"Loading Subject {}\".format(subj))\n",
    "    \n",
    "    for i in range(1,9):\n",
    "    \n",
    "        dti_data = np.array(nib.load(\"Data/{}/T1w/Diffusion/dt_all_{}.nii\".format(subj,i)).get_fdata())\n",
    "        dti_data_lr = np.array(nib.load(\"Data/{}/T1w/Diffusion/dt_all_lowres_2_{}.nii\".format(subj,i)).get_fdata())\n",
    "    \n",
    "        # if i > 1:\n",
    "        #     dti_data[dti_imgs[0] < 0] = 0\n",
    "        #     dti_data_lr[dti_imgs[0] < 0] = 0\n",
    "    \n",
    "        dti_imgs.append(dti_data)\n",
    "        dti_imgs_lr.append(dti_data_lr)\n",
    "    \n",
    "        dti_data = None\n",
    "        dti_data_lr = None\n",
    "    \n",
    "    for i in range(1,25):\n",
    "    \n",
    "        h4_data = np.array(nib.load(\"Data/{}/T1w/Diffusion/h4_all_{}.nii\".format(subj,str(i).zfill(2))).get_fdata())\n",
    "        h4_data_lr = np.array(nib.load(\"Data/{}/T1w/Diffusion/h4_all_lowres_2_{}.nii\".format(subj,str(i).zfill(2))).get_fdata())\n",
    "    \n",
    "        # if i > 1:\n",
    "        #     h4_data[h4_data[0] < 0] = 0\n",
    "        #     h4_data_lr[h4_data[0] < 0] = 0\n",
    "        \n",
    "        h4_imgs.append(h4_data)\n",
    "        h4_imgs_lr.append(h4_data_lr)\n",
    "    \n",
    "        h4_data = None\n",
    "        h4_data_lr = None\n",
    "    \n",
    "    h4_imgs = np.array(h4_imgs).transpose((1,2,3,0))\n",
    "    h4_imgs_lr = np.array(h4_imgs_lr).transpose((1,2,3,0))\n",
    "    \n",
    "    dti_imgs = np.array(dti_imgs).transpose((1,2,3,0))\n",
    "    dti_imgs_lr = np.array(dti_imgs_lr).transpose((1,2,3,0))\n",
    "    \n",
    "    mask = h4_imgs[...,0]\n",
    "\n",
    "    binmask = np.zeros(mask.shape)\n",
    "\n",
    "    binmask[mask >= 0] = 1\n",
    "\n",
    "    mask = binary_erosion(binmask, structure=np.ones((5,5,5),np.uint8),iterations = 1)\n",
    "\n",
    "    binmask = None\n",
    "\n",
    "    # Calculate DTI ranges and normalise to range [0,1]\n",
    "    for i in range(2,8):\n",
    "\n",
    "        dti_preprocs_lr[i-2,:] = np.array([np.min(mask*dti_imgs_lr[...,i]), np.max(mask*dti_imgs_lr[...,i])])\n",
    "        dti_imgs_lr[mask>0, i] = (dti_imgs_lr[mask>0, i] - dti_preprocs_lr[i-2,0] + 0.0001) / (dti_preprocs_lr[i-2,1] - dti_preprocs_lr[i-2,0])\n",
    "        dti_imgs_lr[mask==0, i] = 0\n",
    "\n",
    "        dti_preprocs_hr[i-2,:] = np.array([np.min(mask*dti_imgs[...,i]), np.max(mask*dti_imgs[...,i])])\n",
    "        dti_imgs[mask>0, i] = (dti_imgs[mask>0, i] - dti_preprocs_hr[i-2,0] + 0.0001) / (dti_preprocs_hr[i-2,1] - dti_preprocs_hr[i-2,0])\n",
    "        dti_imgs[mask==0, i] = 0\n",
    "\n",
    "\n",
    "    t1w = nib.load(\"Data/{}/T1w/Diffusion/t1w.nii\".format(subj))\n",
    "    \n",
    "    t1w_data = np.array(t1w.get_fdata())\n",
    "    \n",
    "    t1w_data_format = np.concatenate(\n",
    "        (t1w_data[::2,::2,::2, None], t1w_data[::2,::2,1::2, None],\n",
    "         t1w_data[::2,1::2,::2, None], t1w_data[::2,1::2,1::2, None],\n",
    "         t1w_data[1::2,::2,::2, None], t1w_data[1::2,::2,1::2, None],\n",
    "         t1w_data[1::2,1::2,::2, None], t1w_data[1::2,1::2,1::2, None]),\n",
    "        axis=-1)\n",
    "\n",
    "    t1w_preprocs = np.array([np.min(t1w_data_format*mask[...,None]), np.max(t1w_data_format*mask[...,None])])\n",
    "    \n",
    "    subjects_t1_preproc_values.append(t1w_preprocs)    \n",
    "    t1w_data_format[mask>0, :] = (t1w_data_format[mask>0, :] - t1w_preprocs[0] + 0.0001) / (t1w_preprocs[1] - t1w_preprocs[0])\n",
    "\n",
    "    subjects_preproc_values_lr.append(dti_preprocs_lr)\n",
    "    subjects_preproc_values_hr.append(dti_preprocs_hr)\n",
    "\n",
    "    lowres_input = np.concatenate((h4_imgs_lr[...,2:], t1w_data_format), axis=-1)\n",
    "    hires_output = np.copy(h4_imgs[...,2:])\n",
    "    \n",
    "    # lowres_input = np.concatenate((h4_imgs_lr[...,2:], dti_imgs_lr[...,2:], t1w_data_format), axis=-1)\n",
    "    # hires_output = np.copy(h4_imgs[...,2:])\n",
    "\n",
    "    subjects_lr.append(lowres_input)\n",
    "    subjects_hr.append(hires_output)\n",
    "    subjects_masks.append(mask)\n"
   ]
  },
  {
   "cell_type": "code",
   "execution_count": 8,
   "metadata": {
    "ExecuteTime": {
     "end_time": "2023-08-05T14:18:21.291398100Z",
     "start_time": "2023-08-05T14:18:21.254969700Z"
    },
    "collapsed": false,
    "jupyter": {
     "outputs_hidden": false
    }
   },
   "outputs": [],
   "source": [
    "loss_object = tf.keras.losses.BinaryCrossentropy(from_logits=True)\n",
    "\n",
    "def discriminator_loss(disc_real_output, disc_generated_output):\n",
    "  real_loss = loss_object(tf.ones_like(disc_real_output), disc_real_output)\n",
    "\n",
    "  generated_loss = loss_object(tf.zeros_like(disc_generated_output), disc_generated_output)\n",
    "\n",
    "  total_disc_loss = real_loss + generated_loss\n",
    "\n",
    "  return total_disc_loss\n",
    "\n",
    "LAMBDA = 10\n",
    "\n",
    "def generator_loss(disc_generated_output, gen_output, target):\n",
    "  gan_loss = loss_object(tf.ones_like(disc_generated_output), disc_generated_output)\n",
    "\n",
    "  # Mean absolute error\n",
    "  l2_loss = tf.reduce_mean(tf.square(target - gen_output))\n",
    "\n",
    "  total_gen_loss = gan_loss + (LAMBDA * l2_loss)\n",
    "\n",
    "  return total_gen_loss, gan_loss, l2_loss"
   ]
  },
  {
   "cell_type": "code",
   "execution_count": 9,
   "metadata": {
    "ExecuteTime": {
     "end_time": "2023-08-05T14:18:25.658937200Z",
     "start_time": "2023-08-05T14:18:25.629596Z"
    },
    "collapsed": false,
    "jupyter": {
     "outputs_hidden": false
    }
   },
   "outputs": [],
   "source": [
    "# lr_schedule = tf.keras.optimizers.schedules.ExponentialDecay(\n",
    "#     initial_learning_rate=1e-3,\n",
    "#     decay_steps=50*2000,\n",
    "#     decay_rate=0.1\n",
    "# )\n",
    "\n",
    "generator_optimizer = tf.keras.optimizers.Adam(2e-4, beta_1=0.5)\n",
    "discriminator_optimizer = tf.keras.optimizers.Adam(2e-4, beta_1=0.5)"
   ]
  },
  {
   "cell_type": "code",
   "execution_count": 10,
   "metadata": {
    "ExecuteTime": {
     "end_time": "2023-08-05T14:18:26.774030800Z",
     "start_time": "2023-08-05T14:18:26.725560700Z"
    },
    "collapsed": false,
    "jupyter": {
     "outputs_hidden": false
    }
   },
   "outputs": [],
   "source": [
    "checkpoint_dir = './training_checkpoints/pix2pix'\n",
    "checkpoint_prefix = os.path.join(checkpoint_dir, \"ckpt\")\n",
    "checkpoint = tf.train.Checkpoint(generator_optimizer=generator_optimizer,\n",
    "                                 discriminator_optimizer=discriminator_optimizer,\n",
    "                                 generator=generator,\n",
    "                                 discriminator=discriminator)\n",
    "\n",
    "# log_dir = \"logs/fit/\" + datetime.datetime.now().strftime(\"%Y%m%d-%H%M%S\")\n",
    "# tensorboard_callback = tf.keras.callbacks.TensorBoard(log_dir=log_dir, histogram_freq=1)\n",
    "\n",
    "gen_loss_metric = tf.keras.metrics.Mean('gen_loss', dtype=tf.float32)\n",
    "# gen_accuracy_metric = tf.keras.metrics.SparseCategoricalAccuracy('gen_accuracy')\n",
    "\n",
    "disc_loss_metric = tf.keras.metrics.Mean('disc_loss', dtype=tf.float32)\n",
    "\n",
    "current_time = datetime.datetime.now().strftime(\"%Y%m%d-%H%M%S\")\n",
    "log_dir = './logs/pix2pix_map/' + current_time + '/train'\n",
    "summary_writer = tf.summary.create_file_writer(log_dir)"
   ]
  },
  {
   "cell_type": "code",
   "execution_count": 11,
   "metadata": {
    "ExecuteTime": {
     "end_time": "2023-08-05T14:31:31.474922300Z",
     "start_time": "2023-08-05T14:31:31.453950800Z"
    },
    "collapsed": false,
    "jupyter": {
     "outputs_hidden": false
    }
   },
   "outputs": [],
   "source": [
    "@tf.function\n",
    "def train_step(input_image, target, step):\n",
    "  with tf.GradientTape() as gen_tape, tf.GradientTape() as disc_tape:\n",
    "    gen_output = generator(input_image, training=True)\n",
    "\n",
    "    disc_real_output = discriminator([input_image[...,:22], target], training=True)\n",
    "    disc_generated_output = discriminator([input_image[...,:22], gen_output], training=True)\n",
    "\n",
    "    gen_total_loss, gen_gan_loss, gen_l1_loss = generator_loss(disc_generated_output, gen_output, target)\n",
    "    disc_loss = discriminator_loss(disc_real_output, disc_generated_output)\n",
    "\n",
    "  generator_gradients = gen_tape.gradient(gen_total_loss,\n",
    "                                          generator.trainable_variables)\n",
    "  discriminator_gradients = disc_tape.gradient(disc_loss,\n",
    "                                               discriminator.trainable_variables)\n",
    "\n",
    "  generator_optimizer.apply_gradients(zip(generator_gradients,\n",
    "                                          generator.trainable_variables))\n",
    "  discriminator_optimizer.apply_gradients(zip(discriminator_gradients,\n",
    "                                              discriminator.trainable_variables))\n",
    "\n",
    "  with summary_writer.as_default():\n",
    "    tf.summary.scalar('gen_total_loss', gen_total_loss, step=step//500)\n",
    "    tf.summary.scalar('gen_gan_loss', gen_gan_loss, step=step//500)\n",
    "    tf.summary.scalar('gen_l1_loss', gen_l1_loss, step=step//500)\n",
    "    tf.summary.scalar('disc_loss', disc_loss, step=step//500)\n",
    "\n",
    "  return gen_total_loss, disc_loss"
   ]
  },
  {
   "cell_type": "code",
   "execution_count": 12,
   "metadata": {
    "ExecuteTime": {
     "end_time": "2023-08-05T15:37:15.289028100Z",
     "start_time": "2023-08-05T15:37:15.270842400Z"
    },
    "collapsed": false,
    "jupyter": {
     "outputs_hidden": false
    }
   },
   "outputs": [],
   "source": [
    "def train(data, epochs):\n",
    "\n",
    "  gen_train_mode = False\n",
    "\n",
    "  best_cost = np.Inf\n",
    "\n",
    "  step_count = data[0].shape[0]//4\n",
    "    \n",
    "  for epoch in range(epochs):\n",
    "\n",
    "    if (epoch > 0) and ((epoch % 2) == 0):\n",
    "        gen_train_mode = not gen_train_mode\n",
    "      \n",
    "    start = time.time()\n",
    "\n",
    "    print(\"Epoch: {}\".format(epoch+1))\n",
    "\n",
    "    print(\"Learning rate:\", generator_optimizer.learning_rate.numpy())\n",
    "\n",
    "\n",
    "    mean_g_loss = 0.0\n",
    "    mean_d_loss = 0.0\n",
    "    total_cost = 0.0\n",
    "\n",
    "    # [sel_indices, subjects_lr, subjects_hr, subjects_masks]\n",
    "\n",
    "    randsels = np.random.choice(data[0].shape[0],step_count)\n",
    "\n",
    "    lr_patches = []\n",
    "    hr_patches = []\n",
    "\n",
    "    for prog, index in enumerate(tqdm(randsels)):\n",
    "\n",
    "        if (prog+1) % 8 != 0 or prog == (len(randsels) - 1):\n",
    "\n",
    "            (s, i, j, k) = data[0][index]\n",
    "        \n",
    "            lr_patch = np.copy(data[1][s][\n",
    "                                    i - p_size_i - e_or_o : i + p_size_i,\n",
    "                                    j - p_size_i - e_or_o : j + p_size_i,\n",
    "                                    k - p_size_i - e_or_o : k + p_size_i, :]) * \\\n",
    "            np.copy(data[3][s][\n",
    "                                    i - p_size_i - e_or_o : i + p_size_i,\n",
    "                                    j - p_size_i - e_or_o : j + p_size_i,\n",
    "                                    k - p_size_i - e_or_o : k + p_size_i, None])\n",
    "                               \n",
    "        \n",
    "            hr_patch = np.copy(data[2][s][\n",
    "                                    i - p_size_o - e_or_o : i + p_size_o,\n",
    "                                    j - p_size_o - e_or_o : j + p_size_o,\n",
    "                                    k - p_size_o - e_or_o : k + p_size_o, :]) * \\\n",
    "            np.copy(data[3][s][\n",
    "                                    i - p_size_o - e_or_o : i + p_size_o,\n",
    "                                    j - p_size_o - e_or_o : j + p_size_o,\n",
    "                                    k - p_size_o - e_or_o : k + p_size_o, None])\n",
    "\n",
    "            lr_patches.append(lr_patch)\n",
    "            hr_patches.append(hr_patch)\n",
    "            \n",
    "            continue\n",
    "        \n",
    "        lr_patches = tf.convert_to_tensor(np.array(lr_patches), dtype=tf.float32)\n",
    "        hr_patches = tf.convert_to_tensor(np.array(hr_patches), dtype=tf.float32)\n",
    "\n",
    "        g_loss, d_loss = train_step(lr_patches, hr_patches, step_count*epoch + prog)\n",
    "\n",
    "        # if gen_train_mode:\n",
    "        #     g_loss, d_loss = train_step_gen(lr_patches, hr_patches)\n",
    "        # else:\n",
    "        #     g_loss, d_loss = train_step_disc(lr_patches, hr_patches)\n",
    "\n",
    "        # with summary_writer.as_default():\n",
    "        #     tf.summary.scalar('gen_loss', gen_loss_metric.result(), step=epoch)\n",
    "        #     tf.summary.scalar('disc_loss', disc_loss_metric.result(), step=epoch)\n",
    "        \n",
    "        mean_g_loss = mean_g_loss + g_loss\n",
    "        mean_d_loss = mean_d_loss + d_loss\n",
    "\n",
    "        y_preds = generator(lr_patches, training=False)\n",
    "\n",
    "        total_cost = total_cost + tf.reduce_mean(tf.square(hr_patches - y_preds))\n",
    "\n",
    "        lr_patches = []\n",
    "        hr_patches = []\n",
    "      \n",
    "    # Save the model every 5 epochs\n",
    "    # if (epoch + 1) % 5 == 0:\n",
    "    if total_cost < best_cost:\n",
    "      checkpoint.save(file_prefix = checkpoint_prefix)\n",
    "      best_cost = total_cost\n",
    "\n",
    "    # print('Generator Loss is {}'.format(float(mean_g_loss/len(randsels))))\n",
    "    # print('Discriminator Loss is {}'.format(float(mean_d_loss/len(randsels))))\n",
    "\n",
    "    print('Generator Error Metric is {}'.format(float(total_cost/(len(randsels)//4))))\n",
    "      \n",
    "    print ('Time for epoch {} is {} sec'.format(epoch + 1, time.time()-start))"
   ]
  },
  {
   "cell_type": "code",
   "execution_count": 13,
   "metadata": {},
   "outputs": [],
   "source": [
    "(xsize, ysize, zsize, comp) = subjects_lr[0].shape\n",
    "\n",
    "split_indices = [(i, j, k)\n",
    "                 for k in np.arange(p_size_i+1,zsize-p_size_i+e_or_o,2*p_size_o+e_or_o)       \n",
    "                 for j in np.arange(p_size_i+1,ysize-p_size_i+e_or_o,2*p_size_o+e_or_o)\n",
    "                 for i in np.arange(p_size_i+1,xsize-p_size_i+e_or_o,2*p_size_o+e_or_o)\n",
    "                ]\n",
    "\n",
    "sel_indices = []\n",
    "\n",
    "for s in range(len(subjects_lr)):\n",
    "    for (i, j, k) in split_indices:\n",
    "        ipatch_mask = subjects_masks[s][\n",
    "            i - p_size_o - e_or_o : i + p_size_o,\n",
    "            j - p_size_o - e_or_o : j + p_size_o,\n",
    "            k - p_size_o - e_or_o : k + p_size_o]\n",
    "    \n",
    "        if np.max(ipatch_mask) > 0:\n",
    "            sel_indices.append((s,i,j,k))\n",
    "\n",
    "sel_indices = np.array(sel_indices)"
   ]
  },
  {
   "cell_type": "code",
   "execution_count": null,
   "metadata": {
    "ExecuteTime": {
     "end_time": "2023-08-05T15:37:17.483885900Z",
     "start_time": "2023-08-05T15:37:17.435327300Z"
    },
    "collapsed": false,
    "jupyter": {
     "outputs_hidden": false
    }
   },
   "outputs": [
    {
     "name": "stdout",
     "output_type": "stream",
     "text": [
      "Epoch: 1\n",
      "Learning rate: 0.0002\n"
     ]
    },
    {
     "name": "stderr",
     "output_type": "stream",
     "text": [
      "  0%|                                                   | 0/101 [00:00<?, ?it/s]2023-08-24 03:21:50.669796: I tensorflow/compiler/xla/stream_executor/cuda/cuda_dnn.cc:432] Loaded cuDNN version 8600\n",
      "2023-08-24 03:21:51.879746: I tensorflow/compiler/xla/service/service.cc:168] XLA service 0x7ff894002610 initialized for platform CUDA (this does not guarantee that XLA will be used). Devices:\n",
      "2023-08-24 03:21:51.879771: I tensorflow/compiler/xla/service/service.cc:176]   StreamExecutor device (0): NVIDIA GeForce RTX 3090 Ti, Compute Capability 8.6\n",
      "2023-08-24 03:21:51.885497: I tensorflow/compiler/mlir/tensorflow/utils/dump_mlir_util.cc:255] disabling MLIR crash reproducer, set env var `MLIR_CRASH_REPRODUCER_DIRECTORY` to enable.\n",
      "2023-08-24 03:21:52.110797: I ./tensorflow/compiler/jit/device_compiler.h:186] Compiled cluster using XLA!  This line is logged at most once for the lifetime of the process.\n",
      " 32%|█████████████▎                            | 32/101 [00:08<00:11,  5.89it/s]"
     ]
    },
    {
     "name": "stdout",
     "output_type": "stream",
     "text": [
      "WARNING:tensorflow:5 out of the last 5 calls to <function train_step at 0x7ffa1014d260> triggered tf.function retracing. Tracing is expensive and the excessive number of tracings could be due to (1) creating @tf.function repeatedly in a loop, (2) passing tensors with different shapes, (3) passing Python objects instead of tensors. For (1), please define your @tf.function outside of the loop. For (2), @tf.function has reduce_retracing=True option that can avoid unnecessary retracing. For (3), please refer to https://www.tensorflow.org/guide/function#controlling_retracing and https://www.tensorflow.org/api_docs/python/tf/function for  more details.\n"
     ]
    },
    {
     "name": "stderr",
     "output_type": "stream",
     "text": [
      " 40%|████████████████▋                         | 40/101 [00:08<00:08,  7.34it/s]"
     ]
    },
    {
     "name": "stdout",
     "output_type": "stream",
     "text": [
      "WARNING:tensorflow:6 out of the last 6 calls to <function train_step at 0x7ffa1014d260> triggered tf.function retracing. Tracing is expensive and the excessive number of tracings could be due to (1) creating @tf.function repeatedly in a loop, (2) passing tensors with different shapes, (3) passing Python objects instead of tensors. For (1), please define your @tf.function outside of the loop. For (2), @tf.function has reduce_retracing=True option that can avoid unnecessary retracing. For (3), please refer to https://www.tensorflow.org/guide/function#controlling_retracing and https://www.tensorflow.org/api_docs/python/tf/function for  more details.\n"
     ]
    },
    {
     "name": "stderr",
     "output_type": "stream",
     "text": [
      "100%|█████████████████████████████████████████| 101/101 [00:12<00:00,  7.99it/s]\n"
     ]
    },
    {
     "name": "stdout",
     "output_type": "stream",
     "text": [
      "Generator Error Metric is 0.009900194592773914\n",
      "Time for epoch 1 is 15.10321569442749 sec\n",
      "Epoch: 2\n",
      "Learning rate: 0.0002\n"
     ]
    },
    {
     "name": "stderr",
     "output_type": "stream",
     "text": [
      "100%|█████████████████████████████████████████| 101/101 [00:06<00:00, 14.90it/s]\n"
     ]
    },
    {
     "name": "stdout",
     "output_type": "stream",
     "text": [
      "Generator Error Metric is 0.011200505308806896\n",
      "Time for epoch 2 is 6.781764507293701 sec\n",
      "Epoch: 3\n",
      "Learning rate: 0.0002\n"
     ]
    },
    {
     "name": "stderr",
     "output_type": "stream",
     "text": [
      "100%|█████████████████████████████████████████| 101/101 [00:06<00:00, 14.90it/s]\n"
     ]
    },
    {
     "name": "stdout",
     "output_type": "stream",
     "text": [
      "Generator Error Metric is 0.015796182677149773\n",
      "Time for epoch 3 is 6.781084299087524 sec\n",
      "Epoch: 4\n",
      "Learning rate: 0.0002\n"
     ]
    },
    {
     "name": "stderr",
     "output_type": "stream",
     "text": [
      "100%|█████████████████████████████████████████| 101/101 [00:06<00:00, 15.10it/s]\n"
     ]
    },
    {
     "name": "stdout",
     "output_type": "stream",
     "text": [
      "Generator Error Metric is 0.01398857869207859\n",
      "Time for epoch 4 is 6.691392660140991 sec\n",
      "Epoch: 5\n",
      "Learning rate: 0.0002\n"
     ]
    },
    {
     "name": "stderr",
     "output_type": "stream",
     "text": [
      "100%|█████████████████████████████████████████| 101/101 [00:06<00:00, 14.77it/s]\n"
     ]
    },
    {
     "name": "stdout",
     "output_type": "stream",
     "text": [
      "Generator Error Metric is 0.01565229706466198\n",
      "Time for epoch 5 is 6.841262102127075 sec\n",
      "Epoch: 6\n",
      "Learning rate: 0.0002\n"
     ]
    },
    {
     "name": "stderr",
     "output_type": "stream",
     "text": [
      "100%|█████████████████████████████████████████| 101/101 [00:06<00:00, 15.11it/s]\n"
     ]
    },
    {
     "name": "stdout",
     "output_type": "stream",
     "text": [
      "Generator Error Metric is 0.01236108411103487\n",
      "Time for epoch 6 is 6.684956312179565 sec\n",
      "Epoch: 7\n",
      "Learning rate: 0.0002\n"
     ]
    },
    {
     "name": "stderr",
     "output_type": "stream",
     "text": [
      "100%|█████████████████████████████████████████| 101/101 [00:06<00:00, 14.71it/s]\n"
     ]
    },
    {
     "name": "stdout",
     "output_type": "stream",
     "text": [
      "Generator Error Metric is 0.013832478784024715\n",
      "Time for epoch 7 is 6.867798566818237 sec\n",
      "Epoch: 8\n",
      "Learning rate: 0.0002\n"
     ]
    },
    {
     "name": "stderr",
     "output_type": "stream",
     "text": [
      "100%|█████████████████████████████████████████| 101/101 [00:06<00:00, 15.08it/s]\n"
     ]
    },
    {
     "name": "stdout",
     "output_type": "stream",
     "text": [
      "Generator Error Metric is 0.016134869307279587\n",
      "Time for epoch 8 is 6.698803663253784 sec\n",
      "Epoch: 9\n",
      "Learning rate: 0.0002\n"
     ]
    },
    {
     "name": "stderr",
     "output_type": "stream",
     "text": [
      "100%|█████████████████████████████████████████| 101/101 [00:06<00:00, 14.57it/s]\n"
     ]
    },
    {
     "name": "stdout",
     "output_type": "stream",
     "text": [
      "Generator Error Metric is 0.014883317984640598\n",
      "Time for epoch 9 is 6.932773113250732 sec\n",
      "Epoch: 10\n",
      "Learning rate: 0.0002\n"
     ]
    },
    {
     "name": "stderr",
     "output_type": "stream",
     "text": [
      "100%|█████████████████████████████████████████| 101/101 [00:06<00:00, 15.09it/s]\n"
     ]
    },
    {
     "name": "stdout",
     "output_type": "stream",
     "text": [
      "Generator Error Metric is 0.018401186913251877\n",
      "Time for epoch 10 is 6.69271993637085 sec\n",
      "Epoch: 11\n",
      "Learning rate: 0.0002\n"
     ]
    },
    {
     "name": "stderr",
     "output_type": "stream",
     "text": [
      "100%|█████████████████████████████████████████| 101/101 [00:06<00:00, 15.08it/s]\n"
     ]
    },
    {
     "name": "stdout",
     "output_type": "stream",
     "text": [
      "Generator Error Metric is 0.01743376813828945\n",
      "Time for epoch 11 is 6.697479009628296 sec\n",
      "Epoch: 12\n",
      "Learning rate: 0.0002\n"
     ]
    },
    {
     "name": "stderr",
     "output_type": "stream",
     "text": [
      "100%|█████████████████████████████████████████| 101/101 [00:07<00:00, 14.41it/s]\n"
     ]
    },
    {
     "name": "stdout",
     "output_type": "stream",
     "text": [
      "Generator Error Metric is 0.019518787041306496\n",
      "Time for epoch 12 is 7.008411645889282 sec\n",
      "Epoch: 13\n",
      "Learning rate: 0.0002\n"
     ]
    },
    {
     "name": "stderr",
     "output_type": "stream",
     "text": [
      "100%|█████████████████████████████████████████| 101/101 [00:06<00:00, 15.10it/s]\n"
     ]
    },
    {
     "name": "stdout",
     "output_type": "stream",
     "text": [
      "Generator Error Metric is 0.02396092377603054\n",
      "Time for epoch 13 is 6.688821077346802 sec\n",
      "Epoch: 14\n",
      "Learning rate: 0.0002\n"
     ]
    },
    {
     "name": "stderr",
     "output_type": "stream",
     "text": [
      "100%|█████████████████████████████████████████| 101/101 [00:06<00:00, 15.14it/s]\n"
     ]
    },
    {
     "name": "stdout",
     "output_type": "stream",
     "text": [
      "Generator Error Metric is 0.019884757697582245\n",
      "Time for epoch 14 is 6.674039840698242 sec\n",
      "Epoch: 15\n",
      "Learning rate: 0.0002\n"
     ]
    },
    {
     "name": "stderr",
     "output_type": "stream",
     "text": [
      "100%|█████████████████████████████████████████| 101/101 [00:06<00:00, 15.09it/s]\n"
     ]
    },
    {
     "name": "stdout",
     "output_type": "stream",
     "text": [
      "Generator Error Metric is 0.032987162470817566\n",
      "Time for epoch 15 is 6.6960248947143555 sec\n",
      "Epoch: 16\n",
      "Learning rate: 0.0002\n"
     ]
    },
    {
     "name": "stderr",
     "output_type": "stream",
     "text": [
      "100%|█████████████████████████████████████████| 101/101 [00:07<00:00, 14.25it/s]\n"
     ]
    },
    {
     "name": "stdout",
     "output_type": "stream",
     "text": [
      "Generator Error Metric is 0.024374553933739662\n",
      "Time for epoch 16 is 7.088501214981079 sec\n",
      "Epoch: 17\n",
      "Learning rate: 0.0002\n"
     ]
    },
    {
     "name": "stderr",
     "output_type": "stream",
     "text": [
      "100%|█████████████████████████████████████████| 101/101 [00:06<00:00, 15.07it/s]\n"
     ]
    },
    {
     "name": "stdout",
     "output_type": "stream",
     "text": [
      "Generator Error Metric is 0.024630557745695114\n",
      "Time for epoch 17 is 6.705268383026123 sec\n",
      "Epoch: 18\n",
      "Learning rate: 0.0002\n"
     ]
    },
    {
     "name": "stderr",
     "output_type": "stream",
     "text": [
      "100%|█████████████████████████████████████████| 101/101 [00:06<00:00, 15.07it/s]\n"
     ]
    },
    {
     "name": "stdout",
     "output_type": "stream",
     "text": [
      "Generator Error Metric is 0.03488209843635559\n",
      "Time for epoch 18 is 6.702519416809082 sec\n",
      "Epoch: 19\n",
      "Learning rate: 0.0002\n"
     ]
    },
    {
     "name": "stderr",
     "output_type": "stream",
     "text": [
      "100%|█████████████████████████████████████████| 101/101 [00:06<00:00, 14.89it/s]\n"
     ]
    },
    {
     "name": "stdout",
     "output_type": "stream",
     "text": [
      "Generator Error Metric is 0.0382828414440155\n",
      "Time for epoch 19 is 6.784284591674805 sec\n",
      "Epoch: 20\n",
      "Learning rate: 0.0002\n"
     ]
    },
    {
     "name": "stderr",
     "output_type": "stream",
     "text": [
      "100%|█████████████████████████████████████████| 101/101 [00:10<00:00,  9.51it/s]\n"
     ]
    },
    {
     "name": "stdout",
     "output_type": "stream",
     "text": [
      "Generator Error Metric is 0.03344520181417465\n",
      "Time for epoch 20 is 10.622244358062744 sec\n",
      "Epoch: 21\n",
      "Learning rate: 0.0002\n"
     ]
    },
    {
     "name": "stderr",
     "output_type": "stream",
     "text": [
      "100%|█████████████████████████████████████████| 101/101 [00:07<00:00, 13.78it/s]\n"
     ]
    },
    {
     "name": "stdout",
     "output_type": "stream",
     "text": [
      "Generator Error Metric is 0.02080533467233181\n",
      "Time for epoch 21 is 7.33091402053833 sec\n",
      "Epoch: 22\n",
      "Learning rate: 0.0002\n"
     ]
    },
    {
     "name": "stderr",
     "output_type": "stream",
     "text": [
      "100%|█████████████████████████████████████████| 101/101 [00:06<00:00, 14.86it/s]\n"
     ]
    },
    {
     "name": "stdout",
     "output_type": "stream",
     "text": [
      "Generator Error Metric is 0.022501790896058083\n",
      "Time for epoch 22 is 6.800839424133301 sec\n",
      "Epoch: 23\n",
      "Learning rate: 0.0002\n"
     ]
    },
    {
     "name": "stderr",
     "output_type": "stream",
     "text": [
      "100%|█████████████████████████████████████████| 101/101 [00:06<00:00, 14.86it/s]\n"
     ]
    },
    {
     "name": "stdout",
     "output_type": "stream",
     "text": [
      "Generator Error Metric is 0.02662109211087227\n",
      "Time for epoch 23 is 6.799045562744141 sec\n",
      "Epoch: 24\n",
      "Learning rate: 0.0002\n"
     ]
    },
    {
     "name": "stderr",
     "output_type": "stream",
     "text": [
      "100%|█████████████████████████████████████████| 101/101 [00:06<00:00, 14.82it/s]\n"
     ]
    },
    {
     "name": "stdout",
     "output_type": "stream",
     "text": [
      "Generator Error Metric is 0.02418684959411621\n",
      "Time for epoch 24 is 6.81897497177124 sec\n",
      "Epoch: 25\n",
      "Learning rate: 0.0002\n"
     ]
    },
    {
     "name": "stderr",
     "output_type": "stream",
     "text": [
      "100%|█████████████████████████████████████████| 101/101 [00:06<00:00, 14.93it/s]\n"
     ]
    },
    {
     "name": "stdout",
     "output_type": "stream",
     "text": [
      "Generator Error Metric is 0.022763576358556747\n",
      "Time for epoch 25 is 6.764838933944702 sec\n",
      "Epoch: 26\n",
      "Learning rate: 0.0002\n"
     ]
    },
    {
     "name": "stderr",
     "output_type": "stream",
     "text": [
      "100%|█████████████████████████████████████████| 101/101 [00:07<00:00, 13.54it/s]\n"
     ]
    },
    {
     "name": "stdout",
     "output_type": "stream",
     "text": [
      "Generator Error Metric is 0.01930973120033741\n",
      "Time for epoch 26 is 7.4628989696502686 sec\n",
      "Epoch: 27\n",
      "Learning rate: 0.0002\n"
     ]
    },
    {
     "name": "stderr",
     "output_type": "stream",
     "text": [
      "100%|█████████████████████████████████████████| 101/101 [00:06<00:00, 15.00it/s]\n"
     ]
    },
    {
     "name": "stdout",
     "output_type": "stream",
     "text": [
      "Generator Error Metric is 0.017555469647049904\n",
      "Time for epoch 27 is 6.73502779006958 sec\n",
      "Epoch: 28\n",
      "Learning rate: 0.0002\n"
     ]
    },
    {
     "name": "stderr",
     "output_type": "stream",
     "text": [
      "100%|█████████████████████████████████████████| 101/101 [00:06<00:00, 14.86it/s]\n"
     ]
    },
    {
     "name": "stdout",
     "output_type": "stream",
     "text": [
      "Generator Error Metric is 0.02393818460404873\n",
      "Time for epoch 28 is 6.7969677448272705 sec\n",
      "Epoch: 29\n",
      "Learning rate: 0.0002\n"
     ]
    },
    {
     "name": "stderr",
     "output_type": "stream",
     "text": [
      "100%|█████████████████████████████████████████| 101/101 [00:06<00:00, 14.84it/s]\n"
     ]
    },
    {
     "name": "stdout",
     "output_type": "stream",
     "text": [
      "Generator Error Metric is 0.029644375666975975\n",
      "Time for epoch 29 is 6.808420896530151 sec\n",
      "Epoch: 30\n",
      "Learning rate: 0.0002\n"
     ]
    },
    {
     "name": "stderr",
     "output_type": "stream",
     "text": [
      "100%|█████████████████████████████████████████| 101/101 [00:06<00:00, 14.98it/s]\n"
     ]
    },
    {
     "name": "stdout",
     "output_type": "stream",
     "text": [
      "Generator Error Metric is 0.021057307720184326\n",
      "Time for epoch 30 is 6.746544599533081 sec\n",
      "Epoch: 31\n",
      "Learning rate: 0.0002\n"
     ]
    },
    {
     "name": "stderr",
     "output_type": "stream",
     "text": [
      "100%|█████████████████████████████████████████| 101/101 [00:06<00:00, 15.03it/s]\n"
     ]
    },
    {
     "name": "stdout",
     "output_type": "stream",
     "text": [
      "Generator Error Metric is 0.02953845076262951\n",
      "Time for epoch 31 is 6.721797227859497 sec\n",
      "Epoch: 32\n",
      "Learning rate: 0.0002\n"
     ]
    },
    {
     "name": "stderr",
     "output_type": "stream",
     "text": [
      "100%|█████████████████████████████████████████| 101/101 [00:06<00:00, 15.01it/s]\n"
     ]
    },
    {
     "name": "stdout",
     "output_type": "stream",
     "text": [
      "Generator Error Metric is 0.01389327086508274\n",
      "Time for epoch 32 is 6.730947971343994 sec\n",
      "Epoch: 33\n",
      "Learning rate: 0.0002\n"
     ]
    },
    {
     "name": "stderr",
     "output_type": "stream",
     "text": [
      "100%|█████████████████████████████████████████| 101/101 [00:07<00:00, 13.36it/s]\n"
     ]
    },
    {
     "name": "stdout",
     "output_type": "stream",
     "text": [
      "Generator Error Metric is 0.014596207067370415\n",
      "Time for epoch 33 is 7.560680627822876 sec\n",
      "Epoch: 34\n",
      "Learning rate: 0.0002\n"
     ]
    },
    {
     "name": "stderr",
     "output_type": "stream",
     "text": [
      "100%|█████████████████████████████████████████| 101/101 [00:06<00:00, 14.79it/s]\n"
     ]
    },
    {
     "name": "stdout",
     "output_type": "stream",
     "text": [
      "Generator Error Metric is 0.012811212800443172\n",
      "Time for epoch 34 is 6.831400394439697 sec\n",
      "Epoch: 35\n",
      "Learning rate: 0.0002\n"
     ]
    },
    {
     "name": "stderr",
     "output_type": "stream",
     "text": [
      "100%|█████████████████████████████████████████| 101/101 [00:06<00:00, 14.74it/s]\n"
     ]
    },
    {
     "name": "stdout",
     "output_type": "stream",
     "text": [
      "Generator Error Metric is 0.015929093584418297\n",
      "Time for epoch 35 is 6.856673240661621 sec\n",
      "Epoch: 36\n",
      "Learning rate: 0.0002\n"
     ]
    },
    {
     "name": "stderr",
     "output_type": "stream",
     "text": [
      "100%|█████████████████████████████████████████| 101/101 [00:11<00:00,  8.59it/s]\n"
     ]
    },
    {
     "name": "stdout",
     "output_type": "stream",
     "text": [
      "Generator Error Metric is 0.04214215278625488\n",
      "Time for epoch 36 is 11.766092300415039 sec\n",
      "Epoch: 37\n",
      "Learning rate: 0.0002\n"
     ]
    },
    {
     "name": "stderr",
     "output_type": "stream",
     "text": [
      "100%|█████████████████████████████████████████| 101/101 [00:12<00:00,  7.94it/s]\n"
     ]
    },
    {
     "name": "stdout",
     "output_type": "stream",
     "text": [
      "Generator Error Metric is 0.025782858952879906\n",
      "Time for epoch 37 is 12.723830223083496 sec\n",
      "Epoch: 38\n",
      "Learning rate: 0.0002\n"
     ]
    },
    {
     "name": "stderr",
     "output_type": "stream",
     "text": [
      "100%|█████████████████████████████████████████| 101/101 [00:12<00:00,  7.93it/s]\n"
     ]
    },
    {
     "name": "stdout",
     "output_type": "stream",
     "text": [
      "Generator Error Metric is 0.01712184213101864\n",
      "Time for epoch 38 is 12.740087747573853 sec\n",
      "Epoch: 39\n",
      "Learning rate: 0.0002\n"
     ]
    },
    {
     "name": "stderr",
     "output_type": "stream",
     "text": [
      "100%|█████████████████████████████████████████| 101/101 [00:11<00:00,  9.11it/s]\n"
     ]
    },
    {
     "name": "stdout",
     "output_type": "stream",
     "text": [
      "Generator Error Metric is 0.0134537722915411\n",
      "Time for epoch 39 is 11.084240913391113 sec\n",
      "Epoch: 40\n",
      "Learning rate: 0.0002\n"
     ]
    },
    {
     "name": "stderr",
     "output_type": "stream",
     "text": [
      "100%|█████████████████████████████████████████| 101/101 [00:06<00:00, 15.19it/s]\n"
     ]
    },
    {
     "name": "stdout",
     "output_type": "stream",
     "text": [
      "Generator Error Metric is 0.012085706926882267\n",
      "Time for epoch 40 is 6.652585506439209 sec\n",
      "Epoch: 41\n",
      "Learning rate: 0.0002\n"
     ]
    },
    {
     "name": "stderr",
     "output_type": "stream",
     "text": [
      "100%|█████████████████████████████████████████| 101/101 [00:06<00:00, 15.19it/s]\n"
     ]
    },
    {
     "name": "stdout",
     "output_type": "stream",
     "text": [
      "Generator Error Metric is 0.013198981061577797\n",
      "Time for epoch 41 is 6.650345325469971 sec\n",
      "Epoch: 42\n",
      "Learning rate: 0.0002\n"
     ]
    },
    {
     "name": "stderr",
     "output_type": "stream",
     "text": [
      "100%|█████████████████████████████████████████| 101/101 [00:07<00:00, 13.15it/s]\n"
     ]
    },
    {
     "name": "stdout",
     "output_type": "stream",
     "text": [
      "Generator Error Metric is 0.01772620901465416\n",
      "Time for epoch 42 is 7.685575723648071 sec\n",
      "Epoch: 43\n",
      "Learning rate: 0.0002\n"
     ]
    },
    {
     "name": "stderr",
     "output_type": "stream",
     "text": [
      "100%|█████████████████████████████████████████| 101/101 [00:06<00:00, 15.18it/s]\n"
     ]
    },
    {
     "name": "stdout",
     "output_type": "stream",
     "text": [
      "Generator Error Metric is 0.016042212024331093\n",
      "Time for epoch 43 is 6.654555320739746 sec\n",
      "Epoch: 44\n",
      "Learning rate: 0.0002\n"
     ]
    },
    {
     "name": "stderr",
     "output_type": "stream",
     "text": [
      "100%|█████████████████████████████████████████| 101/101 [00:06<00:00, 15.16it/s]\n"
     ]
    },
    {
     "name": "stdout",
     "output_type": "stream",
     "text": [
      "Generator Error Metric is 0.01083175465464592\n",
      "Time for epoch 44 is 6.6663196086883545 sec\n",
      "Epoch: 45\n",
      "Learning rate: 0.0002\n"
     ]
    },
    {
     "name": "stderr",
     "output_type": "stream",
     "text": [
      "100%|█████████████████████████████████████████| 101/101 [00:06<00:00, 15.15it/s]\n"
     ]
    },
    {
     "name": "stdout",
     "output_type": "stream",
     "text": [
      "Generator Error Metric is 0.008185287937521935\n",
      "Time for epoch 45 is 9.117328405380249 sec\n",
      "Epoch: 46\n",
      "Learning rate: 0.0002\n"
     ]
    },
    {
     "name": "stderr",
     "output_type": "stream",
     "text": [
      "100%|█████████████████████████████████████████| 101/101 [00:12<00:00,  7.91it/s]\n"
     ]
    },
    {
     "name": "stdout",
     "output_type": "stream",
     "text": [
      "Generator Error Metric is 0.010082878172397614\n",
      "Time for epoch 46 is 12.76712417602539 sec\n",
      "Epoch: 47\n",
      "Learning rate: 0.0002\n"
     ]
    },
    {
     "name": "stderr",
     "output_type": "stream",
     "text": [
      "100%|█████████████████████████████████████████| 101/101 [00:12<00:00,  7.91it/s]\n"
     ]
    },
    {
     "name": "stdout",
     "output_type": "stream",
     "text": [
      "Generator Error Metric is 0.01177138090133667\n",
      "Time for epoch 47 is 12.7686128616333 sec\n",
      "Epoch: 48\n",
      "Learning rate: 0.0002\n"
     ]
    },
    {
     "name": "stderr",
     "output_type": "stream",
     "text": [
      "100%|█████████████████████████████████████████| 101/101 [00:12<00:00,  7.87it/s]\n"
     ]
    },
    {
     "name": "stdout",
     "output_type": "stream",
     "text": [
      "Generator Error Metric is 0.007267770357429981\n",
      "Time for epoch 48 is 15.31866979598999 sec\n",
      "Epoch: 49\n",
      "Learning rate: 0.0002\n"
     ]
    },
    {
     "name": "stderr",
     "output_type": "stream",
     "text": [
      "100%|█████████████████████████████████████████| 101/101 [00:12<00:00,  7.91it/s]\n"
     ]
    },
    {
     "name": "stdout",
     "output_type": "stream",
     "text": [
      "Generator Error Metric is 0.007589144166558981\n",
      "Time for epoch 49 is 12.77448558807373 sec\n",
      "Epoch: 50\n",
      "Learning rate: 0.0002\n"
     ]
    },
    {
     "name": "stderr",
     "output_type": "stream",
     "text": [
      "100%|█████████████████████████████████████████| 101/101 [00:12<00:00,  7.92it/s]\n"
     ]
    },
    {
     "name": "stdout",
     "output_type": "stream",
     "text": [
      "Generator Error Metric is 0.007959423586726189\n",
      "Time for epoch 50 is 12.751100778579712 sec\n",
      "Epoch: 51\n",
      "Learning rate: 0.0002\n"
     ]
    },
    {
     "name": "stderr",
     "output_type": "stream",
     "text": [
      "100%|█████████████████████████████████████████| 101/101 [00:12<00:00,  7.91it/s]\n"
     ]
    },
    {
     "name": "stdout",
     "output_type": "stream",
     "text": [
      "Generator Error Metric is 0.011707919649779797\n",
      "Time for epoch 51 is 12.76582646369934 sec\n",
      "Epoch: 52\n",
      "Learning rate: 0.0002\n"
     ]
    },
    {
     "name": "stderr",
     "output_type": "stream",
     "text": [
      "100%|█████████████████████████████████████████| 101/101 [00:14<00:00,  7.13it/s]\n"
     ]
    },
    {
     "name": "stdout",
     "output_type": "stream",
     "text": [
      "Generator Error Metric is 0.013470685109496117\n",
      "Time for epoch 52 is 14.168124675750732 sec\n",
      "Epoch: 53\n",
      "Learning rate: 0.0002\n"
     ]
    },
    {
     "name": "stderr",
     "output_type": "stream",
     "text": [
      "100%|█████████████████████████████████████████| 101/101 [00:12<00:00,  7.91it/s]\n"
     ]
    },
    {
     "name": "stdout",
     "output_type": "stream",
     "text": [
      "Generator Error Metric is 0.007780133280903101\n",
      "Time for epoch 53 is 12.773372650146484 sec\n",
      "Epoch: 54\n",
      "Learning rate: 0.0002\n"
     ]
    },
    {
     "name": "stderr",
     "output_type": "stream",
     "text": [
      "100%|█████████████████████████████████████████| 101/101 [00:12<00:00,  7.93it/s]\n"
     ]
    },
    {
     "name": "stdout",
     "output_type": "stream",
     "text": [
      "Generator Error Metric is 0.005832227878272533\n",
      "Time for epoch 54 is 15.231378078460693 sec\n",
      "Epoch: 55\n",
      "Learning rate: 0.0002\n"
     ]
    },
    {
     "name": "stderr",
     "output_type": "stream",
     "text": [
      "100%|█████████████████████████████████████████| 101/101 [00:12<00:00,  7.89it/s]\n"
     ]
    },
    {
     "name": "stdout",
     "output_type": "stream",
     "text": [
      "Generator Error Metric is 0.006990805268287659\n",
      "Time for epoch 55 is 12.805352926254272 sec\n",
      "Epoch: 56\n",
      "Learning rate: 0.0002\n"
     ]
    },
    {
     "name": "stderr",
     "output_type": "stream",
     "text": [
      "100%|█████████████████████████████████████████| 101/101 [00:12<00:00,  7.89it/s]\n"
     ]
    },
    {
     "name": "stdout",
     "output_type": "stream",
     "text": [
      "Generator Error Metric is 0.007822754792869091\n",
      "Time for epoch 56 is 12.809746742248535 sec\n",
      "Epoch: 57\n",
      "Learning rate: 0.0002\n"
     ]
    },
    {
     "name": "stderr",
     "output_type": "stream",
     "text": [
      "100%|█████████████████████████████████████████| 101/101 [00:12<00:00,  7.91it/s]\n"
     ]
    },
    {
     "name": "stdout",
     "output_type": "stream",
     "text": [
      "Generator Error Metric is 0.008763889782130718\n",
      "Time for epoch 57 is 12.772667169570923 sec\n",
      "Epoch: 58\n",
      "Learning rate: 0.0002\n"
     ]
    },
    {
     "name": "stderr",
     "output_type": "stream",
     "text": [
      "100%|█████████████████████████████████████████| 101/101 [00:12<00:00,  7.90it/s]\n"
     ]
    },
    {
     "name": "stdout",
     "output_type": "stream",
     "text": [
      "Generator Error Metric is 0.007306187879294157\n",
      "Time for epoch 58 is 12.779612064361572 sec\n",
      "Epoch: 59\n",
      "Learning rate: 0.0002\n"
     ]
    },
    {
     "name": "stderr",
     "output_type": "stream",
     "text": [
      "100%|█████████████████████████████████████████| 101/101 [00:12<00:00,  7.91it/s]\n"
     ]
    },
    {
     "name": "stdout",
     "output_type": "stream",
     "text": [
      "Generator Error Metric is 0.007699878886342049\n",
      "Time for epoch 59 is 12.775677919387817 sec\n",
      "Epoch: 60\n",
      "Learning rate: 0.0002\n"
     ]
    },
    {
     "name": "stderr",
     "output_type": "stream",
     "text": [
      "100%|█████████████████████████████████████████| 101/101 [00:12<00:00,  7.90it/s]\n"
     ]
    },
    {
     "name": "stdout",
     "output_type": "stream",
     "text": [
      "Generator Error Metric is 0.004488075617700815\n",
      "Time for epoch 60 is 15.265308856964111 sec\n",
      "Epoch: 61\n",
      "Learning rate: 0.0002\n"
     ]
    },
    {
     "name": "stderr",
     "output_type": "stream",
     "text": [
      "100%|█████████████████████████████████████████| 101/101 [00:12<00:00,  7.89it/s]\n"
     ]
    },
    {
     "name": "stdout",
     "output_type": "stream",
     "text": [
      "Generator Error Metric is 0.004535211715847254\n",
      "Time for epoch 61 is 12.804465770721436 sec\n",
      "Epoch: 62\n",
      "Learning rate: 0.0002\n"
     ]
    },
    {
     "name": "stderr",
     "output_type": "stream",
     "text": [
      "100%|█████████████████████████████████████████| 101/101 [00:12<00:00,  8.16it/s]\n"
     ]
    },
    {
     "name": "stdout",
     "output_type": "stream",
     "text": [
      "Generator Error Metric is 0.021629324182868004\n",
      "Time for epoch 62 is 12.372535705566406 sec\n",
      "Epoch: 63\n",
      "Learning rate: 0.0002\n"
     ]
    },
    {
     "name": "stderr",
     "output_type": "stream",
     "text": [
      "100%|█████████████████████████████████████████| 101/101 [00:06<00:00, 14.61it/s]\n"
     ]
    },
    {
     "name": "stdout",
     "output_type": "stream",
     "text": [
      "Generator Error Metric is 0.012186011299490929\n",
      "Time for epoch 63 is 6.9135050773620605 sec\n",
      "Epoch: 64\n",
      "Learning rate: 0.0002\n"
     ]
    },
    {
     "name": "stderr",
     "output_type": "stream",
     "text": [
      "100%|█████████████████████████████████████████| 101/101 [00:06<00:00, 14.64it/s]\n"
     ]
    },
    {
     "name": "stdout",
     "output_type": "stream",
     "text": [
      "Generator Error Metric is 0.00642979983240366\n",
      "Time for epoch 64 is 6.9021477699279785 sec\n",
      "Epoch: 65\n",
      "Learning rate: 0.0002\n"
     ]
    },
    {
     "name": "stderr",
     "output_type": "stream",
     "text": [
      "100%|█████████████████████████████████████████| 101/101 [00:06<00:00, 14.59it/s]\n"
     ]
    },
    {
     "name": "stdout",
     "output_type": "stream",
     "text": [
      "Generator Error Metric is 0.004546306561678648\n",
      "Time for epoch 65 is 6.926630973815918 sec\n",
      "Epoch: 66\n",
      "Learning rate: 0.0002\n"
     ]
    },
    {
     "name": "stderr",
     "output_type": "stream",
     "text": [
      "100%|█████████████████████████████████████████| 101/101 [00:08<00:00, 11.72it/s]\n"
     ]
    },
    {
     "name": "stdout",
     "output_type": "stream",
     "text": [
      "Generator Error Metric is 0.00764343561604619\n",
      "Time for epoch 66 is 8.622480154037476 sec\n",
      "Epoch: 67\n",
      "Learning rate: 0.0002\n"
     ]
    },
    {
     "name": "stderr",
     "output_type": "stream",
     "text": [
      "100%|█████████████████████████████████████████| 101/101 [00:06<00:00, 14.63it/s]\n"
     ]
    },
    {
     "name": "stdout",
     "output_type": "stream",
     "text": [
      "Generator Error Metric is 0.007949118502438068\n",
      "Time for epoch 67 is 6.903636932373047 sec\n",
      "Epoch: 68\n",
      "Learning rate: 0.0002\n"
     ]
    },
    {
     "name": "stderr",
     "output_type": "stream",
     "text": [
      "100%|█████████████████████████████████████████| 101/101 [00:06<00:00, 14.62it/s]\n"
     ]
    },
    {
     "name": "stdout",
     "output_type": "stream",
     "text": [
      "Generator Error Metric is 0.004949660040438175\n",
      "Time for epoch 68 is 6.909839153289795 sec\n",
      "Epoch: 69\n",
      "Learning rate: 0.0002\n"
     ]
    },
    {
     "name": "stderr",
     "output_type": "stream",
     "text": [
      "100%|█████████████████████████████████████████| 101/101 [00:06<00:00, 14.82it/s]\n"
     ]
    },
    {
     "name": "stdout",
     "output_type": "stream",
     "text": [
      "Generator Error Metric is 0.004338512662798166\n",
      "Time for epoch 69 is 9.229749202728271 sec\n",
      "Epoch: 70\n",
      "Learning rate: 0.0002\n"
     ]
    },
    {
     "name": "stderr",
     "output_type": "stream",
     "text": [
      "100%|█████████████████████████████████████████| 101/101 [00:12<00:00,  7.87it/s]\n"
     ]
    },
    {
     "name": "stdout",
     "output_type": "stream",
     "text": [
      "Generator Error Metric is 0.0033216304145753384\n",
      "Time for epoch 70 is 15.28365445137024 sec\n",
      "Epoch: 71\n",
      "Learning rate: 0.0002\n"
     ]
    },
    {
     "name": "stderr",
     "output_type": "stream",
     "text": [
      "100%|█████████████████████████████████████████| 101/101 [00:06<00:00, 15.13it/s]\n"
     ]
    },
    {
     "name": "stdout",
     "output_type": "stream",
     "text": [
      "Generator Error Metric is 0.003446755697950721\n",
      "Time for epoch 71 is 6.679993629455566 sec\n",
      "Epoch: 72\n",
      "Learning rate: 0.0002\n"
     ]
    },
    {
     "name": "stderr",
     "output_type": "stream",
     "text": [
      "100%|█████████████████████████████████████████| 101/101 [00:06<00:00, 15.01it/s]\n"
     ]
    },
    {
     "name": "stdout",
     "output_type": "stream",
     "text": [
      "Generator Error Metric is 0.0045375097543001175\n",
      "Time for epoch 72 is 6.731562852859497 sec\n",
      "Epoch: 73\n",
      "Learning rate: 0.0002\n"
     ]
    },
    {
     "name": "stderr",
     "output_type": "stream",
     "text": [
      "100%|█████████████████████████████████████████| 101/101 [00:06<00:00, 14.84it/s]\n"
     ]
    },
    {
     "name": "stdout",
     "output_type": "stream",
     "text": [
      "Generator Error Metric is 0.004841546528041363\n",
      "Time for epoch 73 is 6.810089349746704 sec\n",
      "Epoch: 74\n",
      "Learning rate: 0.0002\n"
     ]
    },
    {
     "name": "stderr",
     "output_type": "stream",
     "text": [
      "100%|█████████████████████████████████████████| 101/101 [00:06<00:00, 14.82it/s]\n"
     ]
    },
    {
     "name": "stdout",
     "output_type": "stream",
     "text": [
      "Generator Error Metric is 0.004233413841575384\n",
      "Time for epoch 74 is 6.816088914871216 sec\n",
      "Epoch: 75\n",
      "Learning rate: 0.0002\n"
     ]
    },
    {
     "name": "stderr",
     "output_type": "stream",
     "text": [
      "100%|█████████████████████████████████████████| 101/101 [00:06<00:00, 14.91it/s]\n"
     ]
    },
    {
     "name": "stdout",
     "output_type": "stream",
     "text": [
      "Generator Error Metric is 0.004144236445426941\n",
      "Time for epoch 75 is 6.775100231170654 sec\n",
      "Epoch: 76\n",
      "Learning rate: 0.0002\n"
     ]
    },
    {
     "name": "stderr",
     "output_type": "stream",
     "text": [
      "100%|█████████████████████████████████████████| 101/101 [00:06<00:00, 14.59it/s]\n"
     ]
    },
    {
     "name": "stdout",
     "output_type": "stream",
     "text": [
      "Generator Error Metric is 0.004508645739406347\n",
      "Time for epoch 76 is 6.922789573669434 sec\n",
      "Epoch: 77\n",
      "Learning rate: 0.0002\n"
     ]
    },
    {
     "name": "stderr",
     "output_type": "stream",
     "text": [
      "100%|█████████████████████████████████████████| 101/101 [00:06<00:00, 14.62it/s]\n"
     ]
    },
    {
     "name": "stdout",
     "output_type": "stream",
     "text": [
      "Generator Error Metric is 0.009510627016425133\n",
      "Time for epoch 77 is 6.908746957778931 sec\n",
      "Epoch: 78\n",
      "Learning rate: 0.0002\n"
     ]
    },
    {
     "name": "stderr",
     "output_type": "stream",
     "text": [
      "100%|█████████████████████████████████████████| 101/101 [00:06<00:00, 14.62it/s]\n"
     ]
    },
    {
     "name": "stdout",
     "output_type": "stream",
     "text": [
      "Generator Error Metric is 0.006935943383723497\n",
      "Time for epoch 78 is 6.911369562149048 sec\n",
      "Epoch: 79\n",
      "Learning rate: 0.0002\n"
     ]
    },
    {
     "name": "stderr",
     "output_type": "stream",
     "text": [
      "100%|█████████████████████████████████████████| 101/101 [00:06<00:00, 14.57it/s]\n"
     ]
    },
    {
     "name": "stdout",
     "output_type": "stream",
     "text": [
      "Generator Error Metric is 0.004639400634914637\n",
      "Time for epoch 79 is 6.932569742202759 sec\n",
      "Epoch: 80\n",
      "Learning rate: 0.0002\n"
     ]
    },
    {
     "name": "stderr",
     "output_type": "stream",
     "text": [
      "100%|█████████████████████████████████████████| 101/101 [00:06<00:00, 14.62it/s]\n"
     ]
    },
    {
     "name": "stdout",
     "output_type": "stream",
     "text": [
      "Generator Error Metric is 0.004604708403348923\n",
      "Time for epoch 80 is 6.909457206726074 sec\n",
      "Epoch: 81\n",
      "Learning rate: 0.0002\n"
     ]
    },
    {
     "name": "stderr",
     "output_type": "stream",
     "text": [
      "100%|█████████████████████████████████████████| 101/101 [00:06<00:00, 14.59it/s]\n"
     ]
    },
    {
     "name": "stdout",
     "output_type": "stream",
     "text": [
      "Generator Error Metric is 0.0030794693157076836\n",
      "Time for epoch 81 is 9.31309962272644 sec\n",
      "Epoch: 82\n",
      "Learning rate: 0.0002\n"
     ]
    },
    {
     "name": "stderr",
     "output_type": "stream",
     "text": [
      "100%|█████████████████████████████████████████| 101/101 [00:15<00:00,  6.67it/s]\n"
     ]
    },
    {
     "name": "stdout",
     "output_type": "stream",
     "text": [
      "Generator Error Metric is 0.004013816360384226\n",
      "Time for epoch 82 is 15.148324966430664 sec\n",
      "Epoch: 83\n",
      "Learning rate: 0.0002\n"
     ]
    },
    {
     "name": "stderr",
     "output_type": "stream",
     "text": [
      "100%|█████████████████████████████████████████| 101/101 [00:12<00:00,  7.86it/s]\n"
     ]
    },
    {
     "name": "stdout",
     "output_type": "stream",
     "text": [
      "Generator Error Metric is 0.0030421956907957792\n",
      "Time for epoch 83 is 15.3054780960083 sec\n",
      "Epoch: 84\n",
      "Learning rate: 0.0002\n"
     ]
    },
    {
     "name": "stderr",
     "output_type": "stream",
     "text": [
      "100%|█████████████████████████████████████████| 101/101 [00:06<00:00, 14.56it/s]\n"
     ]
    },
    {
     "name": "stdout",
     "output_type": "stream",
     "text": [
      "Generator Error Metric is 0.003229546593502164\n",
      "Time for epoch 84 is 6.942809820175171 sec\n",
      "Epoch: 85\n",
      "Learning rate: 0.0002\n"
     ]
    },
    {
     "name": "stderr",
     "output_type": "stream",
     "text": [
      "100%|█████████████████████████████████████████| 101/101 [00:06<00:00, 14.65it/s]\n"
     ]
    },
    {
     "name": "stdout",
     "output_type": "stream",
     "text": [
      "Generator Error Metric is 0.0040118396282196045\n",
      "Time for epoch 85 is 6.898511648178101 sec\n",
      "Epoch: 86\n",
      "Learning rate: 0.0002\n"
     ]
    },
    {
     "name": "stderr",
     "output_type": "stream",
     "text": [
      "100%|█████████████████████████████████████████| 101/101 [00:06<00:00, 14.58it/s]\n"
     ]
    },
    {
     "name": "stdout",
     "output_type": "stream",
     "text": [
      "Generator Error Metric is 0.0029658046551048756\n",
      "Time for epoch 86 is 9.316609144210815 sec\n",
      "Epoch: 87\n",
      "Learning rate: 0.0002\n"
     ]
    },
    {
     "name": "stderr",
     "output_type": "stream",
     "text": [
      "100%|█████████████████████████████████████████| 101/101 [00:12<00:00,  7.85it/s]\n"
     ]
    },
    {
     "name": "stdout",
     "output_type": "stream",
     "text": [
      "Generator Error Metric is 0.004472912289202213\n",
      "Time for epoch 87 is 12.87968373298645 sec\n",
      "Epoch: 88\n",
      "Learning rate: 0.0002\n"
     ]
    },
    {
     "name": "stderr",
     "output_type": "stream",
     "text": [
      "100%|█████████████████████████████████████████| 101/101 [00:12<00:00,  7.85it/s]\n"
     ]
    },
    {
     "name": "stdout",
     "output_type": "stream",
     "text": [
      "Generator Error Metric is 0.0041837734170258045\n",
      "Time for epoch 88 is 12.871922254562378 sec\n",
      "Epoch: 89\n",
      "Learning rate: 0.0002\n"
     ]
    },
    {
     "name": "stderr",
     "output_type": "stream",
     "text": [
      "100%|█████████████████████████████████████████| 101/101 [00:12<00:00,  7.86it/s]\n"
     ]
    },
    {
     "name": "stdout",
     "output_type": "stream",
     "text": [
      "Generator Error Metric is 0.0032900532241910696\n",
      "Time for epoch 89 is 12.853281021118164 sec\n",
      "Epoch: 90\n",
      "Learning rate: 0.0002\n"
     ]
    },
    {
     "name": "stderr",
     "output_type": "stream",
     "text": [
      "100%|█████████████████████████████████████████| 101/101 [00:12<00:00,  7.85it/s]\n"
     ]
    },
    {
     "name": "stdout",
     "output_type": "stream",
     "text": [
      "Generator Error Metric is 0.0029279571026563644\n",
      "Time for epoch 90 is 15.33256220817566 sec\n",
      "Epoch: 91\n",
      "Learning rate: 0.0002\n"
     ]
    },
    {
     "name": "stderr",
     "output_type": "stream",
     "text": [
      "100%|█████████████████████████████████████████| 101/101 [00:12<00:00,  7.85it/s]\n"
     ]
    },
    {
     "name": "stdout",
     "output_type": "stream",
     "text": [
      "Generator Error Metric is 0.0017586194444447756\n",
      "Time for epoch 91 is 15.326416254043579 sec\n",
      "Epoch: 92\n",
      "Learning rate: 0.0002\n"
     ]
    },
    {
     "name": "stderr",
     "output_type": "stream",
     "text": [
      "100%|█████████████████████████████████████████| 101/101 [00:06<00:00, 14.70it/s]\n"
     ]
    },
    {
     "name": "stdout",
     "output_type": "stream",
     "text": [
      "Generator Error Metric is 0.001625255448743701\n",
      "Time for epoch 92 is 9.285589218139648 sec\n",
      "Epoch: 93\n",
      "Learning rate: 0.0002\n"
     ]
    },
    {
     "name": "stderr",
     "output_type": "stream",
     "text": [
      "100%|█████████████████████████████████████████| 101/101 [00:12<00:00,  7.84it/s]\n"
     ]
    },
    {
     "name": "stdout",
     "output_type": "stream",
     "text": [
      "Generator Error Metric is 0.002286658389493823\n",
      "Time for epoch 93 is 12.889726638793945 sec\n",
      "Epoch: 94\n",
      "Learning rate: 0.0002\n"
     ]
    },
    {
     "name": "stderr",
     "output_type": "stream",
     "text": [
      "100%|█████████████████████████████████████████| 101/101 [00:12<00:00,  7.84it/s]\n"
     ]
    },
    {
     "name": "stdout",
     "output_type": "stream",
     "text": [
      "Generator Error Metric is 0.0021989450324326754\n",
      "Time for epoch 94 is 12.880571126937866 sec\n",
      "Epoch: 95\n",
      "Learning rate: 0.0002\n"
     ]
    },
    {
     "name": "stderr",
     "output_type": "stream",
     "text": [
      "100%|█████████████████████████████████████████| 101/101 [00:12<00:00,  7.84it/s]\n"
     ]
    },
    {
     "name": "stdout",
     "output_type": "stream",
     "text": [
      "Generator Error Metric is 0.0021521190647035837\n",
      "Time for epoch 95 is 12.890840530395508 sec\n",
      "Epoch: 96\n",
      "Learning rate: 0.0002\n"
     ]
    },
    {
     "name": "stderr",
     "output_type": "stream",
     "text": [
      "100%|█████████████████████████████████████████| 101/101 [00:12<00:00,  7.82it/s]\n"
     ]
    },
    {
     "name": "stdout",
     "output_type": "stream",
     "text": [
      "Generator Error Metric is 0.0016589367296546698\n",
      "Time for epoch 96 is 12.910614490509033 sec\n",
      "Epoch: 97\n",
      "Learning rate: 0.0002\n"
     ]
    },
    {
     "name": "stderr",
     "output_type": "stream",
     "text": [
      "100%|█████████████████████████████████████████| 101/101 [00:12<00:00,  7.83it/s]\n"
     ]
    },
    {
     "name": "stdout",
     "output_type": "stream",
     "text": [
      "Generator Error Metric is 0.00234226300381124\n",
      "Time for epoch 97 is 12.906491994857788 sec\n",
      "Epoch: 98\n",
      "Learning rate: 0.0002\n"
     ]
    },
    {
     "name": "stderr",
     "output_type": "stream",
     "text": [
      "100%|█████████████████████████████████████████| 101/101 [00:13<00:00,  7.75it/s]\n"
     ]
    },
    {
     "name": "stdout",
     "output_type": "stream",
     "text": [
      "Generator Error Metric is 0.002175704576075077\n",
      "Time for epoch 98 is 13.03578805923462 sec\n",
      "Epoch: 99\n",
      "Learning rate: 0.0002\n"
     ]
    },
    {
     "name": "stderr",
     "output_type": "stream",
     "text": [
      "100%|█████████████████████████████████████████| 101/101 [00:12<00:00,  7.86it/s]\n"
     ]
    },
    {
     "name": "stdout",
     "output_type": "stream",
     "text": [
      "Generator Error Metric is 0.0016585964476689696\n",
      "Time for epoch 99 is 12.860385656356812 sec\n",
      "Epoch: 100\n",
      "Learning rate: 0.0002\n"
     ]
    },
    {
     "name": "stderr",
     "output_type": "stream",
     "text": [
      "100%|█████████████████████████████████████████| 101/101 [00:12<00:00,  7.84it/s]\n"
     ]
    },
    {
     "name": "stdout",
     "output_type": "stream",
     "text": [
      "Generator Error Metric is 0.0026133281644433737\n",
      "Time for epoch 100 is 12.888060569763184 sec\n",
      "Epoch: 101\n",
      "Learning rate: 0.0002\n"
     ]
    },
    {
     "name": "stderr",
     "output_type": "stream",
     "text": [
      "100%|█████████████████████████████████████████| 101/101 [00:12<00:00,  7.82it/s]\n"
     ]
    },
    {
     "name": "stdout",
     "output_type": "stream",
     "text": [
      "Generator Error Metric is 0.0017723261844366789\n",
      "Time for epoch 101 is 12.922558546066284 sec\n",
      "Epoch: 102\n",
      "Learning rate: 0.0002\n"
     ]
    },
    {
     "name": "stderr",
     "output_type": "stream",
     "text": [
      "100%|█████████████████████████████████████████| 101/101 [00:15<00:00,  6.40it/s]\n"
     ]
    },
    {
     "name": "stdout",
     "output_type": "stream",
     "text": [
      "Generator Error Metric is 0.0017401096411049366\n",
      "Time for epoch 102 is 15.77916407585144 sec\n",
      "Epoch: 103\n",
      "Learning rate: 0.0002\n"
     ]
    },
    {
     "name": "stderr",
     "output_type": "stream",
     "text": [
      "100%|█████████████████████████████████████████| 101/101 [00:12<00:00,  7.85it/s]\n"
     ]
    },
    {
     "name": "stdout",
     "output_type": "stream",
     "text": [
      "Generator Error Metric is 0.0021060872822999954\n",
      "Time for epoch 103 is 12.864084959030151 sec\n",
      "Epoch: 104\n",
      "Learning rate: 0.0002\n"
     ]
    },
    {
     "name": "stderr",
     "output_type": "stream",
     "text": [
      "100%|█████████████████████████████████████████| 101/101 [00:12<00:00,  7.84it/s]\n"
     ]
    },
    {
     "name": "stdout",
     "output_type": "stream",
     "text": [
      "Generator Error Metric is 0.002114333678036928\n",
      "Time for epoch 104 is 12.88534951210022 sec\n",
      "Epoch: 105\n",
      "Learning rate: 0.0002\n"
     ]
    },
    {
     "name": "stderr",
     "output_type": "stream",
     "text": [
      "100%|█████████████████████████████████████████| 101/101 [00:12<00:00,  7.82it/s]\n"
     ]
    },
    {
     "name": "stdout",
     "output_type": "stream",
     "text": [
      "Generator Error Metric is 0.0021422640420496464\n",
      "Time for epoch 105 is 12.910417318344116 sec\n",
      "Epoch: 106\n",
      "Learning rate: 0.0002\n"
     ]
    },
    {
     "name": "stderr",
     "output_type": "stream",
     "text": [
      "100%|█████████████████████████████████████████| 101/101 [00:12<00:00,  7.83it/s]\n"
     ]
    },
    {
     "name": "stdout",
     "output_type": "stream",
     "text": [
      "Generator Error Metric is 0.0014498756499961019\n",
      "Time for epoch 106 is 15.35986876487732 sec\n",
      "Epoch: 107\n",
      "Learning rate: 0.0002\n"
     ]
    },
    {
     "name": "stderr",
     "output_type": "stream",
     "text": [
      "100%|█████████████████████████████████████████| 101/101 [00:06<00:00, 14.65it/s]\n"
     ]
    },
    {
     "name": "stdout",
     "output_type": "stream",
     "text": [
      "Generator Error Metric is 0.0015788791934028268\n",
      "Time for epoch 107 is 6.901478052139282 sec\n",
      "Epoch: 108\n",
      "Learning rate: 0.0002\n"
     ]
    },
    {
     "name": "stderr",
     "output_type": "stream",
     "text": [
      "100%|█████████████████████████████████████████| 101/101 [00:06<00:00, 14.64it/s]\n"
     ]
    },
    {
     "name": "stdout",
     "output_type": "stream",
     "text": [
      "Generator Error Metric is 0.0016058346955105662\n",
      "Time for epoch 108 is 6.89883828163147 sec\n",
      "Epoch: 109\n",
      "Learning rate: 0.0002\n"
     ]
    },
    {
     "name": "stderr",
     "output_type": "stream",
     "text": [
      "100%|█████████████████████████████████████████| 101/101 [00:06<00:00, 14.64it/s]\n"
     ]
    },
    {
     "name": "stdout",
     "output_type": "stream",
     "text": [
      "Generator Error Metric is 0.006803219206631184\n",
      "Time for epoch 109 is 6.90057373046875 sec\n",
      "Epoch: 110\n",
      "Learning rate: 0.0002\n"
     ]
    },
    {
     "name": "stderr",
     "output_type": "stream",
     "text": [
      "100%|█████████████████████████████████████████| 101/101 [00:06<00:00, 14.68it/s]\n"
     ]
    },
    {
     "name": "stdout",
     "output_type": "stream",
     "text": [
      "Generator Error Metric is 0.04123935103416443\n",
      "Time for epoch 110 is 6.883694171905518 sec\n",
      "Epoch: 111\n",
      "Learning rate: 0.0002\n"
     ]
    },
    {
     "name": "stderr",
     "output_type": "stream",
     "text": [
      "100%|█████████████████████████████████████████| 101/101 [00:06<00:00, 14.65it/s]\n"
     ]
    },
    {
     "name": "stdout",
     "output_type": "stream",
     "text": [
      "Generator Error Metric is 0.033542171120643616\n",
      "Time for epoch 111 is 6.896904945373535 sec\n",
      "Epoch: 112\n",
      "Learning rate: 0.0002\n"
     ]
    },
    {
     "name": "stderr",
     "output_type": "stream",
     "text": [
      "100%|█████████████████████████████████████████| 101/101 [00:06<00:00, 14.65it/s]\n"
     ]
    },
    {
     "name": "stdout",
     "output_type": "stream",
     "text": [
      "Generator Error Metric is 0.007115756161510944\n",
      "Time for epoch 112 is 6.898318767547607 sec\n",
      "Epoch: 113\n",
      "Learning rate: 0.0002\n"
     ]
    },
    {
     "name": "stderr",
     "output_type": "stream",
     "text": [
      "100%|█████████████████████████████████████████| 101/101 [00:06<00:00, 14.51it/s]\n"
     ]
    },
    {
     "name": "stdout",
     "output_type": "stream",
     "text": [
      "Generator Error Metric is 0.005612063221633434\n",
      "Time for epoch 113 is 6.963424205780029 sec\n",
      "Epoch: 114\n",
      "Learning rate: 0.0002\n"
     ]
    },
    {
     "name": "stderr",
     "output_type": "stream",
     "text": [
      "100%|█████████████████████████████████████████| 101/101 [00:06<00:00, 14.51it/s]\n"
     ]
    },
    {
     "name": "stdout",
     "output_type": "stream",
     "text": [
      "Generator Error Metric is 0.01656154915690422\n",
      "Time for epoch 114 is 6.960665464401245 sec\n",
      "Epoch: 115\n",
      "Learning rate: 0.0002\n"
     ]
    },
    {
     "name": "stderr",
     "output_type": "stream",
     "text": [
      "100%|█████████████████████████████████████████| 101/101 [00:06<00:00, 14.48it/s]\n"
     ]
    },
    {
     "name": "stdout",
     "output_type": "stream",
     "text": [
      "Generator Error Metric is 0.006079202517867088\n",
      "Time for epoch 115 is 6.975350379943848 sec\n",
      "Epoch: 116\n",
      "Learning rate: 0.0002\n"
     ]
    },
    {
     "name": "stderr",
     "output_type": "stream",
     "text": [
      "100%|█████████████████████████████████████████| 101/101 [00:06<00:00, 14.51it/s]\n"
     ]
    },
    {
     "name": "stdout",
     "output_type": "stream",
     "text": [
      "Generator Error Metric is 0.0037840872537344694\n",
      "Time for epoch 116 is 6.961412191390991 sec\n",
      "Epoch: 117\n",
      "Learning rate: 0.0002\n"
     ]
    },
    {
     "name": "stderr",
     "output_type": "stream",
     "text": [
      "100%|█████████████████████████████████████████| 101/101 [00:11<00:00,  8.83it/s]\n"
     ]
    },
    {
     "name": "stdout",
     "output_type": "stream",
     "text": [
      "Generator Error Metric is 0.0035726120695471764\n",
      "Time for epoch 117 is 11.436516761779785 sec\n",
      "Epoch: 118\n",
      "Learning rate: 0.0002\n"
     ]
    },
    {
     "name": "stderr",
     "output_type": "stream",
     "text": [
      "100%|█████████████████████████████████████████| 101/101 [00:12<00:00,  7.82it/s]\n"
     ]
    },
    {
     "name": "stdout",
     "output_type": "stream",
     "text": [
      "Generator Error Metric is 0.0022187933791428804\n",
      "Time for epoch 118 is 12.915848731994629 sec\n",
      "Epoch: 119\n",
      "Learning rate: 0.0002\n"
     ]
    },
    {
     "name": "stderr",
     "output_type": "stream",
     "text": [
      "100%|█████████████████████████████████████████| 101/101 [00:12<00:00,  7.82it/s]\n"
     ]
    },
    {
     "name": "stdout",
     "output_type": "stream",
     "text": [
      "Generator Error Metric is 0.0020743729546666145\n",
      "Time for epoch 119 is 12.91734528541565 sec\n",
      "Epoch: 120\n",
      "Learning rate: 0.0002\n"
     ]
    },
    {
     "name": "stderr",
     "output_type": "stream",
     "text": [
      "100%|█████████████████████████████████████████| 101/101 [00:12<00:00,  7.83it/s]\n"
     ]
    },
    {
     "name": "stdout",
     "output_type": "stream",
     "text": [
      "Generator Error Metric is 0.0022731684148311615\n",
      "Time for epoch 120 is 12.903423070907593 sec\n",
      "Epoch: 121\n",
      "Learning rate: 0.0002\n"
     ]
    },
    {
     "name": "stderr",
     "output_type": "stream",
     "text": [
      "100%|█████████████████████████████████████████| 101/101 [00:12<00:00,  7.82it/s]\n"
     ]
    },
    {
     "name": "stdout",
     "output_type": "stream",
     "text": [
      "Generator Error Metric is 0.0023274505510926247\n",
      "Time for epoch 121 is 12.92054271697998 sec\n",
      "Epoch: 122\n",
      "Learning rate: 0.0002\n"
     ]
    },
    {
     "name": "stderr",
     "output_type": "stream",
     "text": [
      "100%|█████████████████████████████████████████| 101/101 [00:12<00:00,  7.81it/s]\n"
     ]
    },
    {
     "name": "stdout",
     "output_type": "stream",
     "text": [
      "Generator Error Metric is 0.0023103421553969383\n",
      "Time for epoch 122 is 12.926334857940674 sec\n",
      "Epoch: 123\n",
      "Learning rate: 0.0002\n"
     ]
    },
    {
     "name": "stderr",
     "output_type": "stream",
     "text": [
      "100%|█████████████████████████████████████████| 101/101 [00:12<00:00,  7.81it/s]\n"
     ]
    },
    {
     "name": "stdout",
     "output_type": "stream",
     "text": [
      "Generator Error Metric is 0.0026703807525336742\n",
      "Time for epoch 123 is 12.933996200561523 sec\n",
      "Epoch: 124\n",
      "Learning rate: 0.0002\n"
     ]
    },
    {
     "name": "stderr",
     "output_type": "stream",
     "text": [
      "100%|█████████████████████████████████████████| 101/101 [00:09<00:00, 10.20it/s]\n"
     ]
    },
    {
     "name": "stdout",
     "output_type": "stream",
     "text": [
      "Generator Error Metric is 0.0031236482318490744\n",
      "Time for epoch 124 is 9.90513277053833 sec\n",
      "Epoch: 125\n",
      "Learning rate: 0.0002\n"
     ]
    },
    {
     "name": "stderr",
     "output_type": "stream",
     "text": [
      "100%|█████████████████████████████████████████| 101/101 [00:06<00:00, 15.05it/s]\n"
     ]
    },
    {
     "name": "stdout",
     "output_type": "stream",
     "text": [
      "Generator Error Metric is 0.0020110614132136106\n",
      "Time for epoch 125 is 6.7117955684661865 sec\n",
      "Epoch: 126\n",
      "Learning rate: 0.0002\n"
     ]
    },
    {
     "name": "stderr",
     "output_type": "stream",
     "text": [
      "100%|█████████████████████████████████████████| 101/101 [00:10<00:00, 10.01it/s]\n"
     ]
    },
    {
     "name": "stdout",
     "output_type": "stream",
     "text": [
      "Generator Error Metric is 0.00145535240881145\n",
      "Time for epoch 126 is 10.090348482131958 sec\n",
      "Epoch: 127\n",
      "Learning rate: 0.0002\n"
     ]
    },
    {
     "name": "stderr",
     "output_type": "stream",
     "text": [
      "100%|█████████████████████████████████████████| 101/101 [00:06<00:00, 14.97it/s]\n"
     ]
    },
    {
     "name": "stdout",
     "output_type": "stream",
     "text": [
      "Generator Error Metric is 0.0015611812705174088\n",
      "Time for epoch 127 is 6.7506608963012695 sec\n",
      "Epoch: 128\n",
      "Learning rate: 0.0002\n"
     ]
    },
    {
     "name": "stderr",
     "output_type": "stream",
     "text": [
      "100%|█████████████████████████████████████████| 101/101 [00:06<00:00, 15.02it/s]\n"
     ]
    },
    {
     "name": "stdout",
     "output_type": "stream",
     "text": [
      "Generator Error Metric is 0.001366081414744258\n",
      "Time for epoch 128 is 9.10281491279602 sec\n",
      "Epoch: 129\n",
      "Learning rate: 0.0002\n"
     ]
    },
    {
     "name": "stderr",
     "output_type": "stream",
     "text": [
      "100%|█████████████████████████████████████████| 101/101 [00:12<00:00,  7.80it/s]\n"
     ]
    },
    {
     "name": "stdout",
     "output_type": "stream",
     "text": [
      "Generator Error Metric is 0.0016498693730682135\n",
      "Time for epoch 129 is 12.954960823059082 sec\n",
      "Epoch: 130\n",
      "Learning rate: 0.0002\n"
     ]
    },
    {
     "name": "stderr",
     "output_type": "stream",
     "text": [
      "100%|█████████████████████████████████████████| 101/101 [00:12<00:00,  7.82it/s]\n"
     ]
    },
    {
     "name": "stdout",
     "output_type": "stream",
     "text": [
      "Generator Error Metric is 0.001975488616153598\n",
      "Time for epoch 130 is 12.924495935440063 sec\n",
      "Epoch: 131\n",
      "Learning rate: 0.0002\n"
     ]
    },
    {
     "name": "stderr",
     "output_type": "stream",
     "text": [
      "100%|█████████████████████████████████████████| 101/101 [00:12<00:00,  7.80it/s]\n"
     ]
    },
    {
     "name": "stdout",
     "output_type": "stream",
     "text": [
      "Generator Error Metric is 0.0017275622813031077\n",
      "Time for epoch 131 is 12.955039262771606 sec\n",
      "Epoch: 132\n",
      "Learning rate: 0.0002\n"
     ]
    },
    {
     "name": "stderr",
     "output_type": "stream",
     "text": [
      "100%|█████████████████████████████████████████| 101/101 [00:12<00:00,  7.79it/s]\n"
     ]
    },
    {
     "name": "stdout",
     "output_type": "stream",
     "text": [
      "Generator Error Metric is 0.0014609561767429113\n",
      "Time for epoch 132 is 12.9618079662323 sec\n",
      "Epoch: 133\n",
      "Learning rate: 0.0002\n"
     ]
    },
    {
     "name": "stderr",
     "output_type": "stream",
     "text": [
      "100%|█████████████████████████████████████████| 101/101 [00:12<00:00,  7.81it/s]\n"
     ]
    },
    {
     "name": "stdout",
     "output_type": "stream",
     "text": [
      "Generator Error Metric is 0.0017241663299500942\n",
      "Time for epoch 133 is 12.934494733810425 sec\n",
      "Epoch: 134\n",
      "Learning rate: 0.0002\n"
     ]
    },
    {
     "name": "stderr",
     "output_type": "stream",
     "text": [
      "100%|█████████████████████████████████████████| 101/101 [00:12<00:00,  7.79it/s]\n"
     ]
    },
    {
     "name": "stdout",
     "output_type": "stream",
     "text": [
      "Generator Error Metric is 0.0016499399207532406\n",
      "Time for epoch 134 is 12.960583209991455 sec\n",
      "Epoch: 135\n",
      "Learning rate: 0.0002\n"
     ]
    },
    {
     "name": "stderr",
     "output_type": "stream",
     "text": [
      "100%|█████████████████████████████████████████| 101/101 [00:12<00:00,  7.80it/s]\n"
     ]
    },
    {
     "name": "stdout",
     "output_type": "stream",
     "text": [
      "Generator Error Metric is 0.0013681845739483833\n",
      "Time for epoch 135 is 12.953720808029175 sec\n",
      "Epoch: 136\n",
      "Learning rate: 0.0002\n"
     ]
    },
    {
     "name": "stderr",
     "output_type": "stream",
     "text": [
      "100%|█████████████████████████████████████████| 101/101 [00:12<00:00,  7.79it/s]\n"
     ]
    },
    {
     "name": "stdout",
     "output_type": "stream",
     "text": [
      "Generator Error Metric is 0.0012772423215210438\n",
      "Time for epoch 136 is 15.40594482421875 sec\n",
      "Epoch: 137\n",
      "Learning rate: 0.0002\n"
     ]
    },
    {
     "name": "stderr",
     "output_type": "stream",
     "text": [
      "100%|█████████████████████████████████████████| 101/101 [00:12<00:00,  7.79it/s]\n"
     ]
    },
    {
     "name": "stdout",
     "output_type": "stream",
     "text": [
      "Generator Error Metric is 0.0014343830989673734\n",
      "Time for epoch 137 is 12.959430694580078 sec\n",
      "Epoch: 138\n",
      "Learning rate: 0.0002\n"
     ]
    },
    {
     "name": "stderr",
     "output_type": "stream",
     "text": [
      "100%|█████████████████████████████████████████| 101/101 [00:12<00:00,  7.81it/s]\n"
     ]
    },
    {
     "name": "stdout",
     "output_type": "stream",
     "text": [
      "Generator Error Metric is 0.0014023567782714963\n",
      "Time for epoch 138 is 12.93506121635437 sec\n",
      "Epoch: 139\n",
      "Learning rate: 0.0002\n"
     ]
    },
    {
     "name": "stderr",
     "output_type": "stream",
     "text": [
      "100%|█████████████████████████████████████████| 101/101 [00:12<00:00,  7.80it/s]\n"
     ]
    },
    {
     "name": "stdout",
     "output_type": "stream",
     "text": [
      "Generator Error Metric is 0.0013311675284057856\n",
      "Time for epoch 139 is 12.952338933944702 sec\n",
      "Epoch: 140\n",
      "Learning rate: 0.0002\n"
     ]
    },
    {
     "name": "stderr",
     "output_type": "stream",
     "text": [
      "100%|█████████████████████████████████████████| 101/101 [00:12<00:00,  7.78it/s]\n"
     ]
    },
    {
     "name": "stdout",
     "output_type": "stream",
     "text": [
      "Generator Error Metric is 0.0012529052328318357\n",
      "Time for epoch 140 is 15.436575889587402 sec\n",
      "Epoch: 141\n",
      "Learning rate: 0.0002\n"
     ]
    },
    {
     "name": "stderr",
     "output_type": "stream",
     "text": [
      "100%|█████████████████████████████████████████| 101/101 [00:13<00:00,  7.77it/s]\n"
     ]
    },
    {
     "name": "stdout",
     "output_type": "stream",
     "text": [
      "Generator Error Metric is 0.001352677820250392\n",
      "Time for epoch 141 is 13.01374363899231 sec\n",
      "Epoch: 142\n",
      "Learning rate: 0.0002\n"
     ]
    },
    {
     "name": "stderr",
     "output_type": "stream",
     "text": [
      "100%|█████████████████████████████████████████| 101/101 [00:12<00:00,  7.77it/s]\n"
     ]
    },
    {
     "name": "stdout",
     "output_type": "stream",
     "text": [
      "Generator Error Metric is 0.0015278622740879655\n",
      "Time for epoch 142 is 12.998016595840454 sec\n",
      "Epoch: 143\n",
      "Learning rate: 0.0002\n"
     ]
    },
    {
     "name": "stderr",
     "output_type": "stream",
     "text": [
      "100%|█████████████████████████████████████████| 101/101 [00:12<00:00,  7.80it/s]\n"
     ]
    },
    {
     "name": "stdout",
     "output_type": "stream",
     "text": [
      "Generator Error Metric is 0.0013510134303942323\n",
      "Time for epoch 143 is 12.957194328308105 sec\n",
      "Epoch: 144\n",
      "Learning rate: 0.0002\n"
     ]
    },
    {
     "name": "stderr",
     "output_type": "stream",
     "text": [
      "100%|█████████████████████████████████████████| 101/101 [00:12<00:00,  7.79it/s]\n"
     ]
    },
    {
     "name": "stdout",
     "output_type": "stream",
     "text": [
      "Generator Error Metric is 0.0011410147417336702\n",
      "Time for epoch 144 is 15.418175458908081 sec\n",
      "Epoch: 145\n",
      "Learning rate: 0.0002\n"
     ]
    },
    {
     "name": "stderr",
     "output_type": "stream",
     "text": [
      "100%|█████████████████████████████████████████| 101/101 [00:12<00:00,  7.78it/s]\n"
     ]
    },
    {
     "name": "stdout",
     "output_type": "stream",
     "text": [
      "Generator Error Metric is 0.0012679633218795061\n",
      "Time for epoch 145 is 12.992105722427368 sec\n",
      "Epoch: 146\n",
      "Learning rate: 0.0002\n"
     ]
    },
    {
     "name": "stderr",
     "output_type": "stream",
     "text": [
      "100%|█████████████████████████████████████████| 101/101 [00:11<00:00,  8.48it/s]\n"
     ]
    },
    {
     "name": "stdout",
     "output_type": "stream",
     "text": [
      "Generator Error Metric is 0.0012345671420916915\n",
      "Time for epoch 146 is 11.914865016937256 sec\n",
      "Epoch: 147\n",
      "Learning rate: 0.0002\n"
     ]
    },
    {
     "name": "stderr",
     "output_type": "stream",
     "text": [
      "100%|█████████████████████████████████████████| 101/101 [00:06<00:00, 14.60it/s]\n"
     ]
    },
    {
     "name": "stdout",
     "output_type": "stream",
     "text": [
      "Generator Error Metric is 0.0014903252013027668\n",
      "Time for epoch 147 is 6.91841197013855 sec\n",
      "Epoch: 148\n",
      "Learning rate: 0.0002\n"
     ]
    },
    {
     "name": "stderr",
     "output_type": "stream",
     "text": [
      "100%|█████████████████████████████████████████| 101/101 [00:06<00:00, 14.57it/s]\n"
     ]
    },
    {
     "name": "stdout",
     "output_type": "stream",
     "text": [
      "Generator Error Metric is 0.001400620210915804\n",
      "Time for epoch 148 is 6.934727907180786 sec\n",
      "Epoch: 149\n",
      "Learning rate: 0.0002\n"
     ]
    },
    {
     "name": "stderr",
     "output_type": "stream",
     "text": [
      "100%|█████████████████████████████████████████| 101/101 [00:06<00:00, 14.54it/s]\n"
     ]
    },
    {
     "name": "stdout",
     "output_type": "stream",
     "text": [
      "Generator Error Metric is 0.004363726824522018\n",
      "Time for epoch 149 is 6.949490308761597 sec\n",
      "Epoch: 150\n",
      "Learning rate: 0.0002\n"
     ]
    },
    {
     "name": "stderr",
     "output_type": "stream",
     "text": [
      "100%|█████████████████████████████████████████| 101/101 [00:06<00:00, 14.59it/s]\n"
     ]
    },
    {
     "name": "stdout",
     "output_type": "stream",
     "text": [
      "Generator Error Metric is 0.002055426826700568\n",
      "Time for epoch 150 is 6.926064491271973 sec\n",
      "Epoch: 151\n",
      "Learning rate: 0.0002\n"
     ]
    },
    {
     "name": "stderr",
     "output_type": "stream",
     "text": [
      "100%|█████████████████████████████████████████| 101/101 [00:06<00:00, 14.56it/s]\n"
     ]
    },
    {
     "name": "stdout",
     "output_type": "stream",
     "text": [
      "Generator Error Metric is 0.0013918904587626457\n",
      "Time for epoch 151 is 6.937243700027466 sec\n",
      "Epoch: 152\n",
      "Learning rate: 0.0002\n"
     ]
    },
    {
     "name": "stderr",
     "output_type": "stream",
     "text": [
      "100%|█████████████████████████████████████████| 101/101 [00:06<00:00, 14.53it/s]\n"
     ]
    },
    {
     "name": "stdout",
     "output_type": "stream",
     "text": [
      "Generator Error Metric is 0.0018419569823890924\n",
      "Time for epoch 152 is 6.950892210006714 sec\n",
      "Epoch: 153\n",
      "Learning rate: 0.0002\n"
     ]
    },
    {
     "name": "stderr",
     "output_type": "stream",
     "text": [
      "100%|█████████████████████████████████████████| 101/101 [00:06<00:00, 14.52it/s]\n"
     ]
    },
    {
     "name": "stdout",
     "output_type": "stream",
     "text": [
      "Generator Error Metric is 0.02177395671606064\n",
      "Time for epoch 153 is 6.958799123764038 sec\n",
      "Epoch: 154\n",
      "Learning rate: 0.0002\n"
     ]
    },
    {
     "name": "stderr",
     "output_type": "stream",
     "text": [
      "100%|█████████████████████████████████████████| 101/101 [00:06<00:00, 14.61it/s]\n"
     ]
    },
    {
     "name": "stdout",
     "output_type": "stream",
     "text": [
      "Generator Error Metric is 0.03667119890451431\n",
      "Time for epoch 154 is 6.91423225402832 sec\n",
      "Epoch: 155\n",
      "Learning rate: 0.0002\n"
     ]
    },
    {
     "name": "stderr",
     "output_type": "stream",
     "text": [
      "100%|█████████████████████████████████████████| 101/101 [00:06<00:00, 14.57it/s]\n"
     ]
    },
    {
     "name": "stdout",
     "output_type": "stream",
     "text": [
      "Generator Error Metric is 0.022427428513765335\n",
      "Time for epoch 155 is 6.932391881942749 sec\n",
      "Epoch: 156\n",
      "Learning rate: 0.0002\n"
     ]
    },
    {
     "name": "stderr",
     "output_type": "stream",
     "text": [
      "100%|█████████████████████████████████████████| 101/101 [00:06<00:00, 14.51it/s]\n"
     ]
    },
    {
     "name": "stdout",
     "output_type": "stream",
     "text": [
      "Generator Error Metric is 0.007365135010331869\n",
      "Time for epoch 156 is 6.9617180824279785 sec\n",
      "Epoch: 157\n",
      "Learning rate: 0.0002\n"
     ]
    },
    {
     "name": "stderr",
     "output_type": "stream",
     "text": [
      "100%|█████████████████████████████████████████| 101/101 [00:11<00:00,  9.05it/s]\n"
     ]
    },
    {
     "name": "stdout",
     "output_type": "stream",
     "text": [
      "Generator Error Metric is 0.008177923038601875\n",
      "Time for epoch 157 is 11.157784461975098 sec\n",
      "Epoch: 158\n",
      "Learning rate: 0.0002\n"
     ]
    },
    {
     "name": "stderr",
     "output_type": "stream",
     "text": [
      "100%|█████████████████████████████████████████| 101/101 [00:06<00:00, 14.53it/s]\n"
     ]
    },
    {
     "name": "stdout",
     "output_type": "stream",
     "text": [
      "Generator Error Metric is 0.007701877970248461\n",
      "Time for epoch 158 is 6.954139232635498 sec\n",
      "Epoch: 159\n",
      "Learning rate: 0.0002\n"
     ]
    },
    {
     "name": "stderr",
     "output_type": "stream",
     "text": [
      "100%|█████████████████████████████████████████| 101/101 [00:06<00:00, 14.54it/s]\n"
     ]
    },
    {
     "name": "stdout",
     "output_type": "stream",
     "text": [
      "Generator Error Metric is 0.010221472941339016\n",
      "Time for epoch 159 is 6.946845293045044 sec\n",
      "Epoch: 160\n",
      "Learning rate: 0.0002\n"
     ]
    },
    {
     "name": "stderr",
     "output_type": "stream",
     "text": [
      "100%|█████████████████████████████████████████| 101/101 [00:06<00:00, 14.53it/s]\n"
     ]
    },
    {
     "name": "stdout",
     "output_type": "stream",
     "text": [
      "Generator Error Metric is 0.008121278136968613\n",
      "Time for epoch 160 is 6.9535088539123535 sec\n",
      "Epoch: 161\n",
      "Learning rate: 0.0002\n"
     ]
    },
    {
     "name": "stderr",
     "output_type": "stream",
     "text": [
      "100%|█████████████████████████████████████████| 101/101 [00:06<00:00, 14.65it/s]\n"
     ]
    },
    {
     "name": "stdout",
     "output_type": "stream",
     "text": [
      "Generator Error Metric is 0.005534197203814983\n",
      "Time for epoch 161 is 6.895482063293457 sec\n",
      "Epoch: 162\n",
      "Learning rate: 0.0002\n"
     ]
    },
    {
     "name": "stderr",
     "output_type": "stream",
     "text": [
      "100%|█████████████████████████████████████████| 101/101 [00:06<00:00, 14.73it/s]\n"
     ]
    },
    {
     "name": "stdout",
     "output_type": "stream",
     "text": [
      "Generator Error Metric is 0.0036225432995706797\n",
      "Time for epoch 162 is 6.8565990924835205 sec\n",
      "Epoch: 163\n",
      "Learning rate: 0.0002\n"
     ]
    },
    {
     "name": "stderr",
     "output_type": "stream",
     "text": [
      "100%|█████████████████████████████████████████| 101/101 [00:06<00:00, 14.72it/s]\n"
     ]
    },
    {
     "name": "stdout",
     "output_type": "stream",
     "text": [
      "Generator Error Metric is 0.0033267238177359104\n",
      "Time for epoch 163 is 6.863479137420654 sec\n",
      "Epoch: 164\n",
      "Learning rate: 0.0002\n"
     ]
    },
    {
     "name": "stderr",
     "output_type": "stream",
     "text": [
      "100%|█████████████████████████████████████████| 101/101 [00:06<00:00, 14.71it/s]\n"
     ]
    },
    {
     "name": "stdout",
     "output_type": "stream",
     "text": [
      "Generator Error Metric is 0.003381868591532111\n",
      "Time for epoch 164 is 6.868861198425293 sec\n",
      "Epoch: 165\n",
      "Learning rate: 0.0002\n"
     ]
    },
    {
     "name": "stderr",
     "output_type": "stream",
     "text": [
      "100%|█████████████████████████████████████████| 101/101 [00:07<00:00, 14.39it/s]\n"
     ]
    },
    {
     "name": "stdout",
     "output_type": "stream",
     "text": [
      "Generator Error Metric is 0.004854389000684023\n",
      "Time for epoch 165 is 7.019283771514893 sec\n",
      "Epoch: 166\n",
      "Learning rate: 0.0002\n"
     ]
    },
    {
     "name": "stderr",
     "output_type": "stream",
     "text": [
      "100%|█████████████████████████████████████████| 101/101 [00:12<00:00,  8.38it/s]\n"
     ]
    },
    {
     "name": "stdout",
     "output_type": "stream",
     "text": [
      "Generator Error Metric is 0.009975990280508995\n",
      "Time for epoch 166 is 12.06064748764038 sec\n",
      "Epoch: 167\n",
      "Learning rate: 0.0002\n"
     ]
    },
    {
     "name": "stderr",
     "output_type": "stream",
     "text": [
      "100%|█████████████████████████████████████████| 101/101 [00:13<00:00,  7.74it/s]\n"
     ]
    },
    {
     "name": "stdout",
     "output_type": "stream",
     "text": [
      "Generator Error Metric is 0.002922851126641035\n",
      "Time for epoch 167 is 13.049465894699097 sec\n",
      "Epoch: 168\n",
      "Learning rate: 0.0002\n"
     ]
    },
    {
     "name": "stderr",
     "output_type": "stream",
     "text": [
      "100%|█████████████████████████████████████████| 101/101 [00:08<00:00, 12.34it/s]\n"
     ]
    },
    {
     "name": "stdout",
     "output_type": "stream",
     "text": [
      "Generator Error Metric is 0.0030401533003896475\n",
      "Time for epoch 168 is 8.188559293746948 sec\n",
      "Epoch: 169\n",
      "Learning rate: 0.0002\n"
     ]
    },
    {
     "name": "stderr",
     "output_type": "stream",
     "text": [
      "100%|█████████████████████████████████████████| 101/101 [00:06<00:00, 14.51it/s]\n"
     ]
    },
    {
     "name": "stdout",
     "output_type": "stream",
     "text": [
      "Generator Error Metric is 0.0036395916249603033\n",
      "Time for epoch 169 is 6.960773229598999 sec\n",
      "Epoch: 170\n",
      "Learning rate: 0.0002\n"
     ]
    },
    {
     "name": "stderr",
     "output_type": "stream",
     "text": [
      "100%|█████████████████████████████████████████| 101/101 [00:06<00:00, 14.47it/s]\n"
     ]
    },
    {
     "name": "stdout",
     "output_type": "stream",
     "text": [
      "Generator Error Metric is 0.004196354653686285\n",
      "Time for epoch 170 is 6.979601144790649 sec\n",
      "Epoch: 171\n",
      "Learning rate: 0.0002\n"
     ]
    },
    {
     "name": "stderr",
     "output_type": "stream",
     "text": [
      "100%|█████████████████████████████████████████| 101/101 [00:07<00:00, 14.42it/s]\n"
     ]
    },
    {
     "name": "stdout",
     "output_type": "stream",
     "text": [
      "Generator Error Metric is 0.0032869225833564997\n",
      "Time for epoch 171 is 7.0082714557647705 sec\n",
      "Epoch: 172\n",
      "Learning rate: 0.0002\n"
     ]
    },
    {
     "name": "stderr",
     "output_type": "stream",
     "text": [
      "100%|█████████████████████████████████████████| 101/101 [00:06<00:00, 14.45it/s]\n"
     ]
    },
    {
     "name": "stdout",
     "output_type": "stream",
     "text": [
      "Generator Error Metric is 0.004472226370126009\n",
      "Time for epoch 172 is 6.9905922412872314 sec\n",
      "Epoch: 173\n",
      "Learning rate: 0.0002\n"
     ]
    },
    {
     "name": "stderr",
     "output_type": "stream",
     "text": [
      "100%|█████████████████████████████████████████| 101/101 [00:07<00:00, 14.41it/s]\n"
     ]
    },
    {
     "name": "stdout",
     "output_type": "stream",
     "text": [
      "Generator Error Metric is 0.004415540490299463\n",
      "Time for epoch 173 is 7.011574983596802 sec\n",
      "Epoch: 174\n",
      "Learning rate: 0.0002\n"
     ]
    },
    {
     "name": "stderr",
     "output_type": "stream",
     "text": [
      "100%|█████████████████████████████████████████| 101/101 [00:07<00:00, 14.41it/s]\n"
     ]
    },
    {
     "name": "stdout",
     "output_type": "stream",
     "text": [
      "Generator Error Metric is 0.0037909136153757572\n",
      "Time for epoch 174 is 7.009180784225464 sec\n",
      "Epoch: 175\n",
      "Learning rate: 0.0002\n"
     ]
    },
    {
     "name": "stderr",
     "output_type": "stream",
     "text": [
      "100%|█████████████████████████████████████████| 101/101 [00:07<00:00, 14.37it/s]\n"
     ]
    },
    {
     "name": "stdout",
     "output_type": "stream",
     "text": [
      "Generator Error Metric is 0.005642312113195658\n",
      "Time for epoch 175 is 7.028831481933594 sec\n",
      "Epoch: 176\n",
      "Learning rate: 0.0002\n"
     ]
    },
    {
     "name": "stderr",
     "output_type": "stream",
     "text": [
      "100%|█████████████████████████████████████████| 101/101 [00:07<00:00, 14.41it/s]\n"
     ]
    },
    {
     "name": "stdout",
     "output_type": "stream",
     "text": [
      "Generator Error Metric is 0.005754217971116304\n",
      "Time for epoch 176 is 7.009181261062622 sec\n",
      "Epoch: 177\n",
      "Learning rate: 0.0002\n"
     ]
    },
    {
     "name": "stderr",
     "output_type": "stream",
     "text": [
      "100%|█████████████████████████████████████████| 101/101 [00:07<00:00, 14.40it/s]\n"
     ]
    },
    {
     "name": "stdout",
     "output_type": "stream",
     "text": [
      "Generator Error Metric is 0.005019522737711668\n",
      "Time for epoch 177 is 7.015833377838135 sec\n",
      "Epoch: 178\n",
      "Learning rate: 0.0002\n"
     ]
    },
    {
     "name": "stderr",
     "output_type": "stream",
     "text": [
      "100%|█████████████████████████████████████████| 101/101 [00:07<00:00, 14.35it/s]\n"
     ]
    },
    {
     "name": "stdout",
     "output_type": "stream",
     "text": [
      "Generator Error Metric is 0.006454532966017723\n",
      "Time for epoch 178 is 7.03767204284668 sec\n",
      "Epoch: 179\n",
      "Learning rate: 0.0002\n"
     ]
    },
    {
     "name": "stderr",
     "output_type": "stream",
     "text": [
      "100%|█████████████████████████████████████████| 101/101 [00:07<00:00, 14.42it/s]\n"
     ]
    },
    {
     "name": "stdout",
     "output_type": "stream",
     "text": [
      "Generator Error Metric is 0.0074639576487243176\n",
      "Time for epoch 179 is 7.007170677185059 sec\n",
      "Epoch: 180\n",
      "Learning rate: 0.0002\n"
     ]
    },
    {
     "name": "stderr",
     "output_type": "stream",
     "text": [
      "100%|█████████████████████████████████████████| 101/101 [00:07<00:00, 14.39it/s]\n"
     ]
    },
    {
     "name": "stdout",
     "output_type": "stream",
     "text": [
      "Generator Error Metric is 0.004938387777656317\n",
      "Time for epoch 180 is 7.021164178848267 sec\n",
      "Epoch: 181\n",
      "Learning rate: 0.0002\n"
     ]
    },
    {
     "name": "stderr",
     "output_type": "stream",
     "text": [
      "100%|█████████████████████████████████████████| 101/101 [00:07<00:00, 14.40it/s]\n"
     ]
    },
    {
     "name": "stdout",
     "output_type": "stream",
     "text": [
      "Generator Error Metric is 0.011724080890417099\n",
      "Time for epoch 181 is 7.013193130493164 sec\n",
      "Epoch: 182\n",
      "Learning rate: 0.0002\n"
     ]
    },
    {
     "name": "stderr",
     "output_type": "stream",
     "text": [
      "100%|█████████████████████████████████████████| 101/101 [00:07<00:00, 14.37it/s]\n"
     ]
    },
    {
     "name": "stdout",
     "output_type": "stream",
     "text": [
      "Generator Error Metric is 0.062308527529239655\n",
      "Time for epoch 182 is 7.028051376342773 sec\n",
      "Epoch: 183\n",
      "Learning rate: 0.0002\n"
     ]
    },
    {
     "name": "stderr",
     "output_type": "stream",
     "text": [
      "100%|█████████████████████████████████████████| 101/101 [00:07<00:00, 14.34it/s]\n"
     ]
    },
    {
     "name": "stdout",
     "output_type": "stream",
     "text": [
      "Generator Error Metric is 0.022975556552410126\n",
      "Time for epoch 183 is 7.044648885726929 sec\n",
      "Epoch: 184\n",
      "Learning rate: 0.0002\n"
     ]
    },
    {
     "name": "stderr",
     "output_type": "stream",
     "text": [
      "100%|█████████████████████████████████████████| 101/101 [00:07<00:00, 14.36it/s]\n"
     ]
    },
    {
     "name": "stdout",
     "output_type": "stream",
     "text": [
      "Generator Error Metric is 0.011873823590576649\n",
      "Time for epoch 184 is 7.033862590789795 sec\n",
      "Epoch: 185\n",
      "Learning rate: 0.0002\n"
     ]
    },
    {
     "name": "stderr",
     "output_type": "stream",
     "text": [
      "100%|█████████████████████████████████████████| 101/101 [00:06<00:00, 14.48it/s]\n"
     ]
    },
    {
     "name": "stdout",
     "output_type": "stream",
     "text": [
      "Generator Error Metric is 0.010014121420681477\n",
      "Time for epoch 185 is 6.977693796157837 sec\n",
      "Epoch: 186\n",
      "Learning rate: 0.0002\n"
     ]
    },
    {
     "name": "stderr",
     "output_type": "stream",
     "text": [
      "100%|█████████████████████████████████████████| 101/101 [00:06<00:00, 14.44it/s]\n"
     ]
    },
    {
     "name": "stdout",
     "output_type": "stream",
     "text": [
      "Generator Error Metric is 0.009279760532081127\n",
      "Time for epoch 186 is 6.994742393493652 sec\n",
      "Epoch: 187\n",
      "Learning rate: 0.0002\n"
     ]
    },
    {
     "name": "stderr",
     "output_type": "stream",
     "text": [
      "100%|█████████████████████████████████████████| 101/101 [00:06<00:00, 14.46it/s]\n"
     ]
    },
    {
     "name": "stdout",
     "output_type": "stream",
     "text": [
      "Generator Error Metric is 0.01165672019124031\n",
      "Time for epoch 187 is 6.987858533859253 sec\n",
      "Epoch: 188\n",
      "Learning rate: 0.0002\n"
     ]
    },
    {
     "name": "stderr",
     "output_type": "stream",
     "text": [
      "100%|█████████████████████████████████████████| 101/101 [00:07<00:00, 14.41it/s]\n"
     ]
    },
    {
     "name": "stdout",
     "output_type": "stream",
     "text": [
      "Generator Error Metric is 0.06503481417894363\n",
      "Time for epoch 188 is 7.0087525844573975 sec\n",
      "Epoch: 189\n",
      "Learning rate: 0.0002\n"
     ]
    },
    {
     "name": "stderr",
     "output_type": "stream",
     "text": [
      "100%|█████████████████████████████████████████| 101/101 [00:07<00:00, 14.39it/s]\n"
     ]
    },
    {
     "name": "stdout",
     "output_type": "stream",
     "text": [
      "Generator Error Metric is 0.013955703005194664\n",
      "Time for epoch 189 is 7.021348476409912 sec\n",
      "Epoch: 190\n",
      "Learning rate: 0.0002\n"
     ]
    },
    {
     "name": "stderr",
     "output_type": "stream",
     "text": [
      "100%|█████████████████████████████████████████| 101/101 [00:07<00:00, 14.40it/s]\n"
     ]
    },
    {
     "name": "stdout",
     "output_type": "stream",
     "text": [
      "Generator Error Metric is 0.03535424545407295\n",
      "Time for epoch 190 is 7.018231153488159 sec\n",
      "Epoch: 191\n",
      "Learning rate: 0.0002\n"
     ]
    },
    {
     "name": "stderr",
     "output_type": "stream",
     "text": [
      "100%|█████████████████████████████████████████| 101/101 [00:07<00:00, 14.35it/s]\n"
     ]
    },
    {
     "name": "stdout",
     "output_type": "stream",
     "text": [
      "Generator Error Metric is 0.006946265231817961\n",
      "Time for epoch 191 is 7.040549993515015 sec\n",
      "Epoch: 192\n",
      "Learning rate: 0.0002\n"
     ]
    },
    {
     "name": "stderr",
     "output_type": "stream",
     "text": [
      "100%|█████████████████████████████████████████| 101/101 [00:07<00:00, 14.41it/s]\n"
     ]
    },
    {
     "name": "stdout",
     "output_type": "stream",
     "text": [
      "Generator Error Metric is 0.007975133135914803\n",
      "Time for epoch 192 is 7.010422229766846 sec\n",
      "Epoch: 193\n",
      "Learning rate: 0.0002\n"
     ]
    },
    {
     "name": "stderr",
     "output_type": "stream",
     "text": [
      "100%|█████████████████████████████████████████| 101/101 [00:07<00:00, 14.28it/s]\n"
     ]
    },
    {
     "name": "stdout",
     "output_type": "stream",
     "text": [
      "Generator Error Metric is 0.011292589828372002\n",
      "Time for epoch 193 is 7.073739290237427 sec\n",
      "Epoch: 194\n",
      "Learning rate: 0.0002\n"
     ]
    },
    {
     "name": "stderr",
     "output_type": "stream",
     "text": [
      "100%|█████████████████████████████████████████| 101/101 [00:12<00:00,  8.28it/s]\n"
     ]
    },
    {
     "name": "stdout",
     "output_type": "stream",
     "text": [
      "Generator Error Metric is 0.01448796596378088\n",
      "Time for epoch 194 is 12.194578409194946 sec\n",
      "Epoch: 195\n",
      "Learning rate: 0.0002\n"
     ]
    },
    {
     "name": "stderr",
     "output_type": "stream",
     "text": [
      "100%|█████████████████████████████████████████| 101/101 [00:07<00:00, 14.38it/s]\n"
     ]
    },
    {
     "name": "stdout",
     "output_type": "stream",
     "text": [
      "Generator Error Metric is 0.016284948214888573\n",
      "Time for epoch 195 is 7.026224613189697 sec\n",
      "Epoch: 196\n",
      "Learning rate: 0.0002\n"
     ]
    },
    {
     "name": "stderr",
     "output_type": "stream",
     "text": [
      "100%|█████████████████████████████████████████| 101/101 [00:07<00:00, 14.39it/s]\n"
     ]
    },
    {
     "name": "stdout",
     "output_type": "stream",
     "text": [
      "Generator Error Metric is 0.20069549977779388\n",
      "Time for epoch 196 is 7.022752046585083 sec\n",
      "Epoch: 197\n",
      "Learning rate: 0.0002\n"
     ]
    },
    {
     "name": "stderr",
     "output_type": "stream",
     "text": [
      "100%|█████████████████████████████████████████| 101/101 [00:07<00:00, 14.39it/s]\n"
     ]
    },
    {
     "name": "stdout",
     "output_type": "stream",
     "text": [
      "Generator Error Metric is 0.17068377137184143\n",
      "Time for epoch 197 is 7.023000955581665 sec\n",
      "Epoch: 198\n",
      "Learning rate: 0.0002\n"
     ]
    },
    {
     "name": "stderr",
     "output_type": "stream",
     "text": [
      "100%|█████████████████████████████████████████| 101/101 [00:07<00:00, 14.28it/s]\n"
     ]
    },
    {
     "name": "stdout",
     "output_type": "stream",
     "text": [
      "Generator Error Metric is 0.009971165098249912\n",
      "Time for epoch 198 is 7.072991371154785 sec\n",
      "Epoch: 199\n",
      "Learning rate: 0.0002\n"
     ]
    },
    {
     "name": "stderr",
     "output_type": "stream",
     "text": [
      "100%|█████████████████████████████████████████| 101/101 [00:08<00:00, 12.08it/s]\n"
     ]
    },
    {
     "name": "stdout",
     "output_type": "stream",
     "text": [
      "Generator Error Metric is 0.01590314693748951\n",
      "Time for epoch 199 is 8.362278699874878 sec\n",
      "Epoch: 200\n",
      "Learning rate: 0.0002\n"
     ]
    },
    {
     "name": "stderr",
     "output_type": "stream",
     "text": [
      "100%|█████████████████████████████████████████| 101/101 [00:10<00:00,  9.24it/s]\n"
     ]
    },
    {
     "name": "stdout",
     "output_type": "stream",
     "text": [
      "Generator Error Metric is 0.011218671686947346\n",
      "Time for epoch 200 is 10.928782224655151 sec\n",
      "Epoch: 201\n",
      "Learning rate: 0.0002\n"
     ]
    },
    {
     "name": "stderr",
     "output_type": "stream",
     "text": [
      "100%|█████████████████████████████████████████| 101/101 [00:07<00:00, 14.39it/s]\n"
     ]
    },
    {
     "name": "stdout",
     "output_type": "stream",
     "text": [
      "Generator Error Metric is 0.011402156203985214\n",
      "Time for epoch 201 is 7.020144701004028 sec\n",
      "Epoch: 202\n",
      "Learning rate: 0.0002\n"
     ]
    },
    {
     "name": "stderr",
     "output_type": "stream",
     "text": [
      "100%|█████████████████████████████████████████| 101/101 [00:06<00:00, 14.50it/s]\n"
     ]
    },
    {
     "name": "stdout",
     "output_type": "stream",
     "text": [
      "Generator Error Metric is 0.011243708431720734\n",
      "Time for epoch 202 is 6.969411611557007 sec\n",
      "Epoch: 203\n",
      "Learning rate: 0.0002\n"
     ]
    },
    {
     "name": "stderr",
     "output_type": "stream",
     "text": [
      "100%|█████████████████████████████████████████| 101/101 [00:06<00:00, 14.56it/s]\n"
     ]
    },
    {
     "name": "stdout",
     "output_type": "stream",
     "text": [
      "Generator Error Metric is 0.08079849928617477\n",
      "Time for epoch 203 is 6.9381585121154785 sec\n",
      "Epoch: 204\n",
      "Learning rate: 0.0002\n"
     ]
    },
    {
     "name": "stderr",
     "output_type": "stream",
     "text": [
      "100%|█████████████████████████████████████████| 101/101 [00:06<00:00, 14.44it/s]\n"
     ]
    },
    {
     "name": "stdout",
     "output_type": "stream",
     "text": [
      "Generator Error Metric is 0.03588319569826126\n",
      "Time for epoch 204 is 6.995973348617554 sec\n",
      "Epoch: 205\n",
      "Learning rate: 0.0002\n"
     ]
    },
    {
     "name": "stderr",
     "output_type": "stream",
     "text": [
      "100%|█████████████████████████████████████████| 101/101 [00:06<00:00, 14.47it/s]\n"
     ]
    },
    {
     "name": "stdout",
     "output_type": "stream",
     "text": [
      "Generator Error Metric is 0.013772193342447281\n",
      "Time for epoch 205 is 6.984454154968262 sec\n",
      "Epoch: 206\n",
      "Learning rate: 0.0002\n"
     ]
    },
    {
     "name": "stderr",
     "output_type": "stream",
     "text": [
      "100%|█████████████████████████████████████████| 101/101 [00:06<00:00, 14.46it/s]\n"
     ]
    },
    {
     "name": "stdout",
     "output_type": "stream",
     "text": [
      "Generator Error Metric is 0.016747955232858658\n",
      "Time for epoch 206 is 6.9866790771484375 sec\n",
      "Epoch: 207\n",
      "Learning rate: 0.0002\n"
     ]
    },
    {
     "name": "stderr",
     "output_type": "stream",
     "text": [
      "100%|█████████████████████████████████████████| 101/101 [00:06<00:00, 14.51it/s]\n"
     ]
    },
    {
     "name": "stdout",
     "output_type": "stream",
     "text": [
      "Generator Error Metric is 0.007850383408367634\n",
      "Time for epoch 207 is 6.962496995925903 sec\n",
      "Epoch: 208\n",
      "Learning rate: 0.0002\n"
     ]
    },
    {
     "name": "stderr",
     "output_type": "stream",
     "text": [
      "100%|█████████████████████████████████████████| 101/101 [00:06<00:00, 14.47it/s]\n"
     ]
    },
    {
     "name": "stdout",
     "output_type": "stream",
     "text": [
      "Generator Error Metric is 0.004374327603727579\n",
      "Time for epoch 208 is 6.98010516166687 sec\n",
      "Epoch: 209\n",
      "Learning rate: 0.0002\n"
     ]
    },
    {
     "name": "stderr",
     "output_type": "stream",
     "text": [
      "100%|█████████████████████████████████████████| 101/101 [00:06<00:00, 14.45it/s]\n"
     ]
    },
    {
     "name": "stdout",
     "output_type": "stream",
     "text": [
      "Generator Error Metric is 0.0032220694702118635\n",
      "Time for epoch 209 is 6.9911112785339355 sec\n",
      "Epoch: 210\n",
      "Learning rate: 0.0002\n"
     ]
    },
    {
     "name": "stderr",
     "output_type": "stream",
     "text": [
      "100%|█████████████████████████████████████████| 101/101 [00:06<00:00, 14.44it/s]\n"
     ]
    },
    {
     "name": "stdout",
     "output_type": "stream",
     "text": [
      "Generator Error Metric is 0.002697066403925419\n",
      "Time for epoch 210 is 6.9948859214782715 sec\n",
      "Epoch: 211\n",
      "Learning rate: 0.0002\n"
     ]
    },
    {
     "name": "stderr",
     "output_type": "stream",
     "text": [
      "100%|█████████████████████████████████████████| 101/101 [00:06<00:00, 14.48it/s]\n"
     ]
    },
    {
     "name": "stdout",
     "output_type": "stream",
     "text": [
      "Generator Error Metric is 0.003118737367913127\n",
      "Time for epoch 211 is 6.978535175323486 sec\n",
      "Epoch: 212\n",
      "Learning rate: 0.0002\n"
     ]
    },
    {
     "name": "stderr",
     "output_type": "stream",
     "text": [
      "100%|█████████████████████████████████████████| 101/101 [00:06<00:00, 14.47it/s]\n"
     ]
    },
    {
     "name": "stdout",
     "output_type": "stream",
     "text": [
      "Generator Error Metric is 0.002722135977819562\n",
      "Time for epoch 212 is 6.982561111450195 sec\n",
      "Epoch: 213\n",
      "Learning rate: 0.0002\n"
     ]
    },
    {
     "name": "stderr",
     "output_type": "stream",
     "text": [
      "100%|█████████████████████████████████████████| 101/101 [00:06<00:00, 14.49it/s]\n"
     ]
    },
    {
     "name": "stdout",
     "output_type": "stream",
     "text": [
      "Generator Error Metric is 0.0023916473146528006\n",
      "Time for epoch 213 is 6.970790386199951 sec\n",
      "Epoch: 214\n",
      "Learning rate: 0.0002\n"
     ]
    },
    {
     "name": "stderr",
     "output_type": "stream",
     "text": [
      "100%|█████████████████████████████████████████| 101/101 [00:06<00:00, 14.51it/s]\n"
     ]
    },
    {
     "name": "stdout",
     "output_type": "stream",
     "text": [
      "Generator Error Metric is 0.0019730746280401945\n",
      "Time for epoch 214 is 6.96254301071167 sec\n",
      "Epoch: 215\n",
      "Learning rate: 0.0002\n"
     ]
    },
    {
     "name": "stderr",
     "output_type": "stream",
     "text": [
      "100%|█████████████████████████████████████████| 101/101 [00:06<00:00, 14.51it/s]\n"
     ]
    },
    {
     "name": "stdout",
     "output_type": "stream",
     "text": [
      "Generator Error Metric is 0.0018036705441772938\n",
      "Time for epoch 215 is 6.964102745056152 sec\n",
      "Epoch: 216\n",
      "Learning rate: 0.0002\n"
     ]
    },
    {
     "name": "stderr",
     "output_type": "stream",
     "text": [
      "100%|█████████████████████████████████████████| 101/101 [00:06<00:00, 14.50it/s]\n"
     ]
    },
    {
     "name": "stdout",
     "output_type": "stream",
     "text": [
      "Generator Error Metric is 0.002074251417070627\n",
      "Time for epoch 216 is 6.966715335845947 sec\n",
      "Epoch: 217\n",
      "Learning rate: 0.0002\n"
     ]
    },
    {
     "name": "stderr",
     "output_type": "stream",
     "text": [
      "100%|█████████████████████████████████████████| 101/101 [00:06<00:00, 14.52it/s]\n"
     ]
    },
    {
     "name": "stdout",
     "output_type": "stream",
     "text": [
      "Generator Error Metric is 0.0025468156673014164\n",
      "Time for epoch 217 is 6.956034421920776 sec\n",
      "Epoch: 218\n",
      "Learning rate: 0.0002\n"
     ]
    },
    {
     "name": "stderr",
     "output_type": "stream",
     "text": [
      "100%|█████████████████████████████████████████| 101/101 [00:06<00:00, 14.63it/s]\n"
     ]
    },
    {
     "name": "stdout",
     "output_type": "stream",
     "text": [
      "Generator Error Metric is 0.0014470788883045316\n",
      "Time for epoch 218 is 6.907442569732666 sec\n",
      "Epoch: 219\n",
      "Learning rate: 0.0002\n"
     ]
    },
    {
     "name": "stderr",
     "output_type": "stream",
     "text": [
      "100%|█████████████████████████████████████████| 101/101 [00:06<00:00, 14.53it/s]\n"
     ]
    },
    {
     "name": "stdout",
     "output_type": "stream",
     "text": [
      "Generator Error Metric is 0.002541098278015852\n",
      "Time for epoch 219 is 6.953695297241211 sec\n",
      "Epoch: 220\n",
      "Learning rate: 0.0002\n"
     ]
    },
    {
     "name": "stderr",
     "output_type": "stream",
     "text": [
      "100%|█████████████████████████████████████████| 101/101 [00:06<00:00, 14.47it/s]\n"
     ]
    },
    {
     "name": "stdout",
     "output_type": "stream",
     "text": [
      "Generator Error Metric is 0.0016473025316372514\n",
      "Time for epoch 220 is 6.981572866439819 sec\n",
      "Epoch: 221\n",
      "Learning rate: 0.0002\n"
     ]
    },
    {
     "name": "stderr",
     "output_type": "stream",
     "text": [
      "100%|█████████████████████████████████████████| 101/101 [00:06<00:00, 14.53it/s]\n"
     ]
    },
    {
     "name": "stdout",
     "output_type": "stream",
     "text": [
      "Generator Error Metric is 0.0017512524500489235\n",
      "Time for epoch 221 is 6.954461097717285 sec\n",
      "Epoch: 222\n",
      "Learning rate: 0.0002\n"
     ]
    },
    {
     "name": "stderr",
     "output_type": "stream",
     "text": [
      "100%|█████████████████████████████████████████| 101/101 [00:11<00:00,  8.74it/s]\n"
     ]
    },
    {
     "name": "stdout",
     "output_type": "stream",
     "text": [
      "Generator Error Metric is 0.0016517634503543377\n",
      "Time for epoch 222 is 11.557011604309082 sec\n",
      "Epoch: 223\n",
      "Learning rate: 0.0002\n"
     ]
    },
    {
     "name": "stderr",
     "output_type": "stream",
     "text": [
      "100%|█████████████████████████████████████████| 101/101 [00:13<00:00,  7.72it/s]\n"
     ]
    },
    {
     "name": "stdout",
     "output_type": "stream",
     "text": [
      "Generator Error Metric is 0.0014506332809105515\n",
      "Time for epoch 223 is 13.089689016342163 sec\n",
      "Epoch: 224\n",
      "Learning rate: 0.0002\n"
     ]
    },
    {
     "name": "stderr",
     "output_type": "stream",
     "text": [
      "100%|█████████████████████████████████████████| 101/101 [00:13<00:00,  7.71it/s]\n"
     ]
    },
    {
     "name": "stdout",
     "output_type": "stream",
     "text": [
      "Generator Error Metric is 0.0014718181919306517\n",
      "Time for epoch 224 is 13.109293222427368 sec\n",
      "Epoch: 225\n",
      "Learning rate: 0.0002\n"
     ]
    },
    {
     "name": "stderr",
     "output_type": "stream",
     "text": [
      "100%|█████████████████████████████████████████| 101/101 [00:13<00:00,  7.71it/s]\n"
     ]
    },
    {
     "name": "stdout",
     "output_type": "stream",
     "text": [
      "Generator Error Metric is 0.001355249434709549\n",
      "Time for epoch 225 is 13.097980737686157 sec\n",
      "Epoch: 226\n",
      "Learning rate: 0.0002\n"
     ]
    },
    {
     "name": "stderr",
     "output_type": "stream",
     "text": [
      "100%|█████████████████████████████████████████| 101/101 [00:13<00:00,  7.70it/s]\n"
     ]
    },
    {
     "name": "stdout",
     "output_type": "stream",
     "text": [
      "Generator Error Metric is 0.0013690936611965299\n",
      "Time for epoch 226 is 13.118772745132446 sec\n",
      "Epoch: 227\n",
      "Learning rate: 0.0002\n"
     ]
    },
    {
     "name": "stderr",
     "output_type": "stream",
     "text": [
      "100%|█████████████████████████████████████████| 101/101 [00:13<00:00,  7.69it/s]\n"
     ]
    },
    {
     "name": "stdout",
     "output_type": "stream",
     "text": [
      "Generator Error Metric is 0.003639579750597477\n",
      "Time for epoch 227 is 13.128665924072266 sec\n",
      "Epoch: 228\n",
      "Learning rate: 0.0002\n"
     ]
    },
    {
     "name": "stderr",
     "output_type": "stream",
     "text": [
      "100%|█████████████████████████████████████████| 101/101 [00:13<00:00,  7.70it/s]\n"
     ]
    },
    {
     "name": "stdout",
     "output_type": "stream",
     "text": [
      "Generator Error Metric is 0.0017965910956263542\n",
      "Time for epoch 228 is 13.121141910552979 sec\n",
      "Epoch: 229\n",
      "Learning rate: 0.0002\n"
     ]
    },
    {
     "name": "stderr",
     "output_type": "stream",
     "text": [
      "100%|█████████████████████████████████████████| 101/101 [00:13<00:00,  7.69it/s]\n"
     ]
    },
    {
     "name": "stdout",
     "output_type": "stream",
     "text": [
      "Generator Error Metric is 0.0010923694353550673\n",
      "Time for epoch 229 is 15.58010983467102 sec\n",
      "Epoch: 230\n",
      "Learning rate: 0.0002\n"
     ]
    },
    {
     "name": "stderr",
     "output_type": "stream",
     "text": [
      "100%|█████████████████████████████████████████| 101/101 [00:13<00:00,  7.70it/s]\n"
     ]
    },
    {
     "name": "stdout",
     "output_type": "stream",
     "text": [
      "Generator Error Metric is 0.0010337511776015162\n",
      "Time for epoch 230 is 15.807334184646606 sec\n",
      "Epoch: 231\n",
      "Learning rate: 0.0002\n"
     ]
    },
    {
     "name": "stderr",
     "output_type": "stream",
     "text": [
      "100%|█████████████████████████████████████████| 101/101 [00:13<00:00,  7.70it/s]\n"
     ]
    },
    {
     "name": "stdout",
     "output_type": "stream",
     "text": [
      "Generator Error Metric is 0.001149631105363369\n",
      "Time for epoch 231 is 13.116827964782715 sec\n",
      "Epoch: 232\n",
      "Learning rate: 0.0002\n"
     ]
    },
    {
     "name": "stderr",
     "output_type": "stream",
     "text": [
      "100%|█████████████████████████████████████████| 101/101 [00:13<00:00,  7.72it/s]\n"
     ]
    },
    {
     "name": "stdout",
     "output_type": "stream",
     "text": [
      "Generator Error Metric is 0.001426413538865745\n",
      "Time for epoch 232 is 13.089956521987915 sec\n",
      "Epoch: 233\n",
      "Learning rate: 0.0002\n"
     ]
    },
    {
     "name": "stderr",
     "output_type": "stream",
     "text": [
      "100%|█████████████████████████████████████████| 101/101 [00:13<00:00,  7.70it/s]\n"
     ]
    },
    {
     "name": "stdout",
     "output_type": "stream",
     "text": [
      "Generator Error Metric is 0.0014289707178249955\n",
      "Time for epoch 233 is 13.125266551971436 sec\n",
      "Epoch: 234\n",
      "Learning rate: 0.0002\n"
     ]
    },
    {
     "name": "stderr",
     "output_type": "stream",
     "text": [
      "100%|█████████████████████████████████████████| 101/101 [00:13<00:00,  7.70it/s]\n"
     ]
    },
    {
     "name": "stdout",
     "output_type": "stream",
     "text": [
      "Generator Error Metric is 0.001364716561511159\n",
      "Time for epoch 234 is 13.116742849349976 sec\n",
      "Epoch: 235\n",
      "Learning rate: 0.0002\n"
     ]
    },
    {
     "name": "stderr",
     "output_type": "stream",
     "text": [
      "100%|█████████████████████████████████████████| 101/101 [00:13<00:00,  7.71it/s]\n"
     ]
    },
    {
     "name": "stdout",
     "output_type": "stream",
     "text": [
      "Generator Error Metric is 0.001552201109007001\n",
      "Time for epoch 235 is 13.099989891052246 sec\n",
      "Epoch: 236\n",
      "Learning rate: 0.0002\n"
     ]
    },
    {
     "name": "stderr",
     "output_type": "stream",
     "text": [
      "100%|█████████████████████████████████████████| 101/101 [00:13<00:00,  7.71it/s]\n"
     ]
    },
    {
     "name": "stdout",
     "output_type": "stream",
     "text": [
      "Generator Error Metric is 0.0010847829980775714\n",
      "Time for epoch 236 is 13.10233736038208 sec\n",
      "Epoch: 237\n",
      "Learning rate: 0.0002\n"
     ]
    },
    {
     "name": "stderr",
     "output_type": "stream",
     "text": [
      "100%|█████████████████████████████████████████| 101/101 [00:09<00:00, 11.05it/s]\n"
     ]
    },
    {
     "name": "stdout",
     "output_type": "stream",
     "text": [
      "Generator Error Metric is 0.001063134171999991\n",
      "Time for epoch 237 is 9.138898134231567 sec\n",
      "Epoch: 238\n",
      "Learning rate: 0.0002\n"
     ]
    },
    {
     "name": "stderr",
     "output_type": "stream",
     "text": [
      "100%|█████████████████████████████████████████| 101/101 [00:12<00:00,  8.26it/s]\n"
     ]
    },
    {
     "name": "stdout",
     "output_type": "stream",
     "text": [
      "Generator Error Metric is 0.0016531097935512662\n",
      "Time for epoch 238 is 12.233370780944824 sec\n",
      "Epoch: 239\n",
      "Learning rate: 0.0002\n"
     ]
    },
    {
     "name": "stderr",
     "output_type": "stream",
     "text": [
      "100%|█████████████████████████████████████████| 101/101 [00:07<00:00, 14.35it/s]\n"
     ]
    },
    {
     "name": "stdout",
     "output_type": "stream",
     "text": [
      "Generator Error Metric is 0.0012049697106704116\n",
      "Time for epoch 239 is 7.040356636047363 sec\n",
      "Epoch: 240\n",
      "Learning rate: 0.0002\n"
     ]
    },
    {
     "name": "stderr",
     "output_type": "stream",
     "text": [
      "100%|█████████████████████████████████████████| 101/101 [00:13<00:00,  7.48it/s]\n"
     ]
    },
    {
     "name": "stdout",
     "output_type": "stream",
     "text": [
      "Generator Error Metric is 0.0012450497597455978\n",
      "Time for epoch 240 is 13.49708867073059 sec\n",
      "Epoch: 241\n",
      "Learning rate: 0.0002\n"
     ]
    },
    {
     "name": "stderr",
     "output_type": "stream",
     "text": [
      "100%|█████████████████████████████████████████| 101/101 [00:07<00:00, 14.35it/s]\n"
     ]
    },
    {
     "name": "stdout",
     "output_type": "stream",
     "text": [
      "Generator Error Metric is 0.0011572714429348707\n",
      "Time for epoch 241 is 7.039799213409424 sec\n",
      "Epoch: 242\n",
      "Learning rate: 0.0002\n"
     ]
    },
    {
     "name": "stderr",
     "output_type": "stream",
     "text": [
      "100%|█████████████████████████████████████████| 101/101 [00:07<00:00, 14.37it/s]\n"
     ]
    },
    {
     "name": "stdout",
     "output_type": "stream",
     "text": [
      "Generator Error Metric is 0.001233154907822609\n",
      "Time for epoch 242 is 7.03128719329834 sec\n",
      "Epoch: 243\n",
      "Learning rate: 0.0002\n"
     ]
    },
    {
     "name": "stderr",
     "output_type": "stream",
     "text": [
      "100%|█████████████████████████████████████████| 101/101 [00:07<00:00, 14.33it/s]\n"
     ]
    },
    {
     "name": "stdout",
     "output_type": "stream",
     "text": [
      "Generator Error Metric is 0.0014194243121892214\n",
      "Time for epoch 243 is 7.052835702896118 sec\n",
      "Epoch: 244\n",
      "Learning rate: 0.0002\n"
     ]
    },
    {
     "name": "stderr",
     "output_type": "stream",
     "text": [
      "100%|█████████████████████████████████████████| 101/101 [00:07<00:00, 14.37it/s]\n"
     ]
    },
    {
     "name": "stdout",
     "output_type": "stream",
     "text": [
      "Generator Error Metric is 0.001758465194143355\n",
      "Time for epoch 244 is 7.031522750854492 sec\n",
      "Epoch: 245\n",
      "Learning rate: 0.0002\n"
     ]
    },
    {
     "name": "stderr",
     "output_type": "stream",
     "text": [
      "100%|█████████████████████████████████████████| 101/101 [00:07<00:00, 14.37it/s]\n"
     ]
    },
    {
     "name": "stdout",
     "output_type": "stream",
     "text": [
      "Generator Error Metric is 0.0012476969277486205\n",
      "Time for epoch 245 is 7.032182216644287 sec\n",
      "Epoch: 246\n",
      "Learning rate: 0.0002\n"
     ]
    },
    {
     "name": "stderr",
     "output_type": "stream",
     "text": [
      "100%|█████████████████████████████████████████| 101/101 [00:07<00:00, 14.34it/s]\n"
     ]
    },
    {
     "name": "stdout",
     "output_type": "stream",
     "text": [
      "Generator Error Metric is 0.0011535931844264269\n",
      "Time for epoch 246 is 7.043482065200806 sec\n",
      "Epoch: 247\n",
      "Learning rate: 0.0002\n"
     ]
    },
    {
     "name": "stderr",
     "output_type": "stream",
     "text": [
      "100%|█████████████████████████████████████████| 101/101 [00:07<00:00, 14.37it/s]\n"
     ]
    },
    {
     "name": "stdout",
     "output_type": "stream",
     "text": [
      "Generator Error Metric is 0.0014059558743610978\n",
      "Time for epoch 247 is 7.032675504684448 sec\n",
      "Epoch: 248\n",
      "Learning rate: 0.0002\n"
     ]
    },
    {
     "name": "stderr",
     "output_type": "stream",
     "text": [
      "100%|█████████████████████████████████████████| 101/101 [00:07<00:00, 14.36it/s]\n"
     ]
    },
    {
     "name": "stdout",
     "output_type": "stream",
     "text": [
      "Generator Error Metric is 0.0010883412323892117\n",
      "Time for epoch 248 is 7.033920049667358 sec\n",
      "Epoch: 249\n",
      "Learning rate: 0.0002\n"
     ]
    },
    {
     "name": "stderr",
     "output_type": "stream",
     "text": [
      "100%|█████████████████████████████████████████| 101/101 [00:06<00:00, 14.43it/s]\n"
     ]
    },
    {
     "name": "stdout",
     "output_type": "stream",
     "text": [
      "Generator Error Metric is 0.0010366813512519002\n",
      "Time for epoch 249 is 7.000130891799927 sec\n",
      "Epoch: 250\n",
      "Learning rate: 0.0002\n"
     ]
    },
    {
     "name": "stderr",
     "output_type": "stream",
     "text": [
      "100%|█████████████████████████████████████████| 101/101 [00:07<00:00, 14.43it/s]\n"
     ]
    },
    {
     "name": "stdout",
     "output_type": "stream",
     "text": [
      "Generator Error Metric is 0.0010117426281794906\n",
      "Time for epoch 250 is 9.376595258712769 sec\n",
      "Epoch: 251\n",
      "Learning rate: 0.0002\n"
     ]
    },
    {
     "name": "stderr",
     "output_type": "stream",
     "text": [
      "100%|█████████████████████████████████████████| 101/101 [00:13<00:00,  7.65it/s]\n"
     ]
    },
    {
     "name": "stdout",
     "output_type": "stream",
     "text": [
      "Generator Error Metric is 0.0012645210372284055\n",
      "Time for epoch 251 is 13.21085500717163 sec\n",
      "Epoch: 252\n",
      "Learning rate: 0.0002\n"
     ]
    },
    {
     "name": "stderr",
     "output_type": "stream",
     "text": [
      "100%|█████████████████████████████████████████| 101/101 [00:13<00:00,  7.67it/s]\n"
     ]
    },
    {
     "name": "stdout",
     "output_type": "stream",
     "text": [
      "Generator Error Metric is 0.001145069021731615\n",
      "Time for epoch 252 is 13.172756910324097 sec\n",
      "Epoch: 253\n",
      "Learning rate: 0.0002\n"
     ]
    },
    {
     "name": "stderr",
     "output_type": "stream",
     "text": [
      "100%|█████████████████████████████████████████| 101/101 [00:13<00:00,  7.68it/s]\n"
     ]
    },
    {
     "name": "stdout",
     "output_type": "stream",
     "text": [
      "Generator Error Metric is 0.0010702634463086724\n",
      "Time for epoch 253 is 13.156234979629517 sec\n",
      "Epoch: 254\n",
      "Learning rate: 0.0002\n"
     ]
    },
    {
     "name": "stderr",
     "output_type": "stream",
     "text": [
      "100%|█████████████████████████████████████████| 101/101 [00:13<00:00,  7.68it/s]\n"
     ]
    },
    {
     "name": "stdout",
     "output_type": "stream",
     "text": [
      "Generator Error Metric is 0.0012522535398602486\n",
      "Time for epoch 254 is 13.15688419342041 sec\n",
      "Epoch: 255\n",
      "Learning rate: 0.0002\n"
     ]
    },
    {
     "name": "stderr",
     "output_type": "stream",
     "text": [
      "100%|█████████████████████████████████████████| 101/101 [00:13<00:00,  7.68it/s]\n"
     ]
    },
    {
     "name": "stdout",
     "output_type": "stream",
     "text": [
      "Generator Error Metric is 0.001118214218877256\n",
      "Time for epoch 255 is 13.158940315246582 sec\n",
      "Epoch: 256\n",
      "Learning rate: 0.0002\n"
     ]
    },
    {
     "name": "stderr",
     "output_type": "stream",
     "text": [
      "100%|█████████████████████████████████████████| 101/101 [00:13<00:00,  7.67it/s]\n"
     ]
    },
    {
     "name": "stdout",
     "output_type": "stream",
     "text": [
      "Generator Error Metric is 0.001331176608800888\n",
      "Time for epoch 256 is 13.175684690475464 sec\n",
      "Epoch: 257\n",
      "Learning rate: 0.0002\n"
     ]
    },
    {
     "name": "stderr",
     "output_type": "stream",
     "text": [
      "100%|█████████████████████████████████████████| 101/101 [00:13<00:00,  7.66it/s]\n"
     ]
    },
    {
     "name": "stdout",
     "output_type": "stream",
     "text": [
      "Generator Error Metric is 0.0012231788132339716\n",
      "Time for epoch 257 is 13.193922281265259 sec\n",
      "Epoch: 258\n",
      "Learning rate: 0.0002\n"
     ]
    },
    {
     "name": "stderr",
     "output_type": "stream",
     "text": [
      "100%|█████████████████████████████████████████| 101/101 [00:13<00:00,  7.65it/s]\n"
     ]
    },
    {
     "name": "stdout",
     "output_type": "stream",
     "text": [
      "Generator Error Metric is 0.039164718240499496\n",
      "Time for epoch 258 is 13.206762075424194 sec\n",
      "Epoch: 259\n",
      "Learning rate: 0.0002\n"
     ]
    },
    {
     "name": "stderr",
     "output_type": "stream",
     "text": [
      "100%|█████████████████████████████████████████| 101/101 [00:13<00:00,  7.66it/s]\n"
     ]
    },
    {
     "name": "stdout",
     "output_type": "stream",
     "text": [
      "Generator Error Metric is 0.01647479087114334\n",
      "Time for epoch 259 is 13.185558319091797 sec\n",
      "Epoch: 260\n",
      "Learning rate: 0.0002\n"
     ]
    },
    {
     "name": "stderr",
     "output_type": "stream",
     "text": [
      "100%|█████████████████████████████████████████| 101/101 [00:13<00:00,  7.66it/s]\n"
     ]
    },
    {
     "name": "stdout",
     "output_type": "stream",
     "text": [
      "Generator Error Metric is 0.005486226640641689\n",
      "Time for epoch 260 is 13.185203552246094 sec\n",
      "Epoch: 261\n",
      "Learning rate: 0.0002\n"
     ]
    },
    {
     "name": "stderr",
     "output_type": "stream",
     "text": [
      "100%|█████████████████████████████████████████| 101/101 [00:13<00:00,  7.66it/s]\n"
     ]
    },
    {
     "name": "stdout",
     "output_type": "stream",
     "text": [
      "Generator Error Metric is 0.002532880986109376\n",
      "Time for epoch 261 is 13.187279462814331 sec\n",
      "Epoch: 262\n",
      "Learning rate: 0.0002\n"
     ]
    },
    {
     "name": "stderr",
     "output_type": "stream",
     "text": [
      "100%|█████████████████████████████████████████| 101/101 [00:13<00:00,  7.67it/s]\n"
     ]
    },
    {
     "name": "stdout",
     "output_type": "stream",
     "text": [
      "Generator Error Metric is 0.0018276608316227794\n",
      "Time for epoch 262 is 13.173989534378052 sec\n",
      "Epoch: 263\n",
      "Learning rate: 0.0002\n"
     ]
    },
    {
     "name": "stderr",
     "output_type": "stream",
     "text": [
      "100%|█████████████████████████████████████████| 101/101 [00:13<00:00,  7.66it/s]\n"
     ]
    },
    {
     "name": "stdout",
     "output_type": "stream",
     "text": [
      "Generator Error Metric is 0.001798471319489181\n",
      "Time for epoch 263 is 13.182559728622437 sec\n",
      "Epoch: 264\n",
      "Learning rate: 0.0002\n"
     ]
    },
    {
     "name": "stderr",
     "output_type": "stream",
     "text": [
      "100%|█████████████████████████████████████████| 101/101 [00:13<00:00,  7.66it/s]\n"
     ]
    },
    {
     "name": "stdout",
     "output_type": "stream",
     "text": [
      "Generator Error Metric is 0.00247418531216681\n",
      "Time for epoch 264 is 13.19284725189209 sec\n",
      "Epoch: 265\n",
      "Learning rate: 0.0002\n"
     ]
    },
    {
     "name": "stderr",
     "output_type": "stream",
     "text": [
      "100%|█████████████████████████████████████████| 101/101 [00:13<00:00,  7.66it/s]\n"
     ]
    },
    {
     "name": "stdout",
     "output_type": "stream",
     "text": [
      "Generator Error Metric is 0.001927164033986628\n",
      "Time for epoch 265 is 13.195427894592285 sec\n",
      "Epoch: 266\n",
      "Learning rate: 0.0002\n"
     ]
    },
    {
     "name": "stderr",
     "output_type": "stream",
     "text": [
      "100%|█████████████████████████████████████████| 101/101 [00:13<00:00,  7.65it/s]\n"
     ]
    },
    {
     "name": "stdout",
     "output_type": "stream",
     "text": [
      "Generator Error Metric is 0.704119861125946\n",
      "Time for epoch 266 is 13.196409463882446 sec\n",
      "Epoch: 267\n",
      "Learning rate: 0.0002\n"
     ]
    },
    {
     "name": "stderr",
     "output_type": "stream",
     "text": [
      "100%|█████████████████████████████████████████| 101/101 [00:13<00:00,  7.65it/s]\n"
     ]
    },
    {
     "name": "stdout",
     "output_type": "stream",
     "text": [
      "Generator Error Metric is 0.3239797353744507\n",
      "Time for epoch 267 is 13.200942277908325 sec\n",
      "Epoch: 268\n",
      "Learning rate: 0.0002\n"
     ]
    },
    {
     "name": "stderr",
     "output_type": "stream",
     "text": [
      "100%|█████████████████████████████████████████| 101/101 [00:13<00:00,  7.65it/s]\n"
     ]
    },
    {
     "name": "stdout",
     "output_type": "stream",
     "text": [
      "Generator Error Metric is 0.09003517031669617\n",
      "Time for epoch 268 is 13.20231008529663 sec\n",
      "Epoch: 269\n",
      "Learning rate: 0.0002\n"
     ]
    },
    {
     "name": "stderr",
     "output_type": "stream",
     "text": [
      "100%|█████████████████████████████████████████| 101/101 [00:13<00:00,  7.66it/s]\n"
     ]
    },
    {
     "name": "stdout",
     "output_type": "stream",
     "text": [
      "Generator Error Metric is 0.04511731490492821\n",
      "Time for epoch 269 is 13.194518089294434 sec\n",
      "Epoch: 270\n",
      "Learning rate: 0.0002\n"
     ]
    },
    {
     "name": "stderr",
     "output_type": "stream",
     "text": [
      "100%|█████████████████████████████████████████| 101/101 [00:13<00:00,  7.65it/s]\n"
     ]
    },
    {
     "name": "stdout",
     "output_type": "stream",
     "text": [
      "Generator Error Metric is 0.012134574353694916\n",
      "Time for epoch 270 is 13.19714093208313 sec\n",
      "Epoch: 271\n",
      "Learning rate: 0.0002\n"
     ]
    },
    {
     "name": "stderr",
     "output_type": "stream",
     "text": [
      "100%|█████████████████████████████████████████| 101/101 [00:13<00:00,  7.64it/s]\n"
     ]
    },
    {
     "name": "stdout",
     "output_type": "stream",
     "text": [
      "Generator Error Metric is 0.009109197184443474\n",
      "Time for epoch 271 is 13.21593713760376 sec\n",
      "Epoch: 272\n",
      "Learning rate: 0.0002\n"
     ]
    },
    {
     "name": "stderr",
     "output_type": "stream",
     "text": [
      "100%|█████████████████████████████████████████| 101/101 [00:13<00:00,  7.65it/s]\n"
     ]
    },
    {
     "name": "stdout",
     "output_type": "stream",
     "text": [
      "Generator Error Metric is 0.0065855360589921474\n",
      "Time for epoch 272 is 13.199004411697388 sec\n",
      "Epoch: 273\n",
      "Learning rate: 0.0002\n"
     ]
    },
    {
     "name": "stderr",
     "output_type": "stream",
     "text": [
      "100%|█████████████████████████████████████████| 101/101 [00:13<00:00,  7.65it/s]\n"
     ]
    },
    {
     "name": "stdout",
     "output_type": "stream",
     "text": [
      "Generator Error Metric is 0.012518093921244144\n",
      "Time for epoch 273 is 13.205307722091675 sec\n",
      "Epoch: 274\n",
      "Learning rate: 0.0002\n"
     ]
    },
    {
     "name": "stderr",
     "output_type": "stream",
     "text": [
      "100%|█████████████████████████████████████████| 101/101 [00:13<00:00,  7.64it/s]\n"
     ]
    },
    {
     "name": "stdout",
     "output_type": "stream",
     "text": [
      "Generator Error Metric is 0.005405941512435675\n",
      "Time for epoch 274 is 13.22191309928894 sec\n",
      "Epoch: 275\n",
      "Learning rate: 0.0002\n"
     ]
    },
    {
     "name": "stderr",
     "output_type": "stream",
     "text": [
      "100%|█████████████████████████████████████████| 101/101 [00:13<00:00,  7.64it/s]\n"
     ]
    },
    {
     "name": "stdout",
     "output_type": "stream",
     "text": [
      "Generator Error Metric is 0.005720415152609348\n",
      "Time for epoch 275 is 13.223515272140503 sec\n",
      "Epoch: 276\n",
      "Learning rate: 0.0002\n"
     ]
    },
    {
     "name": "stderr",
     "output_type": "stream",
     "text": [
      "100%|█████████████████████████████████████████| 101/101 [00:13<00:00,  7.63it/s]\n"
     ]
    },
    {
     "name": "stdout",
     "output_type": "stream",
     "text": [
      "Generator Error Metric is 0.008516243658959866\n",
      "Time for epoch 276 is 13.23550820350647 sec\n",
      "Epoch: 277\n",
      "Learning rate: 0.0002\n"
     ]
    },
    {
     "name": "stderr",
     "output_type": "stream",
     "text": [
      "100%|█████████████████████████████████████████| 101/101 [00:13<00:00,  7.63it/s]\n"
     ]
    },
    {
     "name": "stdout",
     "output_type": "stream",
     "text": [
      "Generator Error Metric is 0.0046988860704004765\n",
      "Time for epoch 277 is 13.23075795173645 sec\n",
      "Epoch: 278\n",
      "Learning rate: 0.0002\n"
     ]
    },
    {
     "name": "stderr",
     "output_type": "stream",
     "text": [
      "100%|█████████████████████████████████████████| 101/101 [00:13<00:00,  7.64it/s]\n"
     ]
    },
    {
     "name": "stdout",
     "output_type": "stream",
     "text": [
      "Generator Error Metric is 0.02553742006421089\n",
      "Time for epoch 278 is 13.220814228057861 sec\n",
      "Epoch: 279\n",
      "Learning rate: 0.0002\n"
     ]
    },
    {
     "name": "stderr",
     "output_type": "stream",
     "text": [
      "100%|█████████████████████████████████████████| 101/101 [00:13<00:00,  7.64it/s]\n"
     ]
    },
    {
     "name": "stdout",
     "output_type": "stream",
     "text": [
      "Generator Error Metric is 0.010854176245629787\n",
      "Time for epoch 279 is 13.223169565200806 sec\n",
      "Epoch: 280\n",
      "Learning rate: 0.0002\n"
     ]
    },
    {
     "name": "stderr",
     "output_type": "stream",
     "text": [
      "100%|█████████████████████████████████████████| 101/101 [00:13<00:00,  7.65it/s]\n"
     ]
    },
    {
     "name": "stdout",
     "output_type": "stream",
     "text": [
      "Generator Error Metric is 0.0053759668953716755\n",
      "Time for epoch 280 is 13.197407484054565 sec\n",
      "Epoch: 281\n",
      "Learning rate: 0.0002\n"
     ]
    },
    {
     "name": "stderr",
     "output_type": "stream",
     "text": [
      "100%|█████████████████████████████████████████| 101/101 [00:13<00:00,  7.65it/s]\n"
     ]
    },
    {
     "name": "stdout",
     "output_type": "stream",
     "text": [
      "Generator Error Metric is 0.004415868781507015\n",
      "Time for epoch 281 is 13.199968338012695 sec\n",
      "Epoch: 282\n",
      "Learning rate: 0.0002\n"
     ]
    },
    {
     "name": "stderr",
     "output_type": "stream",
     "text": [
      "100%|█████████████████████████████████████████| 101/101 [00:13<00:00,  7.61it/s]\n"
     ]
    },
    {
     "name": "stdout",
     "output_type": "stream",
     "text": [
      "Generator Error Metric is 0.005917015485465527\n",
      "Time for epoch 282 is 13.269127368927002 sec\n",
      "Epoch: 283\n",
      "Learning rate: 0.0002\n"
     ]
    },
    {
     "name": "stderr",
     "output_type": "stream",
     "text": [
      "100%|█████████████████████████████████████████| 101/101 [00:07<00:00, 12.90it/s]\n"
     ]
    },
    {
     "name": "stdout",
     "output_type": "stream",
     "text": [
      "Generator Error Metric is 0.005823959596455097\n",
      "Time for epoch 283 is 7.8327720165252686 sec\n",
      "Epoch: 284\n",
      "Learning rate: 0.0002\n"
     ]
    },
    {
     "name": "stderr",
     "output_type": "stream",
     "text": [
      "100%|█████████████████████████████████████████| 101/101 [00:07<00:00, 14.24it/s]\n"
     ]
    },
    {
     "name": "stdout",
     "output_type": "stream",
     "text": [
      "Generator Error Metric is 0.003994480241090059\n",
      "Time for epoch 284 is 7.094664096832275 sec\n",
      "Epoch: 285\n",
      "Learning rate: 0.0002\n"
     ]
    },
    {
     "name": "stderr",
     "output_type": "stream",
     "text": [
      "100%|█████████████████████████████████████████| 101/101 [00:07<00:00, 14.25it/s]\n"
     ]
    },
    {
     "name": "stdout",
     "output_type": "stream",
     "text": [
      "Generator Error Metric is 0.003638234455138445\n",
      "Time for epoch 285 is 7.088718414306641 sec\n",
      "Epoch: 286\n",
      "Learning rate: 0.0002\n"
     ]
    },
    {
     "name": "stderr",
     "output_type": "stream",
     "text": [
      "100%|█████████████████████████████████████████| 101/101 [00:07<00:00, 14.22it/s]\n"
     ]
    },
    {
     "name": "stdout",
     "output_type": "stream",
     "text": [
      "Generator Error Metric is 0.002782482421025634\n",
      "Time for epoch 286 is 7.1020097732543945 sec\n",
      "Epoch: 287\n",
      "Learning rate: 0.0002\n"
     ]
    },
    {
     "name": "stderr",
     "output_type": "stream",
     "text": [
      " 48%|███████████████████▉                      | 48/101 [00:03<00:03, 13.50it/s]"
     ]
    }
   ],
   "source": [
    "# for s in range(7):\n",
    "\n",
    "#     print(\"Subject {}\".format(s+1))\n",
    "\n",
    "#     lr_patches = []\n",
    "#     hr_patches = []\n",
    "\n",
    "#     for (i, j, k) in sel_indices[np.where(sel_indices[:,0]==s),1:].squeeze():\n",
    "    \n",
    "    \n",
    "#         lr_patch = np.copy(subjects_lr[s][\n",
    "#                                 i - p_size_i - 1 : i + p_size_i,, vmax=2.0\n",
    "#                                 j - p_size_i - 1 : j + p_size_i,\n",
    "#                                 k - p_size_i - 1 : k + p_size_i, :])\n",
    "                           \n",
    "    \n",
    "#         hr_patch = np.copy(subjects_hr[s][\n",
    "#                                 i - p_size_o - e_or_o : i + p_size_o,\n",
    "#                                 j - p_size_o - e_or_o : j + p_size_o,\n",
    "#                                 k - p_size_o - e_or_o : k + p_size_o, :])\n",
    "                           \n",
    "#         ipatch_mask = subjects_masks[s][\n",
    "#                                 i - p_size_i - e_or_o : i + p_size_i,\n",
    "#                                 j - p_size_i - e_or_o : j + p_size_i,\n",
    "#                                 k - p_size_i - e_or_o : k + p_size_i]\n",
    "\n",
    "#         opatch_mask = subjects_masks[s][\n",
    "#                                 i - p_size_o - e_or_o : i + p_size_o,\n",
    "#                                 j - p_size_o - e_or_o : j + p_size_o,\n",
    "#                                 k - p_size_o - e_or_o : k + p_size_o]\n",
    "\n",
    "#         lr_patch[ipatch_mask == 0] = 0\n",
    "#         hr_patch[opatch_mask == 0] = 0\n",
    "\n",
    "#         lr_patches.append(lr_patch)\n",
    "#         hr_patches.append(hr_patch)\n",
    "\n",
    "#     lr_patches = np.array(lr_patches)\n",
    "#     hr_patches = np.array(hr_patches)\n",
    "\n",
    "#     # lr_patches = np.array([subjects_lr[s][\n",
    "#     #                             i - p_size_i - 1 : i + p_size_i,\n",
    "#     #                             j - p_size_i - 1 : j + p_size_i,\n",
    "#     #                             k - p_size_i - 1 : k + p_size_i, :]\n",
    "#     #                        for (i,j,k) in sel_indices[np.where(sel_indices[:,0]==s),1:].squeeze()])\n",
    "    \n",
    "#     # hr_patches = np.array([subjects_hr[s][\n",
    "#     #                             i - p_size_o - e_or_o : i + p_size_o,\n",
    "#     #                             j - p_size_o - e_or_o : j + p_size_o,\n",
    "#     #                             k - p_size_o - e_or_o : k + p_size_o, :]\n",
    "#     #                        for (i,j,k) in sel_indices[np.where(sel_indices[:,0]==s),1:].squeeze()])\n",
    "    \n",
    "# # lr_patches = np.array([subjects_lr[s][\n",
    "# #                             i - p_size_i - e_or_o : i + p_size_i,\n",
    "# #                             j - p_size_i - e_or_o : j + p_size_i,\n",
    "# #                             k - p_size_i - e_or_o : k + p_size_i, :]\n",
    "# #                        # for (i,j,k) in sel_indices[np.where(sel_indices[:,0]==s),1:].squeeze()])\n",
    "# #                        for (s,i,j,k) in sel_indices])\n",
    "\n",
    "# # hr_patches = np.array([subjects_hr[s][\n",
    "# #                             i - p_size_o - e_or_o : i + p_size_o,\n",
    "# #                             j - p_size_o - e_or_o : j + p_size_o,\n",
    "# #                             k - p_size_o - e_or_o : k + p_size_o, :]\n",
    "# #                        # for (i,j,k) in sel_indices[np.where(sel_indices[:,0]==s),1:].squeeze()])\n",
    "# #                        for (s,i,j,k) in sel_indices])\n",
    "\n",
    "#     dataset = tf.data.Dataset.from_tensor_slices((lr_patches, hr_patches))\n",
    "    \n",
    "train([sel_indices, subjects_lr, subjects_hr, subjects_masks], 300)"
   ]
  },
  {
   "cell_type": "code",
   "execution_count": null,
   "metadata": {},
   "outputs": [],
   "source": [
    "i = 60 \n",
    "j = 60\n",
    "k = 80\n",
    "\n",
    "channel = 1\n",
    "\n",
    "lr_patch = np.copy(subjects_lr[6][\n",
    "                        i - p_size_i - e_or_o : i + p_size_i,\n",
    "                        j - p_size_i - e_or_o : j + p_size_i,\n",
    "                        k - p_size_i - e_or_o : k + p_size_i, :])\n",
    "\n",
    "hr_patch = np.copy(subjects_hr[6][\n",
    "                        i - p_size_o - e_or_o : i + p_size_o,\n",
    "                        j - p_size_o - e_or_o : j + p_size_o,\n",
    "                        k - p_size_o - e_or_o : k + p_size_o, :])\n",
    "\n",
    "lr_mask = subjects_masks[6][\n",
    "                            i - p_size_i - e_or_o : i + p_size_i,\n",
    "                            j - p_size_i - e_or_o : j + p_size_i,\n",
    "                            k - p_size_i - e_or_o : k + p_size_i]\n",
    "\n",
    "lr_patch[lr_mask == 0] = 0\n",
    "\n",
    "generated_image = generator(lr_patch[None,...], training=False)\n",
    "\n",
    "print(discriminator([lr_patch[None,...,:22],generated_image], training=False))\n",
    "\n",
    "print(discriminator([lr_patch[None,...,:22],hr_patch[None,...]], training=False))\n",
    "\n",
    "plt.imshow(generated_image[0,:,:,3,channel],cmap='gray')\n",
    "plt.figure()\n",
    "plt.imshow(hr_patch[:,:,3,channel],cmap='gray')"
   ]
  },
  {
   "cell_type": "code",
   "execution_count": null,
   "metadata": {},
   "outputs": [],
   "source": [
    "checkpoint.restore(tf.train.latest_checkpoint(checkpoint_dir))"
   ]
  },
  {
   "cell_type": "code",
   "execution_count": null,
   "metadata": {},
   "outputs": [],
   "source": [
    "# subjects_lr\n",
    "# subjects_hr\n",
    "# subjects_masks\n",
    "\n",
    "result_image = np.zeros(hires_output.shape)\n",
    "\n",
    "for (i, j, k) in tqdm(sel_indices[np.where(sel_indices[:,0]==6),1:].squeeze()):\n",
    "\n",
    "    lr_patch = np.copy(subjects_lr[6][\n",
    "                            i - p_size_i - e_or_o : i + p_size_i,\n",
    "                            j - p_size_i - e_or_o : j + p_size_i,\n",
    "                            k - p_size_i - e_or_o : k + p_size_i, :])\n",
    "\n",
    "    lr_mask = subjects_masks[6][\n",
    "                                i - p_size_i - e_or_o : i + p_size_i,\n",
    "                                j - p_size_i - e_or_o : j + p_size_i,\n",
    "                                k - p_size_i - e_or_o : k + p_size_i]\n",
    "\n",
    "    lr_patch[lr_mask == 0] = 0\n",
    "\n",
    "    generated_image = generator(lr_patch[None,...], training=False)\n",
    "\n",
    "    result_image[i - p_size_o - e_or_o : i + p_size_o,\n",
    "                 j - p_size_o - e_or_o : j + p_size_o,\n",
    "                 k - p_size_o - e_or_o : k + p_size_o, :] = generated_image\n",
    "\n",
    "result_image[subjects_masks[6] == 0] = 0\n",
    "    "
   ]
  },
  {
   "cell_type": "code",
   "execution_count": null,
   "metadata": {},
   "outputs": [],
   "source": [
    "zdim = 60\n",
    "channel = 0\n",
    "\n",
    "# plt.imshow(subjects_masks[6][:,:,zdim], cmap='gray')\n",
    "# plt.figure()\n",
    "plt.imshow(subjects_lr[6][:,:,zdim,channel], cmap='gray')\n",
    "plt.figure()\n",
    "plt.imshow(subjects_hr[6][:,:,zdim,channel], cmap='gray')\n",
    "plt.figure()\n",
    "plt.imshow(result_image[:,:,zdim,channel], cmap='gray')\n",
    "# plt.imshow((result_image[:,:,zdim,channel])*subjects_masks[6][:,:,zdim], cmap='gray')"
   ]
  },
  {
   "cell_type": "code",
   "execution_count": null,
   "metadata": {},
   "outputs": [],
   "source": [
    "plt.imshow(subjects_lr[6][50:90,60:120,zdim,channel], cmap='gray')\n",
    "plt.figure()\n",
    "plt.imshow(subjects_hr[6][50:90,60:120,zdim,channel], cmap='gray')\n",
    "plt.figure()\n",
    "plt.imshow(result_image[50:90,60:120,zdim,channel], cmap='gray')\n",
    "\n",
    "print(np.min(subjects_lr[6][40:80,60:120,zdim,channel]), np.min(subjects_hr[6][40:80,60:120,zdim,channel]), np.min(result_image[40:80,60:120,zdim,channel]))"
   ]
  },
  {
   "cell_type": "code",
   "execution_count": null,
   "metadata": {},
   "outputs": [],
   "source": [
    "# generator.save_weights('Model/gen_weights')\n",
    "# discriminator.save_weights('Model/disc_weights')"
   ]
  },
  {
   "cell_type": "code",
   "execution_count": null,
   "metadata": {},
   "outputs": [],
   "source": [
    "generator.save('Model/generator{}x_dti_norm'.format(2*p_size_o + e_or_o))\n",
    "discriminator.save('Model/discriminator{}x_dti_norm'.format(2*p_size_o + e_or_o))"
   ]
  },
  {
   "cell_type": "code",
   "execution_count": null,
   "metadata": {},
   "outputs": [],
   "source": []
  }
 ],
 "metadata": {
  "kernelspec": {
   "display_name": "Python 3 (ipykernel)",
   "language": "python",
   "name": "python3"
  },
  "language_info": {
   "codemirror_mode": {
    "name": "ipython",
    "version": 3
   },
   "file_extension": ".py",
   "mimetype": "text/x-python",
   "name": "python",
   "nbconvert_exporter": "python",
   "pygments_lexer": "ipython3",
   "version": "3.11.4"
  }
 },
 "nbformat": 4,
 "nbformat_minor": 4
}
