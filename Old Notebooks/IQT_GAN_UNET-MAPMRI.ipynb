{
 "cells": [
  {
   "cell_type": "code",
   "execution_count": 1,
   "metadata": {
    "ExecuteTime": {
     "end_time": "2023-08-05T13:44:49.616254700Z",
     "start_time": "2023-08-05T13:44:43.055344700Z"
    }
   },
   "outputs": [
    {
     "name": "stderr",
     "output_type": "stream",
     "text": [
      "2023-08-21 20:47:00.597404: I tensorflow/core/util/port.cc:110] oneDNN custom operations are on. You may see slightly different numerical results due to floating-point round-off errors from different computation orders. To turn them off, set the environment variable `TF_ENABLE_ONEDNN_OPTS=0`.\n",
      "2023-08-21 20:47:00.625725: I tensorflow/core/platform/cpu_feature_guard.cc:182] This TensorFlow binary is optimized to use available CPU instructions in performance-critical operations.\n",
      "To enable the following instructions: AVX2 AVX_VNNI FMA, in other operations, rebuild TensorFlow with the appropriate compiler flags.\n",
      "2023-08-21 20:47:01.169602: W tensorflow/compiler/tf2tensorrt/utils/py_utils.cc:38] TF-TRT Warning: Could not find TensorRT\n"
     ]
    }
   ],
   "source": [
    "import tensorflow as tf"
   ]
  },
  {
   "cell_type": "code",
   "execution_count": 2,
   "metadata": {
    "ExecuteTime": {
     "end_time": "2023-08-05T13:44:49.635699800Z",
     "start_time": "2023-08-05T13:44:49.617799900Z"
    },
    "collapsed": false,
    "jupyter": {
     "outputs_hidden": false
    }
   },
   "outputs": [
    {
     "data": {
      "text/plain": [
       "'2.13.0'"
      ]
     },
     "execution_count": 2,
     "metadata": {},
     "output_type": "execute_result"
    }
   ],
   "source": [
    "tf.__version__"
   ]
  },
  {
   "cell_type": "code",
   "execution_count": 3,
   "metadata": {
    "ExecuteTime": {
     "end_time": "2023-08-05T13:44:51.214287100Z",
     "start_time": "2023-08-05T13:44:49.620274400Z"
    },
    "collapsed": false,
    "jupyter": {
     "outputs_hidden": false
    }
   },
   "outputs": [],
   "source": [
    "import glob\n",
    "# import imageio\n",
    "import matplotlib.pyplot as plt\n",
    "import numpy as np\n",
    "import os\n",
    "import PIL\n",
    "# from tensorflow.python.keras import layers\n",
    "from tensorflow.keras import layers, activations\n",
    "import time\n",
    "import nibabel as nib\n",
    "from tqdm import tqdm\n",
    "import gc\n",
    "from scipy.ndimage import binary_erosion\n",
    "from IPython import display\n",
    "import datetime\n",
    "\n",
    "import model"
   ]
  },
  {
   "cell_type": "code",
   "execution_count": 4,
   "metadata": {},
   "outputs": [
    {
     "name": "stdout",
     "output_type": "stream",
     "text": [
      "['390645', '545345', '106016', '120111', '101915', '351938', '705341']\n"
     ]
    }
   ],
   "source": [
    "subjects = [ f.name for f in os.scandir('./Data') if f.is_dir() and f.name != '.ipynb_checkpoints']\n",
    "\n",
    "# subjects = ['390645', '120111']\n",
    "\n",
    "e_or_o = 0\n",
    "\n",
    "p_size_i = 16\n",
    "p_size_o = p_size_i\n",
    "\n",
    "print(subjects)"
   ]
  },
  {
   "cell_type": "code",
   "execution_count": 5,
   "metadata": {
    "ExecuteTime": {
     "end_time": "2023-08-05T14:00:04.659577500Z",
     "start_time": "2023-08-05T14:00:01.079241200Z"
    }
   },
   "outputs": [
    {
     "name": "stdout",
     "output_type": "stream",
     "text": [
      "Loading Subject 390645\n",
      "Loading Subject 545345\n",
      "Loading Subject 106016\n",
      "Loading Subject 120111\n",
      "Loading Subject 101915\n",
      "Loading Subject 351938\n",
      "Loading Subject 705341\n"
     ]
    }
   ],
   "source": [
    "subjects_lr = []\n",
    "subjects_hr = []\n",
    "subjects_masks = []\n",
    "\n",
    "subjects_preproc_values_lr = []\n",
    "subjects_preproc_values_hr = []\n",
    "\n",
    "subjects_preproc_values_h4_lr = []\n",
    "subjects_preproc_values_h4_hr = []\n",
    "\n",
    "subjects_t1_preproc_values = []\n",
    "\n",
    "for subj in subjects:\n",
    "\n",
    "    h4_imgs = []\n",
    "    h4_imgs_lr = []\n",
    "    dti_imgs = []\n",
    "    dti_imgs_lr = []\n",
    "\n",
    "    # DTI normalisation metrics pre-normalisation (storing max and min values in the mask) - Store for HR only\n",
    "    dti_preprocs_hr = np.zeros((6,2))\n",
    "    dti_preprocs_lr = np.zeros((6,2))\n",
    "\n",
    "    h4_preprocs_hr = np.zeros((22,2))\n",
    "    h4_preprocs_lr = np.zeros((22,2))\n",
    "\n",
    "    print(\"Loading Subject {}\".format(subj))\n",
    "    \n",
    "    for i in range(1,9):\n",
    "    \n",
    "        dti_data = np.array(nib.load(\"Data/{}/T1w/Diffusion/dt_all_{}.nii\".format(subj,i)).get_fdata())\n",
    "        dti_data_lr = np.array(nib.load(\"Data/{}/T1w/Diffusion/dt_all_lowres_2_{}.nii\".format(subj,i)).get_fdata())\n",
    "    \n",
    "        # if i > 1:\n",
    "        #     dti_data[dti_imgs[0] < 0] = 0\n",
    "        #     dti_data_lr[dti_imgs[0] < 0] = 0\n",
    "    \n",
    "        dti_imgs.append(dti_data)\n",
    "        dti_imgs_lr.append(dti_data_lr)\n",
    "    \n",
    "        dti_data = None\n",
    "        dti_data_lr = None\n",
    "    \n",
    "    for i in range(1,25):\n",
    "    \n",
    "        h4_data = np.array(nib.load(\"Data/{}/T1w/Diffusion/h4_all_{}.nii\".format(subj,str(i).zfill(2))).get_fdata())\n",
    "        h4_data_lr = np.array(nib.load(\"Data/{}/T1w/Diffusion/h4_all_lowres_2_{}.nii\".format(subj,str(i).zfill(2))).get_fdata())\n",
    "    \n",
    "        # if i > 1:\n",
    "        #     h4_data[h4_data[0] < 0] = 0\n",
    "        #     h4_data_lr[h4_data[0] < 0] = 0\n",
    "        \n",
    "        h4_imgs.append(h4_data)\n",
    "        h4_imgs_lr.append(h4_data_lr)\n",
    "    \n",
    "        h4_data = None\n",
    "        h4_data_lr = None\n",
    "    \n",
    "    h4_imgs = np.array(h4_imgs).transpose((1,2,3,0))\n",
    "    h4_imgs_lr = np.array(h4_imgs_lr).transpose((1,2,3,0))\n",
    "    \n",
    "    dti_imgs = np.array(dti_imgs).transpose((1,2,3,0))\n",
    "    dti_imgs_lr = np.array(dti_imgs_lr).transpose((1,2,3,0))\n",
    "    \n",
    "    mask = h4_imgs[...,0]\n",
    "\n",
    "    binmask = np.zeros(mask.shape)\n",
    "\n",
    "    binmask[mask >= 0] = 1\n",
    "\n",
    "    mask = binary_erosion(binmask, structure=np.ones((5,5,5),np.uint8),iterations = 1)\n",
    "\n",
    "    binmask = None\n",
    "\n",
    "    # Calculate DTI ranges and normalise to range [0,1]\n",
    "    for i in range(2,8):\n",
    "\n",
    "        dti_preprocs_lr[i-2,:] = np.array([np.min(mask*dti_imgs_lr[...,i]), np.max(mask*dti_imgs_lr[...,i])])\n",
    "        dti_imgs_lr[mask>0, i] = (dti_imgs_lr[mask>0, i] - dti_preprocs_lr[i-2,0] + 0.0001) / (dti_preprocs_lr[i-2,1] - dti_preprocs_lr[i-2,0])\n",
    "        dti_imgs_lr[mask==0, i] = 0\n",
    "\n",
    "        dti_preprocs_hr[i-2,:] = np.array([np.min(mask*dti_imgs[...,i]), np.max(mask*dti_imgs[...,i])])\n",
    "        dti_imgs[mask>0, i] = (dti_imgs[mask>0, i] - dti_preprocs_hr[i-2,0] + 0.0001) / (dti_preprocs_hr[i-2,1] - dti_preprocs_hr[i-2,0])\n",
    "        dti_imgs[mask==0, i] = 0\n",
    "\n",
    "\n",
    "    # Calculate H4 ranges and normalise to range [0,1]\n",
    "    for i in range(2,24):\n",
    "\n",
    "        h4_preprocs_lr[i-2,:] = np.array([np.min(mask*h4_imgs_lr[...,i]), np.max(mask*h4_imgs_lr[...,i])])\n",
    "        h4_imgs_lr[mask>0, i] = (h4_imgs_lr[mask>0, i] - h4_preprocs_lr[i-2,0] + 0.0001) / (h4_preprocs_lr[i-2,1] - h4_preprocs_lr[i-2,0])\n",
    "        h4_imgs_lr[mask==0, i] = 0\n",
    "\n",
    "        h4_preprocs_hr[i-2,:] = np.array([np.min(mask*h4_imgs[...,i]), np.max(mask*h4_imgs[...,i])])\n",
    "        h4_imgs[mask>0, i] = (h4_imgs[mask>0, i] - h4_preprocs_hr[i-2,0] + 0.0001) / (h4_preprocs_hr[i-2,1] - h4_preprocs_hr[i-2,0])\n",
    "        h4_imgs[mask==0, i] = 0\n",
    "\n",
    "\n",
    "    t1w = nib.load(\"Data/{}/T1w/Diffusion/t1w.nii\".format(subj))\n",
    "    \n",
    "    t1w_data = np.array(t1w.get_fdata())\n",
    "    \n",
    "    t1w_data_format = np.concatenate(\n",
    "        (t1w_data[::2,::2,::2, None], t1w_data[::2,::2,1::2, None],\n",
    "         t1w_data[::2,1::2,::2, None], t1w_data[::2,1::2,1::2, None],\n",
    "         t1w_data[1::2,::2,::2, None], t1w_data[1::2,::2,1::2, None],\n",
    "         t1w_data[1::2,1::2,::2, None], t1w_data[1::2,1::2,1::2, None]),\n",
    "        axis=-1)\n",
    "\n",
    "    t1w_preprocs = np.array([np.min(t1w_data_format*mask[...,None]), np.max(t1w_data_format*mask[...,None])])\n",
    "    \n",
    "    subjects_t1_preproc_values.append(t1w_preprocs)    \n",
    "    t1w_data_format[mask>0, :] = (t1w_data_format[mask>0, :] - t1w_preprocs[0] + 0.0001) / (t1w_preprocs[1] - t1w_preprocs[0])\n",
    "\n",
    "    subjects_preproc_values_lr.append(dti_preprocs_lr)\n",
    "    subjects_preproc_values_hr.append(dti_preprocs_hr)\n",
    "\n",
    "    subjects_preproc_values_h4_lr.append(h4_preprocs_lr)\n",
    "    subjects_preproc_values_h4_hr.append(h4_preprocs_hr)\n",
    "\n",
    "    lowres_input = np.concatenate((h4_imgs_lr[...,2:], dti_imgs_lr[...,2:], t1w_data_format), axis=-1)\n",
    "    hires_output = np.copy(h4_imgs[...,2:])\n",
    "    \n",
    "    # lowres_input = np.concatenate((h4_imgs_lr[...,2:], dti_imgs_lr[...,2:], t1w_data_format), axis=-1)\n",
    "    # hires_output = np.copy(h4_imgs[...,2:])\n",
    "\n",
    "    subjects_lr.append(lowres_input)\n",
    "    subjects_hr.append(hires_output)\n",
    "    subjects_masks.append(mask)\n"
   ]
  },
  {
   "cell_type": "code",
   "execution_count": 6,
   "metadata": {
    "ExecuteTime": {
     "end_time": "2023-08-05T15:25:06.718078900Z",
     "start_time": "2023-08-05T15:25:06.534741600Z"
    },
    "collapsed": false,
    "jupyter": {
     "outputs_hidden": false
    }
   },
   "outputs": [
    {
     "name": "stderr",
     "output_type": "stream",
     "text": [
      "2023-08-21 20:47:18.606615: I tensorflow/compiler/xla/stream_executor/cuda/cuda_gpu_executor.cc:995] successful NUMA node read from SysFS had negative value (-1), but there must be at least one NUMA node, so returning NUMA node zero. See more at https://github.com/torvalds/linux/blob/v6.0/Documentation/ABI/testing/sysfs-bus-pci#L344-L355\n",
      "2023-08-21 20:47:18.620340: I tensorflow/compiler/xla/stream_executor/cuda/cuda_gpu_executor.cc:995] successful NUMA node read from SysFS had negative value (-1), but there must be at least one NUMA node, so returning NUMA node zero. See more at https://github.com/torvalds/linux/blob/v6.0/Documentation/ABI/testing/sysfs-bus-pci#L344-L355\n",
      "2023-08-21 20:47:18.620460: I tensorflow/compiler/xla/stream_executor/cuda/cuda_gpu_executor.cc:995] successful NUMA node read from SysFS had negative value (-1), but there must be at least one NUMA node, so returning NUMA node zero. See more at https://github.com/torvalds/linux/blob/v6.0/Documentation/ABI/testing/sysfs-bus-pci#L344-L355\n",
      "2023-08-21 20:47:18.622104: I tensorflow/compiler/xla/stream_executor/cuda/cuda_gpu_executor.cc:995] successful NUMA node read from SysFS had negative value (-1), but there must be at least one NUMA node, so returning NUMA node zero. See more at https://github.com/torvalds/linux/blob/v6.0/Documentation/ABI/testing/sysfs-bus-pci#L344-L355\n",
      "2023-08-21 20:47:18.622249: I tensorflow/compiler/xla/stream_executor/cuda/cuda_gpu_executor.cc:995] successful NUMA node read from SysFS had negative value (-1), but there must be at least one NUMA node, so returning NUMA node zero. See more at https://github.com/torvalds/linux/blob/v6.0/Documentation/ABI/testing/sysfs-bus-pci#L344-L355\n",
      "2023-08-21 20:47:18.622305: I tensorflow/compiler/xla/stream_executor/cuda/cuda_gpu_executor.cc:995] successful NUMA node read from SysFS had negative value (-1), but there must be at least one NUMA node, so returning NUMA node zero. See more at https://github.com/torvalds/linux/blob/v6.0/Documentation/ABI/testing/sysfs-bus-pci#L344-L355\n",
      "2023-08-21 20:47:18.935872: I tensorflow/compiler/xla/stream_executor/cuda/cuda_gpu_executor.cc:995] successful NUMA node read from SysFS had negative value (-1), but there must be at least one NUMA node, so returning NUMA node zero. See more at https://github.com/torvalds/linux/blob/v6.0/Documentation/ABI/testing/sysfs-bus-pci#L344-L355\n",
      "2023-08-21 20:47:18.935987: I tensorflow/compiler/xla/stream_executor/cuda/cuda_gpu_executor.cc:995] successful NUMA node read from SysFS had negative value (-1), but there must be at least one NUMA node, so returning NUMA node zero. See more at https://github.com/torvalds/linux/blob/v6.0/Documentation/ABI/testing/sysfs-bus-pci#L344-L355\n",
      "2023-08-21 20:47:18.936041: I tensorflow/compiler/xla/stream_executor/cuda/cuda_gpu_executor.cc:995] successful NUMA node read from SysFS had negative value (-1), but there must be at least one NUMA node, so returning NUMA node zero. See more at https://github.com/torvalds/linux/blob/v6.0/Documentation/ABI/testing/sysfs-bus-pci#L344-L355\n",
      "2023-08-21 20:47:18.936127: I tensorflow/core/common_runtime/gpu/gpu_device.cc:1639] Created device /job:localhost/replica:0/task:0/device:GPU:0 with 21882 MB memory:  -> device: 0, name: NVIDIA GeForce RTX 3090 Ti, pci bus id: 0000:01:00.0, compute capability: 8.6\n"
     ]
    },
    {
     "name": "stdout",
     "output_type": "stream",
     "text": [
      "(None, 1)\n"
     ]
    }
   ],
   "source": [
    "input_layer = tf.keras.Input(shape=(2*p_size_i, 2*p_size_i, 2*p_size_i, 36))\n",
    "output_layer = model.unet3d(input_layer, 50, 22)\n",
    "\n",
    "output_layer = tf.keras.activations.sigmoid(output_layer)\n",
    "\n",
    "generator = tf.keras.Model(input_layer, output_layer)\n",
    "# generator = tf.keras.activations.sigmoid(generator)\n",
    "\n",
    "discriminator = model.simple_discriminator(6,2*p_size_o+e_or_o)"
   ]
  },
  {
   "cell_type": "code",
   "execution_count": 7,
   "metadata": {},
   "outputs": [
    {
     "name": "stdout",
     "output_type": "stream",
     "text": [
      "Model: \"model\"\n",
      "__________________________________________________________________________________________________\n",
      " Layer (type)                Output Shape                 Param #   Connected to                  \n",
      "==================================================================================================\n",
      " input_1 (InputLayer)        [(None, 32, 32, 32, 14)]     0         []                            \n",
      "                                                                                                  \n",
      " conv3d (Conv3D)             (None, 32, 32, 32, 50)       18950     ['input_1[0][0]']             \n",
      "                                                                                                  \n",
      " batch_normalization (Batch  (None, 32, 32, 32, 50)       200       ['conv3d[0][0]']              \n",
      " Normalization)                                                                                   \n",
      "                                                                                                  \n",
      " conv3d_1 (Conv3D)           (None, 32, 32, 32, 50)       67550     ['batch_normalization[0][0]'] \n",
      "                                                                                                  \n",
      " batch_normalization_1 (Bat  (None, 32, 32, 32, 50)       200       ['conv3d_1[0][0]']            \n",
      " chNormalization)                                                                                 \n",
      "                                                                                                  \n",
      " conv3d_2 (Conv3D)           (None, 16, 16, 16, 100)      135100    ['batch_normalization_1[0][0]'\n",
      "                                                                    ]                             \n",
      "                                                                                                  \n",
      " batch_normalization_2 (Bat  (None, 16, 16, 16, 100)      400       ['conv3d_2[0][0]']            \n",
      " chNormalization)                                                                                 \n",
      "                                                                                                  \n",
      " conv3d_3 (Conv3D)           (None, 16, 16, 16, 100)      270100    ['batch_normalization_2[0][0]'\n",
      "                                                                    ]                             \n",
      "                                                                                                  \n",
      " batch_normalization_3 (Bat  (None, 16, 16, 16, 100)      400       ['conv3d_3[0][0]']            \n",
      " chNormalization)                                                                                 \n",
      "                                                                                                  \n",
      " conv3d_4 (Conv3D)           (None, 16, 16, 16, 100)      270100    ['batch_normalization_3[0][0]'\n",
      "                                                                    ]                             \n",
      "                                                                                                  \n",
      " batch_normalization_4 (Bat  (None, 16, 16, 16, 100)      400       ['conv3d_4[0][0]']            \n",
      " chNormalization)                                                                                 \n",
      "                                                                                                  \n",
      " conv3d_5 (Conv3D)           (None, 8, 8, 8, 200)         540200    ['batch_normalization_4[0][0]'\n",
      "                                                                    ]                             \n",
      "                                                                                                  \n",
      " batch_normalization_5 (Bat  (None, 8, 8, 8, 200)         800       ['conv3d_5[0][0]']            \n",
      " chNormalization)                                                                                 \n",
      "                                                                                                  \n",
      " conv3d_6 (Conv3D)           (None, 8, 8, 8, 200)         1080200   ['batch_normalization_5[0][0]'\n",
      "                                                                    ]                             \n",
      "                                                                                                  \n",
      " batch_normalization_6 (Bat  (None, 8, 8, 8, 200)         800       ['conv3d_6[0][0]']            \n",
      " chNormalization)                                                                                 \n",
      "                                                                                                  \n",
      " conv3d_7 (Conv3D)           (None, 8, 8, 8, 200)         1080200   ['batch_normalization_6[0][0]'\n",
      "                                                                    ]                             \n",
      "                                                                                                  \n",
      " batch_normalization_7 (Bat  (None, 8, 8, 8, 200)         800       ['conv3d_7[0][0]']            \n",
      " chNormalization)                                                                                 \n",
      "                                                                                                  \n",
      " conv3d_8 (Conv3D)           (None, 4, 4, 4, 400)         2160400   ['batch_normalization_7[0][0]'\n",
      "                                                                    ]                             \n",
      "                                                                                                  \n",
      " batch_normalization_8 (Bat  (None, 4, 4, 4, 400)         1600      ['conv3d_8[0][0]']            \n",
      " chNormalization)                                                                                 \n",
      "                                                                                                  \n",
      " conv3d_9 (Conv3D)           (None, 4, 4, 4, 400)         4320400   ['batch_normalization_8[0][0]'\n",
      "                                                                    ]                             \n",
      "                                                                                                  \n",
      " batch_normalization_9 (Bat  (None, 4, 4, 4, 400)         1600      ['conv3d_9[0][0]']            \n",
      " chNormalization)                                                                                 \n",
      "                                                                                                  \n",
      " conv3d_10 (Conv3D)          (None, 4, 4, 4, 400)         4320400   ['batch_normalization_9[0][0]'\n",
      "                                                                    ]                             \n",
      "                                                                                                  \n",
      " batch_normalization_10 (Ba  (None, 4, 4, 4, 400)         1600      ['conv3d_10[0][0]']           \n",
      " tchNormalization)                                                                                \n",
      "                                                                                                  \n",
      " conv3d_transpose_1 (Conv3D  (None, 8, 8, 8, 200)         1728020   ['batch_normalization_10[0][0]\n",
      " Transpose)                                               0         ']                            \n",
      "                                                                                                  \n",
      " batch_normalization_16 (Ba  (None, 8, 8, 8, 200)         800       ['conv3d_transpose_1[0][0]']  \n",
      " tchNormalization)                                                                                \n",
      "                                                                                                  \n",
      " concatenate_1 (Concatenate  (None, 8, 8, 8, 400)         0         ['batch_normalization_16[0][0]\n",
      " )                                                                  ',                            \n",
      "                                                                     'batch_normalization_7[0][0]'\n",
      "                                                                    ]                             \n",
      "                                                                                                  \n",
      " conv3d_15 (Conv3D)          (None, 8, 8, 8, 200)         2160200   ['concatenate_1[0][0]']       \n",
      "                                                                                                  \n",
      " batch_normalization_17 (Ba  (None, 8, 8, 8, 200)         800       ['conv3d_15[0][0]']           \n",
      " tchNormalization)                                                                                \n",
      "                                                                                                  \n",
      " conv3d_16 (Conv3D)          (None, 8, 8, 8, 200)         1080200   ['batch_normalization_17[0][0]\n",
      "                                                                    ']                            \n",
      "                                                                                                  \n",
      " batch_normalization_18 (Ba  (None, 8, 8, 8, 200)         800       ['conv3d_16[0][0]']           \n",
      " tchNormalization)                                                                                \n",
      "                                                                                                  \n",
      " conv3d_transpose_2 (Conv3D  (None, 16, 16, 16, 100)      4320100   ['batch_normalization_18[0][0]\n",
      " Transpose)                                                         ']                            \n",
      "                                                                                                  \n",
      " batch_normalization_19 (Ba  (None, 16, 16, 16, 100)      400       ['conv3d_transpose_2[0][0]']  \n",
      " tchNormalization)                                                                                \n",
      "                                                                                                  \n",
      " concatenate_2 (Concatenate  (None, 16, 16, 16, 200)      0         ['batch_normalization_19[0][0]\n",
      " )                                                                  ',                            \n",
      "                                                                     'batch_normalization_4[0][0]'\n",
      "                                                                    ]                             \n",
      "                                                                                                  \n",
      " conv3d_17 (Conv3D)          (None, 16, 16, 16, 100)      540100    ['concatenate_2[0][0]']       \n",
      "                                                                                                  \n",
      " batch_normalization_20 (Ba  (None, 16, 16, 16, 100)      400       ['conv3d_17[0][0]']           \n",
      " tchNormalization)                                                                                \n",
      "                                                                                                  \n",
      " conv3d_18 (Conv3D)          (None, 16, 16, 16, 100)      270100    ['batch_normalization_20[0][0]\n",
      "                                                                    ']                            \n",
      "                                                                                                  \n",
      " batch_normalization_21 (Ba  (None, 16, 16, 16, 100)      400       ['conv3d_18[0][0]']           \n",
      " tchNormalization)                                                                                \n",
      "                                                                                                  \n",
      " conv3d_transpose_3 (Conv3D  (None, 32, 32, 32, 50)       1080050   ['batch_normalization_21[0][0]\n",
      " Transpose)                                                         ']                            \n",
      "                                                                                                  \n",
      " batch_normalization_22 (Ba  (None, 32, 32, 32, 50)       200       ['conv3d_transpose_3[0][0]']  \n",
      " tchNormalization)                                                                                \n",
      "                                                                                                  \n",
      " concatenate_3 (Concatenate  (None, 32, 32, 32, 100)      0         ['batch_normalization_22[0][0]\n",
      " )                                                                  ',                            \n",
      "                                                                     'batch_normalization_1[0][0]'\n",
      "                                                                    ]                             \n",
      "                                                                                                  \n",
      " conv3d_19 (Conv3D)          (None, 32, 32, 32, 50)       135050    ['concatenate_3[0][0]']       \n",
      "                                                                                                  \n",
      " batch_normalization_23 (Ba  (None, 32, 32, 32, 50)       200       ['conv3d_19[0][0]']           \n",
      " tchNormalization)                                                                                \n",
      "                                                                                                  \n",
      " conv3d_20 (Conv3D)          (None, 32, 32, 32, 50)       67550     ['batch_normalization_23[0][0]\n",
      "                                                                    ']                            \n",
      "                                                                                                  \n",
      " batch_normalization_24 (Ba  (None, 32, 32, 32, 50)       200       ['conv3d_20[0][0]']           \n",
      " tchNormalization)                                                                                \n",
      "                                                                                                  \n",
      " conv3d_21 (Conv3D)          (None, 32, 32, 32, 6)        8106      ['batch_normalization_24[0][0]\n",
      "                                                                    ']                            \n",
      "                                                                                                  \n",
      " tf.math.sigmoid (TFOpLambd  (None, 32, 32, 32, 6)        0         ['conv3d_21[0][0]']           \n",
      " a)                                                                                               \n",
      "                                                                                                  \n",
      "==================================================================================================\n",
      "Total params: 41218256 (157.24 MB)\n",
      "Trainable params: 41211756 (157.21 MB)\n",
      "Non-trainable params: 6500 (25.39 KB)\n",
      "__________________________________________________________________________________________________\n",
      "None\n",
      "Model: \"sequential\"\n",
      "_________________________________________________________________\n",
      " Layer (type)                Output Shape              Param #   \n",
      "=================================================================\n",
      " conv3d_22 (Conv3D)          (None, 32, 32, 32, 50)    8150      \n",
      "                                                                 \n",
      " batch_normalization_25 (Ba  (None, 32, 32, 32, 50)    200       \n",
      " tchNormalization)                                               \n",
      "                                                                 \n",
      " leaky_re_lu (LeakyReLU)     (None, 32, 32, 32, 50)    0         \n",
      "                                                                 \n",
      " conv3d_23 (Conv3D)          (None, 32, 32, 32, 100)   135100    \n",
      "                                                                 \n",
      " batch_normalization_26 (Ba  (None, 32, 32, 32, 100)   400       \n",
      " tchNormalization)                                               \n",
      "                                                                 \n",
      " leaky_re_lu_1 (LeakyReLU)   (None, 32, 32, 32, 100)   0         \n",
      "                                                                 \n",
      " conv3d_24 (Conv3D)          (None, 32, 32, 32, 200)   540200    \n",
      "                                                                 \n",
      " batch_normalization_27 (Ba  (None, 32, 32, 32, 200)   800       \n",
      " tchNormalization)                                               \n",
      "                                                                 \n",
      " leaky_re_lu_2 (LeakyReLU)   (None, 32, 32, 32, 200)   0         \n",
      "                                                                 \n",
      " conv3d_25 (Conv3D)          (None, 30, 30, 30, 1)     5401      \n",
      "                                                                 \n",
      " batch_normalization_28 (Ba  (None, 30, 30, 30, 1)     4         \n",
      " tchNormalization)                                               \n",
      "                                                                 \n",
      " leaky_re_lu_3 (LeakyReLU)   (None, 30, 30, 30, 1)     0         \n",
      "                                                                 \n",
      " flatten (Flatten)           (None, 27000)             0         \n",
      "                                                                 \n",
      " dense (Dense)               (None, 1)                 27001     \n",
      "                                                                 \n",
      "=================================================================\n",
      "Total params: 717256 (2.74 MB)\n",
      "Trainable params: 716554 (2.73 MB)\n",
      "Non-trainable params: 702 (2.74 KB)\n",
      "_________________________________________________________________\n",
      "None\n"
     ]
    }
   ],
   "source": [
    "print(generator.summary())\n",
    "print(discriminator.summary())"
   ]
  },
  {
   "cell_type": "code",
   "execution_count": 8,
   "metadata": {
    "ExecuteTime": {
     "end_time": "2023-08-05T14:18:21.291398100Z",
     "start_time": "2023-08-05T14:18:21.254969700Z"
    },
    "collapsed": false,
    "jupyter": {
     "outputs_hidden": false
    }
   },
   "outputs": [],
   "source": [
    "# cross_entropy = tf.keras.losses.BinaryCrossentropy(from_logits=True)\n",
    "\n",
    "cross_entropy_gen = tf.keras.losses.BinaryCrossentropy()\n",
    "cross_entropy_disc = tf.keras.losses.BinaryCrossentropy()\n",
    "\n",
    "def discriminator_loss(real_output, fake_output):\n",
    "\n",
    "    # real_loss = tf.reduce_mean(tf.nn.sigmoid_cross_entropy_with_logits(logits=real_output, labels=tf.ones_like(real_output)))\n",
    "    # fake_loss = tf.reduce_mean(tf.nn.sigmoid_cross_entropy_with_logits(logits=fake_output, labels=tf.zeros_like(fake_output)))\n",
    "\n",
    "    # total_loss = real_loss + fake_loss\n",
    "                               \n",
    "    # return total_loss\n",
    "    \n",
    "    real_loss = tf.reduce_mean(cross_entropy_gen(tf.ones_like(real_output), real_output))\n",
    "    fake_loss = tf.reduce_mean(cross_entropy_gen(tf.zeros_like(fake_output), fake_output))\n",
    "    total_loss = real_loss + fake_loss\n",
    "    return total_loss\n",
    "\n",
    "def generator_loss(fake_output):\n",
    "\n",
    "    # gen_loss = tf.reduce_mean(tf.nn.sigmoid_cross_entropy_with_logits(logits=fake_output, labels=tf.ones_like(fake_output)))\n",
    "\n",
    "    # return gen_loss\n",
    "\n",
    "    return tf.reduce_mean(cross_entropy_gen(tf.ones_like(fake_output), fake_output))"
   ]
  },
  {
   "cell_type": "code",
   "execution_count": 9,
   "metadata": {
    "ExecuteTime": {
     "end_time": "2023-08-05T14:18:25.658937200Z",
     "start_time": "2023-08-05T14:18:25.629596Z"
    },
    "collapsed": false,
    "jupyter": {
     "outputs_hidden": false
    }
   },
   "outputs": [],
   "source": [
    "lr_schedule = tf.keras.optimizers.schedules.ExponentialDecay(\n",
    "    initial_learning_rate=1e-3,\n",
    "    decay_steps=50*100,\n",
    "    decay_rate=0.1\n",
    ")\n",
    "\n",
    "generator_optimizer = tf.keras.optimizers.Adam(lr_schedule)\n",
    "discriminator_optimizer = tf.keras.optimizers.Adam(lr_schedule)"
   ]
  },
  {
   "cell_type": "code",
   "execution_count": 10,
   "metadata": {
    "ExecuteTime": {
     "end_time": "2023-08-05T14:18:26.774030800Z",
     "start_time": "2023-08-05T14:18:26.725560700Z"
    },
    "collapsed": false,
    "jupyter": {
     "outputs_hidden": false
    }
   },
   "outputs": [],
   "source": [
    "checkpoint_dir = './training_checkpoints'\n",
    "checkpoint_prefix = os.path.join(checkpoint_dir, \"ckpt\")\n",
    "checkpoint = tf.train.Checkpoint(generator_optimizer=generator_optimizer,\n",
    "                                 discriminator_optimizer=discriminator_optimizer,\n",
    "                                 generator=generator,\n",
    "                                 discriminator=discriminator)\n",
    "\n",
    "# log_dir = \"logs/fit/\" + datetime.datetime.now().strftime(\"%Y%m%d-%H%M%S\")\n",
    "# tensorboard_callback = tf.keras.callbacks.TensorBoard(log_dir=log_dir, histogram_freq=1)\n",
    "\n",
    "gen_loss_metric = tf.keras.metrics.Mean('gen_loss', dtype=tf.float32)\n",
    "# gen_accuracy_metric = tf.keras.metrics.SparseCategoricalAccuracy('gen_accuracy')\n",
    "\n",
    "disc_loss_metric = tf.keras.metrics.Mean('disc_loss', dtype=tf.float32)\n",
    "\n",
    "current_time = datetime.datetime.now().strftime(\"%Y%m%d-%H%M%S\")\n",
    "log_dir = './logs/unet_gan/' + current_time + '/train'\n",
    "summary_writer = tf.summary.create_file_writer(log_dir)"
   ]
  },
  {
   "cell_type": "code",
   "execution_count": 11,
   "metadata": {
    "ExecuteTime": {
     "end_time": "2023-08-05T14:31:31.474922300Z",
     "start_time": "2023-08-05T14:31:31.453950800Z"
    },
    "collapsed": false,
    "jupyter": {
     "outputs_hidden": false
    }
   },
   "outputs": [],
   "source": [
    "@tf.function\n",
    "def train_step(lr_patch, hr_patch):\n",
    "\n",
    "    with tf.GradientTape() as gen_tape, tf.GradientTape() as disc_tape:\n",
    "      generated_images = generator(lr_patch, training=True)\n",
    "\n",
    "      real_output = discriminator(hr_patch, training=True)\n",
    "      fake_output = discriminator(generated_images, training=True)\n",
    "\n",
    "      gen_loss = generator_loss(fake_output)\n",
    "      disc_loss = discriminator_loss(real_output, fake_output)\n",
    "\n",
    "    gen_loss_metric(gen_loss)\n",
    "    # gen_accuracy_metric(hr_patch, generated_images)\n",
    "\n",
    "    disc_loss_metric(disc_loss)\n",
    "\n",
    "    gradients_of_generator = gen_tape.gradient(gen_loss, generator.trainable_variables)\n",
    "    gradients_of_discriminator = disc_tape.gradient(disc_loss, discriminator.trainable_variables)\n",
    "\n",
    "    generator_optimizer.apply_gradients(zip(gradients_of_generator, generator.trainable_variables))\n",
    "    discriminator_optimizer.apply_gradients(zip(gradients_of_discriminator, discriminator.trainable_variables))\n",
    "\n",
    "    return gen_loss, disc_loss\n",
    "\n",
    "@tf.function\n",
    "def train_step_gen(lr_patch, hr_patch):\n",
    "\n",
    "    with tf.GradientTape() as gen_tape, tf.GradientTape() as disc_tape:\n",
    "\n",
    "        generated_images = generator(lr_patch, training=True)\n",
    "\n",
    "        real_output = discriminator(hr_patch, training=False)\n",
    "        fake_output = discriminator(generated_images, training=False)\n",
    "\n",
    "        gen_loss = generator_loss(fake_output)\n",
    "        disc_loss = discriminator_loss(real_output, fake_output)\n",
    "\n",
    "    gradients_of_generator = gen_tape.gradient(gen_loss, generator.trainable_variables)\n",
    "    \n",
    "    generator_optimizer.apply_gradients(zip(gradients_of_generator, generator.trainable_variables))\n",
    "    \n",
    "    return gen_loss, disc_loss\n",
    "\n",
    "@tf.function\n",
    "def train_step_disc(lr_patch, hr_patch):\n",
    "\n",
    "    with tf.GradientTape() as gen_tape, tf.GradientTape() as disc_tape:\n",
    "\n",
    "        generated_images = generator(lr_patch, training=False)\n",
    "\n",
    "        real_output = discriminator(hr_patch, training=True)\n",
    "        fake_output = discriminator(generated_images, training=True)\n",
    "\n",
    "        gen_loss = generator_loss(fake_output)\n",
    "        disc_loss = discriminator_loss(real_output, fake_output)\n",
    "\n",
    "    gradients_of_discriminator = disc_tape.gradient(disc_loss, discriminator.trainable_variables)\n",
    "    discriminator_optimizer.apply_gradients(zip(gradients_of_discriminator, discriminator.trainable_variables))\n",
    "\n",
    "    return gen_loss, disc_loss"
   ]
  },
  {
   "cell_type": "code",
   "execution_count": 12,
   "metadata": {
    "ExecuteTime": {
     "end_time": "2023-08-05T15:37:15.289028100Z",
     "start_time": "2023-08-05T15:37:15.270842400Z"
    },
    "collapsed": false,
    "jupyter": {
     "outputs_hidden": false
    }
   },
   "outputs": [],
   "source": [
    "def train(data, epochs):\n",
    "\n",
    "  gen_train_mode = False\n",
    "    \n",
    "  for epoch in range(epochs):\n",
    "\n",
    "    if epoch > 0 and epoch % 2 == 0:\n",
    "        gen_train_mode = not gen_train_mode\n",
    "      \n",
    "    start = time.time()\n",
    "\n",
    "    print(\"Epoch: {}\".format(epoch+1))\n",
    "\n",
    "    print(\"Learning rate:\", generator_optimizer.learning_rate.numpy())\n",
    "\n",
    "\n",
    "    mean_g_loss = 0.0\n",
    "    mean_d_loss = 0.0\n",
    "    total_cost = 0.0\n",
    "\n",
    "    # [sel_indices, subjects_lr, subjects_hr, subjects_masks]\n",
    "\n",
    "    randsels = np.random.choice(data[0].shape[0],data[0].shape[0]//4)\n",
    "\n",
    "    lr_patches = []\n",
    "    hr_patches = []\n",
    "\n",
    "    for prog, index in enumerate(tqdm(randsels)):\n",
    "\n",
    "        if (prog+1) % 8 != 0 or prog == (len(randsels) - 1):\n",
    "\n",
    "            (s, i, j, k) = data[0][index]\n",
    "        \n",
    "            lr_patch = np.copy(data[1][s][\n",
    "                                    i - p_size_i - e_or_o : i + p_size_i,\n",
    "                                    j - p_size_i - e_or_o : j + p_size_i,\n",
    "                                    k - p_size_i - e_or_o : k + p_size_i, :]) * \\\n",
    "            np.copy(data[3][s][\n",
    "                                    i - p_size_i - e_or_o : i + p_size_i,\n",
    "                                    j - p_size_i - e_or_o : j + p_size_i,\n",
    "                                    k - p_size_i - e_or_o : k + p_size_i, None])\n",
    "                               \n",
    "        \n",
    "            hr_patch = np.copy(data[2][s][\n",
    "                                    i - p_size_o - e_or_o : i + p_size_o,\n",
    "                                    j - p_size_o - e_or_o : j + p_size_o,\n",
    "                                    k - p_size_o - e_or_o : k + p_size_o, :]) * \\\n",
    "            np.copy(data[3][s][\n",
    "                                    i - p_size_o - e_or_o : i + p_size_o,\n",
    "                                    j - p_size_o - e_or_o : j + p_size_o,\n",
    "                                    k - p_size_o - e_or_o : k + p_size_o, None])\n",
    "\n",
    "            lr_patches.append(lr_patch)\n",
    "            hr_patches.append(hr_patch)\n",
    "            \n",
    "            continue\n",
    "        \n",
    "        lr_patches = tf.convert_to_tensor(np.array(lr_patches), dtype=tf.float32)\n",
    "        hr_patches = tf.convert_to_tensor(np.array(hr_patches), dtype=tf.float32)\n",
    "\n",
    "        g_loss, d_loss = train_step(lr_patches, hr_patches)\n",
    "\n",
    "        with summary_writer.as_default():\n",
    "            tf.summary.scalar('gen_loss', gen_loss_metric.result(), step=epoch)\n",
    "            tf.summary.scalar('disc_loss', disc_loss_metric.result(), step=epoch)\n",
    "        \n",
    "        # if gen_train_mode:\n",
    "        #     g_loss, d_loss = train_step_gen(lr_patch, hr_patch)\n",
    "        # else:\n",
    "        #     g_loss, d_loss = train_step_disc(lr_patch, hr_patch)\n",
    "        \n",
    "        mean_g_loss = mean_g_loss + g_loss\n",
    "        mean_d_loss = mean_d_loss + d_loss\n",
    "\n",
    "        y_preds = generator(lr_patches, training=False)\n",
    "\n",
    "        total_cost = total_cost + tf.reduce_mean(tf.square(hr_patches - y_preds))\n",
    "\n",
    "        lr_patches = []\n",
    "        hr_patches = []\n",
    "      \n",
    "    # Save the model every 5 epochs\n",
    "    if (epoch + 1) % 5 == 0:\n",
    "      checkpoint.save(file_prefix = checkpoint_prefix)\n",
    "\n",
    "    # print('Generator Loss is {}'.format(float(mean_g_loss/len(randsels))))\n",
    "    # print('Discriminator Loss is {}'.format(float(mean_d_loss/len(randsels))))\n",
    "\n",
    "    print('Generator Error Metric is {}'.format(float(total_cost/(len(randsels)//4))))\n",
    "      \n",
    "    print ('Time for epoch {} is {} sec'.format(epoch + 1, time.time()-start))"
   ]
  },
  {
   "cell_type": "code",
   "execution_count": 13,
   "metadata": {},
   "outputs": [],
   "source": [
    "(xsize, ysize, zsize, comp) = subjects_lr[0].shape\n",
    "\n",
    "split_indices = [(i, j, k)\n",
    "                 for k in np.arange(p_size_i+1,zsize-p_size_i+e_or_o,2*p_size_o+e_or_o)       \n",
    "                 for j in np.arange(p_size_i+1,ysize-p_size_i+e_or_o,2*p_size_o+e_or_o)\n",
    "                 for i in np.arange(p_size_i+1,xsize-p_size_i+e_or_o,2*p_size_o+e_or_o)\n",
    "                ]\n",
    "\n",
    "sel_indices = []\n",
    "\n",
    "for s in range(len(subjects_lr)):\n",
    "    for (i, j, k) in split_indices:\n",
    "        ipatch_mask = subjects_masks[s][\n",
    "            i - p_size_o - e_or_o : i + p_size_o,\n",
    "            j - p_size_o - e_or_o : j + p_size_o,\n",
    "            k - p_size_o - e_or_o : k + p_size_o]\n",
    "    \n",
    "        if np.max(ipatch_mask) > 0:\n",
    "            sel_indices.append((s,i,j,k))\n",
    "\n",
    "sel_indices = np.array(sel_indices)"
   ]
  },
  {
   "cell_type": "code",
   "execution_count": 14,
   "metadata": {
    "ExecuteTime": {
     "end_time": "2023-08-05T15:37:17.483885900Z",
     "start_time": "2023-08-05T15:37:17.435327300Z"
    },
    "collapsed": false,
    "jupyter": {
     "outputs_hidden": false
    }
   },
   "outputs": [
    {
     "name": "stdout",
     "output_type": "stream",
     "text": [
      "Epoch: 1\n",
      "Learning rate: 0.001\n"
     ]
    },
    {
     "name": "stderr",
     "output_type": "stream",
     "text": [
      "  0%|                                                   | 0/101 [00:00<?, ?it/s]2023-08-21 20:47:25.079907: I tensorflow/compiler/xla/stream_executor/cuda/cuda_dnn.cc:432] Loaded cuDNN version 8600\n",
      "2023-08-21 20:47:26.886486: I tensorflow/compiler/xla/stream_executor/cuda/cuda_blas.cc:606] TensorFloat-32 will be used for the matrix multiplication. This will only be logged once.\n",
      "2023-08-21 20:47:28.951469: I tensorflow/compiler/xla/service/service.cc:168] XLA service 0x7fba9ba59a20 initialized for platform CUDA (this does not guarantee that XLA will be used). Devices:\n",
      "2023-08-21 20:47:28.951486: I tensorflow/compiler/xla/service/service.cc:176]   StreamExecutor device (0): NVIDIA GeForce RTX 3090 Ti, Compute Capability 8.6\n",
      "2023-08-21 20:47:28.954626: I tensorflow/compiler/mlir/tensorflow/utils/dump_mlir_util.cc:255] disabling MLIR crash reproducer, set env var `MLIR_CRASH_REPRODUCER_DIRECTORY` to enable.\n",
      "2023-08-21 20:47:29.120527: I ./tensorflow/compiler/jit/device_compiler.h:186] Compiled cluster using XLA!  This line is logged at most once for the lifetime of the process.\n",
      "100%|█████████████████████████████████████████| 101/101 [00:21<00:00,  4.61it/s]\n"
     ]
    },
    {
     "name": "stdout",
     "output_type": "stream",
     "text": [
      "Generator Error Metric is 0.09417472779750824\n",
      "Time for epoch 1 is 21.892961263656616 sec\n",
      "Epoch: 2\n",
      "Learning rate: 0.0009949472\n"
     ]
    },
    {
     "name": "stderr",
     "output_type": "stream",
     "text": [
      "100%|█████████████████████████████████████████| 101/101 [00:03<00:00, 32.33it/s]\n"
     ]
    },
    {
     "name": "stdout",
     "output_type": "stream",
     "text": [
      "Generator Error Metric is 0.3248867392539978\n",
      "Time for epoch 2 is 3.125828504562378 sec\n",
      "Epoch: 3\n",
      "Learning rate: 0.000989464\n"
     ]
    },
    {
     "name": "stderr",
     "output_type": "stream",
     "text": [
      "100%|█████████████████████████████████████████| 101/101 [00:03<00:00, 32.16it/s]\n"
     ]
    },
    {
     "name": "stdout",
     "output_type": "stream",
     "text": [
      "Generator Error Metric is 0.31905269622802734\n",
      "Time for epoch 3 is 3.1421499252319336 sec\n",
      "Epoch: 4\n",
      "Learning rate: 0.0009840111\n"
     ]
    },
    {
     "name": "stderr",
     "output_type": "stream",
     "text": [
      "100%|█████████████████████████████████████████| 101/101 [00:03<00:00, 31.17it/s]\n"
     ]
    },
    {
     "name": "stdout",
     "output_type": "stream",
     "text": [
      "Generator Error Metric is 0.28906258940696716\n",
      "Time for epoch 4 is 3.2422757148742676 sec\n",
      "Epoch: 5\n",
      "Learning rate: 0.0009785884\n"
     ]
    },
    {
     "name": "stderr",
     "output_type": "stream",
     "text": [
      "100%|█████████████████████████████████████████| 101/101 [00:03<00:00, 32.19it/s]\n"
     ]
    },
    {
     "name": "stdout",
     "output_type": "stream",
     "text": [
      "Generator Error Metric is 0.3040619492530823\n",
      "Time for epoch 5 is 7.935640096664429 sec\n",
      "Epoch: 6\n",
      "Learning rate: 0.00097319536\n"
     ]
    },
    {
     "name": "stderr",
     "output_type": "stream",
     "text": [
      "100%|█████████████████████████████████████████| 101/101 [00:02<00:00, 34.52it/s]\n"
     ]
    },
    {
     "name": "stdout",
     "output_type": "stream",
     "text": [
      "Generator Error Metric is 0.2518044710159302\n",
      "Time for epoch 6 is 2.9340779781341553 sec\n",
      "Epoch: 7\n",
      "Learning rate: 0.00096783205\n"
     ]
    },
    {
     "name": "stderr",
     "output_type": "stream",
     "text": [
      "100%|█████████████████████████████████████████| 101/101 [00:02<00:00, 35.21it/s]\n"
     ]
    },
    {
     "name": "stdout",
     "output_type": "stream",
     "text": [
      "Generator Error Metric is 0.14799705147743225\n",
      "Time for epoch 7 is 2.8779423236846924 sec\n",
      "Epoch: 8\n",
      "Learning rate: 0.0009624984\n"
     ]
    },
    {
     "name": "stderr",
     "output_type": "stream",
     "text": [
      "100%|█████████████████████████████████████████| 101/101 [00:02<00:00, 35.12it/s]\n"
     ]
    },
    {
     "name": "stdout",
     "output_type": "stream",
     "text": [
      "Generator Error Metric is 0.13159336149692535\n",
      "Time for epoch 8 is 2.883436441421509 sec\n",
      "Epoch: 9\n",
      "Learning rate: 0.00095719413\n"
     ]
    },
    {
     "name": "stderr",
     "output_type": "stream",
     "text": [
      "100%|█████████████████████████████████████████| 101/101 [00:02<00:00, 35.38it/s]\n"
     ]
    },
    {
     "name": "stdout",
     "output_type": "stream",
     "text": [
      "Generator Error Metric is 0.23890766501426697\n",
      "Time for epoch 9 is 2.864780902862549 sec\n",
      "Epoch: 10\n",
      "Learning rate: 0.00095191906\n"
     ]
    },
    {
     "name": "stderr",
     "output_type": "stream",
     "text": [
      "100%|█████████████████████████████████████████| 101/101 [00:02<00:00, 34.26it/s]\n"
     ]
    },
    {
     "name": "stdout",
     "output_type": "stream",
     "text": [
      "Generator Error Metric is 0.28790178894996643\n",
      "Time for epoch 10 is 7.624110698699951 sec\n",
      "Epoch: 11\n",
      "Learning rate: 0.00094667304\n"
     ]
    },
    {
     "name": "stderr",
     "output_type": "stream",
     "text": [
      "100%|█████████████████████████████████████████| 101/101 [00:03<00:00, 31.10it/s]\n"
     ]
    },
    {
     "name": "stdout",
     "output_type": "stream",
     "text": [
      "Generator Error Metric is 0.232774555683136\n",
      "Time for epoch 11 is 3.2502965927124023 sec\n",
      "Epoch: 12\n",
      "Learning rate: 0.000941456\n"
     ]
    },
    {
     "name": "stderr",
     "output_type": "stream",
     "text": [
      "100%|█████████████████████████████████████████| 101/101 [00:03<00:00, 31.46it/s]\n"
     ]
    },
    {
     "name": "stdout",
     "output_type": "stream",
     "text": [
      "Generator Error Metric is 0.1883859783411026\n",
      "Time for epoch 12 is 3.2124991416931152 sec\n",
      "Epoch: 13\n",
      "Learning rate: 0.00093626766\n"
     ]
    },
    {
     "name": "stderr",
     "output_type": "stream",
     "text": [
      "100%|█████████████████████████████████████████| 101/101 [00:03<00:00, 32.04it/s]\n"
     ]
    },
    {
     "name": "stdout",
     "output_type": "stream",
     "text": [
      "Generator Error Metric is 0.12525898218154907\n",
      "Time for epoch 13 is 3.162118434906006 sec\n",
      "Epoch: 14\n",
      "Learning rate: 0.0009311079\n"
     ]
    },
    {
     "name": "stderr",
     "output_type": "stream",
     "text": [
      "100%|█████████████████████████████████████████| 101/101 [00:02<00:00, 34.27it/s]\n"
     ]
    },
    {
     "name": "stdout",
     "output_type": "stream",
     "text": [
      "Generator Error Metric is 0.0644429475069046\n",
      "Time for epoch 14 is 2.9577932357788086 sec\n",
      "Epoch: 15\n",
      "Learning rate: 0.00092597655\n"
     ]
    },
    {
     "name": "stderr",
     "output_type": "stream",
     "text": [
      "100%|█████████████████████████████████████████| 101/101 [00:02<00:00, 34.86it/s]\n"
     ]
    },
    {
     "name": "stdout",
     "output_type": "stream",
     "text": [
      "Generator Error Metric is 0.05206286907196045\n",
      "Time for epoch 15 is 7.578817844390869 sec\n",
      "Epoch: 16\n",
      "Learning rate: 0.00092087354\n"
     ]
    },
    {
     "name": "stderr",
     "output_type": "stream",
     "text": [
      "100%|█████████████████████████████████████████| 101/101 [00:03<00:00, 32.17it/s]\n"
     ]
    },
    {
     "name": "stdout",
     "output_type": "stream",
     "text": [
      "Generator Error Metric is 0.13732795417308807\n",
      "Time for epoch 16 is 3.1413331031799316 sec\n",
      "Epoch: 17\n",
      "Learning rate: 0.0009157987\n"
     ]
    },
    {
     "name": "stderr",
     "output_type": "stream",
     "text": [
      "100%|█████████████████████████████████████████| 101/101 [00:03<00:00, 32.23it/s]\n"
     ]
    },
    {
     "name": "stdout",
     "output_type": "stream",
     "text": [
      "Generator Error Metric is 0.15046526491641998\n",
      "Time for epoch 17 is 3.135735511779785 sec\n",
      "Epoch: 18\n",
      "Learning rate: 0.0009107518\n"
     ]
    },
    {
     "name": "stderr",
     "output_type": "stream",
     "text": [
      "100%|█████████████████████████████████████████| 101/101 [00:03<00:00, 32.17it/s]\n"
     ]
    },
    {
     "name": "stdout",
     "output_type": "stream",
     "text": [
      "Generator Error Metric is 0.15501809120178223\n",
      "Time for epoch 18 is 3.141335964202881 sec\n",
      "Epoch: 19\n",
      "Learning rate: 0.0009057326\n"
     ]
    },
    {
     "name": "stderr",
     "output_type": "stream",
     "text": [
      "100%|█████████████████████████████████████████| 101/101 [00:03<00:00, 32.15it/s]\n"
     ]
    },
    {
     "name": "stdout",
     "output_type": "stream",
     "text": [
      "Generator Error Metric is 0.11409227550029755\n",
      "Time for epoch 19 is 3.143256425857544 sec\n",
      "Epoch: 20\n",
      "Learning rate: 0.00090074114\n"
     ]
    },
    {
     "name": "stderr",
     "output_type": "stream",
     "text": [
      "100%|█████████████████████████████████████████| 101/101 [00:03<00:00, 32.19it/s]\n"
     ]
    },
    {
     "name": "stdout",
     "output_type": "stream",
     "text": [
      "Generator Error Metric is 0.1433093249797821\n",
      "Time for epoch 20 is 7.9684226512908936 sec\n",
      "Epoch: 21\n",
      "Learning rate: 0.00089577725\n"
     ]
    },
    {
     "name": "stderr",
     "output_type": "stream",
     "text": [
      "100%|█████████████████████████████████████████| 101/101 [00:02<00:00, 35.54it/s]\n"
     ]
    },
    {
     "name": "stdout",
     "output_type": "stream",
     "text": [
      "Generator Error Metric is 0.18711112439632416\n",
      "Time for epoch 21 is 2.8498265743255615 sec\n",
      "Epoch: 22\n",
      "Learning rate: 0.0008908407\n"
     ]
    },
    {
     "name": "stderr",
     "output_type": "stream",
     "text": [
      "100%|█████████████████████████████████████████| 101/101 [00:02<00:00, 35.68it/s]\n"
     ]
    },
    {
     "name": "stdout",
     "output_type": "stream",
     "text": [
      "Generator Error Metric is 0.0740261822938919\n",
      "Time for epoch 22 is 2.8389222621917725 sec\n",
      "Epoch: 23\n",
      "Learning rate: 0.0008859312\n"
     ]
    },
    {
     "name": "stderr",
     "output_type": "stream",
     "text": [
      "100%|█████████████████████████████████████████| 101/101 [00:02<00:00, 34.71it/s]\n"
     ]
    },
    {
     "name": "stdout",
     "output_type": "stream",
     "text": [
      "Generator Error Metric is 0.04680127650499344\n",
      "Time for epoch 23 is 2.9180643558502197 sec\n",
      "Epoch: 24\n",
      "Learning rate: 0.0008810489\n"
     ]
    },
    {
     "name": "stderr",
     "output_type": "stream",
     "text": [
      "100%|█████████████████████████████████████████| 101/101 [00:02<00:00, 35.13it/s]\n"
     ]
    },
    {
     "name": "stdout",
     "output_type": "stream",
     "text": [
      "Generator Error Metric is 0.11270636320114136\n",
      "Time for epoch 24 is 2.8846116065979004 sec\n",
      "Epoch: 25\n",
      "Learning rate: 0.0008761935\n"
     ]
    },
    {
     "name": "stderr",
     "output_type": "stream",
     "text": [
      "100%|█████████████████████████████████████████| 101/101 [00:02<00:00, 35.03it/s]\n"
     ]
    },
    {
     "name": "stdout",
     "output_type": "stream",
     "text": [
      "Generator Error Metric is 0.12400103360414505\n",
      "Time for epoch 25 is 7.716525077819824 sec\n",
      "Epoch: 26\n",
      "Learning rate: 0.0008713647\n"
     ]
    },
    {
     "name": "stderr",
     "output_type": "stream",
     "text": [
      "100%|█████████████████████████████████████████| 101/101 [00:03<00:00, 31.34it/s]\n"
     ]
    },
    {
     "name": "stdout",
     "output_type": "stream",
     "text": [
      "Generator Error Metric is 0.16121476888656616\n",
      "Time for epoch 26 is 3.224639892578125 sec\n",
      "Epoch: 27\n",
      "Learning rate: 0.00086656277\n"
     ]
    },
    {
     "name": "stderr",
     "output_type": "stream",
     "text": [
      "100%|█████████████████████████████████████████| 101/101 [00:03<00:00, 31.68it/s]\n"
     ]
    },
    {
     "name": "stdout",
     "output_type": "stream",
     "text": [
      "Generator Error Metric is 0.09283176064491272\n",
      "Time for epoch 27 is 3.1906797885894775 sec\n",
      "Epoch: 28\n",
      "Learning rate: 0.0008617871\n"
     ]
    },
    {
     "name": "stderr",
     "output_type": "stream",
     "text": [
      "100%|█████████████████████████████████████████| 101/101 [00:03<00:00, 31.75it/s]\n"
     ]
    },
    {
     "name": "stdout",
     "output_type": "stream",
     "text": [
      "Generator Error Metric is 0.0816086083650589\n",
      "Time for epoch 28 is 3.182772159576416 sec\n",
      "Epoch: 29\n",
      "Learning rate: 0.0008570379\n"
     ]
    },
    {
     "name": "stderr",
     "output_type": "stream",
     "text": [
      "100%|█████████████████████████████████████████| 101/101 [00:03<00:00, 31.91it/s]\n"
     ]
    },
    {
     "name": "stdout",
     "output_type": "stream",
     "text": [
      "Generator Error Metric is 0.08949470520019531\n",
      "Time for epoch 29 is 3.166706085205078 sec\n",
      "Epoch: 30\n",
      "Learning rate: 0.00085231476\n"
     ]
    },
    {
     "name": "stderr",
     "output_type": "stream",
     "text": [
      "100%|█████████████████████████████████████████| 101/101 [00:03<00:00, 32.19it/s]\n"
     ]
    },
    {
     "name": "stdout",
     "output_type": "stream",
     "text": [
      "Generator Error Metric is 0.10250262171030045\n",
      "Time for epoch 30 is 7.983287811279297 sec\n",
      "Epoch: 31\n",
      "Learning rate: 0.0008476177\n"
     ]
    },
    {
     "name": "stderr",
     "output_type": "stream",
     "text": [
      "100%|█████████████████████████████████████████| 101/101 [00:02<00:00, 35.61it/s]\n"
     ]
    },
    {
     "name": "stdout",
     "output_type": "stream",
     "text": [
      "Generator Error Metric is 0.14874212443828583\n",
      "Time for epoch 31 is 2.8456456661224365 sec\n",
      "Epoch: 32\n",
      "Learning rate: 0.0008429465\n"
     ]
    },
    {
     "name": "stderr",
     "output_type": "stream",
     "text": [
      "100%|█████████████████████████████████████████| 101/101 [00:02<00:00, 35.12it/s]\n"
     ]
    },
    {
     "name": "stdout",
     "output_type": "stream",
     "text": [
      "Generator Error Metric is 0.07855254411697388\n",
      "Time for epoch 32 is 2.885436534881592 sec\n",
      "Epoch: 33\n",
      "Learning rate: 0.000838301\n"
     ]
    },
    {
     "name": "stderr",
     "output_type": "stream",
     "text": [
      "100%|█████████████████████████████████████████| 101/101 [00:03<00:00, 33.59it/s]\n"
     ]
    },
    {
     "name": "stdout",
     "output_type": "stream",
     "text": [
      "Generator Error Metric is 0.20282535254955292\n",
      "Time for epoch 33 is 3.0154836177825928 sec\n",
      "Epoch: 34\n",
      "Learning rate: 0.0008336812\n"
     ]
    },
    {
     "name": "stderr",
     "output_type": "stream",
     "text": [
      "100%|█████████████████████████████████████████| 101/101 [00:02<00:00, 34.93it/s]\n"
     ]
    },
    {
     "name": "stdout",
     "output_type": "stream",
     "text": [
      "Generator Error Metric is 0.23893333971500397\n",
      "Time for epoch 34 is 2.899888753890991 sec\n",
      "Epoch: 35\n",
      "Learning rate: 0.0008290868\n"
     ]
    },
    {
     "name": "stderr",
     "output_type": "stream",
     "text": [
      "100%|█████████████████████████████████████████| 101/101 [00:02<00:00, 34.26it/s]\n"
     ]
    },
    {
     "name": "stdout",
     "output_type": "stream",
     "text": [
      "Generator Error Metric is 0.15127095580101013\n",
      "Time for epoch 35 is 7.744077682495117 sec\n",
      "Epoch: 36\n",
      "Learning rate: 0.00082451775\n"
     ]
    },
    {
     "name": "stderr",
     "output_type": "stream",
     "text": [
      "100%|█████████████████████████████████████████| 101/101 [00:03<00:00, 30.71it/s]\n"
     ]
    },
    {
     "name": "stdout",
     "output_type": "stream",
     "text": [
      "Generator Error Metric is 0.14196592569351196\n",
      "Time for epoch 36 is 3.291806697845459 sec\n",
      "Epoch: 37\n",
      "Learning rate: 0.0008199739\n"
     ]
    },
    {
     "name": "stderr",
     "output_type": "stream",
     "text": [
      "100%|█████████████████████████████████████████| 101/101 [00:03<00:00, 31.46it/s]\n"
     ]
    },
    {
     "name": "stdout",
     "output_type": "stream",
     "text": [
      "Generator Error Metric is 0.12732359766960144\n",
      "Time for epoch 37 is 3.212993860244751 sec\n",
      "Epoch: 38\n",
      "Learning rate: 0.00081545505\n"
     ]
    },
    {
     "name": "stderr",
     "output_type": "stream",
     "text": [
      "100%|█████████████████████████████████████████| 101/101 [00:03<00:00, 32.22it/s]\n"
     ]
    },
    {
     "name": "stdout",
     "output_type": "stream",
     "text": [
      "Generator Error Metric is 0.1571630984544754\n",
      "Time for epoch 38 is 3.1368322372436523 sec\n",
      "Epoch: 39\n",
      "Learning rate: 0.0008109611\n"
     ]
    },
    {
     "name": "stderr",
     "output_type": "stream",
     "text": [
      "100%|█████████████████████████████████████████| 101/101 [00:03<00:00, 32.21it/s]\n"
     ]
    },
    {
     "name": "stdout",
     "output_type": "stream",
     "text": [
      "Generator Error Metric is 0.23520299792289734\n",
      "Time for epoch 39 is 3.138096332550049 sec\n",
      "Epoch: 40\n",
      "Learning rate: 0.0008064919\n"
     ]
    },
    {
     "name": "stderr",
     "output_type": "stream",
     "text": [
      "100%|█████████████████████████████████████████| 101/101 [00:03<00:00, 30.66it/s]\n"
     ]
    },
    {
     "name": "stdout",
     "output_type": "stream",
     "text": [
      "Generator Error Metric is 0.28609326481819153\n",
      "Time for epoch 40 is 8.151247501373291 sec\n",
      "Epoch: 41\n",
      "Learning rate: 0.00080204743\n"
     ]
    },
    {
     "name": "stderr",
     "output_type": "stream",
     "text": [
      "100%|█████████████████████████████████████████| 101/101 [00:03<00:00, 32.13it/s]\n"
     ]
    },
    {
     "name": "stdout",
     "output_type": "stream",
     "text": [
      "Generator Error Metric is 0.17996658384799957\n",
      "Time for epoch 41 is 3.1453261375427246 sec\n",
      "Epoch: 42\n",
      "Learning rate: 0.0007976273\n"
     ]
    },
    {
     "name": "stderr",
     "output_type": "stream",
     "text": [
      "100%|█████████████████████████████████████████| 101/101 [00:03<00:00, 30.90it/s]\n"
     ]
    },
    {
     "name": "stdout",
     "output_type": "stream",
     "text": [
      "Generator Error Metric is 0.08951783925294876\n",
      "Time for epoch 42 is 3.271284818649292 sec\n",
      "Epoch: 43\n",
      "Learning rate: 0.0007932316\n"
     ]
    },
    {
     "name": "stderr",
     "output_type": "stream",
     "text": [
      "100%|█████████████████████████████████████████| 101/101 [00:03<00:00, 31.67it/s]\n"
     ]
    },
    {
     "name": "stdout",
     "output_type": "stream",
     "text": [
      "Generator Error Metric is 0.2583593428134918\n",
      "Time for epoch 43 is 3.1913342475891113 sec\n",
      "Epoch: 44\n",
      "Learning rate: 0.00078886014\n"
     ]
    },
    {
     "name": "stderr",
     "output_type": "stream",
     "text": [
      "100%|█████████████████████████████████████████| 101/101 [00:03<00:00, 32.14it/s]\n"
     ]
    },
    {
     "name": "stdout",
     "output_type": "stream",
     "text": [
      "Generator Error Metric is 0.3369947373867035\n",
      "Time for epoch 44 is 3.144960880279541 sec\n",
      "Epoch: 45\n",
      "Learning rate: 0.0007845127\n"
     ]
    },
    {
     "name": "stderr",
     "output_type": "stream",
     "text": [
      "100%|█████████████████████████████████████████| 101/101 [00:03<00:00, 31.46it/s]\n"
     ]
    },
    {
     "name": "stdout",
     "output_type": "stream",
     "text": [
      "Generator Error Metric is 0.14288267493247986\n",
      "Time for epoch 45 is 8.056980848312378 sec\n",
      "Epoch: 46\n",
      "Learning rate: 0.00078018935\n"
     ]
    },
    {
     "name": "stderr",
     "output_type": "stream",
     "text": [
      "100%|█████████████████████████████████████████| 101/101 [00:03<00:00, 31.36it/s]\n"
     ]
    },
    {
     "name": "stdout",
     "output_type": "stream",
     "text": [
      "Generator Error Metric is 0.06042911484837532\n",
      "Time for epoch 46 is 3.222888708114624 sec\n",
      "Epoch: 47\n",
      "Learning rate: 0.0007758897\n"
     ]
    },
    {
     "name": "stderr",
     "output_type": "stream",
     "text": [
      "100%|█████████████████████████████████████████| 101/101 [00:03<00:00, 32.22it/s]\n"
     ]
    },
    {
     "name": "stdout",
     "output_type": "stream",
     "text": [
      "Generator Error Metric is 0.05590328574180603\n",
      "Time for epoch 47 is 3.136478900909424 sec\n",
      "Epoch: 48\n",
      "Learning rate: 0.0007716138\n"
     ]
    },
    {
     "name": "stderr",
     "output_type": "stream",
     "text": [
      "100%|█████████████████████████████████████████| 101/101 [00:03<00:00, 32.12it/s]\n"
     ]
    },
    {
     "name": "stdout",
     "output_type": "stream",
     "text": [
      "Generator Error Metric is 0.0618506483733654\n",
      "Time for epoch 48 is 3.1464688777923584 sec\n",
      "Epoch: 49\n",
      "Learning rate: 0.00076736155\n"
     ]
    },
    {
     "name": "stderr",
     "output_type": "stream",
     "text": [
      "100%|█████████████████████████████████████████| 101/101 [00:03<00:00, 31.75it/s]\n"
     ]
    },
    {
     "name": "stdout",
     "output_type": "stream",
     "text": [
      "Generator Error Metric is 0.13365989923477173\n",
      "Time for epoch 49 is 3.1825594902038574 sec\n",
      "Epoch: 50\n",
      "Learning rate: 0.0007631326\n"
     ]
    },
    {
     "name": "stderr",
     "output_type": "stream",
     "text": [
      "100%|█████████████████████████████████████████| 101/101 [00:03<00:00, 31.25it/s]\n"
     ]
    },
    {
     "name": "stdout",
     "output_type": "stream",
     "text": [
      "Generator Error Metric is 0.1293947398662567\n",
      "Time for epoch 50 is 8.092413425445557 sec\n",
      "Epoch: 51\n",
      "Learning rate: 0.00075892697\n"
     ]
    },
    {
     "name": "stderr",
     "output_type": "stream",
     "text": [
      "100%|█████████████████████████████████████████| 101/101 [00:02<00:00, 34.26it/s]\n"
     ]
    },
    {
     "name": "stdout",
     "output_type": "stream",
     "text": [
      "Generator Error Metric is 0.16595107316970825\n",
      "Time for epoch 51 is 2.9570188522338867 sec\n",
      "Epoch: 52\n",
      "Learning rate: 0.00075474463\n"
     ]
    },
    {
     "name": "stderr",
     "output_type": "stream",
     "text": [
      "100%|█████████████████████████████████████████| 101/101 [00:02<00:00, 34.58it/s]\n"
     ]
    },
    {
     "name": "stdout",
     "output_type": "stream",
     "text": [
      "Generator Error Metric is 0.28654858469963074\n",
      "Time for epoch 52 is 2.9312193393707275 sec\n",
      "Epoch: 53\n",
      "Learning rate: 0.0007505852\n"
     ]
    },
    {
     "name": "stderr",
     "output_type": "stream",
     "text": [
      "100%|█████████████████████████████████████████| 101/101 [00:02<00:00, 34.32it/s]\n"
     ]
    },
    {
     "name": "stdout",
     "output_type": "stream",
     "text": [
      "Generator Error Metric is 0.3407362699508667\n",
      "Time for epoch 53 is 2.9523673057556152 sec\n",
      "Epoch: 54\n",
      "Learning rate: 0.0007464488\n"
     ]
    },
    {
     "name": "stderr",
     "output_type": "stream",
     "text": [
      "100%|█████████████████████████████████████████| 101/101 [00:02<00:00, 35.42it/s]\n"
     ]
    },
    {
     "name": "stdout",
     "output_type": "stream",
     "text": [
      "Generator Error Metric is 0.3358389735221863\n",
      "Time for epoch 54 is 2.86057186126709 sec\n",
      "Epoch: 55\n",
      "Learning rate: 0.00074233516\n"
     ]
    },
    {
     "name": "stderr",
     "output_type": "stream",
     "text": [
      "100%|█████████████████████████████████████████| 101/101 [00:02<00:00, 35.36it/s]\n"
     ]
    },
    {
     "name": "stdout",
     "output_type": "stream",
     "text": [
      "Generator Error Metric is 0.29422762989997864\n",
      "Time for epoch 55 is 7.524771690368652 sec\n",
      "Epoch: 56\n",
      "Learning rate: 0.0007382442\n"
     ]
    },
    {
     "name": "stderr",
     "output_type": "stream",
     "text": [
      "100%|█████████████████████████████████████████| 101/101 [00:03<00:00, 32.12it/s]\n"
     ]
    },
    {
     "name": "stdout",
     "output_type": "stream",
     "text": [
      "Generator Error Metric is 0.286963552236557\n",
      "Time for epoch 56 is 3.1471307277679443 sec\n",
      "Epoch: 57\n",
      "Learning rate: 0.00073417573\n"
     ]
    },
    {
     "name": "stderr",
     "output_type": "stream",
     "text": [
      "100%|█████████████████████████████████████████| 101/101 [00:03<00:00, 31.94it/s]\n"
     ]
    },
    {
     "name": "stdout",
     "output_type": "stream",
     "text": [
      "Generator Error Metric is 0.14319124817848206\n",
      "Time for epoch 57 is 3.1647965908050537 sec\n",
      "Epoch: 58\n",
      "Learning rate: 0.0007301297\n"
     ]
    },
    {
     "name": "stderr",
     "output_type": "stream",
     "text": [
      "100%|█████████████████████████████████████████| 101/101 [00:03<00:00, 31.85it/s]\n"
     ]
    },
    {
     "name": "stdout",
     "output_type": "stream",
     "text": [
      "Generator Error Metric is 0.05876042693853378\n",
      "Time for epoch 58 is 3.1734778881073 sec\n",
      "Epoch: 59\n",
      "Learning rate: 0.00072610594\n"
     ]
    },
    {
     "name": "stderr",
     "output_type": "stream",
     "text": [
      "100%|█████████████████████████████████████████| 101/101 [00:03<00:00, 31.24it/s]\n"
     ]
    },
    {
     "name": "stdout",
     "output_type": "stream",
     "text": [
      "Generator Error Metric is 0.07912612706422806\n",
      "Time for epoch 59 is 3.2413952350616455 sec\n",
      "Epoch: 60\n",
      "Learning rate: 0.0007221044\n"
     ]
    },
    {
     "name": "stderr",
     "output_type": "stream",
     "text": [
      "100%|█████████████████████████████████████████| 101/101 [00:02<00:00, 33.76it/s]\n"
     ]
    },
    {
     "name": "stdout",
     "output_type": "stream",
     "text": [
      "Generator Error Metric is 0.08568309992551804\n",
      "Time for epoch 60 is 7.749024868011475 sec\n",
      "Epoch: 61\n",
      "Learning rate: 0.00071812497\n"
     ]
    },
    {
     "name": "stderr",
     "output_type": "stream",
     "text": [
      "100%|█████████████████████████████████████████| 101/101 [00:02<00:00, 34.70it/s]\n"
     ]
    },
    {
     "name": "stdout",
     "output_type": "stream",
     "text": [
      "Generator Error Metric is 0.1001252755522728\n",
      "Time for epoch 61 is 2.9183757305145264 sec\n",
      "Epoch: 62\n",
      "Learning rate: 0.00071416737\n"
     ]
    },
    {
     "name": "stderr",
     "output_type": "stream",
     "text": [
      "100%|█████████████████████████████████████████| 101/101 [00:02<00:00, 33.68it/s]\n"
     ]
    },
    {
     "name": "stdout",
     "output_type": "stream",
     "text": [
      "Generator Error Metric is 0.06538587063550949\n",
      "Time for epoch 62 is 3.009856700897217 sec\n",
      "Epoch: 63\n",
      "Learning rate: 0.00071023166\n"
     ]
    },
    {
     "name": "stderr",
     "output_type": "stream",
     "text": [
      "100%|█████████████████████████████████████████| 101/101 [00:03<00:00, 31.29it/s]\n"
     ]
    },
    {
     "name": "stdout",
     "output_type": "stream",
     "text": [
      "Generator Error Metric is 0.07018177211284637\n",
      "Time for epoch 63 is 3.230074167251587 sec\n",
      "Epoch: 64\n",
      "Learning rate: 0.0007063176\n"
     ]
    },
    {
     "name": "stderr",
     "output_type": "stream",
     "text": [
      "100%|█████████████████████████████████████████| 101/101 [00:03<00:00, 31.12it/s]\n"
     ]
    },
    {
     "name": "stdout",
     "output_type": "stream",
     "text": [
      "Generator Error Metric is 0.07964257895946503\n",
      "Time for epoch 64 is 3.247786283493042 sec\n",
      "Epoch: 65\n",
      "Learning rate: 0.0007024251\n"
     ]
    },
    {
     "name": "stderr",
     "output_type": "stream",
     "text": [
      "100%|█████████████████████████████████████████| 101/101 [00:03<00:00, 31.89it/s]\n"
     ]
    },
    {
     "name": "stdout",
     "output_type": "stream",
     "text": [
      "Generator Error Metric is 0.06380456686019897\n",
      "Time for epoch 65 is 8.001709699630737 sec\n",
      "Epoch: 66\n",
      "Learning rate: 0.0006985541\n"
     ]
    },
    {
     "name": "stderr",
     "output_type": "stream",
     "text": [
      "100%|█████████████████████████████████████████| 101/101 [00:03<00:00, 33.52it/s]\n"
     ]
    },
    {
     "name": "stdout",
     "output_type": "stream",
     "text": [
      "Generator Error Metric is 0.04969196394085884\n",
      "Time for epoch 66 is 3.02152419090271 sec\n",
      "Epoch: 67\n",
      "Learning rate: 0.00069470424\n"
     ]
    },
    {
     "name": "stderr",
     "output_type": "stream",
     "text": [
      "100%|█████████████████████████████████████████| 101/101 [00:02<00:00, 34.13it/s]\n"
     ]
    },
    {
     "name": "stdout",
     "output_type": "stream",
     "text": [
      "Generator Error Metric is 0.06917748600244522\n",
      "Time for epoch 67 is 2.9680867195129395 sec\n",
      "Epoch: 68\n",
      "Learning rate: 0.00069087587\n"
     ]
    },
    {
     "name": "stderr",
     "output_type": "stream",
     "text": [
      "100%|█████████████████████████████████████████| 101/101 [00:02<00:00, 35.43it/s]\n"
     ]
    },
    {
     "name": "stdout",
     "output_type": "stream",
     "text": [
      "Generator Error Metric is 0.07095354795455933\n",
      "Time for epoch 68 is 2.8593385219573975 sec\n",
      "Epoch: 69\n",
      "Learning rate: 0.00068706844\n"
     ]
    },
    {
     "name": "stderr",
     "output_type": "stream",
     "text": [
      "100%|█████████████████████████████████████████| 101/101 [00:02<00:00, 34.43it/s]\n"
     ]
    },
    {
     "name": "stdout",
     "output_type": "stream",
     "text": [
      "Generator Error Metric is 0.04274514690041542\n",
      "Time for epoch 69 is 2.9442622661590576 sec\n",
      "Epoch: 70\n",
      "Learning rate: 0.00068328204\n"
     ]
    },
    {
     "name": "stderr",
     "output_type": "stream",
     "text": [
      "100%|█████████████████████████████████████████| 101/101 [00:02<00:00, 34.51it/s]\n"
     ]
    },
    {
     "name": "stdout",
     "output_type": "stream",
     "text": [
      "Generator Error Metric is 0.07335105538368225\n",
      "Time for epoch 70 is 7.633633852005005 sec\n",
      "Epoch: 71\n",
      "Learning rate: 0.00067951647\n"
     ]
    },
    {
     "name": "stderr",
     "output_type": "stream",
     "text": [
      "100%|█████████████████████████████████████████| 101/101 [00:03<00:00, 32.18it/s]\n"
     ]
    },
    {
     "name": "stdout",
     "output_type": "stream",
     "text": [
      "Generator Error Metric is 0.0812857449054718\n",
      "Time for epoch 71 is 3.1404168605804443 sec\n",
      "Epoch: 72\n",
      "Learning rate: 0.0006757718\n"
     ]
    },
    {
     "name": "stderr",
     "output_type": "stream",
     "text": [
      "100%|█████████████████████████████████████████| 101/101 [00:03<00:00, 32.08it/s]\n"
     ]
    },
    {
     "name": "stdout",
     "output_type": "stream",
     "text": [
      "Generator Error Metric is 0.08643262833356857\n",
      "Time for epoch 72 is 3.151003837585449 sec\n",
      "Epoch: 73\n",
      "Learning rate: 0.0006720476\n"
     ]
    },
    {
     "name": "stderr",
     "output_type": "stream",
     "text": [
      "100%|█████████████████████████████████████████| 101/101 [00:03<00:00, 31.36it/s]\n"
     ]
    },
    {
     "name": "stdout",
     "output_type": "stream",
     "text": [
      "Generator Error Metric is 0.06608937680721283\n",
      "Time for epoch 73 is 3.223116874694824 sec\n",
      "Epoch: 74\n",
      "Learning rate: 0.0006683439\n"
     ]
    },
    {
     "name": "stderr",
     "output_type": "stream",
     "text": [
      "100%|█████████████████████████████████████████| 101/101 [00:03<00:00, 31.05it/s]\n"
     ]
    },
    {
     "name": "stdout",
     "output_type": "stream",
     "text": [
      "Generator Error Metric is 0.05163967236876488\n",
      "Time for epoch 74 is 3.2556259632110596 sec\n",
      "Epoch: 75\n",
      "Learning rate: 0.00066466065\n"
     ]
    },
    {
     "name": "stderr",
     "output_type": "stream",
     "text": [
      "100%|█████████████████████████████████████████| 101/101 [00:03<00:00, 31.71it/s]\n"
     ]
    },
    {
     "name": "stdout",
     "output_type": "stream",
     "text": [
      "Generator Error Metric is 0.05182996764779091\n",
      "Time for epoch 75 is 7.889023542404175 sec\n",
      "Epoch: 76\n",
      "Learning rate: 0.00066099776\n"
     ]
    },
    {
     "name": "stderr",
     "output_type": "stream",
     "text": [
      "100%|█████████████████████████████████████████| 101/101 [00:03<00:00, 30.92it/s]\n"
     ]
    },
    {
     "name": "stdout",
     "output_type": "stream",
     "text": [
      "Generator Error Metric is 0.0917615219950676\n",
      "Time for epoch 76 is 3.269468307495117 sec\n",
      "Epoch: 77\n",
      "Learning rate: 0.00065735506\n"
     ]
    },
    {
     "name": "stderr",
     "output_type": "stream",
     "text": [
      "100%|█████████████████████████████████████████| 101/101 [00:03<00:00, 31.53it/s]\n"
     ]
    },
    {
     "name": "stdout",
     "output_type": "stream",
     "text": [
      "Generator Error Metric is 0.07702359557151794\n",
      "Time for epoch 77 is 3.205361843109131 sec\n",
      "Epoch: 78\n",
      "Learning rate: 0.00065373245\n"
     ]
    },
    {
     "name": "stderr",
     "output_type": "stream",
     "text": [
      "100%|█████████████████████████████████████████| 101/101 [00:03<00:00, 31.94it/s]\n"
     ]
    },
    {
     "name": "stdout",
     "output_type": "stream",
     "text": [
      "Generator Error Metric is 0.2046506106853485\n",
      "Time for epoch 78 is 3.1637680530548096 sec\n",
      "Epoch: 79\n",
      "Learning rate: 0.0006501297\n"
     ]
    },
    {
     "name": "stderr",
     "output_type": "stream",
     "text": [
      "100%|█████████████████████████████████████████| 101/101 [00:03<00:00, 31.37it/s]\n"
     ]
    },
    {
     "name": "stdout",
     "output_type": "stream",
     "text": [
      "Generator Error Metric is 0.16685336828231812\n",
      "Time for epoch 79 is 3.2214343547821045 sec\n",
      "Epoch: 80\n",
      "Learning rate: 0.0006465469\n"
     ]
    },
    {
     "name": "stderr",
     "output_type": "stream",
     "text": [
      "100%|█████████████████████████████████████████| 101/101 [00:03<00:00, 30.96it/s]\n"
     ]
    },
    {
     "name": "stdout",
     "output_type": "stream",
     "text": [
      "Generator Error Metric is 0.16352792084217072\n",
      "Time for epoch 80 is 8.087306022644043 sec\n",
      "Epoch: 81\n",
      "Learning rate: 0.00064298377\n"
     ]
    },
    {
     "name": "stderr",
     "output_type": "stream",
     "text": [
      "100%|█████████████████████████████████████████| 101/101 [00:02<00:00, 35.47it/s]\n"
     ]
    },
    {
     "name": "stdout",
     "output_type": "stream",
     "text": [
      "Generator Error Metric is 0.1650194227695465\n",
      "Time for epoch 81 is 2.8564536571502686 sec\n",
      "Epoch: 82\n",
      "Learning rate: 0.0006394403\n"
     ]
    },
    {
     "name": "stderr",
     "output_type": "stream",
     "text": [
      "100%|█████████████████████████████████████████| 101/101 [00:02<00:00, 35.42it/s]\n"
     ]
    },
    {
     "name": "stdout",
     "output_type": "stream",
     "text": [
      "Generator Error Metric is 0.1597508043050766\n",
      "Time for epoch 82 is 2.8608288764953613 sec\n",
      "Epoch: 83\n",
      "Learning rate: 0.00063591637\n"
     ]
    },
    {
     "name": "stderr",
     "output_type": "stream",
     "text": [
      "100%|█████████████████████████████████████████| 101/101 [00:02<00:00, 35.59it/s]\n"
     ]
    },
    {
     "name": "stdout",
     "output_type": "stream",
     "text": [
      "Generator Error Metric is 0.15932399034500122\n",
      "Time for epoch 83 is 2.8465285301208496 sec\n",
      "Epoch: 84\n",
      "Learning rate: 0.00063241186\n"
     ]
    },
    {
     "name": "stderr",
     "output_type": "stream",
     "text": [
      "100%|█████████████████████████████████████████| 101/101 [00:02<00:00, 35.54it/s]\n"
     ]
    },
    {
     "name": "stdout",
     "output_type": "stream",
     "text": [
      "Generator Error Metric is 0.13175925612449646\n",
      "Time for epoch 84 is 2.850207805633545 sec\n",
      "Epoch: 85\n",
      "Learning rate: 0.0006289267\n"
     ]
    },
    {
     "name": "stderr",
     "output_type": "stream",
     "text": [
      "100%|█████████████████████████████████████████| 101/101 [00:02<00:00, 35.48it/s]\n"
     ]
    },
    {
     "name": "stdout",
     "output_type": "stream",
     "text": [
      "Generator Error Metric is 0.1274605244398117\n",
      "Time for epoch 85 is 7.481944799423218 sec\n",
      "Epoch: 86\n",
      "Learning rate: 0.0006254607\n"
     ]
    },
    {
     "name": "stderr",
     "output_type": "stream",
     "text": [
      "100%|█████████████████████████████████████████| 101/101 [00:02<00:00, 34.71it/s]\n"
     ]
    },
    {
     "name": "stdout",
     "output_type": "stream",
     "text": [
      "Generator Error Metric is 0.14856386184692383\n",
      "Time for epoch 86 is 2.918287515640259 sec\n",
      "Epoch: 87\n",
      "Learning rate: 0.00062201376\n"
     ]
    },
    {
     "name": "stderr",
     "output_type": "stream",
     "text": [
      "100%|█████████████████████████████████████████| 101/101 [00:02<00:00, 34.66it/s]\n"
     ]
    },
    {
     "name": "stdout",
     "output_type": "stream",
     "text": [
      "Generator Error Metric is 0.28545594215393066\n",
      "Time for epoch 87 is 2.9229769706726074 sec\n",
      "Epoch: 88\n",
      "Learning rate: 0.0006185859\n"
     ]
    },
    {
     "name": "stderr",
     "output_type": "stream",
     "text": [
      "100%|█████████████████████████████████████████| 101/101 [00:02<00:00, 35.26it/s]\n"
     ]
    },
    {
     "name": "stdout",
     "output_type": "stream",
     "text": [
      "Generator Error Metric is 0.306465744972229\n",
      "Time for epoch 88 is 2.872739553451538 sec\n",
      "Epoch: 89\n",
      "Learning rate: 0.00061517686\n"
     ]
    },
    {
     "name": "stderr",
     "output_type": "stream",
     "text": [
      "100%|█████████████████████████████████████████| 101/101 [00:02<00:00, 35.18it/s]\n"
     ]
    },
    {
     "name": "stdout",
     "output_type": "stream",
     "text": [
      "Generator Error Metric is 0.20167043805122375\n",
      "Time for epoch 89 is 2.879362106323242 sec\n",
      "Epoch: 90\n",
      "Learning rate: 0.0006117867\n"
     ]
    },
    {
     "name": "stderr",
     "output_type": "stream",
     "text": [
      "100%|█████████████████████████████████████████| 101/101 [00:02<00:00, 35.17it/s]\n"
     ]
    },
    {
     "name": "stdout",
     "output_type": "stream",
     "text": [
      "Generator Error Metric is 0.10929019004106522\n",
      "Time for epoch 90 is 7.529782056808472 sec\n",
      "Epoch: 91\n",
      "Learning rate: 0.00060841517\n"
     ]
    },
    {
     "name": "stderr",
     "output_type": "stream",
     "text": [
      "100%|█████████████████████████████████████████| 101/101 [00:03<00:00, 31.36it/s]\n"
     ]
    },
    {
     "name": "stdout",
     "output_type": "stream",
     "text": [
      "Generator Error Metric is 0.08466512709856033\n",
      "Time for epoch 91 is 3.2230894565582275 sec\n",
      "Epoch: 92\n",
      "Learning rate: 0.0006050622\n"
     ]
    },
    {
     "name": "stderr",
     "output_type": "stream",
     "text": [
      "100%|█████████████████████████████████████████| 101/101 [00:03<00:00, 31.50it/s]\n"
     ]
    },
    {
     "name": "stdout",
     "output_type": "stream",
     "text": [
      "Generator Error Metric is 0.07685496658086777\n",
      "Time for epoch 92 is 3.2084877490997314 sec\n",
      "Epoch: 93\n",
      "Learning rate: 0.0006017277\n"
     ]
    },
    {
     "name": "stderr",
     "output_type": "stream",
     "text": [
      "100%|█████████████████████████████████████████| 101/101 [00:03<00:00, 31.93it/s]\n"
     ]
    },
    {
     "name": "stdout",
     "output_type": "stream",
     "text": [
      "Generator Error Metric is 0.06925500184297562\n",
      "Time for epoch 93 is 3.1654715538024902 sec\n",
      "Epoch: 94\n",
      "Learning rate: 0.00059841166\n"
     ]
    },
    {
     "name": "stderr",
     "output_type": "stream",
     "text": [
      "100%|█████████████████████████████████████████| 101/101 [00:03<00:00, 31.33it/s]\n"
     ]
    },
    {
     "name": "stdout",
     "output_type": "stream",
     "text": [
      "Generator Error Metric is 0.05780099704861641\n",
      "Time for epoch 94 is 3.2263567447662354 sec\n",
      "Epoch: 95\n",
      "Learning rate: 0.00059511384\n"
     ]
    },
    {
     "name": "stderr",
     "output_type": "stream",
     "text": [
      "100%|█████████████████████████████████████████| 101/101 [00:03<00:00, 31.53it/s]\n"
     ]
    },
    {
     "name": "stdout",
     "output_type": "stream",
     "text": [
      "Generator Error Metric is 0.04595981165766716\n",
      "Time for epoch 95 is 8.038264513015747 sec\n",
      "Epoch: 96\n",
      "Learning rate: 0.00059183413\n"
     ]
    },
    {
     "name": "stderr",
     "output_type": "stream",
     "text": [
      "100%|█████████████████████████████████████████| 101/101 [00:02<00:00, 34.43it/s]\n"
     ]
    },
    {
     "name": "stdout",
     "output_type": "stream",
     "text": [
      "Generator Error Metric is 0.04282540827989578\n",
      "Time for epoch 96 is 2.9441418647766113 sec\n",
      "Epoch: 97\n",
      "Learning rate: 0.0005885726\n"
     ]
    },
    {
     "name": "stderr",
     "output_type": "stream",
     "text": [
      "100%|█████████████████████████████████████████| 101/101 [00:02<00:00, 35.25it/s]\n"
     ]
    },
    {
     "name": "stdout",
     "output_type": "stream",
     "text": [
      "Generator Error Metric is 0.03352886438369751\n",
      "Time for epoch 97 is 2.8742072582244873 sec\n",
      "Epoch: 98\n",
      "Learning rate: 0.00058532896\n"
     ]
    },
    {
     "name": "stderr",
     "output_type": "stream",
     "text": [
      "100%|█████████████████████████████████████████| 101/101 [00:02<00:00, 34.15it/s]\n"
     ]
    },
    {
     "name": "stdout",
     "output_type": "stream",
     "text": [
      "Generator Error Metric is 0.04117780551314354\n",
      "Time for epoch 98 is 2.9664864540100098 sec\n",
      "Epoch: 99\n",
      "Learning rate: 0.0005821032\n"
     ]
    },
    {
     "name": "stderr",
     "output_type": "stream",
     "text": [
      "100%|█████████████████████████████████████████| 101/101 [00:02<00:00, 34.85it/s]\n"
     ]
    },
    {
     "name": "stdout",
     "output_type": "stream",
     "text": [
      "Generator Error Metric is 0.036347370594739914\n",
      "Time for epoch 99 is 2.906909465789795 sec\n",
      "Epoch: 100\n",
      "Learning rate: 0.0005788954\n"
     ]
    },
    {
     "name": "stderr",
     "output_type": "stream",
     "text": [
      "100%|█████████████████████████████████████████| 101/101 [00:02<00:00, 35.09it/s]\n"
     ]
    },
    {
     "name": "stdout",
     "output_type": "stream",
     "text": [
      "Generator Error Metric is 0.03837904334068298\n",
      "Time for epoch 100 is 7.5400848388671875 sec\n",
      "Epoch: 101\n",
      "Learning rate: 0.0005757051\n"
     ]
    },
    {
     "name": "stderr",
     "output_type": "stream",
     "text": [
      "100%|█████████████████████████████████████████| 101/101 [00:03<00:00, 30.82it/s]\n"
     ]
    },
    {
     "name": "stdout",
     "output_type": "stream",
     "text": [
      "Generator Error Metric is 0.04648418352007866\n",
      "Time for epoch 101 is 3.2802233695983887 sec\n",
      "Epoch: 102\n",
      "Learning rate: 0.0005725323\n"
     ]
    },
    {
     "name": "stderr",
     "output_type": "stream",
     "text": [
      "100%|█████████████████████████████████████████| 101/101 [00:03<00:00, 31.60it/s]\n"
     ]
    },
    {
     "name": "stdout",
     "output_type": "stream",
     "text": [
      "Generator Error Metric is 0.06332235783338547\n",
      "Time for epoch 102 is 3.197855234146118 sec\n",
      "Epoch: 103\n",
      "Learning rate: 0.00056937715\n"
     ]
    },
    {
     "name": "stderr",
     "output_type": "stream",
     "text": [
      "100%|█████████████████████████████████████████| 101/101 [00:03<00:00, 31.66it/s]\n"
     ]
    },
    {
     "name": "stdout",
     "output_type": "stream",
     "text": [
      "Generator Error Metric is 0.043067917227745056\n",
      "Time for epoch 103 is 3.1923346519470215 sec\n",
      "Epoch: 104\n",
      "Learning rate: 0.00056623924\n"
     ]
    },
    {
     "name": "stderr",
     "output_type": "stream",
     "text": [
      "100%|█████████████████████████████████████████| 101/101 [00:03<00:00, 31.90it/s]\n"
     ]
    },
    {
     "name": "stdout",
     "output_type": "stream",
     "text": [
      "Generator Error Metric is 0.036043453961610794\n",
      "Time for epoch 104 is 3.16825008392334 sec\n",
      "Epoch: 105\n",
      "Learning rate: 0.0005631188\n"
     ]
    },
    {
     "name": "stderr",
     "output_type": "stream",
     "text": [
      "100%|█████████████████████████████████████████| 101/101 [00:03<00:00, 32.16it/s]\n"
     ]
    },
    {
     "name": "stdout",
     "output_type": "stream",
     "text": [
      "Generator Error Metric is 0.0400506965816021\n",
      "Time for epoch 105 is 7.979480981826782 sec\n",
      "Epoch: 106\n",
      "Learning rate: 0.00056001544\n"
     ]
    },
    {
     "name": "stderr",
     "output_type": "stream",
     "text": [
      "100%|█████████████████████████████████████████| 101/101 [00:03<00:00, 31.11it/s]\n"
     ]
    },
    {
     "name": "stdout",
     "output_type": "stream",
     "text": [
      "Generator Error Metric is 0.04007762297987938\n",
      "Time for epoch 106 is 3.248347759246826 sec\n",
      "Epoch: 107\n",
      "Learning rate: 0.0005569292\n"
     ]
    },
    {
     "name": "stderr",
     "output_type": "stream",
     "text": [
      "100%|█████████████████████████████████████████| 101/101 [00:03<00:00, 31.37it/s]\n"
     ]
    },
    {
     "name": "stdout",
     "output_type": "stream",
     "text": [
      "Generator Error Metric is 0.03635363280773163\n",
      "Time for epoch 107 is 3.2222886085510254 sec\n",
      "Epoch: 108\n",
      "Learning rate: 0.00055386\n"
     ]
    },
    {
     "name": "stderr",
     "output_type": "stream",
     "text": [
      "100%|█████████████████████████████████████████| 101/101 [00:03<00:00, 31.93it/s]\n"
     ]
    },
    {
     "name": "stdout",
     "output_type": "stream",
     "text": [
      "Generator Error Metric is 0.03138445317745209\n",
      "Time for epoch 108 is 3.165443181991577 sec\n",
      "Epoch: 109\n",
      "Learning rate: 0.0005508077\n"
     ]
    },
    {
     "name": "stderr",
     "output_type": "stream",
     "text": [
      "100%|█████████████████████████████████████████| 101/101 [00:03<00:00, 31.49it/s]\n"
     ]
    },
    {
     "name": "stdout",
     "output_type": "stream",
     "text": [
      "Generator Error Metric is 0.048183731734752655\n",
      "Time for epoch 109 is 3.209620952606201 sec\n",
      "Epoch: 110\n",
      "Learning rate: 0.0005477723\n"
     ]
    },
    {
     "name": "stderr",
     "output_type": "stream",
     "text": [
      "100%|█████████████████████████████████████████| 101/101 [00:03<00:00, 31.49it/s]\n"
     ]
    },
    {
     "name": "stdout",
     "output_type": "stream",
     "text": [
      "Generator Error Metric is 0.12306927889585495\n",
      "Time for epoch 110 is 8.051579236984253 sec\n",
      "Epoch: 111\n",
      "Learning rate: 0.0005447535\n"
     ]
    },
    {
     "name": "stderr",
     "output_type": "stream",
     "text": [
      "100%|█████████████████████████████████████████| 101/101 [00:03<00:00, 32.01it/s]\n"
     ]
    },
    {
     "name": "stdout",
     "output_type": "stream",
     "text": [
      "Generator Error Metric is 0.1584717184305191\n",
      "Time for epoch 111 is 3.157244920730591 sec\n",
      "Epoch: 112\n",
      "Learning rate: 0.00054175133\n"
     ]
    },
    {
     "name": "stderr",
     "output_type": "stream",
     "text": [
      "100%|█████████████████████████████████████████| 101/101 [00:03<00:00, 31.97it/s]\n"
     ]
    },
    {
     "name": "stdout",
     "output_type": "stream",
     "text": [
      "Generator Error Metric is 0.20931898057460785\n",
      "Time for epoch 112 is 3.161379337310791 sec\n",
      "Epoch: 113\n",
      "Learning rate: 0.0005387658\n"
     ]
    },
    {
     "name": "stderr",
     "output_type": "stream",
     "text": [
      "100%|█████████████████████████████████████████| 101/101 [00:03<00:00, 32.19it/s]\n"
     ]
    },
    {
     "name": "stdout",
     "output_type": "stream",
     "text": [
      "Generator Error Metric is 0.23237508535385132\n",
      "Time for epoch 113 is 3.1394846439361572 sec\n",
      "Epoch: 114\n",
      "Learning rate: 0.0005357967\n"
     ]
    },
    {
     "name": "stderr",
     "output_type": "stream",
     "text": [
      "100%|█████████████████████████████████████████| 101/101 [00:03<00:00, 32.19it/s]\n"
     ]
    },
    {
     "name": "stdout",
     "output_type": "stream",
     "text": [
      "Generator Error Metric is 0.17408441007137299\n",
      "Time for epoch 114 is 3.1392593383789062 sec\n",
      "Epoch: 115\n",
      "Learning rate: 0.000532844\n"
     ]
    },
    {
     "name": "stderr",
     "output_type": "stream",
     "text": [
      "100%|█████████████████████████████████████████| 101/101 [00:03<00:00, 32.16it/s]\n"
     ]
    },
    {
     "name": "stdout",
     "output_type": "stream",
     "text": [
      "Generator Error Metric is 0.125001460313797\n",
      "Time for epoch 115 is 8.074190855026245 sec\n",
      "Epoch: 116\n",
      "Learning rate: 0.00052990747\n"
     ]
    },
    {
     "name": "stderr",
     "output_type": "stream",
     "text": [
      "100%|█████████████████████████████████████████| 101/101 [00:03<00:00, 31.41it/s]\n"
     ]
    },
    {
     "name": "stdout",
     "output_type": "stream",
     "text": [
      "Generator Error Metric is 0.16447578370571136\n",
      "Time for epoch 116 is 3.2171428203582764 sec\n",
      "Epoch: 117\n",
      "Learning rate: 0.00052698713\n"
     ]
    },
    {
     "name": "stderr",
     "output_type": "stream",
     "text": [
      "100%|█████████████████████████████████████████| 101/101 [00:03<00:00, 31.23it/s]\n"
     ]
    },
    {
     "name": "stdout",
     "output_type": "stream",
     "text": [
      "Generator Error Metric is 0.18181392550468445\n",
      "Time for epoch 117 is 3.2364444732666016 sec\n",
      "Epoch: 118\n",
      "Learning rate: 0.0005240829\n"
     ]
    },
    {
     "name": "stderr",
     "output_type": "stream",
     "text": [
      "100%|█████████████████████████████████████████| 101/101 [00:03<00:00, 31.21it/s]\n"
     ]
    },
    {
     "name": "stdout",
     "output_type": "stream",
     "text": [
      "Generator Error Metric is 0.17336884140968323\n",
      "Time for epoch 118 is 3.238089084625244 sec\n",
      "Epoch: 119\n",
      "Learning rate: 0.0005211948\n"
     ]
    },
    {
     "name": "stderr",
     "output_type": "stream",
     "text": [
      "100%|█████████████████████████████████████████| 101/101 [00:03<00:00, 31.49it/s]\n"
     ]
    },
    {
     "name": "stdout",
     "output_type": "stream",
     "text": [
      "Generator Error Metric is 0.1841801404953003\n",
      "Time for epoch 119 is 3.209763288497925 sec\n",
      "Epoch: 120\n",
      "Learning rate: 0.00051832246\n"
     ]
    },
    {
     "name": "stderr",
     "output_type": "stream",
     "text": [
      "100%|█████████████████████████████████████████| 101/101 [00:03<00:00, 30.80it/s]\n"
     ]
    },
    {
     "name": "stdout",
     "output_type": "stream",
     "text": [
      "Generator Error Metric is 0.1359335333108902\n",
      "Time for epoch 120 is 7.985288858413696 sec\n",
      "Epoch: 121\n",
      "Learning rate: 0.000515466\n"
     ]
    },
    {
     "name": "stderr",
     "output_type": "stream",
     "text": [
      "100%|█████████████████████████████████████████| 101/101 [00:02<00:00, 35.33it/s]\n"
     ]
    },
    {
     "name": "stdout",
     "output_type": "stream",
     "text": [
      "Generator Error Metric is 0.14364202320575714\n",
      "Time for epoch 121 is 2.867849349975586 sec\n",
      "Epoch: 122\n",
      "Learning rate: 0.0005126253\n"
     ]
    },
    {
     "name": "stderr",
     "output_type": "stream",
     "text": [
      "100%|█████████████████████████████████████████| 101/101 [00:02<00:00, 35.36it/s]\n"
     ]
    },
    {
     "name": "stdout",
     "output_type": "stream",
     "text": [
      "Generator Error Metric is 0.15381862223148346\n",
      "Time for epoch 122 is 2.865398406982422 sec\n",
      "Epoch: 123\n",
      "Learning rate: 0.0005098002\n"
     ]
    },
    {
     "name": "stderr",
     "output_type": "stream",
     "text": [
      "100%|█████████████████████████████████████████| 101/101 [00:02<00:00, 35.33it/s]\n"
     ]
    },
    {
     "name": "stdout",
     "output_type": "stream",
     "text": [
      "Generator Error Metric is 0.13953234255313873\n",
      "Time for epoch 123 is 2.8678829669952393 sec\n",
      "Epoch: 124\n",
      "Learning rate: 0.00050699076\n"
     ]
    },
    {
     "name": "stderr",
     "output_type": "stream",
     "text": [
      "100%|█████████████████████████████████████████| 101/101 [00:02<00:00, 35.05it/s]\n"
     ]
    },
    {
     "name": "stdout",
     "output_type": "stream",
     "text": [
      "Generator Error Metric is 0.0982796847820282\n",
      "Time for epoch 124 is 2.891390323638916 sec\n",
      "Epoch: 125\n",
      "Learning rate: 0.0005041968\n"
     ]
    },
    {
     "name": "stderr",
     "output_type": "stream",
     "text": [
      "100%|█████████████████████████████████████████| 101/101 [00:02<00:00, 35.11it/s]\n"
     ]
    },
    {
     "name": "stdout",
     "output_type": "stream",
     "text": [
      "Generator Error Metric is 0.06814495474100113\n",
      "Time for epoch 125 is 7.527156352996826 sec\n",
      "Epoch: 126\n",
      "Learning rate: 0.00050141814\n"
     ]
    },
    {
     "name": "stderr",
     "output_type": "stream",
     "text": [
      "100%|█████████████████████████████████████████| 101/101 [00:02<00:00, 34.97it/s]\n"
     ]
    },
    {
     "name": "stdout",
     "output_type": "stream",
     "text": [
      "Generator Error Metric is 0.04156998544931412\n",
      "Time for epoch 126 is 2.897653579711914 sec\n",
      "Epoch: 127\n",
      "Learning rate: 0.00049865484\n"
     ]
    },
    {
     "name": "stderr",
     "output_type": "stream",
     "text": [
      "100%|█████████████████████████████████████████| 101/101 [00:02<00:00, 35.22it/s]\n"
     ]
    },
    {
     "name": "stdout",
     "output_type": "stream",
     "text": [
      "Generator Error Metric is 0.08470965176820755\n",
      "Time for epoch 127 is 2.877594470977783 sec\n",
      "Epoch: 128\n",
      "Learning rate: 0.00049590674\n"
     ]
    },
    {
     "name": "stderr",
     "output_type": "stream",
     "text": [
      "100%|█████████████████████████████████████████| 101/101 [00:02<00:00, 34.70it/s]\n"
     ]
    },
    {
     "name": "stdout",
     "output_type": "stream",
     "text": [
      "Generator Error Metric is 0.11964597553014755\n",
      "Time for epoch 128 is 2.92042875289917 sec\n",
      "Epoch: 129\n",
      "Learning rate: 0.0004931738\n"
     ]
    },
    {
     "name": "stderr",
     "output_type": "stream",
     "text": [
      "100%|█████████████████████████████████████████| 101/101 [00:02<00:00, 35.06it/s]\n"
     ]
    },
    {
     "name": "stdout",
     "output_type": "stream",
     "text": [
      "Generator Error Metric is 0.15916121006011963\n",
      "Time for epoch 129 is 2.8899266719818115 sec\n",
      "Epoch: 130\n",
      "Learning rate: 0.00049045595\n"
     ]
    },
    {
     "name": "stderr",
     "output_type": "stream",
     "text": [
      "100%|█████████████████████████████████████████| 101/101 [00:02<00:00, 35.22it/s]\n"
     ]
    },
    {
     "name": "stdout",
     "output_type": "stream",
     "text": [
      "Generator Error Metric is 0.10433006286621094\n",
      "Time for epoch 130 is 7.528095722198486 sec\n",
      "Epoch: 131\n",
      "Learning rate: 0.00048775307\n"
     ]
    },
    {
     "name": "stderr",
     "output_type": "stream",
     "text": [
      "100%|█████████████████████████████████████████| 101/101 [00:03<00:00, 31.21it/s]\n"
     ]
    },
    {
     "name": "stdout",
     "output_type": "stream",
     "text": [
      "Generator Error Metric is 0.06629925966262817\n",
      "Time for epoch 131 is 3.2382099628448486 sec\n",
      "Epoch: 132\n",
      "Learning rate: 0.0004850651\n"
     ]
    },
    {
     "name": "stderr",
     "output_type": "stream",
     "text": [
      "100%|█████████████████████████████████████████| 101/101 [00:03<00:00, 30.63it/s]\n"
     ]
    },
    {
     "name": "stdout",
     "output_type": "stream",
     "text": [
      "Generator Error Metric is 0.07613132894039154\n",
      "Time for epoch 132 is 3.2995200157165527 sec\n",
      "Epoch: 133\n",
      "Learning rate: 0.00048239192\n"
     ]
    },
    {
     "name": "stderr",
     "output_type": "stream",
     "text": [
      "100%|█████████████████████████████████████████| 101/101 [00:03<00:00, 31.79it/s]\n"
     ]
    },
    {
     "name": "stdout",
     "output_type": "stream",
     "text": [
      "Generator Error Metric is 0.07593615353107452\n",
      "Time for epoch 133 is 3.179824113845825 sec\n",
      "Epoch: 134\n",
      "Learning rate: 0.00047973345\n"
     ]
    },
    {
     "name": "stderr",
     "output_type": "stream",
     "text": [
      "100%|█████████████████████████████████████████| 101/101 [00:03<00:00, 32.01it/s]\n"
     ]
    },
    {
     "name": "stdout",
     "output_type": "stream",
     "text": [
      "Generator Error Metric is 0.08106131851673126\n",
      "Time for epoch 134 is 3.1583101749420166 sec\n",
      "Epoch: 135\n",
      "Learning rate: 0.00047708966\n"
     ]
    },
    {
     "name": "stderr",
     "output_type": "stream",
     "text": [
      "100%|█████████████████████████████████████████| 101/101 [00:03<00:00, 31.80it/s]\n"
     ]
    },
    {
     "name": "stdout",
     "output_type": "stream",
     "text": [
      "Generator Error Metric is 0.07166323810815811\n",
      "Time for epoch 135 is 8.007672309875488 sec\n",
      "Epoch: 136\n",
      "Learning rate: 0.00047446045\n"
     ]
    },
    {
     "name": "stderr",
     "output_type": "stream",
     "text": [
      "100%|█████████████████████████████████████████| 101/101 [00:02<00:00, 35.36it/s]\n"
     ]
    },
    {
     "name": "stdout",
     "output_type": "stream",
     "text": [
      "Generator Error Metric is 0.08656743913888931\n",
      "Time for epoch 136 is 2.864711284637451 sec\n",
      "Epoch: 137\n",
      "Learning rate: 0.00047184573\n"
     ]
    },
    {
     "name": "stderr",
     "output_type": "stream",
     "text": [
      "100%|█████████████████████████████████████████| 101/101 [00:02<00:00, 35.34it/s]\n"
     ]
    },
    {
     "name": "stdout",
     "output_type": "stream",
     "text": [
      "Generator Error Metric is 0.07606776058673859\n",
      "Time for epoch 137 is 2.867638111114502 sec\n",
      "Epoch: 138\n",
      "Learning rate: 0.00046924542\n"
     ]
    },
    {
     "name": "stderr",
     "output_type": "stream",
     "text": [
      "100%|█████████████████████████████████████████| 101/101 [00:02<00:00, 35.34it/s]\n"
     ]
    },
    {
     "name": "stdout",
     "output_type": "stream",
     "text": [
      "Generator Error Metric is 0.08178029954433441\n",
      "Time for epoch 138 is 2.8661458492279053 sec\n",
      "Epoch: 139\n",
      "Learning rate: 0.00046665934\n"
     ]
    },
    {
     "name": "stderr",
     "output_type": "stream",
     "text": [
      "100%|█████████████████████████████████████████| 101/101 [00:02<00:00, 35.33it/s]\n"
     ]
    },
    {
     "name": "stdout",
     "output_type": "stream",
     "text": [
      "Generator Error Metric is 0.0805363655090332\n",
      "Time for epoch 139 is 2.8678159713745117 sec\n",
      "Epoch: 140\n",
      "Learning rate: 0.00046408764\n"
     ]
    },
    {
     "name": "stderr",
     "output_type": "stream",
     "text": [
      "100%|█████████████████████████████████████████| 101/101 [00:02<00:00, 35.02it/s]\n"
     ]
    },
    {
     "name": "stdout",
     "output_type": "stream",
     "text": [
      "Generator Error Metric is 0.07033083587884903\n",
      "Time for epoch 140 is 7.547311305999756 sec\n",
      "Epoch: 141\n",
      "Learning rate: 0.00046153011\n"
     ]
    },
    {
     "name": "stderr",
     "output_type": "stream",
     "text": [
      "100%|█████████████████████████████████████████| 101/101 [00:03<00:00, 32.02it/s]\n"
     ]
    },
    {
     "name": "stdout",
     "output_type": "stream",
     "text": [
      "Generator Error Metric is 0.049650028347969055\n",
      "Time for epoch 141 is 3.1567394733428955 sec\n",
      "Epoch: 142\n",
      "Learning rate: 0.0004589866\n"
     ]
    },
    {
     "name": "stderr",
     "output_type": "stream",
     "text": [
      "100%|█████████████████████████████████████████| 101/101 [00:03<00:00, 32.02it/s]\n"
     ]
    },
    {
     "name": "stdout",
     "output_type": "stream",
     "text": [
      "Generator Error Metric is 0.05470144376158714\n",
      "Time for epoch 142 is 3.156231641769409 sec\n",
      "Epoch: 143\n",
      "Learning rate: 0.00045645717\n"
     ]
    },
    {
     "name": "stderr",
     "output_type": "stream",
     "text": [
      "100%|█████████████████████████████████████████| 101/101 [00:03<00:00, 32.21it/s]\n"
     ]
    },
    {
     "name": "stdout",
     "output_type": "stream",
     "text": [
      "Generator Error Metric is 0.05355985090136528\n",
      "Time for epoch 143 is 3.1374189853668213 sec\n",
      "Epoch: 144\n",
      "Learning rate: 0.00045394167\n"
     ]
    },
    {
     "name": "stderr",
     "output_type": "stream",
     "text": [
      "100%|█████████████████████████████████████████| 101/101 [00:03<00:00, 32.05it/s]\n"
     ]
    },
    {
     "name": "stdout",
     "output_type": "stream",
     "text": [
      "Generator Error Metric is 0.0484507754445076\n",
      "Time for epoch 144 is 3.1534831523895264 sec\n",
      "Epoch: 145\n",
      "Learning rate: 0.00045143996\n"
     ]
    },
    {
     "name": "stderr",
     "output_type": "stream",
     "text": [
      "100%|█████████████████████████████████████████| 101/101 [00:03<00:00, 32.08it/s]\n"
     ]
    },
    {
     "name": "stdout",
     "output_type": "stream",
     "text": [
      "Generator Error Metric is 0.040550295263528824\n",
      "Time for epoch 145 is 7.9815099239349365 sec\n",
      "Epoch: 146\n",
      "Learning rate: 0.0004489521\n"
     ]
    },
    {
     "name": "stderr",
     "output_type": "stream",
     "text": [
      "100%|█████████████████████████████████████████| 101/101 [00:02<00:00, 35.27it/s]\n"
     ]
    },
    {
     "name": "stdout",
     "output_type": "stream",
     "text": [
      "Generator Error Metric is 0.050068002194166183\n",
      "Time for epoch 146 is 2.873737335205078 sec\n",
      "Epoch: 147\n",
      "Learning rate: 0.00044647796\n"
     ]
    },
    {
     "name": "stderr",
     "output_type": "stream",
     "text": [
      "100%|█████████████████████████████████████████| 101/101 [00:02<00:00, 35.24it/s]\n"
     ]
    },
    {
     "name": "stdout",
     "output_type": "stream",
     "text": [
      "Generator Error Metric is 0.0726340264081955\n",
      "Time for epoch 147 is 2.8751702308654785 sec\n",
      "Epoch: 148\n",
      "Learning rate: 0.00044401747\n"
     ]
    },
    {
     "name": "stderr",
     "output_type": "stream",
     "text": [
      "100%|█████████████████████████████████████████| 101/101 [00:02<00:00, 35.13it/s]\n"
     ]
    },
    {
     "name": "stdout",
     "output_type": "stream",
     "text": [
      "Generator Error Metric is 0.08677049726247787\n",
      "Time for epoch 148 is 2.8841612339019775 sec\n",
      "Epoch: 149\n",
      "Learning rate: 0.00044157048\n"
     ]
    },
    {
     "name": "stderr",
     "output_type": "stream",
     "text": [
      "100%|█████████████████████████████████████████| 101/101 [00:02<00:00, 35.37it/s]\n"
     ]
    },
    {
     "name": "stdout",
     "output_type": "stream",
     "text": [
      "Generator Error Metric is 0.09229608625173569\n",
      "Time for epoch 149 is 2.86418080329895 sec\n",
      "Epoch: 150\n",
      "Learning rate: 0.000439137\n"
     ]
    },
    {
     "name": "stderr",
     "output_type": "stream",
     "text": [
      "100%|█████████████████████████████████████████| 101/101 [00:02<00:00, 35.40it/s]\n"
     ]
    },
    {
     "name": "stdout",
     "output_type": "stream",
     "text": [
      "Generator Error Metric is 0.11930340528488159\n",
      "Time for epoch 150 is 7.4888222217559814 sec\n",
      "Epoch: 151\n",
      "Learning rate: 0.00043671697\n"
     ]
    },
    {
     "name": "stderr",
     "output_type": "stream",
     "text": [
      "100%|█████████████████████████████████████████| 101/101 [00:02<00:00, 34.98it/s]\n"
     ]
    },
    {
     "name": "stdout",
     "output_type": "stream",
     "text": [
      "Generator Error Metric is 0.16888605058193207\n",
      "Time for epoch 151 is 2.895742416381836 sec\n",
      "Epoch: 152\n",
      "Learning rate: 0.00043431018\n"
     ]
    },
    {
     "name": "stderr",
     "output_type": "stream",
     "text": [
      "100%|█████████████████████████████████████████| 101/101 [00:02<00:00, 35.13it/s]\n"
     ]
    },
    {
     "name": "stdout",
     "output_type": "stream",
     "text": [
      "Generator Error Metric is 0.17113740742206573\n",
      "Time for epoch 152 is 2.884059190750122 sec\n",
      "Epoch: 153\n",
      "Learning rate: 0.0004319167\n"
     ]
    },
    {
     "name": "stderr",
     "output_type": "stream",
     "text": [
      "100%|█████████████████████████████████████████| 101/101 [00:02<00:00, 34.27it/s]\n"
     ]
    },
    {
     "name": "stdout",
     "output_type": "stream",
     "text": [
      "Generator Error Metric is 0.1761825680732727\n",
      "Time for epoch 153 is 2.9583706855773926 sec\n",
      "Epoch: 154\n",
      "Learning rate: 0.00042953648\n"
     ]
    },
    {
     "name": "stderr",
     "output_type": "stream",
     "text": [
      "100%|█████████████████████████████████████████| 101/101 [00:02<00:00, 34.03it/s]\n"
     ]
    },
    {
     "name": "stdout",
     "output_type": "stream",
     "text": [
      "Generator Error Metric is 0.20263929665088654\n",
      "Time for epoch 154 is 2.9783074855804443 sec\n",
      "Epoch: 155\n",
      "Learning rate: 0.0004271693\n"
     ]
    },
    {
     "name": "stderr",
     "output_type": "stream",
     "text": [
      "100%|█████████████████████████████████████████| 101/101 [00:02<00:00, 33.82it/s]\n"
     ]
    },
    {
     "name": "stdout",
     "output_type": "stream",
     "text": [
      "Generator Error Metric is 0.1934415102005005\n",
      "Time for epoch 155 is 7.752667665481567 sec\n",
      "Epoch: 156\n",
      "Learning rate: 0.00042481514\n"
     ]
    },
    {
     "name": "stderr",
     "output_type": "stream",
     "text": [
      "100%|█████████████████████████████████████████| 101/101 [00:03<00:00, 31.37it/s]\n"
     ]
    },
    {
     "name": "stdout",
     "output_type": "stream",
     "text": [
      "Generator Error Metric is 0.16079363226890564\n",
      "Time for epoch 156 is 3.2221784591674805 sec\n",
      "Epoch: 157\n",
      "Learning rate: 0.00042247406\n"
     ]
    },
    {
     "name": "stderr",
     "output_type": "stream",
     "text": [
      "100%|█████████████████████████████████████████| 101/101 [00:03<00:00, 32.08it/s]\n"
     ]
    },
    {
     "name": "stdout",
     "output_type": "stream",
     "text": [
      "Generator Error Metric is 0.12704530358314514\n",
      "Time for epoch 157 is 3.15024733543396 sec\n",
      "Epoch: 158\n",
      "Learning rate: 0.00042014578\n"
     ]
    },
    {
     "name": "stderr",
     "output_type": "stream",
     "text": [
      "100%|█████████████████████████████████████████| 101/101 [00:03<00:00, 32.13it/s]\n"
     ]
    },
    {
     "name": "stdout",
     "output_type": "stream",
     "text": [
      "Generator Error Metric is 0.11981064826250076\n",
      "Time for epoch 158 is 3.1461315155029297 sec\n",
      "Epoch: 159\n",
      "Learning rate: 0.0004178304\n"
     ]
    },
    {
     "name": "stderr",
     "output_type": "stream",
     "text": [
      "100%|█████████████████████████████████████████| 101/101 [00:03<00:00, 31.26it/s]\n"
     ]
    },
    {
     "name": "stdout",
     "output_type": "stream",
     "text": [
      "Generator Error Metric is 0.15644964575767517\n",
      "Time for epoch 159 is 3.2329788208007812 sec\n",
      "Epoch: 160\n",
      "Learning rate: 0.00041552776\n"
     ]
    },
    {
     "name": "stderr",
     "output_type": "stream",
     "text": [
      "100%|█████████████████████████████████████████| 101/101 [00:03<00:00, 33.06it/s]\n"
     ]
    },
    {
     "name": "stdout",
     "output_type": "stream",
     "text": [
      "Generator Error Metric is 0.23157459497451782\n",
      "Time for epoch 160 is 7.718990325927734 sec\n",
      "Epoch: 161\n",
      "Learning rate: 0.0004132378\n"
     ]
    },
    {
     "name": "stderr",
     "output_type": "stream",
     "text": [
      "100%|█████████████████████████████████████████| 101/101 [00:03<00:00, 31.59it/s]\n"
     ]
    },
    {
     "name": "stdout",
     "output_type": "stream",
     "text": [
      "Generator Error Metric is 0.23568576574325562\n",
      "Time for epoch 161 is 3.199354648590088 sec\n",
      "Epoch: 162\n",
      "Learning rate: 0.0004109605\n"
     ]
    },
    {
     "name": "stderr",
     "output_type": "stream",
     "text": [
      "100%|█████████████████████████████████████████| 101/101 [00:03<00:00, 31.05it/s]\n"
     ]
    },
    {
     "name": "stdout",
     "output_type": "stream",
     "text": [
      "Generator Error Metric is 0.2362801432609558\n",
      "Time for epoch 162 is 3.254523992538452 sec\n",
      "Epoch: 163\n",
      "Learning rate: 0.0004086957\n"
     ]
    },
    {
     "name": "stderr",
     "output_type": "stream",
     "text": [
      "100%|█████████████████████████████████████████| 101/101 [00:03<00:00, 31.02it/s]\n"
     ]
    },
    {
     "name": "stdout",
     "output_type": "stream",
     "text": [
      "Generator Error Metric is 0.20418418943881989\n",
      "Time for epoch 163 is 3.258227586746216 sec\n",
      "Epoch: 164\n",
      "Learning rate: 0.00040644337\n"
     ]
    },
    {
     "name": "stderr",
     "output_type": "stream",
     "text": [
      "100%|█████████████████████████████████████████| 101/101 [00:03<00:00, 30.86it/s]\n"
     ]
    },
    {
     "name": "stdout",
     "output_type": "stream",
     "text": [
      "Generator Error Metric is 0.228817418217659\n",
      "Time for epoch 164 is 3.27459716796875 sec\n",
      "Epoch: 165\n",
      "Learning rate: 0.00040420346\n"
     ]
    },
    {
     "name": "stderr",
     "output_type": "stream",
     "text": [
      "100%|█████████████████████████████████████████| 101/101 [00:03<00:00, 31.20it/s]\n"
     ]
    },
    {
     "name": "stdout",
     "output_type": "stream",
     "text": [
      "Generator Error Metric is 0.20064683258533478\n",
      "Time for epoch 165 is 8.044387102127075 sec\n",
      "Epoch: 166\n",
      "Learning rate: 0.00040197588\n"
     ]
    },
    {
     "name": "stderr",
     "output_type": "stream",
     "text": [
      "100%|█████████████████████████████████████████| 101/101 [00:02<00:00, 35.05it/s]\n"
     ]
    },
    {
     "name": "stdout",
     "output_type": "stream",
     "text": [
      "Generator Error Metric is 0.09315528720617294\n",
      "Time for epoch 166 is 2.89620041847229 sec\n",
      "Epoch: 167\n",
      "Learning rate: 0.00039976064\n"
     ]
    },
    {
     "name": "stderr",
     "output_type": "stream",
     "text": [
      "100%|█████████████████████████████████████████| 101/101 [00:02<00:00, 35.28it/s]\n"
     ]
    },
    {
     "name": "stdout",
     "output_type": "stream",
     "text": [
      "Generator Error Metric is 0.08514926582574844\n",
      "Time for epoch 167 is 2.871961832046509 sec\n",
      "Epoch: 168\n",
      "Learning rate: 0.00039755757\n"
     ]
    },
    {
     "name": "stderr",
     "output_type": "stream",
     "text": [
      "100%|█████████████████████████████████████████| 101/101 [00:02<00:00, 35.05it/s]\n"
     ]
    },
    {
     "name": "stdout",
     "output_type": "stream",
     "text": [
      "Generator Error Metric is 0.11484485864639282\n",
      "Time for epoch 168 is 2.890578508377075 sec\n",
      "Epoch: 169\n",
      "Learning rate: 0.00039536663\n"
     ]
    },
    {
     "name": "stderr",
     "output_type": "stream",
     "text": [
      "100%|█████████████████████████████████████████| 101/101 [00:02<00:00, 35.20it/s]\n"
     ]
    },
    {
     "name": "stdout",
     "output_type": "stream",
     "text": [
      "Generator Error Metric is 0.18409380316734314\n",
      "Time for epoch 169 is 2.8792357444763184 sec\n",
      "Epoch: 170\n",
      "Learning rate: 0.0003931878\n"
     ]
    },
    {
     "name": "stderr",
     "output_type": "stream",
     "text": [
      "100%|█████████████████████████████████████████| 101/101 [00:02<00:00, 33.95it/s]\n"
     ]
    },
    {
     "name": "stdout",
     "output_type": "stream",
     "text": [
      "Generator Error Metric is 0.2370186448097229\n",
      "Time for epoch 170 is 7.620970964431763 sec\n",
      "Epoch: 171\n",
      "Learning rate: 0.00039102093\n"
     ]
    },
    {
     "name": "stderr",
     "output_type": "stream",
     "text": [
      "100%|█████████████████████████████████████████| 101/101 [00:03<00:00, 31.01it/s]\n"
     ]
    },
    {
     "name": "stdout",
     "output_type": "stream",
     "text": [
      "Generator Error Metric is 0.21244587004184723\n",
      "Time for epoch 171 is 3.2624473571777344 sec\n",
      "Epoch: 172\n",
      "Learning rate: 0.00038886603\n"
     ]
    },
    {
     "name": "stderr",
     "output_type": "stream",
     "text": [
      "100%|█████████████████████████████████████████| 101/101 [00:03<00:00, 31.27it/s]\n"
     ]
    },
    {
     "name": "stdout",
     "output_type": "stream",
     "text": [
      "Generator Error Metric is 0.15723298490047455\n",
      "Time for epoch 172 is 3.2323105335235596 sec\n",
      "Epoch: 173\n",
      "Learning rate: 0.00038672303\n"
     ]
    },
    {
     "name": "stderr",
     "output_type": "stream",
     "text": [
      "100%|█████████████████████████████████████████| 101/101 [00:03<00:00, 31.93it/s]\n"
     ]
    },
    {
     "name": "stdout",
     "output_type": "stream",
     "text": [
      "Generator Error Metric is 0.14749576151371002\n",
      "Time for epoch 173 is 3.165459156036377 sec\n",
      "Epoch: 174\n",
      "Learning rate: 0.0003845918\n"
     ]
    },
    {
     "name": "stderr",
     "output_type": "stream",
     "text": [
      "100%|█████████████████████████████████████████| 101/101 [00:03<00:00, 32.06it/s]\n"
     ]
    },
    {
     "name": "stdout",
     "output_type": "stream",
     "text": [
      "Generator Error Metric is 0.1639116257429123\n",
      "Time for epoch 174 is 3.1523845195770264 sec\n",
      "Epoch: 175\n",
      "Learning rate: 0.00038247232\n"
     ]
    },
    {
     "name": "stderr",
     "output_type": "stream",
     "text": [
      "100%|█████████████████████████████████████████| 101/101 [00:03<00:00, 32.12it/s]\n"
     ]
    },
    {
     "name": "stdout",
     "output_type": "stream",
     "text": [
      "Generator Error Metric is 0.14560003578662872\n",
      "Time for epoch 175 is 7.943670034408569 sec\n",
      "Epoch: 176\n",
      "Learning rate: 0.00038036457\n"
     ]
    },
    {
     "name": "stderr",
     "output_type": "stream",
     "text": [
      "100%|█████████████████████████████████████████| 101/101 [00:03<00:00, 31.81it/s]\n"
     ]
    },
    {
     "name": "stdout",
     "output_type": "stream",
     "text": [
      "Generator Error Metric is 0.13316643238067627\n",
      "Time for epoch 176 is 3.181121349334717 sec\n",
      "Epoch: 177\n",
      "Learning rate: 0.00037826836\n"
     ]
    },
    {
     "name": "stderr",
     "output_type": "stream",
     "text": [
      "100%|█████████████████████████████████████████| 101/101 [00:03<00:00, 30.55it/s]\n"
     ]
    },
    {
     "name": "stdout",
     "output_type": "stream",
     "text": [
      "Generator Error Metric is 0.13869811594486237\n",
      "Time for epoch 177 is 3.3083369731903076 sec\n",
      "Epoch: 178\n",
      "Learning rate: 0.00037618377\n"
     ]
    },
    {
     "name": "stderr",
     "output_type": "stream",
     "text": [
      "100%|█████████████████████████████████████████| 101/101 [00:03<00:00, 31.49it/s]\n"
     ]
    },
    {
     "name": "stdout",
     "output_type": "stream",
     "text": [
      "Generator Error Metric is 0.171645388007164\n",
      "Time for epoch 178 is 3.208650827407837 sec\n",
      "Epoch: 179\n",
      "Learning rate: 0.00037411062\n"
     ]
    },
    {
     "name": "stderr",
     "output_type": "stream",
     "text": [
      "100%|█████████████████████████████████████████| 101/101 [00:03<00:00, 31.44it/s]\n"
     ]
    },
    {
     "name": "stdout",
     "output_type": "stream",
     "text": [
      "Generator Error Metric is 0.11046762764453888\n",
      "Time for epoch 179 is 3.214474678039551 sec\n",
      "Epoch: 180\n",
      "Learning rate: 0.0003720489\n"
     ]
    },
    {
     "name": "stderr",
     "output_type": "stream",
     "text": [
      "100%|█████████████████████████████████████████| 101/101 [00:03<00:00, 31.67it/s]\n"
     ]
    },
    {
     "name": "stdout",
     "output_type": "stream",
     "text": [
      "Generator Error Metric is 0.08629881590604782\n",
      "Time for epoch 180 is 7.998134613037109 sec\n",
      "Epoch: 181\n",
      "Learning rate: 0.00036999857\n"
     ]
    },
    {
     "name": "stderr",
     "output_type": "stream",
     "text": [
      "100%|█████████████████████████████████████████| 101/101 [00:02<00:00, 35.24it/s]\n"
     ]
    },
    {
     "name": "stdout",
     "output_type": "stream",
     "text": [
      "Generator Error Metric is 0.10486358404159546\n",
      "Time for epoch 181 is 2.8780903816223145 sec\n",
      "Epoch: 182\n",
      "Learning rate: 0.00036795952\n"
     ]
    },
    {
     "name": "stderr",
     "output_type": "stream",
     "text": [
      "100%|█████████████████████████████████████████| 101/101 [00:02<00:00, 35.16it/s]\n"
     ]
    },
    {
     "name": "stdout",
     "output_type": "stream",
     "text": [
      "Generator Error Metric is 0.1288180947303772\n",
      "Time for epoch 182 is 2.874128818511963 sec\n",
      "Epoch: 183\n",
      "Learning rate: 0.00036593166\n"
     ]
    },
    {
     "name": "stderr",
     "output_type": "stream",
     "text": [
      "100%|█████████████████████████████████████████| 101/101 [00:03<00:00, 32.20it/s]\n"
     ]
    },
    {
     "name": "stdout",
     "output_type": "stream",
     "text": [
      "Generator Error Metric is 0.1805310696363449\n",
      "Time for epoch 183 is 3.1389055252075195 sec\n",
      "Epoch: 184\n",
      "Learning rate: 0.00036391508\n"
     ]
    },
    {
     "name": "stderr",
     "output_type": "stream",
     "text": [
      "100%|█████████████████████████████████████████| 101/101 [00:03<00:00, 32.22it/s]\n"
     ]
    },
    {
     "name": "stdout",
     "output_type": "stream",
     "text": [
      "Generator Error Metric is 0.11851883679628372\n",
      "Time for epoch 184 is 3.136981964111328 sec\n",
      "Epoch: 185\n",
      "Learning rate: 0.00036190954\n"
     ]
    },
    {
     "name": "stderr",
     "output_type": "stream",
     "text": [
      "100%|█████████████████████████████████████████| 101/101 [00:03<00:00, 32.16it/s]\n"
     ]
    },
    {
     "name": "stdout",
     "output_type": "stream",
     "text": [
      "Generator Error Metric is 0.06654658168554306\n",
      "Time for epoch 185 is 7.968367099761963 sec\n",
      "Epoch: 186\n",
      "Learning rate: 0.00035991508\n"
     ]
    },
    {
     "name": "stderr",
     "output_type": "stream",
     "text": [
      "100%|█████████████████████████████████████████| 101/101 [00:03<00:00, 31.45it/s]\n"
     ]
    },
    {
     "name": "stdout",
     "output_type": "stream",
     "text": [
      "Generator Error Metric is 0.06101575493812561\n",
      "Time for epoch 186 is 3.2187600135803223 sec\n",
      "Epoch: 187\n",
      "Learning rate: 0.00035793163\n"
     ]
    },
    {
     "name": "stderr",
     "output_type": "stream",
     "text": [
      "100%|█████████████████████████████████████████| 101/101 [00:03<00:00, 31.71it/s]\n"
     ]
    },
    {
     "name": "stdout",
     "output_type": "stream",
     "text": [
      "Generator Error Metric is 0.05250455066561699\n",
      "Time for epoch 187 is 3.1871960163116455 sec\n",
      "Epoch: 188\n",
      "Learning rate: 0.00035595906\n"
     ]
    },
    {
     "name": "stderr",
     "output_type": "stream",
     "text": [
      "100%|█████████████████████████████████████████| 101/101 [00:03<00:00, 30.47it/s]\n"
     ]
    },
    {
     "name": "stdout",
     "output_type": "stream",
     "text": [
      "Generator Error Metric is 0.08063378185033798\n",
      "Time for epoch 188 is 3.3170955181121826 sec\n",
      "Epoch: 189\n",
      "Learning rate: 0.00035399737\n"
     ]
    },
    {
     "name": "stderr",
     "output_type": "stream",
     "text": [
      "100%|█████████████████████████████████████████| 101/101 [00:03<00:00, 31.38it/s]\n"
     ]
    },
    {
     "name": "stdout",
     "output_type": "stream",
     "text": [
      "Generator Error Metric is 0.10727126896381378\n",
      "Time for epoch 189 is 3.2206525802612305 sec\n",
      "Epoch: 190\n",
      "Learning rate: 0.0003520465\n"
     ]
    },
    {
     "name": "stderr",
     "output_type": "stream",
     "text": [
      "100%|█████████████████████████████████████████| 101/101 [00:03<00:00, 31.11it/s]\n"
     ]
    },
    {
     "name": "stdout",
     "output_type": "stream",
     "text": [
      "Generator Error Metric is 0.12225928157567978\n",
      "Time for epoch 190 is 8.068087339401245 sec\n",
      "Epoch: 191\n",
      "Learning rate: 0.0003501064\n"
     ]
    },
    {
     "name": "stderr",
     "output_type": "stream",
     "text": [
      "100%|█████████████████████████████████████████| 101/101 [00:03<00:00, 32.13it/s]\n"
     ]
    },
    {
     "name": "stdout",
     "output_type": "stream",
     "text": [
      "Generator Error Metric is 0.2014140635728836\n",
      "Time for epoch 191 is 3.1502716541290283 sec\n",
      "Epoch: 192\n",
      "Learning rate: 0.00034817695\n"
     ]
    },
    {
     "name": "stderr",
     "output_type": "stream",
     "text": [
      "100%|█████████████████████████████████████████| 101/101 [00:03<00:00, 32.23it/s]\n"
     ]
    },
    {
     "name": "stdout",
     "output_type": "stream",
     "text": [
      "Generator Error Metric is 0.20112846791744232\n",
      "Time for epoch 192 is 3.1353957653045654 sec\n",
      "Epoch: 193\n",
      "Learning rate: 0.00034625817\n"
     ]
    },
    {
     "name": "stderr",
     "output_type": "stream",
     "text": [
      "100%|█████████████████████████████████████████| 101/101 [00:03<00:00, 32.20it/s]\n"
     ]
    },
    {
     "name": "stdout",
     "output_type": "stream",
     "text": [
      "Generator Error Metric is 0.14927741885185242\n",
      "Time for epoch 193 is 3.1383612155914307 sec\n",
      "Epoch: 194\n",
      "Learning rate: 0.00034434994\n"
     ]
    },
    {
     "name": "stderr",
     "output_type": "stream",
     "text": [
      "100%|█████████████████████████████████████████| 101/101 [00:03<00:00, 32.25it/s]\n"
     ]
    },
    {
     "name": "stdout",
     "output_type": "stream",
     "text": [
      "Generator Error Metric is 0.11068287491798401\n",
      "Time for epoch 194 is 3.1341848373413086 sec\n",
      "Epoch: 195\n",
      "Learning rate: 0.0003424523\n"
     ]
    },
    {
     "name": "stderr",
     "output_type": "stream",
     "text": [
      "100%|█████████████████████████████████████████| 101/101 [00:03<00:00, 32.09it/s]\n"
     ]
    },
    {
     "name": "stdout",
     "output_type": "stream",
     "text": [
      "Generator Error Metric is 0.1639229953289032\n",
      "Time for epoch 195 is 7.944051742553711 sec\n",
      "Epoch: 196\n",
      "Learning rate: 0.00034056502\n"
     ]
    },
    {
     "name": "stderr",
     "output_type": "stream",
     "text": [
      "100%|█████████████████████████████████████████| 101/101 [00:02<00:00, 35.13it/s]\n"
     ]
    },
    {
     "name": "stdout",
     "output_type": "stream",
     "text": [
      "Generator Error Metric is 0.23201239109039307\n",
      "Time for epoch 196 is 2.8881242275238037 sec\n",
      "Epoch: 197\n",
      "Learning rate: 0.00033868817\n"
     ]
    },
    {
     "name": "stderr",
     "output_type": "stream",
     "text": [
      "100%|█████████████████████████████████████████| 101/101 [00:02<00:00, 35.33it/s]\n"
     ]
    },
    {
     "name": "stdout",
     "output_type": "stream",
     "text": [
      "Generator Error Metric is 0.16337041556835175\n",
      "Time for epoch 197 is 2.8688812255859375 sec\n",
      "Epoch: 198\n",
      "Learning rate: 0.00033682166\n"
     ]
    },
    {
     "name": "stderr",
     "output_type": "stream",
     "text": [
      "100%|█████████████████████████████████████████| 101/101 [00:02<00:00, 34.85it/s]\n"
     ]
    },
    {
     "name": "stdout",
     "output_type": "stream",
     "text": [
      "Generator Error Metric is 0.08367656916379929\n",
      "Time for epoch 198 is 2.908891439437866 sec\n",
      "Epoch: 199\n",
      "Learning rate: 0.00033496544\n"
     ]
    },
    {
     "name": "stderr",
     "output_type": "stream",
     "text": [
      "100%|█████████████████████████████████████████| 101/101 [00:02<00:00, 34.97it/s]\n"
     ]
    },
    {
     "name": "stdout",
     "output_type": "stream",
     "text": [
      "Generator Error Metric is 0.048540420830249786\n",
      "Time for epoch 199 is 2.8969523906707764 sec\n",
      "Epoch: 200\n",
      "Learning rate: 0.0003331195\n"
     ]
    },
    {
     "name": "stderr",
     "output_type": "stream",
     "text": [
      "100%|█████████████████████████████████████████| 101/101 [00:02<00:00, 34.87it/s]\n"
     ]
    },
    {
     "name": "stdout",
     "output_type": "stream",
     "text": [
      "Generator Error Metric is 0.05157669633626938\n",
      "Time for epoch 200 is 7.530460834503174 sec\n"
     ]
    }
   ],
   "source": [
    "# for s in range(7):\n",
    "\n",
    "#     print(\"Subject {}\".format(s+1))\n",
    "\n",
    "#     lr_patches = []\n",
    "#     hr_patches = []\n",
    "\n",
    "#     for (i, j, k) in sel_indices[np.where(sel_indices[:,0]==s),1:].squeeze():\n",
    "    \n",
    "    \n",
    "#         lr_patch = np.copy(subjects_lr[s][\n",
    "#                                 i - p_size_i - 1 : i + p_size_i,, vmax=2.0\n",
    "#                                 j - p_size_i - 1 : j + p_size_i,\n",
    "#                                 k - p_size_i - 1 : k + p_size_i, :])\n",
    "                           \n",
    "    \n",
    "#         hr_patch = np.copy(subjects_hr[s][\n",
    "#                                 i - p_size_o - e_or_o : i + p_size_o,\n",
    "#                                 j - p_size_o - e_or_o : j + p_size_o,\n",
    "#                                 k - p_size_o - e_or_o : k + p_size_o, :])\n",
    "                           \n",
    "#         ipatch_mask = subjects_masks[s][\n",
    "#                                 i - p_size_i - e_or_o : i + p_size_i,\n",
    "#                                 j - p_size_i - e_or_o : j + p_size_i,\n",
    "#                                 k - p_size_i - e_or_o : k + p_size_i]\n",
    "\n",
    "#         opatch_mask = subjects_masks[s][\n",
    "#                                 i - p_size_o - e_or_o : i + p_size_o,\n",
    "#                                 j - p_size_o - e_or_o : j + p_size_o,\n",
    "#                                 k - p_size_o - e_or_o : k + p_size_o]\n",
    "\n",
    "#         lr_patch[ipatch_mask == 0] = 0\n",
    "#         hr_patch[opatch_mask == 0] = 0\n",
    "\n",
    "#         lr_patches.append(lr_patch)\n",
    "#         hr_patches.append(hr_patch)\n",
    "\n",
    "#     lr_patches = np.array(lr_patches)\n",
    "#     hr_patches = np.array(hr_patches)\n",
    "\n",
    "#     # lr_patches = np.array([subjects_lr[s][\n",
    "#     #                             i - p_size_i - 1 : i + p_size_i,\n",
    "#     #                             j - p_size_i - 1 : j + p_size_i,\n",
    "#     #                             k - p_size_i - 1 : k + p_size_i, :]\n",
    "#     #                        for (i,j,k) in sel_indices[np.where(sel_indices[:,0]==s),1:].squeeze()])\n",
    "    \n",
    "#     # hr_patches = np.array([subjects_hr[s][\n",
    "#     #                             i - p_size_o - e_or_o : i + p_size_o,\n",
    "#     #                             j - p_size_o - e_or_o : j + p_size_o,\n",
    "#     #                             k - p_size_o - e_or_o : k + p_size_o, :]\n",
    "#     #                        for (i,j,k) in sel_indices[np.where(sel_indices[:,0]==s),1:].squeeze()])\n",
    "    \n",
    "# # lr_patches = np.array([subjects_lr[s][\n",
    "# #                             i - p_size_i - e_or_o : i + p_size_i,\n",
    "# #                             j - p_size_i - e_or_o : j + p_size_i,\n",
    "# #                             k - p_size_i - e_or_o : k + p_size_i, :]\n",
    "# #                        # for (i,j,k) in sel_indices[np.where(sel_indices[:,0]==s),1:].squeeze()])\n",
    "# #                        for (s,i,j,k) in sel_indices])\n",
    "\n",
    "# # hr_patches = np.array([subjects_hr[s][\n",
    "# #                             i - p_size_o - e_or_o : i + p_size_o,\n",
    "# #                             j - p_size_o - e_or_o : j + p_size_o,\n",
    "# #                             k - p_size_o - e_or_o : k + p_size_o, :]\n",
    "# #                        # for (i,j,k) in sel_indices[np.where(sel_indices[:,0]==s),1:].squeeze()])\n",
    "# #                        for (s,i,j,k) in sel_indices])\n",
    "\n",
    "#     dataset = tf.data.Dataset.from_tensor_slices((lr_patches, hr_patches))\n",
    "    \n",
    "train([sel_indices, subjects_lr, subjects_hr, subjects_masks], 200)"
   ]
  },
  {
   "cell_type": "code",
   "execution_count": 15,
   "metadata": {},
   "outputs": [
    {
     "name": "stdout",
     "output_type": "stream",
     "text": [
      "tf.Tensor([[0.34040603]], shape=(1, 1), dtype=float32)\n",
      "tf.Tensor([[0.778908]], shape=(1, 1), dtype=float32)\n"
     ]
    },
    {
     "data": {
      "text/plain": [
       "<matplotlib.image.AxesImage at 0x7fc3935d4bd0>"
      ]
     },
     "execution_count": 15,
     "metadata": {},
     "output_type": "execute_result"
    },
    {
     "data": {
      "image/png": "[encoded data removed]",
      "text/plain": [
       "<Figure size 640x480 with 1 Axes>"
      ]
     },
     "metadata": {},
     "output_type": "display_data"
    },
    {
     "data": {
      "image/png": "[encoded data removed]",
      "text/plain": [
       "<Figure size 640x480 with 1 Axes>"
      ]
     },
     "metadata": {},
     "output_type": "display_data"
    }
   ],
   "source": [
    "i = 60 \n",
    "j = 60\n",
    "k = 80\n",
    "\n",
    "channel = 0\n",
    "\n",
    "lr_patch = np.copy(subjects_lr[6][\n",
    "                        i - p_size_i - e_or_o : i + p_size_i,\n",
    "                        j - p_size_i - e_or_o : j + p_size_i,\n",
    "                        k - p_size_i - e_or_o : k + p_size_i, :])\n",
    "\n",
    "hr_patch = np.copy(subjects_hr[6][\n",
    "                        i - p_size_o - e_or_o : i + p_size_o,\n",
    "                        j - p_size_o - e_or_o : j + p_size_o,\n",
    "                        k - p_size_o - e_or_o : k + p_size_o, :])\n",
    "\n",
    "lr_mask = subjects_masks[6][\n",
    "                            i - p_size_i - e_or_o : i + p_size_i,\n",
    "                            j - p_size_i - e_or_o : j + p_size_i,\n",
    "                            k - p_size_i - e_or_o : k + p_size_i]\n",
    "\n",
    "lr_patch[lr_mask == 0] = 0\n",
    "\n",
    "generated_image = generator(lr_patch[None,...], training=False)\n",
    "\n",
    "print(discriminator(generated_image))\n",
    "\n",
    "print(discriminator(hr_patch[None,...]))\n",
    "\n",
    "plt.imshow(generated_image[0,:,:,3,channel],cmap='gray')\n",
    "plt.figure()\n",
    "plt.imshow(hr_patch[:,:,3,channel],cmap='gray')"
   ]
  },
  {
   "cell_type": "code",
   "execution_count": 16,
   "metadata": {},
   "outputs": [
    {
     "name": "stderr",
     "output_type": "stream",
     "text": [
      "100%|███████████████████████████████████████████| 61/61 [00:00<00:00, 66.78it/s]\n"
     ]
    }
   ],
   "source": [
    "# subjects_lr\n",
    "# subjects_hr\n",
    "# subjects_masks\n",
    "\n",
    "result_image = np.zeros(hires_output.shape)\n",
    "\n",
    "for (i, j, k) in tqdm(sel_indices[np.where(sel_indices[:,0]==6),1:].squeeze()):\n",
    "\n",
    "    lr_patch = np.copy(subjects_lr[6][\n",
    "                            i - p_size_i - e_or_o : i + p_size_i,\n",
    "                            j - p_size_i - e_or_o : j + p_size_i,\n",
    "                            k - p_size_i - e_or_o : k + p_size_i, :])\n",
    "\n",
    "    lr_mask = subjects_masks[6][\n",
    "                                i - p_size_i - e_or_o : i + p_size_i,\n",
    "                                j - p_size_i - e_or_o : j + p_size_i,\n",
    "                                k - p_size_i - e_or_o : k + p_size_i]\n",
    "\n",
    "    lr_patch[lr_mask == 0] = 0\n",
    "\n",
    "    generated_image = generator(lr_patch[None,...], training=False)\n",
    "\n",
    "    result_image[i - p_size_o - e_or_o : i + p_size_o,\n",
    "                 j - p_size_o - e_or_o : j + p_size_o,\n",
    "                 k - p_size_o - e_or_o : k + p_size_o, :] = generated_image\n",
    "\n",
    "result_image[subjects_masks[6] == 0] = 0\n",
    "    "
   ]
  },
  {
   "cell_type": "code",
   "execution_count": 17,
   "metadata": {},
   "outputs": [
    {
     "data": {
      "text/plain": [
       "<matplotlib.image.AxesImage at 0x7fc4dee11150>"
      ]
     },
     "execution_count": 17,
     "metadata": {},
     "output_type": "execute_result"
    },
    {
     "data": {
      "image/png": "[encoded data removed]",
      "text/plain": [
       "<Figure size 640x480 with 1 Axes>"
      ]
     },
     "metadata": {},
     "output_type": "display_data"
    },
    {
     "data": {
      "image/png": "[encoded data removed]",
      "text/plain": [
       "<Figure size 640x480 with 1 Axes>"
      ]
     },
     "metadata": {},
     "output_type": "display_data"
    },
    {
     "data": {
      "image/png": "[encoded data removed]",
      "text/plain": [
       "<Figure size 640x480 with 1 Axes>"
      ]
     },
     "metadata": {},
     "output_type": "display_data"
    }
   ],
   "source": [
    "zdim = 60\n",
    "channel = 3\n",
    "\n",
    "# plt.imshow(subjects_masks[6][:,:,zdim], cmap='gray')\n",
    "# plt.figure()\n",
    "plt.imshow(subjects_lr[6][:,:,zdim,channel], cmap='gray')\n",
    "plt.figure()\n",
    "plt.imshow(subjects_hr[6][:,:,zdim,channel], cmap='gray')\n",
    "plt.figure()\n",
    "plt.imshow(result_image[:,:,zdim,channel], cmap='gray')\n",
    "# plt.imshow((result_image[:,:,zdim,channel])*subjects_masks[6][:,:,zdim], cmap='gray')"
   ]
  },
  {
   "cell_type": "code",
   "execution_count": 18,
   "metadata": {},
   "outputs": [
    {
     "name": "stdout",
     "output_type": "stream",
     "text": [
      "0.13968277312584887 0.14297500385810397 5.369947542188669e-12\n"
     ]
    },
    {
     "data": {
      "image/png": "[encoded data removed]",
      "text/plain": [
       "<Figure size 640x480 with 1 Axes>"
      ]
     },
     "metadata": {},
     "output_type": "display_data"
    },
    {
     "data": {
      "image/png": "[encoded data removed]",
      "text/plain": [
       "<Figure size 640x480 with 1 Axes>"
      ]
     },
     "metadata": {},
     "output_type": "display_data"
    },
    {
     "data": {
      "image/png": "[encoded data removed]",
      "text/plain": [
       "<Figure size 640x480 with 1 Axes>"
      ]
     },
     "metadata": {},
     "output_type": "display_data"
    }
   ],
   "source": [
    "plt.imshow(subjects_lr[6][50:90,60:120,zdim,channel], cmap='gray')\n",
    "plt.figure()\n",
    "plt.imshow(subjects_hr[6][50:90,60:120,zdim,channel], cmap='gray')\n",
    "plt.figure()\n",
    "plt.imshow(result_image[50:90,60:120,zdim,channel], cmap='gray')\n",
    "\n",
    "print(np.min(subjects_lr[6][40:80,60:120,zdim,channel]), np.min(subjects_hr[6][40:80,60:120,zdim,channel]), np.min(result_image[40:80,60:120,zdim,channel]))"
   ]
  },
  {
   "cell_type": "code",
   "execution_count": 19,
   "metadata": {},
   "outputs": [],
   "source": [
    "# generator.save_weights('Model/gen_weights')\n",
    "# discriminator.save_weights('Model/disc_weights')"
   ]
  },
  {
   "cell_type": "code",
   "execution_count": 20,
   "metadata": {},
   "outputs": [
    {
     "name": "stdout",
     "output_type": "stream",
     "text": [
      "WARNING:tensorflow:Compiled the loaded model, but the compiled metrics have yet to be built. `model.compile_metrics` will be empty until you train or evaluate the model.\n",
      "INFO:tensorflow:Assets written to: Model/generator32x_dti_norm_unet/assets\n"
     ]
    },
    {
     "name": "stderr",
     "output_type": "stream",
     "text": [
      "INFO:tensorflow:Assets written to: Model/generator32x_dti_norm_unet/assets\n"
     ]
    },
    {
     "name": "stdout",
     "output_type": "stream",
     "text": [
      "WARNING:tensorflow:Compiled the loaded model, but the compiled metrics have yet to be built. `model.compile_metrics` will be empty until you train or evaluate the model.\n"
     ]
    },
    {
     "name": "stderr",
     "output_type": "stream",
     "text": [
      "WARNING:tensorflow:Compiled the loaded model, but the compiled metrics have yet to be built. `model.compile_metrics` will be empty until you train or evaluate the model.\n"
     ]
    },
    {
     "name": "stdout",
     "output_type": "stream",
     "text": [
      "INFO:tensorflow:Assets written to: Model/discriminator32x_dti_norm_unet/assets\n"
     ]
    },
    {
     "name": "stderr",
     "output_type": "stream",
     "text": [
      "INFO:tensorflow:Assets written to: Model/discriminator32x_dti_norm_unet/assets\n"
     ]
    }
   ],
   "source": [
    "generator.save('Model/generator{}x_dti_norm_unet'.format(2*p_size_o + e_or_o))\n",
    "discriminator.save('Model/discriminator{}x_dti_norm_unet'.format(2*p_size_o + e_or_o))"
   ]
  },
  {
   "cell_type": "code",
   "execution_count": null,
   "metadata": {},
   "outputs": [],
   "source": []
  }
 ],
 "metadata": {
  "kernelspec": {
   "display_name": "Python 3 (ipykernel)",
   "language": "python",
   "name": "python3"
  },
  "language_info": {
   "codemirror_mode": {
    "name": "ipython",
    "version": 3
   },
   "file_extension": ".py",
   "mimetype": "text/x-python",
   "name": "python",
   "nbconvert_exporter": "python",
   "pygments_lexer": "ipython3",
   "version": "3.11.4"
  }
 },
 "nbformat": 4,
 "nbformat_minor": 4
}
