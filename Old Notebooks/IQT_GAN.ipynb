{
 "cells": [
  {
   "cell_type": "code",
   "execution_count": 1,
   "metadata": {
    "ExecuteTime": {
     "end_time": "2023-08-05T13:44:49.616254700Z",
     "start_time": "2023-08-05T13:44:43.055344700Z"
    }
   },
   "outputs": [
    {
     "name": "stderr",
     "output_type": "stream",
     "text": [
      "2023-08-24 01:16:46.259662: I tensorflow/core/util/port.cc:110] oneDNN custom operations are on. You may see slightly different numerical results due to floating-point round-off errors from different computation orders. To turn them off, set the environment variable `TF_ENABLE_ONEDNN_OPTS=0`.\n",
      "2023-08-24 01:16:46.308525: I tensorflow/core/platform/cpu_feature_guard.cc:182] This TensorFlow binary is optimized to use available CPU instructions in performance-critical operations.\n",
      "To enable the following instructions: AVX2 AVX_VNNI FMA, in other operations, rebuild TensorFlow with the appropriate compiler flags.\n",
      "2023-08-24 01:16:47.608974: W tensorflow/compiler/tf2tensorrt/utils/py_utils.cc:38] TF-TRT Warning: Could not find TensorRT\n"
     ]
    }
   ],
   "source": [
    "import tensorflow as tf"
   ]
  },
  {
   "cell_type": "code",
   "execution_count": 2,
   "metadata": {
    "ExecuteTime": {
     "end_time": "2023-08-05T13:44:49.635699800Z",
     "start_time": "2023-08-05T13:44:49.617799900Z"
    },
    "collapsed": false,
    "jupyter": {
     "outputs_hidden": false
    }
   },
   "outputs": [
    {
     "data": {
      "text/plain": [
       "'2.13.0'"
      ]
     },
     "execution_count": 2,
     "metadata": {},
     "output_type": "execute_result"
    }
   ],
   "source": [
    "tf.__version__"
   ]
  },
  {
   "cell_type": "code",
   "execution_count": 3,
   "metadata": {
    "ExecuteTime": {
     "end_time": "2023-08-05T13:44:51.214287100Z",
     "start_time": "2023-08-05T13:44:49.620274400Z"
    },
    "collapsed": false,
    "jupyter": {
     "outputs_hidden": false
    }
   },
   "outputs": [],
   "source": [
    "import glob\n",
    "# import imageio\n",
    "import matplotlib.pyplot as plt\n",
    "import numpy as np\n",
    "import os\n",
    "import PIL\n",
    "# from tensorflow.python.keras import layers\n",
    "from tensorflow.keras import layers, activations\n",
    "import time\n",
    "import nibabel as nib\n",
    "from tqdm import tqdm\n",
    "import gc\n",
    "from scipy.ndimage import binary_erosion\n",
    "from IPython import display\n",
    "import datetime\n",
    "\n",
    "import model"
   ]
  },
  {
   "cell_type": "code",
   "execution_count": 4,
   "metadata": {},
   "outputs": [
    {
     "name": "stdout",
     "output_type": "stream",
     "text": [
      "['390645', '545345', '106016', '120111', '101915', '351938', '705341']\n"
     ]
    }
   ],
   "source": [
    "subjects = [ f.name for f in os.scandir('./Data') if f.is_dir() and f.name != '.ipynb_checkpoints']\n",
    "\n",
    "# subjects = ['390645', '120111']\n",
    "\n",
    "e_or_o = 1\n",
    "\n",
    "p_size_i = 7\n",
    "p_size_o = 4\n",
    "\n",
    "print(subjects)"
   ]
  },
  {
   "cell_type": "code",
   "execution_count": 5,
   "metadata": {
    "ExecuteTime": {
     "end_time": "2023-08-05T15:25:06.718078900Z",
     "start_time": "2023-08-05T15:25:06.534741600Z"
    },
    "collapsed": false,
    "jupyter": {
     "outputs_hidden": false
    }
   },
   "outputs": [
    {
     "name": "stdout",
     "output_type": "stream",
     "text": [
      "(None, 9, 9, 9, 22)\n",
      "(None, 1)\n"
     ]
    },
    {
     "name": "stderr",
     "output_type": "stream",
     "text": [
      "2023-08-24 01:16:50.073957: I tensorflow/compiler/xla/stream_executor/cuda/cuda_gpu_executor.cc:995] successful NUMA node read from SysFS had negative value (-1), but there must be at least one NUMA node, so returning NUMA node zero. See more at https://github.com/torvalds/linux/blob/v6.0/Documentation/ABI/testing/sysfs-bus-pci#L344-L355\n",
      "2023-08-24 01:16:50.094492: I tensorflow/compiler/xla/stream_executor/cuda/cuda_gpu_executor.cc:995] successful NUMA node read from SysFS had negative value (-1), but there must be at least one NUMA node, so returning NUMA node zero. See more at https://github.com/torvalds/linux/blob/v6.0/Documentation/ABI/testing/sysfs-bus-pci#L344-L355\n",
      "2023-08-24 01:16:50.094619: I tensorflow/compiler/xla/stream_executor/cuda/cuda_gpu_executor.cc:995] successful NUMA node read from SysFS had negative value (-1), but there must be at least one NUMA node, so returning NUMA node zero. See more at https://github.com/torvalds/linux/blob/v6.0/Documentation/ABI/testing/sysfs-bus-pci#L344-L355\n",
      "2023-08-24 01:16:50.096080: I tensorflow/compiler/xla/stream_executor/cuda/cuda_gpu_executor.cc:995] successful NUMA node read from SysFS had negative value (-1), but there must be at least one NUMA node, so returning NUMA node zero. See more at https://github.com/torvalds/linux/blob/v6.0/Documentation/ABI/testing/sysfs-bus-pci#L344-L355\n",
      "2023-08-24 01:16:50.096185: I tensorflow/compiler/xla/stream_executor/cuda/cuda_gpu_executor.cc:995] successful NUMA node read from SysFS had negative value (-1), but there must be at least one NUMA node, so returning NUMA node zero. See more at https://github.com/torvalds/linux/blob/v6.0/Documentation/ABI/testing/sysfs-bus-pci#L344-L355\n",
      "2023-08-24 01:16:50.096276: I tensorflow/compiler/xla/stream_executor/cuda/cuda_gpu_executor.cc:995] successful NUMA node read from SysFS had negative value (-1), but there must be at least one NUMA node, so returning NUMA node zero. See more at https://github.com/torvalds/linux/blob/v6.0/Documentation/ABI/testing/sysfs-bus-pci#L344-L355\n",
      "2023-08-24 01:16:50.430003: I tensorflow/compiler/xla/stream_executor/cuda/cuda_gpu_executor.cc:995] successful NUMA node read from SysFS had negative value (-1), but there must be at least one NUMA node, so returning NUMA node zero. See more at https://github.com/torvalds/linux/blob/v6.0/Documentation/ABI/testing/sysfs-bus-pci#L344-L355\n",
      "2023-08-24 01:16:50.430174: I tensorflow/compiler/xla/stream_executor/cuda/cuda_gpu_executor.cc:995] successful NUMA node read from SysFS had negative value (-1), but there must be at least one NUMA node, so returning NUMA node zero. See more at https://github.com/torvalds/linux/blob/v6.0/Documentation/ABI/testing/sysfs-bus-pci#L344-L355\n",
      "2023-08-24 01:16:50.430231: I tensorflow/compiler/xla/stream_executor/cuda/cuda_gpu_executor.cc:995] successful NUMA node read from SysFS had negative value (-1), but there must be at least one NUMA node, so returning NUMA node zero. See more at https://github.com/torvalds/linux/blob/v6.0/Documentation/ABI/testing/sysfs-bus-pci#L344-L355\n",
      "2023-08-24 01:16:50.430285: I tensorflow/core/common_runtime/gpu/gpu_device.cc:1639] Created device /job:localhost/replica:0/task:0/device:GPU:0 with 21876 MB memory:  -> device: 0, name: NVIDIA GeForce RTX 3090 Ti, pci bus id: 0000:01:00.0, compute capability: 8.6\n"
     ]
    }
   ],
   "source": [
    "# input_layer = tf.keras.Input(shape=(32, 32, 32, 36))\n",
    "# output_layer = model.unet3d(input_layer, 36)\n",
    "\n",
    "# generator = tf.keras.Model(input_layer, output_layer)\n",
    "generator = model.simple_generator(30,22,2*p_size_i+e_or_o)\n",
    "discriminator = model.simple_discriminator(22,2*p_size_o+e_or_o, layer_num=3)"
   ]
  },
  {
   "cell_type": "code",
   "execution_count": 6,
   "metadata": {},
   "outputs": [
    {
     "name": "stdout",
     "output_type": "stream",
     "text": [
      "Model: \"sequential\"\n",
      "_________________________________________________________________\n",
      " Layer (type)                Output Shape              Param #   \n",
      "=================================================================\n",
      " conv3d (Conv3D)             (None, 13, 13, 13, 50)    40550     \n",
      "                                                                 \n",
      " batch_normalization (Batch  (None, 13, 13, 13, 50)    200       \n",
      " Normalization)                                                  \n",
      "                                                                 \n",
      " re_lu (ReLU)                (None, 13, 13, 13, 50)    0         \n",
      "                                                                 \n",
      " conv3d_1 (Conv3D)           (None, 13, 13, 13, 100)   5100      \n",
      "                                                                 \n",
      " batch_normalization_1 (Bat  (None, 13, 13, 13, 100)   400       \n",
      " chNormalization)                                                \n",
      "                                                                 \n",
      " re_lu_1 (ReLU)              (None, 13, 13, 13, 100)   0         \n",
      "                                                                 \n",
      " conv3d_2 (Conv3D)           (None, 11, 11, 11, 100)   270100    \n",
      "                                                                 \n",
      " batch_normalization_2 (Bat  (None, 11, 11, 11, 100)   400       \n",
      " chNormalization)                                                \n",
      "                                                                 \n",
      " re_lu_2 (ReLU)              (None, 11, 11, 11, 100)   0         \n",
      "                                                                 \n",
      " conv3d_3 (Conv3D)           (None, 9, 9, 9, 22)       59422     \n",
      "                                                                 \n",
      "=================================================================\n",
      "Total params: 376172 (1.43 MB)\n",
      "Trainable params: 375672 (1.43 MB)\n",
      "Non-trainable params: 500 (1.95 KB)\n",
      "_________________________________________________________________\n",
      "None\n",
      "Model: \"sequential_1\"\n",
      "_________________________________________________________________\n",
      " Layer (type)                Output Shape              Param #   \n",
      "=================================================================\n",
      " conv3d_4 (Conv3D)           (None, 7, 7, 7, 50)       29750     \n",
      "                                                                 \n",
      " batch_normalization_3 (Bat  (None, 7, 7, 7, 50)       200       \n",
      " chNormalization)                                                \n",
      "                                                                 \n",
      " leaky_re_lu (LeakyReLU)     (None, 7, 7, 7, 50)       0         \n",
      "                                                                 \n",
      " conv3d_5 (Conv3D)           (None, 7, 7, 7, 800)      1080800   \n",
      "                                                                 \n",
      " batch_normalization_4 (Bat  (None, 7, 7, 7, 800)      3200      \n",
      " chNormalization)                                                \n",
      "                                                                 \n",
      " leaky_re_lu_1 (LeakyReLU)   (None, 7, 7, 7, 800)      0         \n",
      "                                                                 \n",
      " conv3d_6 (Conv3D)           (None, 7, 7, 7, 800)      17280800  \n",
      "                                                                 \n",
      " batch_normalization_5 (Bat  (None, 7, 7, 7, 800)      3200      \n",
      " chNormalization)                                                \n",
      "                                                                 \n",
      " leaky_re_lu_2 (LeakyReLU)   (None, 7, 7, 7, 800)      0         \n",
      "                                                                 \n",
      " conv3d_7 (Conv3D)           (None, 7, 7, 7, 800)      17280800  \n",
      "                                                                 \n",
      " batch_normalization_6 (Bat  (None, 7, 7, 7, 800)      3200      \n",
      " chNormalization)                                                \n",
      "                                                                 \n",
      " leaky_re_lu_3 (LeakyReLU)   (None, 7, 7, 7, 800)      0         \n",
      "                                                                 \n",
      " conv3d_8 (Conv3D)           (None, 5, 5, 5, 1)        21601     \n",
      "                                                                 \n",
      " batch_normalization_7 (Bat  (None, 5, 5, 5, 1)        4         \n",
      " chNormalization)                                                \n",
      "                                                                 \n",
      " leaky_re_lu_4 (LeakyReLU)   (None, 5, 5, 5, 1)        0         \n",
      "                                                                 \n",
      " flatten (Flatten)           (None, 125)               0         \n",
      "                                                                 \n",
      " dense (Dense)               (None, 1)                 126       \n",
      "                                                                 \n",
      "=================================================================\n",
      "Total params: 35703681 (136.20 MB)\n",
      "Trainable params: 35698779 (136.18 MB)\n",
      "Non-trainable params: 4902 (19.15 KB)\n",
      "_________________________________________________________________\n",
      "None\n"
     ]
    }
   ],
   "source": [
    "print(generator.summary())\n",
    "print(discriminator.summary())"
   ]
  },
  {
   "cell_type": "code",
   "execution_count": 7,
   "metadata": {
    "ExecuteTime": {
     "end_time": "2023-08-05T14:00:04.659577500Z",
     "start_time": "2023-08-05T14:00:01.079241200Z"
    }
   },
   "outputs": [
    {
     "name": "stdout",
     "output_type": "stream",
     "text": [
      "Loading Subject 390645\n",
      "Loading Subject 545345\n",
      "Loading Subject 106016\n",
      "Loading Subject 120111\n",
      "Loading Subject 101915\n",
      "Loading Subject 351938\n",
      "Loading Subject 705341\n"
     ]
    }
   ],
   "source": [
    "subjects_lr = []\n",
    "subjects_hr = []\n",
    "subjects_masks = []\n",
    "\n",
    "subjects_preproc_values_lr = []\n",
    "subjects_preproc_values_hr = []\n",
    "\n",
    "subjects_t1_preproc_values = []\n",
    "\n",
    "for subj in subjects:\n",
    "\n",
    "    h4_imgs = []\n",
    "    h4_imgs_lr = []\n",
    "    dti_imgs = []\n",
    "    dti_imgs_lr = []\n",
    "\n",
    "    # DTI normalisation metrics pre-normalisation (storing max and min values in the mask) - Store for HR only\n",
    "    dti_preprocs_hr = np.zeros((6,2))\n",
    "    dti_preprocs_lr = np.zeros((6,2))\n",
    "\n",
    "    print(\"Loading Subject {}\".format(subj))\n",
    "    \n",
    "    for i in range(1,9):\n",
    "    \n",
    "        dti_data = np.array(nib.load(\"Data/{}/T1w/Diffusion/dt_all_{}.nii\".format(subj,i)).get_fdata())\n",
    "        dti_data_lr = np.array(nib.load(\"Data/{}/T1w/Diffusion/dt_all_lowres_2_{}.nii\".format(subj,i)).get_fdata())\n",
    "    \n",
    "        # if i > 1:\n",
    "        #     dti_data[dti_imgs[0] < 0] = 0\n",
    "        #     dti_data_lr[dti_imgs[0] < 0] = 0\n",
    "    \n",
    "        dti_imgs.append(dti_data)\n",
    "        dti_imgs_lr.append(dti_data_lr)\n",
    "    \n",
    "        dti_data = None\n",
    "        dti_data_lr = None\n",
    "    \n",
    "    for i in range(1,25):\n",
    "    \n",
    "        h4_data = np.array(nib.load(\"Data/{}/T1w/Diffusion/h4_all_{}.nii\".format(subj,str(i).zfill(2))).get_fdata())\n",
    "        h4_data_lr = np.array(nib.load(\"Data/{}/T1w/Diffusion/h4_all_lowres_2_{}.nii\".format(subj,str(i).zfill(2))).get_fdata())\n",
    "    \n",
    "        # if i > 1:\n",
    "        #     h4_data[h4_data[0] < 0] = 0\n",
    "        #     h4_data_lr[h4_data[0] < 0] = 0\n",
    "        \n",
    "        h4_imgs.append(h4_data)\n",
    "        h4_imgs_lr.append(h4_data_lr)\n",
    "    \n",
    "        h4_data = None\n",
    "        h4_data_lr = None\n",
    "    \n",
    "    h4_imgs = np.array(h4_imgs).transpose((1,2,3,0))\n",
    "    h4_imgs_lr = np.array(h4_imgs_lr).transpose((1,2,3,0))\n",
    "    \n",
    "    dti_imgs = np.array(dti_imgs).transpose((1,2,3,0))\n",
    "    dti_imgs_lr = np.array(dti_imgs_lr).transpose((1,2,3,0))\n",
    "    \n",
    "    mask = h4_imgs[...,0]\n",
    "\n",
    "    binmask = np.zeros(mask.shape)\n",
    "\n",
    "    binmask[mask >= 0] = 1\n",
    "\n",
    "    mask = binary_erosion(binmask, structure=np.ones((5,5,5),np.uint8),iterations = 1)\n",
    "\n",
    "    binmask = None\n",
    "\n",
    "    # Calculate DTI ranges and normalise to range [0,1]\n",
    "    for i in range(2,8):\n",
    "\n",
    "        dti_preprocs_lr[i-2,:] = np.array([np.min(mask*dti_imgs_lr[...,i]), np.max(mask*dti_imgs_lr[...,i])])\n",
    "        dti_imgs_lr[mask>0, i] = (dti_imgs_lr[mask>0, i] - dti_preprocs_lr[i-2,0] + 0.0001) / (dti_preprocs_lr[i-2,1] - dti_preprocs_lr[i-2,0])\n",
    "        dti_imgs_lr[mask==0, i] = 0\n",
    "\n",
    "        dti_preprocs_hr[i-2,:] = np.array([np.min(mask*dti_imgs[...,i]), np.max(mask*dti_imgs[...,i])])\n",
    "        dti_imgs[mask>0, i] = (dti_imgs[mask>0, i] - dti_preprocs_hr[i-2,0] + 0.0001) / (dti_preprocs_hr[i-2,1] - dti_preprocs_hr[i-2,0])\n",
    "        dti_imgs[mask==0, i] = 0\n",
    "\n",
    "\n",
    "    t1w = nib.load(\"Data/{}/T1w/Diffusion/t1w.nii\".format(subj))\n",
    "    \n",
    "    t1w_data = np.array(t1w.get_fdata())\n",
    "    \n",
    "    t1w_data_format = np.concatenate(\n",
    "        (t1w_data[::2,::2,::2, None], t1w_data[::2,::2,1::2, None],\n",
    "         t1w_data[::2,1::2,::2, None], t1w_data[::2,1::2,1::2, None],\n",
    "         t1w_data[1::2,::2,::2, None], t1w_data[1::2,::2,1::2, None],\n",
    "         t1w_data[1::2,1::2,::2, None], t1w_data[1::2,1::2,1::2, None]),\n",
    "        axis=-1)\n",
    "\n",
    "    t1w_preprocs = np.array([np.min(t1w_data_format*mask[...,None]), np.max(t1w_data_format*mask[...,None])])\n",
    "    \n",
    "    subjects_t1_preproc_values.append(t1w_preprocs)    \n",
    "    t1w_data_format[mask>0, :] = (t1w_data_format[mask>0, :] - t1w_preprocs[0] + 0.0001) / (t1w_preprocs[1] - t1w_preprocs[0])\n",
    "\n",
    "    subjects_preproc_values_lr.append(dti_preprocs_lr)\n",
    "    subjects_preproc_values_hr.append(dti_preprocs_hr)\n",
    "\n",
    "    # lowres_input = np.concatenate((dti_imgs_lr[...,2:], t1w_data_format), axis=-1)\n",
    "    # hires_output = np.copy(dti_imgs[...,2:])\n",
    "    \n",
    "    lowres_input = np.concatenate((h4_imgs_lr[...,2:], t1w_data_format), axis=-1)\n",
    "    hires_output = np.copy(h4_imgs[...,2:])\n",
    "\n",
    "    subjects_lr.append(lowres_input)\n",
    "    subjects_hr.append(hires_output)\n",
    "    subjects_masks.append(mask)\n"
   ]
  },
  {
   "cell_type": "code",
   "execution_count": 8,
   "metadata": {
    "ExecuteTime": {
     "end_time": "2023-08-05T14:18:21.291398100Z",
     "start_time": "2023-08-05T14:18:21.254969700Z"
    },
    "collapsed": false,
    "jupyter": {
     "outputs_hidden": false
    }
   },
   "outputs": [],
   "source": [
    "# cross_entropy = tf.keras.losses.BinaryCrossentropy(from_logits=True)\n",
    "\n",
    "# cross_entropy_gen = tf.keras.losses.BinaryCrossentropy()\n",
    "# cross_entropy_disc = tf.keras.losses.BinaryCrossentropy()\n",
    "\n",
    "# def discriminator_loss(real_output, fake_output):\n",
    "#     real_loss = tf.reduce_mean(cross_entropy_gen(tf.ones_like(real_output), real_output))\n",
    "#     fake_loss = tf.reduce_mean(cross_entropy_gen(tf.zeros_like(fake_output), fake_output))\n",
    "#     total_loss = real_loss + fake_loss\n",
    "#     return total_loss\n",
    "\n",
    "# def generator_loss(fake_output):\n",
    "#     return tf.reduce_mean(cross_entropy_gen(tf.ones_like(fake_output), fake_output))\n",
    "\n",
    "loss_object = tf.keras.losses.BinaryCrossentropy(from_logits=True)\n",
    "\n",
    "def discriminator_loss(disc_real_output, disc_generated_output):\n",
    "  real_loss = loss_object(tf.ones_like(disc_real_output), disc_real_output)\n",
    "\n",
    "  generated_loss = loss_object(tf.zeros_like(disc_generated_output), disc_generated_output)\n",
    "\n",
    "  total_disc_loss = real_loss + generated_loss\n",
    "\n",
    "  return total_disc_loss\n",
    "\n",
    "LAMBDA = 10\n",
    "\n",
    "def generator_loss(disc_generated_output, gen_output, target):\n",
    "  # gan_loss = loss_object(tf.ones_like(disc_generated_output), disc_generated_output)\n",
    "\n",
    "  gan_loss = tf.reduce_mean(loss_object(tf.ones_like(disc_generated_output), disc_generated_output))\n",
    "\n",
    "  # Mean squared error\n",
    "  l2_loss = tf.reduce_mean(tf.square(target - gen_output))\n",
    "\n",
    "  total_gen_loss = gan_loss + (LAMBDA * l2_loss)\n",
    "\n",
    "  return total_gen_loss, gan_loss, l2_loss"
   ]
  },
  {
   "cell_type": "code",
   "execution_count": 9,
   "metadata": {
    "ExecuteTime": {
     "end_time": "2023-08-05T14:18:25.658937200Z",
     "start_time": "2023-08-05T14:18:25.629596Z"
    },
    "collapsed": false,
    "jupyter": {
     "outputs_hidden": false
    }
   },
   "outputs": [],
   "source": [
    "lr_schedule = tf.keras.optimizers.schedules.ExponentialDecay(\n",
    "    initial_learning_rate=1e-3,\n",
    "    decay_steps=50*2000,\n",
    "    decay_rate=0.1\n",
    ")\n",
    "\n",
    "generator_optimizer = tf.keras.optimizers.Adam(lr_schedule)\n",
    "discriminator_optimizer = tf.keras.optimizers.Adam(lr_schedule)"
   ]
  },
  {
   "cell_type": "code",
   "execution_count": 10,
   "metadata": {
    "ExecuteTime": {
     "end_time": "2023-08-05T14:18:26.774030800Z",
     "start_time": "2023-08-05T14:18:26.725560700Z"
    },
    "collapsed": false,
    "jupyter": {
     "outputs_hidden": false
    }
   },
   "outputs": [],
   "source": [
    "checkpoint_dir = './training_checkpoints'\n",
    "checkpoint_prefix = os.path.join(checkpoint_dir, \"ckpt\")\n",
    "checkpoint = tf.train.Checkpoint(generator_optimizer=generator_optimizer,\n",
    "                                 discriminator_optimizer=discriminator_optimizer,\n",
    "                                 generator=generator,\n",
    "                                 discriminator=discriminator)\n",
    "\n",
    "# log_dir = \"logs/fit/\" + datetime.datetime.now().strftime(\"%Y%m%d-%H%M%S\")\n",
    "# tensorboard_callback = tf.keras.callbacks.TensorBoard(log_dir=log_dir, histogram_freq=1)\n",
    "\n",
    "gen_loss_metric = tf.keras.metrics.Mean('gen_loss', dtype=tf.float32)\n",
    "# gen_accuracy_metric = tf.keras.metrics.SparseCategoricalAccuracy('gen_accuracy')\n",
    "\n",
    "disc_loss_metric = tf.keras.metrics.Mean('disc_loss', dtype=tf.float32)\n",
    "\n",
    "current_time = datetime.datetime.now().strftime(\"%Y%m%d-%H%M%S\")\n",
    "log_dir = './logs/ganlogslambda{}/'.format(LAMBDA) + current_time + '/train'\n",
    "summary_writer = tf.summary.create_file_writer(log_dir)"
   ]
  },
  {
   "cell_type": "code",
   "execution_count": 11,
   "metadata": {
    "ExecuteTime": {
     "end_time": "2023-08-05T14:31:31.474922300Z",
     "start_time": "2023-08-05T14:31:31.453950800Z"
    },
    "collapsed": false,
    "jupyter": {
     "outputs_hidden": false
    }
   },
   "outputs": [],
   "source": [
    "@tf.function\n",
    "def train_step(lr_patch, hr_patch):\n",
    "  with tf.GradientTape() as gen_tape, tf.GradientTape() as disc_tape:\n",
    "    generated_images = generator(lr_patch, training=True)\n",
    "    \n",
    "    real_output = discriminator(hr_patch, training=True)\n",
    "    fake_output = discriminator(generated_images, training=True)\n",
    "\n",
    "    gen_total_loss, gen_gan_loss, gen_l1_loss = generator_loss(fake_output, generated_images, hr_patch)\n",
    "    disc_loss = discriminator_loss(real_output, fake_output)\n",
    "\n",
    "  generator_gradients = gen_tape.gradient(gen_total_loss,\n",
    "                                          generator.trainable_variables)\n",
    "  discriminator_gradients = disc_tape.gradient(disc_loss,\n",
    "                                               discriminator.trainable_variables)\n",
    "\n",
    "  generator_optimizer.apply_gradients(zip(generator_gradients,\n",
    "                                          generator.trainable_variables))\n",
    "  discriminator_optimizer.apply_gradients(zip(discriminator_gradients,\n",
    "                                              discriminator.trainable_variables))\n",
    "\n",
    "  # with summary_writer.as_default():\n",
    "  #   tf.summary.scalar('gen_total_loss', gen_total_loss, step=step)\n",
    "  #   tf.summary.scalar('gen_gan_loss', gen_gan_loss, step=step)\n",
    "  #   tf.summary.scalar('gen_l1_loss', gen_l1_loss, step=step)\n",
    "  #   tf.summary.scalar('disc_loss', disc_loss, step=step)\n",
    "\n",
    "  return gen_total_loss, gen_gan_loss, gen_l1_loss, disc_loss\n",
    "\n",
    "# @tf.function\n",
    "# def train_step(lr_patch, hr_patch):\n",
    "\n",
    "#     with tf.GradientTape() as gen_tape, tf.GradientTape() as disc_tape:\n",
    "#       generated_images = generator(lr_patch, training=True)\n",
    "\n",
    "#       real_output = discriminator(hr_patch, training=True)\n",
    "#       fake_output = discriminator(generated_images, training=True)\n",
    "\n",
    "#       gen_loss = generator_loss(fake_output)\n",
    "#       disc_loss = discriminator_loss(real_output, fake_output)\n",
    "\n",
    "#     gen_loss_metric(gen_loss)\n",
    "#     # gen_accuracy_metric(hr_patch, generated_images)\n",
    "\n",
    "#     disc_loss_metric(disc_loss)\n",
    "\n",
    "#     gradients_of_generator = gen_tape.gradient(gen_loss, generator.trainable_variables)\n",
    "#     gradients_of_discriminator = disc_tape.gradient(disc_loss, discriminator.trainable_variables)\n",
    "\n",
    "#     generator_optimizer.apply_gradients(zip(gradients_of_generator, generator.trainable_variables))\n",
    "#     discriminator_optimizer.apply_gradients(zip(gradients_of_discriminator, discriminator.trainable_variables))\n",
    "\n",
    "#     return gen_loss, disc_loss\n",
    "    \n",
    "# @tf.function\n",
    "# def train_step_gen(lr_patch, hr_patch):\n",
    "\n",
    "#     with tf.GradientTape() as gen_tape, tf.GradientTape() as disc_tape:\n",
    "\n",
    "#         generated_images = generator(lr_patch, training=True)\n",
    "\n",
    "#         real_output = discriminator(hr_patch, training=False)\n",
    "#         fake_output = discriminator(generated_images, training=False)\n",
    "\n",
    "#         gen_loss = generator_loss(fake_output)\n",
    "#         disc_loss = discriminator_loss(real_output, fake_output)\n",
    "\n",
    "#     gen_loss_metric(gen_loss)\n",
    "#     # gen_accuracy_metric(hr_patch, generated_images)\n",
    "\n",
    "#     disc_loss_metric(disc_loss)\n",
    "    \n",
    "#     gradients_of_generator = gen_tape.gradient(gen_loss, generator.trainable_variables)\n",
    "    \n",
    "#     generator_optimizer.apply_gradients(zip(gradients_of_generator, generator.trainable_variables))\n",
    "    \n",
    "#     return gen_loss, disc_loss\n",
    "\n",
    "# @tf.function\n",
    "# def train_step_disc(lr_patch, hr_patch):\n",
    "\n",
    "#     with tf.GradientTape() as gen_tape, tf.GradientTape() as disc_tape:\n",
    "\n",
    "#         generated_images = generator(lr_patch, training=False)\n",
    "\n",
    "#         real_output = discriminator(hr_patch, training=True)\n",
    "#         fake_output = discriminator(generated_images, training=True)\n",
    "\n",
    "#         gen_loss = generator_loss(fake_output)\n",
    "#         disc_loss = discriminator_loss(real_output, fake_output)\n",
    "\n",
    "#     gen_loss_metric(gen_loss)\n",
    "#     # gen_accuracy_metric(hr_patch, generated_images)\n",
    "\n",
    "#     disc_loss_metric(disc_loss)\n",
    "\n",
    "#     gradients_of_discriminator = disc_tape.gradient(disc_loss, discriminator.trainable_variables)\n",
    "#     discriminator_optimizer.apply_gradients(zip(gradients_of_discriminator, discriminator.trainable_variables))\n",
    "\n",
    "#     return gen_loss, disc_loss"
   ]
  },
  {
   "cell_type": "code",
   "execution_count": 12,
   "metadata": {
    "ExecuteTime": {
     "end_time": "2023-08-05T15:37:15.289028100Z",
     "start_time": "2023-08-05T15:37:15.270842400Z"
    },
    "collapsed": false,
    "jupyter": {
     "outputs_hidden": false
    }
   },
   "outputs": [],
   "source": [
    "def train(data, epochs):\n",
    "\n",
    "  gen_train_mode = False\n",
    "\n",
    "  best_cost = np.Inf\n",
    "\n",
    "  step_count = data[0].shape[0]//4\n",
    "    \n",
    "  for epoch in range(epochs):\n",
    "\n",
    "    if (((epoch+1) % 2) == 0):\n",
    "        gen_train_mode = not gen_train_mode\n",
    "      \n",
    "    start = time.time()\n",
    "\n",
    "    print(\"Epoch: {}\".format(epoch+1))\n",
    "\n",
    "    print(\"Learning rate:\", generator_optimizer.learning_rate.numpy())\n",
    "\n",
    "    total_cost = 0.0\n",
    "\n",
    "    # [sel_indices, subjects_lr, subjects_hr, subjects_masks]\n",
    "\n",
    "    randsels = np.random.choice(data[0].shape[0], step_count)\n",
    "\n",
    "    lr_patches = []\n",
    "    hr_patches = []\n",
    "\n",
    "    for prog, index in enumerate(tqdm(randsels)):\n",
    "\n",
    "        if (prog+1) % 8 != 0 or prog == (len(randsels) - 1):\n",
    "\n",
    "            (s, i, j, k) = data[0][index]\n",
    "        \n",
    "            lr_patch = np.copy(data[1][s][\n",
    "                                    i - p_size_i - e_or_o : i + p_size_i,\n",
    "                                    j - p_size_i - e_or_o : j + p_size_i,\n",
    "                                    k - p_size_i - e_or_o : k + p_size_i, :]) * \\\n",
    "            np.copy(data[3][s][\n",
    "                                    i - p_size_i - e_or_o : i + p_size_i,\n",
    "                                    j - p_size_i - e_or_o : j + p_size_i,\n",
    "                                    k - p_size_i - e_or_o : k + p_size_i, None])\n",
    "                               \n",
    "        \n",
    "            hr_patch = np.copy(data[2][s][\n",
    "                                    i - p_size_o - e_or_o : i + p_size_o,\n",
    "                                    j - p_size_o - e_or_o : j + p_size_o,\n",
    "                                    k - p_size_o - e_or_o : k + p_size_o, :]) * \\\n",
    "            np.copy(data[3][s][\n",
    "                                    i - p_size_o - e_or_o : i + p_size_o,\n",
    "                                    j - p_size_o - e_or_o : j + p_size_o,\n",
    "                                    k - p_size_o - e_or_o : k + p_size_o, None])\n",
    "\n",
    "            lr_patches.append(lr_patch)\n",
    "            hr_patches.append(hr_patch)\n",
    "            \n",
    "            continue\n",
    "        \n",
    "        else:\n",
    "            lr_patches = tf.convert_to_tensor(np.array(lr_patches), dtype=tf.float32)\n",
    "            hr_patches = tf.convert_to_tensor(np.array(hr_patches), dtype=tf.float32)\n",
    "    \n",
    "            gen_total_loss, gen_gan_loss, gen_l1_loss, disc_loss = train_step(lr_patches, hr_patches)\n",
    "    \n",
    "            total_cost = total_cost + gen_l1_loss\n",
    "    \n",
    "            # if gen_train_mode:\n",
    "            #     g_loss, d_loss = train_step_gen(lr_patches, hr_patches)\n",
    "            # else:\n",
    "            #     g_loss, d_loss = train_step_disc(lr_patches, hr_patches)\n",
    "    \n",
    "            with summary_writer.as_default():\n",
    "                tf.summary.scalar('gen_total_loss', gen_total_loss, step=(step_count*epoch+prog)//2000)\n",
    "                tf.summary.scalar('gen_gan_loss', gen_gan_loss, step=(step_count*epoch+prog)//2000)\n",
    "                tf.summary.scalar('gen_l1_loss', gen_l1_loss, step=(step_count*epoch+prog)//2000)\n",
    "                tf.summary.scalar('disc_loss', disc_loss, step=(step_count*epoch+prog)//2000)\n",
    "            \n",
    "            # mean_g_loss = mean_g_loss + g_loss\n",
    "            # mean_d_loss = mean_d_loss + d_loss\n",
    "    \n",
    "            # y_preds = generator(lr_patches, training=False)\n",
    "    \n",
    "            # total_cost = total_cost + tf.reduce_mean(tf.square(hr_patches - y_preds))\n",
    "    \n",
    "            lr_patches = []\n",
    "            hr_patches = []\n",
    "      \n",
    "    # Save the model every 5 epochs\n",
    "    if (epoch + 1) % 10 == 0:\n",
    "    # if total_cost < best_cost:\n",
    "        checkpoint.save(file_prefix = checkpoint_prefix)\n",
    "    #   best_cost = total_cost\n",
    "\n",
    "    # print('Generator Loss is {}'.format(float(mean_g_loss/len(randsels))))\n",
    "    # print('Discriminator Loss is {}'.format(float(mean_d_loss/len(randsels))))\n",
    "\n",
    "    print('Generator L1 Loss is {}'.format(total_cost/float(step_count//8)))\n",
    "      \n",
    "    print ('Time for epoch {} is {} sec'.format(epoch + 1, time.time()-start))"
   ]
  },
  {
   "cell_type": "code",
   "execution_count": 13,
   "metadata": {},
   "outputs": [],
   "source": [
    "(xsize, ysize, zsize, comp) = subjects_lr[0].shape\n",
    "\n",
    "split_indices = [(i, j, k)\n",
    "                 for k in np.arange(p_size_i+1,zsize-p_size_i+e_or_o,2*p_size_o+e_or_o)       \n",
    "                 for j in np.arange(p_size_i+1,ysize-p_size_i+e_or_o,2*p_size_o+e_or_o)\n",
    "                 for i in np.arange(p_size_i+1,xsize-p_size_i+e_or_o,2*p_size_o+e_or_o)\n",
    "                ]\n",
    "\n",
    "sel_indices = []\n",
    "\n",
    "for s in range(len(subjects_lr)):\n",
    "    for (i, j, k) in split_indices:\n",
    "        ipatch_mask = subjects_masks[s][\n",
    "            i - p_size_o - e_or_o : i + p_size_o,\n",
    "            j - p_size_o - e_or_o : j + p_size_o,\n",
    "            k - p_size_o - e_or_o : k + p_size_o]\n",
    "    \n",
    "        if np.max(ipatch_mask) > 0:\n",
    "            sel_indices.append((s,i,j,k))\n",
    "\n",
    "sel_indices = np.array(sel_indices)"
   ]
  },
  {
   "cell_type": "code",
   "execution_count": 14,
   "metadata": {},
   "outputs": [],
   "source": [
    "# # s = sel_indices[2049,0]\n",
    "# # i = sel_indices[2049,1]\n",
    "# # j = sel_indices[2049,2]\n",
    "# # k = sel_indices[2049,3]\n",
    "\n",
    "# tpatches_lr = np.zeros((5, 2*p_size_i+1, 2*p_size_i+1, 2*p_size_i+1, 30))\n",
    "# tpatches_hr = np.zeros((5, 2*p_size_o+1, 2*p_size_o+1, 2*p_size_o+1, 22))\n",
    "\n",
    "# n = 0\n",
    "\n",
    "# for (s, i, j, k) in sel_indices[2045:2030]:\n",
    "\n",
    "#     tpatches_lr[n,...] =  np.copy(subjects_lr[s][i - p_size_i - e_or_o : i + p_size_i,\n",
    "#                                      j - p_size_i - e_or_o : j + p_size_i,\n",
    "#                                      k - p_size_i - e_or_o : k + p_size_i, :]) * \\\n",
    "#                 np.copy(subjects_masks[s][\n",
    "#                                         i - p_size_i - e_or_o : i + p_size_i,\n",
    "#                                         j - p_size_i - e_or_o : j + p_size_i,\n",
    "#                                         k - p_size_i - e_or_o : k + p_size_i, None])\n",
    "    \n",
    "#     tpatches_hr[n,...] =  np.copy(subjects_hr[s][i - p_size_o - e_or_o : i + p_size_o,\n",
    "#                                      j - p_size_o - e_or_o : j + p_size_o,\n",
    "#                                      k - p_size_o - e_or_o : k + p_size_o, :]) * \\\n",
    "#                 np.copy(subjects_masks[s][\n",
    "#                                         i - p_size_o - e_or_o : i + p_size_o,\n",
    "#                                         j - p_size_o - e_or_o : j + p_size_o,\n",
    "#                                         k - p_size_o - e_or_o : k + p_size_o, None])\n",
    "#     n = n + 1\n",
    "\n",
    "# gen_imgs = generator(tpatches_lr)\n",
    "\n",
    "# # plt.imshow(test_patch_lr[:,:,5,0], cmap='gray')\n",
    "# # plt.figure()\n",
    "# # plt.imshow(test_patch_hr[:,:,3,0], cmap='gray')\n",
    "# # plt.figure()\n",
    "# # plt.imshow(gen_img[0,:,:,3,0], cmap='gray')\n",
    "\n",
    "# print(np.array(discriminator(tpatches_hr)))\n",
    "# print(np.array(discriminator(gen_imgs)))\n",
    "\n",
    "# def discriminator_loss(disc_real_output, disc_generated_output):\n",
    "#   real_loss = loss_object(tf.ones_like(disc_real_output), disc_real_output)\n",
    "\n",
    "#   generated_loss = loss_object(tf.zeros_like(disc_generated_output), disc_generated_output)\n",
    "\n",
    "#   total_disc_loss = real_loss + generated_loss\n",
    "\n",
    "#   return total_disc_loss\n",
    "\n",
    "# LAMBDA = 1\n",
    "\n",
    "# def generator_loss(disc_generated_output, gen_output, target):\n",
    "#   # gan_loss = loss_object(tf.ones_like(disc_generated_output), disc_generated_output)\n",
    "\n",
    "#   gan_loss = tf.reduce_mean(loss_object(tf.ones_like(disc_generated_output), disc_generated_output))\n",
    "\n",
    "#   # Mean squared error\n",
    "#   l2_loss = tf.reduce_mean(tf.square(target - gen_output))\n",
    "\n",
    "#   total_gen_loss = gan_loss + (LAMBDA * l2_loss)\n",
    "\n",
    "#   return total_gen_loss, gan_loss, l2_loss\n",
    "\n",
    "# print(np.array(discriminator_loss(discriminator(tpatches_hr), discriminator(gen_imgs))))\n",
    "# print(np.array(generator_loss(discriminator(tpatches_hr), gen_imgs, tpatches_hr)))"
   ]
  },
  {
   "cell_type": "code",
   "execution_count": 15,
   "metadata": {
    "ExecuteTime": {
     "end_time": "2023-08-05T15:37:17.483885900Z",
     "start_time": "2023-08-05T15:37:17.435327300Z"
    },
    "collapsed": false,
    "jupyter": {
     "outputs_hidden": false
    }
   },
   "outputs": [
    {
     "name": "stdout",
     "output_type": "stream",
     "text": [
      "Epoch: 1\n",
      "Learning rate: 0.001\n"
     ]
    },
    {
     "name": "stderr",
     "output_type": "stream",
     "text": [
      "  0%|                                                  | 0/2144 [00:00<?, ?it/s]2023-08-24 01:17:09.732049: I tensorflow/compiler/xla/stream_executor/cuda/cuda_dnn.cc:432] Loaded cuDNN version 8600\n",
      "2023-08-24 01:17:10.803336: I tensorflow/compiler/xla/stream_executor/cuda/cuda_blas.cc:606] TensorFloat-32 will be used for the matrix multiplication. This will only be logged once.\n",
      "2023-08-24 01:17:11.081327: I tensorflow/compiler/xla/service/service.cc:168] XLA service 0x7f94aef53550 initialized for platform CUDA (this does not guarantee that XLA will be used). Devices:\n",
      "2023-08-24 01:17:11.081353: I tensorflow/compiler/xla/service/service.cc:176]   StreamExecutor device (0): NVIDIA GeForce RTX 3090 Ti, Compute Capability 8.6\n",
      "2023-08-24 01:17:11.086604: I tensorflow/compiler/mlir/tensorflow/utils/dump_mlir_util.cc:255] disabling MLIR crash reproducer, set env var `MLIR_CRASH_REPRODUCER_DIRECTORY` to enable.\n",
      "2023-08-24 01:17:11.315111: I ./tensorflow/compiler/jit/device_compiler.h:186] Compiled cluster using XLA!  This line is logged at most once for the lifetime of the process.\n",
      "100%|███████████████████████████████████████| 2144/2144 [00:25<00:00, 85.34it/s]\n"
     ]
    },
    {
     "name": "stdout",
     "output_type": "stream",
     "text": [
      "Generator L1 Loss is 0.08402641862630844\n",
      "Time for epoch 1 is 25.125579595565796 sec\n",
      "Epoch: 2\n",
      "Learning rate: 0.0009938938\n"
     ]
    },
    {
     "name": "stderr",
     "output_type": "stream",
     "text": [
      "100%|██████████████████████████████████████| 2144/2144 [00:18<00:00, 118.92it/s]\n"
     ]
    },
    {
     "name": "stdout",
     "output_type": "stream",
     "text": [
      "Generator L1 Loss is 0.12661074101924896\n",
      "Time for epoch 2 is 18.02991223335266 sec\n",
      "Epoch: 3\n",
      "Learning rate: 0.0009878023\n"
     ]
    },
    {
     "name": "stderr",
     "output_type": "stream",
     "text": [
      "100%|██████████████████████████████████████| 2144/2144 [00:18<00:00, 117.56it/s]\n"
     ]
    },
    {
     "name": "stdout",
     "output_type": "stream",
     "text": [
      "Generator L1 Loss is 0.1404869258403778\n",
      "Time for epoch 3 is 18.2385835647583 sec\n",
      "Epoch: 4\n",
      "Learning rate: 0.000981748\n"
     ]
    },
    {
     "name": "stderr",
     "output_type": "stream",
     "text": [
      "100%|██████████████████████████████████████| 2144/2144 [00:18<00:00, 113.15it/s]\n"
     ]
    },
    {
     "name": "stdout",
     "output_type": "stream",
     "text": [
      "Generator L1 Loss is 0.13795234262943268\n",
      "Time for epoch 4 is 18.949809074401855 sec\n",
      "Epoch: 5\n",
      "Learning rate: 0.00097573077\n"
     ]
    },
    {
     "name": "stderr",
     "output_type": "stream",
     "text": [
      "100%|██████████████████████████████████████| 2144/2144 [00:19<00:00, 112.79it/s]\n"
     ]
    },
    {
     "name": "stdout",
     "output_type": "stream",
     "text": [
      "Generator L1 Loss is 0.18651539087295532\n",
      "Time for epoch 5 is 19.011143684387207 sec\n",
      "Epoch: 6\n",
      "Learning rate: 0.00096975046\n"
     ]
    },
    {
     "name": "stderr",
     "output_type": "stream",
     "text": [
      "100%|██████████████████████████████████████| 2144/2144 [00:19<00:00, 112.71it/s]\n"
     ]
    },
    {
     "name": "stdout",
     "output_type": "stream",
     "text": [
      "Generator L1 Loss is 0.19697242975234985\n",
      "Time for epoch 6 is 19.024521589279175 sec\n",
      "Epoch: 7\n",
      "Learning rate: 0.0009638069\n"
     ]
    },
    {
     "name": "stderr",
     "output_type": "stream",
     "text": [
      "100%|██████████████████████████████████████| 2144/2144 [00:18<00:00, 112.85it/s]\n"
     ]
    },
    {
     "name": "stdout",
     "output_type": "stream",
     "text": [
      "Generator L1 Loss is 0.18599672615528107\n",
      "Time for epoch 7 is 19.001112937927246 sec\n",
      "Epoch: 8\n",
      "Learning rate: 0.00095789967\n"
     ]
    },
    {
     "name": "stderr",
     "output_type": "stream",
     "text": [
      "100%|██████████████████████████████████████| 2144/2144 [00:18<00:00, 116.05it/s]\n"
     ]
    },
    {
     "name": "stdout",
     "output_type": "stream",
     "text": [
      "Generator L1 Loss is 0.2380843460559845\n",
      "Time for epoch 8 is 18.477131128311157 sec\n",
      "Epoch: 9\n",
      "Learning rate: 0.0009520286\n"
     ]
    },
    {
     "name": "stderr",
     "output_type": "stream",
     "text": [
      "100%|██████████████████████████████████████| 2144/2144 [00:18<00:00, 118.18it/s]\n"
     ]
    },
    {
     "name": "stdout",
     "output_type": "stream",
     "text": [
      "Generator L1 Loss is 0.27980929613113403\n",
      "Time for epoch 9 is 18.143773078918457 sec\n",
      "Epoch: 10\n",
      "Learning rate: 0.00094619364\n"
     ]
    },
    {
     "name": "stderr",
     "output_type": "stream",
     "text": [
      "100%|██████████████████████████████████████| 2144/2144 [00:18<00:00, 118.18it/s]\n"
     ]
    },
    {
     "name": "stdout",
     "output_type": "stream",
     "text": [
      "Generator L1 Loss is 0.17991644144058228\n",
      "Time for epoch 10 is 22.154083251953125 sec\n",
      "Epoch: 11\n",
      "Learning rate: 0.0009403944\n"
     ]
    },
    {
     "name": "stderr",
     "output_type": "stream",
     "text": [
      "100%|██████████████████████████████████████| 2144/2144 [00:18<00:00, 118.50it/s]\n"
     ]
    },
    {
     "name": "stdout",
     "output_type": "stream",
     "text": [
      "Generator L1 Loss is 0.25100213289260864\n",
      "Time for epoch 11 is 18.097943782806396 sec\n",
      "Epoch: 12\n",
      "Learning rate: 0.00093463063\n"
     ]
    },
    {
     "name": "stderr",
     "output_type": "stream",
     "text": [
      "100%|██████████████████████████████████████| 2144/2144 [00:18<00:00, 118.50it/s]\n"
     ]
    },
    {
     "name": "stdout",
     "output_type": "stream",
     "text": [
      "Generator L1 Loss is 0.2510837912559509\n",
      "Time for epoch 12 is 18.09485387802124 sec\n",
      "Epoch: 13\n",
      "Learning rate: 0.00092890224\n"
     ]
    },
    {
     "name": "stderr",
     "output_type": "stream",
     "text": [
      "100%|██████████████████████████████████████| 2144/2144 [00:18<00:00, 118.55it/s]\n"
     ]
    },
    {
     "name": "stdout",
     "output_type": "stream",
     "text": [
      "Generator L1 Loss is 0.16974349319934845\n",
      "Time for epoch 13 is 18.087202310562134 sec\n",
      "Epoch: 14\n",
      "Learning rate: 0.00092320895\n"
     ]
    },
    {
     "name": "stderr",
     "output_type": "stream",
     "text": [
      "100%|██████████████████████████████████████| 2144/2144 [00:18<00:00, 118.32it/s]\n"
     ]
    },
    {
     "name": "stdout",
     "output_type": "stream",
     "text": [
      "Generator L1 Loss is 0.1453726440668106\n",
      "Time for epoch 14 is 18.121769428253174 sec\n",
      "Epoch: 15\n",
      "Learning rate: 0.0009175506\n"
     ]
    },
    {
     "name": "stderr",
     "output_type": "stream",
     "text": [
      "100%|██████████████████████████████████████| 2144/2144 [00:18<00:00, 118.11it/s]\n"
     ]
    },
    {
     "name": "stdout",
     "output_type": "stream",
     "text": [
      "Generator L1 Loss is 0.12933185696601868\n",
      "Time for epoch 15 is 18.15490221977234 sec\n",
      "Epoch: 16\n",
      "Learning rate: 0.0009119269\n"
     ]
    },
    {
     "name": "stderr",
     "output_type": "stream",
     "text": [
      "100%|██████████████████████████████████████| 2144/2144 [00:18<00:00, 118.31it/s]\n"
     ]
    },
    {
     "name": "stdout",
     "output_type": "stream",
     "text": [
      "Generator L1 Loss is 0.15880055725574493\n",
      "Time for epoch 16 is 18.12354016304016 sec\n",
      "Epoch: 17\n",
      "Learning rate: 0.00090633763\n"
     ]
    },
    {
     "name": "stderr",
     "output_type": "stream",
     "text": [
      "100%|██████████████████████████████████████| 2144/2144 [00:18<00:00, 118.21it/s]\n"
     ]
    },
    {
     "name": "stdout",
     "output_type": "stream",
     "text": [
      "Generator L1 Loss is 0.14411452412605286\n",
      "Time for epoch 17 is 18.137877702713013 sec\n",
      "Epoch: 18\n",
      "Learning rate: 0.00090078264\n"
     ]
    },
    {
     "name": "stderr",
     "output_type": "stream",
     "text": [
      "100%|██████████████████████████████████████| 2144/2144 [00:18<00:00, 118.33it/s]\n"
     ]
    },
    {
     "name": "stdout",
     "output_type": "stream",
     "text": [
      "Generator L1 Loss is 0.19142615795135498\n",
      "Time for epoch 18 is 18.12082028388977 sec\n",
      "Epoch: 19\n",
      "Learning rate: 0.0008952617\n"
     ]
    },
    {
     "name": "stderr",
     "output_type": "stream",
     "text": [
      "100%|██████████████████████████████████████| 2144/2144 [00:18<00:00, 118.27it/s]\n"
     ]
    },
    {
     "name": "stdout",
     "output_type": "stream",
     "text": [
      "Generator L1 Loss is 0.1965745985507965\n",
      "Time for epoch 19 is 18.12973380088806 sec\n",
      "Epoch: 20\n",
      "Learning rate: 0.0008897746\n"
     ]
    },
    {
     "name": "stderr",
     "output_type": "stream",
     "text": [
      "100%|██████████████████████████████████████| 2144/2144 [00:18<00:00, 118.28it/s]\n"
     ]
    },
    {
     "name": "stdout",
     "output_type": "stream",
     "text": [
      "Generator L1 Loss is 0.1522677093744278\n",
      "Time for epoch 20 is 22.069772958755493 sec\n",
      "Epoch: 21\n",
      "Learning rate: 0.0008843211\n"
     ]
    },
    {
     "name": "stderr",
     "output_type": "stream",
     "text": [
      "100%|██████████████████████████████████████| 2144/2144 [00:18<00:00, 113.04it/s]\n"
     ]
    },
    {
     "name": "stdout",
     "output_type": "stream",
     "text": [
      "Generator L1 Loss is 0.21518324315547943\n",
      "Time for epoch 21 is 18.97274351119995 sec\n",
      "Epoch: 22\n",
      "Learning rate: 0.0008789011\n"
     ]
    },
    {
     "name": "stderr",
     "output_type": "stream",
     "text": [
      "100%|██████████████████████████████████████| 2144/2144 [00:18<00:00, 112.94it/s]\n"
     ]
    },
    {
     "name": "stdout",
     "output_type": "stream",
     "text": [
      "Generator L1 Loss is 0.25517699122428894\n",
      "Time for epoch 22 is 18.984757661819458 sec\n",
      "Epoch: 23\n",
      "Learning rate: 0.00087351433\n"
     ]
    },
    {
     "name": "stderr",
     "output_type": "stream",
     "text": [
      "100%|██████████████████████████████████████| 2144/2144 [00:18<00:00, 113.34it/s]\n"
     ]
    },
    {
     "name": "stdout",
     "output_type": "stream",
     "text": [
      "Generator L1 Loss is 0.1919129490852356\n",
      "Time for epoch 23 is 18.91780400276184 sec\n",
      "Epoch: 24\n",
      "Learning rate: 0.0008681605\n"
     ]
    },
    {
     "name": "stderr",
     "output_type": "stream",
     "text": [
      "100%|██████████████████████████████████████| 2144/2144 [00:18<00:00, 113.58it/s]\n"
     ]
    },
    {
     "name": "stdout",
     "output_type": "stream",
     "text": [
      "Generator L1 Loss is 0.2856956720352173\n",
      "Time for epoch 24 is 18.878952026367188 sec\n",
      "Epoch: 25\n",
      "Learning rate: 0.0008628395\n"
     ]
    },
    {
     "name": "stderr",
     "output_type": "stream",
     "text": [
      "100%|██████████████████████████████████████| 2144/2144 [00:17<00:00, 119.12it/s]\n"
     ]
    },
    {
     "name": "stdout",
     "output_type": "stream",
     "text": [
      "Generator L1 Loss is 0.2812519967556\n",
      "Time for epoch 25 is 17.99964928627014 sec\n",
      "Epoch: 26\n",
      "Learning rate: 0.00085755106\n"
     ]
    },
    {
     "name": "stderr",
     "output_type": "stream",
     "text": [
      "100%|██████████████████████████████████████| 2144/2144 [00:17<00:00, 119.18it/s]\n"
     ]
    },
    {
     "name": "stdout",
     "output_type": "stream",
     "text": [
      "Generator L1 Loss is 0.3222911059856415\n",
      "Time for epoch 26 is 17.99087929725647 sec\n",
      "Epoch: 27\n",
      "Learning rate: 0.00085229514\n"
     ]
    },
    {
     "name": "stderr",
     "output_type": "stream",
     "text": [
      "100%|██████████████████████████████████████| 2144/2144 [00:18<00:00, 119.09it/s]\n"
     ]
    },
    {
     "name": "stdout",
     "output_type": "stream",
     "text": [
      "Generator L1 Loss is 0.31532618403434753\n",
      "Time for epoch 27 is 18.004998207092285 sec\n",
      "Epoch: 28\n",
      "Learning rate: 0.0008470714\n"
     ]
    },
    {
     "name": "stderr",
     "output_type": "stream",
     "text": [
      "100%|██████████████████████████████████████| 2144/2144 [00:18<00:00, 118.56it/s]\n"
     ]
    },
    {
     "name": "stdout",
     "output_type": "stream",
     "text": [
      "Generator L1 Loss is 0.2715722322463989\n",
      "Time for epoch 28 is 18.085139751434326 sec\n",
      "Epoch: 29\n",
      "Learning rate: 0.0008418797\n"
     ]
    },
    {
     "name": "stderr",
     "output_type": "stream",
     "text": [
      "100%|██████████████████████████████████████| 2144/2144 [00:18<00:00, 113.72it/s]\n"
     ]
    },
    {
     "name": "stdout",
     "output_type": "stream",
     "text": [
      "Generator L1 Loss is 0.2760831415653229\n",
      "Time for epoch 29 is 18.85445237159729 sec\n",
      "Epoch: 30\n",
      "Learning rate: 0.0008367198\n"
     ]
    },
    {
     "name": "stderr",
     "output_type": "stream",
     "text": [
      "100%|██████████████████████████████████████| 2144/2144 [00:18<00:00, 113.26it/s]\n"
     ]
    },
    {
     "name": "stdout",
     "output_type": "stream",
     "text": [
      "Generator L1 Loss is 0.30280545353889465\n",
      "Time for epoch 30 is 22.97486400604248 sec\n",
      "Epoch: 31\n",
      "Learning rate: 0.00083159143\n"
     ]
    },
    {
     "name": "stderr",
     "output_type": "stream",
     "text": [
      "100%|██████████████████████████████████████| 2144/2144 [00:18<00:00, 118.94it/s]\n"
     ]
    },
    {
     "name": "stdout",
     "output_type": "stream",
     "text": [
      "Generator L1 Loss is 0.3210368752479553\n",
      "Time for epoch 31 is 18.02904510498047 sec\n",
      "Epoch: 32\n",
      "Learning rate: 0.00082649454\n"
     ]
    },
    {
     "name": "stderr",
     "output_type": "stream",
     "text": [
      "100%|██████████████████████████████████████| 2144/2144 [00:18<00:00, 115.01it/s]\n"
     ]
    },
    {
     "name": "stdout",
     "output_type": "stream",
     "text": [
      "Generator L1 Loss is 0.3383420407772064\n",
      "Time for epoch 32 is 18.64266848564148 sec\n",
      "Epoch: 33\n",
      "Learning rate: 0.000821429\n"
     ]
    },
    {
     "name": "stderr",
     "output_type": "stream",
     "text": [
      "100%|██████████████████████████████████████| 2144/2144 [00:18<00:00, 113.02it/s]\n"
     ]
    },
    {
     "name": "stdout",
     "output_type": "stream",
     "text": [
      "Generator L1 Loss is 0.41661787033081055\n",
      "Time for epoch 33 is 18.972184658050537 sec\n",
      "Epoch: 34\n",
      "Learning rate: 0.00081639434\n"
     ]
    },
    {
     "name": "stderr",
     "output_type": "stream",
     "text": [
      "100%|██████████████████████████████████████| 2144/2144 [00:18<00:00, 116.65it/s]\n"
     ]
    },
    {
     "name": "stdout",
     "output_type": "stream",
     "text": [
      "Generator L1 Loss is 0.4042506515979767\n",
      "Time for epoch 34 is 18.38164234161377 sec\n",
      "Epoch: 35\n",
      "Learning rate: 0.00081139075\n"
     ]
    },
    {
     "name": "stderr",
     "output_type": "stream",
     "text": [
      "100%|██████████████████████████████████████| 2144/2144 [00:18<00:00, 118.54it/s]\n"
     ]
    },
    {
     "name": "stdout",
     "output_type": "stream",
     "text": [
      "Generator L1 Loss is 0.3762657940387726\n",
      "Time for epoch 35 is 18.087192058563232 sec\n",
      "Epoch: 36\n",
      "Learning rate: 0.0008064176\n"
     ]
    },
    {
     "name": "stderr",
     "output_type": "stream",
     "text": [
      "100%|██████████████████████████████████████| 2144/2144 [00:18<00:00, 118.42it/s]\n"
     ]
    },
    {
     "name": "stdout",
     "output_type": "stream",
     "text": [
      "Generator L1 Loss is 0.38184839487075806\n",
      "Time for epoch 36 is 18.105711936950684 sec\n",
      "Epoch: 37\n",
      "Learning rate: 0.0008014751\n"
     ]
    },
    {
     "name": "stderr",
     "output_type": "stream",
     "text": [
      "100%|██████████████████████████████████████| 2144/2144 [00:18<00:00, 118.38it/s]\n"
     ]
    },
    {
     "name": "stdout",
     "output_type": "stream",
     "text": [
      "Generator L1 Loss is 0.3448806405067444\n",
      "Time for epoch 37 is 18.11353039741516 sec\n",
      "Epoch: 38\n",
      "Learning rate: 0.00079656276\n"
     ]
    },
    {
     "name": "stderr",
     "output_type": "stream",
     "text": [
      "100%|██████████████████████████████████████| 2144/2144 [00:18<00:00, 118.24it/s]\n"
     ]
    },
    {
     "name": "stdout",
     "output_type": "stream",
     "text": [
      "Generator L1 Loss is 0.3097590208053589\n",
      "Time for epoch 38 is 18.133845806121826 sec\n",
      "Epoch: 39\n",
      "Learning rate: 0.0007916806\n"
     ]
    },
    {
     "name": "stderr",
     "output_type": "stream",
     "text": [
      "100%|██████████████████████████████████████| 2144/2144 [00:18<00:00, 118.60it/s]\n"
     ]
    },
    {
     "name": "stdout",
     "output_type": "stream",
     "text": [
      "Generator L1 Loss is 0.351753830909729\n",
      "Time for epoch 39 is 18.079729557037354 sec\n",
      "Epoch: 40\n",
      "Learning rate: 0.0007868284\n"
     ]
    },
    {
     "name": "stderr",
     "output_type": "stream",
     "text": [
      "100%|██████████████████████████████████████| 2144/2144 [00:18<00:00, 118.56it/s]\n"
     ]
    },
    {
     "name": "stdout",
     "output_type": "stream",
     "text": [
      "Generator L1 Loss is 0.390768438577652\n",
      "Time for epoch 40 is 22.02732515335083 sec\n",
      "Epoch: 41\n",
      "Learning rate: 0.0007820059\n"
     ]
    },
    {
     "name": "stderr",
     "output_type": "stream",
     "text": [
      "100%|██████████████████████████████████████| 2144/2144 [00:19<00:00, 112.72it/s]\n"
     ]
    },
    {
     "name": "stdout",
     "output_type": "stream",
     "text": [
      "Generator L1 Loss is 0.3474370241165161\n",
      "Time for epoch 41 is 19.028690099716187 sec\n",
      "Epoch: 42\n",
      "Learning rate: 0.00077721296\n"
     ]
    },
    {
     "name": "stderr",
     "output_type": "stream",
     "text": [
      "100%|██████████████████████████████████████| 2144/2144 [00:18<00:00, 112.91it/s]\n"
     ]
    },
    {
     "name": "stdout",
     "output_type": "stream",
     "text": [
      "Generator L1 Loss is 0.339030385017395\n",
      "Time for epoch 42 is 18.991040229797363 sec\n",
      "Epoch: 43\n",
      "Learning rate: 0.00077244936\n"
     ]
    },
    {
     "name": "stderr",
     "output_type": "stream",
     "text": [
      "100%|██████████████████████████████████████| 2144/2144 [00:18<00:00, 113.04it/s]\n"
     ]
    },
    {
     "name": "stdout",
     "output_type": "stream",
     "text": [
      "Generator L1 Loss is 0.2402481883764267\n",
      "Time for epoch 43 is 18.968899726867676 sec\n",
      "Epoch: 44\n",
      "Learning rate: 0.0007677149\n"
     ]
    },
    {
     "name": "stderr",
     "output_type": "stream",
     "text": [
      "100%|██████████████████████████████████████| 2144/2144 [00:19<00:00, 112.81it/s]\n"
     ]
    },
    {
     "name": "stdout",
     "output_type": "stream",
     "text": [
      "Generator L1 Loss is 0.26260823011398315\n",
      "Time for epoch 44 is 19.00633454322815 sec\n",
      "Epoch: 45\n",
      "Learning rate: 0.00076300965\n"
     ]
    },
    {
     "name": "stderr",
     "output_type": "stream",
     "text": [
      "100%|██████████████████████████████████████| 2144/2144 [00:18<00:00, 118.82it/s]\n"
     ]
    },
    {
     "name": "stdout",
     "output_type": "stream",
     "text": [
      "Generator L1 Loss is 0.3606008291244507\n",
      "Time for epoch 45 is 18.045199155807495 sec\n",
      "Epoch: 46\n",
      "Learning rate: 0.00075833313\n"
     ]
    },
    {
     "name": "stderr",
     "output_type": "stream",
     "text": [
      "100%|██████████████████████████████████████| 2144/2144 [00:18<00:00, 119.08it/s]\n"
     ]
    },
    {
     "name": "stdout",
     "output_type": "stream",
     "text": [
      "Generator L1 Loss is 0.3607966899871826\n",
      "Time for epoch 46 is 18.00544500350952 sec\n",
      "Epoch: 47\n",
      "Learning rate: 0.00075368525\n"
     ]
    },
    {
     "name": "stderr",
     "output_type": "stream",
     "text": [
      "100%|██████████████████████████████████████| 2144/2144 [00:18<00:00, 119.05it/s]\n"
     ]
    },
    {
     "name": "stdout",
     "output_type": "stream",
     "text": [
      "Generator L1 Loss is 0.2833847105503082\n",
      "Time for epoch 47 is 18.009730339050293 sec\n",
      "Epoch: 48\n",
      "Learning rate: 0.00074906583\n"
     ]
    },
    {
     "name": "stderr",
     "output_type": "stream",
     "text": [
      "100%|██████████████████████████████████████| 2144/2144 [00:18<00:00, 117.75it/s]\n"
     ]
    },
    {
     "name": "stdout",
     "output_type": "stream",
     "text": [
      "Generator L1 Loss is 0.3516250550746918\n",
      "Time for epoch 48 is 18.209484815597534 sec\n",
      "Epoch: 49\n",
      "Learning rate: 0.0007444748\n"
     ]
    },
    {
     "name": "stderr",
     "output_type": "stream",
     "text": [
      "100%|██████████████████████████████████████| 2144/2144 [00:18<00:00, 116.92it/s]\n"
     ]
    },
    {
     "name": "stdout",
     "output_type": "stream",
     "text": [
      "Generator L1 Loss is 0.38395512104034424\n",
      "Time for epoch 49 is 18.339356422424316 sec\n",
      "Epoch: 50\n",
      "Learning rate: 0.0007399119\n"
     ]
    },
    {
     "name": "stderr",
     "output_type": "stream",
     "text": [
      "100%|██████████████████████████████████████| 2144/2144 [00:18<00:00, 118.42it/s]\n"
     ]
    },
    {
     "name": "stdout",
     "output_type": "stream",
     "text": [
      "Generator L1 Loss is 0.38668766617774963\n",
      "Time for epoch 50 is 22.040982723236084 sec\n",
      "Epoch: 51\n",
      "Learning rate: 0.00073537696\n"
     ]
    },
    {
     "name": "stderr",
     "output_type": "stream",
     "text": [
      "100%|██████████████████████████████████████| 2144/2144 [00:18<00:00, 118.42it/s]\n"
     ]
    },
    {
     "name": "stdout",
     "output_type": "stream",
     "text": [
      "Generator L1 Loss is 0.3843595087528229\n",
      "Time for epoch 51 is 18.110578775405884 sec\n",
      "Epoch: 52\n",
      "Learning rate: 0.0007308698\n"
     ]
    },
    {
     "name": "stderr",
     "output_type": "stream",
     "text": [
      "100%|██████████████████████████████████████| 2144/2144 [00:18<00:00, 118.76it/s]\n"
     ]
    },
    {
     "name": "stdout",
     "output_type": "stream",
     "text": [
      "Generator L1 Loss is 0.3815677762031555\n",
      "Time for epoch 52 is 18.054694890975952 sec\n",
      "Epoch: 53\n",
      "Learning rate: 0.0007263903\n"
     ]
    },
    {
     "name": "stderr",
     "output_type": "stream",
     "text": [
      "100%|██████████████████████████████████████| 2144/2144 [00:18<00:00, 114.18it/s]\n"
     ]
    },
    {
     "name": "stdout",
     "output_type": "stream",
     "text": [
      "Generator L1 Loss is 0.3878234326839447\n",
      "Time for epoch 53 is 18.77954125404358 sec\n",
      "Epoch: 54\n",
      "Learning rate: 0.0007219382\n"
     ]
    },
    {
     "name": "stderr",
     "output_type": "stream",
     "text": [
      "100%|██████████████████████████████████████| 2144/2144 [00:18<00:00, 113.08it/s]\n"
     ]
    },
    {
     "name": "stdout",
     "output_type": "stream",
     "text": [
      "Generator L1 Loss is 0.3811745047569275\n",
      "Time for epoch 54 is 18.96249556541443 sec\n",
      "Epoch: 55\n",
      "Learning rate: 0.00071751344\n"
     ]
    },
    {
     "name": "stderr",
     "output_type": "stream",
     "text": [
      "100%|██████████████████████████████████████| 2144/2144 [00:18<00:00, 112.88it/s]\n"
     ]
    },
    {
     "name": "stdout",
     "output_type": "stream",
     "text": [
      "Generator L1 Loss is 0.36850425601005554\n",
      "Time for epoch 55 is 18.996386289596558 sec\n",
      "Epoch: 56\n",
      "Learning rate: 0.00071311573\n"
     ]
    },
    {
     "name": "stderr",
     "output_type": "stream",
     "text": [
      "100%|██████████████████████████████████████| 2144/2144 [00:18<00:00, 112.91it/s]\n"
     ]
    },
    {
     "name": "stdout",
     "output_type": "stream",
     "text": [
      "Generator L1 Loss is 0.36472490429878235\n",
      "Time for epoch 56 is 18.99067449569702 sec\n",
      "Epoch: 57\n",
      "Learning rate: 0.000708745\n"
     ]
    },
    {
     "name": "stderr",
     "output_type": "stream",
     "text": [
      "100%|██████████████████████████████████████| 2144/2144 [00:18<00:00, 113.28it/s]\n"
     ]
    },
    {
     "name": "stdout",
     "output_type": "stream",
     "text": [
      "Generator L1 Loss is 0.3832431435585022\n",
      "Time for epoch 57 is 18.927452087402344 sec\n",
      "Epoch: 58\n",
      "Learning rate: 0.0007044011\n"
     ]
    },
    {
     "name": "stderr",
     "output_type": "stream",
     "text": [
      "100%|██████████████████████████████████████| 2144/2144 [00:18<00:00, 118.70it/s]\n"
     ]
    },
    {
     "name": "stdout",
     "output_type": "stream",
     "text": [
      "Generator L1 Loss is 0.37297287583351135\n",
      "Time for epoch 58 is 18.063339948654175 sec\n",
      "Epoch: 59\n",
      "Learning rate: 0.0007000838\n"
     ]
    },
    {
     "name": "stderr",
     "output_type": "stream",
     "text": [
      "100%|██████████████████████████████████████| 2144/2144 [00:18<00:00, 118.65it/s]\n"
     ]
    },
    {
     "name": "stdout",
     "output_type": "stream",
     "text": [
      "Generator L1 Loss is 0.34944307804107666\n",
      "Time for epoch 59 is 18.070965051651 sec\n",
      "Epoch: 60\n",
      "Learning rate: 0.00069579296\n"
     ]
    },
    {
     "name": "stderr",
     "output_type": "stream",
     "text": [
      "100%|██████████████████████████████████████| 2144/2144 [00:18<00:00, 118.72it/s]\n"
     ]
    },
    {
     "name": "stdout",
     "output_type": "stream",
     "text": [
      "Generator L1 Loss is 0.33765819668769836\n",
      "Time for epoch 60 is 21.990231037139893 sec\n",
      "Epoch: 61\n",
      "Learning rate: 0.0006915284\n"
     ]
    },
    {
     "name": "stderr",
     "output_type": "stream",
     "text": [
      "100%|██████████████████████████████████████| 2144/2144 [00:18<00:00, 118.39it/s]\n"
     ]
    },
    {
     "name": "stdout",
     "output_type": "stream",
     "text": [
      "Generator L1 Loss is 0.29415592551231384\n",
      "Time for epoch 61 is 18.11500906944275 sec\n",
      "Epoch: 62\n",
      "Learning rate: 0.00068729\n"
     ]
    },
    {
     "name": "stderr",
     "output_type": "stream",
     "text": [
      "100%|██████████████████████████████████████| 2144/2144 [00:18<00:00, 118.40it/s]\n"
     ]
    },
    {
     "name": "stdout",
     "output_type": "stream",
     "text": [
      "Generator L1 Loss is 0.31209561228752136\n",
      "Time for epoch 62 is 18.109022617340088 sec\n",
      "Epoch: 63\n",
      "Learning rate: 0.00068307755\n"
     ]
    },
    {
     "name": "stderr",
     "output_type": "stream",
     "text": [
      "100%|██████████████████████████████████████| 2144/2144 [00:18<00:00, 114.26it/s]\n"
     ]
    },
    {
     "name": "stdout",
     "output_type": "stream",
     "text": [
      "Generator L1 Loss is 0.3102034330368042\n",
      "Time for epoch 63 is 18.765461206436157 sec\n",
      "Epoch: 64\n",
      "Learning rate: 0.0006788909\n"
     ]
    },
    {
     "name": "stderr",
     "output_type": "stream",
     "text": [
      "100%|██████████████████████████████████████| 2144/2144 [00:18<00:00, 112.99it/s]\n"
     ]
    },
    {
     "name": "stdout",
     "output_type": "stream",
     "text": [
      "Generator L1 Loss is 0.3144436180591583\n",
      "Time for epoch 64 is 18.977639198303223 sec\n",
      "Epoch: 65\n",
      "Learning rate: 0.00067473005\n"
     ]
    },
    {
     "name": "stderr",
     "output_type": "stream",
     "text": [
      "100%|██████████████████████████████████████| 2144/2144 [00:18<00:00, 112.96it/s]\n"
     ]
    },
    {
     "name": "stdout",
     "output_type": "stream",
     "text": [
      "Generator L1 Loss is 0.32797572016716003\n",
      "Time for epoch 65 is 18.982070207595825 sec\n",
      "Epoch: 66\n",
      "Learning rate: 0.00067059457\n"
     ]
    },
    {
     "name": "stderr",
     "output_type": "stream",
     "text": [
      "100%|██████████████████████████████████████| 2144/2144 [00:18<00:00, 114.83it/s]\n"
     ]
    },
    {
     "name": "stdout",
     "output_type": "stream",
     "text": [
      "Generator L1 Loss is 0.3314247131347656\n",
      "Time for epoch 66 is 18.673433780670166 sec\n",
      "Epoch: 67\n",
      "Learning rate: 0.00066648447\n"
     ]
    },
    {
     "name": "stderr",
     "output_type": "stream",
     "text": [
      "100%|██████████████████████████████████████| 2144/2144 [00:18<00:00, 118.41it/s]\n"
     ]
    },
    {
     "name": "stdout",
     "output_type": "stream",
     "text": [
      "Generator L1 Loss is 0.33069196343421936\n",
      "Time for epoch 67 is 18.107773303985596 sec\n",
      "Epoch: 68\n",
      "Learning rate: 0.0006623995\n"
     ]
    },
    {
     "name": "stderr",
     "output_type": "stream",
     "text": [
      "100%|██████████████████████████████████████| 2144/2144 [00:18<00:00, 118.58it/s]\n"
     ]
    },
    {
     "name": "stdout",
     "output_type": "stream",
     "text": [
      "Generator L1 Loss is 0.340501070022583\n",
      "Time for epoch 68 is 18.08265209197998 sec\n",
      "Epoch: 69\n",
      "Learning rate: 0.00065833965\n"
     ]
    },
    {
     "name": "stderr",
     "output_type": "stream",
     "text": [
      "100%|██████████████████████████████████████| 2144/2144 [00:18<00:00, 118.85it/s]\n"
     ]
    },
    {
     "name": "stdout",
     "output_type": "stream",
     "text": [
      "Generator L1 Loss is 0.3581719696521759\n",
      "Time for epoch 69 is 18.04169011116028 sec\n",
      "Epoch: 70\n",
      "Learning rate: 0.00065430463\n"
     ]
    },
    {
     "name": "stderr",
     "output_type": "stream",
     "text": [
      "100%|██████████████████████████████████████| 2144/2144 [00:18<00:00, 118.25it/s]\n"
     ]
    },
    {
     "name": "stdout",
     "output_type": "stream",
     "text": [
      "Generator L1 Loss is 0.3288147747516632\n",
      "Time for epoch 70 is 22.069066762924194 sec\n",
      "Epoch: 71\n",
      "Learning rate: 0.0006502944\n"
     ]
    },
    {
     "name": "stderr",
     "output_type": "stream",
     "text": [
      "100%|██████████████████████████████████████| 2144/2144 [00:18<00:00, 112.89it/s]\n"
     ]
    },
    {
     "name": "stdout",
     "output_type": "stream",
     "text": [
      "Generator L1 Loss is 0.26201361417770386\n",
      "Time for epoch 71 is 19.000982999801636 sec\n",
      "Epoch: 72\n",
      "Learning rate: 0.00064630876\n"
     ]
    },
    {
     "name": "stderr",
     "output_type": "stream",
     "text": [
      "100%|██████████████████████████████████████| 2144/2144 [00:18<00:00, 113.10it/s]\n"
     ]
    },
    {
     "name": "stdout",
     "output_type": "stream",
     "text": [
      "Generator L1 Loss is 0.29663601517677307\n",
      "Time for epoch 72 is 18.95823574066162 sec\n",
      "Epoch: 73\n",
      "Learning rate: 0.00064234744\n"
     ]
    },
    {
     "name": "stderr",
     "output_type": "stream",
     "text": [
      "100%|██████████████████████████████████████| 2144/2144 [00:18<00:00, 112.95it/s]\n"
     ]
    },
    {
     "name": "stdout",
     "output_type": "stream",
     "text": [
      "Generator L1 Loss is 0.2825660705566406\n",
      "Time for epoch 73 is 18.984035968780518 sec\n",
      "Epoch: 74\n",
      "Learning rate: 0.00063841057\n"
     ]
    },
    {
     "name": "stderr",
     "output_type": "stream",
     "text": [
      "100%|██████████████████████████████████████| 2144/2144 [00:18<00:00, 113.35it/s]\n"
     ]
    },
    {
     "name": "stdout",
     "output_type": "stream",
     "text": [
      "Generator L1 Loss is 0.2816005349159241\n",
      "Time for epoch 74 is 18.917629718780518 sec\n",
      "Epoch: 75\n",
      "Learning rate: 0.0006344977\n"
     ]
    },
    {
     "name": "stderr",
     "output_type": "stream",
     "text": [
      "100%|██████████████████████████████████████| 2144/2144 [00:18<00:00, 113.59it/s]\n"
     ]
    },
    {
     "name": "stdout",
     "output_type": "stream",
     "text": [
      "Generator L1 Loss is 0.2829663157463074\n",
      "Time for epoch 75 is 18.87654709815979 sec\n",
      "Epoch: 76\n",
      "Learning rate: 0.00063060876\n"
     ]
    },
    {
     "name": "stderr",
     "output_type": "stream",
     "text": [
      "100%|██████████████████████████████████████| 2144/2144 [00:18<00:00, 113.55it/s]\n"
     ]
    },
    {
     "name": "stdout",
     "output_type": "stream",
     "text": [
      "Generator L1 Loss is 0.3057492971420288\n",
      "Time for epoch 76 is 18.883801698684692 sec\n",
      "Epoch: 77\n",
      "Learning rate: 0.0006267438\n"
     ]
    },
    {
     "name": "stderr",
     "output_type": "stream",
     "text": [
      "100%|██████████████████████████████████████| 2144/2144 [00:18<00:00, 113.32it/s]\n"
     ]
    },
    {
     "name": "stdout",
     "output_type": "stream",
     "text": [
      "Generator L1 Loss is 0.2951119542121887\n",
      "Time for epoch 77 is 18.921894311904907 sec\n",
      "Epoch: 78\n",
      "Learning rate: 0.0006229024\n"
     ]
    },
    {
     "name": "stderr",
     "output_type": "stream",
     "text": [
      "100%|██████████████████████████████████████| 2144/2144 [00:18<00:00, 113.11it/s]\n"
     ]
    },
    {
     "name": "stdout",
     "output_type": "stream",
     "text": [
      "Generator L1 Loss is 0.2990225851535797\n",
      "Time for epoch 78 is 18.957286834716797 sec\n",
      "Epoch: 79\n",
      "Learning rate: 0.00061908463\n"
     ]
    },
    {
     "name": "stderr",
     "output_type": "stream",
     "text": [
      "100%|██████████████████████████████████████| 2144/2144 [00:18<00:00, 117.45it/s]\n"
     ]
    },
    {
     "name": "stdout",
     "output_type": "stream",
     "text": [
      "Generator L1 Loss is 0.2950800061225891\n",
      "Time for epoch 79 is 18.256229639053345 sec\n",
      "Epoch: 80\n",
      "Learning rate: 0.00061529025\n"
     ]
    },
    {
     "name": "stderr",
     "output_type": "stream",
     "text": [
      "100%|██████████████████████████████████████| 2144/2144 [00:18<00:00, 118.86it/s]\n"
     ]
    },
    {
     "name": "stdout",
     "output_type": "stream",
     "text": [
      "Generator L1 Loss is 0.33059370517730713\n",
      "Time for epoch 80 is 21.979803323745728 sec\n",
      "Epoch: 81\n",
      "Learning rate: 0.0006115191\n"
     ]
    },
    {
     "name": "stderr",
     "output_type": "stream",
     "text": [
      "100%|██████████████████████████████████████| 2144/2144 [00:18<00:00, 112.93it/s]\n"
     ]
    },
    {
     "name": "stdout",
     "output_type": "stream",
     "text": [
      "Generator L1 Loss is 0.3502589464187622\n",
      "Time for epoch 81 is 18.993679761886597 sec\n",
      "Epoch: 82\n",
      "Learning rate: 0.00060777104\n"
     ]
    },
    {
     "name": "stderr",
     "output_type": "stream",
     "text": [
      "100%|██████████████████████████████████████| 2144/2144 [00:18<00:00, 113.04it/s]\n"
     ]
    },
    {
     "name": "stdout",
     "output_type": "stream",
     "text": [
      "Generator L1 Loss is 0.3621934950351715\n",
      "Time for epoch 82 is 18.968289136886597 sec\n",
      "Epoch: 83\n",
      "Learning rate: 0.00060404604\n"
     ]
    },
    {
     "name": "stderr",
     "output_type": "stream",
     "text": [
      "100%|██████████████████████████████████████| 2144/2144 [00:18<00:00, 113.07it/s]\n"
     ]
    },
    {
     "name": "stdout",
     "output_type": "stream",
     "text": [
      "Generator L1 Loss is 0.3623831272125244\n",
      "Time for epoch 83 is 18.96371817588806 sec\n",
      "Epoch: 84\n",
      "Learning rate: 0.00060034374\n"
     ]
    },
    {
     "name": "stderr",
     "output_type": "stream",
     "text": [
      "100%|██████████████████████████████████████| 2144/2144 [00:18<00:00, 113.08it/s]\n"
     ]
    },
    {
     "name": "stdout",
     "output_type": "stream",
     "text": [
      "Generator L1 Loss is 0.359591543674469\n",
      "Time for epoch 84 is 18.96274209022522 sec\n",
      "Epoch: 85\n",
      "Learning rate: 0.0005966642\n"
     ]
    },
    {
     "name": "stderr",
     "output_type": "stream",
     "text": [
      "100%|██████████████████████████████████████| 2144/2144 [00:18<00:00, 113.17it/s]\n"
     ]
    },
    {
     "name": "stdout",
     "output_type": "stream",
     "text": [
      "Generator L1 Loss is 0.35956767201423645\n",
      "Time for epoch 85 is 18.94726848602295 sec\n",
      "Epoch: 86\n",
      "Learning rate: 0.0005930073\n"
     ]
    },
    {
     "name": "stderr",
     "output_type": "stream",
     "text": [
      "100%|██████████████████████████████████████| 2144/2144 [00:18<00:00, 113.51it/s]\n"
     ]
    },
    {
     "name": "stdout",
     "output_type": "stream",
     "text": [
      "Generator L1 Loss is 0.3525482416152954\n",
      "Time for epoch 86 is 18.889791250228882 sec\n",
      "Epoch: 87\n",
      "Learning rate: 0.0005893727\n"
     ]
    },
    {
     "name": "stderr",
     "output_type": "stream",
     "text": [
      "100%|██████████████████████████████████████| 2144/2144 [00:18<00:00, 113.34it/s]\n"
     ]
    },
    {
     "name": "stdout",
     "output_type": "stream",
     "text": [
      "Generator L1 Loss is 0.3372367024421692\n",
      "Time for epoch 87 is 18.917663097381592 sec\n",
      "Epoch: 88\n",
      "Learning rate: 0.0005857604\n"
     ]
    },
    {
     "name": "stderr",
     "output_type": "stream",
     "text": [
      "100%|██████████████████████████████████████| 2144/2144 [00:18<00:00, 113.43it/s]\n"
     ]
    },
    {
     "name": "stdout",
     "output_type": "stream",
     "text": [
      "Generator L1 Loss is 0.3407289981842041\n",
      "Time for epoch 88 is 18.90432333946228 sec\n",
      "Epoch: 89\n",
      "Learning rate: 0.00058217027\n"
     ]
    },
    {
     "name": "stderr",
     "output_type": "stream",
     "text": [
      "100%|██████████████████████████████████████| 2144/2144 [00:18<00:00, 113.36it/s]\n"
     ]
    },
    {
     "name": "stdout",
     "output_type": "stream",
     "text": [
      "Generator L1 Loss is 0.3421934247016907\n",
      "Time for epoch 89 is 18.914869785308838 sec\n",
      "Epoch: 90\n",
      "Learning rate: 0.0005786021\n"
     ]
    },
    {
     "name": "stderr",
     "output_type": "stream",
     "text": [
      "100%|██████████████████████████████████████| 2144/2144 [00:18<00:00, 113.33it/s]\n"
     ]
    },
    {
     "name": "stdout",
     "output_type": "stream",
     "text": [
      "Generator L1 Loss is 0.3577563166618347\n",
      "Time for epoch 90 is 22.9661545753479 sec\n",
      "Epoch: 91\n",
      "Learning rate: 0.0005750559\n"
     ]
    },
    {
     "name": "stderr",
     "output_type": "stream",
     "text": [
      "100%|██████████████████████████████████████| 2144/2144 [00:18<00:00, 118.93it/s]\n"
     ]
    },
    {
     "name": "stdout",
     "output_type": "stream",
     "text": [
      "Generator L1 Loss is 0.34407657384872437\n",
      "Time for epoch 91 is 18.032446146011353 sec\n",
      "Epoch: 92\n",
      "Learning rate: 0.0005715313\n"
     ]
    },
    {
     "name": "stderr",
     "output_type": "stream",
     "text": [
      "100%|██████████████████████████████████████| 2144/2144 [00:18<00:00, 119.03it/s]\n"
     ]
    },
    {
     "name": "stdout",
     "output_type": "stream",
     "text": [
      "Generator L1 Loss is 0.30855029821395874\n",
      "Time for epoch 92 is 18.013860940933228 sec\n",
      "Epoch: 93\n",
      "Learning rate: 0.00056802836\n"
     ]
    },
    {
     "name": "stderr",
     "output_type": "stream",
     "text": [
      "100%|██████████████████████████████████████| 2144/2144 [00:18<00:00, 118.60it/s]\n"
     ]
    },
    {
     "name": "stdout",
     "output_type": "stream",
     "text": [
      "Generator L1 Loss is 0.323583722114563\n",
      "Time for epoch 93 is 18.07821559906006 sec\n",
      "Epoch: 94\n",
      "Learning rate: 0.00056454685\n"
     ]
    },
    {
     "name": "stderr",
     "output_type": "stream",
     "text": [
      "100%|██████████████████████████████████████| 2144/2144 [00:18<00:00, 118.67it/s]\n"
     ]
    },
    {
     "name": "stdout",
     "output_type": "stream",
     "text": [
      "Generator L1 Loss is 0.3140017092227936\n",
      "Time for epoch 94 is 18.06754755973816 sec\n",
      "Epoch: 95\n",
      "Learning rate: 0.00056108675\n"
     ]
    },
    {
     "name": "stderr",
     "output_type": "stream",
     "text": [
      "100%|██████████████████████████████████████| 2144/2144 [00:18<00:00, 118.52it/s]\n"
     ]
    },
    {
     "name": "stdout",
     "output_type": "stream",
     "text": [
      "Generator L1 Loss is 0.2948530614376068\n",
      "Time for epoch 95 is 18.090685606002808 sec\n",
      "Epoch: 96\n",
      "Learning rate: 0.00055764784\n"
     ]
    },
    {
     "name": "stderr",
     "output_type": "stream",
     "text": [
      "100%|██████████████████████████████████████| 2144/2144 [00:18<00:00, 118.47it/s]\n"
     ]
    },
    {
     "name": "stdout",
     "output_type": "stream",
     "text": [
      "Generator L1 Loss is 0.29981961846351624\n",
      "Time for epoch 96 is 18.099271297454834 sec\n",
      "Epoch: 97\n",
      "Learning rate: 0.00055423\n"
     ]
    },
    {
     "name": "stderr",
     "output_type": "stream",
     "text": [
      "100%|██████████████████████████████████████| 2144/2144 [00:18<00:00, 118.38it/s]\n"
     ]
    },
    {
     "name": "stdout",
     "output_type": "stream",
     "text": [
      "Generator L1 Loss is 0.30126386880874634\n",
      "Time for epoch 97 is 18.11284589767456 sec\n",
      "Epoch: 98\n",
      "Learning rate: 0.00055083307\n"
     ]
    },
    {
     "name": "stderr",
     "output_type": "stream",
     "text": [
      "100%|██████████████████████████████████████| 2144/2144 [00:18<00:00, 118.49it/s]\n"
     ]
    },
    {
     "name": "stdout",
     "output_type": "stream",
     "text": [
      "Generator L1 Loss is 0.302977055311203\n",
      "Time for epoch 98 is 18.096193075180054 sec\n",
      "Epoch: 99\n",
      "Learning rate: 0.000547457\n"
     ]
    },
    {
     "name": "stderr",
     "output_type": "stream",
     "text": [
      "100%|██████████████████████████████████████| 2144/2144 [00:18<00:00, 113.51it/s]\n"
     ]
    },
    {
     "name": "stdout",
     "output_type": "stream",
     "text": [
      "Generator L1 Loss is 0.3113059997558594\n",
      "Time for epoch 99 is 18.890010356903076 sec\n",
      "Epoch: 100\n",
      "Learning rate: 0.00054410164\n"
     ]
    },
    {
     "name": "stderr",
     "output_type": "stream",
     "text": [
      "100%|██████████████████████████████████████| 2144/2144 [00:18<00:00, 113.37it/s]\n"
     ]
    },
    {
     "name": "stdout",
     "output_type": "stream",
     "text": [
      "Generator L1 Loss is 0.30910998582839966\n",
      "Time for epoch 100 is 22.959741353988647 sec\n",
      "Epoch: 101\n",
      "Learning rate: 0.00054076675\n"
     ]
    },
    {
     "name": "stderr",
     "output_type": "stream",
     "text": [
      "100%|██████████████████████████████████████| 2144/2144 [00:18<00:00, 113.27it/s]\n"
     ]
    },
    {
     "name": "stdout",
     "output_type": "stream",
     "text": [
      "Generator L1 Loss is 0.31269127130508423\n",
      "Time for epoch 101 is 18.930843353271484 sec\n",
      "Epoch: 102\n",
      "Learning rate: 0.0005374524\n"
     ]
    },
    {
     "name": "stderr",
     "output_type": "stream",
     "text": [
      "100%|██████████████████████████████████████| 2144/2144 [00:18<00:00, 113.34it/s]\n"
     ]
    },
    {
     "name": "stdout",
     "output_type": "stream",
     "text": [
      "Generator L1 Loss is 0.3027290105819702\n",
      "Time for epoch 102 is 18.918312549591064 sec\n",
      "Epoch: 103\n",
      "Learning rate: 0.0005341584\n"
     ]
    },
    {
     "name": "stderr",
     "output_type": "stream",
     "text": [
      "100%|██████████████████████████████████████| 2144/2144 [00:18<00:00, 113.62it/s]\n"
     ]
    },
    {
     "name": "stdout",
     "output_type": "stream",
     "text": [
      "Generator L1 Loss is 0.30840814113616943\n",
      "Time for epoch 103 is 18.872276306152344 sec\n",
      "Epoch: 104\n",
      "Learning rate: 0.0005308845\n"
     ]
    },
    {
     "name": "stderr",
     "output_type": "stream",
     "text": [
      "100%|██████████████████████████████████████| 2144/2144 [00:18<00:00, 113.69it/s]\n"
     ]
    },
    {
     "name": "stdout",
     "output_type": "stream",
     "text": [
      "Generator L1 Loss is 0.30912503600120544\n",
      "Time for epoch 104 is 18.859578609466553 sec\n",
      "Epoch: 105\n",
      "Learning rate: 0.00052763073\n"
     ]
    },
    {
     "name": "stderr",
     "output_type": "stream",
     "text": [
      "100%|██████████████████████████████████████| 2144/2144 [00:18<00:00, 113.57it/s]\n"
     ]
    },
    {
     "name": "stdout",
     "output_type": "stream",
     "text": [
      "Generator L1 Loss is 0.30524951219558716\n",
      "Time for epoch 105 is 18.87958526611328 sec\n",
      "Epoch: 106\n",
      "Learning rate: 0.0005243967\n"
     ]
    },
    {
     "name": "stderr",
     "output_type": "stream",
     "text": [
      "100%|██████████████████████████████████████| 2144/2144 [00:18<00:00, 113.42it/s]\n"
     ]
    },
    {
     "name": "stdout",
     "output_type": "stream",
     "text": [
      "Generator L1 Loss is 0.30216750502586365\n",
      "Time for epoch 106 is 18.90554642677307 sec\n",
      "Epoch: 107\n",
      "Learning rate: 0.00052118266\n"
     ]
    },
    {
     "name": "stderr",
     "output_type": "stream",
     "text": [
      "100%|██████████████████████████████████████| 2144/2144 [00:18<00:00, 116.85it/s]\n"
     ]
    },
    {
     "name": "stdout",
     "output_type": "stream",
     "text": [
      "Generator L1 Loss is 0.2976241409778595\n",
      "Time for epoch 107 is 18.35006308555603 sec\n",
      "Epoch: 108\n",
      "Learning rate: 0.00051798834\n"
     ]
    },
    {
     "name": "stderr",
     "output_type": "stream",
     "text": [
      "100%|██████████████████████████████████████| 2144/2144 [00:18<00:00, 118.99it/s]\n"
     ]
    },
    {
     "name": "stdout",
     "output_type": "stream",
     "text": [
      "Generator L1 Loss is 0.2983658015727997\n",
      "Time for epoch 108 is 18.020246982574463 sec\n",
      "Epoch: 109\n",
      "Learning rate: 0.00051481364\n"
     ]
    },
    {
     "name": "stderr",
     "output_type": "stream",
     "text": [
      "100%|██████████████████████████████████████| 2144/2144 [00:18<00:00, 118.96it/s]\n"
     ]
    },
    {
     "name": "stdout",
     "output_type": "stream",
     "text": [
      "Generator L1 Loss is 0.29775524139404297\n",
      "Time for epoch 109 is 18.023748636245728 sec\n",
      "Epoch: 110\n",
      "Learning rate: 0.0005116583\n"
     ]
    },
    {
     "name": "stderr",
     "output_type": "stream",
     "text": [
      "100%|██████████████████████████████████████| 2144/2144 [00:18<00:00, 118.69it/s]\n"
     ]
    },
    {
     "name": "stdout",
     "output_type": "stream",
     "text": [
      "Generator L1 Loss is 0.2927183210849762\n",
      "Time for epoch 110 is 21.998952627182007 sec\n",
      "Epoch: 111\n",
      "Learning rate: 0.0005085224\n"
     ]
    },
    {
     "name": "stderr",
     "output_type": "stream",
     "text": [
      "100%|██████████████████████████████████████| 2144/2144 [00:18<00:00, 118.40it/s]\n"
     ]
    },
    {
     "name": "stdout",
     "output_type": "stream",
     "text": [
      "Generator L1 Loss is 0.2918829917907715\n",
      "Time for epoch 111 is 18.113876342773438 sec\n",
      "Epoch: 112\n",
      "Learning rate: 0.0005054056\n"
     ]
    },
    {
     "name": "stderr",
     "output_type": "stream",
     "text": [
      "100%|██████████████████████████████████████| 2144/2144 [00:18<00:00, 118.36it/s]\n"
     ]
    },
    {
     "name": "stdout",
     "output_type": "stream",
     "text": [
      "Generator L1 Loss is 0.2874782085418701\n",
      "Time for epoch 112 is 18.115962505340576 sec\n",
      "Epoch: 113\n",
      "Learning rate: 0.0005023079\n"
     ]
    },
    {
     "name": "stderr",
     "output_type": "stream",
     "text": [
      "100%|██████████████████████████████████████| 2144/2144 [00:18<00:00, 114.31it/s]\n"
     ]
    },
    {
     "name": "stdout",
     "output_type": "stream",
     "text": [
      "Generator L1 Loss is 0.28221434354782104\n",
      "Time for epoch 113 is 18.758777379989624 sec\n",
      "Epoch: 114\n",
      "Learning rate: 0.00049922924\n"
     ]
    },
    {
     "name": "stderr",
     "output_type": "stream",
     "text": [
      "100%|██████████████████████████████████████| 2144/2144 [00:18<00:00, 115.15it/s]\n"
     ]
    },
    {
     "name": "stdout",
     "output_type": "stream",
     "text": [
      "Generator L1 Loss is 0.28234952688217163\n",
      "Time for epoch 114 is 18.621103048324585 sec\n",
      "Epoch: 115\n",
      "Learning rate: 0.00049616944\n"
     ]
    },
    {
     "name": "stderr",
     "output_type": "stream",
     "text": [
      "100%|██████████████████████████████████████| 2144/2144 [00:18<00:00, 118.47it/s]\n"
     ]
    },
    {
     "name": "stdout",
     "output_type": "stream",
     "text": [
      "Generator L1 Loss is 0.2924254536628723\n",
      "Time for epoch 115 is 18.09902834892273 sec\n",
      "Epoch: 116\n",
      "Learning rate: 0.00049312843\n"
     ]
    },
    {
     "name": "stderr",
     "output_type": "stream",
     "text": [
      "100%|██████████████████████████████████████| 2144/2144 [00:18<00:00, 118.59it/s]\n"
     ]
    },
    {
     "name": "stdout",
     "output_type": "stream",
     "text": [
      "Generator L1 Loss is 0.28773900866508484\n",
      "Time for epoch 116 is 18.080458402633667 sec\n",
      "Epoch: 117\n",
      "Learning rate: 0.000490106\n"
     ]
    },
    {
     "name": "stderr",
     "output_type": "stream",
     "text": [
      "100%|██████████████████████████████████████| 2144/2144 [00:18<00:00, 118.81it/s]\n"
     ]
    },
    {
     "name": "stdout",
     "output_type": "stream",
     "text": [
      "Generator L1 Loss is 0.2829976975917816\n",
      "Time for epoch 117 is 18.047024250030518 sec\n",
      "Epoch: 118\n",
      "Learning rate: 0.00048710214\n"
     ]
    },
    {
     "name": "stderr",
     "output_type": "stream",
     "text": [
      "100%|██████████████████████████████████████| 2144/2144 [00:18<00:00, 118.69it/s]\n"
     ]
    },
    {
     "name": "stdout",
     "output_type": "stream",
     "text": [
      "Generator L1 Loss is 0.2774776816368103\n",
      "Time for epoch 118 is 18.06464958190918 sec\n",
      "Epoch: 119\n",
      "Learning rate: 0.00048411664\n"
     ]
    },
    {
     "name": "stderr",
     "output_type": "stream",
     "text": [
      "100%|██████████████████████████████████████| 2144/2144 [00:18<00:00, 118.64it/s]\n"
     ]
    },
    {
     "name": "stdout",
     "output_type": "stream",
     "text": [
      "Generator L1 Loss is 0.2806038558483124\n",
      "Time for epoch 119 is 18.07209038734436 sec\n",
      "Epoch: 120\n",
      "Learning rate: 0.0004811495\n"
     ]
    },
    {
     "name": "stderr",
     "output_type": "stream",
     "text": [
      "100%|██████████████████████████████████████| 2144/2144 [00:18<00:00, 118.84it/s]\n"
     ]
    },
    {
     "name": "stdout",
     "output_type": "stream",
     "text": [
      "Generator L1 Loss is 0.27614790201187134\n",
      "Time for epoch 120 is 21.980998277664185 sec\n",
      "Epoch: 121\n",
      "Learning rate: 0.0004782005\n"
     ]
    },
    {
     "name": "stderr",
     "output_type": "stream",
     "text": [
      "100%|██████████████████████████████████████| 2144/2144 [00:18<00:00, 118.57it/s]\n"
     ]
    },
    {
     "name": "stdout",
     "output_type": "stream",
     "text": [
      "Generator L1 Loss is 0.2727601230144501\n",
      "Time for epoch 121 is 18.08708357810974 sec\n",
      "Epoch: 122\n",
      "Learning rate: 0.00047526957\n"
     ]
    },
    {
     "name": "stderr",
     "output_type": "stream",
     "text": [
      "100%|██████████████████████████████████████| 2144/2144 [00:18<00:00, 119.00it/s]\n"
     ]
    },
    {
     "name": "stdout",
     "output_type": "stream",
     "text": [
      "Generator L1 Loss is 0.2822842299938202\n",
      "Time for epoch 122 is 18.017711639404297 sec\n",
      "Epoch: 123\n",
      "Learning rate: 0.00047235662\n"
     ]
    },
    {
     "name": "stderr",
     "output_type": "stream",
     "text": [
      "100%|██████████████████████████████████████| 2144/2144 [00:18<00:00, 118.95it/s]\n"
     ]
    },
    {
     "name": "stdout",
     "output_type": "stream",
     "text": [
      "Generator L1 Loss is 0.29093873500823975\n",
      "Time for epoch 123 is 18.024940013885498 sec\n",
      "Epoch: 124\n",
      "Learning rate: 0.00046946155\n"
     ]
    },
    {
     "name": "stderr",
     "output_type": "stream",
     "text": [
      "100%|██████████████████████████████████████| 2144/2144 [00:18<00:00, 119.01it/s]\n"
     ]
    },
    {
     "name": "stdout",
     "output_type": "stream",
     "text": [
      "Generator L1 Loss is 0.29646047949790955\n",
      "Time for epoch 124 is 18.01669478416443 sec\n",
      "Epoch: 125\n",
      "Learning rate: 0.00046658417\n"
     ]
    },
    {
     "name": "stderr",
     "output_type": "stream",
     "text": [
      "100%|██████████████████████████████████████| 2144/2144 [00:18<00:00, 119.05it/s]\n"
     ]
    },
    {
     "name": "stdout",
     "output_type": "stream",
     "text": [
      "Generator L1 Loss is 0.28926995396614075\n",
      "Time for epoch 125 is 18.010549783706665 sec\n",
      "Epoch: 126\n",
      "Learning rate: 0.00046372446\n"
     ]
    },
    {
     "name": "stderr",
     "output_type": "stream",
     "text": [
      "100%|██████████████████████████████████████| 2144/2144 [00:18<00:00, 118.98it/s]\n"
     ]
    },
    {
     "name": "stdout",
     "output_type": "stream",
     "text": [
      "Generator L1 Loss is 0.28294703364372253\n",
      "Time for epoch 126 is 18.02209734916687 sec\n",
      "Epoch: 127\n",
      "Learning rate: 0.00046088226\n"
     ]
    },
    {
     "name": "stderr",
     "output_type": "stream",
     "text": [
      "100%|██████████████████████████████████████| 2144/2144 [00:17<00:00, 119.35it/s]\n"
     ]
    },
    {
     "name": "stdout",
     "output_type": "stream",
     "text": [
      "Generator L1 Loss is 0.2852131426334381\n",
      "Time for epoch 127 is 17.966010808944702 sec\n",
      "Epoch: 128\n",
      "Learning rate: 0.0004580575\n"
     ]
    },
    {
     "name": "stderr",
     "output_type": "stream",
     "text": [
      "100%|██████████████████████████████████████| 2144/2144 [00:17<00:00, 119.71it/s]\n"
     ]
    },
    {
     "name": "stdout",
     "output_type": "stream",
     "text": [
      "Generator L1 Loss is 0.2730274498462677\n",
      "Time for epoch 128 is 17.911136865615845 sec\n",
      "Epoch: 129\n",
      "Learning rate: 0.0004552501\n"
     ]
    },
    {
     "name": "stderr",
     "output_type": "stream",
     "text": [
      "100%|██████████████████████████████████████| 2144/2144 [00:17<00:00, 119.32it/s]\n"
     ]
    },
    {
     "name": "stdout",
     "output_type": "stream",
     "text": [
      "Generator L1 Loss is 0.2762950658798218\n",
      "Time for epoch 129 is 17.96979331970215 sec\n",
      "Epoch: 130\n",
      "Learning rate: 0.0004524598\n"
     ]
    },
    {
     "name": "stderr",
     "output_type": "stream",
     "text": [
      "100%|██████████████████████████████████████| 2144/2144 [00:17<00:00, 119.19it/s]\n"
     ]
    },
    {
     "name": "stdout",
     "output_type": "stream",
     "text": [
      "Generator L1 Loss is 0.2808868885040283\n",
      "Time for epoch 130 is 21.932311058044434 sec\n",
      "Epoch: 131\n",
      "Learning rate: 0.00044968666\n"
     ]
    },
    {
     "name": "stderr",
     "output_type": "stream",
     "text": [
      "100%|██████████████████████████████████████| 2144/2144 [00:18<00:00, 113.23it/s]\n"
     ]
    },
    {
     "name": "stdout",
     "output_type": "stream",
     "text": [
      "Generator L1 Loss is 0.2791321575641632\n",
      "Time for epoch 131 is 18.94099736213684 sec\n",
      "Epoch: 132\n",
      "Learning rate: 0.00044693053\n"
     ]
    },
    {
     "name": "stderr",
     "output_type": "stream",
     "text": [
      "100%|██████████████████████████████████████| 2144/2144 [00:18<00:00, 113.42it/s]\n"
     ]
    },
    {
     "name": "stdout",
     "output_type": "stream",
     "text": [
      "Generator L1 Loss is 0.2801854908466339\n",
      "Time for epoch 132 is 18.904592514038086 sec\n",
      "Epoch: 133\n",
      "Learning rate: 0.00044419128\n"
     ]
    },
    {
     "name": "stderr",
     "output_type": "stream",
     "text": [
      "100%|██████████████████████████████████████| 2144/2144 [00:18<00:00, 113.10it/s]\n"
     ]
    },
    {
     "name": "stdout",
     "output_type": "stream",
     "text": [
      "Generator L1 Loss is 0.27765727043151855\n",
      "Time for epoch 133 is 18.95917057991028 sec\n",
      "Epoch: 134\n",
      "Learning rate: 0.00044146876\n"
     ]
    },
    {
     "name": "stderr",
     "output_type": "stream",
     "text": [
      "100%|██████████████████████████████████████| 2144/2144 [00:18<00:00, 117.98it/s]\n"
     ]
    },
    {
     "name": "stdout",
     "output_type": "stream",
     "text": [
      "Generator L1 Loss is 0.27973073720932007\n",
      "Time for epoch 134 is 18.17350959777832 sec\n",
      "Epoch: 135\n",
      "Learning rate: 0.00043876303\n"
     ]
    },
    {
     "name": "stderr",
     "output_type": "stream",
     "text": [
      "100%|██████████████████████████████████████| 2144/2144 [00:18<00:00, 118.82it/s]\n"
     ]
    },
    {
     "name": "stdout",
     "output_type": "stream",
     "text": [
      "Generator L1 Loss is 0.2637830674648285\n",
      "Time for epoch 135 is 18.045417547225952 sec\n",
      "Epoch: 136\n",
      "Learning rate: 0.00043607387\n"
     ]
    },
    {
     "name": "stderr",
     "output_type": "stream",
     "text": [
      "100%|██████████████████████████████████████| 2144/2144 [00:18<00:00, 118.58it/s]\n"
     ]
    },
    {
     "name": "stdout",
     "output_type": "stream",
     "text": [
      "Generator L1 Loss is 0.26193004846572876\n",
      "Time for epoch 136 is 18.081198692321777 sec\n",
      "Epoch: 137\n",
      "Learning rate: 0.00043340112\n"
     ]
    },
    {
     "name": "stderr",
     "output_type": "stream",
     "text": [
      "100%|██████████████████████████████████████| 2144/2144 [00:18<00:00, 118.65it/s]\n"
     ]
    },
    {
     "name": "stdout",
     "output_type": "stream",
     "text": [
      "Generator L1 Loss is 0.255790114402771\n",
      "Time for epoch 137 is 18.070767879486084 sec\n",
      "Epoch: 138\n",
      "Learning rate: 0.00043074475\n"
     ]
    },
    {
     "name": "stderr",
     "output_type": "stream",
     "text": [
      "100%|██████████████████████████████████████| 2144/2144 [00:18<00:00, 118.61it/s]\n"
     ]
    },
    {
     "name": "stdout",
     "output_type": "stream",
     "text": [
      "Generator L1 Loss is 0.2472335249185562\n",
      "Time for epoch 138 is 18.07658314704895 sec\n",
      "Epoch: 139\n",
      "Learning rate: 0.00042810474\n"
     ]
    },
    {
     "name": "stderr",
     "output_type": "stream",
     "text": [
      "100%|██████████████████████████████████████| 2144/2144 [00:18<00:00, 118.57it/s]\n"
     ]
    },
    {
     "name": "stdout",
     "output_type": "stream",
     "text": [
      "Generator L1 Loss is 0.25218087434768677\n",
      "Time for epoch 139 is 18.084023475646973 sec\n",
      "Epoch: 140\n",
      "Learning rate: 0.00042548086\n"
     ]
    },
    {
     "name": "stderr",
     "output_type": "stream",
     "text": [
      "100%|██████████████████████████████████████| 2144/2144 [00:18<00:00, 118.41it/s]\n"
     ]
    },
    {
     "name": "stdout",
     "output_type": "stream",
     "text": [
      "Generator L1 Loss is 0.26255884766578674\n",
      "Time for epoch 140 is 22.04585838317871 sec\n",
      "Epoch: 141\n",
      "Learning rate: 0.00042287307\n"
     ]
    },
    {
     "name": "stderr",
     "output_type": "stream",
     "text": [
      "100%|██████████████████████████████████████| 2144/2144 [00:19<00:00, 112.73it/s]\n"
     ]
    },
    {
     "name": "stdout",
     "output_type": "stream",
     "text": [
      "Generator L1 Loss is 0.2652542293071747\n",
      "Time for epoch 141 is 19.027320623397827 sec\n",
      "Epoch: 142\n",
      "Learning rate: 0.00042028126\n"
     ]
    },
    {
     "name": "stderr",
     "output_type": "stream",
     "text": [
      "100%|██████████████████████████████████████| 2144/2144 [00:18<00:00, 112.86it/s]\n"
     ]
    },
    {
     "name": "stdout",
     "output_type": "stream",
     "text": [
      "Generator L1 Loss is 0.25616559386253357\n",
      "Time for epoch 142 is 18.99825429916382 sec\n",
      "Epoch: 143\n",
      "Learning rate: 0.00041770533\n"
     ]
    },
    {
     "name": "stderr",
     "output_type": "stream",
     "text": [
      "100%|██████████████████████████████████████| 2144/2144 [00:18<00:00, 113.16it/s]\n"
     ]
    },
    {
     "name": "stdout",
     "output_type": "stream",
     "text": [
      "Generator L1 Loss is 0.25216642022132874\n",
      "Time for epoch 143 is 18.94839835166931 sec\n",
      "Epoch: 144\n",
      "Learning rate: 0.00041514522\n"
     ]
    },
    {
     "name": "stderr",
     "output_type": "stream",
     "text": [
      "100%|██████████████████████████████████████| 2144/2144 [00:18<00:00, 112.96it/s]\n"
     ]
    },
    {
     "name": "stdout",
     "output_type": "stream",
     "text": [
      "Generator L1 Loss is 0.26134827733039856\n",
      "Time for epoch 144 is 18.982494115829468 sec\n",
      "Epoch: 145\n",
      "Learning rate: 0.00041260078\n"
     ]
    },
    {
     "name": "stderr",
     "output_type": "stream",
     "text": [
      "100%|██████████████████████████████████████| 2144/2144 [00:18<00:00, 113.16it/s]\n"
     ]
    },
    {
     "name": "stdout",
     "output_type": "stream",
     "text": [
      "Generator L1 Loss is 0.2609524130821228\n",
      "Time for epoch 145 is 18.94801425933838 sec\n",
      "Epoch: 146\n",
      "Learning rate: 0.00041007192\n"
     ]
    },
    {
     "name": "stderr",
     "output_type": "stream",
     "text": [
      "100%|██████████████████████████████████████| 2144/2144 [00:18<00:00, 113.05it/s]\n"
     ]
    },
    {
     "name": "stdout",
     "output_type": "stream",
     "text": [
      "Generator L1 Loss is 0.2629142105579376\n",
      "Time for epoch 146 is 18.967792510986328 sec\n",
      "Epoch: 147\n",
      "Learning rate: 0.00040755852\n"
     ]
    },
    {
     "name": "stderr",
     "output_type": "stream",
     "text": [
      "100%|██████████████████████████████████████| 2144/2144 [00:18<00:00, 113.46it/s]\n"
     ]
    },
    {
     "name": "stdout",
     "output_type": "stream",
     "text": [
      "Generator L1 Loss is 0.27097368240356445\n",
      "Time for epoch 147 is 18.898243188858032 sec\n",
      "Epoch: 148\n",
      "Learning rate: 0.00040506065\n"
     ]
    },
    {
     "name": "stderr",
     "output_type": "stream",
     "text": [
      "100%|██████████████████████████████████████| 2144/2144 [00:17<00:00, 119.14it/s]\n"
     ]
    },
    {
     "name": "stdout",
     "output_type": "stream",
     "text": [
      "Generator L1 Loss is 0.26504695415496826\n",
      "Time for epoch 148 is 17.997280597686768 sec\n",
      "Epoch: 149\n",
      "Learning rate: 0.000402578\n"
     ]
    },
    {
     "name": "stderr",
     "output_type": "stream",
     "text": [
      "100%|██████████████████████████████████████| 2144/2144 [00:18<00:00, 118.99it/s]\n"
     ]
    },
    {
     "name": "stdout",
     "output_type": "stream",
     "text": [
      "Generator L1 Loss is 0.26997652649879456\n",
      "Time for epoch 149 is 18.019888877868652 sec\n",
      "Epoch: 150\n",
      "Learning rate: 0.00040011056\n"
     ]
    },
    {
     "name": "stderr",
     "output_type": "stream",
     "text": [
      "100%|██████████████████████████████████████| 2144/2144 [00:18<00:00, 115.86it/s]\n"
     ]
    },
    {
     "name": "stdout",
     "output_type": "stream",
     "text": [
      "Generator L1 Loss is 0.27155792713165283\n",
      "Time for epoch 150 is 22.439693450927734 sec\n",
      "Epoch: 151\n",
      "Learning rate: 0.0003976583\n"
     ]
    },
    {
     "name": "stderr",
     "output_type": "stream",
     "text": [
      "100%|██████████████████████████████████████| 2144/2144 [00:18<00:00, 113.47it/s]\n"
     ]
    },
    {
     "name": "stdout",
     "output_type": "stream",
     "text": [
      "Generator L1 Loss is 0.2755320072174072\n",
      "Time for epoch 151 is 18.900825023651123 sec\n",
      "Epoch: 152\n",
      "Learning rate: 0.00039522102\n"
     ]
    },
    {
     "name": "stderr",
     "output_type": "stream",
     "text": [
      "100%|██████████████████████████████████████| 2144/2144 [00:18<00:00, 113.54it/s]\n"
     ]
    },
    {
     "name": "stdout",
     "output_type": "stream",
     "text": [
      "Generator L1 Loss is 0.27841970324516296\n",
      "Time for epoch 152 is 18.884461164474487 sec\n",
      "Epoch: 153\n",
      "Learning rate: 0.00039279868\n"
     ]
    },
    {
     "name": "stderr",
     "output_type": "stream",
     "text": [
      "100%|██████████████████████████████████████| 2144/2144 [00:18<00:00, 113.58it/s]\n"
     ]
    },
    {
     "name": "stdout",
     "output_type": "stream",
     "text": [
      "Generator L1 Loss is 0.2776399552822113\n",
      "Time for epoch 153 is 18.878466606140137 sec\n",
      "Epoch: 154\n",
      "Learning rate: 0.0003903912\n"
     ]
    },
    {
     "name": "stderr",
     "output_type": "stream",
     "text": [
      "100%|██████████████████████████████████████| 2144/2144 [00:18<00:00, 113.62it/s]\n"
     ]
    },
    {
     "name": "stdout",
     "output_type": "stream",
     "text": [
      "Generator L1 Loss is 0.27605053782463074\n",
      "Time for epoch 154 is 18.871800661087036 sec\n",
      "Epoch: 155\n",
      "Learning rate: 0.0003879985\n"
     ]
    },
    {
     "name": "stderr",
     "output_type": "stream",
     "text": [
      "100%|██████████████████████████████████████| 2144/2144 [00:18<00:00, 113.25it/s]\n"
     ]
    },
    {
     "name": "stdout",
     "output_type": "stream",
     "text": [
      "Generator L1 Loss is 0.2796427607536316\n",
      "Time for epoch 155 is 18.933273553848267 sec\n",
      "Epoch: 156\n",
      "Learning rate: 0.0003856204\n"
     ]
    },
    {
     "name": "stderr",
     "output_type": "stream",
     "text": [
      "100%|██████████████████████████████████████| 2144/2144 [00:18<00:00, 113.06it/s]\n"
     ]
    },
    {
     "name": "stdout",
     "output_type": "stream",
     "text": [
      "Generator L1 Loss is 0.2734248638153076\n",
      "Time for epoch 156 is 18.965848684310913 sec\n",
      "Epoch: 157\n",
      "Learning rate: 0.00038325693\n"
     ]
    },
    {
     "name": "stderr",
     "output_type": "stream",
     "text": [
      "100%|██████████████████████████████████████| 2144/2144 [00:18<00:00, 113.02it/s]\n"
     ]
    },
    {
     "name": "stdout",
     "output_type": "stream",
     "text": [
      "Generator L1 Loss is 0.281669020652771\n",
      "Time for epoch 157 is 18.97201704978943 sec\n",
      "Epoch: 158\n",
      "Learning rate: 0.00038090794\n"
     ]
    },
    {
     "name": "stderr",
     "output_type": "stream",
     "text": [
      "100%|██████████████████████████████████████| 2144/2144 [00:18<00:00, 113.16it/s]\n"
     ]
    },
    {
     "name": "stdout",
     "output_type": "stream",
     "text": [
      "Generator L1 Loss is 0.27954038977622986\n",
      "Time for epoch 158 is 18.948190927505493 sec\n",
      "Epoch: 159\n",
      "Learning rate: 0.00037857334\n"
     ]
    },
    {
     "name": "stderr",
     "output_type": "stream",
     "text": [
      "100%|██████████████████████████████████████| 2144/2144 [00:18<00:00, 114.74it/s]\n"
     ]
    },
    {
     "name": "stdout",
     "output_type": "stream",
     "text": [
      "Generator L1 Loss is 0.27373990416526794\n",
      "Time for epoch 159 is 18.686914443969727 sec\n",
      "Epoch: 160\n",
      "Learning rate: 0.00037625307\n"
     ]
    },
    {
     "name": "stderr",
     "output_type": "stream",
     "text": [
      "100%|██████████████████████████████████████| 2144/2144 [00:18<00:00, 118.34it/s]\n"
     ]
    },
    {
     "name": "stdout",
     "output_type": "stream",
     "text": [
      "Generator L1 Loss is 0.2750435173511505\n",
      "Time for epoch 160 is 22.052001476287842 sec\n",
      "Epoch: 161\n",
      "Learning rate: 0.00037394697\n"
     ]
    },
    {
     "name": "stderr",
     "output_type": "stream",
     "text": [
      "100%|██████████████████████████████████████| 2144/2144 [00:18<00:00, 118.40it/s]\n"
     ]
    },
    {
     "name": "stdout",
     "output_type": "stream",
     "text": [
      "Generator L1 Loss is 0.2735903263092041\n",
      "Time for epoch 161 is 18.116500854492188 sec\n",
      "Epoch: 162\n",
      "Learning rate: 0.00037165507\n"
     ]
    },
    {
     "name": "stderr",
     "output_type": "stream",
     "text": [
      "100%|██████████████████████████████████████| 2144/2144 [00:18<00:00, 118.49it/s]\n"
     ]
    },
    {
     "name": "stdout",
     "output_type": "stream",
     "text": [
      "Generator L1 Loss is 0.27114784717559814\n",
      "Time for epoch 162 is 18.096587657928467 sec\n",
      "Epoch: 163\n",
      "Learning rate: 0.0003693771\n"
     ]
    },
    {
     "name": "stderr",
     "output_type": "stream",
     "text": [
      "100%|██████████████████████████████████████| 2144/2144 [00:18<00:00, 116.23it/s]\n"
     ]
    },
    {
     "name": "stdout",
     "output_type": "stream",
     "text": [
      "Generator L1 Loss is 0.26406753063201904\n",
      "Time for epoch 163 is 18.448675870895386 sec\n",
      "Epoch: 164\n",
      "Learning rate: 0.00036711324\n"
     ]
    },
    {
     "name": "stderr",
     "output_type": "stream",
     "text": [
      "100%|██████████████████████████████████████| 2144/2144 [00:18<00:00, 113.25it/s]\n"
     ]
    },
    {
     "name": "stdout",
     "output_type": "stream",
     "text": [
      "Generator L1 Loss is 0.2711753249168396\n",
      "Time for epoch 164 is 18.93314218521118 sec\n",
      "Epoch: 165\n",
      "Learning rate: 0.00036486317\n"
     ]
    },
    {
     "name": "stderr",
     "output_type": "stream",
     "text": [
      "100%|██████████████████████████████████████| 2144/2144 [00:18<00:00, 113.22it/s]\n"
     ]
    },
    {
     "name": "stdout",
     "output_type": "stream",
     "text": [
      "Generator L1 Loss is 0.27361106872558594\n",
      "Time for epoch 165 is 18.93772530555725 sec\n",
      "Epoch: 166\n",
      "Learning rate: 0.0003626269\n"
     ]
    },
    {
     "name": "stderr",
     "output_type": "stream",
     "text": [
      "100%|██████████████████████████████████████| 2144/2144 [00:18<00:00, 113.19it/s]\n"
     ]
    },
    {
     "name": "stdout",
     "output_type": "stream",
     "text": [
      "Generator L1 Loss is 0.2756160795688629\n",
      "Time for epoch 166 is 18.943280458450317 sec\n",
      "Epoch: 167\n",
      "Learning rate: 0.00036040437\n"
     ]
    },
    {
     "name": "stderr",
     "output_type": "stream",
     "text": [
      "100%|██████████████████████████████████████| 2144/2144 [00:19<00:00, 112.66it/s]\n"
     ]
    },
    {
     "name": "stdout",
     "output_type": "stream",
     "text": [
      "Generator L1 Loss is 0.276218444108963\n",
      "Time for epoch 167 is 19.03262758255005 sec\n",
      "Epoch: 168\n",
      "Learning rate: 0.00035819542\n"
     ]
    },
    {
     "name": "stderr",
     "output_type": "stream",
     "text": [
      "100%|██████████████████████████████████████| 2144/2144 [00:18<00:00, 113.34it/s]\n"
     ]
    },
    {
     "name": "stdout",
     "output_type": "stream",
     "text": [
      "Generator L1 Loss is 0.27059680223464966\n",
      "Time for epoch 168 is 18.91752290725708 sec\n",
      "Epoch: 169\n",
      "Learning rate: 0.00035600003\n"
     ]
    },
    {
     "name": "stderr",
     "output_type": "stream",
     "text": [
      "100%|██████████████████████████████████████| 2144/2144 [00:18<00:00, 113.23it/s]\n"
     ]
    },
    {
     "name": "stdout",
     "output_type": "stream",
     "text": [
      "Generator L1 Loss is 0.26542580127716064\n",
      "Time for epoch 169 is 18.93605065345764 sec\n",
      "Epoch: 170\n",
      "Learning rate: 0.00035381812\n"
     ]
    },
    {
     "name": "stderr",
     "output_type": "stream",
     "text": [
      "100%|██████████████████████████████████████| 2144/2144 [00:18<00:00, 113.28it/s]\n"
     ]
    },
    {
     "name": "stdout",
     "output_type": "stream",
     "text": [
      "Generator L1 Loss is 0.26615604758262634\n",
      "Time for epoch 170 is 22.972456455230713 sec\n",
      "Epoch: 171\n",
      "Learning rate: 0.00035164948\n"
     ]
    },
    {
     "name": "stderr",
     "output_type": "stream",
     "text": [
      "100%|██████████████████████████████████████| 2144/2144 [00:18<00:00, 118.88it/s]\n"
     ]
    },
    {
     "name": "stdout",
     "output_type": "stream",
     "text": [
      "Generator L1 Loss is 0.2662869691848755\n",
      "Time for epoch 171 is 18.040819883346558 sec\n",
      "Epoch: 172\n",
      "Learning rate: 0.00034949422\n"
     ]
    },
    {
     "name": "stderr",
     "output_type": "stream",
     "text": [
      "100%|██████████████████████████████████████| 2144/2144 [00:18<00:00, 118.93it/s]\n"
     ]
    },
    {
     "name": "stdout",
     "output_type": "stream",
     "text": [
      "Generator L1 Loss is 0.2687285840511322\n",
      "Time for epoch 172 is 18.02859592437744 sec\n",
      "Epoch: 173\n",
      "Learning rate: 0.00034735215\n"
     ]
    },
    {
     "name": "stderr",
     "output_type": "stream",
     "text": [
      "100%|██████████████████████████████████████| 2144/2144 [00:18<00:00, 119.06it/s]\n"
     ]
    },
    {
     "name": "stdout",
     "output_type": "stream",
     "text": [
      "Generator L1 Loss is 0.2622022330760956\n",
      "Time for epoch 173 is 18.0093994140625 sec\n",
      "Epoch: 174\n",
      "Learning rate: 0.00034522323\n"
     ]
    },
    {
     "name": "stderr",
     "output_type": "stream",
     "text": [
      "100%|██████████████████████████████████████| 2144/2144 [00:18<00:00, 118.93it/s]\n"
     ]
    },
    {
     "name": "stdout",
     "output_type": "stream",
     "text": [
      "Generator L1 Loss is 0.2588731348514557\n",
      "Time for epoch 174 is 18.0293128490448 sec\n",
      "Epoch: 175\n",
      "Learning rate: 0.00034310733\n"
     ]
    },
    {
     "name": "stderr",
     "output_type": "stream",
     "text": [
      "100%|██████████████████████████████████████| 2144/2144 [00:18<00:00, 118.82it/s]\n"
     ]
    },
    {
     "name": "stdout",
     "output_type": "stream",
     "text": [
      "Generator L1 Loss is 0.2596088647842407\n",
      "Time for epoch 175 is 18.04484987258911 sec\n",
      "Epoch: 176\n",
      "Learning rate: 0.00034100443\n"
     ]
    },
    {
     "name": "stderr",
     "output_type": "stream",
     "text": [
      "100%|██████████████████████████████████████| 2144/2144 [00:18<00:00, 118.94it/s]\n"
     ]
    },
    {
     "name": "stdout",
     "output_type": "stream",
     "text": [
      "Generator L1 Loss is 0.2648036777973175\n",
      "Time for epoch 176 is 18.02787733078003 sec\n",
      "Epoch: 177\n",
      "Learning rate: 0.0003389144\n"
     ]
    },
    {
     "name": "stderr",
     "output_type": "stream",
     "text": [
      "100%|██████████████████████████████████████| 2144/2144 [00:18<00:00, 118.90it/s]\n"
     ]
    },
    {
     "name": "stdout",
     "output_type": "stream",
     "text": [
      "Generator L1 Loss is 0.2590468227863312\n",
      "Time for epoch 177 is 18.033278703689575 sec\n",
      "Epoch: 178\n",
      "Learning rate: 0.0003368372\n"
     ]
    },
    {
     "name": "stderr",
     "output_type": "stream",
     "text": [
      "100%|██████████████████████████████████████| 2144/2144 [00:18<00:00, 118.53it/s]\n"
     ]
    },
    {
     "name": "stdout",
     "output_type": "stream",
     "text": [
      "Generator L1 Loss is 0.2612842321395874\n",
      "Time for epoch 178 is 18.08880043029785 sec\n",
      "Epoch: 179\n",
      "Learning rate: 0.00033477266\n"
     ]
    },
    {
     "name": "stderr",
     "output_type": "stream",
     "text": [
      "100%|██████████████████████████████████████| 2144/2144 [00:18<00:00, 119.05it/s]\n"
     ]
    },
    {
     "name": "stdout",
     "output_type": "stream",
     "text": [
      "Generator L1 Loss is 0.2628159821033478\n",
      "Time for epoch 179 is 18.010462284088135 sec\n",
      "Epoch: 180\n",
      "Learning rate: 0.00033272084\n"
     ]
    },
    {
     "name": "stderr",
     "output_type": "stream",
     "text": [
      "100%|██████████████████████████████████████| 2144/2144 [00:17<00:00, 119.15it/s]\n"
     ]
    },
    {
     "name": "stdout",
     "output_type": "stream",
     "text": [
      "Generator L1 Loss is 0.2490636557340622\n",
      "Time for epoch 180 is 21.93157935142517 sec\n",
      "Epoch: 181\n",
      "Learning rate: 0.0003306816\n"
     ]
    },
    {
     "name": "stderr",
     "output_type": "stream",
     "text": [
      "100%|██████████████████████████████████████| 2144/2144 [00:18<00:00, 113.08it/s]\n"
     ]
    },
    {
     "name": "stdout",
     "output_type": "stream",
     "text": [
      "Generator L1 Loss is 0.2546076774597168\n",
      "Time for epoch 181 is 18.964670181274414 sec\n",
      "Epoch: 182\n",
      "Learning rate: 0.00032865483\n"
     ]
    },
    {
     "name": "stderr",
     "output_type": "stream",
     "text": [
      "100%|██████████████████████████████████████| 2144/2144 [00:18<00:00, 113.51it/s]\n"
     ]
    },
    {
     "name": "stdout",
     "output_type": "stream",
     "text": [
      "Generator L1 Loss is 0.25753915309906006\n",
      "Time for epoch 182 is 18.889171600341797 sec\n",
      "Epoch: 183\n",
      "Learning rate: 0.0003266405\n"
     ]
    },
    {
     "name": "stderr",
     "output_type": "stream",
     "text": [
      "100%|██████████████████████████████████████| 2144/2144 [00:18<00:00, 113.74it/s]\n"
     ]
    },
    {
     "name": "stdout",
     "output_type": "stream",
     "text": [
      "Generator L1 Loss is 0.2618575692176819\n",
      "Time for epoch 183 is 18.85163927078247 sec\n",
      "Epoch: 184\n",
      "Learning rate: 0.0003246385\n"
     ]
    },
    {
     "name": "stderr",
     "output_type": "stream",
     "text": [
      "100%|██████████████████████████████████████| 2144/2144 [00:18<00:00, 113.46it/s]\n"
     ]
    },
    {
     "name": "stdout",
     "output_type": "stream",
     "text": [
      "Generator L1 Loss is 0.2650398910045624\n",
      "Time for epoch 184 is 18.898433923721313 sec\n",
      "Epoch: 185\n",
      "Learning rate: 0.00032264882\n"
     ]
    },
    {
     "name": "stderr",
     "output_type": "stream",
     "text": [
      "100%|██████████████████████████████████████| 2144/2144 [00:18<00:00, 113.47it/s]\n"
     ]
    },
    {
     "name": "stdout",
     "output_type": "stream",
     "text": [
      "Generator L1 Loss is 0.26391738653182983\n",
      "Time for epoch 185 is 18.895932912826538 sec\n",
      "Epoch: 186\n",
      "Learning rate: 0.00032067124\n"
     ]
    },
    {
     "name": "stderr",
     "output_type": "stream",
     "text": [
      "100%|██████████████████████████████████████| 2144/2144 [00:18<00:00, 113.48it/s]\n"
     ]
    },
    {
     "name": "stdout",
     "output_type": "stream",
     "text": [
      "Generator L1 Loss is 0.2624898850917816\n",
      "Time for epoch 186 is 18.89487910270691 sec\n",
      "Epoch: 187\n",
      "Learning rate: 0.00031870586\n"
     ]
    },
    {
     "name": "stderr",
     "output_type": "stream",
     "text": [
      "100%|██████████████████████████████████████| 2144/2144 [00:18<00:00, 113.46it/s]\n"
     ]
    },
    {
     "name": "stdout",
     "output_type": "stream",
     "text": [
      "Generator L1 Loss is 0.26473113894462585\n",
      "Time for epoch 187 is 18.897892236709595 sec\n",
      "Epoch: 188\n",
      "Learning rate: 0.00031675247\n"
     ]
    },
    {
     "name": "stderr",
     "output_type": "stream",
     "text": [
      "100%|██████████████████████████████████████| 2144/2144 [00:18<00:00, 113.35it/s]\n"
     ]
    },
    {
     "name": "stdout",
     "output_type": "stream",
     "text": [
      "Generator L1 Loss is 0.26170480251312256\n",
      "Time for epoch 188 is 18.916847467422485 sec\n",
      "Epoch: 189\n",
      "Learning rate: 0.00031481113\n"
     ]
    },
    {
     "name": "stderr",
     "output_type": "stream",
     "text": [
      "100%|██████████████████████████████████████| 2144/2144 [00:18<00:00, 113.05it/s]\n"
     ]
    },
    {
     "name": "stdout",
     "output_type": "stream",
     "text": [
      "Generator L1 Loss is 0.2643100321292877\n",
      "Time for epoch 189 is 18.966926097869873 sec\n",
      "Epoch: 190\n",
      "Learning rate: 0.00031288157\n"
     ]
    },
    {
     "name": "stderr",
     "output_type": "stream",
     "text": [
      "100%|██████████████████████████████████████| 2144/2144 [00:18<00:00, 113.99it/s]\n"
     ]
    },
    {
     "name": "stdout",
     "output_type": "stream",
     "text": [
      "Generator L1 Loss is 0.2557021379470825\n",
      "Time for epoch 190 is 22.75254464149475 sec\n",
      "Epoch: 191\n",
      "Learning rate: 0.00031096392\n"
     ]
    },
    {
     "name": "stderr",
     "output_type": "stream",
     "text": [
      "100%|██████████████████████████████████████| 2144/2144 [00:18<00:00, 113.09it/s]\n"
     ]
    },
    {
     "name": "stdout",
     "output_type": "stream",
     "text": [
      "Generator L1 Loss is 0.25376832485198975\n",
      "Time for epoch 191 is 18.965909957885742 sec\n",
      "Epoch: 192\n",
      "Learning rate: 0.00030905803\n"
     ]
    },
    {
     "name": "stderr",
     "output_type": "stream",
     "text": [
      "100%|██████████████████████████████████████| 2144/2144 [00:19<00:00, 112.82it/s]\n"
     ]
    },
    {
     "name": "stdout",
     "output_type": "stream",
     "text": [
      "Generator L1 Loss is 0.2523981034755707\n",
      "Time for epoch 192 is 19.00468683242798 sec\n",
      "Epoch: 193\n",
      "Learning rate: 0.0003071638\n"
     ]
    },
    {
     "name": "stderr",
     "output_type": "stream",
     "text": [
      "100%|██████████████████████████████████████| 2144/2144 [00:18<00:00, 117.24it/s]\n"
     ]
    },
    {
     "name": "stdout",
     "output_type": "stream",
     "text": [
      "Generator L1 Loss is 0.2505783438682556\n",
      "Time for epoch 193 is 18.288503170013428 sec\n",
      "Epoch: 194\n",
      "Learning rate: 0.00030528117\n"
     ]
    },
    {
     "name": "stderr",
     "output_type": "stream",
     "text": [
      "100%|██████████████████████████████████████| 2144/2144 [00:18<00:00, 118.37it/s]\n"
     ]
    },
    {
     "name": "stdout",
     "output_type": "stream",
     "text": [
      "Generator L1 Loss is 0.24896889925003052\n",
      "Time for epoch 194 is 18.113330602645874 sec\n",
      "Epoch: 195\n",
      "Learning rate: 0.00030341014\n"
     ]
    },
    {
     "name": "stderr",
     "output_type": "stream",
     "text": [
      "100%|██████████████████████████████████████| 2144/2144 [00:18<00:00, 118.28it/s]\n"
     ]
    },
    {
     "name": "stdout",
     "output_type": "stream",
     "text": [
      "Generator L1 Loss is 0.2502206861972809\n",
      "Time for epoch 195 is 18.128329753875732 sec\n",
      "Epoch: 196\n",
      "Learning rate: 0.0003015505\n"
     ]
    },
    {
     "name": "stderr",
     "output_type": "stream",
     "text": [
      "100%|██████████████████████████████████████| 2144/2144 [00:18<00:00, 118.30it/s]\n"
     ]
    },
    {
     "name": "stdout",
     "output_type": "stream",
     "text": [
      "Generator L1 Loss is 0.2519473731517792\n",
      "Time for epoch 196 is 18.124911546707153 sec\n",
      "Epoch: 197\n",
      "Learning rate: 0.00029970225\n"
     ]
    },
    {
     "name": "stderr",
     "output_type": "stream",
     "text": [
      "100%|██████████████████████████████████████| 2144/2144 [00:18<00:00, 118.32it/s]\n"
     ]
    },
    {
     "name": "stdout",
     "output_type": "stream",
     "text": [
      "Generator L1 Loss is 0.24853068590164185\n",
      "Time for epoch 197 is 18.121032238006592 sec\n",
      "Epoch: 198\n",
      "Learning rate: 0.00029786536\n"
     ]
    },
    {
     "name": "stderr",
     "output_type": "stream",
     "text": [
      "100%|██████████████████████████████████████| 2144/2144 [00:18<00:00, 118.49it/s]\n"
     ]
    },
    {
     "name": "stdout",
     "output_type": "stream",
     "text": [
      "Generator L1 Loss is 0.2506183385848999\n",
      "Time for epoch 198 is 18.095195293426514 sec\n",
      "Epoch: 199\n",
      "Learning rate: 0.00029603974\n"
     ]
    },
    {
     "name": "stderr",
     "output_type": "stream",
     "text": [
      "100%|██████████████████████████████████████| 2144/2144 [00:18<00:00, 118.75it/s]\n"
     ]
    },
    {
     "name": "stdout",
     "output_type": "stream",
     "text": [
      "Generator L1 Loss is 0.24997401237487793\n",
      "Time for epoch 199 is 18.05519390106201 sec\n",
      "Epoch: 200\n",
      "Learning rate: 0.00029422532\n"
     ]
    },
    {
     "name": "stderr",
     "output_type": "stream",
     "text": [
      "100%|██████████████████████████████████████| 2144/2144 [00:18<00:00, 118.67it/s]\n"
     ]
    },
    {
     "name": "stdout",
     "output_type": "stream",
     "text": [
      "Generator L1 Loss is 0.24946491420269012\n",
      "Time for epoch 200 is 22.003450632095337 sec\n",
      "Epoch: 201\n",
      "Learning rate: 0.00029242202\n"
     ]
    },
    {
     "name": "stderr",
     "output_type": "stream",
     "text": [
      "100%|██████████████████████████████████████| 2144/2144 [00:18<00:00, 113.20it/s]\n"
     ]
    },
    {
     "name": "stdout",
     "output_type": "stream",
     "text": [
      "Generator L1 Loss is 0.254270076751709\n",
      "Time for epoch 201 is 18.94745707511902 sec\n",
      "Epoch: 202\n",
      "Learning rate: 0.0002906297\n"
     ]
    },
    {
     "name": "stderr",
     "output_type": "stream",
     "text": [
      "100%|██████████████████████████████████████| 2144/2144 [00:18<00:00, 113.46it/s]\n"
     ]
    },
    {
     "name": "stdout",
     "output_type": "stream",
     "text": [
      "Generator L1 Loss is 0.2535456418991089\n",
      "Time for epoch 202 is 18.898198127746582 sec\n",
      "Epoch: 203\n",
      "Learning rate: 0.00028884842\n"
     ]
    },
    {
     "name": "stderr",
     "output_type": "stream",
     "text": [
      "100%|██████████████████████████████████████| 2144/2144 [00:18<00:00, 114.57it/s]\n"
     ]
    },
    {
     "name": "stdout",
     "output_type": "stream",
     "text": [
      "Generator L1 Loss is 0.25422796607017517\n",
      "Time for epoch 203 is 18.71418285369873 sec\n",
      "Epoch: 204\n",
      "Learning rate: 0.0002870781\n"
     ]
    },
    {
     "name": "stderr",
     "output_type": "stream",
     "text": [
      "100%|██████████████████████████████████████| 2144/2144 [00:17<00:00, 119.27it/s]\n"
     ]
    },
    {
     "name": "stdout",
     "output_type": "stream",
     "text": [
      "Generator L1 Loss is 0.25331494212150574\n",
      "Time for epoch 204 is 17.976918935775757 sec\n",
      "Epoch: 205\n",
      "Learning rate: 0.00028531853\n"
     ]
    },
    {
     "name": "stderr",
     "output_type": "stream",
     "text": [
      "100%|██████████████████████████████████████| 2144/2144 [00:17<00:00, 119.32it/s]\n"
     ]
    },
    {
     "name": "stdout",
     "output_type": "stream",
     "text": [
      "Generator L1 Loss is 0.2542245388031006\n",
      "Time for epoch 205 is 17.969714879989624 sec\n",
      "Epoch: 206\n",
      "Learning rate: 0.00028356985\n"
     ]
    },
    {
     "name": "stderr",
     "output_type": "stream",
     "text": [
      "100%|██████████████████████████████████████| 2144/2144 [00:17<00:00, 119.19it/s]\n"
     ]
    },
    {
     "name": "stdout",
     "output_type": "stream",
     "text": [
      "Generator L1 Loss is 0.25811126828193665\n",
      "Time for epoch 206 is 17.98937702178955 sec\n",
      "Epoch: 207\n",
      "Learning rate: 0.00028183186\n"
     ]
    },
    {
     "name": "stderr",
     "output_type": "stream",
     "text": [
      "100%|██████████████████████████████████████| 2144/2144 [00:18<00:00, 119.06it/s]\n"
     ]
    },
    {
     "name": "stdout",
     "output_type": "stream",
     "text": [
      "Generator L1 Loss is 0.25486844778060913\n",
      "Time for epoch 207 is 18.008713483810425 sec\n",
      "Epoch: 208\n",
      "Learning rate: 0.00028010443\n"
     ]
    },
    {
     "name": "stderr",
     "output_type": "stream",
     "text": [
      "100%|██████████████████████████████████████| 2144/2144 [00:18<00:00, 119.09it/s]\n"
     ]
    },
    {
     "name": "stdout",
     "output_type": "stream",
     "text": [
      "Generator L1 Loss is 0.2581124007701874\n",
      "Time for epoch 208 is 18.003913164138794 sec\n",
      "Epoch: 209\n",
      "Learning rate: 0.00027838768\n"
     ]
    },
    {
     "name": "stderr",
     "output_type": "stream",
     "text": [
      "100%|██████████████████████████████████████| 2144/2144 [00:18<00:00, 117.93it/s]\n"
     ]
    },
    {
     "name": "stdout",
     "output_type": "stream",
     "text": [
      "Generator L1 Loss is 0.25135183334350586\n",
      "Time for epoch 209 is 18.1826114654541 sec\n",
      "Epoch: 210\n",
      "Learning rate: 0.00027668144\n"
     ]
    },
    {
     "name": "stderr",
     "output_type": "stream",
     "text": [
      "100%|██████████████████████████████████████| 2144/2144 [00:18<00:00, 113.18it/s]\n"
     ]
    },
    {
     "name": "stdout",
     "output_type": "stream",
     "text": [
      "Generator L1 Loss is 0.24809624254703522\n",
      "Time for epoch 210 is 22.992319107055664 sec\n",
      "Epoch: 211\n",
      "Learning rate: 0.00027498562\n"
     ]
    },
    {
     "name": "stderr",
     "output_type": "stream",
     "text": [
      "100%|██████████████████████████████████████| 2144/2144 [00:18<00:00, 112.87it/s]\n"
     ]
    },
    {
     "name": "stdout",
     "output_type": "stream",
     "text": [
      "Generator L1 Loss is 0.24029600620269775\n",
      "Time for epoch 211 is 19.003026247024536 sec\n",
      "Epoch: 212\n",
      "Learning rate: 0.00027330028\n"
     ]
    },
    {
     "name": "stderr",
     "output_type": "stream",
     "text": [
      "100%|██████████████████████████████████████| 2144/2144 [00:18<00:00, 116.57it/s]\n"
     ]
    },
    {
     "name": "stdout",
     "output_type": "stream",
     "text": [
      "Generator L1 Loss is 0.2346605360507965\n",
      "Time for epoch 212 is 18.393890857696533 sec\n",
      "Epoch: 213\n",
      "Learning rate: 0.00027162523\n"
     ]
    },
    {
     "name": "stderr",
     "output_type": "stream",
     "text": [
      "100%|██████████████████████████████████████| 2144/2144 [00:18<00:00, 118.75it/s]\n"
     ]
    },
    {
     "name": "stdout",
     "output_type": "stream",
     "text": [
      "Generator L1 Loss is 0.23749633133411407\n",
      "Time for epoch 213 is 18.056349754333496 sec\n",
      "Epoch: 214\n",
      "Learning rate: 0.0002699604\n"
     ]
    },
    {
     "name": "stderr",
     "output_type": "stream",
     "text": [
      "100%|██████████████████████████████████████| 2144/2144 [00:18<00:00, 118.51it/s]\n"
     ]
    },
    {
     "name": "stdout",
     "output_type": "stream",
     "text": [
      "Generator L1 Loss is 0.23734092712402344\n",
      "Time for epoch 214 is 18.0920672416687 sec\n",
      "Epoch: 215\n",
      "Learning rate: 0.00026830577\n"
     ]
    },
    {
     "name": "stderr",
     "output_type": "stream",
     "text": [
      "100%|██████████████████████████████████████| 2144/2144 [00:18<00:00, 118.47it/s]\n"
     ]
    },
    {
     "name": "stdout",
     "output_type": "stream",
     "text": [
      "Generator L1 Loss is 0.2371436506509781\n",
      "Time for epoch 215 is 18.09848642349243 sec\n",
      "Epoch: 216\n",
      "Learning rate: 0.00026666129\n"
     ]
    },
    {
     "name": "stderr",
     "output_type": "stream",
     "text": [
      "100%|██████████████████████████████████████| 2144/2144 [00:18<00:00, 118.49it/s]\n"
     ]
    },
    {
     "name": "stdout",
     "output_type": "stream",
     "text": [
      "Generator L1 Loss is 0.24090273678302765\n",
      "Time for epoch 216 is 18.095502853393555 sec\n",
      "Epoch: 217\n",
      "Learning rate: 0.00026502696\n"
     ]
    },
    {
     "name": "stderr",
     "output_type": "stream",
     "text": [
      "100%|██████████████████████████████████████| 2144/2144 [00:18<00:00, 118.58it/s]\n"
     ]
    },
    {
     "name": "stdout",
     "output_type": "stream",
     "text": [
      "Generator L1 Loss is 0.24549108743667603\n",
      "Time for epoch 217 is 18.081529140472412 sec\n",
      "Epoch: 218\n",
      "Learning rate: 0.0002634026\n"
     ]
    },
    {
     "name": "stderr",
     "output_type": "stream",
     "text": [
      "100%|██████████████████████████████████████| 2144/2144 [00:18<00:00, 118.51it/s]\n"
     ]
    },
    {
     "name": "stdout",
     "output_type": "stream",
     "text": [
      "Generator L1 Loss is 0.2478114515542984\n",
      "Time for epoch 218 is 18.092771768569946 sec\n",
      "Epoch: 219\n",
      "Learning rate: 0.0002617882\n"
     ]
    },
    {
     "name": "stderr",
     "output_type": "stream",
     "text": [
      "100%|██████████████████████████████████████| 2144/2144 [00:18<00:00, 118.58it/s]\n"
     ]
    },
    {
     "name": "stdout",
     "output_type": "stream",
     "text": [
      "Generator L1 Loss is 0.24815821647644043\n",
      "Time for epoch 219 is 18.08166217803955 sec\n",
      "Epoch: 220\n",
      "Learning rate: 0.00026018367\n"
     ]
    },
    {
     "name": "stderr",
     "output_type": "stream",
     "text": [
      "100%|██████████████████████████████████████| 2144/2144 [00:18<00:00, 118.81it/s]\n"
     ]
    },
    {
     "name": "stdout",
     "output_type": "stream",
     "text": [
      "Generator L1 Loss is 0.24389129877090454\n",
      "Time for epoch 220 is 21.97746706008911 sec\n",
      "Epoch: 221\n",
      "Learning rate: 0.000258589\n"
     ]
    },
    {
     "name": "stderr",
     "output_type": "stream",
     "text": [
      "100%|██████████████████████████████████████| 2144/2144 [00:18<00:00, 113.02it/s]\n"
     ]
    },
    {
     "name": "stdout",
     "output_type": "stream",
     "text": [
      "Generator L1 Loss is 0.24792052805423737\n",
      "Time for epoch 221 is 18.977405309677124 sec\n",
      "Epoch: 222\n",
      "Learning rate: 0.00025700405\n"
     ]
    },
    {
     "name": "stderr",
     "output_type": "stream",
     "text": [
      "100%|██████████████████████████████████████| 2144/2144 [00:18<00:00, 113.12it/s]\n"
     ]
    },
    {
     "name": "stdout",
     "output_type": "stream",
     "text": [
      "Generator L1 Loss is 0.245335653424263\n",
      "Time for epoch 222 is 18.955981492996216 sec\n",
      "Epoch: 223\n",
      "Learning rate: 0.00025542892\n"
     ]
    },
    {
     "name": "stderr",
     "output_type": "stream",
     "text": [
      "100%|██████████████████████████████████████| 2144/2144 [00:18<00:00, 113.25it/s]\n"
     ]
    },
    {
     "name": "stdout",
     "output_type": "stream",
     "text": [
      "Generator L1 Loss is 0.24281646311283112\n",
      "Time for epoch 223 is 18.934040784835815 sec\n",
      "Epoch: 224\n",
      "Learning rate: 0.00025386337\n"
     ]
    },
    {
     "name": "stderr",
     "output_type": "stream",
     "text": [
      "100%|██████████████████████████████████████| 2144/2144 [00:18<00:00, 112.95it/s]\n"
     ]
    },
    {
     "name": "stdout",
     "output_type": "stream",
     "text": [
      "Generator L1 Loss is 0.24372100830078125\n",
      "Time for epoch 224 is 18.984448671340942 sec\n",
      "Epoch: 225\n",
      "Learning rate: 0.00025230745\n"
     ]
    },
    {
     "name": "stderr",
     "output_type": "stream",
     "text": [
      "100%|██████████████████████████████████████| 2144/2144 [00:18<00:00, 112.92it/s]\n"
     ]
    },
    {
     "name": "stdout",
     "output_type": "stream",
     "text": [
      "Generator L1 Loss is 0.2420407235622406\n",
      "Time for epoch 225 is 18.988319873809814 sec\n",
      "Epoch: 226\n",
      "Learning rate: 0.00025076105\n"
     ]
    },
    {
     "name": "stderr",
     "output_type": "stream",
     "text": [
      "100%|██████████████████████████████████████| 2144/2144 [00:18<00:00, 117.76it/s]\n"
     ]
    },
    {
     "name": "stdout",
     "output_type": "stream",
     "text": [
      "Generator L1 Loss is 0.24291320145130157\n",
      "Time for epoch 226 is 18.207618951797485 sec\n",
      "Epoch: 227\n",
      "Learning rate: 0.00024922407\n"
     ]
    },
    {
     "name": "stderr",
     "output_type": "stream",
     "text": [
      "100%|██████████████████████████████████████| 2144/2144 [00:18<00:00, 118.46it/s]\n"
     ]
    },
    {
     "name": "stdout",
     "output_type": "stream",
     "text": [
      "Generator L1 Loss is 0.24186544120311737\n",
      "Time for epoch 227 is 18.10070514678955 sec\n",
      "Epoch: 228\n",
      "Learning rate: 0.0002476966\n"
     ]
    },
    {
     "name": "stderr",
     "output_type": "stream",
     "text": [
      "100%|██████████████████████████████████████| 2144/2144 [00:18<00:00, 118.59it/s]\n"
     ]
    },
    {
     "name": "stdout",
     "output_type": "stream",
     "text": [
      "Generator L1 Loss is 0.24079778790473938\n",
      "Time for epoch 228 is 18.081525087356567 sec\n",
      "Epoch: 229\n",
      "Learning rate: 0.00024617845\n"
     ]
    },
    {
     "name": "stderr",
     "output_type": "stream",
     "text": [
      "100%|██████████████████████████████████████| 2144/2144 [00:18<00:00, 118.57it/s]\n"
     ]
    },
    {
     "name": "stdout",
     "output_type": "stream",
     "text": [
      "Generator L1 Loss is 0.24556493759155273\n",
      "Time for epoch 229 is 18.0831081867218 sec\n",
      "Epoch: 230\n",
      "Learning rate: 0.00024466962\n"
     ]
    },
    {
     "name": "stderr",
     "output_type": "stream",
     "text": [
      "100%|██████████████████████████████████████| 2144/2144 [00:18<00:00, 118.67it/s]\n"
     ]
    },
    {
     "name": "stdout",
     "output_type": "stream",
     "text": [
      "Generator L1 Loss is 0.24712859094142914\n",
      "Time for epoch 230 is 21.988322734832764 sec\n",
      "Epoch: 231\n",
      "Learning rate: 0.00024317004\n"
     ]
    },
    {
     "name": "stderr",
     "output_type": "stream",
     "text": [
      "100%|██████████████████████████████████████| 2144/2144 [00:18<00:00, 118.62it/s]\n"
     ]
    },
    {
     "name": "stdout",
     "output_type": "stream",
     "text": [
      "Generator L1 Loss is 0.2510834038257599\n",
      "Time for epoch 231 is 18.076784133911133 sec\n",
      "Epoch: 232\n",
      "Learning rate: 0.00024167963\n"
     ]
    },
    {
     "name": "stderr",
     "output_type": "stream",
     "text": [
      "100%|██████████████████████████████████████| 2144/2144 [00:18<00:00, 118.63it/s]\n"
     ]
    },
    {
     "name": "stdout",
     "output_type": "stream",
     "text": [
      "Generator L1 Loss is 0.25056299567222595\n",
      "Time for epoch 232 is 18.074076414108276 sec\n",
      "Epoch: 233\n",
      "Learning rate: 0.00024019834\n"
     ]
    },
    {
     "name": "stderr",
     "output_type": "stream",
     "text": [
      "100%|██████████████████████████████████████| 2144/2144 [00:18<00:00, 118.78it/s]\n"
     ]
    },
    {
     "name": "stdout",
     "output_type": "stream",
     "text": [
      "Generator L1 Loss is 0.2519865930080414\n",
      "Time for epoch 233 is 18.052076816558838 sec\n",
      "Epoch: 234\n",
      "Learning rate: 0.00023872616\n"
     ]
    },
    {
     "name": "stderr",
     "output_type": "stream",
     "text": [
      "100%|██████████████████████████████████████| 2144/2144 [00:18<00:00, 118.01it/s]\n"
     ]
    },
    {
     "name": "stdout",
     "output_type": "stream",
     "text": [
      "Generator L1 Loss is 0.24912606179714203\n",
      "Time for epoch 234 is 18.17003107070923 sec\n",
      "Epoch: 235\n",
      "Learning rate: 0.00023726301\n"
     ]
    },
    {
     "name": "stderr",
     "output_type": "stream",
     "text": [
      "100%|██████████████████████████████████████| 2144/2144 [00:18<00:00, 113.09it/s]\n"
     ]
    },
    {
     "name": "stdout",
     "output_type": "stream",
     "text": [
      "Generator L1 Loss is 0.24367910623550415\n",
      "Time for epoch 235 is 18.960038423538208 sec\n",
      "Epoch: 236\n",
      "Learning rate: 0.00023580882\n"
     ]
    },
    {
     "name": "stderr",
     "output_type": "stream",
     "text": [
      "100%|██████████████████████████████████████| 2144/2144 [00:18<00:00, 113.29it/s]\n"
     ]
    },
    {
     "name": "stdout",
     "output_type": "stream",
     "text": [
      "Generator L1 Loss is 0.24731801450252533\n",
      "Time for epoch 236 is 18.927727699279785 sec\n",
      "Epoch: 237\n",
      "Learning rate: 0.00023436356\n"
     ]
    },
    {
     "name": "stderr",
     "output_type": "stream",
     "text": [
      "100%|██████████████████████████████████████| 2144/2144 [00:19<00:00, 112.81it/s]\n"
     ]
    },
    {
     "name": "stdout",
     "output_type": "stream",
     "text": [
      "Generator L1 Loss is 0.24675756692886353\n",
      "Time for epoch 237 is 19.008318662643433 sec\n",
      "Epoch: 238\n",
      "Learning rate: 0.00023292711\n"
     ]
    },
    {
     "name": "stderr",
     "output_type": "stream",
     "text": [
      "100%|██████████████████████████████████████| 2144/2144 [00:18<00:00, 113.11it/s]\n"
     ]
    },
    {
     "name": "stdout",
     "output_type": "stream",
     "text": [
      "Generator L1 Loss is 0.24623267352581024\n",
      "Time for epoch 238 is 18.95734930038452 sec\n",
      "Epoch: 239\n",
      "Learning rate: 0.00023149946\n"
     ]
    },
    {
     "name": "stderr",
     "output_type": "stream",
     "text": [
      "100%|██████████████████████████████████████| 2144/2144 [00:18<00:00, 113.17it/s]\n"
     ]
    },
    {
     "name": "stdout",
     "output_type": "stream",
     "text": [
      "Generator L1 Loss is 0.24254383146762848\n",
      "Time for epoch 239 is 18.94684648513794 sec\n",
      "Epoch: 240\n",
      "Learning rate: 0.00023008062\n"
     ]
    },
    {
     "name": "stderr",
     "output_type": "stream",
     "text": [
      "100%|██████████████████████████████████████| 2144/2144 [00:18<00:00, 113.11it/s]\n"
     ]
    },
    {
     "name": "stdout",
     "output_type": "stream",
     "text": [
      "Generator L1 Loss is 0.2410486936569214\n",
      "Time for epoch 240 is 23.001927614212036 sec\n",
      "Epoch: 241\n",
      "Learning rate: 0.00022867045\n"
     ]
    },
    {
     "name": "stderr",
     "output_type": "stream",
     "text": [
      "100%|██████████████████████████████████████| 2144/2144 [00:18<00:00, 113.02it/s]\n"
     ]
    },
    {
     "name": "stdout",
     "output_type": "stream",
     "text": [
      "Generator L1 Loss is 0.24077241122722626\n",
      "Time for epoch 241 is 18.976642608642578 sec\n",
      "Epoch: 242\n",
      "Learning rate: 0.00022726892\n"
     ]
    },
    {
     "name": "stderr",
     "output_type": "stream",
     "text": [
      "100%|██████████████████████████████████████| 2144/2144 [00:18<00:00, 113.04it/s]\n"
     ]
    },
    {
     "name": "stdout",
     "output_type": "stream",
     "text": [
      "Generator L1 Loss is 0.24481935799121857\n",
      "Time for epoch 242 is 18.967628955841064 sec\n",
      "Epoch: 243\n",
      "Learning rate: 0.00022587598\n"
     ]
    },
    {
     "name": "stderr",
     "output_type": "stream",
     "text": [
      "100%|██████████████████████████████████████| 2144/2144 [00:18<00:00, 113.15it/s]\n"
     ]
    },
    {
     "name": "stdout",
     "output_type": "stream",
     "text": [
      "Generator L1 Loss is 0.2539181411266327\n",
      "Time for epoch 243 is 18.949677228927612 sec\n",
      "Epoch: 244\n",
      "Learning rate: 0.00022449158\n"
     ]
    },
    {
     "name": "stderr",
     "output_type": "stream",
     "text": [
      "100%|██████████████████████████████████████| 2144/2144 [00:18<00:00, 114.25it/s]\n"
     ]
    },
    {
     "name": "stdout",
     "output_type": "stream",
     "text": [
      "Generator L1 Loss is 0.24837656319141388\n",
      "Time for epoch 244 is 18.767370223999023 sec\n",
      "Epoch: 245\n",
      "Learning rate: 0.00022311565\n"
     ]
    },
    {
     "name": "stderr",
     "output_type": "stream",
     "text": [
      "100%|██████████████████████████████████████| 2144/2144 [00:18<00:00, 118.93it/s]\n"
     ]
    },
    {
     "name": "stdout",
     "output_type": "stream",
     "text": [
      "Generator L1 Loss is 0.24729225039482117\n",
      "Time for epoch 245 is 18.029056549072266 sec\n",
      "Epoch: 246\n",
      "Learning rate: 0.00022174815\n"
     ]
    },
    {
     "name": "stderr",
     "output_type": "stream",
     "text": [
      "100%|██████████████████████████████████████| 2144/2144 [00:18<00:00, 119.06it/s]\n"
     ]
    },
    {
     "name": "stdout",
     "output_type": "stream",
     "text": [
      "Generator L1 Loss is 0.24051134288311005\n",
      "Time for epoch 246 is 18.00899052619934 sec\n",
      "Epoch: 247\n",
      "Learning rate: 0.00022038908\n"
     ]
    },
    {
     "name": "stderr",
     "output_type": "stream",
     "text": [
      "100%|██████████████████████████████████████| 2144/2144 [00:18<00:00, 119.04it/s]\n"
     ]
    },
    {
     "name": "stdout",
     "output_type": "stream",
     "text": [
      "Generator L1 Loss is 0.24233724176883698\n",
      "Time for epoch 247 is 18.012526512145996 sec\n",
      "Epoch: 248\n",
      "Learning rate: 0.00021903831\n"
     ]
    },
    {
     "name": "stderr",
     "output_type": "stream",
     "text": [
      "100%|██████████████████████████████████████| 2144/2144 [00:18<00:00, 118.85it/s]\n"
     ]
    },
    {
     "name": "stdout",
     "output_type": "stream",
     "text": [
      "Generator L1 Loss is 0.24579350650310516\n",
      "Time for epoch 248 is 18.04058289527893 sec\n",
      "Epoch: 249\n",
      "Learning rate: 0.0002176958\n"
     ]
    },
    {
     "name": "stderr",
     "output_type": "stream",
     "text": [
      "100%|██████████████████████████████████████| 2144/2144 [00:18<00:00, 118.76it/s]\n"
     ]
    },
    {
     "name": "stdout",
     "output_type": "stream",
     "text": [
      "Generator L1 Loss is 0.24150708317756653\n",
      "Time for epoch 249 is 18.05508589744568 sec\n",
      "Epoch: 250\n",
      "Learning rate: 0.00021636153\n"
     ]
    },
    {
     "name": "stderr",
     "output_type": "stream",
     "text": [
      "100%|██████████████████████████████████████| 2144/2144 [00:18<00:00, 113.67it/s]\n"
     ]
    },
    {
     "name": "stdout",
     "output_type": "stream",
     "text": [
      "Generator L1 Loss is 0.24134866893291473\n",
      "Time for epoch 250 is 22.905619621276855 sec\n",
      "Epoch: 251\n",
      "Learning rate: 0.00021503543\n"
     ]
    },
    {
     "name": "stderr",
     "output_type": "stream",
     "text": [
      "100%|██████████████████████████████████████| 2144/2144 [00:18<00:00, 119.01it/s]\n"
     ]
    },
    {
     "name": "stdout",
     "output_type": "stream",
     "text": [
      "Generator L1 Loss is 0.2377033829689026\n",
      "Time for epoch 251 is 18.02158761024475 sec\n",
      "Epoch: 252\n",
      "Learning rate: 0.00021371747\n"
     ]
    },
    {
     "name": "stderr",
     "output_type": "stream",
     "text": [
      "100%|██████████████████████████████████████| 2144/2144 [00:17<00:00, 119.26it/s]\n"
     ]
    },
    {
     "name": "stdout",
     "output_type": "stream",
     "text": [
      "Generator L1 Loss is 0.23476210236549377\n",
      "Time for epoch 252 is 17.978569507598877 sec\n",
      "Epoch: 253\n",
      "Learning rate: 0.0002124076\n"
     ]
    },
    {
     "name": "stderr",
     "output_type": "stream",
     "text": [
      "100%|██████████████████████████████████████| 2144/2144 [00:17<00:00, 119.39it/s]\n"
     ]
    },
    {
     "name": "stdout",
     "output_type": "stream",
     "text": [
      "Generator L1 Loss is 0.23697417974472046\n",
      "Time for epoch 253 is 17.95909309387207 sec\n",
      "Epoch: 254\n",
      "Learning rate: 0.00021110574\n"
     ]
    },
    {
     "name": "stderr",
     "output_type": "stream",
     "text": [
      "100%|██████████████████████████████████████| 2144/2144 [00:17<00:00, 119.11it/s]\n"
     ]
    },
    {
     "name": "stdout",
     "output_type": "stream",
     "text": [
      "Generator L1 Loss is 0.23702919483184814\n",
      "Time for epoch 254 is 18.00074005126953 sec\n",
      "Epoch: 255\n",
      "Learning rate: 0.00020981186\n"
     ]
    },
    {
     "name": "stderr",
     "output_type": "stream",
     "text": [
      "100%|██████████████████████████████████████| 2144/2144 [00:18<00:00, 114.55it/s]\n"
     ]
    },
    {
     "name": "stdout",
     "output_type": "stream",
     "text": [
      "Generator L1 Loss is 0.236578568816185\n",
      "Time for epoch 255 is 18.71892523765564 sec\n",
      "Epoch: 256\n",
      "Learning rate: 0.00020852592\n"
     ]
    },
    {
     "name": "stderr",
     "output_type": "stream",
     "text": [
      "100%|██████████████████████████████████████| 2144/2144 [00:18<00:00, 112.99it/s]\n"
     ]
    },
    {
     "name": "stdout",
     "output_type": "stream",
     "text": [
      "Generator L1 Loss is 0.23864080011844635\n",
      "Time for epoch 256 is 18.97685146331787 sec\n",
      "Epoch: 257\n",
      "Learning rate: 0.00020724785\n"
     ]
    },
    {
     "name": "stderr",
     "output_type": "stream",
     "text": [
      "100%|██████████████████████████████████████| 2144/2144 [00:19<00:00, 112.79it/s]\n"
     ]
    },
    {
     "name": "stdout",
     "output_type": "stream",
     "text": [
      "Generator L1 Loss is 0.2366824448108673\n",
      "Time for epoch 257 is 19.011022567749023 sec\n",
      "Epoch: 258\n",
      "Learning rate: 0.00020597763\n"
     ]
    },
    {
     "name": "stderr",
     "output_type": "stream",
     "text": [
      "100%|██████████████████████████████████████| 2144/2144 [00:18<00:00, 113.24it/s]\n"
     ]
    },
    {
     "name": "stdout",
     "output_type": "stream",
     "text": [
      "Generator L1 Loss is 0.2302156537771225\n",
      "Time for epoch 258 is 18.93459177017212 sec\n",
      "Epoch: 259\n",
      "Learning rate: 0.00020471518\n"
     ]
    },
    {
     "name": "stderr",
     "output_type": "stream",
     "text": [
      "100%|██████████████████████████████████████| 2144/2144 [00:18<00:00, 113.11it/s]\n"
     ]
    },
    {
     "name": "stdout",
     "output_type": "stream",
     "text": [
      "Generator L1 Loss is 0.2240052968263626\n",
      "Time for epoch 259 is 18.957331895828247 sec\n",
      "Epoch: 260\n",
      "Learning rate: 0.00020346047\n"
     ]
    },
    {
     "name": "stderr",
     "output_type": "stream",
     "text": [
      "100%|██████████████████████████████████████| 2144/2144 [00:18<00:00, 113.15it/s]\n"
     ]
    },
    {
     "name": "stdout",
     "output_type": "stream",
     "text": [
      "Generator L1 Loss is 0.2251497507095337\n",
      "Time for epoch 260 is 22.99242854118347 sec\n",
      "Epoch: 261\n",
      "Learning rate: 0.00020221346\n"
     ]
    },
    {
     "name": "stderr",
     "output_type": "stream",
     "text": [
      "100%|██████████████████████████████████████| 2144/2144 [00:18<00:00, 113.42it/s]\n"
     ]
    },
    {
     "name": "stdout",
     "output_type": "stream",
     "text": [
      "Generator L1 Loss is 0.22532916069030762\n",
      "Time for epoch 261 is 18.909912109375 sec\n",
      "Epoch: 262\n",
      "Learning rate: 0.00020097407\n"
     ]
    },
    {
     "name": "stderr",
     "output_type": "stream",
     "text": [
      "100%|██████████████████████████████████████| 2144/2144 [00:18<00:00, 112.99it/s]\n"
     ]
    },
    {
     "name": "stdout",
     "output_type": "stream",
     "text": [
      "Generator L1 Loss is 0.22516752779483795\n",
      "Time for epoch 262 is 18.97663640975952 sec\n",
      "Epoch: 263\n",
      "Learning rate: 0.00019974228\n"
     ]
    },
    {
     "name": "stderr",
     "output_type": "stream",
     "text": [
      "100%|██████████████████████████████████████| 2144/2144 [00:19<00:00, 112.67it/s]\n"
     ]
    },
    {
     "name": "stdout",
     "output_type": "stream",
     "text": [
      "Generator L1 Loss is 0.2291470468044281\n",
      "Time for epoch 263 is 19.03177547454834 sec\n",
      "Epoch: 264\n",
      "Learning rate: 0.00019851807\n"
     ]
    },
    {
     "name": "stderr",
     "output_type": "stream",
     "text": [
      "100%|██████████████████████████████████████| 2144/2144 [00:19<00:00, 112.77it/s]\n"
     ]
    },
    {
     "name": "stdout",
     "output_type": "stream",
     "text": [
      "Generator L1 Loss is 0.2271318882703781\n",
      "Time for epoch 264 is 19.014541387557983 sec\n",
      "Epoch: 265\n",
      "Learning rate: 0.00019730136\n"
     ]
    },
    {
     "name": "stderr",
     "output_type": "stream",
     "text": [
      "100%|██████████████████████████████████████| 2144/2144 [00:18<00:00, 112.91it/s]\n"
     ]
    },
    {
     "name": "stdout",
     "output_type": "stream",
     "text": [
      "Generator L1 Loss is 0.22677850723266602\n",
      "Time for epoch 265 is 18.990950107574463 sec\n",
      "Epoch: 266\n",
      "Learning rate: 0.00019609206\n"
     ]
    },
    {
     "name": "stderr",
     "output_type": "stream",
     "text": [
      "100%|██████████████████████████████████████| 2144/2144 [00:18<00:00, 113.03it/s]\n"
     ]
    },
    {
     "name": "stdout",
     "output_type": "stream",
     "text": [
      "Generator L1 Loss is 0.22419483959674835\n",
      "Time for epoch 266 is 18.970154285430908 sec\n",
      "Epoch: 267\n",
      "Learning rate: 0.00019489022\n"
     ]
    },
    {
     "name": "stderr",
     "output_type": "stream",
     "text": [
      "100%|██████████████████████████████████████| 2144/2144 [00:18<00:00, 113.09it/s]\n"
     ]
    },
    {
     "name": "stdout",
     "output_type": "stream",
     "text": [
      "Generator L1 Loss is 0.22893306612968445\n",
      "Time for epoch 267 is 18.959460735321045 sec\n",
      "Epoch: 268\n",
      "Learning rate: 0.00019369573\n"
     ]
    },
    {
     "name": "stderr",
     "output_type": "stream",
     "text": [
      "100%|██████████████████████████████████████| 2144/2144 [00:18<00:00, 118.76it/s]\n"
     ]
    },
    {
     "name": "stdout",
     "output_type": "stream",
     "text": [
      "Generator L1 Loss is 0.2269737422466278\n",
      "Time for epoch 268 is 18.05527424812317 sec\n",
      "Epoch: 269\n",
      "Learning rate: 0.00019250854\n"
     ]
    },
    {
     "name": "stderr",
     "output_type": "stream",
     "text": [
      "100%|██████████████████████████████████████| 2144/2144 [00:18<00:00, 118.88it/s]\n"
     ]
    },
    {
     "name": "stdout",
     "output_type": "stream",
     "text": [
      "Generator L1 Loss is 0.22847703099250793\n",
      "Time for epoch 269 is 18.037158250808716 sec\n",
      "Epoch: 270\n",
      "Learning rate: 0.00019132865\n"
     ]
    },
    {
     "name": "stderr",
     "output_type": "stream",
     "text": [
      "100%|██████████████████████████████████████| 2144/2144 [00:18<00:00, 118.96it/s]\n"
     ]
    },
    {
     "name": "stdout",
     "output_type": "stream",
     "text": [
      "Generator L1 Loss is 0.22474774718284607\n",
      "Time for epoch 270 is 21.956701278686523 sec\n",
      "Epoch: 271\n",
      "Learning rate: 0.000190156\n"
     ]
    },
    {
     "name": "stderr",
     "output_type": "stream",
     "text": [
      "100%|██████████████████████████████████████| 2144/2144 [00:18<00:00, 118.80it/s]\n"
     ]
    },
    {
     "name": "stdout",
     "output_type": "stream",
     "text": [
      "Generator L1 Loss is 0.22689351439476013\n",
      "Time for epoch 271 is 18.053083896636963 sec\n",
      "Epoch: 272\n",
      "Learning rate: 0.00018899053\n"
     ]
    },
    {
     "name": "stderr",
     "output_type": "stream",
     "text": [
      "100%|██████████████████████████████████████| 2144/2144 [00:18<00:00, 117.91it/s]\n"
     ]
    },
    {
     "name": "stdout",
     "output_type": "stream",
     "text": [
      "Generator L1 Loss is 0.22423644363880157\n",
      "Time for epoch 272 is 18.184349298477173 sec\n",
      "Epoch: 273\n",
      "Learning rate: 0.00018783221\n"
     ]
    },
    {
     "name": "stderr",
     "output_type": "stream",
     "text": [
      "100%|██████████████████████████████████████| 2144/2144 [00:18<00:00, 113.20it/s]\n"
     ]
    },
    {
     "name": "stdout",
     "output_type": "stream",
     "text": [
      "Generator L1 Loss is 0.22730830311775208\n",
      "Time for epoch 273 is 18.941309213638306 sec\n",
      "Epoch: 274\n",
      "Learning rate: 0.00018668096\n"
     ]
    },
    {
     "name": "stderr",
     "output_type": "stream",
     "text": [
      "100%|██████████████████████████████████████| 2144/2144 [00:18<00:00, 113.09it/s]\n"
     ]
    },
    {
     "name": "stdout",
     "output_type": "stream",
     "text": [
      "Generator L1 Loss is 0.227017343044281\n",
      "Time for epoch 274 is 18.960860013961792 sec\n",
      "Epoch: 275\n",
      "Learning rate: 0.0001855368\n"
     ]
    },
    {
     "name": "stderr",
     "output_type": "stream",
     "text": [
      "100%|██████████████████████████████████████| 2144/2144 [00:18<00:00, 115.82it/s]\n"
     ]
    },
    {
     "name": "stdout",
     "output_type": "stream",
     "text": [
      "Generator L1 Loss is 0.22718922793865204\n",
      "Time for epoch 275 is 18.513237953186035 sec\n",
      "Epoch: 276\n",
      "Learning rate: 0.00018439963\n"
     ]
    },
    {
     "name": "stderr",
     "output_type": "stream",
     "text": [
      "100%|██████████████████████████████████████| 2144/2144 [00:18<00:00, 118.46it/s]\n"
     ]
    },
    {
     "name": "stdout",
     "output_type": "stream",
     "text": [
      "Generator L1 Loss is 0.2270670086145401\n",
      "Time for epoch 276 is 18.100722789764404 sec\n",
      "Epoch: 277\n",
      "Learning rate: 0.00018326944\n"
     ]
    },
    {
     "name": "stderr",
     "output_type": "stream",
     "text": [
      "100%|██████████████████████████████████████| 2144/2144 [00:18<00:00, 118.64it/s]\n"
     ]
    },
    {
     "name": "stdout",
     "output_type": "stream",
     "text": [
      "Generator L1 Loss is 0.22970402240753174\n",
      "Time for epoch 277 is 18.073193788528442 sec\n",
      "Epoch: 278\n",
      "Learning rate: 0.00018214618\n"
     ]
    },
    {
     "name": "stderr",
     "output_type": "stream",
     "text": [
      "100%|██████████████████████████████████████| 2144/2144 [00:17<00:00, 119.17it/s]\n"
     ]
    },
    {
     "name": "stdout",
     "output_type": "stream",
     "text": [
      "Generator L1 Loss is 0.22618699073791504\n",
      "Time for epoch 278 is 17.992741584777832 sec\n",
      "Epoch: 279\n",
      "Learning rate: 0.00018102977\n"
     ]
    },
    {
     "name": "stderr",
     "output_type": "stream",
     "text": [
      "100%|██████████████████████████████████████| 2144/2144 [00:17<00:00, 119.14it/s]\n"
     ]
    },
    {
     "name": "stdout",
     "output_type": "stream",
     "text": [
      "Generator L1 Loss is 0.2253589779138565\n",
      "Time for epoch 279 is 17.997293710708618 sec\n",
      "Epoch: 280\n",
      "Learning rate: 0.00017992024\n"
     ]
    },
    {
     "name": "stderr",
     "output_type": "stream",
     "text": [
      "100%|██████████████████████████████████████| 2144/2144 [00:18<00:00, 118.88it/s]\n"
     ]
    },
    {
     "name": "stdout",
     "output_type": "stream",
     "text": [
      "Generator L1 Loss is 0.22672942280769348\n",
      "Time for epoch 280 is 21.966333866119385 sec\n",
      "Epoch: 281\n",
      "Learning rate: 0.00017881751\n"
     ]
    },
    {
     "name": "stderr",
     "output_type": "stream",
     "text": [
      "100%|██████████████████████████████████████| 2144/2144 [00:18<00:00, 118.54it/s]\n"
     ]
    },
    {
     "name": "stdout",
     "output_type": "stream",
     "text": [
      "Generator L1 Loss is 0.2256329506635666\n",
      "Time for epoch 281 is 18.09327244758606 sec\n",
      "Epoch: 282\n",
      "Learning rate: 0.00017772154\n"
     ]
    },
    {
     "name": "stderr",
     "output_type": "stream",
     "text": [
      "100%|██████████████████████████████████████| 2144/2144 [00:18<00:00, 118.82it/s]\n"
     ]
    },
    {
     "name": "stdout",
     "output_type": "stream",
     "text": [
      "Generator L1 Loss is 0.22394493222236633\n",
      "Time for epoch 282 is 18.04649043083191 sec\n",
      "Epoch: 283\n",
      "Learning rate: 0.00017663227\n"
     ]
    },
    {
     "name": "stderr",
     "output_type": "stream",
     "text": [
      "100%|██████████████████████████████████████| 2144/2144 [00:18<00:00, 118.75it/s]\n"
     ]
    },
    {
     "name": "stdout",
     "output_type": "stream",
     "text": [
      "Generator L1 Loss is 0.22550050914287567\n",
      "Time for epoch 283 is 18.056720733642578 sec\n",
      "Epoch: 284\n",
      "Learning rate: 0.00017554968\n"
     ]
    },
    {
     "name": "stderr",
     "output_type": "stream",
     "text": [
      "100%|██████████████████████████████████████| 2144/2144 [00:18<00:00, 118.88it/s]\n"
     ]
    },
    {
     "name": "stdout",
     "output_type": "stream",
     "text": [
      "Generator L1 Loss is 0.2277323454618454\n",
      "Time for epoch 284 is 18.036906480789185 sec\n",
      "Epoch: 285\n",
      "Learning rate: 0.00017447371\n"
     ]
    },
    {
     "name": "stderr",
     "output_type": "stream",
     "text": [
      "100%|██████████████████████████████████████| 2144/2144 [00:18<00:00, 113.63it/s]\n"
     ]
    },
    {
     "name": "stdout",
     "output_type": "stream",
     "text": [
      "Generator L1 Loss is 0.2235115021467209\n",
      "Time for epoch 285 is 18.87062096595764 sec\n",
      "Epoch: 286\n",
      "Learning rate: 0.00017340439\n"
     ]
    },
    {
     "name": "stderr",
     "output_type": "stream",
     "text": [
      "100%|██████████████████████████████████████| 2144/2144 [00:18<00:00, 113.07it/s]\n"
     ]
    },
    {
     "name": "stdout",
     "output_type": "stream",
     "text": [
      "Generator L1 Loss is 0.2226608842611313\n",
      "Time for epoch 286 is 18.96306347846985 sec\n",
      "Epoch: 287\n",
      "Learning rate: 0.00017234156\n"
     ]
    },
    {
     "name": "stderr",
     "output_type": "stream",
     "text": [
      "100%|██████████████████████████████████████| 2144/2144 [00:18<00:00, 114.41it/s]\n"
     ]
    },
    {
     "name": "stdout",
     "output_type": "stream",
     "text": [
      "Generator L1 Loss is 0.2206348329782486\n",
      "Time for epoch 287 is 18.740487337112427 sec\n",
      "Epoch: 288\n",
      "Learning rate: 0.00017128527\n"
     ]
    },
    {
     "name": "stderr",
     "output_type": "stream",
     "text": [
      "100%|██████████████████████████████████████| 2144/2144 [00:18<00:00, 118.57it/s]\n"
     ]
    },
    {
     "name": "stdout",
     "output_type": "stream",
     "text": [
      "Generator L1 Loss is 0.21853384375572205\n",
      "Time for epoch 288 is 18.08401584625244 sec\n",
      "Epoch: 289\n",
      "Learning rate: 0.00017023546\n"
     ]
    },
    {
     "name": "stderr",
     "output_type": "stream",
     "text": [
      "100%|██████████████████████████████████████| 2144/2144 [00:18<00:00, 118.56it/s]\n"
     ]
    },
    {
     "name": "stdout",
     "output_type": "stream",
     "text": [
      "Generator L1 Loss is 0.21841035783290863\n",
      "Time for epoch 289 is 18.085357427597046 sec\n",
      "Epoch: 290\n",
      "Learning rate: 0.00016919208\n"
     ]
    },
    {
     "name": "stderr",
     "output_type": "stream",
     "text": [
      "100%|██████████████████████████████████████| 2144/2144 [00:18<00:00, 118.34it/s]\n"
     ]
    },
    {
     "name": "stdout",
     "output_type": "stream",
     "text": [
      "Generator L1 Loss is 0.21348948776721954\n",
      "Time for epoch 290 is 22.048407554626465 sec\n",
      "Epoch: 291\n",
      "Learning rate: 0.00016815511\n"
     ]
    },
    {
     "name": "stderr",
     "output_type": "stream",
     "text": [
      "100%|██████████████████████████████████████| 2144/2144 [00:18<00:00, 118.37it/s]\n"
     ]
    },
    {
     "name": "stdout",
     "output_type": "stream",
     "text": [
      "Generator L1 Loss is 0.21096906065940857\n",
      "Time for epoch 291 is 18.11818218231201 sec\n",
      "Epoch: 292\n",
      "Learning rate: 0.00016712448\n"
     ]
    },
    {
     "name": "stderr",
     "output_type": "stream",
     "text": [
      "100%|██████████████████████████████████████| 2144/2144 [00:18<00:00, 118.47it/s]\n"
     ]
    },
    {
     "name": "stdout",
     "output_type": "stream",
     "text": [
      "Generator L1 Loss is 0.21225808560848236\n",
      "Time for epoch 292 is 18.099040746688843 sec\n",
      "Epoch: 293\n",
      "Learning rate: 0.00016610014\n"
     ]
    },
    {
     "name": "stderr",
     "output_type": "stream",
     "text": [
      "100%|██████████████████████████████████████| 2144/2144 [00:18<00:00, 118.27it/s]\n"
     ]
    },
    {
     "name": "stdout",
     "output_type": "stream",
     "text": [
      "Generator L1 Loss is 0.21213895082473755\n",
      "Time for epoch 293 is 18.129958868026733 sec\n",
      "Epoch: 294\n",
      "Learning rate: 0.00016508212\n"
     ]
    },
    {
     "name": "stderr",
     "output_type": "stream",
     "text": [
      "100%|██████████████████████████████████████| 2144/2144 [00:18<00:00, 118.63it/s]\n"
     ]
    },
    {
     "name": "stdout",
     "output_type": "stream",
     "text": [
      "Generator L1 Loss is 0.21077270805835724\n",
      "Time for epoch 294 is 18.07523822784424 sec\n",
      "Epoch: 295\n",
      "Learning rate: 0.00016407031\n"
     ]
    },
    {
     "name": "stderr",
     "output_type": "stream",
     "text": [
      "100%|██████████████████████████████████████| 2144/2144 [00:18<00:00, 118.52it/s]\n"
     ]
    },
    {
     "name": "stdout",
     "output_type": "stream",
     "text": [
      "Generator L1 Loss is 0.21103160083293915\n",
      "Time for epoch 295 is 18.09210228919983 sec\n",
      "Epoch: 296\n",
      "Learning rate: 0.00016306473\n"
     ]
    },
    {
     "name": "stderr",
     "output_type": "stream",
     "text": [
      "100%|██████████████████████████████████████| 2144/2144 [00:18<00:00, 118.61it/s]\n"
     ]
    },
    {
     "name": "stdout",
     "output_type": "stream",
     "text": [
      "Generator L1 Loss is 0.20967364311218262\n",
      "Time for epoch 296 is 18.077661991119385 sec\n",
      "Epoch: 297\n",
      "Learning rate: 0.00016206529\n"
     ]
    },
    {
     "name": "stderr",
     "output_type": "stream",
     "text": [
      "100%|██████████████████████████████████████| 2144/2144 [00:18<00:00, 118.55it/s]\n"
     ]
    },
    {
     "name": "stdout",
     "output_type": "stream",
     "text": [
      "Generator L1 Loss is 0.20537036657333374\n",
      "Time for epoch 297 is 18.087712049484253 sec\n",
      "Epoch: 298\n",
      "Learning rate: 0.000161072\n"
     ]
    },
    {
     "name": "stderr",
     "output_type": "stream",
     "text": [
      "100%|██████████████████████████████████████| 2144/2144 [00:18<00:00, 118.68it/s]\n"
     ]
    },
    {
     "name": "stdout",
     "output_type": "stream",
     "text": [
      "Generator L1 Loss is 0.2046567052602768\n",
      "Time for epoch 298 is 18.06740689277649 sec\n",
      "Epoch: 299\n",
      "Learning rate: 0.00016008478\n"
     ]
    },
    {
     "name": "stderr",
     "output_type": "stream",
     "text": [
      "100%|██████████████████████████████████████| 2144/2144 [00:18<00:00, 118.70it/s]\n"
     ]
    },
    {
     "name": "stdout",
     "output_type": "stream",
     "text": [
      "Generator L1 Loss is 0.2015017867088318\n",
      "Time for epoch 299 is 18.063980102539062 sec\n",
      "Epoch: 300\n",
      "Learning rate: 0.00015910361\n"
     ]
    },
    {
     "name": "stderr",
     "output_type": "stream",
     "text": [
      "100%|██████████████████████████████████████| 2144/2144 [00:18<00:00, 118.58it/s]\n"
     ]
    },
    {
     "name": "stdout",
     "output_type": "stream",
     "text": [
      "Generator L1 Loss is 0.20045478641986847\n",
      "Time for epoch 300 is 22.060565948486328 sec\n"
     ]
    }
   ],
   "source": [
    "train([sel_indices, subjects_lr, subjects_hr, subjects_masks], 300)"
   ]
  },
  {
   "cell_type": "code",
   "execution_count": 16,
   "metadata": {},
   "outputs": [
    {
     "name": "stdout",
     "output_type": "stream",
     "text": [
      "tf.Tensor([[-2.431651]], shape=(1, 1), dtype=float32)\n",
      "tf.Tensor([[-2.5560231]], shape=(1, 1), dtype=float32)\n"
     ]
    },
    {
     "data": {
      "text/plain": [
       "<matplotlib.image.AxesImage at 0x7fa0422988d0>"
      ]
     },
     "execution_count": 16,
     "metadata": {},
     "output_type": "execute_result"
    },
    {
     "data": {
      "image/png": "[encoded data removed]",
      "text/plain": [
       "<Figure size 640x480 with 1 Axes>"
      ]
     },
     "metadata": {},
     "output_type": "display_data"
    },
    {
     "data": {
      "image/png": "[encoded data removed]",
      "text/plain": [
       "<Figure size 640x480 with 1 Axes>"
      ]
     },
     "metadata": {},
     "output_type": "display_data"
    }
   ],
   "source": [
    "i = 60 \n",
    "j = 60\n",
    "k = 80\n",
    "\n",
    "channel = 0\n",
    "\n",
    "lr_patch = np.copy(subjects_lr[6][\n",
    "                        i - p_size_i - e_or_o : i + p_size_i,\n",
    "                        j - p_size_i - e_or_o : j + p_size_i,\n",
    "                        k - p_size_i - e_or_o : k + p_size_i, :])\n",
    "\n",
    "hr_patch = np.copy(subjects_hr[6][\n",
    "                        i - p_size_o - e_or_o : i + p_size_o,\n",
    "                        j - p_size_o - e_or_o : j + p_size_o,\n",
    "                        k - p_size_o - e_or_o : k + p_size_o, :])\n",
    "\n",
    "lr_mask = subjects_masks[6][\n",
    "                            i - p_size_i - e_or_o : i + p_size_i,\n",
    "                            j - p_size_i - e_or_o : j + p_size_i,\n",
    "                            k - p_size_i - e_or_o : k + p_size_i]\n",
    "\n",
    "lr_patch[lr_mask == 0] = 0\n",
    "\n",
    "generated_image = generator(lr_patch[None,...], training=False)\n",
    "\n",
    "print(discriminator(generated_image))\n",
    "\n",
    "print(discriminator(hr_patch[None,...]))\n",
    "\n",
    "plt.imshow(generated_image[0,:,:,3,channel],cmap='gray')\n",
    "plt.figure()\n",
    "plt.imshow(hr_patch[:,:,3,channel],cmap='gray')"
   ]
  },
  {
   "cell_type": "code",
   "execution_count": 17,
   "metadata": {},
   "outputs": [
    {
     "name": "stderr",
     "output_type": "stream",
     "text": [
      "100%|██████████████████████████████████████| 1319/1319 [00:03<00:00, 401.95it/s]\n"
     ]
    }
   ],
   "source": [
    "# subjects_lr\n",
    "# subjects_hr\n",
    "# subjects_masks\n",
    "\n",
    "result_image = np.zeros(hires_output.shape)\n",
    "\n",
    "for (i, j, k) in tqdm(sel_indices[np.where(sel_indices[:,0]==6),1:].squeeze()):\n",
    "\n",
    "    lr_patch = np.copy(subjects_lr[6][\n",
    "                            i - p_size_i - e_or_o : i + p_size_i,\n",
    "                            j - p_size_i - e_or_o : j + p_size_i,\n",
    "                            k - p_size_i - e_or_o : k + p_size_i, :])\n",
    "\n",
    "    lr_mask = subjects_masks[6][\n",
    "                                i - p_size_i - e_or_o : i + p_size_i,\n",
    "                                j - p_size_i - e_or_o : j + p_size_i,\n",
    "                                k - p_size_i - e_or_o : k + p_size_i]\n",
    "\n",
    "    lr_patch[lr_mask == 0] = 0\n",
    "\n",
    "    generated_image = generator(lr_patch[None,...], training=False)\n",
    "\n",
    "    result_image[i - p_size_o - e_or_o : i + p_size_o,\n",
    "                 j - p_size_o - e_or_o : j + p_size_o,\n",
    "                 k - p_size_o - e_or_o : k + p_size_o, :] = generated_image\n",
    "\n",
    "result_image[subjects_masks[6] == 0] = 0\n",
    "    "
   ]
  },
  {
   "cell_type": "code",
   "execution_count": 18,
   "metadata": {},
   "outputs": [
    {
     "data": {
      "text/plain": [
       "<matplotlib.image.AxesImage at 0x7f9f842cf550>"
      ]
     },
     "execution_count": 18,
     "metadata": {},
     "output_type": "execute_result"
    },
    {
     "data": {
      "image/png": "[encoded data removed]",
      "text/plain": [
       "<Figure size 640x480 with 1 Axes>"
      ]
     },
     "metadata": {},
     "output_type": "display_data"
    },
    {
     "data": {
      "image/png": "[encoded data removed]",
      "text/plain": [
       "<Figure size 640x480 with 1 Axes>"
      ]
     },
     "metadata": {},
     "output_type": "display_data"
    },
    {
     "data": {
      "image/png": "[encoded data removed]",
      "text/plain": [
       "<Figure size 640x480 with 1 Axes>"
      ]
     },
     "metadata": {},
     "output_type": "display_data"
    }
   ],
   "source": [
    "zdim = 60\n",
    "channel = 0\n",
    "\n",
    "# plt.imshow(subjects_masks[6][:,:,zdim], cmap='gray')\n",
    "# plt.figure()\n",
    "plt.imshow(subjects_lr[6][:,:,zdim,channel], cmap='gray')\n",
    "plt.figure()\n",
    "plt.imshow(subjects_hr[6][:,:,zdim,channel], cmap='gray')\n",
    "plt.figure()\n",
    "plt.imshow(result_image[:,:,zdim,channel], cmap='gray')\n",
    "# plt.imshow((result_image[:,:,zdim,channel])*subjects_masks[6][:,:,zdim], cmap='gray')"
   ]
  },
  {
   "cell_type": "code",
   "execution_count": 19,
   "metadata": {},
   "outputs": [
    {
     "name": "stdout",
     "output_type": "stream",
     "text": [
      "0.38308292627334595 0.3753540515899658 0.004445801954716444\n"
     ]
    },
    {
     "data": {
      "image/png": "[encoded data removed]",
      "text/plain": [
       "<Figure size 640x480 with 1 Axes>"
      ]
     },
     "metadata": {},
     "output_type": "display_data"
    },
    {
     "data": {
      "image/png": "[encoded data removed]",
      "text/plain": [
       "<Figure size 640x480 with 1 Axes>"
      ]
     },
     "metadata": {},
     "output_type": "display_data"
    },
    {
     "data": {
      "image/png": "[encoded data removed]",
      "text/plain": [
       "<Figure size 640x480 with 1 Axes>"
      ]
     },
     "metadata": {},
     "output_type": "display_data"
    }
   ],
   "source": [
    "plt.imshow(subjects_lr[6][50:90,60:120,zdim,channel], cmap='gray')\n",
    "plt.figure()\n",
    "plt.imshow(subjects_hr[6][50:90,60:120,zdim,channel], cmap='gray')\n",
    "plt.figure()\n",
    "plt.imshow(result_image[50:90,60:120,zdim,channel], cmap='gray')\n",
    "\n",
    "print(np.min(subjects_lr[6][40:80,60:120,zdim,channel]), np.min(subjects_hr[6][40:80,60:120,zdim,channel]), np.min(result_image[40:80,60:120,zdim,channel]))"
   ]
  },
  {
   "cell_type": "code",
   "execution_count": 20,
   "metadata": {},
   "outputs": [],
   "source": [
    "# generator.save_weights('Model/gen_weights')\n",
    "# discriminator.save_weights('Model/disc_weights')"
   ]
  },
  {
   "cell_type": "code",
   "execution_count": 21,
   "metadata": {},
   "outputs": [
    {
     "name": "stdout",
     "output_type": "stream",
     "text": [
      "WARNING:tensorflow:Compiled the loaded model, but the compiled metrics have yet to be built. `model.compile_metrics` will be empty until you train or evaluate the model.\n",
      "INFO:tensorflow:Assets written to: Model/generator9x_dti_norm/assets\n"
     ]
    },
    {
     "name": "stderr",
     "output_type": "stream",
     "text": [
      "INFO:tensorflow:Assets written to: Model/generator9x_dti_norm/assets\n"
     ]
    },
    {
     "name": "stdout",
     "output_type": "stream",
     "text": [
      "WARNING:tensorflow:Compiled the loaded model, but the compiled metrics have yet to be built. `model.compile_metrics` will be empty until you train or evaluate the model.\n"
     ]
    },
    {
     "name": "stderr",
     "output_type": "stream",
     "text": [
      "WARNING:tensorflow:Compiled the loaded model, but the compiled metrics have yet to be built. `model.compile_metrics` will be empty until you train or evaluate the model.\n"
     ]
    },
    {
     "name": "stdout",
     "output_type": "stream",
     "text": [
      "INFO:tensorflow:Assets written to: Model/discriminator9x_dti_norm/assets\n"
     ]
    },
    {
     "name": "stderr",
     "output_type": "stream",
     "text": [
      "INFO:tensorflow:Assets written to: Model/discriminator9x_dti_norm/assets\n"
     ]
    }
   ],
   "source": [
    "generator.save('Model/generator{}x_dti_norm'.format(2*p_size_o + e_or_o))\n",
    "discriminator.save('Model/discriminator{}x_dti_norm'.format(2*p_size_o + e_or_o))"
   ]
  }
 ],
 "metadata": {
  "kernelspec": {
   "display_name": "Python 3 (ipykernel)",
   "language": "python",
   "name": "python3"
  },
  "language_info": {
   "codemirror_mode": {
    "name": "ipython",
    "version": 3
   },
   "file_extension": ".py",
   "mimetype": "text/x-python",
   "name": "python",
   "nbconvert_exporter": "python",
   "pygments_lexer": "ipython3",
   "version": "3.11.4"
  }
 },
 "nbformat": 4,
 "nbformat_minor": 4
}
