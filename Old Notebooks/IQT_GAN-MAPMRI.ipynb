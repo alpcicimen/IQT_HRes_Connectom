{
 "cells": [
  {
   "cell_type": "code",
   "execution_count": 1,
   "metadata": {
    "ExecuteTime": {
     "end_time": "2023-08-05T13:44:49.616254700Z",
     "start_time": "2023-08-05T13:44:43.055344700Z"
    }
   },
   "outputs": [
    {
     "name": "stderr",
     "output_type": "stream",
     "text": [
      "2023-08-22 16:55:04.341685: I tensorflow/core/util/port.cc:110] oneDNN custom operations are on. You may see slightly different numerical results due to floating-point round-off errors from different computation orders. To turn them off, set the environment variable `TF_ENABLE_ONEDNN_OPTS=0`.\n",
      "2023-08-22 16:55:04.370987: I tensorflow/core/platform/cpu_feature_guard.cc:182] This TensorFlow binary is optimized to use available CPU instructions in performance-critical operations.\n",
      "To enable the following instructions: AVX2 AVX_VNNI FMA, in other operations, rebuild TensorFlow with the appropriate compiler flags.\n",
      "2023-08-22 16:55:05.478935: W tensorflow/compiler/tf2tensorrt/utils/py_utils.cc:38] TF-TRT Warning: Could not find TensorRT\n"
     ]
    }
   ],
   "source": [
    "import tensorflow as tf"
   ]
  },
  {
   "cell_type": "code",
   "execution_count": 2,
   "metadata": {
    "ExecuteTime": {
     "end_time": "2023-08-05T13:44:49.635699800Z",
     "start_time": "2023-08-05T13:44:49.617799900Z"
    },
    "collapsed": false,
    "jupyter": {
     "outputs_hidden": false
    }
   },
   "outputs": [
    {
     "data": {
      "text/plain": [
       "'2.13.0'"
      ]
     },
     "execution_count": 2,
     "metadata": {},
     "output_type": "execute_result"
    }
   ],
   "source": [
    "tf.__version__"
   ]
  },
  {
   "cell_type": "code",
   "execution_count": 3,
   "metadata": {
    "ExecuteTime": {
     "end_time": "2023-08-05T13:44:51.214287100Z",
     "start_time": "2023-08-05T13:44:49.620274400Z"
    },
    "collapsed": false,
    "jupyter": {
     "outputs_hidden": false
    }
   },
   "outputs": [],
   "source": [
    "import glob\n",
    "# import imageio\n",
    "import matplotlib.pyplot as plt\n",
    "import numpy as np\n",
    "import os\n",
    "import PIL\n",
    "# from tensorflow.python.keras import layers\n",
    "from tensorflow.keras import layers, activations\n",
    "import time\n",
    "import nibabel as nib\n",
    "from tqdm import tqdm\n",
    "import gc\n",
    "from scipy.ndimage import binary_erosion\n",
    "from IPython import display\n",
    "import datetime\n",
    "\n",
    "import model"
   ]
  },
  {
   "cell_type": "code",
   "execution_count": 4,
   "metadata": {},
   "outputs": [
    {
     "name": "stdout",
     "output_type": "stream",
     "text": [
      "['390645', '545345', '106016', '120111', '101915', '351938', '705341']\n"
     ]
    }
   ],
   "source": [
    "subjects = [ f.name for f in os.scandir('./Data') if f.is_dir() and f.name != '.ipynb_checkpoints']\n",
    "\n",
    "# subjects = ['390645', '120111']\n",
    "\n",
    "e_or_o = 1\n",
    "\n",
    "p_size_i = 7\n",
    "p_size_o = 4\n",
    "\n",
    "print(subjects)"
   ]
  },
  {
   "cell_type": "code",
   "execution_count": 5,
   "metadata": {
    "ExecuteTime": {
     "end_time": "2023-08-05T14:00:04.659577500Z",
     "start_time": "2023-08-05T14:00:01.079241200Z"
    }
   },
   "outputs": [
    {
     "name": "stdout",
     "output_type": "stream",
     "text": [
      "Loading Subject 390645\n",
      "Loading Subject 545345\n",
      "Loading Subject 106016\n",
      "Loading Subject 120111\n",
      "Loading Subject 101915\n",
      "Loading Subject 351938\n",
      "Loading Subject 705341\n"
     ]
    }
   ],
   "source": [
    "subjects_lr = []\n",
    "subjects_hr = []\n",
    "subjects_masks = []\n",
    "\n",
    "subjects_preproc_values_lr = []\n",
    "subjects_preproc_values_hr = []\n",
    "\n",
    "subjects_preproc_values_h4_lr = []\n",
    "subjects_preproc_values_h4_hr = []\n",
    "\n",
    "subjects_t1_preproc_values = []\n",
    "\n",
    "for subj in subjects:\n",
    "\n",
    "    h4_imgs = []\n",
    "    h4_imgs_lr = []\n",
    "    dti_imgs = []\n",
    "    dti_imgs_lr = []\n",
    "\n",
    "    # DTI normalisation metrics pre-normalisation (storing max and min values in the mask) - Store for HR only\n",
    "    dti_preprocs_hr = np.zeros((6,2))\n",
    "    dti_preprocs_lr = np.zeros((6,2))\n",
    "\n",
    "    h4_preprocs_hr = np.zeros((22,2))\n",
    "    h4_preprocs_lr = np.zeros((22,2))\n",
    "\n",
    "    print(\"Loading Subject {}\".format(subj))\n",
    "    \n",
    "    for i in range(1,9):\n",
    "    \n",
    "        dti_data = np.array(nib.load(\"Data/{}/T1w/Diffusion/dt_all_{}.nii\".format(subj,i)).get_fdata())\n",
    "        dti_data_lr = np.array(nib.load(\"Data/{}/T1w/Diffusion/dt_all_lowres_2_{}.nii\".format(subj,i)).get_fdata())\n",
    "    \n",
    "        # if i > 1:\n",
    "        #     dti_data[dti_imgs[0] < 0] = 0\n",
    "        #     dti_data_lr[dti_imgs[0] < 0] = 0\n",
    "    \n",
    "        dti_imgs.append(dti_data)\n",
    "        dti_imgs_lr.append(dti_data_lr)\n",
    "    \n",
    "        dti_data = None\n",
    "        dti_data_lr = None\n",
    "    \n",
    "    for i in range(1,25):\n",
    "    \n",
    "        h4_data = np.array(nib.load(\"Data/{}/T1w/Diffusion/h4_all_{}.nii\".format(subj,str(i).zfill(2))).get_fdata())\n",
    "        h4_data_lr = np.array(nib.load(\"Data/{}/T1w/Diffusion/h4_all_lowres_2_{}.nii\".format(subj,str(i).zfill(2))).get_fdata())\n",
    "    \n",
    "        # if i > 1:\n",
    "        #     h4_data[h4_data[0] < 0] = 0\n",
    "        #     h4_data_lr[h4_data[0] < 0] = 0\n",
    "        \n",
    "        h4_imgs.append(h4_data)\n",
    "        h4_imgs_lr.append(h4_data_lr)\n",
    "    \n",
    "        h4_data = None\n",
    "        h4_data_lr = None\n",
    "    \n",
    "    h4_imgs = np.array(h4_imgs).transpose((1,2,3,0))\n",
    "    h4_imgs_lr = np.array(h4_imgs_lr).transpose((1,2,3,0))\n",
    "    \n",
    "    dti_imgs = np.array(dti_imgs).transpose((1,2,3,0))\n",
    "    dti_imgs_lr = np.array(dti_imgs_lr).transpose((1,2,3,0))\n",
    "    \n",
    "    mask = h4_imgs[...,0]\n",
    "\n",
    "    binmask = np.zeros(mask.shape)\n",
    "\n",
    "    binmask[mask >= 0] = 1\n",
    "\n",
    "    mask = binary_erosion(binmask, structure=np.ones((5,5,5),np.uint8),iterations = 1)\n",
    "\n",
    "    binmask = None\n",
    "\n",
    "    # Calculate DTI ranges and normalise to range [0,1]\n",
    "    for i in range(2,8):\n",
    "\n",
    "        dti_preprocs_lr[i-2,:] = np.array([np.min(mask*dti_imgs_lr[...,i]), np.max(mask*dti_imgs_lr[...,i])])\n",
    "        dti_imgs_lr[mask>0, i] = (dti_imgs_lr[mask>0, i] - dti_preprocs_lr[i-2,0] + 0.0001) / (dti_preprocs_lr[i-2,1] - dti_preprocs_lr[i-2,0])\n",
    "        dti_imgs_lr[mask==0, i] = 0\n",
    "\n",
    "        dti_preprocs_hr[i-2,:] = np.array([np.min(mask*dti_imgs[...,i]), np.max(mask*dti_imgs[...,i])])\n",
    "        dti_imgs[mask>0, i] = (dti_imgs[mask>0, i] - dti_preprocs_hr[i-2,0] + 0.0001) / (dti_preprocs_hr[i-2,1] - dti_preprocs_hr[i-2,0])\n",
    "        dti_imgs[mask==0, i] = 0\n",
    "\n",
    "\n",
    "    # Calculate H4 ranges and normalise to range [0,1]\n",
    "    for i in range(2,24):\n",
    "\n",
    "        h4_preprocs_lr[i-2,:] = np.array([np.min(mask*h4_imgs_lr[...,i]), np.max(mask*h4_imgs_lr[...,i])])\n",
    "        h4_imgs_lr[mask>0, i] = (h4_imgs_lr[mask>0, i] - h4_preprocs_lr[i-2,0] + 0.0001) / (h4_preprocs_lr[i-2,1] - h4_preprocs_lr[i-2,0])\n",
    "        h4_imgs_lr[mask==0, i] = 0\n",
    "\n",
    "        h4_preprocs_hr[i-2,:] = np.array([np.min(mask*h4_imgs[...,i]), np.max(mask*h4_imgs[...,i])])\n",
    "        h4_imgs[mask>0, i] = (h4_imgs[mask>0, i] - h4_preprocs_hr[i-2,0] + 0.0001) / (h4_preprocs_hr[i-2,1] - h4_preprocs_hr[i-2,0])\n",
    "        h4_imgs[mask==0, i] = 0\n",
    "\n",
    "\n",
    "    t1w = nib.load(\"Data/{}/T1w/Diffusion/t1w.nii\".format(subj))\n",
    "    \n",
    "    t1w_data = np.array(t1w.get_fdata())\n",
    "    \n",
    "    t1w_data_format = np.concatenate(\n",
    "        (t1w_data[::2,::2,::2, None], t1w_data[::2,::2,1::2, None],\n",
    "         t1w_data[::2,1::2,::2, None], t1w_data[::2,1::2,1::2, None],\n",
    "         t1w_data[1::2,::2,::2, None], t1w_data[1::2,::2,1::2, None],\n",
    "         t1w_data[1::2,1::2,::2, None], t1w_data[1::2,1::2,1::2, None]),\n",
    "        axis=-1)\n",
    "\n",
    "    t1w_preprocs = np.array([np.min(t1w_data_format*mask[...,None]), np.max(t1w_data_format*mask[...,None])])\n",
    "    \n",
    "    subjects_t1_preproc_values.append(t1w_preprocs)    \n",
    "    t1w_data_format[mask>0, :] = (t1w_data_format[mask>0, :] - t1w_preprocs[0] + 0.0001) / (t1w_preprocs[1] - t1w_preprocs[0])\n",
    "\n",
    "    subjects_preproc_values_lr.append(dti_preprocs_lr)\n",
    "    subjects_preproc_values_hr.append(dti_preprocs_hr)\n",
    "\n",
    "    subjects_preproc_values_h4_lr.append(h4_preprocs_lr)\n",
    "    subjects_preproc_values_h4_hr.append(h4_preprocs_hr)\n",
    "\n",
    "    lowres_input = np.concatenate((h4_imgs_lr[...,2:], t1w_data_format), axis=-1)\n",
    "    hires_output = np.copy(h4_imgs[...,2:])\n",
    "    \n",
    "    # lowres_input = np.concatenate((h4_imgs_lr[...,2:], dti_imgs_lr[...,2:], t1w_data_format), axis=-1)\n",
    "    # hires_output = np.copy(h4_imgs[...,2:])\n",
    "\n",
    "    subjects_lr.append(lowres_input)\n",
    "    subjects_hr.append(hires_output)\n",
    "    subjects_masks.append(mask)\n"
   ]
  },
  {
   "cell_type": "code",
   "execution_count": 15,
   "metadata": {
    "ExecuteTime": {
     "end_time": "2023-08-05T15:25:06.718078900Z",
     "start_time": "2023-08-05T15:25:06.534741600Z"
    },
    "collapsed": false,
    "jupyter": {
     "outputs_hidden": false
    }
   },
   "outputs": [
    {
     "name": "stdout",
     "output_type": "stream",
     "text": [
      "(None, 9, 9, 9, 22)\n",
      "(None, 1)\n"
     ]
    }
   ],
   "source": [
    "# input_layer = tf.keras.Input(shape=(32, 32, 32, 36))\n",
    "# output_layer = model.unet3d(input_layer, 36)\n",
    "\n",
    "# generator = tf.keras.Model(input_layer, output_layer)\n",
    "generator = model.simple_generator(30,22, 100, 2*p_size_i+e_or_o)\n",
    "discriminator = model.simple_discriminator(22, 2*p_size_o+e_or_o)"
   ]
  },
  {
   "cell_type": "code",
   "execution_count": 16,
   "metadata": {},
   "outputs": [
    {
     "name": "stdout",
     "output_type": "stream",
     "text": [
      "Model: \"sequential_2\"\n",
      "_________________________________________________________________\n",
      " Layer (type)                Output Shape              Param #   \n",
      "=================================================================\n",
      " conv3d_8 (Conv3D)           (None, 13, 13, 13, 100)   81100     \n",
      "                                                                 \n",
      " batch_normalization_7 (Bat  (None, 13, 13, 13, 100)   400       \n",
      " chNormalization)                                                \n",
      "                                                                 \n",
      " re_lu_3 (ReLU)              (None, 13, 13, 13, 100)   0         \n",
      "                                                                 \n",
      " conv3d_9 (Conv3D)           (None, 13, 13, 13, 200)   20200     \n",
      "                                                                 \n",
      " batch_normalization_8 (Bat  (None, 13, 13, 13, 200)   800       \n",
      " chNormalization)                                                \n",
      "                                                                 \n",
      " re_lu_4 (ReLU)              (None, 13, 13, 13, 200)   0         \n",
      "                                                                 \n",
      " conv3d_10 (Conv3D)          (None, 11, 11, 11, 200)   1080200   \n",
      "                                                                 \n",
      " batch_normalization_9 (Bat  (None, 11, 11, 11, 200)   800       \n",
      " chNormalization)                                                \n",
      "                                                                 \n",
      " re_lu_5 (ReLU)              (None, 11, 11, 11, 200)   0         \n",
      "                                                                 \n",
      " conv3d_11 (Conv3D)          (None, 9, 9, 9, 22)       118822    \n",
      "                                                                 \n",
      "=================================================================\n",
      "Total params: 1302322 (4.97 MB)\n",
      "Trainable params: 1301322 (4.96 MB)\n",
      "Non-trainable params: 1000 (3.91 KB)\n",
      "_________________________________________________________________\n",
      "None\n",
      "Model: \"sequential_3\"\n",
      "_________________________________________________________________\n",
      " Layer (type)                Output Shape              Param #   \n",
      "=================================================================\n",
      " conv3d_12 (Conv3D)          (None, 9, 9, 9, 50)       29750     \n",
      "                                                                 \n",
      " batch_normalization_10 (Ba  (None, 9, 9, 9, 50)       200       \n",
      " tchNormalization)                                               \n",
      "                                                                 \n",
      " leaky_re_lu_4 (LeakyReLU)   (None, 9, 9, 9, 50)       0         \n",
      "                                                                 \n",
      " conv3d_13 (Conv3D)          (None, 9, 9, 9, 100)      135100    \n",
      "                                                                 \n",
      " batch_normalization_11 (Ba  (None, 9, 9, 9, 100)      400       \n",
      " tchNormalization)                                               \n",
      "                                                                 \n",
      " leaky_re_lu_5 (LeakyReLU)   (None, 9, 9, 9, 100)      0         \n",
      "                                                                 \n",
      " conv3d_14 (Conv3D)          (None, 9, 9, 9, 200)      540200    \n",
      "                                                                 \n",
      " batch_normalization_12 (Ba  (None, 9, 9, 9, 200)      800       \n",
      " tchNormalization)                                               \n",
      "                                                                 \n",
      " leaky_re_lu_6 (LeakyReLU)   (None, 9, 9, 9, 200)      0         \n",
      "                                                                 \n",
      " conv3d_15 (Conv3D)          (None, 7, 7, 7, 1)        5401      \n",
      "                                                                 \n",
      " batch_normalization_13 (Ba  (None, 7, 7, 7, 1)        4         \n",
      " tchNormalization)                                               \n",
      "                                                                 \n",
      " leaky_re_lu_7 (LeakyReLU)   (None, 7, 7, 7, 1)        0         \n",
      "                                                                 \n",
      " flatten_1 (Flatten)         (None, 343)               0         \n",
      "                                                                 \n",
      " dense_1 (Dense)             (None, 1)                 344       \n",
      "                                                                 \n",
      "=================================================================\n",
      "Total params: 712199 (2.72 MB)\n",
      "Trainable params: 711497 (2.71 MB)\n",
      "Non-trainable params: 702 (2.74 KB)\n",
      "_________________________________________________________________\n",
      "None\n"
     ]
    }
   ],
   "source": [
    "print(generator.summary())\n",
    "print(discriminator.summary())"
   ]
  },
  {
   "cell_type": "code",
   "execution_count": 17,
   "metadata": {
    "ExecuteTime": {
     "end_time": "2023-08-05T14:18:21.291398100Z",
     "start_time": "2023-08-05T14:18:21.254969700Z"
    },
    "collapsed": false,
    "jupyter": {
     "outputs_hidden": false
    }
   },
   "outputs": [],
   "source": [
    "# cross_entropy = tf.keras.losses.BinaryCrossentropy(from_logits=True)\n",
    "\n",
    "cross_entropy_gen = tf.keras.losses.BinaryCrossentropy()\n",
    "cross_entropy_disc = tf.keras.losses.BinaryCrossentropy()\n",
    "\n",
    "def discriminator_loss(real_output, fake_output):\n",
    "    real_loss = tf.reduce_mean(cross_entropy_gen(tf.ones_like(real_output), real_output))\n",
    "    fake_loss = tf.reduce_mean(cross_entropy_gen(tf.zeros_like(fake_output), fake_output))\n",
    "    total_loss = real_loss + fake_loss\n",
    "    return total_loss\n",
    "\n",
    "def generator_loss(fake_output):\n",
    "    return tf.reduce_mean(cross_entropy_gen(tf.ones_like(fake_output), fake_output))\n",
    "\n",
    "# cross_entropy = tf.nn.sigmoid_cross_entropy_with_logits\n",
    "\n",
    "# def discriminastor_loss(real_output, fake_output):\n",
    "#     real_loss = tf.reduce_mean(cross_entropy(labels=tf.ones_like(real_output), logits=real_output))\n",
    "#     fake_loss = tf.reduce_mean(cross_entropy(labels=tf.zeros_like(fake_output), logits=fake_output))\n",
    "#     total_loss = real_loss + fake_loss\n",
    "#     return total_loss\n",
    "\n",
    "# def generator_loss(fake_output):\n",
    "#     return cross_entropy(labels=tf.ones_like(fake_output), logits=fake_output)"
   ]
  },
  {
   "cell_type": "code",
   "execution_count": 18,
   "metadata": {
    "ExecuteTime": {
     "end_time": "2023-08-05T14:18:25.658937200Z",
     "start_time": "2023-08-05T14:18:25.629596Z"
    },
    "collapsed": false,
    "jupyter": {
     "outputs_hidden": false
    }
   },
   "outputs": [],
   "source": [
    "lr_schedule = tf.keras.optimizers.schedules.ExponentialDecay(\n",
    "    initial_learning_rate=1e-3,\n",
    "    decay_steps=50*2000,\n",
    "    decay_rate=0.1\n",
    ")\n",
    "\n",
    "generator_optimizer = tf.keras.optimizers.Adam(lr_schedule)\n",
    "discriminator_optimizer = tf.keras.optimizers.Adam(lr_schedule)"
   ]
  },
  {
   "cell_type": "code",
   "execution_count": 19,
   "metadata": {
    "ExecuteTime": {
     "end_time": "2023-08-05T14:18:26.774030800Z",
     "start_time": "2023-08-05T14:18:26.725560700Z"
    },
    "collapsed": false,
    "jupyter": {
     "outputs_hidden": false
    }
   },
   "outputs": [],
   "source": [
    "checkpoint_dir = './training_checkpoints_GAN_MAP'\n",
    "checkpoint_prefix = os.path.join(checkpoint_dir, \"ckpt\")\n",
    "checkpoint = tf.train.Checkpoint(generator_optimizer=generator_optimizer,\n",
    "                                 discriminator_optimizer=discriminator_optimizer,\n",
    "                                 generator=generator,\n",
    "                                 discriminator=discriminator)\n",
    "\n",
    "# log_dir = \"logs/fit/\" + datetime.datetime.now().strftime(\"%Y%m%d-%H%M%S\")\n",
    "# tensorboard_callback = tf.keras.callbacks.TensorBoard(log_dir=log_dir, histogram_freq=1)\n",
    "\n",
    "gen_loss_metric = tf.keras.metrics.Mean('gen_loss', dtype=tf.float32)\n",
    "# gen_accuracy_metric = tf.keras.metrics.SparseCategoricalAccuracy('gen_accuracy')\n",
    "\n",
    "disc_loss_metric = tf.keras.metrics.Mean('disc_loss', dtype=tf.float32)\n",
    "\n",
    "current_time = datetime.datetime.now().strftime(\"%Y%m%d-%H%M%S\")\n",
    "log_dir = './logs/gradient_tape_MAP/' + current_time + '/train'\n",
    "summary_writer = tf.summary.create_file_writer(log_dir)"
   ]
  },
  {
   "cell_type": "code",
   "execution_count": 20,
   "metadata": {
    "ExecuteTime": {
     "end_time": "2023-08-05T14:31:31.474922300Z",
     "start_time": "2023-08-05T14:31:31.453950800Z"
    },
    "collapsed": false,
    "jupyter": {
     "outputs_hidden": false
    }
   },
   "outputs": [],
   "source": [
    "@tf.function\n",
    "def train_step(lr_patch, hr_patch):\n",
    "\n",
    "    with tf.GradientTape() as gen_tape, tf.GradientTape() as disc_tape:\n",
    "      generated_images = generator(lr_patch, training=True)\n",
    "\n",
    "      real_output = discriminator(hr_patch, training=True)\n",
    "      fake_output = discriminator(generated_images, training=True)\n",
    "\n",
    "      gen_loss = generator_loss(fake_output)\n",
    "      disc_loss = discriminator_loss(real_output, fake_output)\n",
    "\n",
    "    gen_loss_metric(gen_loss)\n",
    "    # gen_accuracy_metric(hr_patch, generated_images)\n",
    "\n",
    "    disc_loss_metric(disc_loss)\n",
    "\n",
    "    gradients_of_generator = gen_tape.gradient(gen_loss, generator.trainable_variables)\n",
    "    gradients_of_discriminator = disc_tape.gradient(disc_loss, discriminator.trainable_variables)\n",
    "\n",
    "    generator_optimizer.apply_gradients(zip(gradients_of_generator, generator.trainable_variables))\n",
    "    discriminator_optimizer.apply_gradients(zip(gradients_of_discriminator, discriminator.trainable_variables))\n",
    "\n",
    "    return gen_loss, disc_loss\n",
    "\n",
    "@tf.function\n",
    "def train_step_gen(lr_patch, hr_patch):\n",
    "\n",
    "    with tf.GradientTape() as gen_tape, tf.GradientTape() as disc_tape:\n",
    "\n",
    "        generated_images = generator(lr_patch, training=True)\n",
    "\n",
    "        real_output = discriminator(hr_patch, training=False)\n",
    "        fake_output = discriminator(generated_images, training=False)\n",
    "\n",
    "        gen_loss = generator_loss(fake_output)\n",
    "        disc_loss = discriminator_loss(real_output, fake_output)\n",
    "\n",
    "    gradients_of_generator = gen_tape.gradient(gen_loss, generator.trainable_variables)\n",
    "    \n",
    "    generator_optimizer.apply_gradients(zip(gradients_of_generator, generator.trainable_variables))\n",
    "    \n",
    "    return gen_loss, disc_loss\n",
    "\n",
    "@tf.function\n",
    "def train_step_disc(lr_patch, hr_patch):\n",
    "\n",
    "    with tf.GradientTape() as gen_tape, tf.GradientTape() as disc_tape:\n",
    "\n",
    "        generated_images = generator(lr_patch, training=False)\n",
    "\n",
    "        real_output = discriminator(hr_patch, training=True)\n",
    "        fake_output = discriminator(generated_images, training=True)\n",
    "\n",
    "        gen_loss = generator_loss(fake_output)\n",
    "        disc_loss = discriminator_loss(real_output, fake_output)\n",
    "\n",
    "    gradients_of_discriminator = disc_tape.gradient(disc_loss, discriminator.trainable_variables)\n",
    "    discriminator_optimizer.apply_gradients(zip(gradients_of_discriminator, discriminator.trainable_variables))\n",
    "\n",
    "    return gen_loss, disc_loss"
   ]
  },
  {
   "cell_type": "code",
   "execution_count": 21,
   "metadata": {
    "ExecuteTime": {
     "end_time": "2023-08-05T15:37:15.289028100Z",
     "start_time": "2023-08-05T15:37:15.270842400Z"
    },
    "collapsed": false,
    "jupyter": {
     "outputs_hidden": false
    }
   },
   "outputs": [],
   "source": [
    "def train(data, epochs):\n",
    "\n",
    "  gen_train_mode = False\n",
    "\n",
    "  best_cost = np.Inf\n",
    "    \n",
    "  for epoch in range(epochs):\n",
    "\n",
    "    if epoch > 0 and epoch % 2 == 0:\n",
    "        gen_train_mode = not gen_train_mode\n",
    "      \n",
    "    start = time.time()\n",
    "\n",
    "    print(\"Epoch: {}\".format(epoch+1))\n",
    "\n",
    "    print(\"Learning rate:\", generator_optimizer.learning_rate.numpy())\n",
    "\n",
    "\n",
    "    mean_g_loss = 0.0\n",
    "    mean_d_loss = 0.0\n",
    "    total_cost = 0.0\n",
    "\n",
    "    # [sel_indices, subjects_lr, subjects_hr, subjects_masks]\n",
    "\n",
    "    randsels = np.random.choice(data[0].shape[0],data[0].shape[0]//4)\n",
    "\n",
    "    lr_patches = []\n",
    "    hr_patches = []\n",
    "\n",
    "    for prog, index in enumerate(tqdm(randsels)):\n",
    "\n",
    "        if (prog+1) % 8 != 0 or prog == (len(randsels) - 1):\n",
    "\n",
    "            (s, i, j, k) = data[0][index]\n",
    "        \n",
    "            lr_patch = np.copy(data[1][s][\n",
    "                                    i - p_size_i - e_or_o : i + p_size_i,\n",
    "                                    j - p_size_i - e_or_o : j + p_size_i,\n",
    "                                    k - p_size_i - e_or_o : k + p_size_i, :]) * \\\n",
    "            np.copy(data[3][s][\n",
    "                                    i - p_size_i - e_or_o : i + p_size_i,\n",
    "                                    j - p_size_i - e_or_o : j + p_size_i,\n",
    "                                    k - p_size_i - e_or_o : k + p_size_i, None])\n",
    "                               \n",
    "        \n",
    "            hr_patch = np.copy(data[2][s][\n",
    "                                    i - p_size_o - e_or_o : i + p_size_o,\n",
    "                                    j - p_size_o - e_or_o : j + p_size_o,\n",
    "                                    k - p_size_o - e_or_o : k + p_size_o, :]) * \\\n",
    "            np.copy(data[3][s][\n",
    "                                    i - p_size_o - e_or_o : i + p_size_o,\n",
    "                                    j - p_size_o - e_or_o : j + p_size_o,\n",
    "                                    k - p_size_o - e_or_o : k + p_size_o, None])\n",
    "\n",
    "            lr_patches.append(lr_patch)\n",
    "            hr_patches.append(hr_patch)\n",
    "            \n",
    "            continue\n",
    "        \n",
    "        lr_patches = tf.convert_to_tensor(np.array(lr_patches), dtype=tf.float32)\n",
    "        hr_patches = tf.convert_to_tensor(np.array(hr_patches), dtype=tf.float32)\n",
    "\n",
    "        g_loss, d_loss = train_step(lr_patches, hr_patches)\n",
    "\n",
    "        with summary_writer.as_default():\n",
    "            tf.summary.scalar('gen_loss', gen_loss_metric.result(), step=epoch)\n",
    "            tf.summary.scalar('disc_loss', disc_loss_metric.result(), step=epoch)\n",
    "        \n",
    "        # if gen_train_mode:\n",
    "        #     g_loss, d_loss = train_step_gen(lr_patch, hr_patch)\n",
    "        # else:\n",
    "        #     g_loss, d_loss = train_step_disc(lr_patch, hr_patch)\n",
    "        \n",
    "        mean_g_loss = mean_g_loss + g_loss\n",
    "        mean_d_loss = mean_d_loss + d_loss\n",
    "\n",
    "        y_preds = generator(lr_patches, training=False)\n",
    "\n",
    "        total_cost = total_cost + tf.reduce_mean(tf.square(hr_patches - y_preds))\n",
    "\n",
    "        lr_patches = []\n",
    "        hr_patches = []\n",
    "      \n",
    "    # Save the model every 5 epochs\n",
    "    # if (epoch + 1) % 5 == 0:\n",
    "    if best_cost < total_cost:\n",
    "      checkpoint.save(file_prefix = checkpoint_prefix)\n",
    "      best_cost = total_cost\n",
    "\n",
    "    # print('Generator Loss is {}'.format(float(mean_g_loss/len(randsels))))\n",
    "    # print('Discriminator Loss is {}'.format(float(mean_d_loss/len(randsels))))\n",
    "\n",
    "    print('Generator Error Metric is {}'.format(float(total_cost/(len(randsels)//4))))\n",
    "      \n",
    "    print ('Time for epoch {} is {} sec'.format(epoch + 1, time.time()-start))"
   ]
  },
  {
   "cell_type": "code",
   "execution_count": 22,
   "metadata": {},
   "outputs": [],
   "source": [
    "(xsize, ysize, zsize, comp) = subjects_lr[0].shape\n",
    "\n",
    "split_indices = [(i, j, k)\n",
    "                 for k in np.arange(p_size_i+1,zsize-p_size_i+e_or_o,2*p_size_o+e_or_o)       \n",
    "                 for j in np.arange(p_size_i+1,ysize-p_size_i+e_or_o,2*p_size_o+e_or_o)\n",
    "                 for i in np.arange(p_size_i+1,xsize-p_size_i+e_or_o,2*p_size_o+e_or_o)\n",
    "                ]\n",
    "\n",
    "sel_indices = []\n",
    "\n",
    "for s in range(len(subjects_lr)):\n",
    "    for (i, j, k) in split_indices:\n",
    "        ipatch_mask = subjects_masks[s][\n",
    "            i - p_size_o - e_or_o : i + p_size_o,\n",
    "            j - p_size_o - e_or_o : j + p_size_o,\n",
    "            k - p_size_o - e_or_o : k + p_size_o]\n",
    "    \n",
    "        if np.max(ipatch_mask) > 0:\n",
    "            sel_indices.append((s,i,j,k))\n",
    "\n",
    "sel_indices = np.array(sel_indices)"
   ]
  },
  {
   "cell_type": "code",
   "execution_count": 23,
   "metadata": {
    "ExecuteTime": {
     "end_time": "2023-08-05T15:37:17.483885900Z",
     "start_time": "2023-08-05T15:37:17.435327300Z"
    },
    "collapsed": false,
    "jupyter": {
     "outputs_hidden": false
    }
   },
   "outputs": [
    {
     "name": "stdout",
     "output_type": "stream",
     "text": [
      "Epoch: 1\n",
      "Learning rate: 0.001\n"
     ]
    },
    {
     "name": "stderr",
     "output_type": "stream",
     "text": [
      "  0%|                                                  | 0/2144 [00:00<?, ?it/s]2023-08-22 16:56:36.341265: I tensorflow/compiler/xla/stream_executor/cuda/cuda_dnn.cc:432] Loaded cuDNN version 8600\n",
      "2023-08-22 16:56:37.056837: I tensorflow/compiler/xla/stream_executor/cuda/cuda_blas.cc:606] TensorFloat-32 will be used for the matrix multiplication. This will only be logged once.\n",
      "2023-08-22 16:56:37.195424: I tensorflow/compiler/xla/service/service.cc:168] XLA service 0x7f36386f1c90 initialized for platform CUDA (this does not guarantee that XLA will be used). Devices:\n",
      "2023-08-22 16:56:37.195445: I tensorflow/compiler/xla/service/service.cc:176]   StreamExecutor device (0): NVIDIA GeForce RTX 3090 Ti, Compute Capability 8.6\n",
      "2023-08-22 16:56:37.199227: I tensorflow/compiler/mlir/tensorflow/utils/dump_mlir_util.cc:255] disabling MLIR crash reproducer, set env var `MLIR_CRASH_REPRODUCER_DIRECTORY` to enable.\n",
      "2023-08-22 16:56:37.376310: I ./tensorflow/compiler/jit/device_compiler.h:186] Compiled cluster using XLA!  This line is logged at most once for the lifetime of the process.\n",
      "100%|██████████████████████████████████████| 2144/2144 [00:12<00:00, 175.19it/s]\n"
     ]
    },
    {
     "name": "stdout",
     "output_type": "stream",
     "text": [
      "Generator Error Metric is 0.11220826208591461\n",
      "Time for epoch 1 is 12.245030641555786 sec\n",
      "Epoch: 2\n",
      "Learning rate: 0.0009938938\n"
     ]
    },
    {
     "name": "stderr",
     "output_type": "stream",
     "text": [
      "100%|██████████████████████████████████████| 2144/2144 [00:05<00:00, 368.39it/s]\n"
     ]
    },
    {
     "name": "stdout",
     "output_type": "stream",
     "text": [
      "Generator Error Metric is 0.21310091018676758\n",
      "Time for epoch 2 is 5.822215795516968 sec\n",
      "Epoch: 3\n",
      "Learning rate: 0.0009878023\n"
     ]
    },
    {
     "name": "stderr",
     "output_type": "stream",
     "text": [
      "100%|██████████████████████████████████████| 2144/2144 [00:05<00:00, 373.51it/s]\n"
     ]
    },
    {
     "name": "stdout",
     "output_type": "stream",
     "text": [
      "Generator Error Metric is 0.24135489761829376\n",
      "Time for epoch 3 is 5.742408990859985 sec\n",
      "Epoch: 4\n",
      "Learning rate: 0.000981748\n"
     ]
    },
    {
     "name": "stderr",
     "output_type": "stream",
     "text": [
      "100%|██████████████████████████████████████| 2144/2144 [00:05<00:00, 379.12it/s]\n"
     ]
    },
    {
     "name": "stdout",
     "output_type": "stream",
     "text": [
      "Generator Error Metric is 0.1444891393184662\n",
      "Time for epoch 4 is 5.6578309535980225 sec\n",
      "Epoch: 5\n",
      "Learning rate: 0.00097573077\n"
     ]
    },
    {
     "name": "stderr",
     "output_type": "stream",
     "text": [
      "100%|██████████████████████████████████████| 2144/2144 [00:05<00:00, 395.49it/s]\n"
     ]
    },
    {
     "name": "stdout",
     "output_type": "stream",
     "text": [
      "Generator Error Metric is 0.11962934583425522\n",
      "Time for epoch 5 is 5.423109292984009 sec\n",
      "Epoch: 6\n",
      "Learning rate: 0.00096975046\n"
     ]
    },
    {
     "name": "stderr",
     "output_type": "stream",
     "text": [
      "100%|██████████████████████████████████████| 2144/2144 [00:04<00:00, 499.44it/s]\n"
     ]
    },
    {
     "name": "stdout",
     "output_type": "stream",
     "text": [
      "Generator Error Metric is 0.11328200995922089\n",
      "Time for epoch 6 is 4.294283151626587 sec\n",
      "Epoch: 7\n",
      "Learning rate: 0.0009638069\n"
     ]
    },
    {
     "name": "stderr",
     "output_type": "stream",
     "text": [
      "100%|██████████████████████████████████████| 2144/2144 [00:05<00:00, 417.57it/s]\n"
     ]
    },
    {
     "name": "stdout",
     "output_type": "stream",
     "text": [
      "Generator Error Metric is 0.11026860028505325\n",
      "Time for epoch 7 is 5.136380195617676 sec\n",
      "Epoch: 8\n",
      "Learning rate: 0.00095789967\n"
     ]
    },
    {
     "name": "stderr",
     "output_type": "stream",
     "text": [
      "100%|██████████████████████████████████████| 2144/2144 [00:04<00:00, 456.21it/s]\n"
     ]
    },
    {
     "name": "stdout",
     "output_type": "stream",
     "text": [
      "Generator Error Metric is 0.11524652689695358\n",
      "Time for epoch 8 is 4.701288938522339 sec\n",
      "Epoch: 9\n",
      "Learning rate: 0.0009520286\n"
     ]
    },
    {
     "name": "stderr",
     "output_type": "stream",
     "text": [
      "100%|██████████████████████████████████████| 2144/2144 [00:04<00:00, 442.25it/s]\n"
     ]
    },
    {
     "name": "stdout",
     "output_type": "stream",
     "text": [
      "Generator Error Metric is 0.1195252537727356\n",
      "Time for epoch 9 is 4.850031852722168 sec\n",
      "Epoch: 10\n",
      "Learning rate: 0.00094619364\n"
     ]
    },
    {
     "name": "stderr",
     "output_type": "stream",
     "text": [
      "100%|██████████████████████████████████████| 2144/2144 [00:05<00:00, 371.26it/s]\n"
     ]
    },
    {
     "name": "stdout",
     "output_type": "stream",
     "text": [
      "Generator Error Metric is 0.11697006970643997\n",
      "Time for epoch 10 is 5.777089834213257 sec\n",
      "Epoch: 11\n",
      "Learning rate: 0.0009403944\n"
     ]
    },
    {
     "name": "stderr",
     "output_type": "stream",
     "text": [
      "100%|██████████████████████████████████████| 2144/2144 [00:04<00:00, 437.34it/s]\n"
     ]
    },
    {
     "name": "stdout",
     "output_type": "stream",
     "text": [
      "Generator Error Metric is 0.13390424847602844\n",
      "Time for epoch 11 is 4.904546022415161 sec\n",
      "Epoch: 12\n",
      "Learning rate: 0.00093463063\n"
     ]
    },
    {
     "name": "stderr",
     "output_type": "stream",
     "text": [
      "100%|██████████████████████████████████████| 2144/2144 [00:04<00:00, 458.76it/s]\n"
     ]
    },
    {
     "name": "stdout",
     "output_type": "stream",
     "text": [
      "Generator Error Metric is 0.13672704994678497\n",
      "Time for epoch 12 is 4.675549507141113 sec\n",
      "Epoch: 13\n",
      "Learning rate: 0.00092890224\n"
     ]
    },
    {
     "name": "stderr",
     "output_type": "stream",
     "text": [
      "100%|██████████████████████████████████████| 2144/2144 [00:04<00:00, 503.61it/s]\n"
     ]
    },
    {
     "name": "stdout",
     "output_type": "stream",
     "text": [
      "Generator Error Metric is 0.13438643515110016\n",
      "Time for epoch 13 is 4.259054660797119 sec\n",
      "Epoch: 14\n",
      "Learning rate: 0.00092320895\n"
     ]
    },
    {
     "name": "stderr",
     "output_type": "stream",
     "text": [
      "100%|██████████████████████████████████████| 2144/2144 [00:04<00:00, 453.36it/s]\n"
     ]
    },
    {
     "name": "stdout",
     "output_type": "stream",
     "text": [
      "Generator Error Metric is 0.13326554000377655\n",
      "Time for epoch 14 is 4.731270790100098 sec\n",
      "Epoch: 15\n",
      "Learning rate: 0.0009175506\n"
     ]
    },
    {
     "name": "stderr",
     "output_type": "stream",
     "text": [
      "100%|██████████████████████████████████████| 2144/2144 [00:05<00:00, 378.89it/s]\n"
     ]
    },
    {
     "name": "stdout",
     "output_type": "stream",
     "text": [
      "Generator Error Metric is 0.13643446564674377\n",
      "Time for epoch 15 is 5.6612389087677 sec\n",
      "Epoch: 16\n",
      "Learning rate: 0.0009119269\n"
     ]
    },
    {
     "name": "stderr",
     "output_type": "stream",
     "text": [
      "100%|██████████████████████████████████████| 2144/2144 [00:05<00:00, 377.35it/s]\n"
     ]
    },
    {
     "name": "stdout",
     "output_type": "stream",
     "text": [
      "Generator Error Metric is 0.13159628212451935\n",
      "Time for epoch 16 is 5.68412709236145 sec\n",
      "Epoch: 17\n",
      "Learning rate: 0.00090633763\n"
     ]
    },
    {
     "name": "stderr",
     "output_type": "stream",
     "text": [
      "100%|██████████████████████████████████████| 2144/2144 [00:05<00:00, 376.75it/s]\n"
     ]
    },
    {
     "name": "stdout",
     "output_type": "stream",
     "text": [
      "Generator Error Metric is 0.131996288895607\n",
      "Time for epoch 17 is 5.6930506229400635 sec\n",
      "Epoch: 18\n",
      "Learning rate: 0.00090078264\n"
     ]
    },
    {
     "name": "stderr",
     "output_type": "stream",
     "text": [
      "100%|██████████████████████████████████████| 2144/2144 [00:05<00:00, 378.15it/s]\n"
     ]
    },
    {
     "name": "stdout",
     "output_type": "stream",
     "text": [
      "Generator Error Metric is 0.13534040749073029\n",
      "Time for epoch 18 is 5.671957969665527 sec\n",
      "Epoch: 19\n",
      "Learning rate: 0.0008952617\n"
     ]
    },
    {
     "name": "stderr",
     "output_type": "stream",
     "text": [
      "100%|██████████████████████████████████████| 2144/2144 [00:05<00:00, 377.66it/s]\n"
     ]
    },
    {
     "name": "stdout",
     "output_type": "stream",
     "text": [
      "Generator Error Metric is 0.12241937220096588\n",
      "Time for epoch 19 is 5.679391145706177 sec\n",
      "Epoch: 20\n",
      "Learning rate: 0.0008897746\n"
     ]
    },
    {
     "name": "stderr",
     "output_type": "stream",
     "text": [
      "100%|██████████████████████████████████████| 2144/2144 [00:05<00:00, 378.31it/s]\n"
     ]
    },
    {
     "name": "stdout",
     "output_type": "stream",
     "text": [
      "Generator Error Metric is 0.1335027664899826\n",
      "Time for epoch 20 is 5.669173955917358 sec\n",
      "Epoch: 21\n",
      "Learning rate: 0.0008843211\n"
     ]
    },
    {
     "name": "stderr",
     "output_type": "stream",
     "text": [
      "100%|██████████████████████████████████████| 2144/2144 [00:04<00:00, 505.39it/s]\n"
     ]
    },
    {
     "name": "stdout",
     "output_type": "stream",
     "text": [
      "Generator Error Metric is 0.13937115669250488\n",
      "Time for epoch 21 is 4.244457960128784 sec\n",
      "Epoch: 22\n",
      "Learning rate: 0.0008789011\n"
     ]
    },
    {
     "name": "stderr",
     "output_type": "stream",
     "text": [
      "100%|██████████████████████████████████████| 2144/2144 [00:04<00:00, 504.79it/s]\n"
     ]
    },
    {
     "name": "stdout",
     "output_type": "stream",
     "text": [
      "Generator Error Metric is 0.14305555820465088\n",
      "Time for epoch 22 is 4.248917818069458 sec\n",
      "Epoch: 23\n",
      "Learning rate: 0.00087351433\n"
     ]
    },
    {
     "name": "stderr",
     "output_type": "stream",
     "text": [
      "100%|██████████████████████████████████████| 2144/2144 [00:04<00:00, 512.21it/s]\n"
     ]
    },
    {
     "name": "stdout",
     "output_type": "stream",
     "text": [
      "Generator Error Metric is 0.1435825377702713\n",
      "Time for epoch 23 is 4.1872382164001465 sec\n",
      "Epoch: 24\n",
      "Learning rate: 0.0008681605\n"
     ]
    },
    {
     "name": "stderr",
     "output_type": "stream",
     "text": [
      "100%|██████████████████████████████████████| 2144/2144 [00:04<00:00, 513.26it/s]\n"
     ]
    },
    {
     "name": "stdout",
     "output_type": "stream",
     "text": [
      "Generator Error Metric is 0.1548672914505005\n",
      "Time for epoch 24 is 4.17862343788147 sec\n",
      "Epoch: 25\n",
      "Learning rate: 0.0008628395\n"
     ]
    },
    {
     "name": "stderr",
     "output_type": "stream",
     "text": [
      "100%|██████████████████████████████████████| 2144/2144 [00:04<00:00, 512.05it/s]\n"
     ]
    },
    {
     "name": "stdout",
     "output_type": "stream",
     "text": [
      "Generator Error Metric is 0.14942078292369843\n",
      "Time for epoch 25 is 4.188611030578613 sec\n",
      "Epoch: 26\n",
      "Learning rate: 0.00085755106\n"
     ]
    },
    {
     "name": "stderr",
     "output_type": "stream",
     "text": [
      "100%|██████████████████████████████████████| 2144/2144 [00:04<00:00, 506.44it/s]\n"
     ]
    },
    {
     "name": "stdout",
     "output_type": "stream",
     "text": [
      "Generator Error Metric is 0.15048913657665253\n",
      "Time for epoch 26 is 4.2350850105285645 sec\n",
      "Epoch: 27\n",
      "Learning rate: 0.00085229514\n"
     ]
    },
    {
     "name": "stderr",
     "output_type": "stream",
     "text": [
      "100%|██████████████████████████████████████| 2144/2144 [00:04<00:00, 506.74it/s]\n"
     ]
    },
    {
     "name": "stdout",
     "output_type": "stream",
     "text": [
      "Generator Error Metric is 0.13311973214149475\n",
      "Time for epoch 27 is 4.232528448104858 sec\n",
      "Epoch: 28\n",
      "Learning rate: 0.0008470714\n"
     ]
    },
    {
     "name": "stderr",
     "output_type": "stream",
     "text": [
      "100%|██████████████████████████████████████| 2144/2144 [00:04<00:00, 511.19it/s]\n"
     ]
    },
    {
     "name": "stdout",
     "output_type": "stream",
     "text": [
      "Generator Error Metric is 0.12973164021968842\n",
      "Time for epoch 28 is 4.196260452270508 sec\n",
      "Epoch: 29\n",
      "Learning rate: 0.0008418797\n"
     ]
    },
    {
     "name": "stderr",
     "output_type": "stream",
     "text": [
      "100%|██████████████████████████████████████| 2144/2144 [00:04<00:00, 431.48it/s]\n"
     ]
    },
    {
     "name": "stdout",
     "output_type": "stream",
     "text": [
      "Generator Error Metric is 0.13078570365905762\n",
      "Time for epoch 29 is 4.971154689788818 sec\n",
      "Epoch: 30\n",
      "Learning rate: 0.0008367198\n"
     ]
    },
    {
     "name": "stderr",
     "output_type": "stream",
     "text": [
      "100%|██████████████████████████████████████| 2144/2144 [00:05<00:00, 378.67it/s]\n"
     ]
    },
    {
     "name": "stdout",
     "output_type": "stream",
     "text": [
      "Generator Error Metric is 0.12027434259653091\n",
      "Time for epoch 30 is 5.6643760204315186 sec\n",
      "Epoch: 31\n",
      "Learning rate: 0.00083159143\n"
     ]
    },
    {
     "name": "stderr",
     "output_type": "stream",
     "text": [
      "100%|██████████████████████████████████████| 2144/2144 [00:05<00:00, 378.57it/s]\n"
     ]
    },
    {
     "name": "stdout",
     "output_type": "stream",
     "text": [
      "Generator Error Metric is 0.12199387699365616\n",
      "Time for epoch 31 is 5.666051626205444 sec\n",
      "Epoch: 32\n",
      "Learning rate: 0.00082649454\n"
     ]
    },
    {
     "name": "stderr",
     "output_type": "stream",
     "text": [
      "100%|██████████████████████████████████████| 2144/2144 [00:05<00:00, 375.25it/s]\n"
     ]
    },
    {
     "name": "stdout",
     "output_type": "stream",
     "text": [
      "Generator Error Metric is 0.12267553806304932\n",
      "Time for epoch 32 is 5.716036558151245 sec\n",
      "Epoch: 33\n",
      "Learning rate: 0.000821429\n"
     ]
    },
    {
     "name": "stderr",
     "output_type": "stream",
     "text": [
      "100%|██████████████████████████████████████| 2144/2144 [00:04<00:00, 478.68it/s]\n"
     ]
    },
    {
     "name": "stdout",
     "output_type": "stream",
     "text": [
      "Generator Error Metric is 0.11946606636047363\n",
      "Time for epoch 33 is 4.481136322021484 sec\n",
      "Epoch: 34\n",
      "Learning rate: 0.00081639434\n"
     ]
    },
    {
     "name": "stderr",
     "output_type": "stream",
     "text": [
      "100%|██████████████████████████████████████| 2144/2144 [00:04<00:00, 491.50it/s]\n"
     ]
    },
    {
     "name": "stdout",
     "output_type": "stream",
     "text": [
      "Generator Error Metric is 0.16799406707286835\n",
      "Time for epoch 34 is 4.364016532897949 sec\n",
      "Epoch: 35\n",
      "Learning rate: 0.00081139075\n"
     ]
    },
    {
     "name": "stderr",
     "output_type": "stream",
     "text": [
      "100%|██████████████████████████████████████| 2144/2144 [00:05<00:00, 419.04it/s]\n"
     ]
    },
    {
     "name": "stdout",
     "output_type": "stream",
     "text": [
      "Generator Error Metric is 0.2098546326160431\n",
      "Time for epoch 35 is 5.117915153503418 sec\n",
      "Epoch: 36\n",
      "Learning rate: 0.0008064176\n"
     ]
    },
    {
     "name": "stderr",
     "output_type": "stream",
     "text": [
      "100%|██████████████████████████████████████| 2144/2144 [00:04<00:00, 493.23it/s]\n"
     ]
    },
    {
     "name": "stdout",
     "output_type": "stream",
     "text": [
      "Generator Error Metric is 0.19478976726531982\n",
      "Time for epoch 36 is 4.348499774932861 sec\n",
      "Epoch: 37\n",
      "Learning rate: 0.0008014751\n"
     ]
    },
    {
     "name": "stderr",
     "output_type": "stream",
     "text": [
      "100%|██████████████████████████████████████| 2144/2144 [00:04<00:00, 499.17it/s]\n"
     ]
    },
    {
     "name": "stdout",
     "output_type": "stream",
     "text": [
      "Generator Error Metric is 0.19693422317504883\n",
      "Time for epoch 37 is 4.296721935272217 sec\n",
      "Epoch: 38\n",
      "Learning rate: 0.00079656276\n"
     ]
    },
    {
     "name": "stderr",
     "output_type": "stream",
     "text": [
      "100%|██████████████████████████████████████| 2144/2144 [00:04<00:00, 499.00it/s]\n"
     ]
    },
    {
     "name": "stdout",
     "output_type": "stream",
     "text": [
      "Generator Error Metric is 0.18474259972572327\n",
      "Time for epoch 38 is 4.298128843307495 sec\n",
      "Epoch: 39\n",
      "Learning rate: 0.0007916806\n"
     ]
    },
    {
     "name": "stderr",
     "output_type": "stream",
     "text": [
      "100%|██████████████████████████████████████| 2144/2144 [00:04<00:00, 502.50it/s]\n"
     ]
    },
    {
     "name": "stdout",
     "output_type": "stream",
     "text": [
      "Generator Error Metric is 0.18700408935546875\n",
      "Time for epoch 39 is 4.268126487731934 sec\n",
      "Epoch: 40\n",
      "Learning rate: 0.0007868284\n"
     ]
    },
    {
     "name": "stderr",
     "output_type": "stream",
     "text": [
      "100%|██████████████████████████████████████| 2144/2144 [00:04<00:00, 504.56it/s]\n"
     ]
    },
    {
     "name": "stdout",
     "output_type": "stream",
     "text": [
      "Generator Error Metric is 0.18757234513759613\n",
      "Time for epoch 40 is 4.2511351108551025 sec\n",
      "Epoch: 41\n",
      "Learning rate: 0.0007820059\n"
     ]
    },
    {
     "name": "stderr",
     "output_type": "stream",
     "text": [
      "100%|██████████████████████████████████████| 2144/2144 [00:04<00:00, 439.12it/s]\n"
     ]
    },
    {
     "name": "stdout",
     "output_type": "stream",
     "text": [
      "Generator Error Metric is 0.18823759257793427\n",
      "Time for epoch 41 is 4.8848206996917725 sec\n",
      "Epoch: 42\n",
      "Learning rate: 0.00077721296\n"
     ]
    },
    {
     "name": "stderr",
     "output_type": "stream",
     "text": [
      "100%|██████████████████████████████████████| 2144/2144 [00:04<00:00, 507.37it/s]\n"
     ]
    },
    {
     "name": "stdout",
     "output_type": "stream",
     "text": [
      "Generator Error Metric is 0.19030873477458954\n",
      "Time for epoch 42 is 4.227726936340332 sec\n",
      "Epoch: 43\n",
      "Learning rate: 0.00077244936\n"
     ]
    },
    {
     "name": "stderr",
     "output_type": "stream",
     "text": [
      "100%|██████████████████████████████████████| 2144/2144 [00:04<00:00, 509.84it/s]\n"
     ]
    },
    {
     "name": "stdout",
     "output_type": "stream",
     "text": [
      "Generator Error Metric is 0.19102822244167328\n",
      "Time for epoch 43 is 4.207403659820557 sec\n",
      "Epoch: 44\n",
      "Learning rate: 0.0007677149\n"
     ]
    },
    {
     "name": "stderr",
     "output_type": "stream",
     "text": [
      "100%|██████████████████████████████████████| 2144/2144 [00:04<00:00, 512.68it/s]\n"
     ]
    },
    {
     "name": "stdout",
     "output_type": "stream",
     "text": [
      "Generator Error Metric is 0.1885593980550766\n",
      "Time for epoch 44 is 4.183747291564941 sec\n",
      "Epoch: 45\n",
      "Learning rate: 0.00076300965\n"
     ]
    },
    {
     "name": "stderr",
     "output_type": "stream",
     "text": [
      "100%|██████████████████████████████████████| 2144/2144 [00:04<00:00, 511.60it/s]\n"
     ]
    },
    {
     "name": "stdout",
     "output_type": "stream",
     "text": [
      "Generator Error Metric is 0.19109030067920685\n",
      "Time for epoch 45 is 4.1926164627075195 sec\n",
      "Epoch: 46\n",
      "Learning rate: 0.00075833313\n"
     ]
    },
    {
     "name": "stderr",
     "output_type": "stream",
     "text": [
      "100%|██████████████████████████████████████| 2144/2144 [00:04<00:00, 496.00it/s]\n"
     ]
    },
    {
     "name": "stdout",
     "output_type": "stream",
     "text": [
      "Generator Error Metric is 0.19260862469673157\n",
      "Time for epoch 46 is 4.324540376663208 sec\n",
      "Epoch: 47\n",
      "Learning rate: 0.00075368525\n"
     ]
    },
    {
     "name": "stderr",
     "output_type": "stream",
     "text": [
      "100%|██████████████████████████████████████| 2144/2144 [00:05<00:00, 373.48it/s]\n"
     ]
    },
    {
     "name": "stdout",
     "output_type": "stream",
     "text": [
      "Generator Error Metric is 0.21007989346981049\n",
      "Time for epoch 47 is 5.7426769733428955 sec\n",
      "Epoch: 48\n",
      "Learning rate: 0.00074906583\n"
     ]
    },
    {
     "name": "stderr",
     "output_type": "stream",
     "text": [
      "100%|██████████████████████████████████████| 2144/2144 [00:04<00:00, 465.20it/s]\n"
     ]
    },
    {
     "name": "stdout",
     "output_type": "stream",
     "text": [
      "Generator Error Metric is 0.22074347734451294\n",
      "Time for epoch 48 is 4.610568284988403 sec\n",
      "Epoch: 49\n",
      "Learning rate: 0.0007444748\n"
     ]
    },
    {
     "name": "stderr",
     "output_type": "stream",
     "text": [
      "100%|██████████████████████████████████████| 2144/2144 [00:04<00:00, 507.88it/s]\n"
     ]
    },
    {
     "name": "stdout",
     "output_type": "stream",
     "text": [
      "Generator Error Metric is 0.21944691240787506\n",
      "Time for epoch 49 is 4.223136901855469 sec\n",
      "Epoch: 50\n",
      "Learning rate: 0.0007399119\n"
     ]
    },
    {
     "name": "stderr",
     "output_type": "stream",
     "text": [
      "100%|██████████████████████████████████████| 2144/2144 [00:04<00:00, 508.56it/s]\n"
     ]
    },
    {
     "name": "stdout",
     "output_type": "stream",
     "text": [
      "Generator Error Metric is 0.20433591306209564\n",
      "Time for epoch 50 is 4.217496633529663 sec\n",
      "Epoch: 51\n",
      "Learning rate: 0.00073537696\n"
     ]
    },
    {
     "name": "stderr",
     "output_type": "stream",
     "text": [
      "100%|██████████████████████████████████████| 2144/2144 [00:04<00:00, 512.15it/s]\n"
     ]
    },
    {
     "name": "stdout",
     "output_type": "stream",
     "text": [
      "Generator Error Metric is 0.23090703785419464\n",
      "Time for epoch 51 is 4.188313007354736 sec\n",
      "Epoch: 52\n",
      "Learning rate: 0.0007308698\n"
     ]
    },
    {
     "name": "stderr",
     "output_type": "stream",
     "text": [
      "100%|██████████████████████████████████████| 2144/2144 [00:04<00:00, 507.11it/s]\n"
     ]
    },
    {
     "name": "stdout",
     "output_type": "stream",
     "text": [
      "Generator Error Metric is 0.22023344039916992\n",
      "Time for epoch 52 is 4.22979736328125 sec\n",
      "Epoch: 53\n",
      "Learning rate: 0.0007263903\n"
     ]
    },
    {
     "name": "stderr",
     "output_type": "stream",
     "text": [
      "100%|██████████████████████████████████████| 2144/2144 [00:04<00:00, 494.65it/s]\n"
     ]
    },
    {
     "name": "stdout",
     "output_type": "stream",
     "text": [
      "Generator Error Metric is 0.22184674441814423\n",
      "Time for epoch 53 is 4.336691617965698 sec\n",
      "Epoch: 54\n",
      "Learning rate: 0.0007219382\n"
     ]
    },
    {
     "name": "stderr",
     "output_type": "stream",
     "text": [
      "100%|██████████████████████████████████████| 2144/2144 [00:05<00:00, 419.14it/s]\n"
     ]
    },
    {
     "name": "stdout",
     "output_type": "stream",
     "text": [
      "Generator Error Metric is 0.23095625638961792\n",
      "Time for epoch 54 is 5.117319822311401 sec\n",
      "Epoch: 55\n",
      "Learning rate: 0.00071751344\n"
     ]
    },
    {
     "name": "stderr",
     "output_type": "stream",
     "text": [
      "100%|██████████████████████████████████████| 2144/2144 [00:04<00:00, 509.72it/s]\n"
     ]
    },
    {
     "name": "stdout",
     "output_type": "stream",
     "text": [
      "Generator Error Metric is 0.23105011880397797\n",
      "Time for epoch 55 is 4.208415746688843 sec\n",
      "Epoch: 56\n",
      "Learning rate: 0.00071311573\n"
     ]
    },
    {
     "name": "stderr",
     "output_type": "stream",
     "text": [
      "100%|██████████████████████████████████████| 2144/2144 [00:04<00:00, 505.89it/s]\n"
     ]
    },
    {
     "name": "stdout",
     "output_type": "stream",
     "text": [
      "Generator Error Metric is 0.2182760387659073\n",
      "Time for epoch 56 is 4.239928483963013 sec\n",
      "Epoch: 57\n",
      "Learning rate: 0.000708745\n"
     ]
    },
    {
     "name": "stderr",
     "output_type": "stream",
     "text": [
      "100%|██████████████████████████████████████| 2144/2144 [00:04<00:00, 486.38it/s]\n"
     ]
    },
    {
     "name": "stdout",
     "output_type": "stream",
     "text": [
      "Generator Error Metric is 0.22616979479789734\n",
      "Time for epoch 57 is 4.410097599029541 sec\n",
      "Epoch: 58\n",
      "Learning rate: 0.0007044011\n"
     ]
    },
    {
     "name": "stderr",
     "output_type": "stream",
     "text": [
      "100%|██████████████████████████████████████| 2144/2144 [00:04<00:00, 494.47it/s]\n"
     ]
    },
    {
     "name": "stdout",
     "output_type": "stream",
     "text": [
      "Generator Error Metric is 0.2242477685213089\n",
      "Time for epoch 58 is 4.337799787521362 sec\n",
      "Epoch: 59\n",
      "Learning rate: 0.0007000838\n"
     ]
    },
    {
     "name": "stderr",
     "output_type": "stream",
     "text": [
      "100%|██████████████████████████████████████| 2144/2144 [00:04<00:00, 498.32it/s]\n"
     ]
    },
    {
     "name": "stdout",
     "output_type": "stream",
     "text": [
      "Generator Error Metric is 0.22415196895599365\n",
      "Time for epoch 59 is 4.304076194763184 sec\n",
      "Epoch: 60\n",
      "Learning rate: 0.00069579296\n"
     ]
    },
    {
     "name": "stderr",
     "output_type": "stream",
     "text": [
      "100%|██████████████████████████████████████| 2144/2144 [00:04<00:00, 498.34it/s]\n"
     ]
    },
    {
     "name": "stdout",
     "output_type": "stream",
     "text": [
      "Generator Error Metric is 0.200872540473938\n",
      "Time for epoch 60 is 4.304004907608032 sec\n",
      "Epoch: 61\n",
      "Learning rate: 0.0006915284\n"
     ]
    },
    {
     "name": "stderr",
     "output_type": "stream",
     "text": [
      "100%|██████████████████████████████████████| 2144/2144 [00:04<00:00, 503.05it/s]\n"
     ]
    },
    {
     "name": "stdout",
     "output_type": "stream",
     "text": [
      "Generator Error Metric is 0.2271728217601776\n",
      "Time for epoch 61 is 4.263835906982422 sec\n",
      "Epoch: 62\n",
      "Learning rate: 0.00068729\n"
     ]
    },
    {
     "name": "stderr",
     "output_type": "stream",
     "text": [
      "100%|██████████████████████████████████████| 2144/2144 [00:05<00:00, 408.29it/s]\n"
     ]
    },
    {
     "name": "stdout",
     "output_type": "stream",
     "text": [
      "Generator Error Metric is 0.2189122438430786\n",
      "Time for epoch 62 is 5.2530224323272705 sec\n",
      "Epoch: 63\n",
      "Learning rate: 0.00068307755\n"
     ]
    },
    {
     "name": "stderr",
     "output_type": "stream",
     "text": [
      "100%|██████████████████████████████████████| 2144/2144 [00:04<00:00, 495.16it/s]\n"
     ]
    },
    {
     "name": "stdout",
     "output_type": "stream",
     "text": [
      "Generator Error Metric is 0.2076052874326706\n",
      "Time for epoch 63 is 4.3315112590789795 sec\n",
      "Epoch: 64\n",
      "Learning rate: 0.0006788909\n"
     ]
    },
    {
     "name": "stderr",
     "output_type": "stream",
     "text": [
      "100%|██████████████████████████████████████| 2144/2144 [00:05<00:00, 392.16it/s]\n"
     ]
    },
    {
     "name": "stdout",
     "output_type": "stream",
     "text": [
      "Generator Error Metric is 0.2005605399608612\n",
      "Time for epoch 64 is 5.469274997711182 sec\n",
      "Epoch: 65\n",
      "Learning rate: 0.00067473005\n"
     ]
    },
    {
     "name": "stderr",
     "output_type": "stream",
     "text": [
      "100%|██████████████████████████████████████| 2144/2144 [00:05<00:00, 381.09it/s]\n"
     ]
    },
    {
     "name": "stdout",
     "output_type": "stream",
     "text": [
      "Generator Error Metric is 0.2509533762931824\n",
      "Time for epoch 65 is 5.628943681716919 sec\n",
      "Epoch: 66\n",
      "Learning rate: 0.00067059457\n"
     ]
    },
    {
     "name": "stderr",
     "output_type": "stream",
     "text": [
      "100%|██████████████████████████████████████| 2144/2144 [00:05<00:00, 377.72it/s]\n"
     ]
    },
    {
     "name": "stdout",
     "output_type": "stream",
     "text": [
      "Generator Error Metric is 0.2445448935031891\n",
      "Time for epoch 66 is 5.678713798522949 sec\n",
      "Epoch: 67\n",
      "Learning rate: 0.00066648447\n"
     ]
    },
    {
     "name": "stderr",
     "output_type": "stream",
     "text": [
      "100%|██████████████████████████████████████| 2144/2144 [00:04<00:00, 476.17it/s]\n"
     ]
    },
    {
     "name": "stdout",
     "output_type": "stream",
     "text": [
      "Generator Error Metric is 0.2303793877363205\n",
      "Time for epoch 67 is 4.504581928253174 sec\n",
      "Epoch: 68\n",
      "Learning rate: 0.0006623995\n"
     ]
    },
    {
     "name": "stderr",
     "output_type": "stream",
     "text": [
      "100%|██████████████████████████████████████| 2144/2144 [00:04<00:00, 485.28it/s]\n"
     ]
    },
    {
     "name": "stdout",
     "output_type": "stream",
     "text": [
      "Generator Error Metric is 0.2175510972738266\n",
      "Time for epoch 68 is 4.420017957687378 sec\n",
      "Epoch: 69\n",
      "Learning rate: 0.00065833965\n"
     ]
    },
    {
     "name": "stderr",
     "output_type": "stream",
     "text": [
      "100%|██████████████████████████████████████| 2144/2144 [00:04<00:00, 501.37it/s]\n"
     ]
    },
    {
     "name": "stdout",
     "output_type": "stream",
     "text": [
      "Generator Error Metric is 0.22083419561386108\n",
      "Time for epoch 69 is 4.277828693389893 sec\n",
      "Epoch: 70\n",
      "Learning rate: 0.00065430463\n"
     ]
    },
    {
     "name": "stderr",
     "output_type": "stream",
     "text": [
      "100%|██████████████████████████████████████| 2144/2144 [00:04<00:00, 510.28it/s]\n"
     ]
    },
    {
     "name": "stdout",
     "output_type": "stream",
     "text": [
      "Generator Error Metric is 0.21652336418628693\n",
      "Time for epoch 70 is 4.203458309173584 sec\n",
      "Epoch: 71\n",
      "Learning rate: 0.0006502944\n"
     ]
    },
    {
     "name": "stderr",
     "output_type": "stream",
     "text": [
      "100%|██████████████████████████████████████| 2144/2144 [00:04<00:00, 505.86it/s]\n"
     ]
    },
    {
     "name": "stdout",
     "output_type": "stream",
     "text": [
      "Generator Error Metric is 0.22039277851581573\n",
      "Time for epoch 71 is 4.2396979331970215 sec\n",
      "Epoch: 72\n",
      "Learning rate: 0.00064630876\n"
     ]
    },
    {
     "name": "stderr",
     "output_type": "stream",
     "text": [
      "100%|██████████████████████████████████████| 2144/2144 [00:04<00:00, 433.77it/s]\n"
     ]
    },
    {
     "name": "stdout",
     "output_type": "stream",
     "text": [
      "Generator Error Metric is 0.2183145135641098\n",
      "Time for epoch 72 is 4.944131851196289 sec\n",
      "Epoch: 73\n",
      "Learning rate: 0.00064234744\n"
     ]
    },
    {
     "name": "stderr",
     "output_type": "stream",
     "text": [
      "100%|██████████████████████████████████████| 2144/2144 [00:04<00:00, 503.41it/s]\n"
     ]
    },
    {
     "name": "stdout",
     "output_type": "stream",
     "text": [
      "Generator Error Metric is 0.21608173847198486\n",
      "Time for epoch 73 is 4.261054515838623 sec\n",
      "Epoch: 74\n",
      "Learning rate: 0.00063841057\n"
     ]
    },
    {
     "name": "stderr",
     "output_type": "stream",
     "text": [
      "100%|██████████████████████████████████████| 2144/2144 [00:04<00:00, 501.98it/s]\n"
     ]
    },
    {
     "name": "stdout",
     "output_type": "stream",
     "text": [
      "Generator Error Metric is 0.21645872294902802\n",
      "Time for epoch 74 is 4.2730629444122314 sec\n",
      "Epoch: 75\n",
      "Learning rate: 0.0006344977\n"
     ]
    },
    {
     "name": "stderr",
     "output_type": "stream",
     "text": [
      "100%|██████████████████████████████████████| 2144/2144 [00:04<00:00, 492.87it/s]\n"
     ]
    },
    {
     "name": "stdout",
     "output_type": "stream",
     "text": [
      "Generator Error Metric is 0.2185126543045044\n",
      "Time for epoch 75 is 4.352238416671753 sec\n",
      "Epoch: 76\n",
      "Learning rate: 0.00063060876\n"
     ]
    },
    {
     "name": "stderr",
     "output_type": "stream",
     "text": [
      "100%|██████████████████████████████████████| 2144/2144 [00:04<00:00, 507.10it/s]\n"
     ]
    },
    {
     "name": "stdout",
     "output_type": "stream",
     "text": [
      "Generator Error Metric is 0.22097469866275787\n",
      "Time for epoch 76 is 4.229834794998169 sec\n",
      "Epoch: 77\n",
      "Learning rate: 0.0006267438\n"
     ]
    },
    {
     "name": "stderr",
     "output_type": "stream",
     "text": [
      "100%|██████████████████████████████████████| 2144/2144 [00:04<00:00, 485.11it/s]\n"
     ]
    },
    {
     "name": "stdout",
     "output_type": "stream",
     "text": [
      "Generator Error Metric is 0.19485120475292206\n",
      "Time for epoch 77 is 4.4215168952941895 sec\n",
      "Epoch: 78\n",
      "Learning rate: 0.0006229024\n"
     ]
    },
    {
     "name": "stderr",
     "output_type": "stream",
     "text": [
      "100%|██████████████████████████████████████| 2144/2144 [00:04<00:00, 495.97it/s]\n"
     ]
    },
    {
     "name": "stdout",
     "output_type": "stream",
     "text": [
      "Generator Error Metric is 0.20647548139095306\n",
      "Time for epoch 78 is 4.3246636390686035 sec\n",
      "Epoch: 79\n",
      "Learning rate: 0.00061908463\n"
     ]
    },
    {
     "name": "stderr",
     "output_type": "stream",
     "text": [
      "100%|██████████████████████████████████████| 2144/2144 [00:04<00:00, 430.19it/s]\n"
     ]
    },
    {
     "name": "stdout",
     "output_type": "stream",
     "text": [
      "Generator Error Metric is 0.2275441437959671\n",
      "Time for epoch 79 is 4.986020088195801 sec\n",
      "Epoch: 80\n",
      "Learning rate: 0.00061529025\n"
     ]
    },
    {
     "name": "stderr",
     "output_type": "stream",
     "text": [
      "100%|██████████████████████████████████████| 2144/2144 [00:05<00:00, 413.06it/s]\n"
     ]
    },
    {
     "name": "stdout",
     "output_type": "stream",
     "text": [
      "Generator Error Metric is 0.18576696515083313\n",
      "Time for epoch 80 is 5.192826747894287 sec\n",
      "Epoch: 81\n",
      "Learning rate: 0.0006115191\n"
     ]
    },
    {
     "name": "stderr",
     "output_type": "stream",
     "text": [
      "100%|██████████████████████████████████████| 2144/2144 [00:04<00:00, 468.84it/s]\n"
     ]
    },
    {
     "name": "stdout",
     "output_type": "stream",
     "text": [
      "Generator Error Metric is 0.1713465452194214\n",
      "Time for epoch 81 is 4.574847459793091 sec\n",
      "Epoch: 82\n",
      "Learning rate: 0.00060777104\n"
     ]
    },
    {
     "name": "stderr",
     "output_type": "stream",
     "text": [
      "100%|██████████████████████████████████████| 2144/2144 [00:05<00:00, 371.15it/s]\n"
     ]
    },
    {
     "name": "stdout",
     "output_type": "stream",
     "text": [
      "Generator Error Metric is 0.13866853713989258\n",
      "Time for epoch 82 is 5.778909683227539 sec\n",
      "Epoch: 83\n",
      "Learning rate: 0.00060404604\n"
     ]
    },
    {
     "name": "stderr",
     "output_type": "stream",
     "text": [
      "100%|██████████████████████████████████████| 2144/2144 [00:05<00:00, 368.04it/s]\n"
     ]
    },
    {
     "name": "stdout",
     "output_type": "stream",
     "text": [
      "Generator Error Metric is 0.14852429926395416\n",
      "Time for epoch 83 is 5.8275110721588135 sec\n",
      "Epoch: 84\n",
      "Learning rate: 0.00060034374\n"
     ]
    },
    {
     "name": "stderr",
     "output_type": "stream",
     "text": [
      "100%|██████████████████████████████████████| 2144/2144 [00:05<00:00, 375.48it/s]\n"
     ]
    },
    {
     "name": "stdout",
     "output_type": "stream",
     "text": [
      "Generator Error Metric is 0.15586620569229126\n",
      "Time for epoch 84 is 5.712196111679077 sec\n",
      "Epoch: 85\n",
      "Learning rate: 0.0005966642\n"
     ]
    },
    {
     "name": "stderr",
     "output_type": "stream",
     "text": [
      "100%|██████████████████████████████████████| 2144/2144 [00:05<00:00, 368.53it/s]\n"
     ]
    },
    {
     "name": "stdout",
     "output_type": "stream",
     "text": [
      "Generator Error Metric is 0.17727316915988922\n",
      "Time for epoch 85 is 5.819879770278931 sec\n",
      "Epoch: 86\n",
      "Learning rate: 0.0005930073\n"
     ]
    },
    {
     "name": "stderr",
     "output_type": "stream",
     "text": [
      "100%|██████████████████████████████████████| 2144/2144 [00:05<00:00, 390.27it/s]\n"
     ]
    },
    {
     "name": "stdout",
     "output_type": "stream",
     "text": [
      "Generator Error Metric is 0.17652377486228943\n",
      "Time for epoch 86 is 5.495795011520386 sec\n",
      "Epoch: 87\n",
      "Learning rate: 0.0005893727\n"
     ]
    },
    {
     "name": "stderr",
     "output_type": "stream",
     "text": [
      "100%|██████████████████████████████████████| 2144/2144 [00:04<00:00, 494.55it/s]\n"
     ]
    },
    {
     "name": "stdout",
     "output_type": "stream",
     "text": [
      "Generator Error Metric is 0.15844900906085968\n",
      "Time for epoch 87 is 4.337051630020142 sec\n",
      "Epoch: 88\n",
      "Learning rate: 0.0005857604\n"
     ]
    },
    {
     "name": "stderr",
     "output_type": "stream",
     "text": [
      "100%|██████████████████████████████████████| 2144/2144 [00:04<00:00, 504.69it/s]\n"
     ]
    },
    {
     "name": "stdout",
     "output_type": "stream",
     "text": [
      "Generator Error Metric is 0.11817776411771774\n",
      "Time for epoch 88 is 4.24954628944397 sec\n",
      "Epoch: 89\n",
      "Learning rate: 0.00058217027\n"
     ]
    },
    {
     "name": "stderr",
     "output_type": "stream",
     "text": [
      "100%|██████████████████████████████████████| 2144/2144 [00:05<00:00, 425.48it/s]\n"
     ]
    },
    {
     "name": "stdout",
     "output_type": "stream",
     "text": [
      "Generator Error Metric is 0.14034095406532288\n",
      "Time for epoch 89 is 5.040846109390259 sec\n",
      "Epoch: 90\n",
      "Learning rate: 0.0005786021\n"
     ]
    },
    {
     "name": "stderr",
     "output_type": "stream",
     "text": [
      "100%|██████████████████████████████████████| 2144/2144 [00:05<00:00, 376.17it/s]\n"
     ]
    },
    {
     "name": "stdout",
     "output_type": "stream",
     "text": [
      "Generator Error Metric is 0.14838479459285736\n",
      "Time for epoch 90 is 5.7014570236206055 sec\n",
      "Epoch: 91\n",
      "Learning rate: 0.0005750559\n"
     ]
    },
    {
     "name": "stderr",
     "output_type": "stream",
     "text": [
      "100%|██████████████████████████████████████| 2144/2144 [00:04<00:00, 493.15it/s]\n"
     ]
    },
    {
     "name": "stdout",
     "output_type": "stream",
     "text": [
      "Generator Error Metric is 0.15847010910511017\n",
      "Time for epoch 91 is 4.349328279495239 sec\n",
      "Epoch: 92\n",
      "Learning rate: 0.0005715313\n"
     ]
    },
    {
     "name": "stderr",
     "output_type": "stream",
     "text": [
      "100%|██████████████████████████████████████| 2144/2144 [00:04<00:00, 490.16it/s]\n"
     ]
    },
    {
     "name": "stdout",
     "output_type": "stream",
     "text": [
      "Generator Error Metric is 0.15715667605400085\n",
      "Time for epoch 92 is 4.375915765762329 sec\n",
      "Epoch: 93\n",
      "Learning rate: 0.00056802836\n"
     ]
    },
    {
     "name": "stderr",
     "output_type": "stream",
     "text": [
      "100%|██████████████████████████████████████| 2144/2144 [00:04<00:00, 497.92it/s]\n"
     ]
    },
    {
     "name": "stdout",
     "output_type": "stream",
     "text": [
      "Generator Error Metric is 0.1480979025363922\n",
      "Time for epoch 93 is 4.3080363273620605 sec\n",
      "Epoch: 94\n",
      "Learning rate: 0.00056454685\n"
     ]
    },
    {
     "name": "stderr",
     "output_type": "stream",
     "text": [
      "100%|██████████████████████████████████████| 2144/2144 [00:04<00:00, 498.90it/s]\n"
     ]
    },
    {
     "name": "stdout",
     "output_type": "stream",
     "text": [
      "Generator Error Metric is 0.17384041845798492\n",
      "Time for epoch 94 is 4.299437761306763 sec\n",
      "Epoch: 95\n",
      "Learning rate: 0.00056108675\n"
     ]
    },
    {
     "name": "stderr",
     "output_type": "stream",
     "text": [
      "100%|██████████████████████████████████████| 2144/2144 [00:04<00:00, 501.14it/s]\n"
     ]
    },
    {
     "name": "stdout",
     "output_type": "stream",
     "text": [
      "Generator Error Metric is 0.1706676185131073\n",
      "Time for epoch 95 is 4.280200481414795 sec\n",
      "Epoch: 96\n",
      "Learning rate: 0.00055764784\n"
     ]
    },
    {
     "name": "stderr",
     "output_type": "stream",
     "text": [
      "100%|██████████████████████████████████████| 2144/2144 [00:04<00:00, 509.58it/s]\n"
     ]
    },
    {
     "name": "stdout",
     "output_type": "stream",
     "text": [
      "Generator Error Metric is 0.14435847103595734\n",
      "Time for epoch 96 is 4.209474802017212 sec\n",
      "Epoch: 97\n",
      "Learning rate: 0.00055423\n"
     ]
    },
    {
     "name": "stderr",
     "output_type": "stream",
     "text": [
      "100%|██████████████████████████████████████| 2144/2144 [00:04<00:00, 508.10it/s]\n"
     ]
    },
    {
     "name": "stdout",
     "output_type": "stream",
     "text": [
      "Generator Error Metric is 0.1358250379562378\n",
      "Time for epoch 97 is 4.221326589584351 sec\n",
      "Epoch: 98\n",
      "Learning rate: 0.00055083307\n"
     ]
    },
    {
     "name": "stderr",
     "output_type": "stream",
     "text": [
      "100%|██████████████████████████████████████| 2144/2144 [00:04<00:00, 491.31it/s]\n"
     ]
    },
    {
     "name": "stdout",
     "output_type": "stream",
     "text": [
      "Generator Error Metric is 0.12590985000133514\n",
      "Time for epoch 98 is 4.365429878234863 sec\n",
      "Epoch: 99\n",
      "Learning rate: 0.000547457\n"
     ]
    },
    {
     "name": "stderr",
     "output_type": "stream",
     "text": [
      "100%|██████████████████████████████████████| 2144/2144 [00:04<00:00, 454.03it/s]\n"
     ]
    },
    {
     "name": "stdout",
     "output_type": "stream",
     "text": [
      "Generator Error Metric is 0.13454611599445343\n",
      "Time for epoch 99 is 4.724072694778442 sec\n",
      "Epoch: 100\n",
      "Learning rate: 0.00054410164\n"
     ]
    },
    {
     "name": "stderr",
     "output_type": "stream",
     "text": [
      "100%|██████████████████████████████████████| 2144/2144 [00:05<00:00, 371.50it/s]\n"
     ]
    },
    {
     "name": "stdout",
     "output_type": "stream",
     "text": [
      "Generator Error Metric is 0.12484805285930634\n",
      "Time for epoch 100 is 5.773484468460083 sec\n",
      "Epoch: 101\n",
      "Learning rate: 0.00054076675\n"
     ]
    },
    {
     "name": "stderr",
     "output_type": "stream",
     "text": [
      "100%|██████████████████████████████████████| 2144/2144 [00:05<00:00, 372.59it/s]\n"
     ]
    },
    {
     "name": "stdout",
     "output_type": "stream",
     "text": [
      "Generator Error Metric is 0.10956376045942307\n",
      "Time for epoch 101 is 5.756654500961304 sec\n",
      "Epoch: 102\n",
      "Learning rate: 0.0005374524\n"
     ]
    },
    {
     "name": "stderr",
     "output_type": "stream",
     "text": [
      "100%|██████████████████████████████████████| 2144/2144 [00:05<00:00, 373.12it/s]\n"
     ]
    },
    {
     "name": "stdout",
     "output_type": "stream",
     "text": [
      "Generator Error Metric is 0.12686455249786377\n",
      "Time for epoch 102 is 5.748076915740967 sec\n",
      "Epoch: 103\n",
      "Learning rate: 0.0005341584\n"
     ]
    },
    {
     "name": "stderr",
     "output_type": "stream",
     "text": [
      "100%|██████████████████████████████████████| 2144/2144 [00:05<00:00, 373.77it/s]\n"
     ]
    },
    {
     "name": "stdout",
     "output_type": "stream",
     "text": [
      "Generator Error Metric is 0.14903397858142853\n",
      "Time for epoch 103 is 5.738427639007568 sec\n",
      "Epoch: 104\n",
      "Learning rate: 0.0005308845\n"
     ]
    },
    {
     "name": "stderr",
     "output_type": "stream",
     "text": [
      "100%|██████████████████████████████████████| 2144/2144 [00:05<00:00, 374.38it/s]\n"
     ]
    },
    {
     "name": "stdout",
     "output_type": "stream",
     "text": [
      "Generator Error Metric is 0.12643903493881226\n",
      "Time for epoch 104 is 5.728836297988892 sec\n",
      "Epoch: 105\n",
      "Learning rate: 0.00052763073\n"
     ]
    },
    {
     "name": "stderr",
     "output_type": "stream",
     "text": [
      "100%|██████████████████████████████████████| 2144/2144 [00:04<00:00, 441.80it/s]\n"
     ]
    },
    {
     "name": "stdout",
     "output_type": "stream",
     "text": [
      "Generator Error Metric is 0.10458168387413025\n",
      "Time for epoch 105 is 4.85483980178833 sec\n",
      "Epoch: 106\n",
      "Learning rate: 0.0005243967\n"
     ]
    },
    {
     "name": "stderr",
     "output_type": "stream",
     "text": [
      "100%|██████████████████████████████████████| 2144/2144 [00:04<00:00, 511.69it/s]\n"
     ]
    },
    {
     "name": "stdout",
     "output_type": "stream",
     "text": [
      "Generator Error Metric is 0.09757351130247116\n",
      "Time for epoch 106 is 4.191994905471802 sec\n",
      "Epoch: 107\n",
      "Learning rate: 0.00052118266\n"
     ]
    },
    {
     "name": "stderr",
     "output_type": "stream",
     "text": [
      "100%|██████████████████████████████████████| 2144/2144 [00:04<00:00, 518.78it/s]\n"
     ]
    },
    {
     "name": "stdout",
     "output_type": "stream",
     "text": [
      "Generator Error Metric is 0.09794840961694717\n",
      "Time for epoch 107 is 4.134854078292847 sec\n",
      "Epoch: 108\n",
      "Learning rate: 0.00051798834\n"
     ]
    },
    {
     "name": "stderr",
     "output_type": "stream",
     "text": [
      "100%|██████████████████████████████████████| 2144/2144 [00:04<00:00, 512.27it/s]\n"
     ]
    },
    {
     "name": "stdout",
     "output_type": "stream",
     "text": [
      "Generator Error Metric is 0.13300341367721558\n",
      "Time for epoch 108 is 4.187276124954224 sec\n",
      "Epoch: 109\n",
      "Learning rate: 0.00051481364\n"
     ]
    },
    {
     "name": "stderr",
     "output_type": "stream",
     "text": [
      "100%|██████████████████████████████████████| 2144/2144 [00:04<00:00, 513.01it/s]\n"
     ]
    },
    {
     "name": "stdout",
     "output_type": "stream",
     "text": [
      "Generator Error Metric is 0.1360044777393341\n",
      "Time for epoch 109 is 4.181260108947754 sec\n",
      "Epoch: 110\n",
      "Learning rate: 0.0005116583\n"
     ]
    },
    {
     "name": "stderr",
     "output_type": "stream",
     "text": [
      "100%|██████████████████████████████████████| 2144/2144 [00:04<00:00, 505.60it/s]\n"
     ]
    },
    {
     "name": "stdout",
     "output_type": "stream",
     "text": [
      "Generator Error Metric is 0.11272884160280228\n",
      "Time for epoch 110 is 4.24263596534729 sec\n",
      "Epoch: 111\n",
      "Learning rate: 0.0005085224\n"
     ]
    },
    {
     "name": "stderr",
     "output_type": "stream",
     "text": [
      "100%|██████████████████████████████████████| 2144/2144 [00:04<00:00, 504.04it/s]\n"
     ]
    },
    {
     "name": "stdout",
     "output_type": "stream",
     "text": [
      "Generator Error Metric is 0.09566458314657211\n",
      "Time for epoch 111 is 4.255759239196777 sec\n",
      "Epoch: 112\n",
      "Learning rate: 0.0005054056\n"
     ]
    },
    {
     "name": "stderr",
     "output_type": "stream",
     "text": [
      "100%|██████████████████████████████████████| 2144/2144 [00:04<00:00, 508.19it/s]\n"
     ]
    },
    {
     "name": "stdout",
     "output_type": "stream",
     "text": [
      "Generator Error Metric is 0.09407404810190201\n",
      "Time for epoch 112 is 4.220831871032715 sec\n",
      "Epoch: 113\n",
      "Learning rate: 0.0005023079\n"
     ]
    },
    {
     "name": "stderr",
     "output_type": "stream",
     "text": [
      "100%|██████████████████████████████████████| 2144/2144 [00:05<00:00, 409.77it/s]\n"
     ]
    },
    {
     "name": "stdout",
     "output_type": "stream",
     "text": [
      "Generator Error Metric is 0.08305755257606506\n",
      "Time for epoch 113 is 5.234383821487427 sec\n",
      "Epoch: 114\n",
      "Learning rate: 0.00049922924\n"
     ]
    },
    {
     "name": "stderr",
     "output_type": "stream",
     "text": [
      "100%|██████████████████████████████████████| 2144/2144 [00:05<00:00, 378.61it/s]\n"
     ]
    },
    {
     "name": "stdout",
     "output_type": "stream",
     "text": [
      "Generator Error Metric is 0.08200882375240326\n",
      "Time for epoch 114 is 5.665528297424316 sec\n",
      "Epoch: 115\n",
      "Learning rate: 0.00049616944\n"
     ]
    },
    {
     "name": "stderr",
     "output_type": "stream",
     "text": [
      "100%|██████████████████████████████████████| 2144/2144 [00:05<00:00, 377.42it/s]\n"
     ]
    },
    {
     "name": "stdout",
     "output_type": "stream",
     "text": [
      "Generator Error Metric is 0.08350389450788498\n",
      "Time for epoch 115 is 5.68328332901001 sec\n",
      "Epoch: 116\n",
      "Learning rate: 0.00049312843\n"
     ]
    },
    {
     "name": "stderr",
     "output_type": "stream",
     "text": [
      "100%|██████████████████████████████████████| 2144/2144 [00:05<00:00, 376.55it/s]\n"
     ]
    },
    {
     "name": "stdout",
     "output_type": "stream",
     "text": [
      "Generator Error Metric is 0.07794037461280823\n",
      "Time for epoch 116 is 5.6962950229644775 sec\n",
      "Epoch: 117\n",
      "Learning rate: 0.000490106\n"
     ]
    },
    {
     "name": "stderr",
     "output_type": "stream",
     "text": [
      "100%|██████████████████████████████████████| 2144/2144 [00:04<00:00, 449.77it/s]\n"
     ]
    },
    {
     "name": "stdout",
     "output_type": "stream",
     "text": [
      "Generator Error Metric is 0.087880939245224\n",
      "Time for epoch 117 is 4.768796920776367 sec\n",
      "Epoch: 118\n",
      "Learning rate: 0.00048710214\n"
     ]
    },
    {
     "name": "stderr",
     "output_type": "stream",
     "text": [
      "100%|██████████████████████████████████████| 2144/2144 [00:04<00:00, 512.59it/s]\n"
     ]
    },
    {
     "name": "stdout",
     "output_type": "stream",
     "text": [
      "Generator Error Metric is 0.06850796192884445\n",
      "Time for epoch 118 is 4.1841418743133545 sec\n",
      "Epoch: 119\n",
      "Learning rate: 0.00048411664\n"
     ]
    },
    {
     "name": "stderr",
     "output_type": "stream",
     "text": [
      "100%|██████████████████████████████████████| 2144/2144 [00:04<00:00, 523.87it/s]\n"
     ]
    },
    {
     "name": "stdout",
     "output_type": "stream",
     "text": [
      "Generator Error Metric is 0.07821855694055557\n",
      "Time for epoch 119 is 4.093958616256714 sec\n",
      "Epoch: 120\n",
      "Learning rate: 0.0004811495\n"
     ]
    },
    {
     "name": "stderr",
     "output_type": "stream",
     "text": [
      "100%|██████████████████████████████████████| 2144/2144 [00:04<00:00, 520.78it/s]\n"
     ]
    },
    {
     "name": "stdout",
     "output_type": "stream",
     "text": [
      "Generator Error Metric is 0.051843851804733276\n",
      "Time for epoch 120 is 4.118670701980591 sec\n",
      "Epoch: 121\n",
      "Learning rate: 0.0004782005\n"
     ]
    },
    {
     "name": "stderr",
     "output_type": "stream",
     "text": [
      "100%|██████████████████████████████████████| 2144/2144 [00:04<00:00, 520.80it/s]\n"
     ]
    },
    {
     "name": "stdout",
     "output_type": "stream",
     "text": [
      "Generator Error Metric is 0.05966849997639656\n",
      "Time for epoch 121 is 4.118645668029785 sec\n",
      "Epoch: 122\n",
      "Learning rate: 0.00047526957\n"
     ]
    },
    {
     "name": "stderr",
     "output_type": "stream",
     "text": [
      "100%|██████████████████████████████████████| 2144/2144 [00:04<00:00, 524.81it/s]\n"
     ]
    },
    {
     "name": "stdout",
     "output_type": "stream",
     "text": [
      "Generator Error Metric is 0.0559203214943409\n",
      "Time for epoch 122 is 4.08725118637085 sec\n",
      "Epoch: 123\n",
      "Learning rate: 0.00047235662\n"
     ]
    },
    {
     "name": "stderr",
     "output_type": "stream",
     "text": [
      "100%|██████████████████████████████████████| 2144/2144 [00:04<00:00, 520.59it/s]\n"
     ]
    },
    {
     "name": "stdout",
     "output_type": "stream",
     "text": [
      "Generator Error Metric is 0.05574147403240204\n",
      "Time for epoch 123 is 4.120226860046387 sec\n",
      "Epoch: 124\n",
      "Learning rate: 0.00046946155\n"
     ]
    },
    {
     "name": "stderr",
     "output_type": "stream",
     "text": [
      "100%|██████████████████████████████████████| 2144/2144 [00:04<00:00, 528.88it/s]\n"
     ]
    },
    {
     "name": "stdout",
     "output_type": "stream",
     "text": [
      "Generator Error Metric is 0.055137015879154205\n",
      "Time for epoch 124 is 4.0556724071502686 sec\n",
      "Epoch: 125\n",
      "Learning rate: 0.00046658417\n"
     ]
    },
    {
     "name": "stderr",
     "output_type": "stream",
     "text": [
      "100%|██████████████████████████████████████| 2144/2144 [00:04<00:00, 520.71it/s]\n"
     ]
    },
    {
     "name": "stdout",
     "output_type": "stream",
     "text": [
      "Generator Error Metric is 0.05592680349946022\n",
      "Time for epoch 125 is 4.119211912155151 sec\n",
      "Epoch: 126\n",
      "Learning rate: 0.00046372446\n"
     ]
    },
    {
     "name": "stderr",
     "output_type": "stream",
     "text": [
      "100%|██████████████████████████████████████| 2144/2144 [00:04<00:00, 527.89it/s]\n"
     ]
    },
    {
     "name": "stdout",
     "output_type": "stream",
     "text": [
      "Generator Error Metric is 0.04886365681886673\n",
      "Time for epoch 126 is 4.063803672790527 sec\n",
      "Epoch: 127\n",
      "Learning rate: 0.00046088226\n"
     ]
    },
    {
     "name": "stderr",
     "output_type": "stream",
     "text": [
      "100%|██████████████████████████████████████| 2144/2144 [00:04<00:00, 518.31it/s]\n"
     ]
    },
    {
     "name": "stdout",
     "output_type": "stream",
     "text": [
      "Generator Error Metric is 0.04915475472807884\n",
      "Time for epoch 127 is 4.138369560241699 sec\n",
      "Epoch: 128\n",
      "Learning rate: 0.0004580575\n"
     ]
    },
    {
     "name": "stderr",
     "output_type": "stream",
     "text": [
      "100%|██████████████████████████████████████| 2144/2144 [00:04<00:00, 489.61it/s]\n"
     ]
    },
    {
     "name": "stdout",
     "output_type": "stream",
     "text": [
      "Generator Error Metric is 0.056537143886089325\n",
      "Time for epoch 128 is 4.381261110305786 sec\n",
      "Epoch: 129\n",
      "Learning rate: 0.0004552501\n"
     ]
    },
    {
     "name": "stderr",
     "output_type": "stream",
     "text": [
      "100%|██████████████████████████████████████| 2144/2144 [00:05<00:00, 378.49it/s]\n"
     ]
    },
    {
     "name": "stdout",
     "output_type": "stream",
     "text": [
      "Generator Error Metric is 0.05273154005408287\n",
      "Time for epoch 129 is 5.666760683059692 sec\n",
      "Epoch: 130\n",
      "Learning rate: 0.0004524598\n"
     ]
    },
    {
     "name": "stderr",
     "output_type": "stream",
     "text": [
      "100%|██████████████████████████████████████| 2144/2144 [00:05<00:00, 382.76it/s]\n"
     ]
    },
    {
     "name": "stdout",
     "output_type": "stream",
     "text": [
      "Generator Error Metric is 0.049288880079984665\n",
      "Time for epoch 130 is 5.603526830673218 sec\n",
      "Epoch: 131\n",
      "Learning rate: 0.00044968666\n"
     ]
    },
    {
     "name": "stderr",
     "output_type": "stream",
     "text": [
      "100%|██████████████████████████████████████| 2144/2144 [00:04<00:00, 481.34it/s]\n"
     ]
    },
    {
     "name": "stdout",
     "output_type": "stream",
     "text": [
      "Generator Error Metric is 0.051084548234939575\n",
      "Time for epoch 131 is 4.456078052520752 sec\n",
      "Epoch: 132\n",
      "Learning rate: 0.00044693053\n"
     ]
    },
    {
     "name": "stderr",
     "output_type": "stream",
     "text": [
      "100%|██████████████████████████████████████| 2144/2144 [00:04<00:00, 470.78it/s]\n"
     ]
    },
    {
     "name": "stdout",
     "output_type": "stream",
     "text": [
      "Generator Error Metric is 0.05265185609459877\n",
      "Time for epoch 132 is 4.555919885635376 sec\n",
      "Epoch: 133\n",
      "Learning rate: 0.00044419128\n"
     ]
    },
    {
     "name": "stderr",
     "output_type": "stream",
     "text": [
      "100%|██████████████████████████████████████| 2144/2144 [00:05<00:00, 381.18it/s]\n"
     ]
    },
    {
     "name": "stdout",
     "output_type": "stream",
     "text": [
      "Generator Error Metric is 0.055197298526763916\n",
      "Time for epoch 133 is 5.626878023147583 sec\n",
      "Epoch: 134\n",
      "Learning rate: 0.00044146876\n"
     ]
    },
    {
     "name": "stderr",
     "output_type": "stream",
     "text": [
      "100%|██████████████████████████████████████| 2144/2144 [00:05<00:00, 381.97it/s]\n"
     ]
    },
    {
     "name": "stdout",
     "output_type": "stream",
     "text": [
      "Generator Error Metric is 0.05454108864068985\n",
      "Time for epoch 134 is 5.615301847457886 sec\n",
      "Epoch: 135\n",
      "Learning rate: 0.00043876303\n"
     ]
    },
    {
     "name": "stderr",
     "output_type": "stream",
     "text": [
      "100%|██████████████████████████████████████| 2144/2144 [00:05<00:00, 381.53it/s]\n"
     ]
    },
    {
     "name": "stdout",
     "output_type": "stream",
     "text": [
      "Generator Error Metric is 0.04855959117412567\n",
      "Time for epoch 135 is 5.621687173843384 sec\n",
      "Epoch: 136\n",
      "Learning rate: 0.00043607387\n"
     ]
    },
    {
     "name": "stderr",
     "output_type": "stream",
     "text": [
      "100%|██████████████████████████████████████| 2144/2144 [00:05<00:00, 380.55it/s]\n"
     ]
    },
    {
     "name": "stdout",
     "output_type": "stream",
     "text": [
      "Generator Error Metric is 0.05454934388399124\n",
      "Time for epoch 136 is 5.636277675628662 sec\n",
      "Epoch: 137\n",
      "Learning rate: 0.00043340112\n"
     ]
    },
    {
     "name": "stderr",
     "output_type": "stream",
     "text": [
      "100%|██████████████████████████████████████| 2144/2144 [00:05<00:00, 378.32it/s]\n"
     ]
    },
    {
     "name": "stdout",
     "output_type": "stream",
     "text": [
      "Generator Error Metric is 0.05445955693721771\n",
      "Time for epoch 137 is 5.669946908950806 sec\n",
      "Epoch: 138\n",
      "Learning rate: 0.00043074475\n"
     ]
    },
    {
     "name": "stderr",
     "output_type": "stream",
     "text": [
      "100%|██████████████████████████████████████| 2144/2144 [00:05<00:00, 388.40it/s]\n"
     ]
    },
    {
     "name": "stdout",
     "output_type": "stream",
     "text": [
      "Generator Error Metric is 0.05343218147754669\n",
      "Time for epoch 138 is 5.522433042526245 sec\n",
      "Epoch: 139\n",
      "Learning rate: 0.00042810474\n"
     ]
    },
    {
     "name": "stderr",
     "output_type": "stream",
     "text": [
      "100%|██████████████████████████████████████| 2144/2144 [00:04<00:00, 513.48it/s]\n"
     ]
    },
    {
     "name": "stdout",
     "output_type": "stream",
     "text": [
      "Generator Error Metric is 0.056313656270504\n",
      "Time for epoch 139 is 4.177438497543335 sec\n",
      "Epoch: 140\n",
      "Learning rate: 0.00042548086\n"
     ]
    },
    {
     "name": "stderr",
     "output_type": "stream",
     "text": [
      "100%|██████████████████████████████████████| 2144/2144 [00:04<00:00, 519.43it/s]\n"
     ]
    },
    {
     "name": "stdout",
     "output_type": "stream",
     "text": [
      "Generator Error Metric is 0.05194620415568352\n",
      "Time for epoch 140 is 4.129487991333008 sec\n",
      "Epoch: 141\n",
      "Learning rate: 0.00042287307\n"
     ]
    },
    {
     "name": "stderr",
     "output_type": "stream",
     "text": [
      "100%|██████████████████████████████████████| 2144/2144 [00:04<00:00, 497.01it/s]\n"
     ]
    },
    {
     "name": "stdout",
     "output_type": "stream",
     "text": [
      "Generator Error Metric is 0.05368361994624138\n",
      "Time for epoch 141 is 4.315812110900879 sec\n",
      "Epoch: 142\n",
      "Learning rate: 0.00042028126\n"
     ]
    },
    {
     "name": "stderr",
     "output_type": "stream",
     "text": [
      "100%|██████████████████████████████████████| 2144/2144 [00:05<00:00, 381.90it/s]\n"
     ]
    },
    {
     "name": "stdout",
     "output_type": "stream",
     "text": [
      "Generator Error Metric is 0.05288191884756088\n",
      "Time for epoch 142 is 5.616394281387329 sec\n",
      "Epoch: 143\n",
      "Learning rate: 0.00041770533\n"
     ]
    },
    {
     "name": "stderr",
     "output_type": "stream",
     "text": [
      "100%|██████████████████████████████████████| 2144/2144 [00:05<00:00, 427.11it/s]\n"
     ]
    },
    {
     "name": "stdout",
     "output_type": "stream",
     "text": [
      "Generator Error Metric is 0.05331267789006233\n",
      "Time for epoch 143 is 5.021789073944092 sec\n",
      "Epoch: 144\n",
      "Learning rate: 0.00041514522\n"
     ]
    },
    {
     "name": "stderr",
     "output_type": "stream",
     "text": [
      "100%|██████████████████████████████████████| 2144/2144 [00:04<00:00, 449.14it/s]\n"
     ]
    },
    {
     "name": "stdout",
     "output_type": "stream",
     "text": [
      "Generator Error Metric is 0.04991016164422035\n",
      "Time for epoch 144 is 4.775877237319946 sec\n",
      "Epoch: 145\n",
      "Learning rate: 0.00041260078\n"
     ]
    },
    {
     "name": "stderr",
     "output_type": "stream",
     "text": [
      "100%|██████████████████████████████████████| 2144/2144 [00:05<00:00, 383.94it/s]\n"
     ]
    },
    {
     "name": "stdout",
     "output_type": "stream",
     "text": [
      "Generator Error Metric is 0.0487227626144886\n",
      "Time for epoch 145 is 5.5865278244018555 sec\n",
      "Epoch: 146\n",
      "Learning rate: 0.00041007192\n"
     ]
    },
    {
     "name": "stderr",
     "output_type": "stream",
     "text": [
      "100%|██████████████████████████████████████| 2144/2144 [00:05<00:00, 380.01it/s]\n"
     ]
    },
    {
     "name": "stdout",
     "output_type": "stream",
     "text": [
      "Generator Error Metric is 0.04941626638174057\n",
      "Time for epoch 146 is 5.644601821899414 sec\n",
      "Epoch: 147\n",
      "Learning rate: 0.00040755852\n"
     ]
    },
    {
     "name": "stderr",
     "output_type": "stream",
     "text": [
      "100%|██████████████████████████████████████| 2144/2144 [00:05<00:00, 380.44it/s]\n"
     ]
    },
    {
     "name": "stdout",
     "output_type": "stream",
     "text": [
      "Generator Error Metric is 0.04547774791717529\n",
      "Time for epoch 147 is 5.638128995895386 sec\n",
      "Epoch: 148\n",
      "Learning rate: 0.00040506065\n"
     ]
    },
    {
     "name": "stderr",
     "output_type": "stream",
     "text": [
      "100%|██████████████████████████████████████| 2144/2144 [00:05<00:00, 426.57it/s]\n"
     ]
    },
    {
     "name": "stdout",
     "output_type": "stream",
     "text": [
      "Generator Error Metric is 0.050340525805950165\n",
      "Time for epoch 148 is 5.0285773277282715 sec\n",
      "Epoch: 149\n",
      "Learning rate: 0.000402578\n"
     ]
    },
    {
     "name": "stderr",
     "output_type": "stream",
     "text": [
      "100%|██████████████████████████████████████| 2144/2144 [00:05<00:00, 378.20it/s]\n"
     ]
    },
    {
     "name": "stdout",
     "output_type": "stream",
     "text": [
      "Generator Error Metric is 0.05064971745014191\n",
      "Time for epoch 149 is 5.671385765075684 sec\n",
      "Epoch: 150\n",
      "Learning rate: 0.00040011056\n"
     ]
    },
    {
     "name": "stderr",
     "output_type": "stream",
     "text": [
      "100%|██████████████████████████████████████| 2144/2144 [00:05<00:00, 381.35it/s]\n"
     ]
    },
    {
     "name": "stdout",
     "output_type": "stream",
     "text": [
      "Generator Error Metric is 0.04900212958455086\n",
      "Time for epoch 150 is 5.624433517456055 sec\n",
      "Epoch: 151\n",
      "Learning rate: 0.0003976583\n"
     ]
    },
    {
     "name": "stderr",
     "output_type": "stream",
     "text": [
      "100%|██████████████████████████████████████| 2144/2144 [00:04<00:00, 516.83it/s]\n"
     ]
    },
    {
     "name": "stdout",
     "output_type": "stream",
     "text": [
      "Generator Error Metric is 0.054150279611349106\n",
      "Time for epoch 151 is 4.150232791900635 sec\n",
      "Epoch: 152\n",
      "Learning rate: 0.00039522102\n"
     ]
    },
    {
     "name": "stderr",
     "output_type": "stream",
     "text": [
      "100%|██████████████████████████████████████| 2144/2144 [00:04<00:00, 516.13it/s]\n"
     ]
    },
    {
     "name": "stdout",
     "output_type": "stream",
     "text": [
      "Generator Error Metric is 0.05072158947587013\n",
      "Time for epoch 152 is 4.155424118041992 sec\n",
      "Epoch: 153\n",
      "Learning rate: 0.00039279868\n"
     ]
    },
    {
     "name": "stderr",
     "output_type": "stream",
     "text": [
      "100%|██████████████████████████████████████| 2144/2144 [00:04<00:00, 506.48it/s]\n"
     ]
    },
    {
     "name": "stdout",
     "output_type": "stream",
     "text": [
      "Generator Error Metric is 0.054305773228406906\n",
      "Time for epoch 153 is 4.234717607498169 sec\n",
      "Epoch: 154\n",
      "Learning rate: 0.0003903912\n"
     ]
    },
    {
     "name": "stderr",
     "output_type": "stream",
     "text": [
      "100%|██████████████████████████████████████| 2144/2144 [00:04<00:00, 510.51it/s]\n"
     ]
    },
    {
     "name": "stdout",
     "output_type": "stream",
     "text": [
      "Generator Error Metric is 0.05654461309313774\n",
      "Time for epoch 154 is 4.201327085494995 sec\n",
      "Epoch: 155\n",
      "Learning rate: 0.0003879985\n"
     ]
    },
    {
     "name": "stderr",
     "output_type": "stream",
     "text": [
      "100%|██████████████████████████████████████| 2144/2144 [00:04<00:00, 515.36it/s]\n"
     ]
    },
    {
     "name": "stdout",
     "output_type": "stream",
     "text": [
      "Generator Error Metric is 0.053205374628305435\n",
      "Time for epoch 155 is 4.162120580673218 sec\n",
      "Epoch: 156\n",
      "Learning rate: 0.0003856204\n"
     ]
    },
    {
     "name": "stderr",
     "output_type": "stream",
     "text": [
      "100%|██████████████████████████████████████| 2144/2144 [00:04<00:00, 510.61it/s]\n"
     ]
    },
    {
     "name": "stdout",
     "output_type": "stream",
     "text": [
      "Generator Error Metric is 0.0568961463868618\n",
      "Time for epoch 156 is 4.200671672821045 sec\n",
      "Epoch: 157\n",
      "Learning rate: 0.00038325693\n"
     ]
    },
    {
     "name": "stderr",
     "output_type": "stream",
     "text": [
      "100%|██████████████████████████████████████| 2144/2144 [00:04<00:00, 510.07it/s]\n"
     ]
    },
    {
     "name": "stdout",
     "output_type": "stream",
     "text": [
      "Generator Error Metric is 0.05465635284781456\n",
      "Time for epoch 157 is 4.204977989196777 sec\n",
      "Epoch: 158\n",
      "Learning rate: 0.00038090794\n"
     ]
    },
    {
     "name": "stderr",
     "output_type": "stream",
     "text": [
      "100%|██████████████████████████████████████| 2144/2144 [00:04<00:00, 513.25it/s]\n"
     ]
    },
    {
     "name": "stdout",
     "output_type": "stream",
     "text": [
      "Generator Error Metric is 0.055438268929719925\n",
      "Time for epoch 158 is 4.178732872009277 sec\n",
      "Epoch: 159\n",
      "Learning rate: 0.00037857334\n"
     ]
    },
    {
     "name": "stderr",
     "output_type": "stream",
     "text": [
      "100%|██████████████████████████████████████| 2144/2144 [00:04<00:00, 511.64it/s]\n"
     ]
    },
    {
     "name": "stdout",
     "output_type": "stream",
     "text": [
      "Generator Error Metric is 0.052151165902614594\n",
      "Time for epoch 159 is 4.191947937011719 sec\n",
      "Epoch: 160\n",
      "Learning rate: 0.00037625307\n"
     ]
    },
    {
     "name": "stderr",
     "output_type": "stream",
     "text": [
      "100%|██████████████████████████████████████| 2144/2144 [00:04<00:00, 513.38it/s]\n"
     ]
    },
    {
     "name": "stdout",
     "output_type": "stream",
     "text": [
      "Generator Error Metric is 0.051065098494291306\n",
      "Time for epoch 160 is 4.1779375076293945 sec\n",
      "Epoch: 161\n",
      "Learning rate: 0.00037394697\n"
     ]
    },
    {
     "name": "stderr",
     "output_type": "stream",
     "text": [
      "100%|██████████████████████████████████████| 2144/2144 [00:05<00:00, 386.14it/s]\n"
     ]
    },
    {
     "name": "stdout",
     "output_type": "stream",
     "text": [
      "Generator Error Metric is 0.0514465868473053\n",
      "Time for epoch 161 is 5.554278612136841 sec\n",
      "Epoch: 162\n",
      "Learning rate: 0.00037165507\n"
     ]
    },
    {
     "name": "stderr",
     "output_type": "stream",
     "text": [
      "100%|██████████████████████████████████████| 2144/2144 [00:05<00:00, 377.88it/s]\n"
     ]
    },
    {
     "name": "stdout",
     "output_type": "stream",
     "text": [
      "Generator Error Metric is 0.04997909069061279\n",
      "Time for epoch 162 is 5.675573110580444 sec\n",
      "Epoch: 163\n",
      "Learning rate: 0.0003693771\n"
     ]
    },
    {
     "name": "stderr",
     "output_type": "stream",
     "text": [
      "100%|██████████████████████████████████████| 2144/2144 [00:05<00:00, 379.50it/s]\n"
     ]
    },
    {
     "name": "stdout",
     "output_type": "stream",
     "text": [
      "Generator Error Metric is 0.05301688611507416\n",
      "Time for epoch 163 is 5.6517627239227295 sec\n",
      "Epoch: 164\n",
      "Learning rate: 0.00036711324\n"
     ]
    },
    {
     "name": "stderr",
     "output_type": "stream",
     "text": [
      "100%|██████████████████████████████████████| 2144/2144 [00:05<00:00, 381.04it/s]\n"
     ]
    },
    {
     "name": "stdout",
     "output_type": "stream",
     "text": [
      "Generator Error Metric is 0.05101603642106056\n",
      "Time for epoch 164 is 5.628728151321411 sec\n",
      "Epoch: 165\n",
      "Learning rate: 0.00036486317\n"
     ]
    },
    {
     "name": "stderr",
     "output_type": "stream",
     "text": [
      "100%|██████████████████████████████████████| 2144/2144 [00:05<00:00, 381.92it/s]\n"
     ]
    },
    {
     "name": "stdout",
     "output_type": "stream",
     "text": [
      "Generator Error Metric is 0.042282916605472565\n",
      "Time for epoch 165 is 5.615952491760254 sec\n",
      "Epoch: 166\n",
      "Learning rate: 0.0003626269\n"
     ]
    },
    {
     "name": "stderr",
     "output_type": "stream",
     "text": [
      "100%|██████████████████████████████████████| 2144/2144 [00:05<00:00, 380.84it/s]\n"
     ]
    },
    {
     "name": "stdout",
     "output_type": "stream",
     "text": [
      "Generator Error Metric is 0.022785279899835587\n",
      "Time for epoch 166 is 5.631915092468262 sec\n",
      "Epoch: 167\n",
      "Learning rate: 0.00036040437\n"
     ]
    },
    {
     "name": "stderr",
     "output_type": "stream",
     "text": [
      "100%|██████████████████████████████████████| 2144/2144 [00:05<00:00, 377.22it/s]\n"
     ]
    },
    {
     "name": "stdout",
     "output_type": "stream",
     "text": [
      "Generator Error Metric is 0.021255552768707275\n",
      "Time for epoch 167 is 5.685807943344116 sec\n",
      "Epoch: 168\n",
      "Learning rate: 0.00035819542\n"
     ]
    },
    {
     "name": "stderr",
     "output_type": "stream",
     "text": [
      "100%|██████████████████████████████████████| 2144/2144 [00:05<00:00, 381.68it/s]\n"
     ]
    },
    {
     "name": "stdout",
     "output_type": "stream",
     "text": [
      "Generator Error Metric is 0.022093646228313446\n",
      "Time for epoch 168 is 5.619448184967041 sec\n",
      "Epoch: 169\n",
      "Learning rate: 0.00035600003\n"
     ]
    },
    {
     "name": "stderr",
     "output_type": "stream",
     "text": [
      "100%|██████████████████████████████████████| 2144/2144 [00:04<00:00, 467.87it/s]\n"
     ]
    },
    {
     "name": "stdout",
     "output_type": "stream",
     "text": [
      "Generator Error Metric is 0.02288656309247017\n",
      "Time for epoch 169 is 4.584563970565796 sec\n",
      "Epoch: 170\n",
      "Learning rate: 0.00035381812\n"
     ]
    },
    {
     "name": "stderr",
     "output_type": "stream",
     "text": [
      "100%|██████████████████████████████████████| 2144/2144 [00:05<00:00, 371.08it/s]\n"
     ]
    },
    {
     "name": "stdout",
     "output_type": "stream",
     "text": [
      "Generator Error Metric is 0.025071661919355392\n",
      "Time for epoch 170 is 5.780081748962402 sec\n",
      "Epoch: 171\n",
      "Learning rate: 0.00035164948\n"
     ]
    },
    {
     "name": "stderr",
     "output_type": "stream",
     "text": [
      "100%|██████████████████████████████████████| 2144/2144 [00:05<00:00, 373.56it/s]\n"
     ]
    },
    {
     "name": "stdout",
     "output_type": "stream",
     "text": [
      "Generator Error Metric is 0.022848350927233696\n",
      "Time for epoch 171 is 5.74183988571167 sec\n",
      "Epoch: 172\n",
      "Learning rate: 0.00034949422\n"
     ]
    },
    {
     "name": "stderr",
     "output_type": "stream",
     "text": [
      "100%|██████████████████████████████████████| 2144/2144 [00:04<00:00, 465.11it/s]\n"
     ]
    },
    {
     "name": "stdout",
     "output_type": "stream",
     "text": [
      "Generator Error Metric is 0.02228497713804245\n",
      "Time for epoch 172 is 4.612168550491333 sec\n",
      "Epoch: 173\n",
      "Learning rate: 0.00034735215\n"
     ]
    },
    {
     "name": "stderr",
     "output_type": "stream",
     "text": [
      "100%|██████████████████████████████████████| 2144/2144 [00:04<00:00, 503.07it/s]\n"
     ]
    },
    {
     "name": "stdout",
     "output_type": "stream",
     "text": [
      "Generator Error Metric is 0.021670717746019363\n",
      "Time for epoch 173 is 4.263562202453613 sec\n",
      "Epoch: 174\n",
      "Learning rate: 0.00034522323\n"
     ]
    },
    {
     "name": "stderr",
     "output_type": "stream",
     "text": [
      "100%|██████████████████████████████████████| 2144/2144 [00:04<00:00, 501.02it/s]\n"
     ]
    },
    {
     "name": "stdout",
     "output_type": "stream",
     "text": [
      "Generator Error Metric is 0.025345563888549805\n",
      "Time for epoch 174 is 4.281004905700684 sec\n",
      "Epoch: 175\n",
      "Learning rate: 0.00034310733\n"
     ]
    },
    {
     "name": "stderr",
     "output_type": "stream",
     "text": [
      "100%|██████████████████████████████████████| 2144/2144 [00:05<00:00, 403.01it/s]\n"
     ]
    },
    {
     "name": "stdout",
     "output_type": "stream",
     "text": [
      "Generator Error Metric is 0.022515222430229187\n",
      "Time for epoch 175 is 5.3218536376953125 sec\n",
      "Epoch: 176\n",
      "Learning rate: 0.00034100443\n"
     ]
    },
    {
     "name": "stderr",
     "output_type": "stream",
     "text": [
      "100%|██████████████████████████████████████| 2144/2144 [00:04<00:00, 473.86it/s]\n"
     ]
    },
    {
     "name": "stdout",
     "output_type": "stream",
     "text": [
      "Generator Error Metric is 0.024102231487631798\n",
      "Time for epoch 176 is 4.526466369628906 sec\n",
      "Epoch: 177\n",
      "Learning rate: 0.0003389144\n"
     ]
    },
    {
     "name": "stderr",
     "output_type": "stream",
     "text": [
      "100%|██████████████████████████████████████| 2144/2144 [00:05<00:00, 419.71it/s]\n"
     ]
    },
    {
     "name": "stdout",
     "output_type": "stream",
     "text": [
      "Generator Error Metric is 0.022035006433725357\n",
      "Time for epoch 177 is 5.110241413116455 sec\n",
      "Epoch: 178\n",
      "Learning rate: 0.0003368372\n"
     ]
    },
    {
     "name": "stderr",
     "output_type": "stream",
     "text": [
      "100%|██████████████████████████████████████| 2144/2144 [00:05<00:00, 374.28it/s]\n"
     ]
    },
    {
     "name": "stdout",
     "output_type": "stream",
     "text": [
      "Generator Error Metric is 0.022657882422208786\n",
      "Time for epoch 178 is 5.730655193328857 sec\n",
      "Epoch: 179\n",
      "Learning rate: 0.00033477266\n"
     ]
    },
    {
     "name": "stderr",
     "output_type": "stream",
     "text": [
      "100%|██████████████████████████████████████| 2144/2144 [00:05<00:00, 375.38it/s]\n"
     ]
    },
    {
     "name": "stdout",
     "output_type": "stream",
     "text": [
      "Generator Error Metric is 0.0205928236246109\n",
      "Time for epoch 179 is 5.714310169219971 sec\n",
      "Epoch: 180\n",
      "Learning rate: 0.00033272084\n"
     ]
    },
    {
     "name": "stderr",
     "output_type": "stream",
     "text": [
      "100%|██████████████████████████████████████| 2144/2144 [00:05<00:00, 377.18it/s]\n"
     ]
    },
    {
     "name": "stdout",
     "output_type": "stream",
     "text": [
      "Generator Error Metric is 0.01880505494773388\n",
      "Time for epoch 180 is 5.687119960784912 sec\n",
      "Epoch: 181\n",
      "Learning rate: 0.0003306816\n"
     ]
    },
    {
     "name": "stderr",
     "output_type": "stream",
     "text": [
      "100%|██████████████████████████████████████| 2144/2144 [00:04<00:00, 478.37it/s]\n"
     ]
    },
    {
     "name": "stdout",
     "output_type": "stream",
     "text": [
      "Generator Error Metric is 0.01828738860785961\n",
      "Time for epoch 181 is 4.484059810638428 sec\n",
      "Epoch: 182\n",
      "Learning rate: 0.00032865483\n"
     ]
    },
    {
     "name": "stderr",
     "output_type": "stream",
     "text": [
      "100%|██████████████████████████████████████| 2144/2144 [00:04<00:00, 502.22it/s]\n"
     ]
    },
    {
     "name": "stdout",
     "output_type": "stream",
     "text": [
      "Generator Error Metric is 0.019315294921398163\n",
      "Time for epoch 182 is 4.270763397216797 sec\n",
      "Epoch: 183\n",
      "Learning rate: 0.0003266405\n"
     ]
    },
    {
     "name": "stderr",
     "output_type": "stream",
     "text": [
      "100%|██████████████████████████████████████| 2144/2144 [00:04<00:00, 507.02it/s]\n"
     ]
    },
    {
     "name": "stdout",
     "output_type": "stream",
     "text": [
      "Generator Error Metric is 0.021767057478427887\n",
      "Time for epoch 183 is 4.230204105377197 sec\n",
      "Epoch: 184\n",
      "Learning rate: 0.0003246385\n"
     ]
    },
    {
     "name": "stderr",
     "output_type": "stream",
     "text": [
      "100%|██████████████████████████████████████| 2144/2144 [00:04<00:00, 502.69it/s]\n"
     ]
    },
    {
     "name": "stdout",
     "output_type": "stream",
     "text": [
      "Generator Error Metric is 0.020658884197473526\n",
      "Time for epoch 184 is 4.2666709423065186 sec\n",
      "Epoch: 185\n",
      "Learning rate: 0.00032264882\n"
     ]
    },
    {
     "name": "stderr",
     "output_type": "stream",
     "text": [
      "100%|██████████████████████████████████████| 2144/2144 [00:04<00:00, 507.77it/s]\n"
     ]
    },
    {
     "name": "stdout",
     "output_type": "stream",
     "text": [
      "Generator Error Metric is 0.020601624622941017\n",
      "Time for epoch 185 is 4.224129676818848 sec\n",
      "Epoch: 186\n",
      "Learning rate: 0.00032067124\n"
     ]
    },
    {
     "name": "stderr",
     "output_type": "stream",
     "text": [
      "100%|██████████████████████████████████████| 2144/2144 [00:04<00:00, 505.81it/s]\n"
     ]
    },
    {
     "name": "stdout",
     "output_type": "stream",
     "text": [
      "Generator Error Metric is 0.01907898671925068\n",
      "Time for epoch 186 is 4.240580320358276 sec\n",
      "Epoch: 187\n",
      "Learning rate: 0.00031870586\n"
     ]
    },
    {
     "name": "stderr",
     "output_type": "stream",
     "text": [
      "100%|██████████████████████████████████████| 2144/2144 [00:04<00:00, 506.53it/s]\n"
     ]
    },
    {
     "name": "stdout",
     "output_type": "stream",
     "text": [
      "Generator Error Metric is 0.019660096615552902\n",
      "Time for epoch 187 is 4.234788179397583 sec\n",
      "Epoch: 188\n",
      "Learning rate: 0.00031675247\n"
     ]
    },
    {
     "name": "stderr",
     "output_type": "stream",
     "text": [
      "100%|██████████████████████████████████████| 2144/2144 [00:05<00:00, 417.35it/s]\n"
     ]
    },
    {
     "name": "stdout",
     "output_type": "stream",
     "text": [
      "Generator Error Metric is 0.020123768597841263\n",
      "Time for epoch 188 is 5.13946533203125 sec\n",
      "Epoch: 189\n",
      "Learning rate: 0.00031481113\n"
     ]
    },
    {
     "name": "stderr",
     "output_type": "stream",
     "text": [
      "100%|██████████████████████████████████████| 2144/2144 [00:05<00:00, 375.31it/s]\n"
     ]
    },
    {
     "name": "stdout",
     "output_type": "stream",
     "text": [
      "Generator Error Metric is 0.019879961386322975\n",
      "Time for epoch 189 is 5.715104579925537 sec\n",
      "Epoch: 190\n",
      "Learning rate: 0.00031288157\n"
     ]
    },
    {
     "name": "stderr",
     "output_type": "stream",
     "text": [
      "100%|██████████████████████████████████████| 2144/2144 [00:05<00:00, 378.10it/s]\n"
     ]
    },
    {
     "name": "stdout",
     "output_type": "stream",
     "text": [
      "Generator Error Metric is 0.01968008279800415\n",
      "Time for epoch 190 is 5.6725077629089355 sec\n",
      "Epoch: 191\n",
      "Learning rate: 0.00031096392\n"
     ]
    },
    {
     "name": "stderr",
     "output_type": "stream",
     "text": [
      "100%|██████████████████████████████████████| 2144/2144 [00:04<00:00, 511.61it/s]\n"
     ]
    },
    {
     "name": "stdout",
     "output_type": "stream",
     "text": [
      "Generator Error Metric is 0.02059539034962654\n",
      "Time for epoch 191 is 4.19231390953064 sec\n",
      "Epoch: 192\n",
      "Learning rate: 0.00030905803\n"
     ]
    },
    {
     "name": "stderr",
     "output_type": "stream",
     "text": [
      "100%|██████████████████████████████████████| 2144/2144 [00:04<00:00, 510.25it/s]\n"
     ]
    },
    {
     "name": "stdout",
     "output_type": "stream",
     "text": [
      "Generator Error Metric is 0.02120243012905121\n",
      "Time for epoch 192 is 4.2036521434783936 sec\n",
      "Epoch: 193\n",
      "Learning rate: 0.0003071638\n"
     ]
    },
    {
     "name": "stderr",
     "output_type": "stream",
     "text": [
      "100%|██████████████████████████████████████| 2144/2144 [00:04<00:00, 508.50it/s]\n"
     ]
    },
    {
     "name": "stdout",
     "output_type": "stream",
     "text": [
      "Generator Error Metric is 0.01959993503987789\n",
      "Time for epoch 193 is 4.218024730682373 sec\n",
      "Epoch: 194\n",
      "Learning rate: 0.00030528117\n"
     ]
    },
    {
     "name": "stderr",
     "output_type": "stream",
     "text": [
      "100%|██████████████████████████████████████| 2144/2144 [00:04<00:00, 508.69it/s]\n"
     ]
    },
    {
     "name": "stdout",
     "output_type": "stream",
     "text": [
      "Generator Error Metric is 0.02027830481529236\n",
      "Time for epoch 194 is 4.21613335609436 sec\n",
      "Epoch: 195\n",
      "Learning rate: 0.00030341014\n"
     ]
    },
    {
     "name": "stderr",
     "output_type": "stream",
     "text": [
      "100%|██████████████████████████████████████| 2144/2144 [00:04<00:00, 511.01it/s]\n"
     ]
    },
    {
     "name": "stdout",
     "output_type": "stream",
     "text": [
      "Generator Error Metric is 0.021430805325508118\n",
      "Time for epoch 195 is 4.19709587097168 sec\n",
      "Epoch: 196\n",
      "Learning rate: 0.0003015505\n"
     ]
    },
    {
     "name": "stderr",
     "output_type": "stream",
     "text": [
      "100%|██████████████████████████████████████| 2144/2144 [00:04<00:00, 449.95it/s]\n"
     ]
    },
    {
     "name": "stdout",
     "output_type": "stream",
     "text": [
      "Generator Error Metric is 0.019766485318541527\n",
      "Time for epoch 196 is 4.766896963119507 sec\n",
      "Epoch: 197\n",
      "Learning rate: 0.00029970225\n"
     ]
    },
    {
     "name": "stderr",
     "output_type": "stream",
     "text": [
      "100%|██████████████████████████████████████| 2144/2144 [00:05<00:00, 380.34it/s]\n"
     ]
    },
    {
     "name": "stdout",
     "output_type": "stream",
     "text": [
      "Generator Error Metric is 0.020937463268637657\n",
      "Time for epoch 197 is 5.639255523681641 sec\n",
      "Epoch: 198\n",
      "Learning rate: 0.00029786536\n"
     ]
    },
    {
     "name": "stderr",
     "output_type": "stream",
     "text": [
      "100%|██████████████████████████████████████| 2144/2144 [00:05<00:00, 380.83it/s]\n"
     ]
    },
    {
     "name": "stdout",
     "output_type": "stream",
     "text": [
      "Generator Error Metric is 0.019418932497501373\n",
      "Time for epoch 198 is 5.632005214691162 sec\n",
      "Epoch: 199\n",
      "Learning rate: 0.00029603974\n"
     ]
    },
    {
     "name": "stderr",
     "output_type": "stream",
     "text": [
      "100%|██████████████████████████████████████| 2144/2144 [00:04<00:00, 468.19it/s]\n"
     ]
    },
    {
     "name": "stdout",
     "output_type": "stream",
     "text": [
      "Generator Error Metric is 0.020300457254052162\n",
      "Time for epoch 199 is 4.581175088882446 sec\n",
      "Epoch: 200\n",
      "Learning rate: 0.00029422532\n"
     ]
    },
    {
     "name": "stderr",
     "output_type": "stream",
     "text": [
      "100%|██████████████████████████████████████| 2144/2144 [00:04<00:00, 514.23it/s]\n"
     ]
    },
    {
     "name": "stdout",
     "output_type": "stream",
     "text": [
      "Generator Error Metric is 0.019749201834201813\n",
      "Time for epoch 200 is 4.171090602874756 sec\n",
      "Epoch: 201\n",
      "Learning rate: 0.00029242202\n"
     ]
    },
    {
     "name": "stderr",
     "output_type": "stream",
     "text": [
      "100%|██████████████████████████████████████| 2144/2144 [00:04<00:00, 507.79it/s]\n"
     ]
    },
    {
     "name": "stdout",
     "output_type": "stream",
     "text": [
      "Generator Error Metric is 0.020190125331282616\n",
      "Time for epoch 201 is 4.223855972290039 sec\n",
      "Epoch: 202\n",
      "Learning rate: 0.0002906297\n"
     ]
    },
    {
     "name": "stderr",
     "output_type": "stream",
     "text": [
      "100%|██████████████████████████████████████| 2144/2144 [00:04<00:00, 510.63it/s]\n"
     ]
    },
    {
     "name": "stdout",
     "output_type": "stream",
     "text": [
      "Generator Error Metric is 0.018303995952010155\n",
      "Time for epoch 202 is 4.200800657272339 sec\n",
      "Epoch: 203\n",
      "Learning rate: 0.00028884842\n"
     ]
    },
    {
     "name": "stderr",
     "output_type": "stream",
     "text": [
      "100%|██████████████████████████████████████| 2144/2144 [00:04<00:00, 513.74it/s]\n"
     ]
    },
    {
     "name": "stdout",
     "output_type": "stream",
     "text": [
      "Generator Error Metric is 0.019428638741374016\n",
      "Time for epoch 203 is 4.175223350524902 sec\n",
      "Epoch: 204\n",
      "Learning rate: 0.0002870781\n"
     ]
    },
    {
     "name": "stderr",
     "output_type": "stream",
     "text": [
      "100%|██████████████████████████████████████| 2144/2144 [00:04<00:00, 514.57it/s]\n"
     ]
    },
    {
     "name": "stdout",
     "output_type": "stream",
     "text": [
      "Generator Error Metric is 0.020124591886997223\n",
      "Time for epoch 204 is 4.168760299682617 sec\n",
      "Epoch: 205\n",
      "Learning rate: 0.00028531853\n"
     ]
    },
    {
     "name": "stderr",
     "output_type": "stream",
     "text": [
      "100%|██████████████████████████████████████| 2144/2144 [00:04<00:00, 508.15it/s]\n"
     ]
    },
    {
     "name": "stdout",
     "output_type": "stream",
     "text": [
      "Generator Error Metric is 0.019017061218619347\n",
      "Time for epoch 205 is 4.2212865352630615 sec\n",
      "Epoch: 206\n",
      "Learning rate: 0.00028356985\n"
     ]
    },
    {
     "name": "stderr",
     "output_type": "stream",
     "text": [
      "100%|██████████████████████████████████████| 2144/2144 [00:04<00:00, 458.07it/s]\n"
     ]
    },
    {
     "name": "stdout",
     "output_type": "stream",
     "text": [
      "Generator Error Metric is 0.019201651215553284\n",
      "Time for epoch 206 is 4.682614088058472 sec\n",
      "Epoch: 207\n",
      "Learning rate: 0.00028183186\n"
     ]
    },
    {
     "name": "stderr",
     "output_type": "stream",
     "text": [
      "100%|██████████████████████████████████████| 2144/2144 [00:05<00:00, 382.27it/s]\n"
     ]
    },
    {
     "name": "stdout",
     "output_type": "stream",
     "text": [
      "Generator Error Metric is 0.019002879038453102\n",
      "Time for epoch 207 is 5.610785722732544 sec\n",
      "Epoch: 208\n",
      "Learning rate: 0.00028010443\n"
     ]
    },
    {
     "name": "stderr",
     "output_type": "stream",
     "text": [
      "100%|██████████████████████████████████████| 2144/2144 [00:05<00:00, 374.32it/s]\n"
     ]
    },
    {
     "name": "stdout",
     "output_type": "stream",
     "text": [
      "Generator Error Metric is 0.019060056656599045\n",
      "Time for epoch 208 is 5.729938983917236 sec\n",
      "Epoch: 209\n",
      "Learning rate: 0.00027838768\n"
     ]
    },
    {
     "name": "stderr",
     "output_type": "stream",
     "text": [
      "100%|██████████████████████████████████████| 2144/2144 [00:04<00:00, 444.00it/s]\n"
     ]
    },
    {
     "name": "stdout",
     "output_type": "stream",
     "text": [
      "Generator Error Metric is 0.019191378727555275\n",
      "Time for epoch 209 is 4.83068585395813 sec\n",
      "Epoch: 210\n",
      "Learning rate: 0.00027668144\n"
     ]
    },
    {
     "name": "stderr",
     "output_type": "stream",
     "text": [
      "100%|██████████████████████████████████████| 2144/2144 [00:04<00:00, 506.86it/s]\n"
     ]
    },
    {
     "name": "stdout",
     "output_type": "stream",
     "text": [
      "Generator Error Metric is 0.018224557861685753\n",
      "Time for epoch 210 is 4.231938600540161 sec\n",
      "Epoch: 211\n",
      "Learning rate: 0.00027498562\n"
     ]
    },
    {
     "name": "stderr",
     "output_type": "stream",
     "text": [
      "100%|██████████████████████████████████████| 2144/2144 [00:05<00:00, 395.59it/s]\n"
     ]
    },
    {
     "name": "stdout",
     "output_type": "stream",
     "text": [
      "Generator Error Metric is 0.01941516622900963\n",
      "Time for epoch 211 is 5.4220476150512695 sec\n",
      "Epoch: 212\n",
      "Learning rate: 0.00027330028\n"
     ]
    },
    {
     "name": "stderr",
     "output_type": "stream",
     "text": [
      "100%|██████████████████████████████████████| 2144/2144 [00:05<00:00, 376.99it/s]\n"
     ]
    },
    {
     "name": "stdout",
     "output_type": "stream",
     "text": [
      "Generator Error Metric is 0.019973406568169594\n",
      "Time for epoch 212 is 5.6898040771484375 sec\n",
      "Epoch: 213\n",
      "Learning rate: 0.00027162523\n"
     ]
    },
    {
     "name": "stderr",
     "output_type": "stream",
     "text": [
      "100%|██████████████████████████████████████| 2144/2144 [00:05<00:00, 381.13it/s]\n"
     ]
    },
    {
     "name": "stdout",
     "output_type": "stream",
     "text": [
      "Generator Error Metric is 0.018611600622534752\n",
      "Time for epoch 213 is 5.627922534942627 sec\n",
      "Epoch: 214\n",
      "Learning rate: 0.0002699604\n"
     ]
    },
    {
     "name": "stderr",
     "output_type": "stream",
     "text": [
      "100%|██████████████████████████████████████| 2144/2144 [00:05<00:00, 380.41it/s]\n"
     ]
    },
    {
     "name": "stdout",
     "output_type": "stream",
     "text": [
      "Generator Error Metric is 0.018638545647263527\n",
      "Time for epoch 214 is 5.638699293136597 sec\n",
      "Epoch: 215\n",
      "Learning rate: 0.00026830577\n"
     ]
    },
    {
     "name": "stderr",
     "output_type": "stream",
     "text": [
      "100%|██████████████████████████████████████| 2144/2144 [00:04<00:00, 446.13it/s]\n"
     ]
    },
    {
     "name": "stdout",
     "output_type": "stream",
     "text": [
      "Generator Error Metric is 0.019006716087460518\n",
      "Time for epoch 215 is 4.808026313781738 sec\n",
      "Epoch: 216\n",
      "Learning rate: 0.00026666129\n"
     ]
    },
    {
     "name": "stderr",
     "output_type": "stream",
     "text": [
      "100%|██████████████████████████████████████| 2144/2144 [00:04<00:00, 514.09it/s]\n"
     ]
    },
    {
     "name": "stdout",
     "output_type": "stream",
     "text": [
      "Generator Error Metric is 0.016884436830878258\n",
      "Time for epoch 216 is 4.172449588775635 sec\n",
      "Epoch: 217\n",
      "Learning rate: 0.00026502696\n"
     ]
    },
    {
     "name": "stderr",
     "output_type": "stream",
     "text": [
      "100%|██████████████████████████████████████| 2144/2144 [00:04<00:00, 512.07it/s]\n"
     ]
    },
    {
     "name": "stdout",
     "output_type": "stream",
     "text": [
      "Generator Error Metric is 0.019797753542661667\n",
      "Time for epoch 217 is 4.188676357269287 sec\n",
      "Epoch: 218\n",
      "Learning rate: 0.0002634026\n"
     ]
    },
    {
     "name": "stderr",
     "output_type": "stream",
     "text": [
      "100%|██████████████████████████████████████| 2144/2144 [00:04<00:00, 512.86it/s]\n"
     ]
    },
    {
     "name": "stdout",
     "output_type": "stream",
     "text": [
      "Generator Error Metric is 0.019119419157505035\n",
      "Time for epoch 218 is 4.182271480560303 sec\n",
      "Epoch: 219\n",
      "Learning rate: 0.0002617882\n"
     ]
    },
    {
     "name": "stderr",
     "output_type": "stream",
     "text": [
      "100%|██████████████████████████████████████| 2144/2144 [00:05<00:00, 386.15it/s]\n"
     ]
    },
    {
     "name": "stdout",
     "output_type": "stream",
     "text": [
      "Generator Error Metric is 0.017398715019226074\n",
      "Time for epoch 219 is 5.554182052612305 sec\n",
      "Epoch: 220\n",
      "Learning rate: 0.00026018367\n"
     ]
    },
    {
     "name": "stderr",
     "output_type": "stream",
     "text": [
      "100%|██████████████████████████████████████| 2144/2144 [00:05<00:00, 375.31it/s]\n"
     ]
    },
    {
     "name": "stdout",
     "output_type": "stream",
     "text": [
      "Generator Error Metric is 0.020672999322414398\n",
      "Time for epoch 220 is 5.714742422103882 sec\n",
      "Epoch: 221\n",
      "Learning rate: 0.000258589\n"
     ]
    },
    {
     "name": "stderr",
     "output_type": "stream",
     "text": [
      "100%|██████████████████████████████████████| 2144/2144 [00:05<00:00, 391.08it/s]\n"
     ]
    },
    {
     "name": "stdout",
     "output_type": "stream",
     "text": [
      "Generator Error Metric is 0.019678829237818718\n",
      "Time for epoch 221 is 5.484259605407715 sec\n",
      "Epoch: 222\n",
      "Learning rate: 0.00025700405\n"
     ]
    },
    {
     "name": "stderr",
     "output_type": "stream",
     "text": [
      "100%|██████████████████████████████████████| 2144/2144 [00:04<00:00, 517.36it/s]\n"
     ]
    },
    {
     "name": "stdout",
     "output_type": "stream",
     "text": [
      "Generator Error Metric is 0.020146388560533524\n",
      "Time for epoch 222 is 4.145722150802612 sec\n",
      "Epoch: 223\n",
      "Learning rate: 0.00025542892\n"
     ]
    },
    {
     "name": "stderr",
     "output_type": "stream",
     "text": [
      "100%|██████████████████████████████████████| 2144/2144 [00:04<00:00, 515.01it/s]\n"
     ]
    },
    {
     "name": "stdout",
     "output_type": "stream",
     "text": [
      "Generator Error Metric is 0.01895069144666195\n",
      "Time for epoch 223 is 4.1643877029418945 sec\n",
      "Epoch: 224\n",
      "Learning rate: 0.00025386337\n"
     ]
    },
    {
     "name": "stderr",
     "output_type": "stream",
     "text": [
      "100%|██████████████████████████████████████| 2144/2144 [00:04<00:00, 501.71it/s]\n"
     ]
    },
    {
     "name": "stdout",
     "output_type": "stream",
     "text": [
      "Generator Error Metric is 0.01692730374634266\n",
      "Time for epoch 224 is 4.274866819381714 sec\n",
      "Epoch: 225\n",
      "Learning rate: 0.00025230745\n"
     ]
    },
    {
     "name": "stderr",
     "output_type": "stream",
     "text": [
      "100%|██████████████████████████████████████| 2144/2144 [00:04<00:00, 509.10it/s]\n"
     ]
    },
    {
     "name": "stdout",
     "output_type": "stream",
     "text": [
      "Generator Error Metric is 0.017441540956497192\n",
      "Time for epoch 225 is 4.212884187698364 sec\n",
      "Epoch: 226\n",
      "Learning rate: 0.00025076105\n"
     ]
    },
    {
     "name": "stderr",
     "output_type": "stream",
     "text": [
      "100%|██████████████████████████████████████| 2144/2144 [00:04<00:00, 506.46it/s]\n"
     ]
    },
    {
     "name": "stdout",
     "output_type": "stream",
     "text": [
      "Generator Error Metric is 0.018537553027272224\n",
      "Time for epoch 226 is 4.23501443862915 sec\n",
      "Epoch: 227\n",
      "Learning rate: 0.00024922407\n"
     ]
    },
    {
     "name": "stderr",
     "output_type": "stream",
     "text": [
      "100%|██████████████████████████████████████| 2144/2144 [00:04<00:00, 471.16it/s]\n"
     ]
    },
    {
     "name": "stdout",
     "output_type": "stream",
     "text": [
      "Generator Error Metric is 0.020047957077622414\n",
      "Time for epoch 227 is 4.552551031112671 sec\n",
      "Epoch: 228\n",
      "Learning rate: 0.0002476966\n"
     ]
    },
    {
     "name": "stderr",
     "output_type": "stream",
     "text": [
      "100%|██████████████████████████████████████| 2144/2144 [00:05<00:00, 367.54it/s]\n"
     ]
    },
    {
     "name": "stdout",
     "output_type": "stream",
     "text": [
      "Generator Error Metric is 0.01912219263613224\n",
      "Time for epoch 228 is 5.836113691329956 sec\n",
      "Epoch: 229\n",
      "Learning rate: 0.00024617845\n"
     ]
    },
    {
     "name": "stderr",
     "output_type": "stream",
     "text": [
      "100%|██████████████████████████████████████| 2144/2144 [00:05<00:00, 374.35it/s]\n"
     ]
    },
    {
     "name": "stdout",
     "output_type": "stream",
     "text": [
      "Generator Error Metric is 0.019319728016853333\n",
      "Time for epoch 229 is 5.729737758636475 sec\n",
      "Epoch: 230\n",
      "Learning rate: 0.00024466962\n"
     ]
    },
    {
     "name": "stderr",
     "output_type": "stream",
     "text": [
      "100%|██████████████████████████████████████| 2144/2144 [00:04<00:00, 474.31it/s]\n"
     ]
    },
    {
     "name": "stdout",
     "output_type": "stream",
     "text": [
      "Generator Error Metric is 0.01835593394935131\n",
      "Time for epoch 230 is 4.522794246673584 sec\n",
      "Epoch: 231\n",
      "Learning rate: 0.00024317004\n"
     ]
    },
    {
     "name": "stderr",
     "output_type": "stream",
     "text": [
      "100%|██████████████████████████████████████| 2144/2144 [00:04<00:00, 431.29it/s]\n"
     ]
    },
    {
     "name": "stdout",
     "output_type": "stream",
     "text": [
      "Generator Error Metric is 0.018053073436021805\n",
      "Time for epoch 231 is 4.973042726516724 sec\n",
      "Epoch: 232\n",
      "Learning rate: 0.00024167963\n"
     ]
    },
    {
     "name": "stderr",
     "output_type": "stream",
     "text": [
      "100%|██████████████████████████████████████| 2144/2144 [00:05<00:00, 378.85it/s]\n"
     ]
    },
    {
     "name": "stdout",
     "output_type": "stream",
     "text": [
      "Generator Error Metric is 0.017875926569104195\n",
      "Time for epoch 232 is 5.661449670791626 sec\n",
      "Epoch: 233\n",
      "Learning rate: 0.00024019834\n"
     ]
    },
    {
     "name": "stderr",
     "output_type": "stream",
     "text": [
      "100%|██████████████████████████████████████| 2144/2144 [00:05<00:00, 377.90it/s]\n"
     ]
    },
    {
     "name": "stdout",
     "output_type": "stream",
     "text": [
      "Generator Error Metric is 0.018066609278321266\n",
      "Time for epoch 233 is 5.676047325134277 sec\n",
      "Epoch: 234\n",
      "Learning rate: 0.00023872616\n"
     ]
    },
    {
     "name": "stderr",
     "output_type": "stream",
     "text": [
      "100%|██████████████████████████████████████| 2144/2144 [00:05<00:00, 378.39it/s]\n"
     ]
    },
    {
     "name": "stdout",
     "output_type": "stream",
     "text": [
      "Generator Error Metric is 0.018140580505132675\n",
      "Time for epoch 234 is 5.668652057647705 sec\n",
      "Epoch: 235\n",
      "Learning rate: 0.00023726301\n"
     ]
    },
    {
     "name": "stderr",
     "output_type": "stream",
     "text": [
      "100%|██████████████████████████████████████| 2144/2144 [00:05<00:00, 376.20it/s]\n"
     ]
    },
    {
     "name": "stdout",
     "output_type": "stream",
     "text": [
      "Generator Error Metric is 0.01912943460047245\n",
      "Time for epoch 235 is 5.7015790939331055 sec\n",
      "Epoch: 236\n",
      "Learning rate: 0.00023580882\n"
     ]
    },
    {
     "name": "stderr",
     "output_type": "stream",
     "text": [
      "100%|██████████████████████████████████████| 2144/2144 [00:05<00:00, 379.49it/s]\n"
     ]
    },
    {
     "name": "stdout",
     "output_type": "stream",
     "text": [
      "Generator Error Metric is 0.018814651295542717\n",
      "Time for epoch 236 is 5.651910305023193 sec\n",
      "Epoch: 237\n",
      "Learning rate: 0.00023436356\n"
     ]
    },
    {
     "name": "stderr",
     "output_type": "stream",
     "text": [
      "100%|██████████████████████████████████████| 2144/2144 [00:04<00:00, 477.61it/s]\n"
     ]
    },
    {
     "name": "stdout",
     "output_type": "stream",
     "text": [
      "Generator Error Metric is 0.01864251121878624\n",
      "Time for epoch 237 is 4.4910430908203125 sec\n",
      "Epoch: 238\n",
      "Learning rate: 0.00023292711\n"
     ]
    },
    {
     "name": "stderr",
     "output_type": "stream",
     "text": [
      "100%|██████████████████████████████████████| 2144/2144 [00:04<00:00, 511.70it/s]\n"
     ]
    },
    {
     "name": "stdout",
     "output_type": "stream",
     "text": [
      "Generator Error Metric is 0.017039237543940544\n",
      "Time for epoch 238 is 4.191522836685181 sec\n",
      "Epoch: 239\n",
      "Learning rate: 0.00023149946\n"
     ]
    },
    {
     "name": "stderr",
     "output_type": "stream",
     "text": [
      "100%|██████████████████████████████████████| 2144/2144 [00:05<00:00, 386.03it/s]\n"
     ]
    },
    {
     "name": "stdout",
     "output_type": "stream",
     "text": [
      "Generator Error Metric is 0.01774970069527626\n",
      "Time for epoch 239 is 5.555696964263916 sec\n",
      "Epoch: 240\n",
      "Learning rate: 0.00023008062\n"
     ]
    },
    {
     "name": "stderr",
     "output_type": "stream",
     "text": [
      "100%|██████████████████████████████████████| 2144/2144 [00:04<00:00, 451.58it/s]\n"
     ]
    },
    {
     "name": "stdout",
     "output_type": "stream",
     "text": [
      "Generator Error Metric is 0.017798013985157013\n",
      "Time for epoch 240 is 4.74956750869751 sec\n",
      "Epoch: 241\n",
      "Learning rate: 0.00022867045\n"
     ]
    },
    {
     "name": "stderr",
     "output_type": "stream",
     "text": [
      "100%|██████████████████████████████████████| 2144/2144 [00:04<00:00, 502.71it/s]\n"
     ]
    },
    {
     "name": "stdout",
     "output_type": "stream",
     "text": [
      "Generator Error Metric is 0.019673597067594528\n",
      "Time for epoch 241 is 4.266394138336182 sec\n",
      "Epoch: 242\n",
      "Learning rate: 0.00022726892\n"
     ]
    },
    {
     "name": "stderr",
     "output_type": "stream",
     "text": [
      "100%|██████████████████████████████████████| 2144/2144 [00:04<00:00, 506.98it/s]\n"
     ]
    },
    {
     "name": "stdout",
     "output_type": "stream",
     "text": [
      "Generator Error Metric is 0.01812344789505005\n",
      "Time for epoch 242 is 4.230389595031738 sec\n",
      "Epoch: 243\n",
      "Learning rate: 0.00022587598\n"
     ]
    },
    {
     "name": "stderr",
     "output_type": "stream",
     "text": [
      "100%|██████████████████████████████████████| 2144/2144 [00:04<00:00, 510.13it/s]\n"
     ]
    },
    {
     "name": "stdout",
     "output_type": "stream",
     "text": [
      "Generator Error Metric is 0.017103899270296097\n",
      "Time for epoch 243 is 4.205204010009766 sec\n",
      "Epoch: 244\n",
      "Learning rate: 0.00022449158\n"
     ]
    },
    {
     "name": "stderr",
     "output_type": "stream",
     "text": [
      "100%|██████████████████████████████████████| 2144/2144 [00:04<00:00, 507.70it/s]\n"
     ]
    },
    {
     "name": "stdout",
     "output_type": "stream",
     "text": [
      "Generator Error Metric is 0.018038347363471985\n",
      "Time for epoch 244 is 4.225008010864258 sec\n",
      "Epoch: 245\n",
      "Learning rate: 0.00022311565\n"
     ]
    },
    {
     "name": "stderr",
     "output_type": "stream",
     "text": [
      "100%|██████████████████████████████████████| 2144/2144 [00:04<00:00, 512.08it/s]\n"
     ]
    },
    {
     "name": "stdout",
     "output_type": "stream",
     "text": [
      "Generator Error Metric is 0.015972724184393883\n",
      "Time for epoch 245 is 4.188660621643066 sec\n",
      "Epoch: 246\n",
      "Learning rate: 0.00022174815\n"
     ]
    },
    {
     "name": "stderr",
     "output_type": "stream",
     "text": [
      "100%|██████████████████████████████████████| 2144/2144 [00:04<00:00, 513.04it/s]\n"
     ]
    },
    {
     "name": "stdout",
     "output_type": "stream",
     "text": [
      "Generator Error Metric is 0.019663318991661072\n",
      "Time for epoch 246 is 4.180662631988525 sec\n",
      "Epoch: 247\n",
      "Learning rate: 0.00022038908\n"
     ]
    },
    {
     "name": "stderr",
     "output_type": "stream",
     "text": [
      "100%|██████████████████████████████████████| 2144/2144 [00:04<00:00, 507.19it/s]\n"
     ]
    },
    {
     "name": "stdout",
     "output_type": "stream",
     "text": [
      "Generator Error Metric is 0.018121710047125816\n",
      "Time for epoch 247 is 4.228952646255493 sec\n",
      "Epoch: 248\n",
      "Learning rate: 0.00021903831\n"
     ]
    },
    {
     "name": "stderr",
     "output_type": "stream",
     "text": [
      "100%|██████████████████████████████████████| 2144/2144 [00:04<00:00, 510.65it/s]\n"
     ]
    },
    {
     "name": "stdout",
     "output_type": "stream",
     "text": [
      "Generator Error Metric is 0.018330439925193787\n",
      "Time for epoch 248 is 4.19999098777771 sec\n",
      "Epoch: 249\n",
      "Learning rate: 0.0002176958\n"
     ]
    },
    {
     "name": "stderr",
     "output_type": "stream",
     "text": [
      "100%|██████████████████████████████████████| 2144/2144 [00:04<00:00, 437.62it/s]\n"
     ]
    },
    {
     "name": "stdout",
     "output_type": "stream",
     "text": [
      "Generator Error Metric is 0.016763489693403244\n",
      "Time for epoch 249 is 4.9012956619262695 sec\n",
      "Epoch: 250\n",
      "Learning rate: 0.00021636153\n"
     ]
    },
    {
     "name": "stderr",
     "output_type": "stream",
     "text": [
      "100%|██████████████████████████████████████| 2144/2144 [00:05<00:00, 380.15it/s]\n"
     ]
    },
    {
     "name": "stdout",
     "output_type": "stream",
     "text": [
      "Generator Error Metric is 0.01761869713664055\n",
      "Time for epoch 250 is 5.6420814990997314 sec\n",
      "Epoch: 251\n",
      "Learning rate: 0.00021503543\n"
     ]
    },
    {
     "name": "stderr",
     "output_type": "stream",
     "text": [
      "100%|██████████████████████████████████████| 2144/2144 [00:05<00:00, 395.04it/s]\n"
     ]
    },
    {
     "name": "stdout",
     "output_type": "stream",
     "text": [
      "Generator Error Metric is 0.01671871542930603\n",
      "Time for epoch 251 is 5.4293482303619385 sec\n",
      "Epoch: 252\n",
      "Learning rate: 0.00021371747\n"
     ]
    },
    {
     "name": "stderr",
     "output_type": "stream",
     "text": [
      "100%|██████████████████████████████████████| 2144/2144 [00:04<00:00, 510.95it/s]\n"
     ]
    },
    {
     "name": "stdout",
     "output_type": "stream",
     "text": [
      "Generator Error Metric is 0.015454251319169998\n",
      "Time for epoch 252 is 4.197813034057617 sec\n",
      "Epoch: 253\n",
      "Learning rate: 0.0002124076\n"
     ]
    },
    {
     "name": "stderr",
     "output_type": "stream",
     "text": [
      "100%|██████████████████████████████████████| 2144/2144 [00:04<00:00, 511.84it/s]\n"
     ]
    },
    {
     "name": "stdout",
     "output_type": "stream",
     "text": [
      "Generator Error Metric is 0.016865961253643036\n",
      "Time for epoch 253 is 4.190414667129517 sec\n",
      "Epoch: 254\n",
      "Learning rate: 0.00021110574\n"
     ]
    },
    {
     "name": "stderr",
     "output_type": "stream",
     "text": [
      "100%|██████████████████████████████████████| 2144/2144 [00:04<00:00, 512.70it/s]\n"
     ]
    },
    {
     "name": "stdout",
     "output_type": "stream",
     "text": [
      "Generator Error Metric is 0.016112105920910835\n",
      "Time for epoch 254 is 4.183500051498413 sec\n",
      "Epoch: 255\n",
      "Learning rate: 0.00020981186\n"
     ]
    },
    {
     "name": "stderr",
     "output_type": "stream",
     "text": [
      "100%|██████████████████████████████████████| 2144/2144 [00:04<00:00, 519.50it/s]\n"
     ]
    },
    {
     "name": "stdout",
     "output_type": "stream",
     "text": [
      "Generator Error Metric is 0.016052305698394775\n",
      "Time for epoch 255 is 4.129007816314697 sec\n",
      "Epoch: 256\n",
      "Learning rate: 0.00020852592\n"
     ]
    },
    {
     "name": "stderr",
     "output_type": "stream",
     "text": [
      "100%|██████████████████████████████████████| 2144/2144 [00:04<00:00, 513.66it/s]\n"
     ]
    },
    {
     "name": "stdout",
     "output_type": "stream",
     "text": [
      "Generator Error Metric is 0.016864841803908348\n",
      "Time for epoch 256 is 4.175908327102661 sec\n",
      "Epoch: 257\n",
      "Learning rate: 0.00020724785\n"
     ]
    },
    {
     "name": "stderr",
     "output_type": "stream",
     "text": [
      "100%|██████████████████████████████████████| 2144/2144 [00:04<00:00, 452.39it/s]\n"
     ]
    },
    {
     "name": "stdout",
     "output_type": "stream",
     "text": [
      "Generator Error Metric is 0.017198549583554268\n",
      "Time for epoch 257 is 4.741639614105225 sec\n",
      "Epoch: 258\n",
      "Learning rate: 0.00020597763\n"
     ]
    },
    {
     "name": "stderr",
     "output_type": "stream",
     "text": [
      "100%|██████████████████████████████████████| 2144/2144 [00:05<00:00, 380.70it/s]\n"
     ]
    },
    {
     "name": "stdout",
     "output_type": "stream",
     "text": [
      "Generator Error Metric is 0.016999751329421997\n",
      "Time for epoch 258 is 5.634334087371826 sec\n",
      "Epoch: 259\n",
      "Learning rate: 0.00020471518\n"
     ]
    },
    {
     "name": "stderr",
     "output_type": "stream",
     "text": [
      "100%|██████████████████████████████████████| 2144/2144 [00:05<00:00, 400.20it/s]\n"
     ]
    },
    {
     "name": "stdout",
     "output_type": "stream",
     "text": [
      "Generator Error Metric is 0.01770663633942604\n",
      "Time for epoch 259 is 5.359437704086304 sec\n",
      "Epoch: 260\n",
      "Learning rate: 0.00020346047\n"
     ]
    },
    {
     "name": "stderr",
     "output_type": "stream",
     "text": [
      "100%|██████████████████████████████████████| 2144/2144 [00:04<00:00, 498.86it/s]\n"
     ]
    },
    {
     "name": "stdout",
     "output_type": "stream",
     "text": [
      "Generator Error Metric is 0.017919523641467094\n",
      "Time for epoch 260 is 4.299733400344849 sec\n",
      "Epoch: 261\n",
      "Learning rate: 0.00020221346\n"
     ]
    },
    {
     "name": "stderr",
     "output_type": "stream",
     "text": [
      "100%|██████████████████████████████████████| 2144/2144 [00:05<00:00, 418.08it/s]\n"
     ]
    },
    {
     "name": "stdout",
     "output_type": "stream",
     "text": [
      "Generator Error Metric is 0.018521806225180626\n",
      "Time for epoch 261 is 5.130366325378418 sec\n",
      "Epoch: 262\n",
      "Learning rate: 0.00020097407\n"
     ]
    },
    {
     "name": "stderr",
     "output_type": "stream",
     "text": [
      "100%|██████████████████████████████████████| 2144/2144 [00:05<00:00, 379.44it/s]\n"
     ]
    },
    {
     "name": "stdout",
     "output_type": "stream",
     "text": [
      "Generator Error Metric is 0.018343940377235413\n",
      "Time for epoch 262 is 5.652542591094971 sec\n",
      "Epoch: 263\n",
      "Learning rate: 0.00019974228\n"
     ]
    },
    {
     "name": "stderr",
     "output_type": "stream",
     "text": [
      "100%|██████████████████████████████████████| 2144/2144 [00:05<00:00, 377.15it/s]\n"
     ]
    },
    {
     "name": "stdout",
     "output_type": "stream",
     "text": [
      "Generator Error Metric is 0.01748039200901985\n",
      "Time for epoch 263 is 5.6867687702178955 sec\n",
      "Epoch: 264\n",
      "Learning rate: 0.00019851807\n"
     ]
    },
    {
     "name": "stderr",
     "output_type": "stream",
     "text": [
      "100%|██████████████████████████████████████| 2144/2144 [00:05<00:00, 377.29it/s]\n"
     ]
    },
    {
     "name": "stdout",
     "output_type": "stream",
     "text": [
      "Generator Error Metric is 0.016347015276551247\n",
      "Time for epoch 264 is 5.684916257858276 sec\n",
      "Epoch: 265\n",
      "Learning rate: 0.00019730136\n"
     ]
    },
    {
     "name": "stderr",
     "output_type": "stream",
     "text": [
      "100%|██████████████████████████████████████| 2144/2144 [00:05<00:00, 379.28it/s]\n"
     ]
    },
    {
     "name": "stdout",
     "output_type": "stream",
     "text": [
      "Generator Error Metric is 0.01663745939731598\n",
      "Time for epoch 265 is 5.655044794082642 sec\n",
      "Epoch: 266\n",
      "Learning rate: 0.00019609206\n"
     ]
    },
    {
     "name": "stderr",
     "output_type": "stream",
     "text": [
      "100%|██████████████████████████████████████| 2144/2144 [00:05<00:00, 380.13it/s]\n"
     ]
    },
    {
     "name": "stdout",
     "output_type": "stream",
     "text": [
      "Generator Error Metric is 0.01643085479736328\n",
      "Time for epoch 266 is 5.6424572467803955 sec\n",
      "Epoch: 267\n",
      "Learning rate: 0.00019489022\n"
     ]
    },
    {
     "name": "stderr",
     "output_type": "stream",
     "text": [
      "100%|██████████████████████████████████████| 2144/2144 [00:05<00:00, 376.80it/s]\n"
     ]
    },
    {
     "name": "stdout",
     "output_type": "stream",
     "text": [
      "Generator Error Metric is 0.01630791835486889\n",
      "Time for epoch 267 is 5.692689418792725 sec\n",
      "Epoch: 268\n",
      "Learning rate: 0.00019369573\n"
     ]
    },
    {
     "name": "stderr",
     "output_type": "stream",
     "text": [
      "100%|██████████████████████████████████████| 2144/2144 [00:04<00:00, 491.75it/s]\n"
     ]
    },
    {
     "name": "stdout",
     "output_type": "stream",
     "text": [
      "Generator Error Metric is 0.01718679815530777\n",
      "Time for epoch 268 is 4.362375497817993 sec\n",
      "Epoch: 269\n",
      "Learning rate: 0.00019250854\n"
     ]
    },
    {
     "name": "stderr",
     "output_type": "stream",
     "text": [
      "100%|██████████████████████████████████████| 2144/2144 [00:04<00:00, 511.82it/s]\n"
     ]
    },
    {
     "name": "stdout",
     "output_type": "stream",
     "text": [
      "Generator Error Metric is 0.016899095848202705\n",
      "Time for epoch 269 is 4.1908183097839355 sec\n",
      "Epoch: 270\n",
      "Learning rate: 0.00019132865\n"
     ]
    },
    {
     "name": "stderr",
     "output_type": "stream",
     "text": [
      "100%|██████████████████████████████████████| 2144/2144 [00:04<00:00, 507.64it/s]\n"
     ]
    },
    {
     "name": "stdout",
     "output_type": "stream",
     "text": [
      "Generator Error Metric is 0.016544565558433533\n",
      "Time for epoch 270 is 4.225255966186523 sec\n",
      "Epoch: 271\n",
      "Learning rate: 0.000190156\n"
     ]
    },
    {
     "name": "stderr",
     "output_type": "stream",
     "text": [
      "100%|██████████████████████████████████████| 2144/2144 [00:04<00:00, 507.94it/s]\n"
     ]
    },
    {
     "name": "stdout",
     "output_type": "stream",
     "text": [
      "Generator Error Metric is 0.016082163900136948\n",
      "Time for epoch 271 is 4.22311544418335 sec\n",
      "Epoch: 272\n",
      "Learning rate: 0.00018899053\n"
     ]
    },
    {
     "name": "stderr",
     "output_type": "stream",
     "text": [
      "100%|██████████████████████████████████████| 2144/2144 [00:04<00:00, 505.58it/s]\n"
     ]
    },
    {
     "name": "stdout",
     "output_type": "stream",
     "text": [
      "Generator Error Metric is 0.0173723716288805\n",
      "Time for epoch 272 is 4.242845058441162 sec\n",
      "Epoch: 273\n",
      "Learning rate: 0.00018783221\n"
     ]
    },
    {
     "name": "stderr",
     "output_type": "stream",
     "text": [
      "100%|██████████████████████████████████████| 2144/2144 [00:04<00:00, 516.40it/s]\n"
     ]
    },
    {
     "name": "stdout",
     "output_type": "stream",
     "text": [
      "Generator Error Metric is 0.016506830230355263\n",
      "Time for epoch 273 is 4.15395712852478 sec\n",
      "Epoch: 274\n",
      "Learning rate: 0.00018668096\n"
     ]
    },
    {
     "name": "stderr",
     "output_type": "stream",
     "text": [
      "100%|██████████████████████████████████████| 2144/2144 [00:04<00:00, 457.87it/s]\n"
     ]
    },
    {
     "name": "stdout",
     "output_type": "stream",
     "text": [
      "Generator Error Metric is 0.017235491424798965\n",
      "Time for epoch 274 is 4.685078859329224 sec\n",
      "Epoch: 275\n",
      "Learning rate: 0.0001855368\n"
     ]
    },
    {
     "name": "stderr",
     "output_type": "stream",
     "text": [
      "100%|██████████████████████████████████████| 2144/2144 [00:05<00:00, 376.39it/s]\n"
     ]
    },
    {
     "name": "stdout",
     "output_type": "stream",
     "text": [
      "Generator Error Metric is 0.01727735809981823\n",
      "Time for epoch 275 is 5.698936462402344 sec\n",
      "Epoch: 276\n",
      "Learning rate: 0.00018439963\n"
     ]
    },
    {
     "name": "stderr",
     "output_type": "stream",
     "text": [
      "100%|██████████████████████████████████████| 2144/2144 [00:05<00:00, 377.09it/s]\n"
     ]
    },
    {
     "name": "stdout",
     "output_type": "stream",
     "text": [
      "Generator Error Metric is 0.017215827479958534\n",
      "Time for epoch 276 is 5.688456773757935 sec\n",
      "Epoch: 277\n",
      "Learning rate: 0.00018326944\n"
     ]
    },
    {
     "name": "stderr",
     "output_type": "stream",
     "text": [
      "100%|██████████████████████████████████████| 2144/2144 [00:05<00:00, 377.64it/s]\n"
     ]
    },
    {
     "name": "stdout",
     "output_type": "stream",
     "text": [
      "Generator Error Metric is 0.016307631507515907\n",
      "Time for epoch 277 is 5.679868459701538 sec\n",
      "Epoch: 278\n",
      "Learning rate: 0.00018214618\n"
     ]
    },
    {
     "name": "stderr",
     "output_type": "stream",
     "text": [
      "100%|██████████████████████████████████████| 2144/2144 [00:05<00:00, 377.87it/s]\n"
     ]
    },
    {
     "name": "stdout",
     "output_type": "stream",
     "text": [
      "Generator Error Metric is 0.016535665839910507\n",
      "Time for epoch 278 is 5.676364421844482 sec\n",
      "Epoch: 279\n",
      "Learning rate: 0.00018102977\n"
     ]
    },
    {
     "name": "stderr",
     "output_type": "stream",
     "text": [
      "100%|██████████████████████████████████████| 2144/2144 [00:05<00:00, 379.41it/s]\n"
     ]
    },
    {
     "name": "stdout",
     "output_type": "stream",
     "text": [
      "Generator Error Metric is 0.01715308055281639\n",
      "Time for epoch 279 is 5.652988910675049 sec\n",
      "Epoch: 280\n",
      "Learning rate: 0.00017992024\n"
     ]
    },
    {
     "name": "stderr",
     "output_type": "stream",
     "text": [
      "100%|██████████████████████████████████████| 2144/2144 [00:04<00:00, 480.91it/s]\n"
     ]
    },
    {
     "name": "stdout",
     "output_type": "stream",
     "text": [
      "Generator Error Metric is 0.016642572358250618\n",
      "Time for epoch 280 is 4.460211753845215 sec\n",
      "Epoch: 281\n",
      "Learning rate: 0.00017881751\n"
     ]
    },
    {
     "name": "stderr",
     "output_type": "stream",
     "text": [
      "100%|██████████████████████████████████████| 2144/2144 [00:04<00:00, 505.42it/s]\n"
     ]
    },
    {
     "name": "stdout",
     "output_type": "stream",
     "text": [
      "Generator Error Metric is 0.016263047233223915\n",
      "Time for epoch 281 is 4.243757486343384 sec\n",
      "Epoch: 282\n",
      "Learning rate: 0.00017772154\n"
     ]
    },
    {
     "name": "stderr",
     "output_type": "stream",
     "text": [
      "100%|██████████████████████████████████████| 2144/2144 [00:04<00:00, 503.55it/s]\n"
     ]
    },
    {
     "name": "stdout",
     "output_type": "stream",
     "text": [
      "Generator Error Metric is 0.015861306339502335\n",
      "Time for epoch 282 is 4.25931978225708 sec\n",
      "Epoch: 283\n",
      "Learning rate: 0.00017663227\n"
     ]
    },
    {
     "name": "stderr",
     "output_type": "stream",
     "text": [
      "100%|██████████████████████████████████████| 2144/2144 [00:04<00:00, 498.62it/s]\n"
     ]
    },
    {
     "name": "stdout",
     "output_type": "stream",
     "text": [
      "Generator Error Metric is 0.015584232285618782\n",
      "Time for epoch 283 is 4.301853179931641 sec\n",
      "Epoch: 284\n",
      "Learning rate: 0.00017554968\n"
     ]
    },
    {
     "name": "stderr",
     "output_type": "stream",
     "text": [
      "100%|██████████████████████████████████████| 2144/2144 [00:05<00:00, 376.92it/s]\n"
     ]
    },
    {
     "name": "stdout",
     "output_type": "stream",
     "text": [
      "Generator Error Metric is 0.016163622960448265\n",
      "Time for epoch 284 is 5.690601587295532 sec\n",
      "Epoch: 285\n",
      "Learning rate: 0.00017447371\n"
     ]
    },
    {
     "name": "stderr",
     "output_type": "stream",
     "text": [
      "100%|██████████████████████████████████████| 2144/2144 [00:04<00:00, 469.74it/s]\n"
     ]
    },
    {
     "name": "stdout",
     "output_type": "stream",
     "text": [
      "Generator Error Metric is 0.017208002507686615\n",
      "Time for epoch 285 is 4.566593408584595 sec\n",
      "Epoch: 286\n",
      "Learning rate: 0.00017340439\n"
     ]
    },
    {
     "name": "stderr",
     "output_type": "stream",
     "text": [
      "100%|██████████████████████████████████████| 2144/2144 [00:04<00:00, 514.71it/s]\n"
     ]
    },
    {
     "name": "stdout",
     "output_type": "stream",
     "text": [
      "Generator Error Metric is 0.015241394750773907\n",
      "Time for epoch 286 is 4.167520999908447 sec\n",
      "Epoch: 287\n",
      "Learning rate: 0.00017234156\n"
     ]
    },
    {
     "name": "stderr",
     "output_type": "stream",
     "text": [
      "100%|██████████████████████████████████████| 2144/2144 [00:04<00:00, 516.34it/s]\n"
     ]
    },
    {
     "name": "stdout",
     "output_type": "stream",
     "text": [
      "Generator Error Metric is 0.014955381862819195\n",
      "Time for epoch 287 is 4.1544249057769775 sec\n",
      "Epoch: 288\n",
      "Learning rate: 0.00017128527\n"
     ]
    },
    {
     "name": "stderr",
     "output_type": "stream",
     "text": [
      "100%|██████████████████████████████████████| 2144/2144 [00:04<00:00, 510.82it/s]\n"
     ]
    },
    {
     "name": "stdout",
     "output_type": "stream",
     "text": [
      "Generator Error Metric is 0.01572382263839245\n",
      "Time for epoch 288 is 4.19921612739563 sec\n",
      "Epoch: 289\n",
      "Learning rate: 0.00017023546\n"
     ]
    },
    {
     "name": "stderr",
     "output_type": "stream",
     "text": [
      "100%|██████████████████████████████████████| 2144/2144 [00:04<00:00, 505.51it/s]\n"
     ]
    },
    {
     "name": "stdout",
     "output_type": "stream",
     "text": [
      "Generator Error Metric is 0.015319153666496277\n",
      "Time for epoch 289 is 4.24292778968811 sec\n",
      "Epoch: 290\n",
      "Learning rate: 0.00016919208\n"
     ]
    },
    {
     "name": "stderr",
     "output_type": "stream",
     "text": [
      "100%|██████████████████████████████████████| 2144/2144 [00:05<00:00, 376.53it/s]\n"
     ]
    },
    {
     "name": "stdout",
     "output_type": "stream",
     "text": [
      "Generator Error Metric is 0.01561873871833086\n",
      "Time for epoch 290 is 5.695920944213867 sec\n",
      "Epoch: 291\n",
      "Learning rate: 0.00016815511\n"
     ]
    },
    {
     "name": "stderr",
     "output_type": "stream",
     "text": [
      "100%|██████████████████████████████████████| 2144/2144 [00:05<00:00, 376.20it/s]\n"
     ]
    },
    {
     "name": "stdout",
     "output_type": "stream",
     "text": [
      "Generator Error Metric is 0.01694757118821144\n",
      "Time for epoch 291 is 5.701258182525635 sec\n",
      "Epoch: 292\n",
      "Learning rate: 0.00016712448\n"
     ]
    },
    {
     "name": "stderr",
     "output_type": "stream",
     "text": [
      "100%|██████████████████████████████████████| 2144/2144 [00:05<00:00, 377.88it/s]\n"
     ]
    },
    {
     "name": "stdout",
     "output_type": "stream",
     "text": [
      "Generator Error Metric is 0.01763015426695347\n",
      "Time for epoch 292 is 5.675775766372681 sec\n",
      "Epoch: 293\n",
      "Learning rate: 0.00016610014\n"
     ]
    },
    {
     "name": "stderr",
     "output_type": "stream",
     "text": [
      "100%|██████████████████████████████████████| 2144/2144 [00:04<00:00, 446.49it/s]\n"
     ]
    },
    {
     "name": "stdout",
     "output_type": "stream",
     "text": [
      "Generator Error Metric is 0.015493693761527538\n",
      "Time for epoch 293 is 4.8038489818573 sec\n",
      "Epoch: 294\n",
      "Learning rate: 0.00016508212\n"
     ]
    },
    {
     "name": "stderr",
     "output_type": "stream",
     "text": [
      "100%|██████████████████████████████████████| 2144/2144 [00:04<00:00, 512.06it/s]\n"
     ]
    },
    {
     "name": "stdout",
     "output_type": "stream",
     "text": [
      "Generator Error Metric is 0.01542750559747219\n",
      "Time for epoch 294 is 4.1885905265808105 sec\n",
      "Epoch: 295\n",
      "Learning rate: 0.00016407031\n"
     ]
    },
    {
     "name": "stderr",
     "output_type": "stream",
     "text": [
      "100%|██████████████████████████████████████| 2144/2144 [00:04<00:00, 509.46it/s]\n"
     ]
    },
    {
     "name": "stdout",
     "output_type": "stream",
     "text": [
      "Generator Error Metric is 0.01638435386121273\n",
      "Time for epoch 295 is 4.210107088088989 sec\n",
      "Epoch: 296\n",
      "Learning rate: 0.00016306473\n"
     ]
    },
    {
     "name": "stderr",
     "output_type": "stream",
     "text": [
      "100%|██████████████████████████████████████| 2144/2144 [00:04<00:00, 512.93it/s]\n"
     ]
    },
    {
     "name": "stdout",
     "output_type": "stream",
     "text": [
      "Generator Error Metric is 0.015238162130117416\n",
      "Time for epoch 296 is 4.182002067565918 sec\n",
      "Epoch: 297\n",
      "Learning rate: 0.00016206529\n"
     ]
    },
    {
     "name": "stderr",
     "output_type": "stream",
     "text": [
      "100%|██████████████████████████████████████| 2144/2144 [00:04<00:00, 507.43it/s]\n"
     ]
    },
    {
     "name": "stdout",
     "output_type": "stream",
     "text": [
      "Generator Error Metric is 0.0151063809171319\n",
      "Time for epoch 297 is 4.22708797454834 sec\n",
      "Epoch: 298\n",
      "Learning rate: 0.000161072\n"
     ]
    },
    {
     "name": "stderr",
     "output_type": "stream",
     "text": [
      "100%|██████████████████████████████████████| 2144/2144 [00:04<00:00, 511.01it/s]\n"
     ]
    },
    {
     "name": "stdout",
     "output_type": "stream",
     "text": [
      "Generator Error Metric is 0.014868577942252159\n",
      "Time for epoch 298 is 4.19789457321167 sec\n",
      "Epoch: 299\n",
      "Learning rate: 0.00016008478\n"
     ]
    },
    {
     "name": "stderr",
     "output_type": "stream",
     "text": [
      "100%|██████████████████████████████████████| 2144/2144 [00:05<00:00, 372.97it/s]\n"
     ]
    },
    {
     "name": "stdout",
     "output_type": "stream",
     "text": [
      "Generator Error Metric is 0.014515859074890614\n",
      "Time for epoch 299 is 5.750773191452026 sec\n",
      "Epoch: 300\n",
      "Learning rate: 0.00015910361\n"
     ]
    },
    {
     "name": "stderr",
     "output_type": "stream",
     "text": [
      "100%|██████████████████████████████████████| 2144/2144 [00:05<00:00, 373.54it/s]"
     ]
    },
    {
     "name": "stdout",
     "output_type": "stream",
     "text": [
      "Generator Error Metric is 0.014963493682444096\n",
      "Time for epoch 300 is 5.742032766342163 sec\n"
     ]
    },
    {
     "name": "stderr",
     "output_type": "stream",
     "text": [
      "\n"
     ]
    }
   ],
   "source": [
    "# for s in range(7):\n",
    "\n",
    "#     print(\"Subject {}\".format(s+1))\n",
    "\n",
    "#     lr_patches = []\n",
    "#     hr_patches = []\n",
    "\n",
    "#     for (i, j, k) in sel_indices[np.where(sel_indices[:,0]==s),1:].squeeze():\n",
    "    \n",
    "    \n",
    "#         lr_patch = np.copy(subjects_lr[s][\n",
    "#                                 i - p_size_i - 1 : i + p_size_i,, vmax=2.0\n",
    "#                                 j - p_size_i - 1 : j + p_size_i,\n",
    "#                                 k - p_size_i - 1 : k + p_size_i, :])\n",
    "                           \n",
    "    \n",
    "#         hr_patch = np.copy(subjects_hr[s][\n",
    "#                                 i - p_size_o - e_or_o : i + p_size_o,\n",
    "#                                 j - p_size_o - e_or_o : j + p_size_o,\n",
    "#                                 k - p_size_o - e_or_o : k + p_size_o, :])\n",
    "                           \n",
    "#         ipatch_mask = subjects_masks[s][\n",
    "#                                 i - p_size_i - e_or_o : i + p_size_i,\n",
    "#                                 j - p_size_i - e_or_o : j + p_size_i,\n",
    "#                                 k - p_size_i - e_or_o : k + p_size_i]\n",
    "\n",
    "#         opatch_mask = subjects_masks[s][\n",
    "#                                 i - p_size_o - e_or_o : i + p_size_o,\n",
    "#                                 j - p_size_o - e_or_o : j + p_size_o,\n",
    "#                                 k - p_size_o - e_or_o : k + p_size_o]\n",
    "\n",
    "#         lr_patch[ipatch_mask == 0] = 0\n",
    "#         hr_patch[opatch_mask == 0] = 0\n",
    "\n",
    "#         lr_patches.append(lr_patch)\n",
    "#         hr_patches.append(hr_patch)\n",
    "\n",
    "#     lr_patches = np.array(lr_patches)\n",
    "#     hr_patches = np.array(hr_patches)\n",
    "\n",
    "#     # lr_patches = np.array([subjects_lr[s][\n",
    "#     #                             i - p_size_i - 1 : i + p_size_i,\n",
    "#     #                             j - p_size_i - 1 : j + p_size_i,\n",
    "#     #                             k - p_size_i - 1 : k + p_size_i, :]\n",
    "#     #                        for (i,j,k) in sel_indices[np.where(sel_indices[:,0]==s),1:].squeeze()])\n",
    "    \n",
    "#     # hr_patches = np.array([subjects_hr[s][\n",
    "#     #                             i - p_size_o - e_or_o : i + p_size_o,\n",
    "#     #                             j - p_size_o - e_or_o : j + p_size_o,\n",
    "#     #                             k - p_size_o - e_or_o : k + p_size_o, :]\n",
    "#     #                        for (i,j,k) in sel_indices[np.where(sel_indices[:,0]==s),1:].squeeze()])\n",
    "    \n",
    "# # lr_patches = np.array([subjects_lr[s][\n",
    "# #                             i - p_size_i - e_or_o : i + p_size_i,\n",
    "# #                             j - p_size_i - e_or_o : j + p_size_i,\n",
    "# #                             k - p_size_i - e_or_o : k + p_size_i, :]\n",
    "# #                        # for (i,j,k) in sel_indices[np.where(sel_indices[:,0]==s),1:].squeeze()])\n",
    "# #                        for (s,i,j,k) in sel_indices])\n",
    "\n",
    "# # hr_patches = np.array([subjects_hr[s][\n",
    "# #                             i - p_size_o - e_or_o : i + p_size_o,\n",
    "# #                             j - p_size_o - e_or_o : j + p_size_o,\n",
    "# #                             k - p_size_o - e_or_o : k + p_size_o, :]\n",
    "# #                        # for (i,j,k) in sel_indices[np.where(sel_indices[:,0]==s),1:].squeeze()])\n",
    "# #                        for (s,i,j,k) in sel_indices])\n",
    "\n",
    "#     dataset = tf.data.Dataset.from_tensor_slices((lr_patches, hr_patches))\n",
    "    \n",
    "train([sel_indices, subjects_lr, subjects_hr, subjects_masks], 300)"
   ]
  },
  {
   "cell_type": "code",
   "execution_count": 28,
   "metadata": {},
   "outputs": [
    {
     "name": "stdout",
     "output_type": "stream",
     "text": [
      "tf.Tensor([[0.24914004]], shape=(1, 1), dtype=float32)\n",
      "tf.Tensor([[0.21364671]], shape=(1, 1), dtype=float32)\n"
     ]
    },
    {
     "data": {
      "text/plain": [
       "<matplotlib.image.AxesImage at 0x7f372c741e90>"
      ]
     },
     "execution_count": 28,
     "metadata": {},
     "output_type": "execute_result"
    },
    {
     "data": {
      "image/png": "[encoded data removed]",
      "text/plain": [
       "<Figure size 640x480 with 1 Axes>"
      ]
     },
     "metadata": {},
     "output_type": "display_data"
    },
    {
     "data": {
      "image/png": "[encoded data removed]",
      "text/plain": [
       "<Figure size 640x480 with 1 Axes>"
      ]
     },
     "metadata": {},
     "output_type": "display_data"
    }
   ],
   "source": [
    "i = 60 \n",
    "j = 60\n",
    "k = 80\n",
    "\n",
    "channel = 0\n",
    "\n",
    "lr_patch = np.copy(subjects_lr[6][\n",
    "                        i - p_size_i - e_or_o : i + p_size_i,\n",
    "                        j - p_size_i - e_or_o : j + p_size_i,\n",
    "                        k - p_size_i - e_or_o : k + p_size_i, :])\n",
    "\n",
    "hr_patch = np.copy(subjects_hr[6][\n",
    "                        i - p_size_o - e_or_o : i + p_size_o,\n",
    "                        j - p_size_o - e_or_o : j + p_size_o,\n",
    "                        k - p_size_o - e_or_o : k + p_size_o, :])\n",
    "\n",
    "lr_mask = subjects_masks[6][\n",
    "                            i - p_size_i - e_or_o : i + p_size_i,\n",
    "                            j - p_size_i - e_or_o : j + p_size_i,\n",
    "                            k - p_size_i - e_or_o : k + p_size_i]\n",
    "\n",
    "lr_patch[lr_mask == 0] = 0\n",
    "\n",
    "generated_image = generator(lr_patch[None,...], training=False)\n",
    "\n",
    "print(discriminator(generated_image))\n",
    "\n",
    "print(discriminator(hr_patch[None,...]))\n",
    "\n",
    "plt.imshow(generated_image[0,:,:,3,channel],cmap='gray')\n",
    "plt.figure()\n",
    "plt.imshow(hr_patch[:,:,3,channel],cmap='gray')"
   ]
  },
  {
   "cell_type": "code",
   "execution_count": 29,
   "metadata": {},
   "outputs": [
    {
     "name": "stderr",
     "output_type": "stream",
     "text": [
      "100%|██████████████████████████████████████| 1319/1319 [00:03<00:00, 390.78it/s]\n"
     ]
    }
   ],
   "source": [
    "# subjects_lr\n",
    "# subjects_hr\n",
    "# subjects_masks\n",
    "\n",
    "result_image = np.zeros(hires_output.shape)\n",
    "\n",
    "for (i, j, k) in tqdm(sel_indices[np.where(sel_indices[:,0]==6),1:].squeeze()):\n",
    "\n",
    "    lr_patch = np.copy(subjects_lr[6][\n",
    "                            i - p_size_i - e_or_o : i + p_size_i,\n",
    "                            j - p_size_i - e_or_o : j + p_size_i,\n",
    "                            k - p_size_i - e_or_o : k + p_size_i, :])\n",
    "\n",
    "    lr_mask = subjects_masks[6][\n",
    "                                i - p_size_i - e_or_o : i + p_size_i,\n",
    "                                j - p_size_i - e_or_o : j + p_size_i,\n",
    "                                k - p_size_i - e_or_o : k + p_size_i]\n",
    "\n",
    "    lr_patch[lr_mask == 0] = 0\n",
    "\n",
    "    generated_image = generator(lr_patch[None,...], training=False)\n",
    "\n",
    "    result_image[i - p_size_o - e_or_o : i + p_size_o,\n",
    "                 j - p_size_o - e_or_o : j + p_size_o,\n",
    "                 k - p_size_o - e_or_o : k + p_size_o, :] = generated_image\n",
    "\n",
    "result_image[subjects_masks[6] == 0] = 0\n",
    "    "
   ]
  },
  {
   "cell_type": "code",
   "execution_count": 32,
   "metadata": {},
   "outputs": [
    {
     "data": {
      "text/plain": [
       "<matplotlib.image.AxesImage at 0x7f372069c7d0>"
      ]
     },
     "execution_count": 32,
     "metadata": {},
     "output_type": "execute_result"
    },
    {
     "data": {
      "image/png": "[encoded data removed]",
      "text/plain": [
       "<Figure size 640x480 with 1 Axes>"
      ]
     },
     "metadata": {},
     "output_type": "display_data"
    },
    {
     "data": {
      "image/png": "[encoded data removed]",
      "text/plain": [
       "<Figure size 640x480 with 1 Axes>"
      ]
     },
     "metadata": {},
     "output_type": "display_data"
    },
    {
     "data": {
      "image/png": "[encoded data removed]",
      "text/plain": [
       "<Figure size 640x480 with 1 Axes>"
      ]
     },
     "metadata": {},
     "output_type": "display_data"
    }
   ],
   "source": [
    "zdim = 60\n",
    "channel = 1\n",
    "\n",
    "# plt.imshow(subjects_masks[6][:,:,zdim], cmap='gray')\n",
    "# plt.figure()\n",
    "plt.imshow(subjects_lr[6][:,:,zdim,channel], cmap='gray')\n",
    "plt.figure()\n",
    "plt.imshow(subjects_hr[6][:,:,zdim,channel], cmap='gray')\n",
    "plt.figure()\n",
    "plt.imshow(result_image[:,:,zdim,channel], cmap='gray')\n",
    "# plt.imshow((result_image[:,:,zdim,channel])*subjects_masks[6][:,:,zdim], cmap='gray')"
   ]
  },
  {
   "cell_type": "code",
   "execution_count": 33,
   "metadata": {},
   "outputs": [
    {
     "name": "stdout",
     "output_type": "stream",
     "text": [
      "0.061142137833722646 0.0023304373441755347 0.08048196136951447\n"
     ]
    },
    {
     "data": {
      "image/png": "[encoded data removed]",
      "text/plain": [
       "<Figure size 640x480 with 1 Axes>"
      ]
     },
     "metadata": {},
     "output_type": "display_data"
    },
    {
     "data": {
      "image/png": "[encoded data removed]",
      "text/plain": [
       "<Figure size 640x480 with 1 Axes>"
      ]
     },
     "metadata": {},
     "output_type": "display_data"
    },
    {
     "data": {
      "image/png": "[encoded data removed]",
      "text/plain": [
       "<Figure size 640x480 with 1 Axes>"
      ]
     },
     "metadata": {},
     "output_type": "display_data"
    }
   ],
   "source": [
    "plt.imshow(subjects_lr[6][50:90,60:120,zdim,channel], cmap='gray')\n",
    "plt.figure()\n",
    "plt.imshow(subjects_hr[6][50:90,60:120,zdim,channel], cmap='gray')\n",
    "plt.figure()\n",
    "plt.imshow(result_image[50:90,60:120,zdim,channel], cmap='gray')\n",
    "\n",
    "print(np.min(subjects_lr[6][40:80,60:120,zdim,channel]), np.min(subjects_hr[6][40:80,60:120,zdim,channel]), np.min(result_image[40:80,60:120,zdim,channel]))"
   ]
  },
  {
   "cell_type": "code",
   "execution_count": null,
   "metadata": {},
   "outputs": [],
   "source": [
    "# generator.save_weights('Model/gen_weights')\n",
    "# discriminator.save_weights('Model/disc_weights')"
   ]
  },
  {
   "cell_type": "code",
   "execution_count": null,
   "metadata": {},
   "outputs": [],
   "source": [
    "generator.save('Model/generator{}x_map_norm'.format(2*p_size_o + e_or_o))\n",
    "discriminator.save('Model/discriminator{}x_map_norm'.format(2*p_size_o + e_or_o))"
   ]
  },
  {
   "cell_type": "code",
   "execution_count": null,
   "metadata": {},
   "outputs": [],
   "source": []
  }
 ],
 "metadata": {
  "kernelspec": {
   "display_name": "Python 3 (ipykernel)",
   "language": "python",
   "name": "python3"
  },
  "language_info": {
   "codemirror_mode": {
    "name": "ipython",
    "version": 3
   },
   "file_extension": ".py",
   "mimetype": "text/x-python",
   "name": "python",
   "nbconvert_exporter": "python",
   "pygments_lexer": "ipython3",
   "version": "3.11.4"
  }
 },
 "nbformat": 4,
 "nbformat_minor": 4
}
