{
 "cells": [
  {
   "cell_type": "code",
   "execution_count": 1,
   "metadata": {
    "ExecuteTime": {
     "end_time": "2023-08-05T13:44:49.616254700Z",
     "start_time": "2023-08-05T13:44:43.055344700Z"
    }
   },
   "outputs": [
    {
     "name": "stderr",
     "output_type": "stream",
     "text": [
      "2023-08-22 15:33:57.185194: I tensorflow/core/util/port.cc:110] oneDNN custom operations are on. You may see slightly different numerical results due to floating-point round-off errors from different computation orders. To turn them off, set the environment variable `TF_ENABLE_ONEDNN_OPTS=0`.\n",
      "2023-08-22 15:33:57.213987: I tensorflow/core/platform/cpu_feature_guard.cc:182] This TensorFlow binary is optimized to use available CPU instructions in performance-critical operations.\n",
      "To enable the following instructions: AVX2 AVX_VNNI FMA, in other operations, rebuild TensorFlow with the appropriate compiler flags.\n",
      "2023-08-22 15:33:58.294366: W tensorflow/compiler/tf2tensorrt/utils/py_utils.cc:38] TF-TRT Warning: Could not find TensorRT\n"
     ]
    }
   ],
   "source": [
    "import tensorflow as tf"
   ]
  },
  {
   "cell_type": "code",
   "execution_count": 2,
   "metadata": {
    "ExecuteTime": {
     "end_time": "2023-08-05T13:44:49.635699800Z",
     "start_time": "2023-08-05T13:44:49.617799900Z"
    },
    "collapsed": false,
    "jupyter": {
     "outputs_hidden": false
    }
   },
   "outputs": [
    {
     "data": {
      "text/plain": [
       "'2.13.0'"
      ]
     },
     "execution_count": 2,
     "metadata": {},
     "output_type": "execute_result"
    }
   ],
   "source": [
    "tf.__version__"
   ]
  },
  {
   "cell_type": "code",
   "execution_count": 3,
   "metadata": {
    "ExecuteTime": {
     "end_time": "2023-08-05T13:44:51.214287100Z",
     "start_time": "2023-08-05T13:44:49.620274400Z"
    },
    "collapsed": false,
    "jupyter": {
     "outputs_hidden": false
    }
   },
   "outputs": [],
   "source": [
    "import glob\n",
    "# import imageio\n",
    "import matplotlib.pyplot as plt\n",
    "import numpy as np\n",
    "import os\n",
    "import PIL\n",
    "# from tensorflow.python.keras import layers\n",
    "from tensorflow.keras import layers, activations\n",
    "import time\n",
    "import nibabel as nib\n",
    "from tqdm import tqdm\n",
    "import gc\n",
    "from scipy.ndimage import binary_erosion\n",
    "from IPython import display\n",
    "import datetime\n",
    "\n",
    "import model"
   ]
  },
  {
   "cell_type": "code",
   "execution_count": 4,
   "metadata": {},
   "outputs": [
    {
     "name": "stdout",
     "output_type": "stream",
     "text": [
      "['390645', '545345', '106016', '120111', '101915', '351938', '705341']\n"
     ]
    }
   ],
   "source": [
    "subjects = [ f.name for f in os.scandir('./Data') if f.is_dir() and f.name != '.ipynb_checkpoints']\n",
    "\n",
    "e_or_o = 0\n",
    "\n",
    "p_size_i = 8\n",
    "p_size_o = 8\n",
    "\n",
    "print(subjects)"
   ]
  },
  {
   "cell_type": "code",
   "execution_count": 5,
   "metadata": {
    "ExecuteTime": {
     "end_time": "2023-08-05T14:00:04.659577500Z",
     "start_time": "2023-08-05T14:00:01.079241200Z"
    }
   },
   "outputs": [
    {
     "name": "stdout",
     "output_type": "stream",
     "text": [
      "Loading Subject 390645\n",
      "Loading Subject 545345\n",
      "Loading Subject 106016\n",
      "Loading Subject 120111\n",
      "Loading Subject 101915\n",
      "Loading Subject 351938\n",
      "Loading Subject 705341\n"
     ]
    }
   ],
   "source": [
    "subjects_lr = []\n",
    "subjects_hr = []\n",
    "subjects_masks = []\n",
    "\n",
    "subjects_preproc_values_lr = []\n",
    "subjects_preproc_values_hr = []\n",
    "\n",
    "subjects_t1_preproc_values = []\n",
    "\n",
    "for subj in subjects:\n",
    "\n",
    "    h4_imgs = []\n",
    "    h4_imgs_lr = []\n",
    "    dti_imgs = []\n",
    "    dti_imgs_lr = []\n",
    "\n",
    "    # DTI normalisation metrics pre-normalisation (storing max and min values in the mask) - Store for HR only\n",
    "    dti_preprocs_hr = np.zeros((6,2))\n",
    "    dti_preprocs_lr = np.zeros((6,2))\n",
    "\n",
    "    print(\"Loading Subject {}\".format(subj))\n",
    "    \n",
    "    for i in range(1,9):\n",
    "    \n",
    "        dti_data = np.array(nib.load(\"Data/{}/T1w/Diffusion/dt_all_{}.nii\".format(subj,i)).get_fdata())\n",
    "        dti_data_lr = np.array(nib.load(\"Data/{}/T1w/Diffusion/dt_all_lowres_2_{}.nii\".format(subj,i)).get_fdata())\n",
    "    \n",
    "        # if i > 1:\n",
    "        #     dti_data[dti_imgs[0] < 0] = 0\n",
    "        #     dti_data_lr[dti_imgs[0] < 0] = 0\n",
    "    \n",
    "        dti_imgs.append(dti_data)\n",
    "        dti_imgs_lr.append(dti_data_lr)\n",
    "    \n",
    "        dti_data = None\n",
    "        dti_data_lr = None\n",
    "    \n",
    "    for i in range(1,25):\n",
    "    \n",
    "        h4_data = np.array(nib.load(\"Data/{}/T1w/Diffusion/h4_all_{}.nii\".format(subj,str(i).zfill(2))).get_fdata())\n",
    "        h4_data_lr = np.array(nib.load(\"Data/{}/T1w/Diffusion/h4_all_lowres_2_{}.nii\".format(subj,str(i).zfill(2))).get_fdata())\n",
    "    \n",
    "        # if i > 1:\n",
    "        #     h4_data[h4_data[0] < 0] = 0\n",
    "        #     h4_data_lr[h4_data[0] < 0] = 0\n",
    "        \n",
    "        h4_imgs.append(h4_data)\n",
    "        h4_imgs_lr.append(h4_data_lr)\n",
    "    \n",
    "        h4_data = None\n",
    "        h4_data_lr = None\n",
    "    \n",
    "    h4_imgs = np.array(h4_imgs).transpose((1,2,3,0))\n",
    "    h4_imgs_lr = np.array(h4_imgs_lr).transpose((1,2,3,0))\n",
    "    \n",
    "    dti_imgs = np.array(dti_imgs).transpose((1,2,3,0))\n",
    "    dti_imgs_lr = np.array(dti_imgs_lr).transpose((1,2,3,0))\n",
    "    \n",
    "    mask = h4_imgs[...,0]\n",
    "\n",
    "    binmask = np.zeros(mask.shape)\n",
    "\n",
    "    binmask[mask >= 0] = 1\n",
    "\n",
    "    mask = binary_erosion(binmask, structure=np.ones((5,5,5),np.uint8),iterations = 1)\n",
    "\n",
    "    binmask = None\n",
    "\n",
    "    # Calculate DTI ranges and normalise to range [0,1]\n",
    "    for i in range(2,8):\n",
    "\n",
    "        dti_preprocs_lr[i-2,:] = np.array([np.min(mask*dti_imgs_lr[...,i]), np.max(mask*dti_imgs_lr[...,i])])\n",
    "        dti_imgs_lr[mask>0, i] = (dti_imgs_lr[mask>0, i] - dti_preprocs_lr[i-2,0] + 0.0001) / (dti_preprocs_lr[i-2,1] - dti_preprocs_lr[i-2,0])\n",
    "        dti_imgs_lr[mask==0, i] = 0\n",
    "\n",
    "        dti_preprocs_hr[i-2,:] = np.array([np.min(mask*dti_imgs[...,i]), np.max(mask*dti_imgs[...,i])])\n",
    "        dti_imgs[mask>0, i] = (dti_imgs[mask>0, i] - dti_preprocs_hr[i-2,0] + 0.0001) / (dti_preprocs_hr[i-2,1] - dti_preprocs_hr[i-2,0])\n",
    "        dti_imgs[mask==0, i] = 0\n",
    "\n",
    "\n",
    "    t1w = nib.load(\"Data/{}/T1w/Diffusion/t1w.nii\".format(subj))\n",
    "    \n",
    "    t1w_data = np.array(t1w.get_fdata())\n",
    "    \n",
    "    t1w_data_format = np.concatenate(\n",
    "        (t1w_data[::2,::2,::2, None], t1w_data[::2,::2,1::2, None],\n",
    "         t1w_data[::2,1::2,::2, None], t1w_data[::2,1::2,1::2, None],\n",
    "         t1w_data[1::2,::2,::2, None], t1w_data[1::2,::2,1::2, None],\n",
    "         t1w_data[1::2,1::2,::2, None], t1w_data[1::2,1::2,1::2, None]),\n",
    "        axis=-1)\n",
    "\n",
    "    t1w_preprocs = np.array([np.min(t1w_data_format*mask[...,None]), np.max(t1w_data_format*mask[...,None])])\n",
    "    \n",
    "    subjects_t1_preproc_values.append(t1w_preprocs)    \n",
    "    t1w_data_format[mask>0, :] = (t1w_data_format[mask>0, :] - t1w_preprocs[0] + 0.0001) / (t1w_preprocs[1] - t1w_preprocs[0])\n",
    "\n",
    "    subjects_preproc_values_lr.append(dti_preprocs_lr)\n",
    "    subjects_preproc_values_hr.append(dti_preprocs_hr)\n",
    "\n",
    "    lowres_input = np.concatenate((dti_imgs_lr[...,2:], t1w_data_format), axis=-1)\n",
    "    hires_output = np.copy(dti_imgs[...,2:])\n",
    "    \n",
    "    # lowres_input = np.concatenate((h4_imgs_lr[...,2:], dti_imgs_lr[...,2:], t1w_data_format), axis=-1)\n",
    "    # hires_output = np.copy(h4_imgs[...,2:])\n",
    "\n",
    "    subjects_lr.append(lowres_input)\n",
    "    subjects_hr.append(hires_output)\n",
    "    subjects_masks.append(mask)\n"
   ]
  },
  {
   "cell_type": "code",
   "execution_count": 6,
   "metadata": {
    "ExecuteTime": {
     "end_time": "2023-08-05T15:25:06.718078900Z",
     "start_time": "2023-08-05T15:25:06.534741600Z"
    },
    "collapsed": false,
    "jupyter": {
     "outputs_hidden": false
    }
   },
   "outputs": [
    {
     "name": "stderr",
     "output_type": "stream",
     "text": [
      "2023-08-22 15:34:15.513599: I tensorflow/compiler/xla/stream_executor/cuda/cuda_gpu_executor.cc:995] successful NUMA node read from SysFS had negative value (-1), but there must be at least one NUMA node, so returning NUMA node zero. See more at https://github.com/torvalds/linux/blob/v6.0/Documentation/ABI/testing/sysfs-bus-pci#L344-L355\n",
      "2023-08-22 15:34:15.529252: I tensorflow/compiler/xla/stream_executor/cuda/cuda_gpu_executor.cc:995] successful NUMA node read from SysFS had negative value (-1), but there must be at least one NUMA node, so returning NUMA node zero. See more at https://github.com/torvalds/linux/blob/v6.0/Documentation/ABI/testing/sysfs-bus-pci#L344-L355\n",
      "2023-08-22 15:34:15.529362: I tensorflow/compiler/xla/stream_executor/cuda/cuda_gpu_executor.cc:995] successful NUMA node read from SysFS had negative value (-1), but there must be at least one NUMA node, so returning NUMA node zero. See more at https://github.com/torvalds/linux/blob/v6.0/Documentation/ABI/testing/sysfs-bus-pci#L344-L355\n",
      "2023-08-22 15:34:15.530606: I tensorflow/compiler/xla/stream_executor/cuda/cuda_gpu_executor.cc:995] successful NUMA node read from SysFS had negative value (-1), but there must be at least one NUMA node, so returning NUMA node zero. See more at https://github.com/torvalds/linux/blob/v6.0/Documentation/ABI/testing/sysfs-bus-pci#L344-L355\n",
      "2023-08-22 15:34:15.530685: I tensorflow/compiler/xla/stream_executor/cuda/cuda_gpu_executor.cc:995] successful NUMA node read from SysFS had negative value (-1), but there must be at least one NUMA node, so returning NUMA node zero. See more at https://github.com/torvalds/linux/blob/v6.0/Documentation/ABI/testing/sysfs-bus-pci#L344-L355\n",
      "2023-08-22 15:34:15.530737: I tensorflow/compiler/xla/stream_executor/cuda/cuda_gpu_executor.cc:995] successful NUMA node read from SysFS had negative value (-1), but there must be at least one NUMA node, so returning NUMA node zero. See more at https://github.com/torvalds/linux/blob/v6.0/Documentation/ABI/testing/sysfs-bus-pci#L344-L355\n",
      "2023-08-22 15:34:15.833398: I tensorflow/compiler/xla/stream_executor/cuda/cuda_gpu_executor.cc:995] successful NUMA node read from SysFS had negative value (-1), but there must be at least one NUMA node, so returning NUMA node zero. See more at https://github.com/torvalds/linux/blob/v6.0/Documentation/ABI/testing/sysfs-bus-pci#L344-L355\n",
      "2023-08-22 15:34:15.833505: I tensorflow/compiler/xla/stream_executor/cuda/cuda_gpu_executor.cc:995] successful NUMA node read from SysFS had negative value (-1), but there must be at least one NUMA node, so returning NUMA node zero. See more at https://github.com/torvalds/linux/blob/v6.0/Documentation/ABI/testing/sysfs-bus-pci#L344-L355\n",
      "2023-08-22 15:34:15.833558: I tensorflow/compiler/xla/stream_executor/cuda/cuda_gpu_executor.cc:995] successful NUMA node read from SysFS had negative value (-1), but there must be at least one NUMA node, so returning NUMA node zero. See more at https://github.com/torvalds/linux/blob/v6.0/Documentation/ABI/testing/sysfs-bus-pci#L344-L355\n",
      "2023-08-22 15:34:15.833613: I tensorflow/core/common_runtime/gpu/gpu_device.cc:1639] Created device /job:localhost/replica:0/task:0/device:GPU:0 with 21923 MB memory:  -> device: 0, name: NVIDIA GeForce RTX 3090 Ti, pci bus id: 0000:01:00.0, compute capability: 8.6\n"
     ]
    },
    {
     "name": "stdout",
     "output_type": "stream",
     "text": [
      "(None, 16, 16, 16, 6)\n",
      "(None, 1)\n"
     ]
    }
   ],
   "source": [
    "def make_discriminator_model():\n",
    "    model = tf.keras.Sequential()\n",
    "    model.add(layers.Conv3D(64, (5, 5, 5), strides=(2, 2, 2), padding='same',\n",
    "                                     input_shape=[5, 5, 5, 22]))\n",
    "    model.add(layers.BatchNormalization())\n",
    "    model.add(layers.LeakyReLU())\n",
    "    # model.add(layers.Dropout(0.3))\n",
    "\n",
    "    # print(model.input_shape, model.output_shape)\n",
    "\n",
    "    model.add(layers.Conv3D(128, (5, 5, 5), strides=(2, 2, 2), padding='same'))\n",
    "    model.add(layers.BatchNormalization())\n",
    "    model.add(layers.LeakyReLU())\n",
    "    # model.add(layers.Dropout(0.3))\n",
    "\n",
    "    # print(model.output_shape)\\n\",\n",
    "\n",
    "    model.add(layers.Flatten())\n",
    "    model.add(layers.Dense(1, activation=activations.sigmoid))\n",
    "\n",
    "    print(model.output_shape)\n",
    "\n",
    "    return model\n",
    "\n",
    "\n",
    "\n",
    "# input_layer = tf.keras.Input(shape=(32, 32, 32, 36))\n",
    "# output_layer = model.unet3d(input_layer, 36)\n",
    "\n",
    "# generator = tf.keras.Model(input_layer, output_layer)\n",
    "generator = model.generator_enc_dec(14,6,2*p_size_i+e_or_o)\n",
    "discriminator = model.simple_discriminator(6,2*p_size_o+e_or_o)"
   ]
  },
  {
   "cell_type": "code",
   "execution_count": 7,
   "metadata": {
    "ExecuteTime": {
     "end_time": "2023-08-05T14:18:21.291398100Z",
     "start_time": "2023-08-05T14:18:21.254969700Z"
    },
    "collapsed": false,
    "jupyter": {
     "outputs_hidden": false
    }
   },
   "outputs": [],
   "source": [
    "cross_entropy_gen = tf.keras.losses.BinaryCrossentropy()\n",
    "cross_entropy_disc = tf.keras.losses.BinaryCrossentropy()\n",
    "\n",
    "def discriminator_loss(real_output, fake_output):\n",
    "    real_loss = tf.reduce_mean(cross_entropy_gen(tf.ones_like(real_output), real_output))\n",
    "    fake_loss = tf.reduce_mean(cross_entropy_gen(tf.zeros_like(fake_output), fake_output))\n",
    "    total_loss = real_loss + fake_loss\n",
    "    return total_loss\n",
    "\n",
    "def generator_loss(fake_output):\n",
    "    return tf.reduce_mean(cross_entropy_gen(tf.ones_like(fake_output), fake_output))\n",
    "\n",
    "# cross_entropy = tf.nn.sigmoid_cross_entropy_with_logits\n",
    "\n",
    "# def discriminator_loss(real_output, fake_output):\n",
    "#     real_loss = tf.reduce_mean(cross_entropy(labels=tf.ones_like(real_output), logits=real_output))\n",
    "#     fake_loss = tf.reduce_mean(cross_entropy(labels=tf.zeros_like(fake_output), logits=fake_output))\n",
    "#     total_loss = real_loss + fake_loss\n",
    "#     return total_loss\n",
    "\n",
    "# def generator_loss(fake_output):\n",
    "#     return cross_entropy(labels=tf.ones_like(fake_output), logits=fake_output)"
   ]
  },
  {
   "cell_type": "code",
   "execution_count": 8,
   "metadata": {
    "ExecuteTime": {
     "end_time": "2023-08-05T14:18:25.658937200Z",
     "start_time": "2023-08-05T14:18:25.629596Z"
    },
    "collapsed": false,
    "jupyter": {
     "outputs_hidden": false
    }
   },
   "outputs": [],
   "source": [
    "lr_schedule = tf.keras.optimizers.schedules.ExponentialDecay(\n",
    "    initial_learning_rate=1e-3,\n",
    "    decay_steps=50*2000,\n",
    "    decay_rate=0.1\n",
    ")\n",
    "\n",
    "generator_optimizer = tf.keras.optimizers.Adam(lr_schedule)\n",
    "discriminator_optimizer = tf.keras.optimizers.Adam(lr_schedule)"
   ]
  },
  {
   "cell_type": "code",
   "execution_count": 9,
   "metadata": {
    "ExecuteTime": {
     "end_time": "2023-08-05T14:18:26.774030800Z",
     "start_time": "2023-08-05T14:18:26.725560700Z"
    },
    "collapsed": false,
    "jupyter": {
     "outputs_hidden": false
    }
   },
   "outputs": [],
   "source": [
    "checkpoint_dir = './training_checkpoints_encdec'\n",
    "checkpoint_prefix = os.path.join(checkpoint_dir, \"ckpt\")\n",
    "checkpoint = tf.train.Checkpoint(generator_optimizer=generator_optimizer,\n",
    "                                 discriminator_optimizer=discriminator_optimizer,\n",
    "                                 generator=generator,\n",
    "                                 discriminator=discriminator)\n",
    "\n",
    "gen_loss_metric = tf.keras.metrics.Mean('gen_loss', dtype=tf.float32)\n",
    "# gen_accuracy_metric = tf.keras.metrics.SparseCategoricalAccuracy('gen_accuracy')\n",
    "\n",
    "disc_loss_metric = tf.keras.metrics.Mean('disc_loss', dtype=tf.float32)\n",
    "\n",
    "current_time = datetime.datetime.now().strftime(\"%Y%m%d-%H%M%S\")\n",
    "log_dir = './logs/gradient_tape_encdec/' + current_time + '/train'\n",
    "summary_writer = tf.summary.create_file_writer(log_dir)"
   ]
  },
  {
   "cell_type": "code",
   "execution_count": 10,
   "metadata": {
    "ExecuteTime": {
     "end_time": "2023-08-05T14:31:31.474922300Z",
     "start_time": "2023-08-05T14:31:31.453950800Z"
    },
    "collapsed": false,
    "jupyter": {
     "outputs_hidden": false
    }
   },
   "outputs": [],
   "source": [
    "@tf.function\n",
    "def train_step(lr_patch, hr_patch):\n",
    "\n",
    "    with tf.GradientTape() as gen_tape, tf.GradientTape() as disc_tape:\n",
    "      generated_images = generator(lr_patch, training=True)\n",
    "\n",
    "      real_output = discriminator(hr_patch, training=True)\n",
    "      fake_output = discriminator(generated_images, training=True)\n",
    "\n",
    "      gen_loss = generator_loss(fake_output)\n",
    "      disc_loss = discriminator_loss(real_output, fake_output)\n",
    "\n",
    "    gen_loss_metric(gen_loss)\n",
    "    # gen_accuracy_metric(hr_patch, generated_images)\n",
    "\n",
    "    disc_loss_metric(disc_loss)\n",
    "\n",
    "    gradients_of_generator = gen_tape.gradient(gen_loss, generator.trainable_variables)\n",
    "    gradients_of_discriminator = disc_tape.gradient(disc_loss, discriminator.trainable_variables)\n",
    "\n",
    "    generator_optimizer.apply_gradients(zip(gradients_of_generator, generator.trainable_variables))\n",
    "    discriminator_optimizer.apply_gradients(zip(gradients_of_discriminator, discriminator.trainable_variables))\n",
    "\n",
    "    return gen_loss, disc_loss\n",
    "\n",
    "@tf.function\n",
    "def train_step_gen(lr_patch, hr_patch):\n",
    "\n",
    "    with tf.GradientTape() as gen_tape, tf.GradientTape() as disc_tape:\n",
    "\n",
    "        generated_images = generator(lr_patch, training=True)\n",
    "\n",
    "        real_output = discriminator(hr_patch, training=False)\n",
    "        fake_output = discriminator(generated_images, training=False)\n",
    "\n",
    "        gen_loss = generator_loss(fake_output)\n",
    "        disc_loss = discriminator_loss(real_output, fake_output)\n",
    "\n",
    "    gradients_of_generator = gen_tape.gradient(gen_loss, generator.trainable_variables)\n",
    "    \n",
    "    generator_optimizer.apply_gradients(zip(gradients_of_generator, generator.trainable_variables))\n",
    "    \n",
    "    return gen_loss, disc_loss\n",
    "\n",
    "@tf.function\n",
    "def train_step_disc(lr_patch, hr_patch):\n",
    "\n",
    "    with tf.GradientTape() as gen_tape, tf.GradientTape() as disc_tape:\n",
    "\n",
    "        generated_images = generator(lr_patch, training=False)\n",
    "\n",
    "        real_output = discriminator(hr_patch, training=True)\n",
    "        fake_output = discriminator(generated_images, training=True)\n",
    "\n",
    "        gen_loss = generator_loss(fake_output)\n",
    "        disc_loss = discriminator_loss(real_output, fake_output)\n",
    "\n",
    "    gradients_of_discriminator = disc_tape.gradient(disc_loss, discriminator.trainable_variables)\n",
    "    discriminator_optimizer.apply_gradients(zip(gradients_of_discriminator, discriminator.trainable_variables))\n",
    "\n",
    "    return gen_loss, disc_loss"
   ]
  },
  {
   "cell_type": "code",
   "execution_count": 11,
   "metadata": {
    "ExecuteTime": {
     "end_time": "2023-08-05T15:37:15.289028100Z",
     "start_time": "2023-08-05T15:37:15.270842400Z"
    },
    "collapsed": false,
    "jupyter": {
     "outputs_hidden": false
    }
   },
   "outputs": [],
   "source": [
    "def train(data, epochs):\n",
    "\n",
    "  gen_train_mode = False\n",
    "\n",
    "  best_cost = np.Inf\n",
    "    \n",
    "  for epoch in range(epochs):\n",
    "\n",
    "    if epoch > 0 and epoch % 2 == 0:\n",
    "        gen_train_mode = not gen_train_mode\n",
    "      \n",
    "    start = time.time()\n",
    "\n",
    "    print(\"Epoch: {}\".format(epoch+1))\n",
    "\n",
    "    print(\"Learning rate:\", generator_optimizer.learning_rate.numpy())\n",
    "\n",
    "\n",
    "    mean_g_loss = 0.0\n",
    "    mean_d_loss = 0.0\n",
    "    total_cost = 0.0\n",
    "\n",
    "    # [sel_indices, subjects_lr, subjects_hr, subjects_masks]\n",
    "\n",
    "    randsels = np.random.choice(data[0].shape[0],data[0].shape[0]//4)\n",
    "\n",
    "    lr_patches = []\n",
    "    hr_patches = []\n",
    "\n",
    "    for prog, index in enumerate(tqdm(randsels)):\n",
    "\n",
    "        if (prog+1) % 8 != 0 or prog == (len(randsels) - 1):\n",
    "\n",
    "            (s, i, j, k) = data[0][index]\n",
    "        \n",
    "            lr_patch = np.copy(data[1][s][\n",
    "                                    i - p_size_i - e_or_o : i + p_size_i,\n",
    "                                    j - p_size_i - e_or_o : j + p_size_i,\n",
    "                                    k - p_size_i - e_or_o : k + p_size_i, :]) * \\\n",
    "            np.copy(data[3][s][\n",
    "                                    i - p_size_i - e_or_o : i + p_size_i,\n",
    "                                    j - p_size_i - e_or_o : j + p_size_i,\n",
    "                                    k - p_size_i - e_or_o : k + p_size_i, None])\n",
    "                               \n",
    "        \n",
    "            hr_patch = np.copy(data[2][s][\n",
    "                                    i - p_size_o - e_or_o : i + p_size_o,\n",
    "                                    j - p_size_o - e_or_o : j + p_size_o,\n",
    "                                    k - p_size_o - e_or_o : k + p_size_o, :]) * \\\n",
    "            np.copy(data[3][s][\n",
    "                                    i - p_size_o - e_or_o : i + p_size_o,\n",
    "                                    j - p_size_o - e_or_o : j + p_size_o,\n",
    "                                    k - p_size_o - e_or_o : k + p_size_o, None])\n",
    "\n",
    "            lr_patches.append(lr_patch)\n",
    "            hr_patches.append(hr_patch)\n",
    "            \n",
    "            continue\n",
    "        \n",
    "        lr_patches = tf.convert_to_tensor(np.array(lr_patches), dtype=tf.float32)\n",
    "        hr_patches = tf.convert_to_tensor(np.array(hr_patches), dtype=tf.float32)\n",
    "\n",
    "        g_loss, d_loss = train_step(lr_patches, hr_patches)\n",
    "\n",
    "        with summary_writer.as_default():\n",
    "            tf.summary.scalar('gen_loss', gen_loss_metric.result(), step=epoch)\n",
    "            tf.summary.scalar('disc_loss', disc_loss_metric.result(), step=epoch)\n",
    "        \n",
    "        # if gen_train_mode:\n",
    "        #     g_loss, d_loss = train_step_gen(lr_patch, hr_patch)\n",
    "        # else:\n",
    "        #     g_loss, d_loss = train_step_disc(lr_patch, hr_patch)\n",
    "        \n",
    "        mean_g_loss = mean_g_loss + g_loss\n",
    "        mean_d_loss = mean_d_loss + d_loss\n",
    "\n",
    "        y_preds = generator(lr_patches, training=False)\n",
    "\n",
    "        total_cost = total_cost + tf.reduce_mean(tf.square(hr_patches - y_preds))\n",
    "\n",
    "        lr_patches = []\n",
    "        hr_patches = []\n",
    "      \n",
    "    # Save the model every 5 epochs\n",
    "    # if (epoch + 1) % 5 == 0:\n",
    "    if best_cost < total_cost:\n",
    "      checkpoint.save(file_prefix = checkpoint_prefix)\n",
    "      best_cost = total_cost\n",
    "\n",
    "    # print('Generator Loss is {}'.format(float(mean_g_loss/len(randsels))))\n",
    "    # print('Discriminator Loss is {}'.format(float(mean_d_loss/len(randsels))))\n",
    "\n",
    "    print('Generator Error Metric is {}'.format(float(total_cost/(len(randsels)//4))))\n",
    "      \n",
    "    print ('Time for epoch {} is {} sec'.format(epoch + 1, time.time()-start))"
   ]
  },
  {
   "cell_type": "code",
   "execution_count": 12,
   "metadata": {},
   "outputs": [],
   "source": [
    "# subjects_lr\n",
    "# subjects_hr\n",
    "# subjects_masks"
   ]
  },
  {
   "cell_type": "code",
   "execution_count": 13,
   "metadata": {},
   "outputs": [],
   "source": [
    "(xsize, ysize, zsize, comp) = subjects_lr[0].shape\n",
    "\n",
    "# split_indices = [(i, j, k)\n",
    "#                  for k in np.arange(p_size_i+1,zsize-p_size_i+1,2*p_size_o+1)       \n",
    "#                  for j in np.arange(p_size_i+1,ysize-p_size_i+1,2*p_size_o+1)\n",
    "#                  for i in np.arange(p_size_i+1,xsize-p_size_i+1,2*p_size_o+1)\n",
    "#                 ]\n",
    "\n",
    "split_indices = [(i, j, k)\n",
    "                 for k in np.arange(p_size_i+1,zsize-p_size_i+e_or_o,2*p_size_o+e_or_o)       \n",
    "                 for j in np.arange(p_size_i+1,ysize-p_size_i+e_or_o,2*p_size_o+e_or_o)\n",
    "                 for i in np.arange(p_size_i+1,xsize-p_size_i+e_or_o,2*p_size_o+e_or_o)\n",
    "                ]\n",
    "\n",
    "sel_indices = []\n",
    "\n",
    "for s in range(len(subjects_lr)):\n",
    "    for (i, j, k) in split_indices:\n",
    "        ipatch_mask = subjects_masks[s][\n",
    "            i - p_size_o - e_or_o : i + p_size_o,\n",
    "            j - p_size_o - e_or_o : j + p_size_o,\n",
    "            k - p_size_o - e_or_o : k + p_size_o]\n",
    "    \n",
    "        if np.max(ipatch_mask) > 0:\n",
    "            sel_indices.append((s,i,j,k))\n",
    "\n",
    "sel_indices = np.array(sel_indices)"
   ]
  },
  {
   "cell_type": "code",
   "execution_count": 14,
   "metadata": {
    "ExecuteTime": {
     "end_time": "2023-08-05T15:37:17.483885900Z",
     "start_time": "2023-08-05T15:37:17.435327300Z"
    },
    "collapsed": false,
    "jupyter": {
     "outputs_hidden": false
    }
   },
   "outputs": [
    {
     "name": "stdout",
     "output_type": "stream",
     "text": [
      "Epoch: 1\n",
      "Learning rate: 0.001\n"
     ]
    },
    {
     "name": "stderr",
     "output_type": "stream",
     "text": [
      "  0%|                                                   | 0/500 [00:00<?, ?it/s]2023-08-22 15:34:18.266796: I tensorflow/compiler/xla/stream_executor/cuda/cuda_dnn.cc:432] Loaded cuDNN version 8600\n",
      "2023-08-22 15:34:19.148361: I tensorflow/compiler/xla/stream_executor/cuda/cuda_blas.cc:606] TensorFloat-32 will be used for the matrix multiplication. This will only be logged once.\n",
      "2023-08-22 15:34:19.360888: I tensorflow/compiler/xla/service/service.cc:168] XLA service 0x7f83efc3fd50 initialized for platform CUDA (this does not guarantee that XLA will be used). Devices:\n",
      "2023-08-22 15:34:19.360908: I tensorflow/compiler/xla/service/service.cc:176]   StreamExecutor device (0): NVIDIA GeForce RTX 3090 Ti, Compute Capability 8.6\n",
      "2023-08-22 15:34:19.364422: I tensorflow/compiler/mlir/tensorflow/utils/dump_mlir_util.cc:255] disabling MLIR crash reproducer, set env var `MLIR_CRASH_REPRODUCER_DIRECTORY` to enable.\n",
      "2023-08-22 15:34:19.543960: I ./tensorflow/compiler/jit/device_compiler.h:186] Compiled cluster using XLA!  This line is logged at most once for the lifetime of the process.\n",
      "100%|█████████████████████████████████████████| 500/500 [00:09<00:00, 51.93it/s]\n"
     ]
    },
    {
     "name": "stdout",
     "output_type": "stream",
     "text": [
      "Generator Error Metric is 0.1482345461845398\n",
      "Time for epoch 1 is 9.63584017753601 sec\n",
      "Epoch: 2\n",
      "Learning rate: 0.0009985964\n"
     ]
    },
    {
     "name": "stderr",
     "output_type": "stream",
     "text": [
      "100%|████████████████████████████████████████| 500/500 [00:02<00:00, 222.84it/s]\n"
     ]
    },
    {
     "name": "stdout",
     "output_type": "stream",
     "text": [
      "Generator Error Metric is 0.13862740993499756\n",
      "Time for epoch 2 is 2.245806932449341 sec\n",
      "Epoch: 3\n",
      "Learning rate: 0.0009971719\n"
     ]
    },
    {
     "name": "stderr",
     "output_type": "stream",
     "text": [
      "100%|████████████████████████████████████████| 500/500 [00:02<00:00, 223.53it/s]\n"
     ]
    },
    {
     "name": "stdout",
     "output_type": "stream",
     "text": [
      "Generator Error Metric is 0.1344701200723648\n",
      "Time for epoch 3 is 2.238743782043457 sec\n",
      "Epoch: 4\n",
      "Learning rate: 0.0009957494\n"
     ]
    },
    {
     "name": "stderr",
     "output_type": "stream",
     "text": [
      "100%|████████████████████████████████████████| 500/500 [00:02<00:00, 215.61it/s]\n"
     ]
    },
    {
     "name": "stdout",
     "output_type": "stream",
     "text": [
      "Generator Error Metric is 0.11395850032567978\n",
      "Time for epoch 4 is 2.3211731910705566 sec\n",
      "Epoch: 5\n",
      "Learning rate: 0.0009943288\n"
     ]
    },
    {
     "name": "stderr",
     "output_type": "stream",
     "text": [
      "100%|████████████████████████████████████████| 500/500 [00:02<00:00, 174.82it/s]\n"
     ]
    },
    {
     "name": "stdout",
     "output_type": "stream",
     "text": [
      "Generator Error Metric is 0.14497049152851105\n",
      "Time for epoch 5 is 2.8625404834747314 sec\n",
      "Epoch: 6\n",
      "Learning rate: 0.0009929102\n"
     ]
    },
    {
     "name": "stderr",
     "output_type": "stream",
     "text": [
      "100%|████████████████████████████████████████| 500/500 [00:03<00:00, 160.51it/s]\n"
     ]
    },
    {
     "name": "stdout",
     "output_type": "stream",
     "text": [
      "Generator Error Metric is 0.15287747979164124\n",
      "Time for epoch 6 is 3.1176598072052 sec\n",
      "Epoch: 7\n",
      "Learning rate: 0.0009914938\n"
     ]
    },
    {
     "name": "stderr",
     "output_type": "stream",
     "text": [
      "100%|████████████████████████████████████████| 500/500 [00:02<00:00, 177.92it/s]\n"
     ]
    },
    {
     "name": "stdout",
     "output_type": "stream",
     "text": [
      "Generator Error Metric is 0.1287103295326233\n",
      "Time for epoch 7 is 2.811917781829834 sec\n",
      "Epoch: 8\n",
      "Learning rate: 0.0009900794\n"
     ]
    },
    {
     "name": "stderr",
     "output_type": "stream",
     "text": [
      "100%|████████████████████████████████████████| 500/500 [00:02<00:00, 211.19it/s]\n"
     ]
    },
    {
     "name": "stdout",
     "output_type": "stream",
     "text": [
      "Generator Error Metric is 0.15120576322078705\n",
      "Time for epoch 8 is 2.369459390640259 sec\n",
      "Epoch: 9\n",
      "Learning rate: 0.0009886669\n"
     ]
    },
    {
     "name": "stderr",
     "output_type": "stream",
     "text": [
      "100%|████████████████████████████████████████| 500/500 [00:02<00:00, 215.58it/s]\n"
     ]
    },
    {
     "name": "stdout",
     "output_type": "stream",
     "text": [
      "Generator Error Metric is 0.18736429512500763\n",
      "Time for epoch 9 is 2.3215744495391846 sec\n",
      "Epoch: 10\n",
      "Learning rate: 0.0009872565\n"
     ]
    },
    {
     "name": "stderr",
     "output_type": "stream",
     "text": [
      "100%|████████████████████████████████████████| 500/500 [00:02<00:00, 220.48it/s]\n"
     ]
    },
    {
     "name": "stdout",
     "output_type": "stream",
     "text": [
      "Generator Error Metric is 0.17094209790229797\n",
      "Time for epoch 10 is 2.2699413299560547 sec\n",
      "Epoch: 11\n",
      "Learning rate: 0.0009858481\n"
     ]
    },
    {
     "name": "stderr",
     "output_type": "stream",
     "text": [
      "100%|████████████████████████████████████████| 500/500 [00:02<00:00, 222.52it/s]\n"
     ]
    },
    {
     "name": "stdout",
     "output_type": "stream",
     "text": [
      "Generator Error Metric is 0.100225068628788\n",
      "Time for epoch 11 is 2.2489914894104004 sec\n",
      "Epoch: 12\n",
      "Learning rate: 0.0009844417\n"
     ]
    },
    {
     "name": "stderr",
     "output_type": "stream",
     "text": [
      "100%|████████████████████████████████████████| 500/500 [00:02<00:00, 223.92it/s]\n"
     ]
    },
    {
     "name": "stdout",
     "output_type": "stream",
     "text": [
      "Generator Error Metric is 0.13874311745166779\n",
      "Time for epoch 12 is 2.234865188598633 sec\n",
      "Epoch: 13\n",
      "Learning rate: 0.0009830373\n"
     ]
    },
    {
     "name": "stderr",
     "output_type": "stream",
     "text": [
      "100%|████████████████████████████████████████| 500/500 [00:02<00:00, 224.29it/s]\n"
     ]
    },
    {
     "name": "stdout",
     "output_type": "stream",
     "text": [
      "Generator Error Metric is 0.11398646980524063\n",
      "Time for epoch 13 is 2.231356620788574 sec\n",
      "Epoch: 14\n",
      "Learning rate: 0.000981635\n"
     ]
    },
    {
     "name": "stderr",
     "output_type": "stream",
     "text": [
      "100%|████████████████████████████████████████| 500/500 [00:02<00:00, 176.17it/s]\n"
     ]
    },
    {
     "name": "stdout",
     "output_type": "stream",
     "text": [
      "Generator Error Metric is 0.19121333956718445\n",
      "Time for epoch 14 is 2.840503454208374 sec\n",
      "Epoch: 15\n",
      "Learning rate: 0.0009802346\n"
     ]
    },
    {
     "name": "stderr",
     "output_type": "stream",
     "text": [
      "100%|████████████████████████████████████████| 500/500 [00:02<00:00, 217.89it/s]\n"
     ]
    },
    {
     "name": "stdout",
     "output_type": "stream",
     "text": [
      "Generator Error Metric is 0.17071111500263214\n",
      "Time for epoch 15 is 2.2968966960906982 sec\n",
      "Epoch: 16\n",
      "Learning rate: 0.0009788362\n"
     ]
    },
    {
     "name": "stderr",
     "output_type": "stream",
     "text": [
      "100%|████████████████████████████████████████| 500/500 [00:02<00:00, 226.36it/s]\n"
     ]
    },
    {
     "name": "stdout",
     "output_type": "stream",
     "text": [
      "Generator Error Metric is 0.15807689726352692\n",
      "Time for epoch 16 is 2.210761070251465 sec\n",
      "Epoch: 17\n",
      "Learning rate: 0.0009774398\n"
     ]
    },
    {
     "name": "stderr",
     "output_type": "stream",
     "text": [
      "100%|████████████████████████████████████████| 500/500 [00:02<00:00, 226.11it/s]\n"
     ]
    },
    {
     "name": "stdout",
     "output_type": "stream",
     "text": [
      "Generator Error Metric is 0.2108812779188156\n",
      "Time for epoch 17 is 2.2132811546325684 sec\n",
      "Epoch: 18\n",
      "Learning rate: 0.00097604544\n"
     ]
    },
    {
     "name": "stderr",
     "output_type": "stream",
     "text": [
      "100%|████████████████████████████████████████| 500/500 [00:02<00:00, 227.55it/s]\n"
     ]
    },
    {
     "name": "stdout",
     "output_type": "stream",
     "text": [
      "Generator Error Metric is 0.18033157289028168\n",
      "Time for epoch 18 is 2.1991851329803467 sec\n",
      "Epoch: 19\n",
      "Learning rate: 0.000974653\n"
     ]
    },
    {
     "name": "stderr",
     "output_type": "stream",
     "text": [
      "100%|████████████████████████████████████████| 500/500 [00:02<00:00, 226.40it/s]\n"
     ]
    },
    {
     "name": "stdout",
     "output_type": "stream",
     "text": [
      "Generator Error Metric is 0.18407167494297028\n",
      "Time for epoch 19 is 2.2102537155151367 sec\n",
      "Epoch: 20\n",
      "Learning rate: 0.0009732626\n"
     ]
    },
    {
     "name": "stderr",
     "output_type": "stream",
     "text": [
      "100%|████████████████████████████████████████| 500/500 [00:02<00:00, 226.46it/s]\n"
     ]
    },
    {
     "name": "stdout",
     "output_type": "stream",
     "text": [
      "Generator Error Metric is 0.116715207695961\n",
      "Time for epoch 20 is 2.209838628768921 sec\n",
      "Epoch: 21\n",
      "Learning rate: 0.00097187405\n"
     ]
    },
    {
     "name": "stderr",
     "output_type": "stream",
     "text": [
      "100%|████████████████████████████████████████| 500/500 [00:02<00:00, 225.43it/s]\n"
     ]
    },
    {
     "name": "stdout",
     "output_type": "stream",
     "text": [
      "Generator Error Metric is 0.08793234080076218\n",
      "Time for epoch 21 is 2.2201645374298096 sec\n",
      "Epoch: 22\n",
      "Learning rate: 0.00097048766\n"
     ]
    },
    {
     "name": "stderr",
     "output_type": "stream",
     "text": [
      "100%|████████████████████████████████████████| 500/500 [00:02<00:00, 225.73it/s]\n"
     ]
    },
    {
     "name": "stdout",
     "output_type": "stream",
     "text": [
      "Generator Error Metric is 0.12274222820997238\n",
      "Time for epoch 22 is 2.216999053955078 sec\n",
      "Epoch: 23\n",
      "Learning rate: 0.00096910313\n"
     ]
    },
    {
     "name": "stderr",
     "output_type": "stream",
     "text": [
      "100%|████████████████████████████████████████| 500/500 [00:02<00:00, 225.25it/s]\n"
     ]
    },
    {
     "name": "stdout",
     "output_type": "stream",
     "text": [
      "Generator Error Metric is 0.17531074583530426\n",
      "Time for epoch 23 is 2.221473455429077 sec\n",
      "Epoch: 24\n",
      "Learning rate: 0.0009677207\n"
     ]
    },
    {
     "name": "stderr",
     "output_type": "stream",
     "text": [
      "100%|████████████████████████████████████████| 500/500 [00:02<00:00, 225.87it/s]\n"
     ]
    },
    {
     "name": "stdout",
     "output_type": "stream",
     "text": [
      "Generator Error Metric is 0.21071076393127441\n",
      "Time for epoch 24 is 2.2158608436584473 sec\n",
      "Epoch: 25\n",
      "Learning rate: 0.0009663402\n"
     ]
    },
    {
     "name": "stderr",
     "output_type": "stream",
     "text": [
      "100%|████████████████████████████████████████| 500/500 [00:02<00:00, 225.87it/s]\n"
     ]
    },
    {
     "name": "stdout",
     "output_type": "stream",
     "text": [
      "Generator Error Metric is 0.20594944059848785\n",
      "Time for epoch 25 is 2.215557336807251 sec\n",
      "Epoch: 26\n",
      "Learning rate: 0.0009649616\n"
     ]
    },
    {
     "name": "stderr",
     "output_type": "stream",
     "text": [
      "100%|████████████████████████████████████████| 500/500 [00:02<00:00, 226.08it/s]\n"
     ]
    },
    {
     "name": "stdout",
     "output_type": "stream",
     "text": [
      "Generator Error Metric is 0.14321164786815643\n",
      "Time for epoch 26 is 2.2136621475219727 sec\n",
      "Epoch: 27\n",
      "Learning rate: 0.000963585\n"
     ]
    },
    {
     "name": "stderr",
     "output_type": "stream",
     "text": [
      "100%|████████████████████████████████████████| 500/500 [00:02<00:00, 226.54it/s]\n"
     ]
    },
    {
     "name": "stdout",
     "output_type": "stream",
     "text": [
      "Generator Error Metric is 0.13429485261440277\n",
      "Time for epoch 27 is 2.2088723182678223 sec\n",
      "Epoch: 28\n",
      "Learning rate: 0.0009622103\n"
     ]
    },
    {
     "name": "stderr",
     "output_type": "stream",
     "text": [
      "100%|████████████████████████████████████████| 500/500 [00:02<00:00, 176.65it/s]\n"
     ]
    },
    {
     "name": "stdout",
     "output_type": "stream",
     "text": [
      "Generator Error Metric is 0.0998355895280838\n",
      "Time for epoch 28 is 2.832641124725342 sec\n",
      "Epoch: 29\n",
      "Learning rate: 0.00096083764\n"
     ]
    },
    {
     "name": "stderr",
     "output_type": "stream",
     "text": [
      "100%|████████████████████████████████████████| 500/500 [00:03<00:00, 164.48it/s]\n"
     ]
    },
    {
     "name": "stdout",
     "output_type": "stream",
     "text": [
      "Generator Error Metric is 0.09628726541996002\n",
      "Time for epoch 29 is 3.0418245792388916 sec\n",
      "Epoch: 30\n",
      "Learning rate: 0.0009594669\n"
     ]
    },
    {
     "name": "stderr",
     "output_type": "stream",
     "text": [
      "100%|████████████████████████████████████████| 500/500 [00:03<00:00, 160.36it/s]\n"
     ]
    },
    {
     "name": "stdout",
     "output_type": "stream",
     "text": [
      "Generator Error Metric is 0.0862073078751564\n",
      "Time for epoch 30 is 3.119935989379883 sec\n",
      "Epoch: 31\n",
      "Learning rate: 0.00095809816\n"
     ]
    },
    {
     "name": "stderr",
     "output_type": "stream",
     "text": [
      "100%|████████████████████████████████████████| 500/500 [00:02<00:00, 170.44it/s]\n"
     ]
    },
    {
     "name": "stdout",
     "output_type": "stream",
     "text": [
      "Generator Error Metric is 0.10174774378538132\n",
      "Time for epoch 31 is 2.9352920055389404 sec\n",
      "Epoch: 32\n",
      "Learning rate: 0.0009567314\n"
     ]
    },
    {
     "name": "stderr",
     "output_type": "stream",
     "text": [
      "100%|████████████████████████████████████████| 500/500 [00:02<00:00, 214.36it/s]\n"
     ]
    },
    {
     "name": "stdout",
     "output_type": "stream",
     "text": [
      "Generator Error Metric is 0.10195478796958923\n",
      "Time for epoch 32 is 2.334097385406494 sec\n",
      "Epoch: 33\n",
      "Learning rate: 0.00095536653\n"
     ]
    },
    {
     "name": "stderr",
     "output_type": "stream",
     "text": [
      "100%|████████████████████████████████████████| 500/500 [00:02<00:00, 226.58it/s]\n"
     ]
    },
    {
     "name": "stdout",
     "output_type": "stream",
     "text": [
      "Generator Error Metric is 0.061619482934474945\n",
      "Time for epoch 33 is 2.2085084915161133 sec\n",
      "Epoch: 34\n",
      "Learning rate: 0.0009540036\n"
     ]
    },
    {
     "name": "stderr",
     "output_type": "stream",
     "text": [
      "100%|████████████████████████████████████████| 500/500 [00:02<00:00, 226.42it/s]\n"
     ]
    },
    {
     "name": "stdout",
     "output_type": "stream",
     "text": [
      "Generator Error Metric is 0.05449220910668373\n",
      "Time for epoch 34 is 2.210078477859497 sec\n",
      "Epoch: 35\n",
      "Learning rate: 0.0009526426\n"
     ]
    },
    {
     "name": "stderr",
     "output_type": "stream",
     "text": [
      "100%|████████████████████████████████████████| 500/500 [00:02<00:00, 226.15it/s]\n"
     ]
    },
    {
     "name": "stdout",
     "output_type": "stream",
     "text": [
      "Generator Error Metric is 0.05213845521211624\n",
      "Time for epoch 35 is 2.213020086288452 sec\n",
      "Epoch: 36\n",
      "Learning rate: 0.00095128355\n"
     ]
    },
    {
     "name": "stderr",
     "output_type": "stream",
     "text": [
      "100%|████████████████████████████████████████| 500/500 [00:02<00:00, 170.38it/s]\n"
     ]
    },
    {
     "name": "stdout",
     "output_type": "stream",
     "text": [
      "Generator Error Metric is 0.10919580608606339\n",
      "Time for epoch 36 is 2.9367382526397705 sec\n",
      "Epoch: 37\n",
      "Learning rate: 0.0009499265\n"
     ]
    },
    {
     "name": "stderr",
     "output_type": "stream",
     "text": [
      "100%|████████████████████████████████████████| 500/500 [00:03<00:00, 166.44it/s]\n"
     ]
    },
    {
     "name": "stdout",
     "output_type": "stream",
     "text": [
      "Generator Error Metric is 0.12746410071849823\n",
      "Time for epoch 37 is 3.0062355995178223 sec\n",
      "Epoch: 38\n",
      "Learning rate: 0.00094857137\n"
     ]
    },
    {
     "name": "stderr",
     "output_type": "stream",
     "text": [
      "100%|████████████████████████████████████████| 500/500 [00:03<00:00, 166.55it/s]\n"
     ]
    },
    {
     "name": "stdout",
     "output_type": "stream",
     "text": [
      "Generator Error Metric is 0.06267686188220978\n",
      "Time for epoch 38 is 3.0043046474456787 sec\n",
      "Epoch: 39\n",
      "Learning rate: 0.0009472181\n"
     ]
    },
    {
     "name": "stderr",
     "output_type": "stream",
     "text": [
      "100%|████████████████████████████████████████| 500/500 [00:03<00:00, 166.49it/s]\n"
     ]
    },
    {
     "name": "stdout",
     "output_type": "stream",
     "text": [
      "Generator Error Metric is 0.05890221148729324\n",
      "Time for epoch 39 is 3.0054709911346436 sec\n",
      "Epoch: 40\n",
      "Learning rate: 0.00094586686\n"
     ]
    },
    {
     "name": "stderr",
     "output_type": "stream",
     "text": [
      "100%|████████████████████████████████████████| 500/500 [00:02<00:00, 213.11it/s]\n"
     ]
    },
    {
     "name": "stdout",
     "output_type": "stream",
     "text": [
      "Generator Error Metric is 0.07135006785392761\n",
      "Time for epoch 40 is 2.3483572006225586 sec\n",
      "Epoch: 41\n",
      "Learning rate: 0.00094451755\n"
     ]
    },
    {
     "name": "stderr",
     "output_type": "stream",
     "text": [
      "100%|████████████████████████████████████████| 500/500 [00:02<00:00, 225.32it/s]\n"
     ]
    },
    {
     "name": "stdout",
     "output_type": "stream",
     "text": [
      "Generator Error Metric is 0.053200412541627884\n",
      "Time for epoch 41 is 2.220947027206421 sec\n",
      "Epoch: 42\n",
      "Learning rate: 0.00094317005\n"
     ]
    },
    {
     "name": "stderr",
     "output_type": "stream",
     "text": [
      "100%|████████████████████████████████████████| 500/500 [00:02<00:00, 224.46it/s]\n"
     ]
    },
    {
     "name": "stdout",
     "output_type": "stream",
     "text": [
      "Generator Error Metric is 0.07865362614393234\n",
      "Time for epoch 42 is 2.2294278144836426 sec\n",
      "Epoch: 43\n",
      "Learning rate: 0.0009418245\n"
     ]
    },
    {
     "name": "stderr",
     "output_type": "stream",
     "text": [
      "100%|████████████████████████████████████████| 500/500 [00:02<00:00, 225.98it/s]\n"
     ]
    },
    {
     "name": "stdout",
     "output_type": "stream",
     "text": [
      "Generator Error Metric is 0.057907383888959885\n",
      "Time for epoch 43 is 2.214765787124634 sec\n",
      "Epoch: 44\n",
      "Learning rate: 0.00094048097\n"
     ]
    },
    {
     "name": "stderr",
     "output_type": "stream",
     "text": [
      "100%|████████████████████████████████████████| 500/500 [00:02<00:00, 225.04it/s]\n"
     ]
    },
    {
     "name": "stdout",
     "output_type": "stream",
     "text": [
      "Generator Error Metric is 0.0592765286564827\n",
      "Time for epoch 44 is 2.2240703105926514 sec\n",
      "Epoch: 45\n",
      "Learning rate: 0.0009391393\n"
     ]
    },
    {
     "name": "stderr",
     "output_type": "stream",
     "text": [
      "100%|████████████████████████████████████████| 500/500 [00:02<00:00, 226.53it/s]\n"
     ]
    },
    {
     "name": "stdout",
     "output_type": "stream",
     "text": [
      "Generator Error Metric is 0.08802681416273117\n",
      "Time for epoch 45 is 2.209073781967163 sec\n",
      "Epoch: 46\n",
      "Learning rate: 0.0009377996\n"
     ]
    },
    {
     "name": "stderr",
     "output_type": "stream",
     "text": [
      "100%|████████████████████████████████████████| 500/500 [00:02<00:00, 225.95it/s]\n"
     ]
    },
    {
     "name": "stdout",
     "output_type": "stream",
     "text": [
      "Generator Error Metric is 0.08837318420410156\n",
      "Time for epoch 46 is 2.2150349617004395 sec\n",
      "Epoch: 47\n",
      "Learning rate: 0.00093646167\n"
     ]
    },
    {
     "name": "stderr",
     "output_type": "stream",
     "text": [
      "100%|████████████████████████████████████████| 500/500 [00:02<00:00, 226.96it/s]\n"
     ]
    },
    {
     "name": "stdout",
     "output_type": "stream",
     "text": [
      "Generator Error Metric is 0.08161072432994843\n",
      "Time for epoch 47 is 2.204951286315918 sec\n",
      "Epoch: 48\n",
      "Learning rate: 0.00093512575\n"
     ]
    },
    {
     "name": "stderr",
     "output_type": "stream",
     "text": [
      "100%|████████████████████████████████████████| 500/500 [00:02<00:00, 224.82it/s]\n"
     ]
    },
    {
     "name": "stdout",
     "output_type": "stream",
     "text": [
      "Generator Error Metric is 0.06440450996160507\n",
      "Time for epoch 48 is 2.225986957550049 sec\n",
      "Epoch: 49\n",
      "Learning rate: 0.00093379174\n"
     ]
    },
    {
     "name": "stderr",
     "output_type": "stream",
     "text": [
      "100%|████████████████████████████████████████| 500/500 [00:02<00:00, 227.44it/s]\n"
     ]
    },
    {
     "name": "stdout",
     "output_type": "stream",
     "text": [
      "Generator Error Metric is 0.057955626398324966\n",
      "Time for epoch 49 is 2.2002928256988525 sec\n",
      "Epoch: 50\n",
      "Learning rate: 0.00093245954\n"
     ]
    },
    {
     "name": "stderr",
     "output_type": "stream",
     "text": [
      "100%|████████████████████████████████████████| 500/500 [00:02<00:00, 227.30it/s]\n"
     ]
    },
    {
     "name": "stdout",
     "output_type": "stream",
     "text": [
      "Generator Error Metric is 0.0844438374042511\n",
      "Time for epoch 50 is 2.2016608715057373 sec\n",
      "Epoch: 51\n",
      "Learning rate: 0.0009311293\n"
     ]
    },
    {
     "name": "stderr",
     "output_type": "stream",
     "text": [
      "100%|████████████████████████████████████████| 500/500 [00:02<00:00, 226.93it/s]\n"
     ]
    },
    {
     "name": "stdout",
     "output_type": "stream",
     "text": [
      "Generator Error Metric is 0.07947713136672974\n",
      "Time for epoch 51 is 2.2054474353790283 sec\n",
      "Epoch: 52\n",
      "Learning rate: 0.00092980097\n"
     ]
    },
    {
     "name": "stderr",
     "output_type": "stream",
     "text": [
      "100%|████████████████████████████████████████| 500/500 [00:02<00:00, 224.28it/s]\n"
     ]
    },
    {
     "name": "stdout",
     "output_type": "stream",
     "text": [
      "Generator Error Metric is 0.05813106149435043\n",
      "Time for epoch 52 is 2.231473922729492 sec\n",
      "Epoch: 53\n",
      "Learning rate: 0.0009284746\n"
     ]
    },
    {
     "name": "stderr",
     "output_type": "stream",
     "text": [
      "100%|████████████████████████████████████████| 500/500 [00:02<00:00, 226.10it/s]\n"
     ]
    },
    {
     "name": "stdout",
     "output_type": "stream",
     "text": [
      "Generator Error Metric is 0.06739793717861176\n",
      "Time for epoch 53 is 2.2132930755615234 sec\n",
      "Epoch: 54\n",
      "Learning rate: 0.0009271501\n"
     ]
    },
    {
     "name": "stderr",
     "output_type": "stream",
     "text": [
      "100%|████████████████████████████████████████| 500/500 [00:02<00:00, 226.46it/s]\n"
     ]
    },
    {
     "name": "stdout",
     "output_type": "stream",
     "text": [
      "Generator Error Metric is 0.06189654394984245\n",
      "Time for epoch 54 is 2.2097487449645996 sec\n",
      "Epoch: 55\n",
      "Learning rate: 0.00092582736\n"
     ]
    },
    {
     "name": "stderr",
     "output_type": "stream",
     "text": [
      "100%|████████████████████████████████████████| 500/500 [00:02<00:00, 226.19it/s]\n"
     ]
    },
    {
     "name": "stdout",
     "output_type": "stream",
     "text": [
      "Generator Error Metric is 0.05986849218606949\n",
      "Time for epoch 55 is 2.2122182846069336 sec\n",
      "Epoch: 56\n",
      "Learning rate: 0.00092450663\n"
     ]
    },
    {
     "name": "stderr",
     "output_type": "stream",
     "text": [
      "100%|████████████████████████████████████████| 500/500 [00:02<00:00, 225.57it/s]\n"
     ]
    },
    {
     "name": "stdout",
     "output_type": "stream",
     "text": [
      "Generator Error Metric is 0.06249614432454109\n",
      "Time for epoch 56 is 2.218705654144287 sec\n",
      "Epoch: 57\n",
      "Learning rate: 0.00092318765\n"
     ]
    },
    {
     "name": "stderr",
     "output_type": "stream",
     "text": [
      "100%|████████████████████████████████████████| 500/500 [00:02<00:00, 226.51it/s]\n"
     ]
    },
    {
     "name": "stdout",
     "output_type": "stream",
     "text": [
      "Generator Error Metric is 0.06957373023033142\n",
      "Time for epoch 57 is 2.2092487812042236 sec\n",
      "Epoch: 58\n",
      "Learning rate: 0.0009218707\n"
     ]
    },
    {
     "name": "stderr",
     "output_type": "stream",
     "text": [
      "100%|████████████████████████████████████████| 500/500 [00:02<00:00, 227.07it/s]\n"
     ]
    },
    {
     "name": "stdout",
     "output_type": "stream",
     "text": [
      "Generator Error Metric is 0.08776260912418365\n",
      "Time for epoch 58 is 2.204033613204956 sec\n",
      "Epoch: 59\n",
      "Learning rate: 0.00092055555\n"
     ]
    },
    {
     "name": "stderr",
     "output_type": "stream",
     "text": [
      "100%|████████████████████████████████████████| 500/500 [00:02<00:00, 226.60it/s]\n"
     ]
    },
    {
     "name": "stdout",
     "output_type": "stream",
     "text": [
      "Generator Error Metric is 0.07498820126056671\n",
      "Time for epoch 59 is 2.208430767059326 sec\n",
      "Epoch: 60\n",
      "Learning rate: 0.00091924233\n"
     ]
    },
    {
     "name": "stderr",
     "output_type": "stream",
     "text": [
      "100%|████████████████████████████████████████| 500/500 [00:02<00:00, 225.05it/s]\n"
     ]
    },
    {
     "name": "stdout",
     "output_type": "stream",
     "text": [
      "Generator Error Metric is 0.07266605645418167\n",
      "Time for epoch 60 is 2.2239599227905273 sec\n",
      "Epoch: 61\n",
      "Learning rate: 0.000917931\n"
     ]
    },
    {
     "name": "stderr",
     "output_type": "stream",
     "text": [
      "100%|████████████████████████████████████████| 500/500 [00:02<00:00, 227.79it/s]\n"
     ]
    },
    {
     "name": "stdout",
     "output_type": "stream",
     "text": [
      "Generator Error Metric is 0.06478793174028397\n",
      "Time for epoch 61 is 2.1969375610351562 sec\n",
      "Epoch: 62\n",
      "Learning rate: 0.0009166214\n"
     ]
    },
    {
     "name": "stderr",
     "output_type": "stream",
     "text": [
      "100%|████████████████████████████████████████| 500/500 [00:02<00:00, 227.82it/s]\n"
     ]
    },
    {
     "name": "stdout",
     "output_type": "stream",
     "text": [
      "Generator Error Metric is 0.06993591785430908\n",
      "Time for epoch 62 is 2.1967639923095703 sec\n",
      "Epoch: 63\n",
      "Learning rate: 0.00091531384\n"
     ]
    },
    {
     "name": "stderr",
     "output_type": "stream",
     "text": [
      "100%|████████████████████████████████████████| 500/500 [00:02<00:00, 227.51it/s]\n"
     ]
    },
    {
     "name": "stdout",
     "output_type": "stream",
     "text": [
      "Generator Error Metric is 0.07259196043014526\n",
      "Time for epoch 63 is 2.199702739715576 sec\n",
      "Epoch: 64\n",
      "Learning rate: 0.000914008\n"
     ]
    },
    {
     "name": "stderr",
     "output_type": "stream",
     "text": [
      "100%|████████████████████████████████████████| 500/500 [00:02<00:00, 227.09it/s]\n"
     ]
    },
    {
     "name": "stdout",
     "output_type": "stream",
     "text": [
      "Generator Error Metric is 0.06709430366754532\n",
      "Time for epoch 64 is 2.203627109527588 sec\n",
      "Epoch: 65\n",
      "Learning rate: 0.0009127041\n"
     ]
    },
    {
     "name": "stderr",
     "output_type": "stream",
     "text": [
      "100%|████████████████████████████████████████| 500/500 [00:02<00:00, 227.59it/s]\n"
     ]
    },
    {
     "name": "stdout",
     "output_type": "stream",
     "text": [
      "Generator Error Metric is 0.05030019208788872\n",
      "Time for epoch 65 is 2.199129343032837 sec\n",
      "Epoch: 66\n",
      "Learning rate: 0.0009114021\n"
     ]
    },
    {
     "name": "stderr",
     "output_type": "stream",
     "text": [
      "100%|████████████████████████████████████████| 500/500 [00:02<00:00, 227.56it/s]\n"
     ]
    },
    {
     "name": "stdout",
     "output_type": "stream",
     "text": [
      "Generator Error Metric is 0.0566958449780941\n",
      "Time for epoch 66 is 2.198913335800171 sec\n",
      "Epoch: 67\n",
      "Learning rate: 0.00091010187\n"
     ]
    },
    {
     "name": "stderr",
     "output_type": "stream",
     "text": [
      "100%|████████████████████████████████████████| 500/500 [00:02<00:00, 226.73it/s]\n"
     ]
    },
    {
     "name": "stdout",
     "output_type": "stream",
     "text": [
      "Generator Error Metric is 0.05939243733882904\n",
      "Time for epoch 67 is 2.2068653106689453 sec\n",
      "Epoch: 68\n",
      "Learning rate: 0.00090880354\n"
     ]
    },
    {
     "name": "stderr",
     "output_type": "stream",
     "text": [
      "100%|████████████████████████████████████████| 500/500 [00:02<00:00, 226.12it/s]\n"
     ]
    },
    {
     "name": "stdout",
     "output_type": "stream",
     "text": [
      "Generator Error Metric is 0.05544617399573326\n",
      "Time for epoch 68 is 2.212740659713745 sec\n",
      "Epoch: 69\n",
      "Learning rate: 0.0009075071\n"
     ]
    },
    {
     "name": "stderr",
     "output_type": "stream",
     "text": [
      "100%|████████████████████████████████████████| 500/500 [00:02<00:00, 228.26it/s]\n"
     ]
    },
    {
     "name": "stdout",
     "output_type": "stream",
     "text": [
      "Generator Error Metric is 0.04852663353085518\n",
      "Time for epoch 69 is 2.1920700073242188 sec\n",
      "Epoch: 70\n",
      "Learning rate: 0.00090621243\n"
     ]
    },
    {
     "name": "stderr",
     "output_type": "stream",
     "text": [
      "100%|████████████████████████████████████████| 500/500 [00:02<00:00, 227.61it/s]\n"
     ]
    },
    {
     "name": "stdout",
     "output_type": "stream",
     "text": [
      "Generator Error Metric is 0.05052965506911278\n",
      "Time for epoch 70 is 2.198235511779785 sec\n",
      "Epoch: 71\n",
      "Learning rate: 0.0009049196\n"
     ]
    },
    {
     "name": "stderr",
     "output_type": "stream",
     "text": [
      "100%|████████████████████████████████████████| 500/500 [00:02<00:00, 219.10it/s]\n"
     ]
    },
    {
     "name": "stdout",
     "output_type": "stream",
     "text": [
      "Generator Error Metric is 0.053397782146930695\n",
      "Time for epoch 71 is 2.2836833000183105 sec\n",
      "Epoch: 72\n",
      "Learning rate: 0.0009036287\n"
     ]
    },
    {
     "name": "stderr",
     "output_type": "stream",
     "text": [
      "100%|████████████████████████████████████████| 500/500 [00:02<00:00, 201.53it/s]\n"
     ]
    },
    {
     "name": "stdout",
     "output_type": "stream",
     "text": [
      "Generator Error Metric is 0.05391503497958183\n",
      "Time for epoch 72 is 2.4828507900238037 sec\n",
      "Epoch: 73\n",
      "Learning rate: 0.0009023396\n"
     ]
    },
    {
     "name": "stderr",
     "output_type": "stream",
     "text": [
      "100%|████████████████████████████████████████| 500/500 [00:02<00:00, 215.43it/s]\n"
     ]
    },
    {
     "name": "stdout",
     "output_type": "stream",
     "text": [
      "Generator Error Metric is 0.062301862984895706\n",
      "Time for epoch 73 is 2.3233444690704346 sec\n",
      "Epoch: 74\n",
      "Learning rate: 0.0009010523\n"
     ]
    },
    {
     "name": "stderr",
     "output_type": "stream",
     "text": [
      "100%|████████████████████████████████████████| 500/500 [00:02<00:00, 221.28it/s]\n"
     ]
    },
    {
     "name": "stdout",
     "output_type": "stream",
     "text": [
      "Generator Error Metric is 0.053083471953868866\n",
      "Time for epoch 74 is 2.261174201965332 sec\n",
      "Epoch: 75\n",
      "Learning rate: 0.0008997669\n"
     ]
    },
    {
     "name": "stderr",
     "output_type": "stream",
     "text": [
      "100%|████████████████████████████████████████| 500/500 [00:02<00:00, 213.28it/s]\n"
     ]
    },
    {
     "name": "stdout",
     "output_type": "stream",
     "text": [
      "Generator Error Metric is 0.053526610136032104\n",
      "Time for epoch 75 is 2.346013069152832 sec\n",
      "Epoch: 76\n",
      "Learning rate: 0.0008984833\n"
     ]
    },
    {
     "name": "stderr",
     "output_type": "stream",
     "text": [
      "100%|████████████████████████████████████████| 500/500 [00:02<00:00, 216.38it/s]\n"
     ]
    },
    {
     "name": "stdout",
     "output_type": "stream",
     "text": [
      "Generator Error Metric is 0.05237884074449539\n",
      "Time for epoch 76 is 2.312302589416504 sec\n",
      "Epoch: 77\n",
      "Learning rate: 0.0008972016\n"
     ]
    },
    {
     "name": "stderr",
     "output_type": "stream",
     "text": [
      "100%|████████████████████████████████████████| 500/500 [00:02<00:00, 219.65it/s]\n"
     ]
    },
    {
     "name": "stdout",
     "output_type": "stream",
     "text": [
      "Generator Error Metric is 0.05547555163502693\n",
      "Time for epoch 77 is 2.2779412269592285 sec\n",
      "Epoch: 78\n",
      "Learning rate: 0.00089592155\n"
     ]
    },
    {
     "name": "stderr",
     "output_type": "stream",
     "text": [
      "100%|████████████████████████████████████████| 500/500 [00:02<00:00, 220.38it/s]\n"
     ]
    },
    {
     "name": "stdout",
     "output_type": "stream",
     "text": [
      "Generator Error Metric is 0.0790567696094513\n",
      "Time for epoch 78 is 2.2703163623809814 sec\n",
      "Epoch: 79\n",
      "Learning rate: 0.00089464354\n"
     ]
    },
    {
     "name": "stderr",
     "output_type": "stream",
     "text": [
      "100%|████████████████████████████████████████| 500/500 [00:02<00:00, 221.30it/s]\n"
     ]
    },
    {
     "name": "stdout",
     "output_type": "stream",
     "text": [
      "Generator Error Metric is 0.07037173211574554\n",
      "Time for epoch 79 is 2.2609941959381104 sec\n",
      "Epoch: 80\n",
      "Learning rate: 0.0008933672\n"
     ]
    },
    {
     "name": "stderr",
     "output_type": "stream",
     "text": [
      "100%|████████████████████████████████████████| 500/500 [00:02<00:00, 218.97it/s]\n"
     ]
    },
    {
     "name": "stdout",
     "output_type": "stream",
     "text": [
      "Generator Error Metric is 0.0649925246834755\n",
      "Time for epoch 80 is 2.285047769546509 sec\n",
      "Epoch: 81\n",
      "Learning rate: 0.00089209276\n"
     ]
    },
    {
     "name": "stderr",
     "output_type": "stream",
     "text": [
      "100%|████████████████████████████████████████| 500/500 [00:02<00:00, 221.00it/s]\n"
     ]
    },
    {
     "name": "stdout",
     "output_type": "stream",
     "text": [
      "Generator Error Metric is 0.05383848026394844\n",
      "Time for epoch 81 is 2.26405930519104 sec\n",
      "Epoch: 82\n",
      "Learning rate: 0.0008908201\n"
     ]
    },
    {
     "name": "stderr",
     "output_type": "stream",
     "text": [
      "100%|████████████████████████████████████████| 500/500 [00:02<00:00, 220.92it/s]\n"
     ]
    },
    {
     "name": "stdout",
     "output_type": "stream",
     "text": [
      "Generator Error Metric is 0.0459388792514801\n",
      "Time for epoch 82 is 2.265073776245117 sec\n",
      "Epoch: 83\n",
      "Learning rate: 0.0008895493\n"
     ]
    },
    {
     "name": "stderr",
     "output_type": "stream",
     "text": [
      "100%|████████████████████████████████████████| 500/500 [00:02<00:00, 221.27it/s]\n"
     ]
    },
    {
     "name": "stdout",
     "output_type": "stream",
     "text": [
      "Generator Error Metric is 0.048864077776670456\n",
      "Time for epoch 83 is 2.261833906173706 sec\n",
      "Epoch: 84\n",
      "Learning rate: 0.00088828034\n"
     ]
    },
    {
     "name": "stderr",
     "output_type": "stream",
     "text": [
      "100%|████████████████████████████████████████| 500/500 [00:02<00:00, 220.16it/s]\n"
     ]
    },
    {
     "name": "stdout",
     "output_type": "stream",
     "text": [
      "Generator Error Metric is 0.05563591048121452\n",
      "Time for epoch 84 is 2.2729406356811523 sec\n",
      "Epoch: 85\n",
      "Learning rate: 0.00088701304\n"
     ]
    },
    {
     "name": "stderr",
     "output_type": "stream",
     "text": [
      "100%|████████████████████████████████████████| 500/500 [00:02<00:00, 225.75it/s]\n"
     ]
    },
    {
     "name": "stdout",
     "output_type": "stream",
     "text": [
      "Generator Error Metric is 0.10162408649921417\n",
      "Time for epoch 85 is 2.216660261154175 sec\n",
      "Epoch: 86\n",
      "Learning rate: 0.00088574766\n"
     ]
    },
    {
     "name": "stderr",
     "output_type": "stream",
     "text": [
      "100%|████████████████████████████████████████| 500/500 [00:02<00:00, 227.63it/s]\n"
     ]
    },
    {
     "name": "stdout",
     "output_type": "stream",
     "text": [
      "Generator Error Metric is 0.08745375275611877\n",
      "Time for epoch 86 is 2.198474645614624 sec\n",
      "Epoch: 87\n",
      "Learning rate: 0.00088448403\n"
     ]
    },
    {
     "name": "stderr",
     "output_type": "stream",
     "text": [
      "100%|████████████████████████████████████████| 500/500 [00:02<00:00, 227.79it/s]\n"
     ]
    },
    {
     "name": "stdout",
     "output_type": "stream",
     "text": [
      "Generator Error Metric is 0.07963687926530838\n",
      "Time for epoch 87 is 2.1970584392547607 sec\n",
      "Epoch: 88\n",
      "Learning rate: 0.00088322227\n"
     ]
    },
    {
     "name": "stderr",
     "output_type": "stream",
     "text": [
      "100%|████████████████████████████████████████| 500/500 [00:02<00:00, 227.96it/s]\n"
     ]
    },
    {
     "name": "stdout",
     "output_type": "stream",
     "text": [
      "Generator Error Metric is 0.05231647193431854\n",
      "Time for epoch 88 is 2.1952579021453857 sec\n",
      "Epoch: 89\n",
      "Learning rate: 0.0008819623\n"
     ]
    },
    {
     "name": "stderr",
     "output_type": "stream",
     "text": [
      "100%|████████████████████████████████████████| 500/500 [00:02<00:00, 224.28it/s]\n"
     ]
    },
    {
     "name": "stdout",
     "output_type": "stream",
     "text": [
      "Generator Error Metric is 0.05630873143672943\n",
      "Time for epoch 89 is 2.231255292892456 sec\n",
      "Epoch: 90\n",
      "Learning rate: 0.0008807041\n"
     ]
    },
    {
     "name": "stderr",
     "output_type": "stream",
     "text": [
      "100%|████████████████████████████████████████| 500/500 [00:03<00:00, 165.86it/s]\n"
     ]
    },
    {
     "name": "stdout",
     "output_type": "stream",
     "text": [
      "Generator Error Metric is 0.06724365800619125\n",
      "Time for epoch 90 is 3.016638994216919 sec\n",
      "Epoch: 91\n",
      "Learning rate: 0.00087944773\n"
     ]
    },
    {
     "name": "stderr",
     "output_type": "stream",
     "text": [
      "100%|████████████████████████████████████████| 500/500 [00:03<00:00, 166.25it/s]\n"
     ]
    },
    {
     "name": "stdout",
     "output_type": "stream",
     "text": [
      "Generator Error Metric is 0.0618070550262928\n",
      "Time for epoch 91 is 3.0097031593322754 sec\n",
      "Epoch: 92\n",
      "Learning rate: 0.0008781931\n"
     ]
    },
    {
     "name": "stderr",
     "output_type": "stream",
     "text": [
      "100%|████████████████████████████████████████| 500/500 [00:03<00:00, 166.32it/s]\n"
     ]
    },
    {
     "name": "stdout",
     "output_type": "stream",
     "text": [
      "Generator Error Metric is 0.09835662692785263\n",
      "Time for epoch 92 is 3.0085151195526123 sec\n",
      "Epoch: 93\n",
      "Learning rate: 0.0008769402\n"
     ]
    },
    {
     "name": "stderr",
     "output_type": "stream",
     "text": [
      "100%|████████████████████████████████████████| 500/500 [00:03<00:00, 165.60it/s]\n"
     ]
    },
    {
     "name": "stdout",
     "output_type": "stream",
     "text": [
      "Generator Error Metric is 0.07597152143716812\n",
      "Time for epoch 93 is 3.0216031074523926 sec\n",
      "Epoch: 94\n",
      "Learning rate: 0.00087568926\n"
     ]
    },
    {
     "name": "stderr",
     "output_type": "stream",
     "text": [
      "100%|████████████████████████████████████████| 500/500 [00:03<00:00, 165.53it/s]\n"
     ]
    },
    {
     "name": "stdout",
     "output_type": "stream",
     "text": [
      "Generator Error Metric is 0.05448775365948677\n",
      "Time for epoch 94 is 3.022965431213379 sec\n",
      "Epoch: 95\n",
      "Learning rate: 0.00087444\n"
     ]
    },
    {
     "name": "stderr",
     "output_type": "stream",
     "text": [
      "100%|████████████████████████████████████████| 500/500 [00:03<00:00, 163.17it/s]\n"
     ]
    },
    {
     "name": "stdout",
     "output_type": "stream",
     "text": [
      "Generator Error Metric is 0.06680669635534286\n",
      "Time for epoch 95 is 3.066473960876465 sec\n",
      "Epoch: 96\n",
      "Learning rate: 0.0008731925\n"
     ]
    },
    {
     "name": "stderr",
     "output_type": "stream",
     "text": [
      "100%|████████████████████████████████████████| 500/500 [00:03<00:00, 163.03it/s]\n"
     ]
    },
    {
     "name": "stdout",
     "output_type": "stream",
     "text": [
      "Generator Error Metric is 0.06255894154310226\n",
      "Time for epoch 96 is 3.0692360401153564 sec\n",
      "Epoch: 97\n",
      "Learning rate: 0.00087194686\n"
     ]
    },
    {
     "name": "stderr",
     "output_type": "stream",
     "text": [
      "100%|████████████████████████████████████████| 500/500 [00:03<00:00, 162.91it/s]\n"
     ]
    },
    {
     "name": "stdout",
     "output_type": "stream",
     "text": [
      "Generator Error Metric is 0.05228840187191963\n",
      "Time for epoch 97 is 3.0714571475982666 sec\n",
      "Epoch: 98\n",
      "Learning rate: 0.00087070296\n"
     ]
    },
    {
     "name": "stderr",
     "output_type": "stream",
     "text": [
      "100%|████████████████████████████████████████| 500/500 [00:03<00:00, 162.86it/s]\n"
     ]
    },
    {
     "name": "stdout",
     "output_type": "stream",
     "text": [
      "Generator Error Metric is 0.05568191036581993\n",
      "Time for epoch 98 is 3.0724377632141113 sec\n",
      "Epoch: 99\n",
      "Learning rate: 0.00086946087\n"
     ]
    },
    {
     "name": "stderr",
     "output_type": "stream",
     "text": [
      "100%|████████████████████████████████████████| 500/500 [00:03<00:00, 164.44it/s]\n"
     ]
    },
    {
     "name": "stdout",
     "output_type": "stream",
     "text": [
      "Generator Error Metric is 0.055193182080984116\n",
      "Time for epoch 99 is 3.0429537296295166 sec\n",
      "Epoch: 100\n",
      "Learning rate: 0.0008682204\n"
     ]
    },
    {
     "name": "stderr",
     "output_type": "stream",
     "text": [
      "100%|████████████████████████████████████████| 500/500 [00:03<00:00, 165.03it/s]\n"
     ]
    },
    {
     "name": "stdout",
     "output_type": "stream",
     "text": [
      "Generator Error Metric is 0.06560764461755753\n",
      "Time for epoch 100 is 3.0318710803985596 sec\n",
      "Epoch: 101\n",
      "Learning rate: 0.00086698186\n"
     ]
    },
    {
     "name": "stderr",
     "output_type": "stream",
     "text": [
      "100%|████████████████████████████████████████| 500/500 [00:03<00:00, 165.02it/s]\n"
     ]
    },
    {
     "name": "stdout",
     "output_type": "stream",
     "text": [
      "Generator Error Metric is 0.0658724457025528\n",
      "Time for epoch 101 is 3.032156467437744 sec\n",
      "Epoch: 102\n",
      "Learning rate: 0.00086574507\n"
     ]
    },
    {
     "name": "stderr",
     "output_type": "stream",
     "text": [
      "100%|████████████████████████████████████████| 500/500 [00:03<00:00, 163.46it/s]\n"
     ]
    },
    {
     "name": "stdout",
     "output_type": "stream",
     "text": [
      "Generator Error Metric is 0.060683753341436386\n",
      "Time for epoch 102 is 3.0614373683929443 sec\n",
      "Epoch: 103\n",
      "Learning rate: 0.00086450996\n"
     ]
    },
    {
     "name": "stderr",
     "output_type": "stream",
     "text": [
      "100%|████████████████████████████████████████| 500/500 [00:03<00:00, 163.63it/s]\n"
     ]
    },
    {
     "name": "stdout",
     "output_type": "stream",
     "text": [
      "Generator Error Metric is 0.058504559099674225\n",
      "Time for epoch 103 is 3.0581045150756836 sec\n",
      "Epoch: 104\n",
      "Learning rate: 0.0008632767\n"
     ]
    },
    {
     "name": "stderr",
     "output_type": "stream",
     "text": [
      "100%|████████████████████████████████████████| 500/500 [00:03<00:00, 163.64it/s]\n"
     ]
    },
    {
     "name": "stdout",
     "output_type": "stream",
     "text": [
      "Generator Error Metric is 0.049828480929136276\n",
      "Time for epoch 104 is 3.057804822921753 sec\n",
      "Epoch: 105\n",
      "Learning rate: 0.00086204516\n"
     ]
    },
    {
     "name": "stderr",
     "output_type": "stream",
     "text": [
      "100%|████████████████████████████████████████| 500/500 [00:03<00:00, 163.54it/s]\n"
     ]
    },
    {
     "name": "stdout",
     "output_type": "stream",
     "text": [
      "Generator Error Metric is 0.05479424446821213\n",
      "Time for epoch 105 is 3.0596909523010254 sec\n",
      "Epoch: 106\n",
      "Learning rate: 0.0008608154\n"
     ]
    },
    {
     "name": "stderr",
     "output_type": "stream",
     "text": [
      "100%|████████████████████████████████████████| 500/500 [00:02<00:00, 222.26it/s]\n"
     ]
    },
    {
     "name": "stdout",
     "output_type": "stream",
     "text": [
      "Generator Error Metric is 0.05655622109770775\n",
      "Time for epoch 106 is 2.2522575855255127 sec\n",
      "Epoch: 107\n",
      "Learning rate: 0.00085958734\n"
     ]
    },
    {
     "name": "stderr",
     "output_type": "stream",
     "text": [
      "100%|████████████████████████████████████████| 500/500 [00:02<00:00, 219.24it/s]\n"
     ]
    },
    {
     "name": "stdout",
     "output_type": "stream",
     "text": [
      "Generator Error Metric is 0.05960526689887047\n",
      "Time for epoch 107 is 2.2826948165893555 sec\n",
      "Epoch: 108\n",
      "Learning rate: 0.000858361\n"
     ]
    },
    {
     "name": "stderr",
     "output_type": "stream",
     "text": [
      "100%|████████████████████████████████████████| 500/500 [00:02<00:00, 220.39it/s]\n"
     ]
    },
    {
     "name": "stdout",
     "output_type": "stream",
     "text": [
      "Generator Error Metric is 0.0529029406607151\n",
      "Time for epoch 108 is 2.270779848098755 sec\n",
      "Epoch: 109\n",
      "Learning rate: 0.0008571365\n"
     ]
    },
    {
     "name": "stderr",
     "output_type": "stream",
     "text": [
      "100%|████████████████████████████████████████| 500/500 [00:02<00:00, 220.13it/s]\n"
     ]
    },
    {
     "name": "stdout",
     "output_type": "stream",
     "text": [
      "Generator Error Metric is 0.05261155962944031\n",
      "Time for epoch 109 is 2.2732961177825928 sec\n",
      "Epoch: 110\n",
      "Learning rate: 0.00085591373\n"
     ]
    },
    {
     "name": "stderr",
     "output_type": "stream",
     "text": [
      "100%|████████████████████████████████████████| 500/500 [00:02<00:00, 218.88it/s]\n"
     ]
    },
    {
     "name": "stdout",
     "output_type": "stream",
     "text": [
      "Generator Error Metric is 0.05692184343934059\n",
      "Time for epoch 110 is 2.2862300872802734 sec\n",
      "Epoch: 111\n",
      "Learning rate: 0.0008546927\n"
     ]
    },
    {
     "name": "stderr",
     "output_type": "stream",
     "text": [
      "100%|████████████████████████████████████████| 500/500 [00:02<00:00, 223.21it/s]\n"
     ]
    },
    {
     "name": "stdout",
     "output_type": "stream",
     "text": [
      "Generator Error Metric is 0.055681340396404266\n",
      "Time for epoch 111 is 2.2416927814483643 sec\n",
      "Epoch: 112\n",
      "Learning rate: 0.00085347344\n"
     ]
    },
    {
     "name": "stderr",
     "output_type": "stream",
     "text": [
      "100%|████████████████████████████████████████| 500/500 [00:02<00:00, 217.00it/s]\n"
     ]
    },
    {
     "name": "stdout",
     "output_type": "stream",
     "text": [
      "Generator Error Metric is 0.05487870052456856\n",
      "Time for epoch 112 is 2.3057749271392822 sec\n",
      "Epoch: 113\n",
      "Learning rate: 0.0008522559\n"
     ]
    },
    {
     "name": "stderr",
     "output_type": "stream",
     "text": [
      "100%|████████████████████████████████████████| 500/500 [00:02<00:00, 219.30it/s]\n"
     ]
    },
    {
     "name": "stdout",
     "output_type": "stream",
     "text": [
      "Generator Error Metric is 0.04942696541547775\n",
      "Time for epoch 113 is 2.2815515995025635 sec\n",
      "Epoch: 114\n",
      "Learning rate: 0.00085104007\n"
     ]
    },
    {
     "name": "stderr",
     "output_type": "stream",
     "text": [
      "100%|████████████████████████████████████████| 500/500 [00:02<00:00, 219.91it/s]\n"
     ]
    },
    {
     "name": "stdout",
     "output_type": "stream",
     "text": [
      "Generator Error Metric is 0.04178498312830925\n",
      "Time for epoch 114 is 2.2753517627716064 sec\n",
      "Epoch: 115\n",
      "Learning rate: 0.00084982597\n"
     ]
    },
    {
     "name": "stderr",
     "output_type": "stream",
     "text": [
      "100%|████████████████████████████████████████| 500/500 [00:02<00:00, 224.65it/s]\n"
     ]
    },
    {
     "name": "stdout",
     "output_type": "stream",
     "text": [
      "Generator Error Metric is 0.04877174273133278\n",
      "Time for epoch 115 is 2.2272162437438965 sec\n",
      "Epoch: 116\n",
      "Learning rate: 0.0008486137\n"
     ]
    },
    {
     "name": "stderr",
     "output_type": "stream",
     "text": [
      "100%|████████████████████████████████████████| 500/500 [00:02<00:00, 225.09it/s]\n"
     ]
    },
    {
     "name": "stdout",
     "output_type": "stream",
     "text": [
      "Generator Error Metric is 0.05842269957065582\n",
      "Time for epoch 116 is 2.2229528427124023 sec\n",
      "Epoch: 117\n",
      "Learning rate: 0.000847403\n"
     ]
    },
    {
     "name": "stderr",
     "output_type": "stream",
     "text": [
      "100%|████████████████████████████████████████| 500/500 [00:02<00:00, 224.99it/s]\n"
     ]
    },
    {
     "name": "stdout",
     "output_type": "stream",
     "text": [
      "Generator Error Metric is 0.0496797114610672\n",
      "Time for epoch 117 is 2.2238192558288574 sec\n",
      "Epoch: 118\n",
      "Learning rate: 0.0008461941\n"
     ]
    },
    {
     "name": "stderr",
     "output_type": "stream",
     "text": [
      "100%|████████████████████████████████████████| 500/500 [00:02<00:00, 225.79it/s]\n"
     ]
    },
    {
     "name": "stdout",
     "output_type": "stream",
     "text": [
      "Generator Error Metric is 0.05597631633281708\n",
      "Time for epoch 118 is 2.216571807861328 sec\n",
      "Epoch: 119\n",
      "Learning rate: 0.00084498693\n"
     ]
    },
    {
     "name": "stderr",
     "output_type": "stream",
     "text": [
      "100%|████████████████████████████████████████| 500/500 [00:02<00:00, 226.43it/s]\n"
     ]
    },
    {
     "name": "stdout",
     "output_type": "stream",
     "text": [
      "Generator Error Metric is 0.04276946932077408\n",
      "Time for epoch 119 is 2.2103936672210693 sec\n",
      "Epoch: 120\n",
      "Learning rate: 0.00084378157\n"
     ]
    },
    {
     "name": "stderr",
     "output_type": "stream",
     "text": [
      "100%|████████████████████████████████████████| 500/500 [00:02<00:00, 226.69it/s]\n"
     ]
    },
    {
     "name": "stdout",
     "output_type": "stream",
     "text": [
      "Generator Error Metric is 0.052481524646282196\n",
      "Time for epoch 120 is 2.207744598388672 sec\n",
      "Epoch: 121\n",
      "Learning rate: 0.0008425777\n"
     ]
    },
    {
     "name": "stderr",
     "output_type": "stream",
     "text": [
      "100%|████████████████████████████████████████| 500/500 [00:02<00:00, 224.80it/s]\n"
     ]
    },
    {
     "name": "stdout",
     "output_type": "stream",
     "text": [
      "Generator Error Metric is 0.08053118735551834\n",
      "Time for epoch 121 is 2.226282835006714 sec\n",
      "Epoch: 122\n",
      "Learning rate: 0.00084137573\n"
     ]
    },
    {
     "name": "stderr",
     "output_type": "stream",
     "text": [
      "100%|████████████████████████████████████████| 500/500 [00:02<00:00, 228.08it/s]\n"
     ]
    },
    {
     "name": "stdout",
     "output_type": "stream",
     "text": [
      "Generator Error Metric is 0.07536379992961884\n",
      "Time for epoch 122 is 2.1943769454956055 sec\n",
      "Epoch: 123\n",
      "Learning rate: 0.0008401755\n"
     ]
    },
    {
     "name": "stderr",
     "output_type": "stream",
     "text": [
      "100%|████████████████████████████████████████| 500/500 [00:02<00:00, 228.75it/s]\n"
     ]
    },
    {
     "name": "stdout",
     "output_type": "stream",
     "text": [
      "Generator Error Metric is 0.08227022737264633\n",
      "Time for epoch 123 is 2.1878058910369873 sec\n",
      "Epoch: 124\n",
      "Learning rate: 0.0008389769\n"
     ]
    },
    {
     "name": "stderr",
     "output_type": "stream",
     "text": [
      "100%|████████████████████████████████████████| 500/500 [00:02<00:00, 228.62it/s]\n"
     ]
    },
    {
     "name": "stdout",
     "output_type": "stream",
     "text": [
      "Generator Error Metric is 0.0652199387550354\n",
      "Time for epoch 124 is 2.189053535461426 sec\n",
      "Epoch: 125\n",
      "Learning rate: 0.00083778\n"
     ]
    },
    {
     "name": "stderr",
     "output_type": "stream",
     "text": [
      "100%|████████████████████████████████████████| 500/500 [00:02<00:00, 228.25it/s]\n"
     ]
    },
    {
     "name": "stdout",
     "output_type": "stream",
     "text": [
      "Generator Error Metric is 0.06231290474534035\n",
      "Time for epoch 125 is 2.1923723220825195 sec\n",
      "Epoch: 126\n",
      "Learning rate: 0.0008365849\n"
     ]
    },
    {
     "name": "stderr",
     "output_type": "stream",
     "text": [
      "100%|████████████████████████████████████████| 500/500 [00:02<00:00, 228.58it/s]\n"
     ]
    },
    {
     "name": "stdout",
     "output_type": "stream",
     "text": [
      "Generator Error Metric is 0.05948040634393692\n",
      "Time for epoch 126 is 2.189434051513672 sec\n",
      "Epoch: 127\n",
      "Learning rate: 0.00083539146\n"
     ]
    },
    {
     "name": "stderr",
     "output_type": "stream",
     "text": [
      "100%|████████████████████████████████████████| 500/500 [00:02<00:00, 230.21it/s]\n"
     ]
    },
    {
     "name": "stdout",
     "output_type": "stream",
     "text": [
      "Generator Error Metric is 0.06597679108381271\n",
      "Time for epoch 127 is 2.17376971244812 sec\n",
      "Epoch: 128\n",
      "Learning rate: 0.0008341997\n"
     ]
    },
    {
     "name": "stderr",
     "output_type": "stream",
     "text": [
      "100%|████████████████████████████████████████| 500/500 [00:02<00:00, 229.63it/s]\n"
     ]
    },
    {
     "name": "stdout",
     "output_type": "stream",
     "text": [
      "Generator Error Metric is 0.061894334852695465\n",
      "Time for epoch 128 is 2.179206132888794 sec\n",
      "Epoch: 129\n",
      "Learning rate: 0.0008330096\n"
     ]
    },
    {
     "name": "stderr",
     "output_type": "stream",
     "text": [
      "100%|████████████████████████████████████████| 500/500 [00:02<00:00, 228.63it/s]\n"
     ]
    },
    {
     "name": "stdout",
     "output_type": "stream",
     "text": [
      "Generator Error Metric is 0.06576672196388245\n",
      "Time for epoch 129 is 2.1891837120056152 sec\n",
      "Epoch: 130\n",
      "Learning rate: 0.00083182123\n"
     ]
    },
    {
     "name": "stderr",
     "output_type": "stream",
     "text": [
      "100%|████████████████████████████████████████| 500/500 [00:02<00:00, 227.81it/s]\n"
     ]
    },
    {
     "name": "stdout",
     "output_type": "stream",
     "text": [
      "Generator Error Metric is 0.069851815700531\n",
      "Time for epoch 130 is 2.1970443725585938 sec\n",
      "Epoch: 131\n",
      "Learning rate: 0.00083063456\n"
     ]
    },
    {
     "name": "stderr",
     "output_type": "stream",
     "text": [
      "100%|████████████████████████████████████████| 500/500 [00:02<00:00, 229.14it/s]\n"
     ]
    },
    {
     "name": "stdout",
     "output_type": "stream",
     "text": [
      "Generator Error Metric is 0.06118538975715637\n",
      "Time for epoch 131 is 2.1843438148498535 sec\n",
      "Epoch: 132\n",
      "Learning rate: 0.0008294496\n"
     ]
    },
    {
     "name": "stderr",
     "output_type": "stream",
     "text": [
      "100%|████████████████████████████████████████| 500/500 [00:02<00:00, 217.61it/s]\n"
     ]
    },
    {
     "name": "stdout",
     "output_type": "stream",
     "text": [
      "Generator Error Metric is 0.06435741484165192\n",
      "Time for epoch 132 is 2.2997994422912598 sec\n",
      "Epoch: 133\n",
      "Learning rate: 0.0008282664\n"
     ]
    },
    {
     "name": "stderr",
     "output_type": "stream",
     "text": [
      "100%|████████████████████████████████████████| 500/500 [00:02<00:00, 227.82it/s]\n"
     ]
    },
    {
     "name": "stdout",
     "output_type": "stream",
     "text": [
      "Generator Error Metric is 0.06299080699682236\n",
      "Time for epoch 133 is 2.1965949535369873 sec\n",
      "Epoch: 134\n",
      "Learning rate: 0.00082708476\n"
     ]
    },
    {
     "name": "stderr",
     "output_type": "stream",
     "text": [
      "100%|████████████████████████████████████████| 500/500 [00:02<00:00, 227.10it/s]\n"
     ]
    },
    {
     "name": "stdout",
     "output_type": "stream",
     "text": [
      "Generator Error Metric is 0.06696730107069016\n",
      "Time for epoch 134 is 2.203545570373535 sec\n",
      "Epoch: 135\n",
      "Learning rate: 0.0008259049\n"
     ]
    },
    {
     "name": "stderr",
     "output_type": "stream",
     "text": [
      "100%|████████████████████████████████████████| 500/500 [00:02<00:00, 225.83it/s]\n"
     ]
    },
    {
     "name": "stdout",
     "output_type": "stream",
     "text": [
      "Generator Error Metric is 0.06571901589632034\n",
      "Time for epoch 135 is 2.215801477432251 sec\n",
      "Epoch: 136\n",
      "Learning rate: 0.00082472654\n"
     ]
    },
    {
     "name": "stderr",
     "output_type": "stream",
     "text": [
      "100%|████████████████████████████████████████| 500/500 [00:02<00:00, 227.41it/s]\n"
     ]
    },
    {
     "name": "stdout",
     "output_type": "stream",
     "text": [
      "Generator Error Metric is 0.0612109899520874\n",
      "Time for epoch 136 is 2.200254440307617 sec\n",
      "Epoch: 137\n",
      "Learning rate: 0.0008235501\n"
     ]
    },
    {
     "name": "stderr",
     "output_type": "stream",
     "text": [
      "100%|████████████████████████████████████████| 500/500 [00:02<00:00, 226.09it/s]\n"
     ]
    },
    {
     "name": "stdout",
     "output_type": "stream",
     "text": [
      "Generator Error Metric is 0.06148100644350052\n",
      "Time for epoch 137 is 2.213003158569336 sec\n",
      "Epoch: 138\n",
      "Learning rate: 0.00082237524\n"
     ]
    },
    {
     "name": "stderr",
     "output_type": "stream",
     "text": [
      "100%|████████████████████████████████████████| 500/500 [00:02<00:00, 227.82it/s]\n"
     ]
    },
    {
     "name": "stdout",
     "output_type": "stream",
     "text": [
      "Generator Error Metric is 0.06697026640176773\n",
      "Time for epoch 138 is 2.196171998977661 sec\n",
      "Epoch: 139\n",
      "Learning rate: 0.000821202\n"
     ]
    },
    {
     "name": "stderr",
     "output_type": "stream",
     "text": [
      "100%|████████████████████████████████████████| 500/500 [00:02<00:00, 199.59it/s]\n"
     ]
    },
    {
     "name": "stdout",
     "output_type": "stream",
     "text": [
      "Generator Error Metric is 0.06557697802782059\n",
      "Time for epoch 139 is 2.5066709518432617 sec\n",
      "Epoch: 140\n",
      "Learning rate: 0.0008200306\n"
     ]
    },
    {
     "name": "stderr",
     "output_type": "stream",
     "text": [
      "100%|████████████████████████████████████████| 500/500 [00:03<00:00, 166.41it/s]\n"
     ]
    },
    {
     "name": "stdout",
     "output_type": "stream",
     "text": [
      "Generator Error Metric is 0.06554671376943588\n",
      "Time for epoch 140 is 3.0065979957580566 sec\n",
      "Epoch: 141\n",
      "Learning rate: 0.0008188607\n"
     ]
    },
    {
     "name": "stderr",
     "output_type": "stream",
     "text": [
      "100%|████████████████████████████████████████| 500/500 [00:03<00:00, 165.94it/s]\n"
     ]
    },
    {
     "name": "stdout",
     "output_type": "stream",
     "text": [
      "Generator Error Metric is 0.06368070095777512\n",
      "Time for epoch 141 is 3.0148932933807373 sec\n",
      "Epoch: 142\n",
      "Learning rate: 0.0008176925\n"
     ]
    },
    {
     "name": "stderr",
     "output_type": "stream",
     "text": [
      "100%|████████████████████████████████████████| 500/500 [00:03<00:00, 166.40it/s]\n"
     ]
    },
    {
     "name": "stdout",
     "output_type": "stream",
     "text": [
      "Generator Error Metric is 0.06285931169986725\n",
      "Time for epoch 142 is 3.00669527053833 sec\n",
      "Epoch: 143\n",
      "Learning rate: 0.000816526\n"
     ]
    },
    {
     "name": "stderr",
     "output_type": "stream",
     "text": [
      "100%|████████████████████████████████████████| 500/500 [00:03<00:00, 166.54it/s]\n"
     ]
    },
    {
     "name": "stdout",
     "output_type": "stream",
     "text": [
      "Generator Error Metric is 0.05232476070523262\n",
      "Time for epoch 143 is 3.0044429302215576 sec\n",
      "Epoch: 144\n",
      "Learning rate: 0.0008153611\n"
     ]
    },
    {
     "name": "stderr",
     "output_type": "stream",
     "text": [
      "100%|████████████████████████████████████████| 500/500 [00:02<00:00, 179.55it/s]\n"
     ]
    },
    {
     "name": "stdout",
     "output_type": "stream",
     "text": [
      "Generator Error Metric is 0.027659822255373\n",
      "Time for epoch 144 is 2.786567449569702 sec\n",
      "Epoch: 145\n",
      "Learning rate: 0.00081419793\n"
     ]
    },
    {
     "name": "stderr",
     "output_type": "stream",
     "text": [
      "100%|████████████████████████████████████████| 500/500 [00:02<00:00, 226.90it/s]\n"
     ]
    },
    {
     "name": "stdout",
     "output_type": "stream",
     "text": [
      "Generator Error Metric is 0.03087168000638485\n",
      "Time for epoch 145 is 2.2050700187683105 sec\n",
      "Epoch: 146\n",
      "Learning rate: 0.00081303646\n"
     ]
    },
    {
     "name": "stderr",
     "output_type": "stream",
     "text": [
      "100%|████████████████████████████████████████| 500/500 [00:02<00:00, 226.95it/s]\n"
     ]
    },
    {
     "name": "stdout",
     "output_type": "stream",
     "text": [
      "Generator Error Metric is 0.03487890958786011\n",
      "Time for epoch 146 is 2.2046329975128174 sec\n",
      "Epoch: 147\n",
      "Learning rate: 0.0008118766\n"
     ]
    },
    {
     "name": "stderr",
     "output_type": "stream",
     "text": [
      "100%|████████████████████████████████████████| 500/500 [00:02<00:00, 226.83it/s]\n"
     ]
    },
    {
     "name": "stdout",
     "output_type": "stream",
     "text": [
      "Generator Error Metric is 0.03489693999290466\n",
      "Time for epoch 147 is 2.2058537006378174 sec\n",
      "Epoch: 148\n",
      "Learning rate: 0.0008107184\n"
     ]
    },
    {
     "name": "stderr",
     "output_type": "stream",
     "text": [
      "100%|████████████████████████████████████████| 500/500 [00:02<00:00, 207.27it/s]\n"
     ]
    },
    {
     "name": "stdout",
     "output_type": "stream",
     "text": [
      "Generator Error Metric is 0.03495101258158684\n",
      "Time for epoch 148 is 2.413938283920288 sec\n",
      "Epoch: 149\n",
      "Learning rate: 0.0008095618\n"
     ]
    },
    {
     "name": "stderr",
     "output_type": "stream",
     "text": [
      "100%|████████████████████████████████████████| 500/500 [00:02<00:00, 198.26it/s]\n"
     ]
    },
    {
     "name": "stdout",
     "output_type": "stream",
     "text": [
      "Generator Error Metric is 0.037073563784360886\n",
      "Time for epoch 149 is 2.5238587856292725 sec\n",
      "Epoch: 150\n",
      "Learning rate: 0.00080840685\n"
     ]
    },
    {
     "name": "stderr",
     "output_type": "stream",
     "text": [
      "100%|████████████████████████████████████████| 500/500 [00:02<00:00, 226.15it/s]\n"
     ]
    },
    {
     "name": "stdout",
     "output_type": "stream",
     "text": [
      "Generator Error Metric is 0.03784069046378136\n",
      "Time for epoch 150 is 2.2124600410461426 sec\n",
      "Epoch: 151\n",
      "Learning rate: 0.00080725364\n"
     ]
    },
    {
     "name": "stderr",
     "output_type": "stream",
     "text": [
      "100%|████████████████████████████████████████| 500/500 [00:02<00:00, 226.52it/s]\n"
     ]
    },
    {
     "name": "stdout",
     "output_type": "stream",
     "text": [
      "Generator Error Metric is 0.03703323379158974\n",
      "Time for epoch 151 is 2.208814859390259 sec\n",
      "Epoch: 152\n",
      "Learning rate: 0.000806102\n"
     ]
    },
    {
     "name": "stderr",
     "output_type": "stream",
     "text": [
      "100%|████████████████████████████████████████| 500/500 [00:02<00:00, 221.41it/s]\n"
     ]
    },
    {
     "name": "stdout",
     "output_type": "stream",
     "text": [
      "Generator Error Metric is 0.04573511704802513\n",
      "Time for epoch 152 is 2.2600820064544678 sec\n",
      "Epoch: 153\n",
      "Learning rate: 0.00080495205\n"
     ]
    },
    {
     "name": "stderr",
     "output_type": "stream",
     "text": [
      "100%|████████████████████████████████████████| 500/500 [00:02<00:00, 176.05it/s]\n"
     ]
    },
    {
     "name": "stdout",
     "output_type": "stream",
     "text": [
      "Generator Error Metric is 0.057237930595874786\n",
      "Time for epoch 153 is 2.8419957160949707 sec\n",
      "Epoch: 154\n",
      "Learning rate: 0.00080380373\n"
     ]
    },
    {
     "name": "stderr",
     "output_type": "stream",
     "text": [
      "100%|████████████████████████████████████████| 500/500 [00:02<00:00, 214.61it/s]\n"
     ]
    },
    {
     "name": "stdout",
     "output_type": "stream",
     "text": [
      "Generator Error Metric is 0.04816291481256485\n",
      "Time for epoch 154 is 2.3317158222198486 sec\n",
      "Epoch: 155\n",
      "Learning rate: 0.00080265704\n"
     ]
    },
    {
     "name": "stderr",
     "output_type": "stream",
     "text": [
      "100%|████████████████████████████████████████| 500/500 [00:02<00:00, 196.60it/s]\n"
     ]
    },
    {
     "name": "stdout",
     "output_type": "stream",
     "text": [
      "Generator Error Metric is 0.04883454740047455\n",
      "Time for epoch 155 is 2.5453407764434814 sec\n",
      "Epoch: 156\n",
      "Learning rate: 0.00080151204\n"
     ]
    },
    {
     "name": "stderr",
     "output_type": "stream",
     "text": [
      "100%|████████████████████████████████████████| 500/500 [00:02<00:00, 175.19it/s]\n"
     ]
    },
    {
     "name": "stdout",
     "output_type": "stream",
     "text": [
      "Generator Error Metric is 0.04760637506842613\n",
      "Time for epoch 156 is 2.8562374114990234 sec\n",
      "Epoch: 157\n",
      "Learning rate: 0.0008003686\n"
     ]
    },
    {
     "name": "stderr",
     "output_type": "stream",
     "text": [
      "100%|████████████████████████████████████████| 500/500 [00:02<00:00, 205.98it/s]\n"
     ]
    },
    {
     "name": "stdout",
     "output_type": "stream",
     "text": [
      "Generator Error Metric is 0.043887313455343246\n",
      "Time for epoch 157 is 2.4292125701904297 sec\n",
      "Epoch: 158\n",
      "Learning rate: 0.00079922675\n"
     ]
    },
    {
     "name": "stderr",
     "output_type": "stream",
     "text": [
      "100%|████████████████████████████████████████| 500/500 [00:02<00:00, 224.83it/s]\n"
     ]
    },
    {
     "name": "stdout",
     "output_type": "stream",
     "text": [
      "Generator Error Metric is 0.04601587355136871\n",
      "Time for epoch 158 is 2.225451946258545 sec\n",
      "Epoch: 159\n",
      "Learning rate: 0.0007980866\n"
     ]
    },
    {
     "name": "stderr",
     "output_type": "stream",
     "text": [
      "100%|████████████████████████████████████████| 500/500 [00:02<00:00, 224.55it/s]\n"
     ]
    },
    {
     "name": "stdout",
     "output_type": "stream",
     "text": [
      "Generator Error Metric is 0.03284093737602234\n",
      "Time for epoch 159 is 2.2283551692962646 sec\n",
      "Epoch: 160\n",
      "Learning rate: 0.00079694804\n"
     ]
    },
    {
     "name": "stderr",
     "output_type": "stream",
     "text": [
      "100%|████████████████████████████████████████| 500/500 [00:02<00:00, 224.58it/s]\n"
     ]
    },
    {
     "name": "stdout",
     "output_type": "stream",
     "text": [
      "Generator Error Metric is 0.028678255155682564\n",
      "Time for epoch 160 is 2.2281689643859863 sec\n",
      "Epoch: 161\n",
      "Learning rate: 0.0007958112\n"
     ]
    },
    {
     "name": "stderr",
     "output_type": "stream",
     "text": [
      "100%|████████████████████████████████████████| 500/500 [00:02<00:00, 221.57it/s]\n"
     ]
    },
    {
     "name": "stdout",
     "output_type": "stream",
     "text": [
      "Generator Error Metric is 0.035901620984077454\n",
      "Time for epoch 161 is 2.258100748062134 sec\n",
      "Epoch: 162\n",
      "Learning rate: 0.00079467584\n"
     ]
    },
    {
     "name": "stderr",
     "output_type": "stream",
     "text": [
      "100%|████████████████████████████████████████| 500/500 [00:02<00:00, 224.64it/s]\n"
     ]
    },
    {
     "name": "stdout",
     "output_type": "stream",
     "text": [
      "Generator Error Metric is 0.0373074896633625\n",
      "Time for epoch 162 is 2.227198600769043 sec\n",
      "Epoch: 163\n",
      "Learning rate: 0.0007935422\n"
     ]
    },
    {
     "name": "stderr",
     "output_type": "stream",
     "text": [
      "100%|████████████████████████████████████████| 500/500 [00:02<00:00, 225.04it/s]\n"
     ]
    },
    {
     "name": "stdout",
     "output_type": "stream",
     "text": [
      "Generator Error Metric is 0.04526728764176369\n",
      "Time for epoch 163 is 2.223656177520752 sec\n",
      "Epoch: 164\n",
      "Learning rate: 0.00079241017\n"
     ]
    },
    {
     "name": "stderr",
     "output_type": "stream",
     "text": [
      "100%|████████████████████████████████████████| 500/500 [00:02<00:00, 224.50it/s]\n"
     ]
    },
    {
     "name": "stdout",
     "output_type": "stream",
     "text": [
      "Generator Error Metric is 0.04769304022192955\n",
      "Time for epoch 164 is 2.229053497314453 sec\n",
      "Epoch: 165\n",
      "Learning rate: 0.00079127966\n"
     ]
    },
    {
     "name": "stderr",
     "output_type": "stream",
     "text": [
      "100%|████████████████████████████████████████| 500/500 [00:02<00:00, 223.59it/s]\n"
     ]
    },
    {
     "name": "stdout",
     "output_type": "stream",
     "text": [
      "Generator Error Metric is 0.038629937916994095\n",
      "Time for epoch 165 is 2.2377700805664062 sec\n",
      "Epoch: 166\n",
      "Learning rate: 0.00079015084\n"
     ]
    },
    {
     "name": "stderr",
     "output_type": "stream",
     "text": [
      "100%|████████████████████████████████████████| 500/500 [00:02<00:00, 179.89it/s]\n"
     ]
    },
    {
     "name": "stdout",
     "output_type": "stream",
     "text": [
      "Generator Error Metric is 0.04376782476902008\n",
      "Time for epoch 166 is 2.7809228897094727 sec\n",
      "Epoch: 167\n",
      "Learning rate: 0.0007890236\n"
     ]
    },
    {
     "name": "stderr",
     "output_type": "stream",
     "text": [
      "100%|████████████████████████████████████████| 500/500 [00:03<00:00, 165.91it/s]\n"
     ]
    },
    {
     "name": "stdout",
     "output_type": "stream",
     "text": [
      "Generator Error Metric is 0.05673913657665253\n",
      "Time for epoch 167 is 3.0156819820404053 sec\n",
      "Epoch: 168\n",
      "Learning rate: 0.000787898\n"
     ]
    },
    {
     "name": "stderr",
     "output_type": "stream",
     "text": [
      "100%|████████████████████████████████████████| 500/500 [00:03<00:00, 164.86it/s]\n"
     ]
    },
    {
     "name": "stdout",
     "output_type": "stream",
     "text": [
      "Generator Error Metric is 0.059662654995918274\n",
      "Time for epoch 168 is 3.034743070602417 sec\n",
      "Epoch: 169\n",
      "Learning rate: 0.00078677404\n"
     ]
    },
    {
     "name": "stderr",
     "output_type": "stream",
     "text": [
      "100%|████████████████████████████████████████| 500/500 [00:03<00:00, 165.49it/s]\n"
     ]
    },
    {
     "name": "stdout",
     "output_type": "stream",
     "text": [
      "Generator Error Metric is 0.04775979369878769\n",
      "Time for epoch 169 is 3.0229387283325195 sec\n",
      "Epoch: 170\n",
      "Learning rate: 0.0007856517\n"
     ]
    },
    {
     "name": "stderr",
     "output_type": "stream",
     "text": [
      "100%|████████████████████████████████████████| 500/500 [00:03<00:00, 166.14it/s]\n"
     ]
    },
    {
     "name": "stdout",
     "output_type": "stream",
     "text": [
      "Generator Error Metric is 0.04814169555902481\n",
      "Time for epoch 170 is 3.0111892223358154 sec\n",
      "Epoch: 171\n",
      "Learning rate: 0.00078453077\n"
     ]
    },
    {
     "name": "stderr",
     "output_type": "stream",
     "text": [
      "100%|████████████████████████████████████████| 500/500 [00:02<00:00, 166.68it/s]\n"
     ]
    },
    {
     "name": "stdout",
     "output_type": "stream",
     "text": [
      "Generator Error Metric is 0.053768787533044815\n",
      "Time for epoch 171 is 3.0017340183258057 sec\n",
      "Epoch: 172\n",
      "Learning rate: 0.0007834116\n"
     ]
    },
    {
     "name": "stderr",
     "output_type": "stream",
     "text": [
      "100%|████████████████████████████████████████| 500/500 [00:03<00:00, 166.47it/s]\n"
     ]
    },
    {
     "name": "stdout",
     "output_type": "stream",
     "text": [
      "Generator Error Metric is 0.042739737778902054\n",
      "Time for epoch 172 is 3.0053114891052246 sec\n",
      "Epoch: 173\n",
      "Learning rate: 0.000782294\n"
     ]
    },
    {
     "name": "stderr",
     "output_type": "stream",
     "text": [
      "100%|████████████████████████████████████████| 500/500 [00:03<00:00, 165.16it/s]\n"
     ]
    },
    {
     "name": "stdout",
     "output_type": "stream",
     "text": [
      "Generator Error Metric is 0.0351090133190155\n",
      "Time for epoch 173 is 3.0293164253234863 sec\n",
      "Epoch: 174\n",
      "Learning rate: 0.00078117795\n"
     ]
    },
    {
     "name": "stderr",
     "output_type": "stream",
     "text": [
      "100%|████████████████████████████████████████| 500/500 [00:02<00:00, 184.22it/s]\n"
     ]
    },
    {
     "name": "stdout",
     "output_type": "stream",
     "text": [
      "Generator Error Metric is 0.04046709090471268\n",
      "Time for epoch 174 is 2.715710163116455 sec\n",
      "Epoch: 175\n",
      "Learning rate: 0.0007800636\n"
     ]
    },
    {
     "name": "stderr",
     "output_type": "stream",
     "text": [
      "100%|████████████████████████████████████████| 500/500 [00:02<00:00, 168.51it/s]\n"
     ]
    },
    {
     "name": "stdout",
     "output_type": "stream",
     "text": [
      "Generator Error Metric is 0.03440076857805252\n",
      "Time for epoch 175 is 2.968930721282959 sec\n",
      "Epoch: 176\n",
      "Learning rate: 0.0007789508\n"
     ]
    },
    {
     "name": "stderr",
     "output_type": "stream",
     "text": [
      "100%|████████████████████████████████████████| 500/500 [00:03<00:00, 157.68it/s]\n"
     ]
    },
    {
     "name": "stdout",
     "output_type": "stream",
     "text": [
      "Generator Error Metric is 0.0359344519674778\n",
      "Time for epoch 176 is 3.1732351779937744 sec\n",
      "Epoch: 177\n",
      "Learning rate: 0.00077783957\n"
     ]
    },
    {
     "name": "stderr",
     "output_type": "stream",
     "text": [
      "100%|████████████████████████████████████████| 500/500 [00:02<00:00, 212.12it/s]\n"
     ]
    },
    {
     "name": "stdout",
     "output_type": "stream",
     "text": [
      "Generator Error Metric is 0.03447902202606201\n",
      "Time for epoch 177 is 2.3592422008514404 sec\n",
      "Epoch: 178\n",
      "Learning rate: 0.0007767299\n"
     ]
    },
    {
     "name": "stderr",
     "output_type": "stream",
     "text": [
      "100%|████████████████████████████████████████| 500/500 [00:02<00:00, 218.11it/s]\n"
     ]
    },
    {
     "name": "stdout",
     "output_type": "stream",
     "text": [
      "Generator Error Metric is 0.04783167317509651\n",
      "Time for epoch 178 is 2.294248580932617 sec\n",
      "Epoch: 179\n",
      "Learning rate: 0.0007756218\n"
     ]
    },
    {
     "name": "stderr",
     "output_type": "stream",
     "text": [
      "100%|████████████████████████████████████████| 500/500 [00:02<00:00, 220.76it/s]\n"
     ]
    },
    {
     "name": "stdout",
     "output_type": "stream",
     "text": [
      "Generator Error Metric is 0.04431980103254318\n",
      "Time for epoch 179 is 2.2668726444244385 sec\n",
      "Epoch: 180\n",
      "Learning rate: 0.0007745153\n"
     ]
    },
    {
     "name": "stderr",
     "output_type": "stream",
     "text": [
      "100%|████████████████████████████████████████| 500/500 [00:02<00:00, 222.31it/s]\n"
     ]
    },
    {
     "name": "stdout",
     "output_type": "stream",
     "text": [
      "Generator Error Metric is 0.04662460833787918\n",
      "Time for epoch 180 is 2.251176118850708 sec\n",
      "Epoch: 181\n",
      "Learning rate: 0.00077341043\n"
     ]
    },
    {
     "name": "stderr",
     "output_type": "stream",
     "text": [
      "100%|████████████████████████████████████████| 500/500 [00:02<00:00, 168.10it/s]\n"
     ]
    },
    {
     "name": "stdout",
     "output_type": "stream",
     "text": [
      "Generator Error Metric is 0.05136362835764885\n",
      "Time for epoch 181 is 2.9764761924743652 sec\n",
      "Epoch: 182\n",
      "Learning rate: 0.0007723071\n"
     ]
    },
    {
     "name": "stderr",
     "output_type": "stream",
     "text": [
      "100%|████████████████████████████████████████| 500/500 [00:03<00:00, 163.10it/s]\n"
     ]
    },
    {
     "name": "stdout",
     "output_type": "stream",
     "text": [
      "Generator Error Metric is 0.04279673099517822\n",
      "Time for epoch 182 is 3.067924737930298 sec\n",
      "Epoch: 183\n",
      "Learning rate: 0.00077120535\n"
     ]
    },
    {
     "name": "stderr",
     "output_type": "stream",
     "text": [
      "100%|████████████████████████████████████████| 500/500 [00:03<00:00, 164.78it/s]\n"
     ]
    },
    {
     "name": "stdout",
     "output_type": "stream",
     "text": [
      "Generator Error Metric is 0.03853653371334076\n",
      "Time for epoch 183 is 3.036639928817749 sec\n",
      "Epoch: 184\n",
      "Learning rate: 0.00077010517\n"
     ]
    },
    {
     "name": "stderr",
     "output_type": "stream",
     "text": [
      "100%|████████████████████████████████████████| 500/500 [00:03<00:00, 166.47it/s]\n"
     ]
    },
    {
     "name": "stdout",
     "output_type": "stream",
     "text": [
      "Generator Error Metric is 0.04125858470797539\n",
      "Time for epoch 184 is 3.0062761306762695 sec\n",
      "Epoch: 185\n",
      "Learning rate: 0.00076900655\n"
     ]
    },
    {
     "name": "stderr",
     "output_type": "stream",
     "text": [
      "100%|████████████████████████████████████████| 500/500 [00:03<00:00, 163.10it/s]\n"
     ]
    },
    {
     "name": "stdout",
     "output_type": "stream",
     "text": [
      "Generator Error Metric is 0.03797514736652374\n",
      "Time for epoch 185 is 3.0680882930755615 sec\n",
      "Epoch: 186\n",
      "Learning rate: 0.0007679095\n"
     ]
    },
    {
     "name": "stderr",
     "output_type": "stream",
     "text": [
      "100%|████████████████████████████████████████| 500/500 [00:02<00:00, 203.18it/s]\n"
     ]
    },
    {
     "name": "stdout",
     "output_type": "stream",
     "text": [
      "Generator Error Metric is 0.033444952219724655\n",
      "Time for epoch 186 is 2.4631030559539795 sec\n",
      "Epoch: 187\n",
      "Learning rate: 0.00076681405\n"
     ]
    },
    {
     "name": "stderr",
     "output_type": "stream",
     "text": [
      "100%|████████████████████████████████████████| 500/500 [00:02<00:00, 219.36it/s]\n"
     ]
    },
    {
     "name": "stdout",
     "output_type": "stream",
     "text": [
      "Generator Error Metric is 0.05075261741876602\n",
      "Time for epoch 187 is 2.2812087535858154 sec\n",
      "Epoch: 188\n",
      "Learning rate: 0.00076572003\n"
     ]
    },
    {
     "name": "stderr",
     "output_type": "stream",
     "text": [
      "100%|████████████████████████████████████████| 500/500 [00:02<00:00, 218.33it/s]\n"
     ]
    },
    {
     "name": "stdout",
     "output_type": "stream",
     "text": [
      "Generator Error Metric is 0.048008717596530914\n",
      "Time for epoch 188 is 2.292189359664917 sec\n",
      "Epoch: 189\n",
      "Learning rate: 0.00076462765\n"
     ]
    },
    {
     "name": "stderr",
     "output_type": "stream",
     "text": [
      "100%|████████████████████████████████████████| 500/500 [00:02<00:00, 221.28it/s]\n"
     ]
    },
    {
     "name": "stdout",
     "output_type": "stream",
     "text": [
      "Generator Error Metric is 0.06185049191117287\n",
      "Time for epoch 189 is 2.2616090774536133 sec\n",
      "Epoch: 190\n",
      "Learning rate: 0.00076353684\n"
     ]
    },
    {
     "name": "stderr",
     "output_type": "stream",
     "text": [
      "100%|████████████████████████████████████████| 500/500 [00:02<00:00, 223.14it/s]\n"
     ]
    },
    {
     "name": "stdout",
     "output_type": "stream",
     "text": [
      "Generator Error Metric is 0.035341329872608185\n",
      "Time for epoch 190 is 2.24273681640625 sec\n",
      "Epoch: 191\n",
      "Learning rate: 0.00076244766\n"
     ]
    },
    {
     "name": "stderr",
     "output_type": "stream",
     "text": [
      "100%|████████████████████████████████████████| 500/500 [00:02<00:00, 224.94it/s]\n"
     ]
    },
    {
     "name": "stdout",
     "output_type": "stream",
     "text": [
      "Generator Error Metric is 0.032521624118089676\n",
      "Time for epoch 191 is 2.2245936393737793 sec\n",
      "Epoch: 192\n",
      "Learning rate: 0.00076136\n"
     ]
    },
    {
     "name": "stderr",
     "output_type": "stream",
     "text": [
      "100%|████████████████████████████████████████| 500/500 [00:02<00:00, 224.48it/s]\n"
     ]
    },
    {
     "name": "stdout",
     "output_type": "stream",
     "text": [
      "Generator Error Metric is 0.031570564955472946\n",
      "Time for epoch 192 is 2.229522466659546 sec\n",
      "Epoch: 193\n",
      "Learning rate: 0.0007602738\n"
     ]
    },
    {
     "name": "stderr",
     "output_type": "stream",
     "text": [
      "100%|████████████████████████████████████████| 500/500 [00:02<00:00, 225.09it/s]\n"
     ]
    },
    {
     "name": "stdout",
     "output_type": "stream",
     "text": [
      "Generator Error Metric is 0.032980021089315414\n",
      "Time for epoch 193 is 2.2231950759887695 sec\n",
      "Epoch: 194\n",
      "Learning rate: 0.00075918925\n"
     ]
    },
    {
     "name": "stderr",
     "output_type": "stream",
     "text": [
      "100%|████████████████████████████████████████| 500/500 [00:02<00:00, 220.57it/s]\n"
     ]
    },
    {
     "name": "stdout",
     "output_type": "stream",
     "text": [
      "Generator Error Metric is 0.03441571444272995\n",
      "Time for epoch 194 is 2.2690529823303223 sec\n",
      "Epoch: 195\n",
      "Learning rate: 0.00075810606\n"
     ]
    },
    {
     "name": "stderr",
     "output_type": "stream",
     "text": [
      "100%|████████████████████████████████████████| 500/500 [00:02<00:00, 225.84it/s]\n"
     ]
    },
    {
     "name": "stdout",
     "output_type": "stream",
     "text": [
      "Generator Error Metric is 0.02514011785387993\n",
      "Time for epoch 195 is 2.2159082889556885 sec\n",
      "Epoch: 196\n",
      "Learning rate: 0.0007570246\n"
     ]
    },
    {
     "name": "stderr",
     "output_type": "stream",
     "text": [
      "100%|████████████████████████████████████████| 500/500 [00:02<00:00, 222.28it/s]\n"
     ]
    },
    {
     "name": "stdout",
     "output_type": "stream",
     "text": [
      "Generator Error Metric is 0.028134513646364212\n",
      "Time for epoch 196 is 2.2512378692626953 sec\n",
      "Epoch: 197\n",
      "Learning rate: 0.0007559447\n"
     ]
    },
    {
     "name": "stderr",
     "output_type": "stream",
     "text": [
      "100%|████████████████████████████████████████| 500/500 [00:02<00:00, 217.91it/s]\n"
     ]
    },
    {
     "name": "stdout",
     "output_type": "stream",
     "text": [
      "Generator Error Metric is 0.033460166305303574\n",
      "Time for epoch 197 is 2.29620623588562 sec\n",
      "Epoch: 198\n",
      "Learning rate: 0.0007548663\n"
     ]
    },
    {
     "name": "stderr",
     "output_type": "stream",
     "text": [
      "100%|████████████████████████████████████████| 500/500 [00:02<00:00, 178.09it/s]\n"
     ]
    },
    {
     "name": "stdout",
     "output_type": "stream",
     "text": [
      "Generator Error Metric is 0.034541141241788864\n",
      "Time for epoch 198 is 2.809407949447632 sec\n",
      "Epoch: 199\n",
      "Learning rate: 0.0007537894\n"
     ]
    },
    {
     "name": "stderr",
     "output_type": "stream",
     "text": [
      "100%|████████████████████████████████████████| 500/500 [00:02<00:00, 211.24it/s]\n"
     ]
    },
    {
     "name": "stdout",
     "output_type": "stream",
     "text": [
      "Generator Error Metric is 0.04383312165737152\n",
      "Time for epoch 199 is 2.3688886165618896 sec\n",
      "Epoch: 200\n",
      "Learning rate: 0.000752714\n"
     ]
    },
    {
     "name": "stderr",
     "output_type": "stream",
     "text": [
      "100%|████████████████████████████████████████| 500/500 [00:02<00:00, 223.20it/s]\n"
     ]
    },
    {
     "name": "stdout",
     "output_type": "stream",
     "text": [
      "Generator Error Metric is 0.06396108865737915\n",
      "Time for epoch 200 is 2.2417120933532715 sec\n",
      "Epoch: 201\n",
      "Learning rate: 0.0007516402\n"
     ]
    },
    {
     "name": "stderr",
     "output_type": "stream",
     "text": [
      "100%|████████████████████████████████████████| 500/500 [00:02<00:00, 223.54it/s]\n"
     ]
    },
    {
     "name": "stdout",
     "output_type": "stream",
     "text": [
      "Generator Error Metric is 0.06755546480417252\n",
      "Time for epoch 201 is 2.2386910915374756 sec\n",
      "Epoch: 202\n",
      "Learning rate: 0.00075056794\n"
     ]
    },
    {
     "name": "stderr",
     "output_type": "stream",
     "text": [
      "100%|████████████████████████████████████████| 500/500 [00:02<00:00, 223.79it/s]\n"
     ]
    },
    {
     "name": "stdout",
     "output_type": "stream",
     "text": [
      "Generator Error Metric is 0.06477010995149612\n",
      "Time for epoch 202 is 2.2361984252929688 sec\n",
      "Epoch: 203\n",
      "Learning rate: 0.0007494972\n"
     ]
    },
    {
     "name": "stderr",
     "output_type": "stream",
     "text": [
      "100%|████████████████████████████████████████| 500/500 [00:02<00:00, 223.60it/s]\n"
     ]
    },
    {
     "name": "stdout",
     "output_type": "stream",
     "text": [
      "Generator Error Metric is 0.0562431737780571\n",
      "Time for epoch 203 is 2.2378199100494385 sec\n",
      "Epoch: 204\n",
      "Learning rate: 0.00074842793\n"
     ]
    },
    {
     "name": "stderr",
     "output_type": "stream",
     "text": [
      "100%|████████████████████████████████████████| 500/500 [00:02<00:00, 226.22it/s]\n"
     ]
    },
    {
     "name": "stdout",
     "output_type": "stream",
     "text": [
      "Generator Error Metric is 0.05102184787392616\n",
      "Time for epoch 204 is 2.2117528915405273 sec\n",
      "Epoch: 205\n",
      "Learning rate: 0.0007473603\n"
     ]
    },
    {
     "name": "stderr",
     "output_type": "stream",
     "text": [
      "100%|████████████████████████████████████████| 500/500 [00:02<00:00, 217.31it/s]\n"
     ]
    },
    {
     "name": "stdout",
     "output_type": "stream",
     "text": [
      "Generator Error Metric is 0.06278536468744278\n",
      "Time for epoch 205 is 2.302324056625366 sec\n",
      "Epoch: 206\n",
      "Learning rate: 0.0007462941\n"
     ]
    },
    {
     "name": "stderr",
     "output_type": "stream",
     "text": [
      "100%|████████████████████████████████████████| 500/500 [00:02<00:00, 224.23it/s]\n"
     ]
    },
    {
     "name": "stdout",
     "output_type": "stream",
     "text": [
      "Generator Error Metric is 0.0640505775809288\n",
      "Time for epoch 206 is 2.231340169906616 sec\n",
      "Epoch: 207\n",
      "Learning rate: 0.0007452295\n"
     ]
    },
    {
     "name": "stderr",
     "output_type": "stream",
     "text": [
      "100%|████████████████████████████████████████| 500/500 [00:02<00:00, 225.79it/s]\n"
     ]
    },
    {
     "name": "stdout",
     "output_type": "stream",
     "text": [
      "Generator Error Metric is 0.06788786500692368\n",
      "Time for epoch 207 is 2.2161290645599365 sec\n",
      "Epoch: 208\n",
      "Learning rate: 0.0007441664\n"
     ]
    },
    {
     "name": "stderr",
     "output_type": "stream",
     "text": [
      "100%|████████████████████████████████████████| 500/500 [00:02<00:00, 225.65it/s]\n"
     ]
    },
    {
     "name": "stdout",
     "output_type": "stream",
     "text": [
      "Generator Error Metric is 0.06580960005521774\n",
      "Time for epoch 208 is 2.2175045013427734 sec\n",
      "Epoch: 209\n",
      "Learning rate: 0.00074310467\n"
     ]
    },
    {
     "name": "stderr",
     "output_type": "stream",
     "text": [
      "100%|████████████████████████████████████████| 500/500 [00:02<00:00, 226.33it/s]\n"
     ]
    },
    {
     "name": "stdout",
     "output_type": "stream",
     "text": [
      "Generator Error Metric is 0.06556659936904907\n",
      "Time for epoch 209 is 2.2109415531158447 sec\n",
      "Epoch: 210\n",
      "Learning rate: 0.0007420446\n"
     ]
    },
    {
     "name": "stderr",
     "output_type": "stream",
     "text": [
      "100%|████████████████████████████████████████| 500/500 [00:02<00:00, 224.00it/s]\n"
     ]
    },
    {
     "name": "stdout",
     "output_type": "stream",
     "text": [
      "Generator Error Metric is 0.06373114138841629\n",
      "Time for epoch 210 is 2.2338192462921143 sec\n",
      "Epoch: 211\n",
      "Learning rate: 0.000740986\n"
     ]
    },
    {
     "name": "stderr",
     "output_type": "stream",
     "text": [
      "100%|████████████████████████████████████████| 500/500 [00:02<00:00, 225.54it/s]\n"
     ]
    },
    {
     "name": "stdout",
     "output_type": "stream",
     "text": [
      "Generator Error Metric is 0.06121145561337471\n",
      "Time for epoch 211 is 2.218458414077759 sec\n",
      "Epoch: 212\n",
      "Learning rate: 0.0007399289\n"
     ]
    },
    {
     "name": "stderr",
     "output_type": "stream",
     "text": [
      "100%|████████████████████████████████████████| 500/500 [00:02<00:00, 226.93it/s]\n"
     ]
    },
    {
     "name": "stdout",
     "output_type": "stream",
     "text": [
      "Generator Error Metric is 0.06680372357368469\n",
      "Time for epoch 212 is 2.2049005031585693 sec\n",
      "Epoch: 213\n",
      "Learning rate: 0.0007388734\n"
     ]
    },
    {
     "name": "stderr",
     "output_type": "stream",
     "text": [
      "100%|████████████████████████████████████████| 500/500 [00:02<00:00, 226.71it/s]\n"
     ]
    },
    {
     "name": "stdout",
     "output_type": "stream",
     "text": [
      "Generator Error Metric is 0.060151416808366776\n",
      "Time for epoch 213 is 2.2070412635803223 sec\n",
      "Epoch: 214\n",
      "Learning rate: 0.00073781935\n"
     ]
    },
    {
     "name": "stderr",
     "output_type": "stream",
     "text": [
      "100%|████████████████████████████████████████| 500/500 [00:02<00:00, 173.25it/s]\n"
     ]
    },
    {
     "name": "stdout",
     "output_type": "stream",
     "text": [
      "Generator Error Metric is 0.06707222759723663\n",
      "Time for epoch 214 is 2.887784242630005 sec\n",
      "Epoch: 215\n",
      "Learning rate: 0.0007367667\n"
     ]
    },
    {
     "name": "stderr",
     "output_type": "stream",
     "text": [
      "100%|████████████████████████████████████████| 500/500 [00:03<00:00, 166.52it/s]\n"
     ]
    },
    {
     "name": "stdout",
     "output_type": "stream",
     "text": [
      "Generator Error Metric is 0.06486543267965317\n",
      "Time for epoch 215 is 3.0043652057647705 sec\n",
      "Epoch: 216\n",
      "Learning rate: 0.0007357157\n"
     ]
    },
    {
     "name": "stderr",
     "output_type": "stream",
     "text": [
      "100%|████████████████████████████████████████| 500/500 [00:03<00:00, 166.61it/s]\n"
     ]
    },
    {
     "name": "stdout",
     "output_type": "stream",
     "text": [
      "Generator Error Metric is 0.06368367373943329\n",
      "Time for epoch 216 is 3.0030465126037598 sec\n",
      "Epoch: 217\n",
      "Learning rate: 0.00073466613\n"
     ]
    },
    {
     "name": "stderr",
     "output_type": "stream",
     "text": [
      "100%|████████████████████████████████████████| 500/500 [00:03<00:00, 166.57it/s]\n"
     ]
    },
    {
     "name": "stdout",
     "output_type": "stream",
     "text": [
      "Generator Error Metric is 0.06417006254196167\n",
      "Time for epoch 217 is 3.003687858581543 sec\n",
      "Epoch: 218\n",
      "Learning rate: 0.00073361804\n"
     ]
    },
    {
     "name": "stderr",
     "output_type": "stream",
     "text": [
      "100%|████████████████████████████████████████| 500/500 [00:03<00:00, 166.27it/s]\n"
     ]
    },
    {
     "name": "stdout",
     "output_type": "stream",
     "text": [
      "Generator Error Metric is 0.06242701783776283\n",
      "Time for epoch 218 is 3.0092945098876953 sec\n",
      "Epoch: 219\n",
      "Learning rate: 0.0007325715\n"
     ]
    },
    {
     "name": "stderr",
     "output_type": "stream",
     "text": [
      "100%|████████████████████████████████████████| 500/500 [00:03<00:00, 161.85it/s]\n"
     ]
    },
    {
     "name": "stdout",
     "output_type": "stream",
     "text": [
      "Generator Error Metric is 0.056563351303339005\n",
      "Time for epoch 219 is 3.091167449951172 sec\n",
      "Epoch: 220\n",
      "Learning rate: 0.0007315264\n"
     ]
    },
    {
     "name": "stderr",
     "output_type": "stream",
     "text": [
      "100%|████████████████████████████████████████| 500/500 [00:03<00:00, 163.47it/s]\n"
     ]
    },
    {
     "name": "stdout",
     "output_type": "stream",
     "text": [
      "Generator Error Metric is 0.04410281404852867\n",
      "Time for epoch 220 is 3.060941457748413 sec\n",
      "Epoch: 221\n",
      "Learning rate: 0.0007304828\n"
     ]
    },
    {
     "name": "stderr",
     "output_type": "stream",
     "text": [
      "100%|████████████████████████████████████████| 500/500 [00:03<00:00, 160.92it/s]\n"
     ]
    },
    {
     "name": "stdout",
     "output_type": "stream",
     "text": [
      "Generator Error Metric is 0.03554699942469597\n",
      "Time for epoch 221 is 3.109278917312622 sec\n",
      "Epoch: 222\n",
      "Learning rate: 0.00072944077\n"
     ]
    },
    {
     "name": "stderr",
     "output_type": "stream",
     "text": [
      "100%|████████████████████████████████████████| 500/500 [00:03<00:00, 160.22it/s]\n"
     ]
    },
    {
     "name": "stdout",
     "output_type": "stream",
     "text": [
      "Generator Error Metric is 0.034142252057790756\n",
      "Time for epoch 222 is 3.122788906097412 sec\n",
      "Epoch: 223\n",
      "Learning rate: 0.0007284001\n"
     ]
    },
    {
     "name": "stderr",
     "output_type": "stream",
     "text": [
      "100%|████████████████████████████████████████| 500/500 [00:02<00:00, 211.39it/s]\n"
     ]
    },
    {
     "name": "stdout",
     "output_type": "stream",
     "text": [
      "Generator Error Metric is 0.03701714426279068\n",
      "Time for epoch 223 is 2.367482900619507 sec\n",
      "Epoch: 224\n",
      "Learning rate: 0.000727361\n"
     ]
    },
    {
     "name": "stderr",
     "output_type": "stream",
     "text": [
      "100%|████████████████████████████████████████| 500/500 [00:02<00:00, 213.98it/s]\n"
     ]
    },
    {
     "name": "stdout",
     "output_type": "stream",
     "text": [
      "Generator Error Metric is 0.04196726903319359\n",
      "Time for epoch 224 is 2.338762044906616 sec\n",
      "Epoch: 225\n",
      "Learning rate: 0.00072632334\n"
     ]
    },
    {
     "name": "stderr",
     "output_type": "stream",
     "text": [
      "100%|████████████████████████████████████████| 500/500 [00:02<00:00, 218.88it/s]\n"
     ]
    },
    {
     "name": "stdout",
     "output_type": "stream",
     "text": [
      "Generator Error Metric is 0.04080028459429741\n",
      "Time for epoch 225 is 2.287043571472168 sec\n",
      "Epoch: 226\n",
      "Learning rate: 0.00072528725\n"
     ]
    },
    {
     "name": "stderr",
     "output_type": "stream",
     "text": [
      "100%|████████████████████████████████████████| 500/500 [00:03<00:00, 161.27it/s]\n"
     ]
    },
    {
     "name": "stdout",
     "output_type": "stream",
     "text": [
      "Generator Error Metric is 0.04327351227402687\n",
      "Time for epoch 226 is 3.1021265983581543 sec\n",
      "Epoch: 227\n",
      "Learning rate: 0.00072425255\n"
     ]
    },
    {
     "name": "stderr",
     "output_type": "stream",
     "text": [
      "100%|████████████████████████████████████████| 500/500 [00:03<00:00, 166.39it/s]\n"
     ]
    },
    {
     "name": "stdout",
     "output_type": "stream",
     "text": [
      "Generator Error Metric is 0.03416042774915695\n",
      "Time for epoch 227 is 3.0068438053131104 sec\n",
      "Epoch: 228\n",
      "Learning rate: 0.00072321936\n"
     ]
    },
    {
     "name": "stderr",
     "output_type": "stream",
     "text": [
      "100%|████████████████████████████████████████| 500/500 [00:03<00:00, 165.40it/s]\n"
     ]
    },
    {
     "name": "stdout",
     "output_type": "stream",
     "text": [
      "Generator Error Metric is 0.0340597927570343\n",
      "Time for epoch 228 is 3.0250003337860107 sec\n",
      "Epoch: 229\n",
      "Learning rate: 0.00072218763\n"
     ]
    },
    {
     "name": "stderr",
     "output_type": "stream",
     "text": [
      "100%|████████████████████████████████████████| 500/500 [00:03<00:00, 166.06it/s]\n"
     ]
    },
    {
     "name": "stdout",
     "output_type": "stream",
     "text": [
      "Generator Error Metric is 0.03842131420969963\n",
      "Time for epoch 229 is 3.013235092163086 sec\n",
      "Epoch: 230\n",
      "Learning rate: 0.00072115735\n"
     ]
    },
    {
     "name": "stderr",
     "output_type": "stream",
     "text": [
      "100%|████████████████████████████████████████| 500/500 [00:03<00:00, 165.94it/s]\n"
     ]
    },
    {
     "name": "stdout",
     "output_type": "stream",
     "text": [
      "Generator Error Metric is 0.04002824425697327\n",
      "Time for epoch 230 is 3.0154337882995605 sec\n",
      "Epoch: 231\n",
      "Learning rate: 0.00072012853\n"
     ]
    },
    {
     "name": "stderr",
     "output_type": "stream",
     "text": [
      "100%|████████████████████████████████████████| 500/500 [00:03<00:00, 165.35it/s]\n"
     ]
    },
    {
     "name": "stdout",
     "output_type": "stream",
     "text": [
      "Generator Error Metric is 0.03781503438949585\n",
      "Time for epoch 231 is 3.026200771331787 sec\n",
      "Epoch: 232\n",
      "Learning rate: 0.0007191012\n"
     ]
    },
    {
     "name": "stderr",
     "output_type": "stream",
     "text": [
      "100%|████████████████████████████████████████| 500/500 [00:03<00:00, 165.17it/s]\n"
     ]
    },
    {
     "name": "stdout",
     "output_type": "stream",
     "text": [
      "Generator Error Metric is 0.039791569113731384\n",
      "Time for epoch 232 is 3.029616355895996 sec\n",
      "Epoch: 233\n",
      "Learning rate: 0.0007180754\n"
     ]
    },
    {
     "name": "stderr",
     "output_type": "stream",
     "text": [
      "100%|████████████████████████████████████████| 500/500 [00:03<00:00, 166.16it/s]\n"
     ]
    },
    {
     "name": "stdout",
     "output_type": "stream",
     "text": [
      "Generator Error Metric is 0.033910274505615234\n",
      "Time for epoch 233 is 3.01153826713562 sec\n",
      "Epoch: 234\n",
      "Learning rate: 0.000717051\n"
     ]
    },
    {
     "name": "stderr",
     "output_type": "stream",
     "text": [
      "100%|████████████████████████████████████████| 500/500 [00:03<00:00, 165.65it/s]\n"
     ]
    },
    {
     "name": "stdout",
     "output_type": "stream",
     "text": [
      "Generator Error Metric is 0.023763705044984818\n",
      "Time for epoch 234 is 3.02095890045166 sec\n",
      "Epoch: 235\n",
      "Learning rate: 0.0007160281\n"
     ]
    },
    {
     "name": "stderr",
     "output_type": "stream",
     "text": [
      "100%|████████████████████████████████████████| 500/500 [00:03<00:00, 165.53it/s]\n"
     ]
    },
    {
     "name": "stdout",
     "output_type": "stream",
     "text": [
      "Generator Error Metric is 0.024795394390821457\n",
      "Time for epoch 235 is 3.022780179977417 sec\n",
      "Epoch: 236\n",
      "Learning rate: 0.00071500655\n"
     ]
    },
    {
     "name": "stderr",
     "output_type": "stream",
     "text": [
      "100%|████████████████████████████████████████| 500/500 [00:02<00:00, 211.02it/s]\n"
     ]
    },
    {
     "name": "stdout",
     "output_type": "stream",
     "text": [
      "Generator Error Metric is 0.03471746668219566\n",
      "Time for epoch 236 is 2.3714253902435303 sec\n",
      "Epoch: 237\n",
      "Learning rate: 0.0007139865\n"
     ]
    },
    {
     "name": "stderr",
     "output_type": "stream",
     "text": [
      "100%|████████████████████████████████████████| 500/500 [00:02<00:00, 225.55it/s]\n"
     ]
    },
    {
     "name": "stdout",
     "output_type": "stream",
     "text": [
      "Generator Error Metric is 0.03471994400024414\n",
      "Time for epoch 237 is 2.21866512298584 sec\n",
      "Epoch: 238\n",
      "Learning rate: 0.000712968\n"
     ]
    },
    {
     "name": "stderr",
     "output_type": "stream",
     "text": [
      "100%|████████████████████████████████████████| 500/500 [00:02<00:00, 225.46it/s]\n"
     ]
    },
    {
     "name": "stdout",
     "output_type": "stream",
     "text": [
      "Generator Error Metric is 0.024597402662038803\n",
      "Time for epoch 238 is 2.2195041179656982 sec\n",
      "Epoch: 239\n",
      "Learning rate: 0.0007119509\n"
     ]
    },
    {
     "name": "stderr",
     "output_type": "stream",
     "text": [
      "100%|████████████████████████████████████████| 500/500 [00:02<00:00, 225.55it/s]\n"
     ]
    },
    {
     "name": "stdout",
     "output_type": "stream",
     "text": [
      "Generator Error Metric is 0.027526726946234703\n",
      "Time for epoch 239 is 2.218599796295166 sec\n",
      "Epoch: 240\n",
      "Learning rate: 0.0007109352\n"
     ]
    },
    {
     "name": "stderr",
     "output_type": "stream",
     "text": [
      "100%|████████████████████████████████████████| 500/500 [00:02<00:00, 225.58it/s]\n"
     ]
    },
    {
     "name": "stdout",
     "output_type": "stream",
     "text": [
      "Generator Error Metric is 0.02715379185974598\n",
      "Time for epoch 240 is 2.2185046672821045 sec\n",
      "Epoch: 241\n",
      "Learning rate: 0.000709921\n"
     ]
    },
    {
     "name": "stderr",
     "output_type": "stream",
     "text": [
      "100%|████████████████████████████████████████| 500/500 [00:02<00:00, 225.96it/s]\n"
     ]
    },
    {
     "name": "stdout",
     "output_type": "stream",
     "text": [
      "Generator Error Metric is 0.03238898515701294\n",
      "Time for epoch 241 is 2.214564561843872 sec\n",
      "Epoch: 242\n",
      "Learning rate: 0.00070890825\n"
     ]
    },
    {
     "name": "stderr",
     "output_type": "stream",
     "text": [
      "100%|████████████████████████████████████████| 500/500 [00:02<00:00, 225.31it/s]\n"
     ]
    },
    {
     "name": "stdout",
     "output_type": "stream",
     "text": [
      "Generator Error Metric is 0.03605538234114647\n",
      "Time for epoch 242 is 2.220885992050171 sec\n",
      "Epoch: 243\n",
      "Learning rate: 0.00070789683\n"
     ]
    },
    {
     "name": "stderr",
     "output_type": "stream",
     "text": [
      "100%|████████████████████████████████████████| 500/500 [00:02<00:00, 218.57it/s]\n"
     ]
    },
    {
     "name": "stdout",
     "output_type": "stream",
     "text": [
      "Generator Error Metric is 0.03027837909758091\n",
      "Time for epoch 243 is 2.289450168609619 sec\n",
      "Epoch: 244\n",
      "Learning rate: 0.000706887\n"
     ]
    },
    {
     "name": "stderr",
     "output_type": "stream",
     "text": [
      "100%|████████████████████████████████████████| 500/500 [00:02<00:00, 219.57it/s]\n"
     ]
    },
    {
     "name": "stdout",
     "output_type": "stream",
     "text": [
      "Generator Error Metric is 0.03305898979306221\n",
      "Time for epoch 244 is 2.279088020324707 sec\n",
      "Epoch: 245\n",
      "Learning rate: 0.0007058786\n"
     ]
    },
    {
     "name": "stderr",
     "output_type": "stream",
     "text": [
      "100%|████████████████████████████████████████| 500/500 [00:02<00:00, 216.17it/s]\n"
     ]
    },
    {
     "name": "stdout",
     "output_type": "stream",
     "text": [
      "Generator Error Metric is 0.04253081977367401\n",
      "Time for epoch 245 is 2.314976930618286 sec\n",
      "Epoch: 246\n",
      "Learning rate: 0.0007048716\n"
     ]
    },
    {
     "name": "stderr",
     "output_type": "stream",
     "text": [
      "100%|████████████████████████████████████████| 500/500 [00:02<00:00, 217.68it/s]\n"
     ]
    },
    {
     "name": "stdout",
     "output_type": "stream",
     "text": [
      "Generator Error Metric is 0.035820186138153076\n",
      "Time for epoch 246 is 2.2985899448394775 sec\n",
      "Epoch: 247\n",
      "Learning rate: 0.000703866\n"
     ]
    },
    {
     "name": "stderr",
     "output_type": "stream",
     "text": [
      "100%|████████████████████████████████████████| 500/500 [00:02<00:00, 224.81it/s]\n"
     ]
    },
    {
     "name": "stdout",
     "output_type": "stream",
     "text": [
      "Generator Error Metric is 0.03345951437950134\n",
      "Time for epoch 247 is 2.225719928741455 sec\n",
      "Epoch: 248\n",
      "Learning rate: 0.00070286193\n"
     ]
    },
    {
     "name": "stderr",
     "output_type": "stream",
     "text": [
      "100%|████████████████████████████████████████| 500/500 [00:02<00:00, 226.13it/s]\n"
     ]
    },
    {
     "name": "stdout",
     "output_type": "stream",
     "text": [
      "Generator Error Metric is 0.02814134582877159\n",
      "Time for epoch 248 is 2.2126874923706055 sec\n",
      "Epoch: 249\n",
      "Learning rate: 0.00070185924\n"
     ]
    },
    {
     "name": "stderr",
     "output_type": "stream",
     "text": [
      "100%|████████████████████████████████████████| 500/500 [00:02<00:00, 225.01it/s]\n"
     ]
    },
    {
     "name": "stdout",
     "output_type": "stream",
     "text": [
      "Generator Error Metric is 0.023388903588056564\n",
      "Time for epoch 249 is 2.2237467765808105 sec\n",
      "Epoch: 250\n",
      "Learning rate: 0.00070085796\n"
     ]
    },
    {
     "name": "stderr",
     "output_type": "stream",
     "text": [
      "100%|████████████████████████████████████████| 500/500 [00:02<00:00, 225.83it/s]\n"
     ]
    },
    {
     "name": "stdout",
     "output_type": "stream",
     "text": [
      "Generator Error Metric is 0.029706666246056557\n",
      "Time for epoch 250 is 2.215955972671509 sec\n",
      "Epoch: 251\n",
      "Learning rate: 0.0006998581\n"
     ]
    },
    {
     "name": "stderr",
     "output_type": "stream",
     "text": [
      "100%|████████████████████████████████████████| 500/500 [00:02<00:00, 224.92it/s]\n"
     ]
    },
    {
     "name": "stdout",
     "output_type": "stream",
     "text": [
      "Generator Error Metric is 0.03516063466668129\n",
      "Time for epoch 251 is 2.2246527671813965 sec\n",
      "Epoch: 252\n",
      "Learning rate: 0.0006988597\n"
     ]
    },
    {
     "name": "stderr",
     "output_type": "stream",
     "text": [
      "100%|████████████████████████████████████████| 500/500 [00:02<00:00, 216.51it/s]\n"
     ]
    },
    {
     "name": "stdout",
     "output_type": "stream",
     "text": [
      "Generator Error Metric is 0.025716355070471764\n",
      "Time for epoch 252 is 2.3110899925231934 sec\n",
      "Epoch: 253\n",
      "Learning rate: 0.0006978627\n"
     ]
    },
    {
     "name": "stderr",
     "output_type": "stream",
     "text": [
      "100%|████████████████████████████████████████| 500/500 [00:02<00:00, 218.68it/s]\n"
     ]
    },
    {
     "name": "stdout",
     "output_type": "stream",
     "text": [
      "Generator Error Metric is 0.03254658728837967\n",
      "Time for epoch 253 is 2.28802490234375 sec\n",
      "Epoch: 254\n",
      "Learning rate: 0.0006968671\n"
     ]
    },
    {
     "name": "stderr",
     "output_type": "stream",
     "text": [
      "100%|████████████████████████████████████████| 500/500 [00:03<00:00, 165.57it/s]\n"
     ]
    },
    {
     "name": "stdout",
     "output_type": "stream",
     "text": [
      "Generator Error Metric is 0.04640654847025871\n",
      "Time for epoch 254 is 3.021735429763794 sec\n",
      "Epoch: 255\n",
      "Learning rate: 0.00069587305\n"
     ]
    },
    {
     "name": "stderr",
     "output_type": "stream",
     "text": [
      "100%|████████████████████████████████████████| 500/500 [00:03<00:00, 160.36it/s]\n"
     ]
    },
    {
     "name": "stdout",
     "output_type": "stream",
     "text": [
      "Generator Error Metric is 0.03769503906369209\n",
      "Time for epoch 255 is 3.1201441287994385 sec\n",
      "Epoch: 256\n",
      "Learning rate: 0.0006948803\n"
     ]
    },
    {
     "name": "stderr",
     "output_type": "stream",
     "text": [
      "100%|████████████████████████████████████████| 500/500 [00:03<00:00, 157.89it/s]\n"
     ]
    },
    {
     "name": "stdout",
     "output_type": "stream",
     "text": [
      "Generator Error Metric is 0.025704029947519302\n",
      "Time for epoch 256 is 3.1688318252563477 sec\n",
      "Epoch: 257\n",
      "Learning rate: 0.000693889\n"
     ]
    },
    {
     "name": "stderr",
     "output_type": "stream",
     "text": [
      "100%|████████████████████████████████████████| 500/500 [00:02<00:00, 213.02it/s]\n"
     ]
    },
    {
     "name": "stdout",
     "output_type": "stream",
     "text": [
      "Generator Error Metric is 0.030510229989886284\n",
      "Time for epoch 257 is 2.349017858505249 sec\n",
      "Epoch: 258\n",
      "Learning rate: 0.0006928991\n"
     ]
    },
    {
     "name": "stderr",
     "output_type": "stream",
     "text": [
      "100%|████████████████████████████████████████| 500/500 [00:02<00:00, 168.67it/s]\n"
     ]
    },
    {
     "name": "stdout",
     "output_type": "stream",
     "text": [
      "Generator Error Metric is 0.026264341548085213\n",
      "Time for epoch 258 is 2.966656446456909 sec\n",
      "Epoch: 259\n",
      "Learning rate: 0.0006919107\n"
     ]
    },
    {
     "name": "stderr",
     "output_type": "stream",
     "text": [
      "100%|████████████████████████████████████████| 500/500 [00:03<00:00, 161.28it/s]\n"
     ]
    },
    {
     "name": "stdout",
     "output_type": "stream",
     "text": [
      "Generator Error Metric is 0.02329602651298046\n",
      "Time for epoch 259 is 3.102755069732666 sec\n",
      "Epoch: 260\n",
      "Learning rate: 0.00069092354\n"
     ]
    },
    {
     "name": "stderr",
     "output_type": "stream",
     "text": [
      "100%|████████████████████████████████████████| 500/500 [00:03<00:00, 162.16it/s]\n"
     ]
    },
    {
     "name": "stdout",
     "output_type": "stream",
     "text": [
      "Generator Error Metric is 0.022992035374045372\n",
      "Time for epoch 260 is 3.085881233215332 sec\n",
      "Epoch: 261\n",
      "Learning rate: 0.0006899379\n"
     ]
    },
    {
     "name": "stderr",
     "output_type": "stream",
     "text": [
      "100%|████████████████████████████████████████| 500/500 [00:03<00:00, 162.31it/s]\n"
     ]
    },
    {
     "name": "stdout",
     "output_type": "stream",
     "text": [
      "Generator Error Metric is 0.018689913675189018\n",
      "Time for epoch 261 is 3.082840919494629 sec\n",
      "Epoch: 262\n",
      "Learning rate: 0.0006889537\n"
     ]
    },
    {
     "name": "stderr",
     "output_type": "stream",
     "text": [
      "100%|████████████████████████████████████████| 500/500 [00:03<00:00, 163.47it/s]\n"
     ]
    },
    {
     "name": "stdout",
     "output_type": "stream",
     "text": [
      "Generator Error Metric is 0.022591521963477135\n",
      "Time for epoch 262 is 3.060699224472046 sec\n",
      "Epoch: 263\n",
      "Learning rate: 0.00068797084\n"
     ]
    },
    {
     "name": "stderr",
     "output_type": "stream",
     "text": [
      "100%|████████████████████████████████████████| 500/500 [00:03<00:00, 160.93it/s]\n"
     ]
    },
    {
     "name": "stdout",
     "output_type": "stream",
     "text": [
      "Generator Error Metric is 0.02867412008345127\n",
      "Time for epoch 263 is 3.1088786125183105 sec\n",
      "Epoch: 264\n",
      "Learning rate: 0.0006869894\n"
     ]
    },
    {
     "name": "stderr",
     "output_type": "stream",
     "text": [
      "100%|████████████████████████████████████████| 500/500 [00:02<00:00, 196.67it/s]\n"
     ]
    },
    {
     "name": "stdout",
     "output_type": "stream",
     "text": [
      "Generator Error Metric is 0.031141960993409157\n",
      "Time for epoch 264 is 2.5444495677948 sec\n",
      "Epoch: 265\n",
      "Learning rate: 0.0006860093\n"
     ]
    },
    {
     "name": "stderr",
     "output_type": "stream",
     "text": [
      "100%|████████████████████████████████████████| 500/500 [00:02<00:00, 217.55it/s]\n"
     ]
    },
    {
     "name": "stdout",
     "output_type": "stream",
     "text": [
      "Generator Error Metric is 0.03299858421087265\n",
      "Time for epoch 265 is 2.299603223800659 sec\n",
      "Epoch: 266\n",
      "Learning rate: 0.0006850306\n"
     ]
    },
    {
     "name": "stderr",
     "output_type": "stream",
     "text": [
      "100%|████████████████████████████████████████| 500/500 [00:02<00:00, 217.59it/s]\n"
     ]
    },
    {
     "name": "stdout",
     "output_type": "stream",
     "text": [
      "Generator Error Metric is 0.03565081208944321\n",
      "Time for epoch 266 is 2.2992894649505615 sec\n",
      "Epoch: 267\n",
      "Learning rate: 0.0006840534\n"
     ]
    },
    {
     "name": "stderr",
     "output_type": "stream",
     "text": [
      "100%|████████████████████████████████████████| 500/500 [00:02<00:00, 217.61it/s]\n"
     ]
    },
    {
     "name": "stdout",
     "output_type": "stream",
     "text": [
      "Generator Error Metric is 0.03272877633571625\n",
      "Time for epoch 267 is 2.299128532409668 sec\n",
      "Epoch: 268\n",
      "Learning rate: 0.00068307755\n"
     ]
    },
    {
     "name": "stderr",
     "output_type": "stream",
     "text": [
      "100%|████████████████████████████████████████| 500/500 [00:02<00:00, 213.14it/s]\n"
     ]
    },
    {
     "name": "stdout",
     "output_type": "stream",
     "text": [
      "Generator Error Metric is 0.032282110303640366\n",
      "Time for epoch 268 is 2.3473317623138428 sec\n",
      "Epoch: 269\n",
      "Learning rate: 0.0006821031\n"
     ]
    },
    {
     "name": "stderr",
     "output_type": "stream",
     "text": [
      "100%|████████████████████████████████████████| 500/500 [00:02<00:00, 221.45it/s]\n"
     ]
    },
    {
     "name": "stdout",
     "output_type": "stream",
     "text": [
      "Generator Error Metric is 0.03173268958926201\n",
      "Time for epoch 269 is 2.2593164443969727 sec\n",
      "Epoch: 270\n",
      "Learning rate: 0.00068113004\n"
     ]
    },
    {
     "name": "stderr",
     "output_type": "stream",
     "text": [
      "100%|████████████████████████████████████████| 500/500 [00:02<00:00, 222.60it/s]\n"
     ]
    },
    {
     "name": "stdout",
     "output_type": "stream",
     "text": [
      "Generator Error Metric is 0.03136351704597473\n",
      "Time for epoch 270 is 2.2478811740875244 sec\n",
      "Epoch: 271\n",
      "Learning rate: 0.0006801583\n"
     ]
    },
    {
     "name": "stderr",
     "output_type": "stream",
     "text": [
      "100%|████████████████████████████████████████| 500/500 [00:02<00:00, 219.07it/s]\n"
     ]
    },
    {
     "name": "stdout",
     "output_type": "stream",
     "text": [
      "Generator Error Metric is 0.030347958207130432\n",
      "Time for epoch 271 is 2.284015655517578 sec\n",
      "Epoch: 272\n",
      "Learning rate: 0.00067918806\n"
     ]
    },
    {
     "name": "stderr",
     "output_type": "stream",
     "text": [
      "100%|████████████████████████████████████████| 500/500 [00:02<00:00, 172.07it/s]\n"
     ]
    },
    {
     "name": "stdout",
     "output_type": "stream",
     "text": [
      "Generator Error Metric is 0.03077181987464428\n",
      "Time for epoch 272 is 2.9077656269073486 sec\n",
      "Epoch: 273\n",
      "Learning rate: 0.0006782191\n"
     ]
    },
    {
     "name": "stderr",
     "output_type": "stream",
     "text": [
      "100%|████████████████████████████████████████| 500/500 [00:03<00:00, 160.78it/s]\n"
     ]
    },
    {
     "name": "stdout",
     "output_type": "stream",
     "text": [
      "Generator Error Metric is 0.032058265060186386\n",
      "Time for epoch 273 is 3.1123099327087402 sec\n",
      "Epoch: 274\n",
      "Learning rate: 0.00067725155\n"
     ]
    },
    {
     "name": "stderr",
     "output_type": "stream",
     "text": [
      "100%|████████████████████████████████████████| 500/500 [00:03<00:00, 162.49it/s]\n"
     ]
    },
    {
     "name": "stdout",
     "output_type": "stream",
     "text": [
      "Generator Error Metric is 0.028277678415179253\n",
      "Time for epoch 274 is 3.079317808151245 sec\n",
      "Epoch: 275\n",
      "Learning rate: 0.0006762854\n"
     ]
    },
    {
     "name": "stderr",
     "output_type": "stream",
     "text": [
      "100%|████████████████████████████████████████| 500/500 [00:03<00:00, 161.46it/s]\n"
     ]
    },
    {
     "name": "stdout",
     "output_type": "stream",
     "text": [
      "Generator Error Metric is 0.02608334831893444\n",
      "Time for epoch 275 is 3.0988714694976807 sec\n",
      "Epoch: 276\n",
      "Learning rate: 0.0006753207\n"
     ]
    },
    {
     "name": "stderr",
     "output_type": "stream",
     "text": [
      "100%|████████████████████████████████████████| 500/500 [00:03<00:00, 162.49it/s]\n"
     ]
    },
    {
     "name": "stdout",
     "output_type": "stream",
     "text": [
      "Generator Error Metric is 0.03178943693637848\n",
      "Time for epoch 276 is 3.0792596340179443 sec\n",
      "Epoch: 277\n",
      "Learning rate: 0.0006743573\n"
     ]
    },
    {
     "name": "stderr",
     "output_type": "stream",
     "text": [
      "100%|████████████████████████████████████████| 500/500 [00:03<00:00, 162.21it/s]\n"
     ]
    },
    {
     "name": "stdout",
     "output_type": "stream",
     "text": [
      "Generator Error Metric is 0.02381482534110546\n",
      "Time for epoch 277 is 3.0844342708587646 sec\n",
      "Epoch: 278\n",
      "Learning rate: 0.00067339523\n"
     ]
    },
    {
     "name": "stderr",
     "output_type": "stream",
     "text": [
      "100%|████████████████████████████████████████| 500/500 [00:02<00:00, 214.54it/s]\n"
     ]
    },
    {
     "name": "stdout",
     "output_type": "stream",
     "text": [
      "Generator Error Metric is 0.0323369987308979\n",
      "Time for epoch 278 is 2.33246111869812 sec\n",
      "Epoch: 279\n",
      "Learning rate: 0.0006724346\n"
     ]
    },
    {
     "name": "stderr",
     "output_type": "stream",
     "text": [
      "100%|████████████████████████████████████████| 500/500 [00:02<00:00, 213.08it/s]\n"
     ]
    },
    {
     "name": "stdout",
     "output_type": "stream",
     "text": [
      "Generator Error Metric is 0.03409325331449509\n",
      "Time for epoch 279 is 2.3480916023254395 sec\n",
      "Epoch: 280\n",
      "Learning rate: 0.0006714753\n"
     ]
    },
    {
     "name": "stderr",
     "output_type": "stream",
     "text": [
      "100%|████████████████████████████████████████| 500/500 [00:02<00:00, 222.09it/s]\n"
     ]
    },
    {
     "name": "stdout",
     "output_type": "stream",
     "text": [
      "Generator Error Metric is 0.028060274198651314\n",
      "Time for epoch 280 is 2.2529475688934326 sec\n",
      "Epoch: 281\n",
      "Learning rate: 0.00067051745\n"
     ]
    },
    {
     "name": "stderr",
     "output_type": "stream",
     "text": [
      "100%|████████████████████████████████████████| 500/500 [00:02<00:00, 219.12it/s]\n"
     ]
    },
    {
     "name": "stdout",
     "output_type": "stream",
     "text": [
      "Generator Error Metric is 0.03229524940252304\n",
      "Time for epoch 281 is 2.2837822437286377 sec\n",
      "Epoch: 282\n",
      "Learning rate: 0.00066956074\n"
     ]
    },
    {
     "name": "stderr",
     "output_type": "stream",
     "text": [
      "100%|████████████████████████████████████████| 500/500 [00:03<00:00, 164.62it/s]\n"
     ]
    },
    {
     "name": "stdout",
     "output_type": "stream",
     "text": [
      "Generator Error Metric is 0.028766313567757607\n",
      "Time for epoch 282 is 3.039503335952759 sec\n",
      "Epoch: 283\n",
      "Learning rate: 0.0006686056\n"
     ]
    },
    {
     "name": "stderr",
     "output_type": "stream",
     "text": [
      "100%|████████████████████████████████████████| 500/500 [00:03<00:00, 160.33it/s]\n"
     ]
    },
    {
     "name": "stdout",
     "output_type": "stream",
     "text": [
      "Generator Error Metric is 0.023696336895227432\n",
      "Time for epoch 283 is 3.1206846237182617 sec\n",
      "Epoch: 284\n",
      "Learning rate: 0.0006676518\n"
     ]
    },
    {
     "name": "stderr",
     "output_type": "stream",
     "text": [
      "100%|████████████████████████████████████████| 500/500 [00:03<00:00, 163.51it/s]\n"
     ]
    },
    {
     "name": "stdout",
     "output_type": "stream",
     "text": [
      "Generator Error Metric is 0.028308384120464325\n",
      "Time for epoch 284 is 3.060508966445923 sec\n",
      "Epoch: 285\n",
      "Learning rate: 0.0006666993\n"
     ]
    },
    {
     "name": "stderr",
     "output_type": "stream",
     "text": [
      "100%|████████████████████████████████████████| 500/500 [00:03<00:00, 164.52it/s]\n"
     ]
    },
    {
     "name": "stdout",
     "output_type": "stream",
     "text": [
      "Generator Error Metric is 0.028355149552226067\n",
      "Time for epoch 285 is 3.041306257247925 sec\n",
      "Epoch: 286\n",
      "Learning rate: 0.0006657482\n"
     ]
    },
    {
     "name": "stderr",
     "output_type": "stream",
     "text": [
      "100%|████████████████████████████████████████| 500/500 [00:03<00:00, 166.63it/s]\n"
     ]
    },
    {
     "name": "stdout",
     "output_type": "stream",
     "text": [
      "Generator Error Metric is 0.02027757093310356\n",
      "Time for epoch 286 is 3.0028297901153564 sec\n",
      "Epoch: 287\n",
      "Learning rate: 0.0006647985\n"
     ]
    },
    {
     "name": "stderr",
     "output_type": "stream",
     "text": [
      "100%|████████████████████████████████████████| 500/500 [00:03<00:00, 165.97it/s]\n"
     ]
    },
    {
     "name": "stdout",
     "output_type": "stream",
     "text": [
      "Generator Error Metric is 0.01825282908976078\n",
      "Time for epoch 287 is 3.014845371246338 sec\n",
      "Epoch: 288\n",
      "Learning rate: 0.00066385005\n"
     ]
    },
    {
     "name": "stderr",
     "output_type": "stream",
     "text": [
      "100%|████████████████████████████████████████| 500/500 [00:03<00:00, 162.96it/s]\n"
     ]
    },
    {
     "name": "stdout",
     "output_type": "stream",
     "text": [
      "Generator Error Metric is 0.01969071663916111\n",
      "Time for epoch 288 is 3.07096266746521 sec\n",
      "Epoch: 289\n",
      "Learning rate: 0.00066290307\n"
     ]
    },
    {
     "name": "stderr",
     "output_type": "stream",
     "text": [
      "100%|████████████████████████████████████████| 500/500 [00:03<00:00, 163.49it/s]\n"
     ]
    },
    {
     "name": "stdout",
     "output_type": "stream",
     "text": [
      "Generator Error Metric is 0.016554707661271095\n",
      "Time for epoch 289 is 3.0609428882598877 sec\n",
      "Epoch: 290\n",
      "Learning rate: 0.00066195737\n"
     ]
    },
    {
     "name": "stderr",
     "output_type": "stream",
     "text": [
      "100%|████████████████████████████████████████| 500/500 [00:03<00:00, 164.22it/s]\n"
     ]
    },
    {
     "name": "stdout",
     "output_type": "stream",
     "text": [
      "Generator Error Metric is 0.024325713515281677\n",
      "Time for epoch 290 is 3.0470550060272217 sec\n",
      "Epoch: 291\n",
      "Learning rate: 0.00066101307\n"
     ]
    },
    {
     "name": "stderr",
     "output_type": "stream",
     "text": [
      "100%|████████████████████████████████████████| 500/500 [00:03<00:00, 164.77it/s]\n"
     ]
    },
    {
     "name": "stdout",
     "output_type": "stream",
     "text": [
      "Generator Error Metric is 0.02238345518708229\n",
      "Time for epoch 291 is 3.03700852394104 sec\n",
      "Epoch: 292\n",
      "Learning rate: 0.00066007004\n"
     ]
    },
    {
     "name": "stderr",
     "output_type": "stream",
     "text": [
      "100%|████████████████████████████████████████| 500/500 [00:03<00:00, 164.93it/s]\n"
     ]
    },
    {
     "name": "stdout",
     "output_type": "stream",
     "text": [
      "Generator Error Metric is 0.021290453150868416\n",
      "Time for epoch 292 is 3.0339245796203613 sec\n",
      "Epoch: 293\n",
      "Learning rate: 0.0006591284\n"
     ]
    },
    {
     "name": "stderr",
     "output_type": "stream",
     "text": [
      "100%|████████████████████████████████████████| 500/500 [00:03<00:00, 164.27it/s]\n"
     ]
    },
    {
     "name": "stdout",
     "output_type": "stream",
     "text": [
      "Generator Error Metric is 0.02637927047908306\n",
      "Time for epoch 293 is 3.0460708141326904 sec\n",
      "Epoch: 294\n",
      "Learning rate: 0.00065818813\n"
     ]
    },
    {
     "name": "stderr",
     "output_type": "stream",
     "text": [
      "100%|████████████████████████████████████████| 500/500 [00:03<00:00, 164.26it/s]\n"
     ]
    },
    {
     "name": "stdout",
     "output_type": "stream",
     "text": [
      "Generator Error Metric is 0.022921742871403694\n",
      "Time for epoch 294 is 3.046306610107422 sec\n",
      "Epoch: 295\n",
      "Learning rate: 0.0006572492\n"
     ]
    },
    {
     "name": "stderr",
     "output_type": "stream",
     "text": [
      "100%|████████████████████████████████████████| 500/500 [00:02<00:00, 197.01it/s]\n"
     ]
    },
    {
     "name": "stdout",
     "output_type": "stream",
     "text": [
      "Generator Error Metric is 0.01927798241376877\n",
      "Time for epoch 295 is 2.5398638248443604 sec\n",
      "Epoch: 296\n",
      "Learning rate: 0.00065631146\n"
     ]
    },
    {
     "name": "stderr",
     "output_type": "stream",
     "text": [
      "100%|████████████████████████████████████████| 500/500 [00:02<00:00, 221.82it/s]\n"
     ]
    },
    {
     "name": "stdout",
     "output_type": "stream",
     "text": [
      "Generator Error Metric is 0.018148716539144516\n",
      "Time for epoch 296 is 2.2554497718811035 sec\n",
      "Epoch: 297\n",
      "Learning rate: 0.0006553752\n"
     ]
    },
    {
     "name": "stderr",
     "output_type": "stream",
     "text": [
      "100%|████████████████████████████████████████| 500/500 [00:02<00:00, 219.81it/s]\n"
     ]
    },
    {
     "name": "stdout",
     "output_type": "stream",
     "text": [
      "Generator Error Metric is 0.015264482237398624\n",
      "Time for epoch 297 is 2.2762889862060547 sec\n",
      "Epoch: 298\n",
      "Learning rate: 0.00065444026\n"
     ]
    },
    {
     "name": "stderr",
     "output_type": "stream",
     "text": [
      "100%|████████████████████████████████████████| 500/500 [00:02<00:00, 215.17it/s]\n"
     ]
    },
    {
     "name": "stdout",
     "output_type": "stream",
     "text": [
      "Generator Error Metric is 0.016639743000268936\n",
      "Time for epoch 298 is 2.3252809047698975 sec\n",
      "Epoch: 299\n",
      "Learning rate: 0.00065350666\n"
     ]
    },
    {
     "name": "stderr",
     "output_type": "stream",
     "text": [
      "100%|████████████████████████████████████████| 500/500 [00:02<00:00, 219.99it/s]\n"
     ]
    },
    {
     "name": "stdout",
     "output_type": "stream",
     "text": [
      "Generator Error Metric is 0.019928013905882835\n",
      "Time for epoch 299 is 2.2744669914245605 sec\n",
      "Epoch: 300\n",
      "Learning rate: 0.00065257435\n"
     ]
    },
    {
     "name": "stderr",
     "output_type": "stream",
     "text": [
      "100%|████████████████████████████████████████| 500/500 [00:02<00:00, 217.72it/s]\n"
     ]
    },
    {
     "name": "stdout",
     "output_type": "stream",
     "text": [
      "Generator Error Metric is 0.019372664391994476\n",
      "Time for epoch 300 is 2.298027515411377 sec\n",
      "Epoch: 301\n",
      "Learning rate: 0.00065164344\n"
     ]
    },
    {
     "name": "stderr",
     "output_type": "stream",
     "text": [
      "100%|████████████████████████████████████████| 500/500 [00:02<00:00, 222.50it/s]\n"
     ]
    },
    {
     "name": "stdout",
     "output_type": "stream",
     "text": [
      "Generator Error Metric is 0.01867092214524746\n",
      "Time for epoch 301 is 2.248591661453247 sec\n",
      "Epoch: 302\n",
      "Learning rate: 0.00065071386\n"
     ]
    },
    {
     "name": "stderr",
     "output_type": "stream",
     "text": [
      "100%|████████████████████████████████████████| 500/500 [00:02<00:00, 222.28it/s]\n"
     ]
    },
    {
     "name": "stdout",
     "output_type": "stream",
     "text": [
      "Generator Error Metric is 0.018960773944854736\n",
      "Time for epoch 302 is 2.2510437965393066 sec\n",
      "Epoch: 303\n",
      "Learning rate: 0.00064978556\n"
     ]
    },
    {
     "name": "stderr",
     "output_type": "stream",
     "text": [
      "100%|████████████████████████████████████████| 500/500 [00:02<00:00, 193.95it/s]\n"
     ]
    },
    {
     "name": "stdout",
     "output_type": "stream",
     "text": [
      "Generator Error Metric is 0.02238796278834343\n",
      "Time for epoch 303 is 2.579991340637207 sec\n",
      "Epoch: 304\n",
      "Learning rate: 0.0006488585\n"
     ]
    },
    {
     "name": "stderr",
     "output_type": "stream",
     "text": [
      "100%|████████████████████████████████████████| 500/500 [00:02<00:00, 190.25it/s]\n"
     ]
    },
    {
     "name": "stdout",
     "output_type": "stream",
     "text": [
      "Generator Error Metric is 0.02178364433348179\n",
      "Time for epoch 304 is 2.6299469470977783 sec\n",
      "Epoch: 305\n",
      "Learning rate: 0.0006479329\n"
     ]
    },
    {
     "name": "stderr",
     "output_type": "stream",
     "text": [
      "100%|████████████████████████████████████████| 500/500 [00:02<00:00, 212.67it/s]\n"
     ]
    },
    {
     "name": "stdout",
     "output_type": "stream",
     "text": [
      "Generator Error Metric is 0.016872189939022064\n",
      "Time for epoch 305 is 2.3531720638275146 sec\n",
      "Epoch: 306\n",
      "Learning rate: 0.0006470086\n"
     ]
    },
    {
     "name": "stderr",
     "output_type": "stream",
     "text": [
      "100%|████████████████████████████████████████| 500/500 [00:02<00:00, 215.85it/s]\n"
     ]
    },
    {
     "name": "stdout",
     "output_type": "stream",
     "text": [
      "Generator Error Metric is 0.015534523874521255\n",
      "Time for epoch 306 is 2.3182897567749023 sec\n",
      "Epoch: 307\n",
      "Learning rate: 0.0006460856\n"
     ]
    },
    {
     "name": "stderr",
     "output_type": "stream",
     "text": [
      "100%|████████████████████████████████████████| 500/500 [00:02<00:00, 213.35it/s]\n"
     ]
    },
    {
     "name": "stdout",
     "output_type": "stream",
     "text": [
      "Generator Error Metric is 0.01830403134226799\n",
      "Time for epoch 307 is 2.3456051349639893 sec\n",
      "Epoch: 308\n",
      "Learning rate: 0.0006451638\n"
     ]
    },
    {
     "name": "stderr",
     "output_type": "stream",
     "text": [
      "100%|████████████████████████████████████████| 500/500 [00:02<00:00, 181.07it/s]\n"
     ]
    },
    {
     "name": "stdout",
     "output_type": "stream",
     "text": [
      "Generator Error Metric is 0.01975313574075699\n",
      "Time for epoch 308 is 2.7633910179138184 sec\n",
      "Epoch: 309\n",
      "Learning rate: 0.00064424344\n"
     ]
    },
    {
     "name": "stderr",
     "output_type": "stream",
     "text": [
      "100%|████████████████████████████████████████| 500/500 [00:03<00:00, 160.61it/s]\n"
     ]
    },
    {
     "name": "stdout",
     "output_type": "stream",
     "text": [
      "Generator Error Metric is 0.01967873051762581\n",
      "Time for epoch 309 is 3.1150994300842285 sec\n",
      "Epoch: 310\n",
      "Learning rate: 0.0006433244\n"
     ]
    },
    {
     "name": "stderr",
     "output_type": "stream",
     "text": [
      "100%|████████████████████████████████████████| 500/500 [00:03<00:00, 160.58it/s]\n"
     ]
    },
    {
     "name": "stdout",
     "output_type": "stream",
     "text": [
      "Generator Error Metric is 0.019129006192088127\n",
      "Time for epoch 310 is 3.115588665008545 sec\n",
      "Epoch: 311\n",
      "Learning rate: 0.00064240664\n"
     ]
    },
    {
     "name": "stderr",
     "output_type": "stream",
     "text": [
      "100%|████████████████████████████████████████| 500/500 [00:02<00:00, 216.36it/s]\n"
     ]
    },
    {
     "name": "stdout",
     "output_type": "stream",
     "text": [
      "Generator Error Metric is 0.01997389830648899\n",
      "Time for epoch 311 is 2.3126838207244873 sec\n",
      "Epoch: 312\n",
      "Learning rate: 0.0006414902\n"
     ]
    },
    {
     "name": "stderr",
     "output_type": "stream",
     "text": [
      "100%|████████████████████████████████████████| 500/500 [00:02<00:00, 219.53it/s]\n"
     ]
    },
    {
     "name": "stdout",
     "output_type": "stream",
     "text": [
      "Generator Error Metric is 0.0195295549929142\n",
      "Time for epoch 312 is 2.2790448665618896 sec\n",
      "Epoch: 313\n",
      "Learning rate: 0.0006405751\n"
     ]
    },
    {
     "name": "stderr",
     "output_type": "stream",
     "text": [
      " 30%|████████████                            | 151/500 [00:00<00:01, 220.77it/s]\n"
     ]
    },
    {
     "ename": "KeyboardInterrupt",
     "evalue": "",
     "output_type": "error",
     "traceback": [
      "\u001b[0;31m---------------------------------------------------------------------------\u001b[0m",
      "\u001b[0;31mKeyboardInterrupt\u001b[0m                         Traceback (most recent call last)",
      "Cell \u001b[0;32mIn[14], line 1\u001b[0m\n\u001b[0;32m----> 1\u001b[0m \u001b[43mtrain\u001b[49m\u001b[43m(\u001b[49m\u001b[43m[\u001b[49m\u001b[43msel_indices\u001b[49m\u001b[43m,\u001b[49m\u001b[43m \u001b[49m\u001b[43msubjects_lr\u001b[49m\u001b[43m,\u001b[49m\u001b[43m \u001b[49m\u001b[43msubjects_hr\u001b[49m\u001b[43m,\u001b[49m\u001b[43m \u001b[49m\u001b[43msubjects_masks\u001b[49m\u001b[43m]\u001b[49m\u001b[43m,\u001b[49m\u001b[43m \u001b[49m\u001b[38;5;241;43m600\u001b[39;49m\u001b[43m)\u001b[49m\n",
      "Cell \u001b[0;32mIn[11], line 77\u001b[0m, in \u001b[0;36mtrain\u001b[0;34m(data, epochs)\u001b[0m\n\u001b[1;32m     74\u001b[0m mean_g_loss \u001b[38;5;241m=\u001b[39m mean_g_loss \u001b[38;5;241m+\u001b[39m g_loss\n\u001b[1;32m     75\u001b[0m mean_d_loss \u001b[38;5;241m=\u001b[39m mean_d_loss \u001b[38;5;241m+\u001b[39m d_loss\n\u001b[0;32m---> 77\u001b[0m y_preds \u001b[38;5;241m=\u001b[39m \u001b[43mgenerator\u001b[49m\u001b[43m(\u001b[49m\u001b[43mlr_patches\u001b[49m\u001b[43m,\u001b[49m\u001b[43m \u001b[49m\u001b[43mtraining\u001b[49m\u001b[38;5;241;43m=\u001b[39;49m\u001b[38;5;28;43;01mFalse\u001b[39;49;00m\u001b[43m)\u001b[49m\n\u001b[1;32m     79\u001b[0m total_cost \u001b[38;5;241m=\u001b[39m total_cost \u001b[38;5;241m+\u001b[39m tf\u001b[38;5;241m.\u001b[39mreduce_mean(tf\u001b[38;5;241m.\u001b[39msquare(hr_patches \u001b[38;5;241m-\u001b[39m y_preds))\n\u001b[1;32m     81\u001b[0m lr_patches \u001b[38;5;241m=\u001b[39m []\n",
      "File \u001b[0;32m~/miniconda3/envs/Dissertation/lib/python3.11/site-packages/keras/src/utils/traceback_utils.py:65\u001b[0m, in \u001b[0;36mfilter_traceback.<locals>.error_handler\u001b[0;34m(*args, **kwargs)\u001b[0m\n\u001b[1;32m     63\u001b[0m filtered_tb \u001b[38;5;241m=\u001b[39m \u001b[38;5;28;01mNone\u001b[39;00m\n\u001b[1;32m     64\u001b[0m \u001b[38;5;28;01mtry\u001b[39;00m:\n\u001b[0;32m---> 65\u001b[0m     \u001b[38;5;28;01mreturn\u001b[39;00m \u001b[43mfn\u001b[49m\u001b[43m(\u001b[49m\u001b[38;5;241;43m*\u001b[39;49m\u001b[43margs\u001b[49m\u001b[43m,\u001b[49m\u001b[43m \u001b[49m\u001b[38;5;241;43m*\u001b[39;49m\u001b[38;5;241;43m*\u001b[39;49m\u001b[43mkwargs\u001b[49m\u001b[43m)\u001b[49m\n\u001b[1;32m     66\u001b[0m \u001b[38;5;28;01mexcept\u001b[39;00m \u001b[38;5;167;01mException\u001b[39;00m \u001b[38;5;28;01mas\u001b[39;00m e:\n\u001b[1;32m     67\u001b[0m     filtered_tb \u001b[38;5;241m=\u001b[39m _process_traceback_frames(e\u001b[38;5;241m.\u001b[39m__traceback__)\n",
      "File \u001b[0;32m~/miniconda3/envs/Dissertation/lib/python3.11/site-packages/keras/src/engine/training.py:569\u001b[0m, in \u001b[0;36mModel.__call__\u001b[0;34m(self, *args, **kwargs)\u001b[0m\n\u001b[1;32m    565\u001b[0m         \u001b[38;5;28msuper\u001b[39m()\u001b[38;5;241m.\u001b[39m\u001b[38;5;21m__call__\u001b[39m(inputs, \u001b[38;5;241m*\u001b[39mcopied_args, \u001b[38;5;241m*\u001b[39m\u001b[38;5;241m*\u001b[39mcopied_kwargs)\n\u001b[1;32m    567\u001b[0m     layout_map_lib\u001b[38;5;241m.\u001b[39m_map_subclass_model_variable(\u001b[38;5;28mself\u001b[39m, \u001b[38;5;28mself\u001b[39m\u001b[38;5;241m.\u001b[39m_layout_map)\n\u001b[0;32m--> 569\u001b[0m \u001b[38;5;28;01mreturn\u001b[39;00m \u001b[38;5;28;43msuper\u001b[39;49m\u001b[43m(\u001b[49m\u001b[43m)\u001b[49m\u001b[38;5;241;43m.\u001b[39;49m\u001b[38;5;21;43m__call__\u001b[39;49m\u001b[43m(\u001b[49m\u001b[38;5;241;43m*\u001b[39;49m\u001b[43margs\u001b[49m\u001b[43m,\u001b[49m\u001b[43m \u001b[49m\u001b[38;5;241;43m*\u001b[39;49m\u001b[38;5;241;43m*\u001b[39;49m\u001b[43mkwargs\u001b[49m\u001b[43m)\u001b[49m\n",
      "File \u001b[0;32m~/miniconda3/envs/Dissertation/lib/python3.11/site-packages/keras/src/utils/traceback_utils.py:65\u001b[0m, in \u001b[0;36mfilter_traceback.<locals>.error_handler\u001b[0;34m(*args, **kwargs)\u001b[0m\n\u001b[1;32m     63\u001b[0m filtered_tb \u001b[38;5;241m=\u001b[39m \u001b[38;5;28;01mNone\u001b[39;00m\n\u001b[1;32m     64\u001b[0m \u001b[38;5;28;01mtry\u001b[39;00m:\n\u001b[0;32m---> 65\u001b[0m     \u001b[38;5;28;01mreturn\u001b[39;00m \u001b[43mfn\u001b[49m\u001b[43m(\u001b[49m\u001b[38;5;241;43m*\u001b[39;49m\u001b[43margs\u001b[49m\u001b[43m,\u001b[49m\u001b[43m \u001b[49m\u001b[38;5;241;43m*\u001b[39;49m\u001b[38;5;241;43m*\u001b[39;49m\u001b[43mkwargs\u001b[49m\u001b[43m)\u001b[49m\n\u001b[1;32m     66\u001b[0m \u001b[38;5;28;01mexcept\u001b[39;00m \u001b[38;5;167;01mException\u001b[39;00m \u001b[38;5;28;01mas\u001b[39;00m e:\n\u001b[1;32m     67\u001b[0m     filtered_tb \u001b[38;5;241m=\u001b[39m _process_traceback_frames(e\u001b[38;5;241m.\u001b[39m__traceback__)\n",
      "File \u001b[0;32m~/miniconda3/envs/Dissertation/lib/python3.11/site-packages/keras/src/engine/base_layer.py:1107\u001b[0m, in \u001b[0;36mLayer.__call__\u001b[0;34m(self, *args, **kwargs)\u001b[0m\n\u001b[1;32m   1103\u001b[0m \u001b[38;5;66;03m# Losses are cleared for all sublayers on the outermost `Layer.call`.\u001b[39;00m\n\u001b[1;32m   1104\u001b[0m \u001b[38;5;66;03m# Losses are not cleared on inner `Layer.call`s, because sublayers can\u001b[39;00m\n\u001b[1;32m   1105\u001b[0m \u001b[38;5;66;03m# be called multiple times.\u001b[39;00m\n\u001b[1;32m   1106\u001b[0m \u001b[38;5;28;01mif\u001b[39;00m \u001b[38;5;129;01mnot\u001b[39;00m call_context\u001b[38;5;241m.\u001b[39min_call:\n\u001b[0;32m-> 1107\u001b[0m     \u001b[38;5;28;43mself\u001b[39;49m\u001b[38;5;241;43m.\u001b[39;49m\u001b[43m_clear_losses\u001b[49m\u001b[43m(\u001b[49m\u001b[43m)\u001b[49m\n\u001b[1;32m   1109\u001b[0m eager \u001b[38;5;241m=\u001b[39m tf\u001b[38;5;241m.\u001b[39mexecuting_eagerly()\n\u001b[1;32m   1110\u001b[0m \u001b[38;5;28;01mwith\u001b[39;00m call_context\u001b[38;5;241m.\u001b[39menter(\n\u001b[1;32m   1111\u001b[0m     layer\u001b[38;5;241m=\u001b[39m\u001b[38;5;28mself\u001b[39m,\n\u001b[1;32m   1112\u001b[0m     inputs\u001b[38;5;241m=\u001b[39minputs,\n\u001b[1;32m   1113\u001b[0m     build_graph\u001b[38;5;241m=\u001b[39m\u001b[38;5;129;01mnot\u001b[39;00m eager,\n\u001b[1;32m   1114\u001b[0m     training\u001b[38;5;241m=\u001b[39mtraining_mode,\n\u001b[1;32m   1115\u001b[0m ):\n",
      "File \u001b[0;32m~/miniconda3/envs/Dissertation/lib/python3.11/site-packages/keras/src/engine/base_layer.py:2430\u001b[0m, in \u001b[0;36mLayer._clear_losses\u001b[0;34m(self)\u001b[0m\n\u001b[1;32m   2428\u001b[0m     \u001b[38;5;28mself\u001b[39m\u001b[38;5;241m.\u001b[39m_thread_local\u001b[38;5;241m.\u001b[39m_eager_losses \u001b[38;5;241m=\u001b[39m []\n\u001b[1;32m   2429\u001b[0m \u001b[38;5;28;01melse\u001b[39;00m:\n\u001b[0;32m-> 2430\u001b[0m     \u001b[38;5;28;01mfor\u001b[39;00m layer \u001b[38;5;129;01min\u001b[39;00m \u001b[38;5;28mself\u001b[39m\u001b[38;5;241m.\u001b[39m_flatten_layers():\n\u001b[1;32m   2431\u001b[0m         layer\u001b[38;5;241m.\u001b[39m_thread_local\u001b[38;5;241m.\u001b[39m_eager_losses \u001b[38;5;241m=\u001b[39m []\n",
      "File \u001b[0;32m~/miniconda3/envs/Dissertation/lib/python3.11/site-packages/keras/src/engine/base_layer.py:3314\u001b[0m, in \u001b[0;36mLayer._flatten_layers\u001b[0;34m(self, recursive, include_self)\u001b[0m\n\u001b[1;32m   3313\u001b[0m \u001b[38;5;28;01mdef\u001b[39;00m \u001b[38;5;21m_flatten_layers\u001b[39m(\u001b[38;5;28mself\u001b[39m, recursive\u001b[38;5;241m=\u001b[39m\u001b[38;5;28;01mTrue\u001b[39;00m, include_self\u001b[38;5;241m=\u001b[39m\u001b[38;5;28;01mTrue\u001b[39;00m):\n\u001b[0;32m-> 3314\u001b[0m     \u001b[38;5;28;01mfor\u001b[39;00m m \u001b[38;5;129;01min\u001b[39;00m \u001b[38;5;28mself\u001b[39m\u001b[38;5;241m.\u001b[39m_flatten_modules(\n\u001b[1;32m   3315\u001b[0m         recursive\u001b[38;5;241m=\u001b[39mrecursive, include_self\u001b[38;5;241m=\u001b[39minclude_self\n\u001b[1;32m   3316\u001b[0m     ):\n\u001b[1;32m   3317\u001b[0m         \u001b[38;5;28;01mif\u001b[39;00m \u001b[38;5;28misinstance\u001b[39m(m, Layer):\n\u001b[1;32m   3318\u001b[0m             \u001b[38;5;28;01myield\u001b[39;00m m\n",
      "File \u001b[0;32m~/miniconda3/envs/Dissertation/lib/python3.11/site-packages/keras/src/engine/base_layer.py:3346\u001b[0m, in \u001b[0;36mLayer._flatten_modules\u001b[0;34m(self, recursive, include_self)\u001b[0m\n\u001b[1;32m   3343\u001b[0m seen_object_ids\u001b[38;5;241m.\u001b[39madd(trackable_id)\n\u001b[1;32m   3345\u001b[0m \u001b[38;5;66;03m# Metrics are not considered part of the Layer's topology.\u001b[39;00m\n\u001b[0;32m-> 3346\u001b[0m \u001b[38;5;28;01mif\u001b[39;00m \u001b[38;5;28misinstance\u001b[39m(trackable_obj, tf\u001b[38;5;241m.\u001b[39mModule) \u001b[38;5;129;01mand\u001b[39;00m \u001b[38;5;129;01mnot\u001b[39;00m \u001b[38;5;28misinstance\u001b[39m(\n\u001b[1;32m   3347\u001b[0m     trackable_obj, metrics_mod\u001b[38;5;241m.\u001b[39mMetric\n\u001b[1;32m   3348\u001b[0m ):\n\u001b[1;32m   3349\u001b[0m     \u001b[38;5;28;01myield\u001b[39;00m trackable_obj\n\u001b[1;32m   3350\u001b[0m     \u001b[38;5;66;03m# Introspect recursively through sublayers.\u001b[39;00m\n",
      "File \u001b[0;32m<frozen abc>:117\u001b[0m, in \u001b[0;36m__instancecheck__\u001b[0;34m(cls, instance)\u001b[0m\n",
      "\u001b[0;31mKeyboardInterrupt\u001b[0m: "
     ]
    }
   ],
   "source": [
    "train([sel_indices, subjects_lr, subjects_hr, subjects_masks], 600)"
   ]
  },
  {
   "cell_type": "code",
   "execution_count": 15,
   "metadata": {},
   "outputs": [
    {
     "name": "stderr",
     "output_type": "stream",
     "text": [
      "100%|████████████████████████████████████████| 299/299 [00:02<00:00, 119.31it/s]\n"
     ]
    }
   ],
   "source": [
    "# subjects_lr\n",
    "# subjects_hr\n",
    "# subjects_masks\n",
    "\n",
    "result_image = np.zeros(hires_output.shape)\n",
    "\n",
    "for (i, j, k) in tqdm(sel_indices[np.where(sel_indices[:,0]==6),1:].squeeze()):\n",
    "\n",
    "    lr_patch = np.copy(subjects_lr[6][\n",
    "                            i - p_size_i - e_or_o : i + p_size_i,\n",
    "                            j - p_size_i - e_or_o : j + p_size_i,\n",
    "                            k - p_size_i - e_or_o : k + p_size_i, :])\n",
    "\n",
    "    lr_mask = subjects_masks[6][\n",
    "                                i - p_size_i - e_or_o : i + p_size_i,\n",
    "                                j - p_size_i - e_or_o : j + p_size_i,\n",
    "                                k - p_size_i - e_or_o : k + p_size_i]\n",
    "\n",
    "    lr_patch[lr_mask == 0] = 0\n",
    "\n",
    "    generated_image = generator(lr_patch[None,...], training=False)\n",
    "\n",
    "    result_image[i - p_size_o - e_or_o : i + p_size_o,\n",
    "                 j - p_size_o - e_or_o : j + p_size_o,\n",
    "                 k - p_size_o - e_or_o : k + p_size_o, :] = generated_image\n",
    "\n",
    "result_image[subjects_masks[6] < 0] = 0\n",
    "    "
   ]
  },
  {
   "cell_type": "code",
   "execution_count": 16,
   "metadata": {},
   "outputs": [
    {
     "data": {
      "text/plain": [
       "<matplotlib.image.AxesImage at 0x7f8af17251d0>"
      ]
     },
     "execution_count": 16,
     "metadata": {},
     "output_type": "execute_result"
    },
    {
     "data": {
      "image/png": "[encoded data removed]",
      "text/plain": [
       "<Figure size 640x480 with 1 Axes>"
      ]
     },
     "metadata": {},
     "output_type": "display_data"
    },
    {
     "data": {
      "image/png": "[encoded data removed]",
      "text/plain": [
       "<Figure size 640x480 with 1 Axes>"
      ]
     },
     "metadata": {},
     "output_type": "display_data"
    },
    {
     "data": {
      "image/png": "[encoded data removed]",
      "text/plain": [
       "<Figure size 640x480 with 1 Axes>"
      ]
     },
     "metadata": {},
     "output_type": "display_data"
    }
   ],
   "source": [
    "zdim = 60\n",
    "channel = 0\n",
    "\n",
    "# plt.imshow(subjects_masks[6][:,:,zdim], cmap='gray')\n",
    "# plt.figure()\n",
    "plt.imshow(subjects_lr[6][:,:,zdim,channel]*subjects_masks[6][:,:,zdim], cmap='gray')\n",
    "plt.figure()\n",
    "plt.imshow(subjects_hr[6][:,:,zdim,channel]*subjects_masks[6][:,:,zdim], cmap='gray')\n",
    "plt.figure()\n",
    "plt.imshow(result_image[:,:,zdim,channel]*subjects_masks[6][:,:,zdim], cmap='gray')"
   ]
  },
  {
   "cell_type": "code",
   "execution_count": 17,
   "metadata": {},
   "outputs": [
    {
     "data": {
      "text/plain": [
       "<matplotlib.image.AxesImage at 0x7f8af06e0a10>"
      ]
     },
     "execution_count": 17,
     "metadata": {},
     "output_type": "execute_result"
    },
    {
     "data": {
      "image/png": "[encoded data removed]",
      "text/plain": [
       "<Figure size 640x480 with 1 Axes>"
      ]
     },
     "metadata": {},
     "output_type": "display_data"
    },
    {
     "data": {
      "image/png": "[encoded data removed]",
      "text/plain": [
       "<Figure size 640x480 with 1 Axes>"
      ]
     },
     "metadata": {},
     "output_type": "display_data"
    },
    {
     "data": {
      "image/png": "[encoded data removed]",
      "text/plain": [
       "<Figure size 640x480 with 1 Axes>"
      ]
     },
     "metadata": {},
     "output_type": "display_data"
    }
   ],
   "source": [
    "plt.imshow(subjects_lr[6][40:80,60:120,zdim,channel], cmap='gray')\n",
    "plt.figure()\n",
    "plt.imshow(subjects_hr[6][40:80,60:120,zdim,channel], cmap='gray')\n",
    "plt.figure()\n",
    "plt.imshow(result_image[40:80,60:120,zdim,channel], cmap='gray')"
   ]
  },
  {
   "cell_type": "code",
   "execution_count": null,
   "metadata": {},
   "outputs": [],
   "source": [
    "# generator.save_weights('Model/gen_weights')\n",
    "# discriminator.save_weights('Model/disc_weights')"
   ]
  },
  {
   "cell_type": "code",
   "execution_count": null,
   "metadata": {},
   "outputs": [],
   "source": [
    "generator.save('Model/generator5xencdec')\n",
    "discriminator.save('Model/discriminator5xencdec')"
   ]
  }
 ],
 "metadata": {
  "kernelspec": {
   "display_name": "Python 3 (ipykernel)",
   "language": "python",
   "name": "python3"
  },
  "language_info": {
   "codemirror_mode": {
    "name": "ipython",
    "version": 3
   },
   "file_extension": ".py",
   "mimetype": "text/x-python",
   "name": "python",
   "nbconvert_exporter": "python",
   "pygments_lexer": "ipython3",
   "version": "3.11.4"
  }
 },
 "nbformat": 4,
 "nbformat_minor": 4
}
