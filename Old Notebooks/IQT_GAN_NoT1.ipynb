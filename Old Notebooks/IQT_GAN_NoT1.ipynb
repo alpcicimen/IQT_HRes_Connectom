{
 "cells": [
  {
   "cell_type": "code",
   "execution_count": 1,
   "metadata": {
    "ExecuteTime": {
     "end_time": "2023-08-05T13:44:49.616254700Z",
     "start_time": "2023-08-05T13:44:43.055344700Z"
    }
   },
   "outputs": [
    {
     "name": "stderr",
     "output_type": "stream",
     "text": [
      "2023-08-09 15:52:55.981236: I tensorflow/core/util/port.cc:110] oneDNN custom operations are on. You may see slightly different numerical results due to floating-point round-off errors from different computation orders. To turn them off, set the environment variable `TF_ENABLE_ONEDNN_OPTS=0`.\n",
      "2023-08-09 15:52:56.010426: I tensorflow/core/platform/cpu_feature_guard.cc:182] This TensorFlow binary is optimized to use available CPU instructions in performance-critical operations.\n",
      "To enable the following instructions: AVX2 AVX_VNNI FMA, in other operations, rebuild TensorFlow with the appropriate compiler flags.\n",
      "2023-08-09 15:52:56.566959: W tensorflow/compiler/tf2tensorrt/utils/py_utils.cc:38] TF-TRT Warning: Could not find TensorRT\n"
     ]
    }
   ],
   "source": [
    "import tensorflow as tf"
   ]
  },
  {
   "cell_type": "code",
   "execution_count": 2,
   "metadata": {
    "ExecuteTime": {
     "end_time": "2023-08-05T13:44:49.635699800Z",
     "start_time": "2023-08-05T13:44:49.617799900Z"
    },
    "collapsed": false,
    "jupyter": {
     "outputs_hidden": false
    }
   },
   "outputs": [
    {
     "data": {
      "text/plain": [
       "'2.13.0'"
      ]
     },
     "execution_count": 2,
     "metadata": {},
     "output_type": "execute_result"
    }
   ],
   "source": [
    "tf.__version__"
   ]
  },
  {
   "cell_type": "code",
   "execution_count": 3,
   "metadata": {
    "ExecuteTime": {
     "end_time": "2023-08-05T13:44:51.214287100Z",
     "start_time": "2023-08-05T13:44:49.620274400Z"
    },
    "collapsed": false,
    "jupyter": {
     "outputs_hidden": false
    }
   },
   "outputs": [],
   "source": [
    "import glob\n",
    "# import imageio\n",
    "import matplotlib.pyplot as plt\n",
    "import numpy as np\n",
    "import os\n",
    "import PIL\n",
    "# from tensorflow.python.keras import layers\n",
    "from tensorflow.keras import layers\n",
    "import time\n",
    "import nibabel as nib\n",
    "from tqdm import tqdm\n",
    "import gc\n",
    "\n",
    "from IPython import display\n",
    "\n",
    "import model"
   ]
  },
  {
   "cell_type": "code",
   "execution_count": 4,
   "metadata": {},
   "outputs": [
    {
     "name": "stdout",
     "output_type": "stream",
     "text": [
      "['390645', '545345', '106016', '120111', '101915', '351938', '705341']\n"
     ]
    }
   ],
   "source": [
    "subjects = [ f.name for f in os.scandir('./Data') if f.is_dir() and f.name != '.ipynb_checkpoints']\n",
    "\n",
    "print(subjects)"
   ]
  },
  {
   "cell_type": "code",
   "execution_count": 5,
   "metadata": {
    "ExecuteTime": {
     "end_time": "2023-08-05T14:00:04.659577500Z",
     "start_time": "2023-08-05T14:00:01.079241200Z"
    }
   },
   "outputs": [
    {
     "name": "stdout",
     "output_type": "stream",
     "text": [
      "Loading Subject 390645\n",
      "Loading Subject 545345\n",
      "Loading Subject 106016\n",
      "Loading Subject 120111\n",
      "Loading Subject 101915\n",
      "Loading Subject 351938\n",
      "Loading Subject 705341\n"
     ]
    }
   ],
   "source": [
    "subjects_lr = []\n",
    "subjects_hr = []\n",
    "subjects_masks = []\n",
    "\n",
    "for subj in subjects:\n",
    "\n",
    "    h4_imgs = []\n",
    "    h4_imgs_lr = []\n",
    "    dti_imgs = []\n",
    "    dti_imgs_lr = []\n",
    "\n",
    "    print(\"Loading Subject {}\".format(subj))\n",
    "    \n",
    "    for i in range(1,9):\n",
    "    \n",
    "        dti_data = np.array(nib.load(\"Data/{}/T1w/Diffusion/dt_all_{}.nii\".format(subj,i)).get_fdata())\n",
    "        dti_data_lr = np.array(nib.load(\"Data/{}/T1w/Diffusion/dt_all_lowres_2_{}.nii\".format(subj,i)).get_fdata())\n",
    "    \n",
    "        # if i > 1:\n",
    "        #     dti_data[dti_imgs[0] < 0] = 0\n",
    "        #     dti_data_lr[dti_imgs[0] < 0] = 0\n",
    "    \n",
    "        dti_imgs.append(dti_data)\n",
    "        dti_imgs_lr.append(dti_data_lr)\n",
    "    \n",
    "        dti_data = None\n",
    "        dti_data_lr = None\n",
    "    \n",
    "    for i in range(1,25):\n",
    "    \n",
    "        h4_data = np.array(nib.load(\"Data/{}/T1w/Diffusion/h4_all_{}.nii\".format(subj,str(i).zfill(2))).get_fdata())\n",
    "        h4_data_lr = np.array(nib.load(\"Data/{}/T1w/Diffusion/h4_all_lowres_2_{}.nii\".format(subj,str(i).zfill(2))).get_fdata())\n",
    "    \n",
    "        # if i > 1:\n",
    "        #     h4_data[h4_data[0] < 0] = 0\n",
    "        #     h4_data_lr[h4_data[0] < 0] = 0\n",
    "        \n",
    "        h4_imgs.append(h4_data)\n",
    "        h4_imgs_lr.append(h4_data_lr)\n",
    "    \n",
    "        h4_data = None\n",
    "        h4_data_lr = None\n",
    "    \n",
    "    h4_imgs = np.array(h4_imgs).transpose((1,2,3,0))\n",
    "    h4_imgs_lr = np.array(h4_imgs_lr).transpose((1,2,3,0))\n",
    "    \n",
    "    dti_imgs = np.array(dti_imgs).transpose((1,2,3,0))\n",
    "    dti_imgs_lr = np.array(dti_imgs_lr).transpose((1,2,3,0))\n",
    "    \n",
    "    t1w = nib.load(\"Data/{}/T1w/Diffusion/t1w.nii\".format(subj))\n",
    "    \n",
    "    t1w_data = np.array(t1w.get_fdata())\n",
    "    \n",
    "    t1w_data_format = np.concatenate(\n",
    "        (t1w_data[::2,::2,::2, None], t1w_data[::2,::2,1::2, None],\n",
    "         t1w_data[::2,1::2,::2, None], t1w_data[::2,1::2,1::2, None],\n",
    "         t1w_data[1::2,::2,::2, None], t1w_data[1::2,::2,1::2, None],\n",
    "         t1w_data[1::2,1::2,::2, None], t1w_data[1::2,1::2,1::2, None]),\n",
    "        axis=-1)\n",
    "    \n",
    "    # lowres_input = np.concatenate((h4_imgs_lr[...,2:], dti_imgs_lr[...,2:], t1w_data_format), axis=-1)\n",
    "    lowres_input = np.concatenate((h4_imgs_lr[...,2:], dti_imgs_lr[...,2:]), axis=-1)\n",
    "    hires_output = h4_imgs[...,2:]\n",
    "    \n",
    "    mask = h4_imgs[...,0]\n",
    "\n",
    "    subjects_lr.append(lowres_input)\n",
    "    subjects_hr.append(hires_output)\n",
    "    subjects_masks.append(mask)\n"
   ]
  },
  {
   "cell_type": "code",
   "execution_count": 6,
   "metadata": {},
   "outputs": [
    {
     "data": {
      "text/plain": [
       "7"
      ]
     },
     "execution_count": 6,
     "metadata": {},
     "output_type": "execute_result"
    }
   ],
   "source": [
    "len(subjects_masks)"
   ]
  },
  {
   "cell_type": "code",
   "execution_count": 9,
   "metadata": {
    "ExecuteTime": {
     "end_time": "2023-08-05T15:25:06.718078900Z",
     "start_time": "2023-08-05T15:25:06.534741600Z"
    },
    "collapsed": false,
    "jupyter": {
     "outputs_hidden": false
    }
   },
   "outputs": [
    {
     "name": "stdout",
     "output_type": "stream",
     "text": [
      "(None, 5, 5, 5, 22)\n",
      "(None, 1)\n"
     ]
    }
   ],
   "source": [
    "def make_discriminator_model():\n",
    "    model = tf.keras.Sequential()\n",
    "    model.add(layers.Conv3D(64, (5, 5, 5), strides=(2, 2, 2), padding='same',\n",
    "                                     input_shape=[5, 5, 5, 22]))\n",
    "    model.add(layers.BatchNormalization())\n",
    "    model.add(layers.LeakyReLU())\n",
    "    # model.add(layers.Dropout(0.3))\n",
    "\n",
    "    # print(model.input_shape, model.output_shape)\\n\",\n",
    "\n",
    "    model.add(layers.Conv3D(128, (5, 5, 5), strides=(2, 2, 2), padding='same'))\n",
    "    model.add(layers.BatchNormalization())\n",
    "    model.add(layers.LeakyReLU())\n",
    "    # model.add(layers.Dropout(0.3))\n",
    "\n",
    "    # print(model.output_shape)\\n\",\n",
    "\n",
    "    model.add(layers.Flatten())\n",
    "    model.add(layers.Dense(1))\n",
    "\n",
    "    print(model.output_shape)\n",
    "\n",
    "    return model\n",
    "\n",
    "\n",
    "\n",
    "# input_layer = tf.keras.Input(shape=(32, 32, 32, 36))\n",
    "# output_layer = model.unet3d(input_layer, 36)\n",
    "\n",
    "# generator = tf.keras.Model(input_layer, output_layer)\n",
    "generator = model.simple_generator(28,22)\n",
    "discriminator = model.simple_discriminator(22)"
   ]
  },
  {
   "cell_type": "code",
   "execution_count": 11,
   "metadata": {
    "ExecuteTime": {
     "end_time": "2023-08-05T15:25:20.132796Z",
     "start_time": "2023-08-05T15:25:19.905025Z"
    },
    "collapsed": false,
    "jupyter": {
     "outputs_hidden": false
    }
   },
   "outputs": [
    {
     "name": "stderr",
     "output_type": "stream",
     "text": [
      "2023-08-09 15:53:50.571928: I tensorflow/compiler/xla/stream_executor/cuda/cuda_blas.cc:606] TensorFloat-32 will be used for the matrix multiplication. This will only be logged once.\n",
      "2023-08-09 15:53:50.685120: I tensorflow/compiler/xla/stream_executor/cuda/cuda_dnn.cc:432] Loaded cuDNN version 8600\n"
     ]
    },
    {
     "name": "stdout",
     "output_type": "stream",
     "text": [
      "(1, 5, 5, 5, 22)\n"
     ]
    },
    {
     "data": {
      "text/plain": [
       "<matplotlib.image.AxesImage at 0x7fba4c18a510>"
      ]
     },
     "execution_count": 11,
     "metadata": {},
     "output_type": "execute_result"
    },
    {
     "data": {
      "image/png": "[encoded data removed]",
      "text/plain": [
       "<Figure size 640x480 with 1 Axes>"
      ]
     },
     "metadata": {},
     "output_type": "display_data"
    }
   ],
   "source": [
    "noise = tf.random.normal([1,11,11,11,28])\n",
    "generated_image = generator(noise, training=False)\n",
    "\n",
    "print(generated_image.shape)\n",
    "\n",
    "plt.imshow(generated_image[0, :, :, 0, 0], cmap='gray')"
   ]
  },
  {
   "cell_type": "code",
   "execution_count": 12,
   "metadata": {
    "ExecuteTime": {
     "end_time": "2023-08-05T14:18:21.291398100Z",
     "start_time": "2023-08-05T14:18:21.254969700Z"
    },
    "collapsed": false,
    "jupyter": {
     "outputs_hidden": false
    }
   },
   "outputs": [],
   "source": [
    "cross_entropy = tf.keras.losses.BinaryCrossentropy(from_logits=True)\n",
    "\n",
    "def discriminator_loss(real_output, fake_output):\n",
    "    real_loss = cross_entropy(tf.ones_like(real_output), real_output)\n",
    "    fake_loss = cross_entropy(tf.zeros_like(fake_output), fake_output)\n",
    "    total_loss = real_loss + fake_loss\n",
    "    return total_loss\n",
    "\n",
    "def generator_loss(fake_output):\n",
    "    return cross_entropy(tf.ones_like(fake_output), fake_output)"
   ]
  },
  {
   "cell_type": "code",
   "execution_count": 13,
   "metadata": {
    "ExecuteTime": {
     "end_time": "2023-08-05T14:18:25.658937200Z",
     "start_time": "2023-08-05T14:18:25.629596Z"
    },
    "collapsed": false,
    "jupyter": {
     "outputs_hidden": false
    }
   },
   "outputs": [],
   "source": [
    "generator_optimizer = tf.keras.optimizers.Adam(1e-4)\n",
    "discriminator_optimizer = tf.keras.optimizers.Adam(1e-4)"
   ]
  },
  {
   "cell_type": "code",
   "execution_count": 14,
   "metadata": {
    "ExecuteTime": {
     "end_time": "2023-08-05T14:18:26.774030800Z",
     "start_time": "2023-08-05T14:18:26.725560700Z"
    },
    "collapsed": false,
    "jupyter": {
     "outputs_hidden": false
    }
   },
   "outputs": [],
   "source": [
    "checkpoint_dir = './training_checkpoints_unet'\n",
    "checkpoint_prefix = os.path.join(checkpoint_dir, \"ckpt\")\n",
    "checkpoint = tf.train.Checkpoint(generator_optimizer=generator_optimizer,\n",
    "                                 discriminator_optimizer=discriminator_optimizer,\n",
    "                                 generator=generator,\n",
    "                                 discriminator=discriminator)"
   ]
  },
  {
   "cell_type": "code",
   "execution_count": 15,
   "metadata": {
    "ExecuteTime": {
     "end_time": "2023-08-05T14:31:31.474922300Z",
     "start_time": "2023-08-05T14:31:31.453950800Z"
    },
    "collapsed": false,
    "jupyter": {
     "outputs_hidden": false
    }
   },
   "outputs": [],
   "source": [
    "@tf.function\n",
    "def train_step(lr_patch, hr_patch):\n",
    "\n",
    "    with tf.GradientTape() as gen_tape, tf.GradientTape() as disc_tape:\n",
    "      generated_images = generator(lr_patch, training=True)\n",
    "\n",
    "      real_output = discriminator(hr_patch, training=True)\n",
    "      fake_output = discriminator(generated_images, training=True)\n",
    "\n",
    "      gen_loss = generator_loss(fake_output)\n",
    "      disc_loss = discriminator_loss(real_output, fake_output)\n",
    "\n",
    "    gradients_of_generator = gen_tape.gradient(gen_loss, generator.trainable_variables)\n",
    "    gradients_of_discriminator = disc_tape.gradient(disc_loss, discriminator.trainable_variables)\n",
    "\n",
    "    generator_optimizer.apply_gradients(zip(gradients_of_generator, generator.trainable_variables))\n",
    "    discriminator_optimizer.apply_gradients(zip(gradients_of_discriminator, discriminator.trainable_variables))\n",
    "\n",
    "    return gen_loss, disc_loss"
   ]
  },
  {
   "cell_type": "code",
   "execution_count": 16,
   "metadata": {
    "ExecuteTime": {
     "end_time": "2023-08-05T15:37:15.289028100Z",
     "start_time": "2023-08-05T15:37:15.270842400Z"
    },
    "collapsed": false,
    "jupyter": {
     "outputs_hidden": false
    }
   },
   "outputs": [],
   "source": [
    "def train(dataset, epochs):\n",
    "  for epoch in range(epochs):\n",
    "    start = time.time()\n",
    "\n",
    "    print(\"Epoch: {}\".format(epoch+1))\n",
    "\n",
    "\n",
    "    mean_g_loss = 0.0\n",
    "    mean_d_loss = 0.0\n",
    "      \n",
    "    for patch in tqdm(dataset):\n",
    "\n",
    "      # lr_patch = lr_patches[p][None,...]\n",
    "\n",
    "      # hr_patch = hr_patches[p][None,...]\n",
    "\n",
    "      lr_patch = patch[0][None,...]\n",
    "      hr_patch = patch[1][None,...]\n",
    "        \n",
    "      g_loss, d_loss = train_step(lr_patch, hr_patch)\n",
    "\n",
    "      mean_g_loss = mean_g_loss + g_loss\n",
    "      mean_d_loss = mean_d_loss + d_loss\n",
    "      \n",
    "    # Produce images for the GIF as you go\n",
    "    # display.clear_output(wait=True)\n",
    "    # generate_and_save_images(generator,\n",
    "    #                          epoch + 1,\n",
    "    #                          seed)\n",
    "\n",
    "    # Save the model every 5 epochs\n",
    "    if (epoch + 1) % 5 == 0:\n",
    "      checkpoint.save(file_prefix = checkpoint_prefix)\n",
    "\n",
    "    print('Generator Loss is {}'.format(float(mean_g_loss/len(dataset))))\n",
    "    print('Discriminator Loss is {}'.format(float(mean_d_loss/len(dataset))))\n",
    "      \n",
    "    print ('Time for epoch {} is {} sec'.format(epoch + 1, time.time()-start))\n",
    "\n",
    "  # Generate after the final epoch\n",
    "  # display.clear_output(wait=True)\n",
    "  # generate_and_save_images(generator,\n",
    "  #                          epochs,\n",
    "  #                          seed)"
   ]
  },
  {
   "cell_type": "code",
   "execution_count": 17,
   "metadata": {},
   "outputs": [],
   "source": [
    "# subjects_lr\n",
    "# subjects_hr\n",
    "# subjects_masks"
   ]
  },
  {
   "cell_type": "code",
   "execution_count": 18,
   "metadata": {},
   "outputs": [],
   "source": [
    "(xsize, ysize, zsize, comp) = subjects_lr[0].shape\n",
    "\n",
    "e_or_o = 1\n",
    "\n",
    "p_size_i = 5\n",
    "p_size_o = 2\n",
    "\n",
    "# split_indices = [(i, j, k)\n",
    "#                  for k in np.arange(p_size_i+1,zsize-p_size_i+1,2*p_size_o+1)       \n",
    "#                  for j in np.arange(p_size_i+1,ysize-p_size_i+1,2*p_size_o+1)\n",
    "#                  for i in np.arange(p_size_i+1,xsize-p_size_i+1,2*p_size_o+1)\n",
    "#                 ]\n",
    "\n",
    "split_indices = [(i, j, k)\n",
    "                 for k in np.arange(p_size_i+1,zsize-p_size_i+e_or_o,2*p_size_o+e_or_o)       \n",
    "                 for j in np.arange(p_size_i+1,ysize-p_size_i+e_or_o,2*p_size_o+e_or_o)\n",
    "                 for i in np.arange(p_size_i+1,xsize-p_size_i+e_or_o,2*p_size_o+e_or_o)\n",
    "                ]\n",
    "\n",
    "sel_indices = []\n",
    "\n",
    "for s in range(len(subjects_lr)):\n",
    "    for (i, j, k) in split_indices:\n",
    "        ipatch_mask = subjects_masks[s][\n",
    "            i - p_size_o - e_or_o : i + p_size_o,\n",
    "            j - p_size_o - e_or_o : j + p_size_o,\n",
    "            k - p_size_o - e_or_o : k + p_size_o]\n",
    "    \n",
    "        if np.max(ipatch_mask) >= 0:\n",
    "            sel_indices.append((s,i,j,k))\n",
    "\n",
    "sel_indices = np.array(sel_indices)"
   ]
  },
  {
   "cell_type": "code",
   "execution_count": 19,
   "metadata": {},
   "outputs": [
    {
     "data": {
      "text/plain": [
       "array([[ 46,  51,  11],\n",
       "       [ 51,  51,  11],\n",
       "       [ 56,  51,  11],\n",
       "       ...,\n",
       "       [ 91,  96, 111],\n",
       "       [ 86, 101, 111],\n",
       "       [ 91, 101, 111]])"
      ]
     },
     "execution_count": 19,
     "metadata": {},
     "output_type": "execute_result"
    }
   ],
   "source": [
    "sel_indices[np.where(sel_indices[:,0]==0),1:].squeeze()"
   ]
  },
  {
   "cell_type": "code",
   "execution_count": 20,
   "metadata": {
    "ExecuteTime": {
     "end_time": "2023-08-05T15:12:17.451690300Z",
     "start_time": "2023-08-05T15:12:17.408116500Z"
    },
    "collapsed": false,
    "jupyter": {
     "outputs_hidden": false
    }
   },
   "outputs": [
    {
     "name": "stdout",
     "output_type": "stream",
     "text": [
      "50697\n"
     ]
    }
   ],
   "source": [
    "print(len(sel_indices))"
   ]
  },
  {
   "cell_type": "code",
   "execution_count": 21,
   "metadata": {
    "ExecuteTime": {
     "end_time": "2023-08-05T15:34:30.971046400Z",
     "start_time": "2023-08-05T15:33:42.907784100Z"
    },
    "collapsed": false,
    "jupyter": {
     "outputs_hidden": false
    }
   },
   "outputs": [],
   "source": [
    "# lr_patches = np.array([lowres_input[\n",
    "#                        valid_indices[n,0]-2:valid_indices[n,0]+3,\n",
    "#                        valid_indices[n,1]-2:valid_indices[n,1]+3,\n",
    "#                        valid_indices[n,2]-2:valid_indices[n,2]+3, :]\n",
    "#                        for n in choice_indices])\n",
    "\n",
    "# hr_patches = np.array([hires_output[\n",
    "#                        valid_indices[n,0]-2:valid_indices[n,0]+3,\n",
    "#                        valid_indices[n,1]-2:valid_indices[n,1]+3,\n",
    "#                        valid_indices[n,2]-2:valid_indices[n,2]+3, :]\n",
    "#                        for n in choice_indices])"
   ]
  },
  {
   "cell_type": "code",
   "execution_count": 22,
   "metadata": {},
   "outputs": [
    {
     "name": "stdout",
     "output_type": "stream",
     "text": [
      "0\n",
      "1\n",
      "2\n",
      "3\n",
      "4\n",
      "5\n",
      "6\n"
     ]
    }
   ],
   "source": [
    "for s in range(7):\n",
    "    print(s)"
   ]
  },
  {
   "cell_type": "code",
   "execution_count": null,
   "metadata": {
    "ExecuteTime": {
     "end_time": "2023-08-05T15:37:17.483885900Z",
     "start_time": "2023-08-05T15:37:17.435327300Z"
    },
    "collapsed": false,
    "jupyter": {
     "outputs_hidden": false
    }
   },
   "outputs": [
    {
     "name": "stdout",
     "output_type": "stream",
     "text": [
      "Subject 1\n",
      "Epoch: 1\n"
     ]
    },
    {
     "name": "stderr",
     "output_type": "stream",
     "text": [
      "  0%|                                                  | 0/6698 [00:00<?, ?it/s]2023-08-09 15:54:05.528898: I tensorflow/compiler/xla/service/service.cc:168] XLA service 0x7faf72d1f180 initialized for platform CUDA (this does not guarantee that XLA will be used). Devices:\n",
      "2023-08-09 15:54:05.528920: I tensorflow/compiler/xla/service/service.cc:176]   StreamExecutor device (0): NVIDIA GeForce RTX 3090 Ti, Compute Capability 8.6\n",
      "2023-08-09 15:54:05.532581: I tensorflow/compiler/mlir/tensorflow/utils/dump_mlir_util.cc:255] disabling MLIR crash reproducer, set env var `MLIR_CRASH_REPRODUCER_DIRECTORY` to enable.\n",
      "2023-08-09 15:54:05.700758: I ./tensorflow/compiler/jit/device_compiler.h:186] Compiled cluster using XLA!  This line is logged at most once for the lifetime of the process.\n",
      "100%|██████████████████████████████████████| 6698/6698 [00:46<00:00, 142.64it/s]\n"
     ]
    },
    {
     "name": "stdout",
     "output_type": "stream",
     "text": [
      "Generator Loss is 3.794128656387329\n",
      "Discriminator Loss is 0.4125991761684418\n",
      "Time for epoch 1 is 46.97360706329346 sec\n",
      "Epoch: 2\n"
     ]
    },
    {
     "name": "stderr",
     "output_type": "stream",
     "text": [
      "100%|██████████████████████████████████████| 6698/6698 [00:36<00:00, 181.94it/s]\n"
     ]
    },
    {
     "name": "stdout",
     "output_type": "stream",
     "text": [
      "Generator Loss is 5.453303337097168\n",
      "Discriminator Loss is 0.16570453345775604\n",
      "Time for epoch 2 is 36.816126585006714 sec\n",
      "Epoch: 3\n"
     ]
    },
    {
     "name": "stderr",
     "output_type": "stream",
     "text": [
      "100%|██████████████████████████████████████| 6698/6698 [00:46<00:00, 142.89it/s]\n"
     ]
    },
    {
     "name": "stdout",
     "output_type": "stream",
     "text": [
      "Generator Loss is 5.7815775871276855\n",
      "Discriminator Loss is 0.13743914663791656\n",
      "Time for epoch 3 is 46.879265785217285 sec\n",
      "Epoch: 4\n"
     ]
    },
    {
     "name": "stderr",
     "output_type": "stream",
     "text": [
      "100%|██████████████████████████████████████| 6698/6698 [00:51<00:00, 130.69it/s]\n"
     ]
    },
    {
     "name": "stdout",
     "output_type": "stream",
     "text": [
      "Generator Loss is 6.057384967803955\n",
      "Discriminator Loss is 0.10834485292434692\n",
      "Time for epoch 4 is 51.254565715789795 sec\n",
      "Epoch: 5\n"
     ]
    },
    {
     "name": "stderr",
     "output_type": "stream",
     "text": [
      "100%|██████████████████████████████████████| 6698/6698 [00:55<00:00, 121.51it/s]\n"
     ]
    },
    {
     "name": "stdout",
     "output_type": "stream",
     "text": [
      "Generator Loss is 6.512029647827148\n",
      "Discriminator Loss is 0.10350717604160309\n",
      "Time for epoch 5 is 55.43704581260681 sec\n",
      "Epoch: 6\n"
     ]
    },
    {
     "name": "stderr",
     "output_type": "stream",
     "text": [
      "100%|██████████████████████████████████████| 6698/6698 [00:34<00:00, 192.14it/s]\n"
     ]
    },
    {
     "name": "stdout",
     "output_type": "stream",
     "text": [
      "Generator Loss is 6.340606212615967\n",
      "Discriminator Loss is 0.11248569935560226\n",
      "Time for epoch 6 is 34.86279916763306 sec\n",
      "Epoch: 7\n"
     ]
    },
    {
     "name": "stderr",
     "output_type": "stream",
     "text": [
      "100%|██████████████████████████████████████| 6698/6698 [00:42<00:00, 158.86it/s]\n"
     ]
    },
    {
     "name": "stdout",
     "output_type": "stream",
     "text": [
      "Generator Loss is 6.765336990356445\n",
      "Discriminator Loss is 0.10387341678142548\n",
      "Time for epoch 7 is 42.16503047943115 sec\n",
      "Epoch: 8\n"
     ]
    },
    {
     "name": "stderr",
     "output_type": "stream",
     "text": [
      "100%|██████████████████████████████████████| 6698/6698 [00:33<00:00, 197.21it/s]\n"
     ]
    },
    {
     "name": "stdout",
     "output_type": "stream",
     "text": [
      "Generator Loss is 6.647307872772217\n",
      "Discriminator Loss is 0.11321723461151123\n",
      "Time for epoch 8 is 33.96835803985596 sec\n",
      "Epoch: 9\n"
     ]
    },
    {
     "name": "stderr",
     "output_type": "stream",
     "text": [
      "100%|██████████████████████████████████████| 6698/6698 [00:40<00:00, 164.42it/s]\n"
     ]
    },
    {
     "name": "stdout",
     "output_type": "stream",
     "text": [
      "Generator Loss is 6.7939043045043945\n",
      "Discriminator Loss is 0.09943915158510208\n",
      "Time for epoch 9 is 40.74214506149292 sec\n",
      "Epoch: 10\n"
     ]
    },
    {
     "name": "stderr",
     "output_type": "stream",
     "text": [
      "100%|██████████████████████████████████████| 6698/6698 [00:50<00:00, 132.58it/s]\n"
     ]
    },
    {
     "name": "stdout",
     "output_type": "stream",
     "text": [
      "Generator Loss is 6.615784168243408\n",
      "Discriminator Loss is 0.11024005711078644\n",
      "Time for epoch 10 is 50.79148316383362 sec\n",
      "Epoch: 11\n"
     ]
    },
    {
     "name": "stderr",
     "output_type": "stream",
     "text": [
      "100%|██████████████████████████████████████| 6698/6698 [00:57<00:00, 115.70it/s]\n"
     ]
    },
    {
     "name": "stdout",
     "output_type": "stream",
     "text": [
      "Generator Loss is 6.979010105133057\n",
      "Discriminator Loss is 0.09481122344732285\n",
      "Time for epoch 11 is 57.90092420578003 sec\n",
      "Epoch: 12\n"
     ]
    },
    {
     "name": "stderr",
     "output_type": "stream",
     "text": [
      "100%|██████████████████████████████████████| 6698/6698 [00:54<00:00, 123.96it/s]\n"
     ]
    },
    {
     "name": "stdout",
     "output_type": "stream",
     "text": [
      "Generator Loss is 7.136475086212158\n",
      "Discriminator Loss is 0.09960895031690598\n",
      "Time for epoch 12 is 54.0384783744812 sec\n",
      "Epoch: 13\n"
     ]
    },
    {
     "name": "stderr",
     "output_type": "stream",
     "text": [
      "100%|██████████████████████████████████████| 6698/6698 [00:53<00:00, 124.10it/s]\n"
     ]
    },
    {
     "name": "stdout",
     "output_type": "stream",
     "text": [
      "Generator Loss is 6.947943687438965\n",
      "Discriminator Loss is 0.10135313868522644\n",
      "Time for epoch 13 is 53.97526550292969 sec\n",
      "Epoch: 14\n"
     ]
    },
    {
     "name": "stderr",
     "output_type": "stream",
     "text": [
      "100%|██████████████████████████████████████| 6698/6698 [00:52<00:00, 128.41it/s]\n"
     ]
    },
    {
     "name": "stdout",
     "output_type": "stream",
     "text": [
      "Generator Loss is 7.05593204498291\n",
      "Discriminator Loss is 0.10642238706350327\n",
      "Time for epoch 14 is 52.16620421409607 sec\n",
      "Epoch: 15\n"
     ]
    },
    {
     "name": "stderr",
     "output_type": "stream",
     "text": [
      "100%|██████████████████████████████████████| 6698/6698 [00:39<00:00, 171.08it/s]\n"
     ]
    },
    {
     "name": "stdout",
     "output_type": "stream",
     "text": [
      "Generator Loss is 7.388725757598877\n",
      "Discriminator Loss is 0.09946480393409729\n",
      "Time for epoch 15 is 39.40572118759155 sec\n",
      "Epoch: 16\n"
     ]
    },
    {
     "name": "stderr",
     "output_type": "stream",
     "text": [
      "100%|██████████████████████████████████████| 6698/6698 [00:34<00:00, 191.41it/s]\n"
     ]
    },
    {
     "name": "stdout",
     "output_type": "stream",
     "text": [
      "Generator Loss is 7.370419979095459\n",
      "Discriminator Loss is 0.10821406543254852\n",
      "Time for epoch 16 is 34.99680781364441 sec\n",
      "Epoch: 17\n"
     ]
    },
    {
     "name": "stderr",
     "output_type": "stream",
     "text": [
      "100%|██████████████████████████████████████| 6698/6698 [00:50<00:00, 132.79it/s]\n"
     ]
    },
    {
     "name": "stdout",
     "output_type": "stream",
     "text": [
      "Generator Loss is 7.35758638381958\n",
      "Discriminator Loss is 0.09851254522800446\n",
      "Time for epoch 17 is 50.44231724739075 sec\n",
      "Epoch: 18\n"
     ]
    },
    {
     "name": "stderr",
     "output_type": "stream",
     "text": [
      "100%|██████████████████████████████████████| 6698/6698 [00:54<00:00, 123.81it/s]\n"
     ]
    },
    {
     "name": "stdout",
     "output_type": "stream",
     "text": [
      "Generator Loss is 7.530090808868408\n",
      "Discriminator Loss is 0.09329572319984436\n",
      "Time for epoch 18 is 54.10393786430359 sec\n",
      "Epoch: 19\n"
     ]
    },
    {
     "name": "stderr",
     "output_type": "stream",
     "text": [
      "100%|██████████████████████████████████████| 6698/6698 [00:39<00:00, 171.33it/s]\n"
     ]
    },
    {
     "name": "stdout",
     "output_type": "stream",
     "text": [
      "Generator Loss is 7.712492942810059\n",
      "Discriminator Loss is 0.0832354873418808\n",
      "Time for epoch 19 is 39.09783172607422 sec\n",
      "Epoch: 20\n"
     ]
    },
    {
     "name": "stderr",
     "output_type": "stream",
     "text": [
      "100%|██████████████████████████████████████| 6698/6698 [00:34<00:00, 193.83it/s]\n"
     ]
    },
    {
     "name": "stdout",
     "output_type": "stream",
     "text": [
      "Generator Loss is 7.502912998199463\n",
      "Discriminator Loss is 0.1016966924071312\n",
      "Time for epoch 20 is 34.79910731315613 sec\n",
      "Epoch: 21\n"
     ]
    },
    {
     "name": "stderr",
     "output_type": "stream",
     "text": [
      "100%|██████████████████████████████████████| 6698/6698 [00:36<00:00, 184.21it/s]\n"
     ]
    },
    {
     "name": "stdout",
     "output_type": "stream",
     "text": [
      "Generator Loss is 7.517480850219727\n",
      "Discriminator Loss is 0.08946184813976288\n",
      "Time for epoch 21 is 36.36531209945679 sec\n",
      "Epoch: 22\n"
     ]
    },
    {
     "name": "stderr",
     "output_type": "stream",
     "text": [
      "100%|██████████████████████████████████████| 6698/6698 [00:42<00:00, 158.76it/s]\n"
     ]
    },
    {
     "name": "stdout",
     "output_type": "stream",
     "text": [
      "Generator Loss is 7.489590644836426\n",
      "Discriminator Loss is 0.09947002679109573\n",
      "Time for epoch 22 is 42.19058418273926 sec\n",
      "Epoch: 23\n"
     ]
    },
    {
     "name": "stderr",
     "output_type": "stream",
     "text": [
      "100%|██████████████████████████████████████| 6698/6698 [01:04<00:00, 104.25it/s]\n"
     ]
    },
    {
     "name": "stdout",
     "output_type": "stream",
     "text": [
      "Generator Loss is 7.600326061248779\n",
      "Discriminator Loss is 0.08552637696266174\n",
      "Time for epoch 23 is 64.25510597229004 sec\n",
      "Epoch: 24\n"
     ]
    },
    {
     "name": "stderr",
     "output_type": "stream",
     "text": [
      "100%|██████████████████████████████████████| 6698/6698 [00:55<00:00, 120.25it/s]\n"
     ]
    },
    {
     "name": "stdout",
     "output_type": "stream",
     "text": [
      "Generator Loss is 7.734912872314453\n",
      "Discriminator Loss is 0.08744547516107559\n",
      "Time for epoch 24 is 55.7032356262207 sec\n",
      "Epoch: 25\n"
     ]
    },
    {
     "name": "stderr",
     "output_type": "stream",
     "text": [
      "100%|██████████████████████████████████████| 6698/6698 [00:47<00:00, 140.23it/s]\n"
     ]
    },
    {
     "name": "stdout",
     "output_type": "stream",
     "text": [
      "Generator Loss is 7.8983378410339355\n",
      "Discriminator Loss is 0.0889589786529541\n",
      "Time for epoch 25 is 48.00338315963745 sec\n",
      "Epoch: 26\n"
     ]
    },
    {
     "name": "stderr",
     "output_type": "stream",
     "text": [
      "100%|██████████████████████████████████████| 6698/6698 [00:25<00:00, 259.16it/s]\n"
     ]
    },
    {
     "name": "stdout",
     "output_type": "stream",
     "text": [
      "Generator Loss is 7.503989219665527\n",
      "Discriminator Loss is 0.10911465436220169\n",
      "Time for epoch 26 is 25.84629511833191 sec\n",
      "Epoch: 27\n"
     ]
    },
    {
     "name": "stderr",
     "output_type": "stream",
     "text": [
      " 72%|███████████████████████████▎          | 4809/6698 [00:25<00:11, 166.22it/s]"
     ]
    }
   ],
   "source": [
    "for s in range(7):\n",
    "\n",
    "    print(\"Subject {}\".format(s+1))\n",
    "\n",
    "    lr_patches = np.array([subjects_lr[s][\n",
    "                                i - p_size_i - 1 : i + p_size_i,\n",
    "                                j - p_size_i - 1 : j + p_size_i,\n",
    "                                k - p_size_i - 1 : k + p_size_i, :]\n",
    "                           for (i,j,k) in sel_indices[np.where(sel_indices[:,0]==s),1:].squeeze()])\n",
    "    \n",
    "    hr_patches = np.array([subjects_hr[s][\n",
    "                                i - p_size_o - e_or_o : i + p_size_o,\n",
    "                                j - p_size_o - e_or_o : j + p_size_o,\n",
    "                                k - p_size_o - e_or_o : k + p_size_o, :]\n",
    "                           for (i,j,k) in sel_indices[np.where(sel_indices[:,0]==s),1:].squeeze()])\n",
    "\n",
    "# lr_patches = np.array([subjects_lr[s][\n",
    "#                             i - p_size_i - e_or_o : i + p_size_i,\n",
    "#                             j - p_size_i - e_or_o : j + p_size_i,\n",
    "#                             k - p_size_i - e_or_o : k + p_size_i, :]\n",
    "#                        # for (i,j,k) in sel_indices[np.where(sel_indices[:,0]==s),1:].squeeze()])\n",
    "#                        for (s,i,j,k) in sel_indices])\n",
    "\n",
    "# hr_patches = np.array([subjects_hr[s][\n",
    "#                             i - p_size_o - e_or_o : i + p_size_o,\n",
    "#                             j - p_size_o - e_or_o : j + p_size_o,\n",
    "#                             k - p_size_o - e_or_o : k + p_size_o, :]\n",
    "#                        # for (i,j,k) in sel_indices[np.where(sel_indices[:,0]==s),1:].squeeze()])\n",
    "#                        for (s,i,j,k) in sel_indices])\n",
    "\n",
    "    dataset = tf.data.Dataset.from_tensor_slices((lr_patches, hr_patches))\n",
    "    \n",
    "    train(dataset, 50)"
   ]
  },
  {
   "cell_type": "code",
   "execution_count": null,
   "metadata": {},
   "outputs": [],
   "source": [
    "result_image = np.zeros(hires_output.shape)"
   ]
  },
  {
   "cell_type": "code",
   "execution_count": null,
   "metadata": {},
   "outputs": [],
   "source": [
    "result_image.shape"
   ]
  },
  {
   "cell_type": "code",
   "execution_count": null,
   "metadata": {},
   "outputs": [],
   "source": [
    "# subjects_lr\n",
    "# subjects_hr\n",
    "# subjects_masks\n",
    "\n",
    "for (i, j, k) in tqdm(sel_indices[np.where(sel_indices[:,0]==6),1:].squeeze()):\n",
    "\n",
    "    lr_patch = subjects_lr[6][\n",
    "                            i - p_size_i - e_or_o : i + p_size_i,\n",
    "                            j - p_size_i - e_or_o : j + p_size_i,\n",
    "                            k - p_size_i - e_or_o : k + p_size_i, :]\n",
    "\n",
    "    generated_image = generator(lr_patch[None,...], training=False)\n",
    "\n",
    "    result_image[i - p_size_o - e_or_o : i + p_size_o,\n",
    "                 j - p_size_o - e_or_o : j + p_size_o,\n",
    "                 k - p_size_o - e_or_o : k + p_size_o, :] = generated_image\n",
    "\n",
    "result_image[subjects_masks[6] < 0] = 0\n",
    "    "
   ]
  },
  {
   "cell_type": "code",
   "execution_count": null,
   "metadata": {},
   "outputs": [],
   "source": [
    "zdim = 60\n",
    "channel = 0\n",
    "\n",
    "plt.imshow(subjects_lr[6][:,:,zdim,channel], cmap='gray')\n",
    "plt.figure()\n",
    "plt.imshow(subjects_hr[6][:,:,zdim,channel], cmap='gray')\n",
    "plt.figure()\n",
    "plt.imshow(result_image[:,:,zdim,channel], cmap='gray')"
   ]
  },
  {
   "cell_type": "code",
   "execution_count": null,
   "metadata": {},
   "outputs": [],
   "source": [
    "plt.imshow(subjects_lr[6][40:80,60:120,zdim,channel], cmap='gray')\n",
    "plt.figure()\n",
    "plt.imshow(subjects_hr[6][40:80,60:120,zdim,channel], cmap='gray')\n",
    "plt.figure()\n",
    "plt.imshow(result_image[40:80,60:120,zdim,channel], cmap='gray')"
   ]
  },
  {
   "cell_type": "code",
   "execution_count": null,
   "metadata": {},
   "outputs": [],
   "source": [
    "# generator.save_weights('Model/gen_weights')\n",
    "# discriminator.save_weights('Model/disc_weights')"
   ]
  },
  {
   "cell_type": "code",
   "execution_count": null,
   "metadata": {},
   "outputs": [],
   "source": [
    "generator.save('Model/generator_not1.keras')\n",
    "discriminator.save('Model/discriminator_not1.keras')"
   ]
  }
 ],
 "metadata": {
  "kernelspec": {
   "display_name": "Python 3 (ipykernel)",
   "language": "python",
   "name": "python3"
  },
  "language_info": {
   "codemirror_mode": {
    "name": "ipython",
    "version": 3
   },
   "file_extension": ".py",
   "mimetype": "text/x-python",
   "name": "python",
   "nbconvert_exporter": "python",
   "pygments_lexer": "ipython3",
   "version": "3.11.4"
  }
 },
 "nbformat": 4,
 "nbformat_minor": 4
}
