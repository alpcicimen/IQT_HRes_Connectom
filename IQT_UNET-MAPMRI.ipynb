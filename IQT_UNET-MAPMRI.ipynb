{
 "cells": [
  {
   "cell_type": "code",
   "execution_count": 1,
   "metadata": {
    "ExecuteTime": {
     "end_time": "2023-08-05T13:44:49.616254700Z",
     "start_time": "2023-08-05T13:44:43.055344700Z"
    }
   },
   "outputs": [
    {
     "name": "stderr",
     "output_type": "stream",
     "text": [
      "2023-08-23 16:34:52.487409: I tensorflow/core/util/port.cc:110] oneDNN custom operations are on. You may see slightly different numerical results due to floating-point round-off errors from different computation orders. To turn them off, set the environment variable `TF_ENABLE_ONEDNN_OPTS=0`.\n",
      "2023-08-23 16:34:52.531555: I tensorflow/core/platform/cpu_feature_guard.cc:182] This TensorFlow binary is optimized to use available CPU instructions in performance-critical operations.\n",
      "To enable the following instructions: AVX2 AVX_VNNI FMA, in other operations, rebuild TensorFlow with the appropriate compiler flags.\n",
      "2023-08-23 16:34:53.915314: W tensorflow/compiler/tf2tensorrt/utils/py_utils.cc:38] TF-TRT Warning: Could not find TensorRT\n"
     ]
    }
   ],
   "source": [
    "import tensorflow as tf"
   ]
  },
  {
   "cell_type": "code",
   "execution_count": 2,
   "metadata": {
    "ExecuteTime": {
     "end_time": "2023-08-05T13:44:49.635699800Z",
     "start_time": "2023-08-05T13:44:49.617799900Z"
    },
    "collapsed": false,
    "jupyter": {
     "outputs_hidden": false
    }
   },
   "outputs": [
    {
     "data": {
      "text/plain": [
       "'2.13.0'"
      ]
     },
     "execution_count": 2,
     "metadata": {},
     "output_type": "execute_result"
    }
   ],
   "source": [
    "tf.__version__"
   ]
  },
  {
   "cell_type": "code",
   "execution_count": 3,
   "metadata": {
    "ExecuteTime": {
     "end_time": "2023-08-05T13:44:51.214287100Z",
     "start_time": "2023-08-05T13:44:49.620274400Z"
    },
    "collapsed": false,
    "jupyter": {
     "outputs_hidden": false
    }
   },
   "outputs": [],
   "source": [
    "import glob\n",
    "# import imageio\n",
    "import matplotlib.pyplot as plt\n",
    "import numpy as np\n",
    "import os\n",
    "import PIL\n",
    "# from tensorflow.python.keras import layers\n",
    "from tensorflow.keras import layers, activations\n",
    "import time\n",
    "import nibabel as nib\n",
    "from tqdm import tqdm\n",
    "import gc\n",
    "from scipy.ndimage import binary_erosion\n",
    "from IPython import display\n",
    "import datetime\n",
    "\n",
    "import model"
   ]
  },
  {
   "cell_type": "code",
   "execution_count": 13,
   "metadata": {},
   "outputs": [
    {
     "name": "stdout",
     "output_type": "stream",
     "text": [
      "['390645', '545345', '106016', '120111', '101915', '351938', '705341']\n"
     ]
    }
   ],
   "source": [
    "subjects = [ f.name for f in os.scandir('./Data') if f.is_dir() and f.name != '.ipynb_checkpoints']\n",
    "\n",
    "# subjects = ['390645', '120111']\n",
    "\n",
    "e_or_o = 0\n",
    "\n",
    "p_size_i = 16\n",
    "p_size_o = p_size_i\n",
    "\n",
    "print(subjects)"
   ]
  },
  {
   "cell_type": "code",
   "execution_count": 16,
   "metadata": {
    "ExecuteTime": {
     "end_time": "2023-08-05T14:00:04.659577500Z",
     "start_time": "2023-08-05T14:00:01.079241200Z"
    }
   },
   "outputs": [
    {
     "name": "stdout",
     "output_type": "stream",
     "text": [
      "Loading Subject 390645\n",
      "Loading Subject 545345\n",
      "Loading Subject 106016\n",
      "Loading Subject 120111\n",
      "Loading Subject 101915\n",
      "Loading Subject 351938\n",
      "Loading Subject 705341\n"
     ]
    }
   ],
   "source": [
    "subjects_lr = []\n",
    "subjects_hr = []\n",
    "subjects_masks = []\n",
    "\n",
    "subjects_preproc_values_lr = []\n",
    "subjects_preproc_values_hr = []\n",
    "\n",
    "subjects_preproc_values_h4_lr = []\n",
    "subjects_preproc_values_h4_hr = []\n",
    "\n",
    "subjects_t1_preproc_values = []\n",
    "\n",
    "for subj in subjects:\n",
    "\n",
    "    h4_imgs = []\n",
    "    h4_imgs_lr = []\n",
    "    dti_imgs = []\n",
    "    dti_imgs_lr = []\n",
    "\n",
    "    # DTI normalisation metrics pre-normalisation (storing max and min values in the mask) - Store for HR only\n",
    "    dti_preprocs_hr = np.zeros((6,2))\n",
    "    dti_preprocs_lr = np.zeros((6,2))\n",
    "\n",
    "    h4_preprocs_hr = np.zeros((22,2))\n",
    "    h4_preprocs_lr = np.zeros((22,2))\n",
    "\n",
    "    print(\"Loading Subject {}\".format(subj))\n",
    "    \n",
    "    for i in range(1,9):\n",
    "    \n",
    "        dti_data = np.array(nib.load(\"Data/{}/T1w/Diffusion/dt_all_{}.nii\".format(subj,i)).get_fdata())\n",
    "        dti_data_lr = np.array(nib.load(\"Data/{}/T1w/Diffusion/dt_all_lowres_2_{}.nii\".format(subj,i)).get_fdata())\n",
    "    \n",
    "        # if i > 1:\n",
    "        #     dti_data[dti_imgs[0] < 0] = 0\n",
    "        #     dti_data_lr[dti_imgs[0] < 0] = 0\n",
    "    \n",
    "        dti_imgs.append(dti_data)\n",
    "        dti_imgs_lr.append(dti_data_lr)\n",
    "    \n",
    "        dti_data = None\n",
    "        dti_data_lr = None\n",
    "    \n",
    "    for i in range(1,25):\n",
    "    \n",
    "        h4_data = np.array(nib.load(\"Data/{}/T1w/Diffusion/h4_all_{}.nii\".format(subj,str(i).zfill(2))).get_fdata())\n",
    "        h4_data_lr = np.array(nib.load(\"Data/{}/T1w/Diffusion/h4_all_lowres_2_{}.nii\".format(subj,str(i).zfill(2))).get_fdata())\n",
    "    \n",
    "        # if i > 1:\n",
    "        #     h4_data[h4_data[0] < 0] = 0\n",
    "        #     h4_data_lr[h4_data[0] < 0] = 0\n",
    "        \n",
    "        h4_imgs.append(h4_data)\n",
    "        h4_imgs_lr.append(h4_data_lr)\n",
    "    \n",
    "        h4_data = None\n",
    "        h4_data_lr = None\n",
    "    \n",
    "    h4_imgs = np.array(h4_imgs).transpose((1,2,3,0))\n",
    "    h4_imgs_lr = np.array(h4_imgs_lr).transpose((1,2,3,0))\n",
    "    \n",
    "    dti_imgs = np.array(dti_imgs).transpose((1,2,3,0))\n",
    "    dti_imgs_lr = np.array(dti_imgs_lr).transpose((1,2,3,0))\n",
    "    \n",
    "    mask = h4_imgs[...,0]\n",
    "\n",
    "    binmask = np.zeros(mask.shape)\n",
    "\n",
    "    binmask[mask >= 0] = 1\n",
    "\n",
    "    mask = binary_erosion(binmask, structure=np.ones((5,5,5),np.uint8),iterations = 1)\n",
    "\n",
    "    binmask = None\n",
    "\n",
    "    # Calculate DTI ranges and normalise to range [0,1]\n",
    "    for i in range(2,8):\n",
    "\n",
    "        dti_preprocs_lr[i-2,:] = np.array([np.min(mask*dti_imgs_lr[...,i]), np.max(mask*dti_imgs_lr[...,i])])\n",
    "        dti_imgs_lr[mask>0, i] = (dti_imgs_lr[mask>0, i] - dti_preprocs_lr[i-2,0]) / (dti_preprocs_lr[i-2,1] - dti_preprocs_lr[i-2,0])\n",
    "        dti_imgs_lr[mask==0, i] = 0\n",
    "\n",
    "        dti_preprocs_hr[i-2,:] = np.array([np.min(mask*dti_imgs[...,i]), np.max(mask*dti_imgs[...,i])])\n",
    "        dti_imgs[mask>0, i] = (dti_imgs[mask>0, i] - dti_preprocs_hr[i-2,0]) / (dti_preprocs_hr[i-2,1] - dti_preprocs_hr[i-2,0])\n",
    "        dti_imgs[mask==0, i] = 0\n",
    "\n",
    "\n",
    "    # Calculate H4 ranges and normalise to range [0,1]\n",
    "    for i in range(2,24):\n",
    "\n",
    "        h4_preprocs_lr[i-2,:] = np.array([np.min(mask*h4_imgs_lr[...,i]), np.max(mask*h4_imgs_lr[...,i])])\n",
    "        h4_imgs_lr[mask>0, i] = (h4_imgs_lr[mask>0, i] - h4_preprocs_lr[i-2,0]) / (h4_preprocs_lr[i-2,1] - h4_preprocs_lr[i-2,0])\n",
    "        h4_imgs_lr[mask==0, i] = 0\n",
    "\n",
    "        h4_preprocs_hr[i-2,:] = np.array([np.min(mask*h4_imgs[...,i]), np.max(mask*h4_imgs[...,i])])\n",
    "        h4_imgs[mask>0, i] = (h4_imgs[mask>0, i] - h4_preprocs_hr[i-2,0]) / (h4_preprocs_hr[i-2,1] - h4_preprocs_hr[i-2,0])\n",
    "        h4_imgs[mask==0, i] = 0\n",
    "\n",
    "\n",
    "    t1w = nib.load(\"Data/{}/T1w/Diffusion/t1w.nii\".format(subj))\n",
    "    \n",
    "    t1w_data = np.array(t1w.get_fdata())\n",
    "    \n",
    "    t1w_data_format = np.concatenate(\n",
    "        (t1w_data[::2,::2,::2, None], t1w_data[::2,::2,1::2, None],\n",
    "         t1w_data[::2,1::2,::2, None], t1w_data[::2,1::2,1::2, None],\n",
    "         t1w_data[1::2,::2,::2, None], t1w_data[1::2,::2,1::2, None],\n",
    "         t1w_data[1::2,1::2,::2, None], t1w_data[1::2,1::2,1::2, None]),\n",
    "        axis=-1)\n",
    "\n",
    "    t1w_preprocs = np.array([np.min(t1w_data_format*mask[...,None]), np.max(t1w_data_format*mask[...,None])])\n",
    "    \n",
    "    subjects_t1_preproc_values.append(t1w_preprocs)    \n",
    "    t1w_data_format[mask>0, :] = (t1w_data_format[mask>0, :] - t1w_preprocs[0]) / (t1w_preprocs[1] - t1w_preprocs[0])\n",
    "\n",
    "    subjects_preproc_values_lr.append(dti_preprocs_lr)\n",
    "    subjects_preproc_values_hr.append(dti_preprocs_hr)\n",
    "\n",
    "    subjects_preproc_values_h4_lr.append(h4_preprocs_lr)\n",
    "    subjects_preproc_values_h4_hr.append(h4_preprocs_hr)\n",
    "\n",
    "    lowres_input = np.concatenate((h4_imgs_lr[...,2:], t1w_data_format), axis=-1)\n",
    "    hires_output = np.copy(h4_imgs[...,2:])\n",
    "    \n",
    "    # lowres_input = np.concatenate((h4_imgs_lr[...,2:], dti_imgs_lr[...,2:], t1w_data_format), axis=-1)\n",
    "    # hires_output = np.copy(h4_imgs[...,2:])\n",
    "\n",
    "    subjects_lr.append(lowres_input)\n",
    "    subjects_hr.append(hires_output)\n",
    "    subjects_masks.append(mask)\n"
   ]
  },
  {
   "cell_type": "code",
   "execution_count": 14,
   "metadata": {
    "ExecuteTime": {
     "end_time": "2023-08-05T15:25:06.718078900Z",
     "start_time": "2023-08-05T15:25:06.534741600Z"
    },
    "collapsed": false,
    "jupyter": {
     "outputs_hidden": false
    }
   },
   "outputs": [],
   "source": [
    "input_layer = tf.keras.Input(shape=(2*p_size_i, 2*p_size_i, 2*p_size_i, 30))\n",
    "output_layer = model.unet3d(input_layer, 64, 22)\n",
    "\n",
    "model_unet = tf.keras.Model(input_layer, output_layer)"
   ]
  },
  {
   "cell_type": "code",
   "execution_count": 15,
   "metadata": {},
   "outputs": [
    {
     "name": "stdout",
     "output_type": "stream",
     "text": [
      "Model: \"model_3\"\n",
      "__________________________________________________________________________________________________\n",
      " Layer (type)                Output Shape                 Param #   Connected to                  \n",
      "==================================================================================================\n",
      " input_4 (InputLayer)        [(None, 32, 32, 32, 30)]     0         []                            \n",
      "                                                                                                  \n",
      " conv3d_66 (Conv3D)          (None, 32, 32, 32, 64)       51904     ['input_4[0][0]']             \n",
      "                                                                                                  \n",
      " batch_normalization_75 (Ba  (None, 32, 32, 32, 64)       256       ['conv3d_66[0][0]']           \n",
      " tchNormalization)                                                                                \n",
      "                                                                                                  \n",
      " conv3d_67 (Conv3D)          (None, 32, 32, 32, 64)       110656    ['batch_normalization_75[0][0]\n",
      "                                                                    ']                            \n",
      "                                                                                                  \n",
      " batch_normalization_76 (Ba  (None, 32, 32, 32, 64)       256       ['conv3d_67[0][0]']           \n",
      " tchNormalization)                                                                                \n",
      "                                                                                                  \n",
      " conv3d_68 (Conv3D)          (None, 16, 16, 16, 128)      221312    ['batch_normalization_76[0][0]\n",
      "                                                                    ']                            \n",
      "                                                                                                  \n",
      " batch_normalization_77 (Ba  (None, 16, 16, 16, 128)      512       ['conv3d_68[0][0]']           \n",
      " tchNormalization)                                                                                \n",
      "                                                                                                  \n",
      " conv3d_69 (Conv3D)          (None, 16, 16, 16, 128)      442496    ['batch_normalization_77[0][0]\n",
      "                                                                    ']                            \n",
      "                                                                                                  \n",
      " batch_normalization_78 (Ba  (None, 16, 16, 16, 128)      512       ['conv3d_69[0][0]']           \n",
      " tchNormalization)                                                                                \n",
      "                                                                                                  \n",
      " conv3d_70 (Conv3D)          (None, 16, 16, 16, 128)      442496    ['batch_normalization_78[0][0]\n",
      "                                                                    ']                            \n",
      "                                                                                                  \n",
      " batch_normalization_79 (Ba  (None, 16, 16, 16, 128)      512       ['conv3d_70[0][0]']           \n",
      " tchNormalization)                                                                                \n",
      "                                                                                                  \n",
      " conv3d_71 (Conv3D)          (None, 8, 8, 8, 256)         884992    ['batch_normalization_79[0][0]\n",
      "                                                                    ']                            \n",
      "                                                                                                  \n",
      " batch_normalization_80 (Ba  (None, 8, 8, 8, 256)         1024      ['conv3d_71[0][0]']           \n",
      " tchNormalization)                                                                                \n",
      "                                                                                                  \n",
      " conv3d_72 (Conv3D)          (None, 8, 8, 8, 256)         1769728   ['batch_normalization_80[0][0]\n",
      "                                                                    ']                            \n",
      "                                                                                                  \n",
      " batch_normalization_81 (Ba  (None, 8, 8, 8, 256)         1024      ['conv3d_72[0][0]']           \n",
      " tchNormalization)                                                                                \n",
      "                                                                                                  \n",
      " conv3d_73 (Conv3D)          (None, 8, 8, 8, 256)         1769728   ['batch_normalization_81[0][0]\n",
      "                                                                    ']                            \n",
      "                                                                                                  \n",
      " batch_normalization_82 (Ba  (None, 8, 8, 8, 256)         1024      ['conv3d_73[0][0]']           \n",
      " tchNormalization)                                                                                \n",
      "                                                                                                  \n",
      " conv3d_74 (Conv3D)          (None, 4, 4, 4, 512)         3539456   ['batch_normalization_82[0][0]\n",
      "                                                                    ']                            \n",
      "                                                                                                  \n",
      " batch_normalization_83 (Ba  (None, 4, 4, 4, 512)         2048      ['conv3d_74[0][0]']           \n",
      " tchNormalization)                                                                                \n",
      "                                                                                                  \n",
      " conv3d_75 (Conv3D)          (None, 4, 4, 4, 512)         7078400   ['batch_normalization_83[0][0]\n",
      "                                                                    ']                            \n",
      "                                                                                                  \n",
      " batch_normalization_84 (Ba  (None, 4, 4, 4, 512)         2048      ['conv3d_75[0][0]']           \n",
      " tchNormalization)                                                                                \n",
      "                                                                                                  \n",
      " conv3d_76 (Conv3D)          (None, 4, 4, 4, 512)         7078400   ['batch_normalization_84[0][0]\n",
      "                                                                    ']                            \n",
      "                                                                                                  \n",
      " batch_normalization_85 (Ba  (None, 4, 4, 4, 512)         2048      ['conv3d_76[0][0]']           \n",
      " tchNormalization)                                                                                \n",
      "                                                                                                  \n",
      " conv3d_77 (Conv3D)          (None, 2, 2, 2, 1024)        1415680   ['batch_normalization_85[0][0]\n",
      "                                                          0         ']                            \n",
      "                                                                                                  \n",
      " batch_normalization_86 (Ba  (None, 2, 2, 2, 1024)        4096      ['conv3d_77[0][0]']           \n",
      " tchNormalization)                                                                                \n",
      "                                                                                                  \n",
      " conv3d_78 (Conv3D)          (None, 2, 2, 2, 1024)        2831257   ['batch_normalization_86[0][0]\n",
      "                                                          6         ']                            \n",
      "                                                                                                  \n",
      " batch_normalization_87 (Ba  (None, 2, 2, 2, 1024)        4096      ['conv3d_78[0][0]']           \n",
      " tchNormalization)                                                                                \n",
      "                                                                                                  \n",
      " conv3d_transpose_12 (Conv3  (None, 4, 4, 4, 512)         1132467   ['batch_normalization_87[0][0]\n",
      " DTranspose)                                              20        ']                            \n",
      "                                                                                                  \n",
      " batch_normalization_88 (Ba  (None, 4, 4, 4, 512)         2048      ['conv3d_transpose_12[0][0]'] \n",
      " tchNormalization)                                                                                \n",
      "                                                                                                  \n",
      " concatenate_12 (Concatenat  (None, 4, 4, 4, 1024)        0         ['batch_normalization_88[0][0]\n",
      " e)                                                                 ',                            \n",
      "                                                                     'batch_normalization_85[0][0]\n",
      "                                                                    ']                            \n",
      "                                                                                                  \n",
      " conv3d_79 (Conv3D)          (None, 4, 4, 4, 512)         1415628   ['concatenate_12[0][0]']      \n",
      "                                                          8                                       \n",
      "                                                                                                  \n",
      " batch_normalization_89 (Ba  (None, 4, 4, 4, 512)         2048      ['conv3d_79[0][0]']           \n",
      " tchNormalization)                                                                                \n",
      "                                                                                                  \n",
      " conv3d_80 (Conv3D)          (None, 4, 4, 4, 512)         7078400   ['batch_normalization_89[0][0]\n",
      "                                                                    ']                            \n",
      "                                                                                                  \n",
      " batch_normalization_90 (Ba  (None, 4, 4, 4, 512)         2048      ['conv3d_80[0][0]']           \n",
      " tchNormalization)                                                                                \n",
      "                                                                                                  \n",
      " conv3d_transpose_13 (Conv3  (None, 8, 8, 8, 256)         2831180   ['batch_normalization_90[0][0]\n",
      " DTranspose)                                              8         ']                            \n",
      "                                                                                                  \n",
      " batch_normalization_91 (Ba  (None, 8, 8, 8, 256)         1024      ['conv3d_transpose_13[0][0]'] \n",
      " tchNormalization)                                                                                \n",
      "                                                                                                  \n",
      " concatenate_13 (Concatenat  (None, 8, 8, 8, 512)         0         ['batch_normalization_91[0][0]\n",
      " e)                                                                 ',                            \n",
      "                                                                     'batch_normalization_82[0][0]\n",
      "                                                                    ']                            \n",
      "                                                                                                  \n",
      " conv3d_81 (Conv3D)          (None, 8, 8, 8, 256)         3539200   ['concatenate_13[0][0]']      \n",
      "                                                                                                  \n",
      " batch_normalization_92 (Ba  (None, 8, 8, 8, 256)         1024      ['conv3d_81[0][0]']           \n",
      " tchNormalization)                                                                                \n",
      "                                                                                                  \n",
      " conv3d_82 (Conv3D)          (None, 8, 8, 8, 256)         1769728   ['batch_normalization_92[0][0]\n",
      "                                                                    ']                            \n",
      "                                                                                                  \n",
      " batch_normalization_93 (Ba  (None, 8, 8, 8, 256)         1024      ['conv3d_82[0][0]']           \n",
      " tchNormalization)                                                                                \n",
      "                                                                                                  \n",
      " conv3d_transpose_14 (Conv3  (None, 16, 16, 16, 128)      7078016   ['batch_normalization_93[0][0]\n",
      " DTranspose)                                                        ']                            \n",
      "                                                                                                  \n",
      " batch_normalization_94 (Ba  (None, 16, 16, 16, 128)      512       ['conv3d_transpose_14[0][0]'] \n",
      " tchNormalization)                                                                                \n",
      "                                                                                                  \n",
      " concatenate_14 (Concatenat  (None, 16, 16, 16, 256)      0         ['batch_normalization_94[0][0]\n",
      " e)                                                                 ',                            \n",
      "                                                                     'batch_normalization_79[0][0]\n",
      "                                                                    ']                            \n",
      "                                                                                                  \n",
      " conv3d_83 (Conv3D)          (None, 16, 16, 16, 128)      884864    ['concatenate_14[0][0]']      \n",
      "                                                                                                  \n",
      " batch_normalization_95 (Ba  (None, 16, 16, 16, 128)      512       ['conv3d_83[0][0]']           \n",
      " tchNormalization)                                                                                \n",
      "                                                                                                  \n",
      " conv3d_84 (Conv3D)          (None, 16, 16, 16, 128)      442496    ['batch_normalization_95[0][0]\n",
      "                                                                    ']                            \n",
      "                                                                                                  \n",
      " batch_normalization_96 (Ba  (None, 16, 16, 16, 128)      512       ['conv3d_84[0][0]']           \n",
      " tchNormalization)                                                                                \n",
      "                                                                                                  \n",
      " conv3d_transpose_15 (Conv3  (None, 32, 32, 32, 64)       1769536   ['batch_normalization_96[0][0]\n",
      " DTranspose)                                                        ']                            \n",
      "                                                                                                  \n",
      " batch_normalization_97 (Ba  (None, 32, 32, 32, 64)       256       ['conv3d_transpose_15[0][0]'] \n",
      " tchNormalization)                                                                                \n",
      "                                                                                                  \n",
      " concatenate_15 (Concatenat  (None, 32, 32, 32, 128)      0         ['batch_normalization_97[0][0]\n",
      " e)                                                                 ',                            \n",
      "                                                                     'batch_normalization_76[0][0]\n",
      "                                                                    ']                            \n",
      "                                                                                                  \n",
      " conv3d_85 (Conv3D)          (None, 32, 32, 32, 64)       221248    ['concatenate_15[0][0]']      \n",
      "                                                                                                  \n",
      " batch_normalization_98 (Ba  (None, 32, 32, 32, 64)       256       ['conv3d_85[0][0]']           \n",
      " tchNormalization)                                                                                \n",
      "                                                                                                  \n",
      " conv3d_86 (Conv3D)          (None, 32, 32, 32, 64)       110656    ['batch_normalization_98[0][0]\n",
      "                                                                    ']                            \n",
      "                                                                                                  \n",
      " batch_normalization_99 (Ba  (None, 32, 32, 32, 64)       256       ['conv3d_86[0][0]']           \n",
      " tchNormalization)                                                                                \n",
      "                                                                                                  \n",
      " conv3d_87 (Conv3D)          (None, 32, 32, 32, 22)       38038     ['batch_normalization_99[0][0]\n",
      "                                                                    ']                            \n",
      "                                                                                                  \n",
      "==================================================================================================\n",
      "Total params: 244536918 (932.83 MB)\n",
      "Trainable params: 244521430 (932.78 MB)\n",
      "Non-trainable params: 15488 (60.50 KB)\n",
      "__________________________________________________________________________________________________\n",
      "None\n"
     ]
    }
   ],
   "source": [
    "print(model_unet.summary())"
   ]
  },
  {
   "cell_type": "code",
   "execution_count": 17,
   "metadata": {
    "ExecuteTime": {
     "end_time": "2023-08-05T14:18:21.291398100Z",
     "start_time": "2023-08-05T14:18:21.254969700Z"
    },
    "collapsed": false,
    "jupyter": {
     "outputs_hidden": false
    }
   },
   "outputs": [],
   "source": [
    "def model_loss(output, target):\n",
    "    return (tf.square(target - output))"
   ]
  },
  {
   "cell_type": "code",
   "execution_count": 18,
   "metadata": {
    "ExecuteTime": {
     "end_time": "2023-08-05T14:18:25.658937200Z",
     "start_time": "2023-08-05T14:18:25.629596Z"
    },
    "collapsed": false,
    "jupyter": {
     "outputs_hidden": false
    }
   },
   "outputs": [],
   "source": [
    "lr_schedule = tf.keras.optimizers.schedules.ExponentialDecay(\n",
    "    initial_learning_rate=1e-3,\n",
    "    decay_steps=50*500,\n",
    "    decay_rate=0.1\n",
    ")\n",
    "\n",
    "model_optimizer = tf.keras.optimizers.Adam(lr_schedule)"
   ]
  },
  {
   "cell_type": "code",
   "execution_count": 19,
   "metadata": {},
   "outputs": [],
   "source": [
    "checkpoint_dir = './training_checkpoints_unet_map'\n",
    "checkpoint_prefix = os.path.join(checkpoint_dir, \"ckpt\")\n",
    "checkpoint = tf.train.Checkpoint(model_optimizer=model_optimizer,\n",
    "                                 model=model_unet)\n",
    "\n",
    "loss_metric = tf.keras.metrics.Mean('model_loss', dtype=tf.float32)\n",
    "\n",
    "current_time = datetime.datetime.now().strftime(\"%Y%m%d-%H%M%S\")\n",
    "log_dir = './logs/unet3d_map/' + current_time + '/train'\n",
    "summary_writer = tf.summary.create_file_writer(log_dir)"
   ]
  },
  {
   "cell_type": "code",
   "execution_count": 20,
   "metadata": {
    "ExecuteTime": {
     "end_time": "2023-08-05T14:31:31.474922300Z",
     "start_time": "2023-08-05T14:31:31.453950800Z"
    },
    "collapsed": false,
    "jupyter": {
     "outputs_hidden": false
    }
   },
   "outputs": [],
   "source": [
    "@tf.function\n",
    "def train_step(lr_patch, hr_patch):\n",
    "\n",
    "    with tf.GradientTape() as model_tape:\n",
    "\n",
    "      output = model_unet(lr_patch, training=True)\n",
    "\n",
    "      m_loss = model_loss(output, hr_patch)\n",
    "\n",
    "      loss_metric(m_loss)\n",
    "\n",
    "    gradients_of_model = model_tape.gradient(m_loss, model_unet.trainable_variables)\n",
    "\n",
    "    model_optimizer.apply_gradients(zip(gradients_of_model, model_unet.trainable_variables))\n",
    "\n",
    "    return m_loss"
   ]
  },
  {
   "cell_type": "code",
   "execution_count": 21,
   "metadata": {
    "ExecuteTime": {
     "end_time": "2023-08-05T15:37:15.289028100Z",
     "start_time": "2023-08-05T15:37:15.270842400Z"
    },
    "collapsed": false,
    "jupyter": {
     "outputs_hidden": false
    }
   },
   "outputs": [],
   "source": [
    "def train(data, epochs):\n",
    "\n",
    "  best_cost = np.Inf\n",
    "    \n",
    "  for epoch in range(epochs):\n",
    "    start = time.time()\n",
    "\n",
    "    print(\"Epoch: {}\".format(epoch+1))\n",
    "\n",
    "    print(\"Learning rate:\", model_optimizer.learning_rate.numpy())\n",
    "\n",
    "    mean_m_loss = 0.0\n",
    "\n",
    "    # [sel_indices, subjects_lr, subjects_hr, subjects_masks]\n",
    "\n",
    "    randsels = np.random.choice(data[0].shape[0],data[0].shape[0]//4)\n",
    "\n",
    "    lr_patches = []\n",
    "    hr_patches = []\n",
    "\n",
    "    for prog, index in enumerate(tqdm(randsels)):\n",
    "\n",
    "        if (prog+1) % 8 != 0 or prog == (len(randsels) - 1):\n",
    "\n",
    "            (s, i, j, k) = data[0][index]\n",
    "        \n",
    "            lr_patch = np.copy(data[1][s][\n",
    "                                    i - p_size_i - e_or_o : i + p_size_i,\n",
    "                                    j - p_size_i - e_or_o : j + p_size_i,\n",
    "                                    k - p_size_i - e_or_o : k + p_size_i, :]) * \\\n",
    "            np.copy(data[3][s][\n",
    "                                    i - p_size_i - e_or_o : i + p_size_i,\n",
    "                                    j - p_size_i - e_or_o : j + p_size_i,\n",
    "                                    k - p_size_i - e_or_o : k + p_size_i, None])\n",
    "                               \n",
    "        \n",
    "            hr_patch = np.copy(data[2][s][\n",
    "                                    i - p_size_o - e_or_o : i + p_size_o,\n",
    "                                    j - p_size_o - e_or_o : j + p_size_o,\n",
    "                                    k - p_size_o - e_or_o : k + p_size_o, :]) * \\\n",
    "            np.copy(data[3][s][\n",
    "                                    i - p_size_o - e_or_o : i + p_size_o,\n",
    "                                    j - p_size_o - e_or_o : j + p_size_o,\n",
    "                                    k - p_size_o - e_or_o : k + p_size_o, None])\n",
    "\n",
    "            lr_patches.append(lr_patch)\n",
    "            hr_patches.append(hr_patch)\n",
    "            \n",
    "            continue\n",
    "        \n",
    "        lr_patches = tf.convert_to_tensor(np.array(lr_patches), dtype=tf.float32)\n",
    "        hr_patches = tf.convert_to_tensor(np.array(hr_patches), dtype=tf.float32)\n",
    "        \n",
    "        m_loss = tf.reduce_mean(train_step(lr_patches, hr_patches))\n",
    "\n",
    "        with summary_writer.as_default():\n",
    "            tf.summary.scalar('model_loss', loss_metric.result(), step=epoch)\n",
    "        \n",
    "        mean_m_loss = mean_m_loss + m_loss\n",
    "\n",
    "        lr_patches = []\n",
    "        hr_patches = []\n",
    "\n",
    "    # Save the model every 5 epochs\n",
    "    if ((epoch+1) % 5 == 0) and mean_m_loss < best_cost:\n",
    "        checkpoint.save(file_prefix = checkpoint_prefix)\n",
    "        best_cost = mean_m_loss\n",
    "\n",
    "    print('Model Loss is {}'.format(float(mean_m_loss/len(randsels//4))))\n",
    "      \n",
    "    print ('Time for epoch {} is {} sec'.format(epoch + 1, time.time()-start))"
   ]
  },
  {
   "cell_type": "code",
   "execution_count": 22,
   "metadata": {},
   "outputs": [],
   "source": [
    "(xsize, ysize, zsize, comp) = subjects_lr[0].shape\n",
    "\n",
    "# e_or_o = 0\n",
    "\n",
    "# p_size_i = 16\n",
    "# p_size_o = 16\n",
    "\n",
    "# split_indices = [(i, j, k)\n",
    "#                  for k in np.arange(p_size_i+1,zsize-p_size_i+1,2*p_size_o+1)       \n",
    "#                  for j in np.arange(p_size_i+1,ysize-p_size_i+1,2*p_size_o+1)\n",
    "#                  for i in np.arange(p_size_i+1,xsize-p_size_i+1,2*p_size_o+1)\n",
    "#                 ]\n",
    "\n",
    "split_indices = [(i, j, k)\n",
    "                 for k in np.arange(p_size_i+e_or_o,zsize-p_size_i+e_or_o,2*p_size_o+e_or_o)       \n",
    "                 for j in np.arange(p_size_i+e_or_o,ysize-p_size_i+e_or_o,2*p_size_o+e_or_o)\n",
    "                 for i in np.arange(p_size_i+e_or_o,xsize-p_size_i+e_or_o,2*p_size_o+e_or_o)\n",
    "                ]\n",
    "\n",
    "sel_indices = []\n",
    "\n",
    "for s in range(len(subjects_lr)):\n",
    "    for (i, j, k) in split_indices:\n",
    "        ipatch_mask = subjects_masks[s][\n",
    "            i - p_size_o - e_or_o : i + p_size_o,\n",
    "            j - p_size_o - e_or_o : j + p_size_o,\n",
    "            k - p_size_o - e_or_o : k + p_size_o]\n",
    "    \n",
    "        if np.max(ipatch_mask) > 0:\n",
    "            sel_indices.append((s,i,j,k))\n",
    "\n",
    "sel_indices = np.array(sel_indices)"
   ]
  },
  {
   "cell_type": "code",
   "execution_count": 23,
   "metadata": {
    "ExecuteTime": {
     "end_time": "2023-08-05T15:37:17.483885900Z",
     "start_time": "2023-08-05T15:37:17.435327300Z"
    }
   },
   "outputs": [
    {
     "name": "stdout",
     "output_type": "stream",
     "text": [
      "Epoch: 1\n",
      "Learning rate: 0.001\n"
     ]
    },
    {
     "name": "stderr",
     "output_type": "stream",
     "text": [
      "  0%|                                                   | 0/103 [00:00<?, ?it/s]2023-08-23 16:37:19.913669: I tensorflow/compiler/xla/stream_executor/cuda/cuda_dnn.cc:432] Loaded cuDNN version 8600\n",
      "2023-08-23 16:37:21.844014: I tensorflow/compiler/xla/service/service.cc:168] XLA service 0x7ef7ba496590 initialized for platform CUDA (this does not guarantee that XLA will be used). Devices:\n",
      "2023-08-23 16:37:21.844034: I tensorflow/compiler/xla/service/service.cc:176]   StreamExecutor device (0): NVIDIA GeForce RTX 3090 Ti, Compute Capability 8.6\n",
      "2023-08-23 16:37:21.847330: I tensorflow/compiler/mlir/tensorflow/utils/dump_mlir_util.cc:255] disabling MLIR crash reproducer, set env var `MLIR_CRASH_REPRODUCER_DIRECTORY` to enable.\n",
      "2023-08-23 16:37:21.977796: I ./tensorflow/compiler/jit/device_compiler.h:186] Compiled cluster using XLA!  This line is logged at most once for the lifetime of the process.\n",
      "100%|█████████████████████████████████████████| 103/103 [00:16<00:00,  6.37it/s]\n"
     ]
    },
    {
     "name": "stdout",
     "output_type": "stream",
     "text": [
      "Model Loss is 0.06081410124897957\n",
      "Time for epoch 1 is 16.169625520706177 sec\n",
      "Epoch: 2\n",
      "Learning rate: 0.0009989875\n"
     ]
    },
    {
     "name": "stderr",
     "output_type": "stream",
     "text": [
      "100%|█████████████████████████████████████████| 103/103 [00:02<00:00, 37.51it/s]\n"
     ]
    },
    {
     "name": "stdout",
     "output_type": "stream",
     "text": [
      "Model Loss is 0.008154827170073986\n",
      "Time for epoch 2 is 2.747769594192505 sec\n",
      "Epoch: 3\n",
      "Learning rate: 0.0009978838\n"
     ]
    },
    {
     "name": "stderr",
     "output_type": "stream",
     "text": [
      "100%|█████████████████████████████████████████| 103/103 [00:02<00:00, 37.29it/s]\n"
     ]
    },
    {
     "name": "stdout",
     "output_type": "stream",
     "text": [
      "Model Loss is 0.00478703435510397\n",
      "Time for epoch 3 is 2.7639594078063965 sec\n",
      "Epoch: 4\n",
      "Learning rate: 0.0009967816\n"
     ]
    },
    {
     "name": "stderr",
     "output_type": "stream",
     "text": [
      "100%|█████████████████████████████████████████| 103/103 [00:02<00:00, 37.33it/s]\n"
     ]
    },
    {
     "name": "stdout",
     "output_type": "stream",
     "text": [
      "Model Loss is 0.00384002598002553\n",
      "Time for epoch 4 is 2.7611136436462402 sec\n",
      "Epoch: 5\n",
      "Learning rate: 0.0009956806\n"
     ]
    },
    {
     "name": "stderr",
     "output_type": "stream",
     "text": [
      "100%|█████████████████████████████████████████| 103/103 [00:02<00:00, 36.85it/s]\n"
     ]
    },
    {
     "name": "stdout",
     "output_type": "stream",
     "text": [
      "Model Loss is 0.0029856269247829914\n",
      "Time for epoch 5 is 29.453203916549683 sec\n",
      "Epoch: 6\n",
      "Learning rate: 0.0009945807\n"
     ]
    },
    {
     "name": "stderr",
     "output_type": "stream",
     "text": [
      "100%|█████████████████████████████████████████| 103/103 [00:02<00:00, 37.87it/s]\n"
     ]
    },
    {
     "name": "stdout",
     "output_type": "stream",
     "text": [
      "Model Loss is 0.00263407314196229\n",
      "Time for epoch 6 is 2.7220752239227295 sec\n",
      "Epoch: 7\n",
      "Learning rate: 0.000993482\n"
     ]
    },
    {
     "name": "stderr",
     "output_type": "stream",
     "text": [
      "100%|█████████████████████████████████████████| 103/103 [00:02<00:00, 37.91it/s]\n"
     ]
    },
    {
     "name": "stdout",
     "output_type": "stream",
     "text": [
      "Model Loss is 0.0026092331390827894\n",
      "Time for epoch 7 is 2.718698740005493 sec\n",
      "Epoch: 8\n",
      "Learning rate: 0.0009923845\n"
     ]
    },
    {
     "name": "stderr",
     "output_type": "stream",
     "text": [
      "100%|█████████████████████████████████████████| 103/103 [00:02<00:00, 36.40it/s]\n"
     ]
    },
    {
     "name": "stdout",
     "output_type": "stream",
     "text": [
      "Model Loss is 0.00194538536015898\n",
      "Time for epoch 8 is 2.8318300247192383 sec\n",
      "Epoch: 9\n",
      "Learning rate: 0.0009912883\n"
     ]
    },
    {
     "name": "stderr",
     "output_type": "stream",
     "text": [
      "100%|█████████████████████████████████████████| 103/103 [00:02<00:00, 38.84it/s]\n"
     ]
    },
    {
     "name": "stdout",
     "output_type": "stream",
     "text": [
      "Model Loss is 0.0018796335207298398\n",
      "Time for epoch 9 is 2.6536450386047363 sec\n",
      "Epoch: 10\n",
      "Learning rate: 0.0009901935\n"
     ]
    },
    {
     "name": "stderr",
     "output_type": "stream",
     "text": [
      "100%|█████████████████████████████████████████| 103/103 [00:02<00:00, 38.55it/s]\n"
     ]
    },
    {
     "name": "stdout",
     "output_type": "stream",
     "text": [
      "Model Loss is 0.0019209461752325296\n",
      "Time for epoch 10 is 29.073711395263672 sec\n",
      "Epoch: 11\n",
      "Learning rate: 0.0009890996\n"
     ]
    },
    {
     "name": "stderr",
     "output_type": "stream",
     "text": [
      "100%|█████████████████████████████████████████| 103/103 [00:03<00:00, 33.37it/s]\n"
     ]
    },
    {
     "name": "stdout",
     "output_type": "stream",
     "text": [
      "Model Loss is 0.0021486938931047916\n",
      "Time for epoch 11 is 3.0890843868255615 sec\n",
      "Epoch: 12\n",
      "Learning rate: 0.0009880069\n"
     ]
    },
    {
     "name": "stderr",
     "output_type": "stream",
     "text": [
      "100%|█████████████████████████████████████████| 103/103 [00:03<00:00, 33.66it/s]\n"
     ]
    },
    {
     "name": "stdout",
     "output_type": "stream",
     "text": [
      "Model Loss is 0.001870380830951035\n",
      "Time for epoch 12 is 3.0626304149627686 sec\n",
      "Epoch: 13\n",
      "Learning rate: 0.0009869155\n"
     ]
    },
    {
     "name": "stderr",
     "output_type": "stream",
     "text": [
      "100%|█████████████████████████████████████████| 103/103 [00:03<00:00, 34.17it/s]\n"
     ]
    },
    {
     "name": "stdout",
     "output_type": "stream",
     "text": [
      "Model Loss is 0.001551968278363347\n",
      "Time for epoch 13 is 3.0168418884277344 sec\n",
      "Epoch: 14\n",
      "Learning rate: 0.0009858254\n"
     ]
    },
    {
     "name": "stderr",
     "output_type": "stream",
     "text": [
      "100%|█████████████████████████████████████████| 103/103 [00:02<00:00, 37.28it/s]\n"
     ]
    },
    {
     "name": "stdout",
     "output_type": "stream",
     "text": [
      "Model Loss is 0.0014852064196020365\n",
      "Time for epoch 14 is 2.765551805496216 sec\n",
      "Epoch: 15\n",
      "Learning rate: 0.0009847365\n"
     ]
    },
    {
     "name": "stderr",
     "output_type": "stream",
     "text": [
      "100%|█████████████████████████████████████████| 103/103 [00:02<00:00, 38.08it/s]\n"
     ]
    },
    {
     "name": "stdout",
     "output_type": "stream",
     "text": [
      "Model Loss is 0.0014580496354028583\n",
      "Time for epoch 15 is 29.283632278442383 sec\n",
      "Epoch: 16\n",
      "Learning rate: 0.0009836487\n"
     ]
    },
    {
     "name": "stderr",
     "output_type": "stream",
     "text": [
      "100%|█████████████████████████████████████████| 103/103 [00:03<00:00, 34.14it/s]\n"
     ]
    },
    {
     "name": "stdout",
     "output_type": "stream",
     "text": [
      "Model Loss is 0.001418200321495533\n",
      "Time for epoch 16 is 3.0191445350646973 sec\n",
      "Epoch: 17\n",
      "Learning rate: 0.0009825621\n"
     ]
    },
    {
     "name": "stderr",
     "output_type": "stream",
     "text": [
      "100%|█████████████████████████████████████████| 103/103 [00:03<00:00, 34.25it/s]\n"
     ]
    },
    {
     "name": "stdout",
     "output_type": "stream",
     "text": [
      "Model Loss is 0.0012011174112558365\n",
      "Time for epoch 17 is 3.010148048400879 sec\n",
      "Epoch: 18\n",
      "Learning rate: 0.0009814767\n"
     ]
    },
    {
     "name": "stderr",
     "output_type": "stream",
     "text": [
      "100%|█████████████████████████████████████████| 103/103 [00:03<00:00, 34.16it/s]\n"
     ]
    },
    {
     "name": "stdout",
     "output_type": "stream",
     "text": [
      "Model Loss is 0.0013876267476007342\n",
      "Time for epoch 18 is 3.017920970916748 sec\n",
      "Epoch: 19\n",
      "Learning rate: 0.0009803926\n"
     ]
    },
    {
     "name": "stderr",
     "output_type": "stream",
     "text": [
      "100%|█████████████████████████████████████████| 103/103 [00:03<00:00, 34.17it/s]\n"
     ]
    },
    {
     "name": "stdout",
     "output_type": "stream",
     "text": [
      "Model Loss is 0.0014577106339856982\n",
      "Time for epoch 19 is 3.0163865089416504 sec\n",
      "Epoch: 20\n",
      "Learning rate: 0.0009793096\n"
     ]
    },
    {
     "name": "stderr",
     "output_type": "stream",
     "text": [
      "100%|█████████████████████████████████████████| 103/103 [00:03<00:00, 34.17it/s]\n"
     ]
    },
    {
     "name": "stdout",
     "output_type": "stream",
     "text": [
      "Model Loss is 0.0014801365323364735\n",
      "Time for epoch 20 is 3.0166356563568115 sec\n",
      "Epoch: 21\n",
      "Learning rate: 0.0009782278\n"
     ]
    },
    {
     "name": "stderr",
     "output_type": "stream",
     "text": [
      "100%|█████████████████████████████████████████| 103/103 [00:03<00:00, 34.29it/s]\n"
     ]
    },
    {
     "name": "stdout",
     "output_type": "stream",
     "text": [
      "Model Loss is 0.001653448329307139\n",
      "Time for epoch 21 is 3.0060129165649414 sec\n",
      "Epoch: 22\n",
      "Learning rate: 0.0009771473\n"
     ]
    },
    {
     "name": "stderr",
     "output_type": "stream",
     "text": [
      "100%|█████████████████████████████████████████| 103/103 [00:03<00:00, 34.15it/s]\n"
     ]
    },
    {
     "name": "stdout",
     "output_type": "stream",
     "text": [
      "Model Loss is 0.0017052417388185859\n",
      "Time for epoch 22 is 3.018676280975342 sec\n",
      "Epoch: 23\n",
      "Learning rate: 0.00097606785\n"
     ]
    },
    {
     "name": "stderr",
     "output_type": "stream",
     "text": [
      "100%|█████████████████████████████████████████| 103/103 [00:03<00:00, 34.20it/s]\n"
     ]
    },
    {
     "name": "stdout",
     "output_type": "stream",
     "text": [
      "Model Loss is 0.0013110176660120487\n",
      "Time for epoch 23 is 3.0141656398773193 sec\n",
      "Epoch: 24\n",
      "Learning rate: 0.00097498967\n"
     ]
    },
    {
     "name": "stderr",
     "output_type": "stream",
     "text": [
      "100%|█████████████████████████████████████████| 103/103 [00:03<00:00, 34.15it/s]\n"
     ]
    },
    {
     "name": "stdout",
     "output_type": "stream",
     "text": [
      "Model Loss is 0.0010491854045540094\n",
      "Time for epoch 24 is 3.018584966659546 sec\n",
      "Epoch: 25\n",
      "Learning rate: 0.00097391265\n"
     ]
    },
    {
     "name": "stderr",
     "output_type": "stream",
     "text": [
      "100%|█████████████████████████████████████████| 103/103 [00:03<00:00, 34.15it/s]\n"
     ]
    },
    {
     "name": "stdout",
     "output_type": "stream",
     "text": [
      "Model Loss is 0.0016721138963475823\n",
      "Time for epoch 25 is 3.0185539722442627 sec\n",
      "Epoch: 26\n",
      "Learning rate: 0.00097283686\n"
     ]
    },
    {
     "name": "stderr",
     "output_type": "stream",
     "text": [
      "100%|█████████████████████████████████████████| 103/103 [00:03<00:00, 34.21it/s]\n"
     ]
    },
    {
     "name": "stdout",
     "output_type": "stream",
     "text": [
      "Model Loss is 0.0012214700691401958\n",
      "Time for epoch 26 is 3.013075113296509 sec\n",
      "Epoch: 27\n",
      "Learning rate: 0.00097176223\n"
     ]
    },
    {
     "name": "stderr",
     "output_type": "stream",
     "text": [
      "100%|█████████████████████████████████████████| 103/103 [00:03<00:00, 34.19it/s]\n"
     ]
    },
    {
     "name": "stdout",
     "output_type": "stream",
     "text": [
      "Model Loss is 0.0011447470169514418\n",
      "Time for epoch 27 is 3.0147154331207275 sec\n",
      "Epoch: 28\n",
      "Learning rate: 0.00097068876\n"
     ]
    },
    {
     "name": "stderr",
     "output_type": "stream",
     "text": [
      "100%|█████████████████████████████████████████| 103/103 [00:03<00:00, 34.21it/s]\n"
     ]
    },
    {
     "name": "stdout",
     "output_type": "stream",
     "text": [
      "Model Loss is 0.0013922995422035456\n",
      "Time for epoch 28 is 3.0128445625305176 sec\n",
      "Epoch: 29\n",
      "Learning rate: 0.0009696165\n"
     ]
    },
    {
     "name": "stderr",
     "output_type": "stream",
     "text": [
      "100%|█████████████████████████████████████████| 103/103 [00:03<00:00, 34.28it/s]\n"
     ]
    },
    {
     "name": "stdout",
     "output_type": "stream",
     "text": [
      "Model Loss is 0.0009987623197957873\n",
      "Time for epoch 29 is 3.006971597671509 sec\n",
      "Epoch: 30\n",
      "Learning rate: 0.00096854556\n"
     ]
    },
    {
     "name": "stderr",
     "output_type": "stream",
     "text": [
      "100%|█████████████████████████████████████████| 103/103 [00:03<00:00, 34.17it/s]\n"
     ]
    },
    {
     "name": "stdout",
     "output_type": "stream",
     "text": [
      "Model Loss is 0.0010129313450306654\n",
      "Time for epoch 30 is 30.33126950263977 sec\n",
      "Epoch: 31\n",
      "Learning rate: 0.0009674756\n"
     ]
    },
    {
     "name": "stderr",
     "output_type": "stream",
     "text": [
      "100%|█████████████████████████████████████████| 103/103 [00:03<00:00, 34.10it/s]\n"
     ]
    },
    {
     "name": "stdout",
     "output_type": "stream",
     "text": [
      "Model Loss is 0.0016210005851462483\n",
      "Time for epoch 31 is 3.0226030349731445 sec\n",
      "Epoch: 32\n",
      "Learning rate: 0.00096640695\n"
     ]
    },
    {
     "name": "stderr",
     "output_type": "stream",
     "text": [
      "100%|█████████████████████████████████████████| 103/103 [00:03<00:00, 34.30it/s]\n"
     ]
    },
    {
     "name": "stdout",
     "output_type": "stream",
     "text": [
      "Model Loss is 0.001484951819293201\n",
      "Time for epoch 32 is 3.004831314086914 sec\n",
      "Epoch: 33\n",
      "Learning rate: 0.00096533936\n"
     ]
    },
    {
     "name": "stderr",
     "output_type": "stream",
     "text": [
      "100%|█████████████████████████████████████████| 103/103 [00:03<00:00, 34.24it/s]\n"
     ]
    },
    {
     "name": "stdout",
     "output_type": "stream",
     "text": [
      "Model Loss is 0.0016900963382795453\n",
      "Time for epoch 33 is 3.0102360248565674 sec\n",
      "Epoch: 34\n",
      "Learning rate: 0.000964273\n"
     ]
    },
    {
     "name": "stderr",
     "output_type": "stream",
     "text": [
      "100%|█████████████████████████████████████████| 103/103 [00:03<00:00, 34.14it/s]\n"
     ]
    },
    {
     "name": "stdout",
     "output_type": "stream",
     "text": [
      "Model Loss is 0.0014637056738138199\n",
      "Time for epoch 34 is 3.0190064907073975 sec\n",
      "Epoch: 35\n",
      "Learning rate: 0.0009632078\n"
     ]
    },
    {
     "name": "stderr",
     "output_type": "stream",
     "text": [
      "100%|█████████████████████████████████████████| 103/103 [00:03<00:00, 34.27it/s]\n"
     ]
    },
    {
     "name": "stdout",
     "output_type": "stream",
     "text": [
      "Model Loss is 0.0011862276587635279\n",
      "Time for epoch 35 is 3.0076427459716797 sec\n",
      "Epoch: 36\n",
      "Learning rate: 0.0009621438\n"
     ]
    },
    {
     "name": "stderr",
     "output_type": "stream",
     "text": [
      "100%|█████████████████████████████████████████| 103/103 [00:03<00:00, 34.30it/s]\n"
     ]
    },
    {
     "name": "stdout",
     "output_type": "stream",
     "text": [
      "Model Loss is 0.0012578535825014114\n",
      "Time for epoch 36 is 3.004779577255249 sec\n",
      "Epoch: 37\n",
      "Learning rate: 0.00096108107\n"
     ]
    },
    {
     "name": "stderr",
     "output_type": "stream",
     "text": [
      "100%|█████████████████████████████████████████| 103/103 [00:03<00:00, 34.22it/s]\n"
     ]
    },
    {
     "name": "stdout",
     "output_type": "stream",
     "text": [
      "Model Loss is 0.001035379827953875\n",
      "Time for epoch 37 is 3.0121452808380127 sec\n",
      "Epoch: 38\n",
      "Learning rate: 0.0009600195\n"
     ]
    },
    {
     "name": "stderr",
     "output_type": "stream",
     "text": [
      "100%|█████████████████████████████████████████| 103/103 [00:02<00:00, 34.36it/s]\n"
     ]
    },
    {
     "name": "stdout",
     "output_type": "stream",
     "text": [
      "Model Loss is 0.000998882227577269\n",
      "Time for epoch 38 is 3.0001792907714844 sec\n",
      "Epoch: 39\n",
      "Learning rate: 0.000958959\n"
     ]
    },
    {
     "name": "stderr",
     "output_type": "stream",
     "text": [
      "100%|█████████████████████████████████████████| 103/103 [00:03<00:00, 34.26it/s]\n"
     ]
    },
    {
     "name": "stdout",
     "output_type": "stream",
     "text": [
      "Model Loss is 0.0011296982411295176\n",
      "Time for epoch 39 is 3.0082716941833496 sec\n",
      "Epoch: 40\n",
      "Learning rate: 0.00095789967\n"
     ]
    },
    {
     "name": "stderr",
     "output_type": "stream",
     "text": [
      "100%|█████████████████████████████████████████| 103/103 [00:03<00:00, 34.18it/s]\n"
     ]
    },
    {
     "name": "stdout",
     "output_type": "stream",
     "text": [
      "Model Loss is 0.0013128959108144045\n",
      "Time for epoch 40 is 3.0163631439208984 sec\n",
      "Epoch: 41\n",
      "Learning rate: 0.0009568415\n"
     ]
    },
    {
     "name": "stderr",
     "output_type": "stream",
     "text": [
      "100%|█████████████████████████████████████████| 103/103 [00:03<00:00, 34.19it/s]\n"
     ]
    },
    {
     "name": "stdout",
     "output_type": "stream",
     "text": [
      "Model Loss is 0.000873636978212744\n",
      "Time for epoch 41 is 3.01472544670105 sec\n",
      "Epoch: 42\n",
      "Learning rate: 0.0009557845\n"
     ]
    },
    {
     "name": "stderr",
     "output_type": "stream",
     "text": [
      "100%|█████████████████████████████████████████| 103/103 [00:03<00:00, 34.25it/s]\n"
     ]
    },
    {
     "name": "stdout",
     "output_type": "stream",
     "text": [
      "Model Loss is 0.0010191553737968206\n",
      "Time for epoch 42 is 3.00934100151062 sec\n",
      "Epoch: 43\n",
      "Learning rate: 0.0009547288\n"
     ]
    },
    {
     "name": "stderr",
     "output_type": "stream",
     "text": [
      "100%|█████████████████████████████████████████| 103/103 [00:03<00:00, 34.27it/s]\n"
     ]
    },
    {
     "name": "stdout",
     "output_type": "stream",
     "text": [
      "Model Loss is 0.001491570845246315\n",
      "Time for epoch 43 is 3.0079123973846436 sec\n",
      "Epoch: 44\n",
      "Learning rate: 0.0009536742\n"
     ]
    },
    {
     "name": "stderr",
     "output_type": "stream",
     "text": [
      "100%|█████████████████████████████████████████| 103/103 [00:03<00:00, 34.17it/s]\n"
     ]
    },
    {
     "name": "stdout",
     "output_type": "stream",
     "text": [
      "Model Loss is 0.0014475927455350757\n",
      "Time for epoch 44 is 3.015885353088379 sec\n",
      "Epoch: 45\n",
      "Learning rate: 0.00095262076\n"
     ]
    },
    {
     "name": "stderr",
     "output_type": "stream",
     "text": [
      "100%|█████████████████████████████████████████| 103/103 [00:03<00:00, 34.16it/s]\n"
     ]
    },
    {
     "name": "stdout",
     "output_type": "stream",
     "text": [
      "Model Loss is 0.0011496726656332612\n",
      "Time for epoch 45 is 3.0171592235565186 sec\n",
      "Epoch: 46\n",
      "Learning rate: 0.0009515684\n"
     ]
    },
    {
     "name": "stderr",
     "output_type": "stream",
     "text": [
      "100%|█████████████████████████████████████████| 103/103 [00:03<00:00, 34.20it/s]\n"
     ]
    },
    {
     "name": "stdout",
     "output_type": "stream",
     "text": [
      "Model Loss is 0.0014171246439218521\n",
      "Time for epoch 46 is 3.013805389404297 sec\n",
      "Epoch: 47\n",
      "Learning rate: 0.0009505173\n"
     ]
    },
    {
     "name": "stderr",
     "output_type": "stream",
     "text": [
      "100%|█████████████████████████████████████████| 103/103 [00:03<00:00, 34.13it/s]\n"
     ]
    },
    {
     "name": "stdout",
     "output_type": "stream",
     "text": [
      "Model Loss is 0.0016345729818567634\n",
      "Time for epoch 47 is 3.019975185394287 sec\n",
      "Epoch: 48\n",
      "Learning rate: 0.0009494673\n"
     ]
    },
    {
     "name": "stderr",
     "output_type": "stream",
     "text": [
      "100%|█████████████████████████████████████████| 103/103 [00:03<00:00, 34.15it/s]\n"
     ]
    },
    {
     "name": "stdout",
     "output_type": "stream",
     "text": [
      "Model Loss is 0.0012134881690144539\n",
      "Time for epoch 48 is 3.0177013874053955 sec\n",
      "Epoch: 49\n",
      "Learning rate: 0.0009484184\n"
     ]
    },
    {
     "name": "stderr",
     "output_type": "stream",
     "text": [
      "100%|█████████████████████████████████████████| 103/103 [00:03<00:00, 34.07it/s]\n"
     ]
    },
    {
     "name": "stdout",
     "output_type": "stream",
     "text": [
      "Model Loss is 0.0009902542224153876\n",
      "Time for epoch 49 is 3.0253801345825195 sec\n",
      "Epoch: 50\n",
      "Learning rate: 0.0009473709\n"
     ]
    },
    {
     "name": "stderr",
     "output_type": "stream",
     "text": [
      "100%|█████████████████████████████████████████| 103/103 [00:02<00:00, 38.43it/s]\n"
     ]
    },
    {
     "name": "stdout",
     "output_type": "stream",
     "text": [
      "Model Loss is 0.001058232388459146\n",
      "Time for epoch 50 is 2.6828677654266357 sec\n",
      "Epoch: 51\n",
      "Learning rate: 0.0009463243\n"
     ]
    },
    {
     "name": "stderr",
     "output_type": "stream",
     "text": [
      "100%|█████████████████████████████████████████| 103/103 [00:02<00:00, 38.33it/s]\n"
     ]
    },
    {
     "name": "stdout",
     "output_type": "stream",
     "text": [
      "Model Loss is 0.0015584926586598158\n",
      "Time for epoch 51 is 2.688664674758911 sec\n",
      "Epoch: 52\n",
      "Learning rate: 0.000945279\n"
     ]
    },
    {
     "name": "stderr",
     "output_type": "stream",
     "text": [
      "100%|█████████████████████████████████████████| 103/103 [00:02<00:00, 38.59it/s]\n"
     ]
    },
    {
     "name": "stdout",
     "output_type": "stream",
     "text": [
      "Model Loss is 0.0010771395172923803\n",
      "Time for epoch 52 is 2.670924663543701 sec\n",
      "Epoch: 53\n",
      "Learning rate: 0.00094423484\n"
     ]
    },
    {
     "name": "stderr",
     "output_type": "stream",
     "text": [
      "100%|█████████████████████████████████████████| 103/103 [00:02<00:00, 38.54it/s]\n"
     ]
    },
    {
     "name": "stdout",
     "output_type": "stream",
     "text": [
      "Model Loss is 0.0011883488623425364\n",
      "Time for epoch 53 is 2.6745221614837646 sec\n",
      "Epoch: 54\n",
      "Learning rate: 0.0009431918\n"
     ]
    },
    {
     "name": "stderr",
     "output_type": "stream",
     "text": [
      "100%|█████████████████████████████████████████| 103/103 [00:02<00:00, 38.35it/s]\n"
     ]
    },
    {
     "name": "stdout",
     "output_type": "stream",
     "text": [
      "Model Loss is 0.0012394541408866644\n",
      "Time for epoch 54 is 2.6881942749023438 sec\n",
      "Epoch: 55\n",
      "Learning rate: 0.0009421499\n"
     ]
    },
    {
     "name": "stderr",
     "output_type": "stream",
     "text": [
      "100%|█████████████████████████████████████████| 103/103 [00:02<00:00, 38.51it/s]\n"
     ]
    },
    {
     "name": "stdout",
     "output_type": "stream",
     "text": [
      "Model Loss is 0.0011696506990119815\n",
      "Time for epoch 55 is 2.676691770553589 sec\n",
      "Epoch: 56\n",
      "Learning rate: 0.00094110915\n"
     ]
    },
    {
     "name": "stderr",
     "output_type": "stream",
     "text": [
      "100%|█████████████████████████████████████████| 103/103 [00:02<00:00, 38.40it/s]\n"
     ]
    },
    {
     "name": "stdout",
     "output_type": "stream",
     "text": [
      "Model Loss is 0.0010683949803933501\n",
      "Time for epoch 56 is 2.6842081546783447 sec\n",
      "Epoch: 57\n",
      "Learning rate: 0.0009400697\n"
     ]
    },
    {
     "name": "stderr",
     "output_type": "stream",
     "text": [
      "100%|█████████████████████████████████████████| 103/103 [00:02<00:00, 38.30it/s]\n"
     ]
    },
    {
     "name": "stdout",
     "output_type": "stream",
     "text": [
      "Model Loss is 0.0012216938193887472\n",
      "Time for epoch 57 is 2.6914591789245605 sec\n",
      "Epoch: 58\n",
      "Learning rate: 0.00093903125\n"
     ]
    },
    {
     "name": "stderr",
     "output_type": "stream",
     "text": [
      "100%|█████████████████████████████████████████| 103/103 [00:02<00:00, 38.45it/s]\n"
     ]
    },
    {
     "name": "stdout",
     "output_type": "stream",
     "text": [
      "Model Loss is 0.0012622701469808817\n",
      "Time for epoch 58 is 2.680960178375244 sec\n",
      "Epoch: 59\n",
      "Learning rate: 0.00093799393\n"
     ]
    },
    {
     "name": "stderr",
     "output_type": "stream",
     "text": [
      "100%|█████████████████████████████████████████| 103/103 [00:02<00:00, 38.54it/s]\n"
     ]
    },
    {
     "name": "stdout",
     "output_type": "stream",
     "text": [
      "Model Loss is 0.0013495560269802809\n",
      "Time for epoch 59 is 2.6743993759155273 sec\n",
      "Epoch: 60\n",
      "Learning rate: 0.0009369578\n"
     ]
    },
    {
     "name": "stderr",
     "output_type": "stream",
     "text": [
      "100%|█████████████████████████████████████████| 103/103 [00:02<00:00, 38.34it/s]\n"
     ]
    },
    {
     "name": "stdout",
     "output_type": "stream",
     "text": [
      "Model Loss is 0.0011432310566306114\n",
      "Time for epoch 60 is 2.6883773803710938 sec\n",
      "Epoch: 61\n",
      "Learning rate: 0.0009359227\n"
     ]
    },
    {
     "name": "stderr",
     "output_type": "stream",
     "text": [
      "100%|█████████████████████████████████████████| 103/103 [00:02<00:00, 38.56it/s]\n"
     ]
    },
    {
     "name": "stdout",
     "output_type": "stream",
     "text": [
      "Model Loss is 0.000958330521825701\n",
      "Time for epoch 61 is 2.6733531951904297 sec\n",
      "Epoch: 62\n",
      "Learning rate: 0.0009348889\n"
     ]
    },
    {
     "name": "stderr",
     "output_type": "stream",
     "text": [
      "100%|█████████████████████████████████████████| 103/103 [00:02<00:00, 38.50it/s]\n"
     ]
    },
    {
     "name": "stdout",
     "output_type": "stream",
     "text": [
      "Model Loss is 0.0008774181478656828\n",
      "Time for epoch 62 is 2.677428722381592 sec\n",
      "Epoch: 63\n",
      "Learning rate: 0.00093385624\n"
     ]
    },
    {
     "name": "stderr",
     "output_type": "stream",
     "text": [
      "100%|█████████████████████████████████████████| 103/103 [00:02<00:00, 38.43it/s]\n"
     ]
    },
    {
     "name": "stdout",
     "output_type": "stream",
     "text": [
      "Model Loss is 0.0017597980331629515\n",
      "Time for epoch 63 is 2.682645082473755 sec\n",
      "Epoch: 64\n",
      "Learning rate: 0.0009328247\n"
     ]
    },
    {
     "name": "stderr",
     "output_type": "stream",
     "text": [
      "100%|█████████████████████████████████████████| 103/103 [00:02<00:00, 38.51it/s]\n"
     ]
    },
    {
     "name": "stdout",
     "output_type": "stream",
     "text": [
      "Model Loss is 0.00166553002782166\n",
      "Time for epoch 64 is 2.6770970821380615 sec\n",
      "Epoch: 65\n",
      "Learning rate: 0.00093179423\n"
     ]
    },
    {
     "name": "stderr",
     "output_type": "stream",
     "text": [
      "100%|█████████████████████████████████████████| 103/103 [00:02<00:00, 38.48it/s]\n"
     ]
    },
    {
     "name": "stdout",
     "output_type": "stream",
     "text": [
      "Model Loss is 0.0014081017579883337\n",
      "Time for epoch 65 is 2.678692102432251 sec\n",
      "Epoch: 66\n",
      "Learning rate: 0.00093076495\n"
     ]
    },
    {
     "name": "stderr",
     "output_type": "stream",
     "text": [
      "100%|█████████████████████████████████████████| 103/103 [00:02<00:00, 38.40it/s]\n"
     ]
    },
    {
     "name": "stdout",
     "output_type": "stream",
     "text": [
      "Model Loss is 0.001004248159006238\n",
      "Time for epoch 66 is 2.684173822402954 sec\n",
      "Epoch: 67\n",
      "Learning rate: 0.00092973677\n"
     ]
    },
    {
     "name": "stderr",
     "output_type": "stream",
     "text": [
      "100%|█████████████████████████████████████████| 103/103 [00:02<00:00, 38.57it/s]\n"
     ]
    },
    {
     "name": "stdout",
     "output_type": "stream",
     "text": [
      "Model Loss is 0.0009781088447198272\n",
      "Time for epoch 67 is 2.672802686691284 sec\n",
      "Epoch: 68\n",
      "Learning rate: 0.00092870975\n"
     ]
    },
    {
     "name": "stderr",
     "output_type": "stream",
     "text": [
      "100%|█████████████████████████████████████████| 103/103 [00:02<00:00, 38.50it/s]\n"
     ]
    },
    {
     "name": "stdout",
     "output_type": "stream",
     "text": [
      "Model Loss is 0.0011830574367195368\n",
      "Time for epoch 68 is 2.6773030757904053 sec\n",
      "Epoch: 69\n",
      "Learning rate: 0.0009276839\n"
     ]
    },
    {
     "name": "stderr",
     "output_type": "stream",
     "text": [
      "100%|█████████████████████████████████████████| 103/103 [00:02<00:00, 38.45it/s]\n"
     ]
    },
    {
     "name": "stdout",
     "output_type": "stream",
     "text": [
      "Model Loss is 0.0008643812034279108\n",
      "Time for epoch 69 is 2.680659532546997 sec\n",
      "Epoch: 70\n",
      "Learning rate: 0.00092665915\n"
     ]
    },
    {
     "name": "stderr",
     "output_type": "stream",
     "text": [
      "100%|█████████████████████████████████████████| 103/103 [00:02<00:00, 38.41it/s]\n"
     ]
    },
    {
     "name": "stdout",
     "output_type": "stream",
     "text": [
      "Model Loss is 0.0008400105871260166\n",
      "Time for epoch 70 is 29.1169331073761 sec\n",
      "Epoch: 71\n",
      "Learning rate: 0.00092563557\n"
     ]
    },
    {
     "name": "stderr",
     "output_type": "stream",
     "text": [
      "100%|█████████████████████████████████████████| 103/103 [00:03<00:00, 34.01it/s]\n"
     ]
    },
    {
     "name": "stdout",
     "output_type": "stream",
     "text": [
      "Model Loss is 0.0009575737058185041\n",
      "Time for epoch 71 is 3.0310657024383545 sec\n",
      "Epoch: 72\n",
      "Learning rate: 0.00092461304\n"
     ]
    },
    {
     "name": "stderr",
     "output_type": "stream",
     "text": [
      "100%|█████████████████████████████████████████| 103/103 [00:03<00:00, 34.19it/s]\n"
     ]
    },
    {
     "name": "stdout",
     "output_type": "stream",
     "text": [
      "Model Loss is 0.0008373778546229005\n",
      "Time for epoch 72 is 3.01474666595459 sec\n",
      "Epoch: 73\n",
      "Learning rate: 0.00092359167\n"
     ]
    },
    {
     "name": "stderr",
     "output_type": "stream",
     "text": [
      "100%|█████████████████████████████████████████| 103/103 [00:03<00:00, 34.14it/s]\n"
     ]
    },
    {
     "name": "stdout",
     "output_type": "stream",
     "text": [
      "Model Loss is 0.0010054224403575063\n",
      "Time for epoch 73 is 3.018949508666992 sec\n",
      "Epoch: 74\n",
      "Learning rate: 0.0009225714\n"
     ]
    },
    {
     "name": "stderr",
     "output_type": "stream",
     "text": [
      "100%|█████████████████████████████████████████| 103/103 [00:03<00:00, 34.15it/s]\n"
     ]
    },
    {
     "name": "stdout",
     "output_type": "stream",
     "text": [
      "Model Loss is 0.0009465392795391381\n",
      "Time for epoch 74 is 3.018930196762085 sec\n",
      "Epoch: 75\n",
      "Learning rate: 0.00092155236\n"
     ]
    },
    {
     "name": "stderr",
     "output_type": "stream",
     "text": [
      "100%|█████████████████████████████████████████| 103/103 [00:03<00:00, 34.18it/s]\n"
     ]
    },
    {
     "name": "stdout",
     "output_type": "stream",
     "text": [
      "Model Loss is 0.0012181620113551617\n",
      "Time for epoch 75 is 3.016505002975464 sec\n",
      "Epoch: 76\n",
      "Learning rate: 0.00092053437\n"
     ]
    },
    {
     "name": "stderr",
     "output_type": "stream",
     "text": [
      "100%|█████████████████████████████████████████| 103/103 [00:03<00:00, 34.21it/s]\n"
     ]
    },
    {
     "name": "stdout",
     "output_type": "stream",
     "text": [
      "Model Loss is 0.0011721441987901926\n",
      "Time for epoch 76 is 3.0135409832000732 sec\n",
      "Epoch: 77\n",
      "Learning rate: 0.00091951754\n"
     ]
    },
    {
     "name": "stderr",
     "output_type": "stream",
     "text": [
      "100%|█████████████████████████████████████████| 103/103 [00:03<00:00, 34.26it/s]\n"
     ]
    },
    {
     "name": "stdout",
     "output_type": "stream",
     "text": [
      "Model Loss is 0.0012442239094525576\n",
      "Time for epoch 77 is 3.009106159210205 sec\n",
      "Epoch: 78\n",
      "Learning rate: 0.0009185018\n"
     ]
    },
    {
     "name": "stderr",
     "output_type": "stream",
     "text": [
      "100%|█████████████████████████████████████████| 103/103 [00:03<00:00, 34.21it/s]\n"
     ]
    },
    {
     "name": "stdout",
     "output_type": "stream",
     "text": [
      "Model Loss is 0.0011756347957998514\n",
      "Time for epoch 78 is 3.0136020183563232 sec\n",
      "Epoch: 79\n",
      "Learning rate: 0.0009174872\n"
     ]
    },
    {
     "name": "stderr",
     "output_type": "stream",
     "text": [
      "100%|█████████████████████████████████████████| 103/103 [00:03<00:00, 34.22it/s]\n"
     ]
    },
    {
     "name": "stdout",
     "output_type": "stream",
     "text": [
      "Model Loss is 0.0015249061398208141\n",
      "Time for epoch 79 is 3.0120532512664795 sec\n",
      "Epoch: 80\n",
      "Learning rate: 0.0009164737\n"
     ]
    },
    {
     "name": "stderr",
     "output_type": "stream",
     "text": [
      "100%|█████████████████████████████████████████| 103/103 [00:03<00:00, 34.11it/s]\n"
     ]
    },
    {
     "name": "stdout",
     "output_type": "stream",
     "text": [
      "Model Loss is 0.0011611237423494458\n",
      "Time for epoch 80 is 3.022017478942871 sec\n",
      "Epoch: 81\n",
      "Learning rate: 0.00091546134\n"
     ]
    },
    {
     "name": "stderr",
     "output_type": "stream",
     "text": [
      "100%|█████████████████████████████████████████| 103/103 [00:03<00:00, 34.24it/s]\n"
     ]
    },
    {
     "name": "stdout",
     "output_type": "stream",
     "text": [
      "Model Loss is 0.001307112630456686\n",
      "Time for epoch 81 is 3.0107009410858154 sec\n",
      "Epoch: 82\n",
      "Learning rate: 0.0009144501\n"
     ]
    },
    {
     "name": "stderr",
     "output_type": "stream",
     "text": [
      "100%|█████████████████████████████████████████| 103/103 [00:03<00:00, 34.27it/s]\n"
     ]
    },
    {
     "name": "stdout",
     "output_type": "stream",
     "text": [
      "Model Loss is 0.0009060943848453462\n",
      "Time for epoch 82 is 3.007418632507324 sec\n",
      "Epoch: 83\n",
      "Learning rate: 0.00091343996\n"
     ]
    },
    {
     "name": "stderr",
     "output_type": "stream",
     "text": [
      "100%|█████████████████████████████████████████| 103/103 [00:03<00:00, 34.10it/s]\n"
     ]
    },
    {
     "name": "stdout",
     "output_type": "stream",
     "text": [
      "Model Loss is 0.0008475933573208749\n",
      "Time for epoch 83 is 3.022146463394165 sec\n",
      "Epoch: 84\n",
      "Learning rate: 0.000912431\n"
     ]
    },
    {
     "name": "stderr",
     "output_type": "stream",
     "text": [
      "100%|█████████████████████████████████████████| 103/103 [00:03<00:00, 34.16it/s]\n"
     ]
    },
    {
     "name": "stdout",
     "output_type": "stream",
     "text": [
      "Model Loss is 0.0011326043168082833\n",
      "Time for epoch 84 is 3.017064094543457 sec\n",
      "Epoch: 85\n",
      "Learning rate: 0.00091142306\n"
     ]
    },
    {
     "name": "stderr",
     "output_type": "stream",
     "text": [
      "100%|█████████████████████████████████████████| 103/103 [00:03<00:00, 33.99it/s]\n"
     ]
    },
    {
     "name": "stdout",
     "output_type": "stream",
     "text": [
      "Model Loss is 0.001066182623617351\n",
      "Time for epoch 85 is 3.0328667163848877 sec\n",
      "Epoch: 86\n",
      "Learning rate: 0.0009104163\n"
     ]
    },
    {
     "name": "stderr",
     "output_type": "stream",
     "text": [
      "100%|█████████████████████████████████████████| 103/103 [00:03<00:00, 33.99it/s]\n"
     ]
    },
    {
     "name": "stdout",
     "output_type": "stream",
     "text": [
      "Model Loss is 0.0010532820597290993\n",
      "Time for epoch 86 is 3.0322604179382324 sec\n",
      "Epoch: 87\n",
      "Learning rate: 0.0009094106\n"
     ]
    },
    {
     "name": "stderr",
     "output_type": "stream",
     "text": [
      "100%|█████████████████████████████████████████| 103/103 [00:03<00:00, 34.06it/s]\n"
     ]
    },
    {
     "name": "stdout",
     "output_type": "stream",
     "text": [
      "Model Loss is 0.0010579567169770598\n",
      "Time for epoch 87 is 3.0264902114868164 sec\n",
      "Epoch: 88\n",
      "Learning rate: 0.000908406\n"
     ]
    },
    {
     "name": "stderr",
     "output_type": "stream",
     "text": [
      "100%|█████████████████████████████████████████| 103/103 [00:03<00:00, 34.04it/s]\n"
     ]
    },
    {
     "name": "stdout",
     "output_type": "stream",
     "text": [
      "Model Loss is 0.0009253108873963356\n",
      "Time for epoch 88 is 3.0276601314544678 sec\n",
      "Epoch: 89\n",
      "Learning rate: 0.00090740254\n"
     ]
    },
    {
     "name": "stderr",
     "output_type": "stream",
     "text": [
      "100%|█████████████████████████████████████████| 103/103 [00:03<00:00, 34.10it/s]\n"
     ]
    },
    {
     "name": "stdout",
     "output_type": "stream",
     "text": [
      "Model Loss is 0.0009225886897183955\n",
      "Time for epoch 89 is 3.0229711532592773 sec\n",
      "Epoch: 90\n",
      "Learning rate: 0.0009064002\n"
     ]
    },
    {
     "name": "stderr",
     "output_type": "stream",
     "text": [
      "100%|█████████████████████████████████████████| 103/103 [00:03<00:00, 34.09it/s]\n"
     ]
    },
    {
     "name": "stdout",
     "output_type": "stream",
     "text": [
      "Model Loss is 0.0012048010248690844\n",
      "Time for epoch 90 is 3.023790121078491 sec\n",
      "Epoch: 91\n",
      "Learning rate: 0.00090539904\n"
     ]
    },
    {
     "name": "stderr",
     "output_type": "stream",
     "text": [
      "100%|█████████████████████████████████████████| 103/103 [00:02<00:00, 38.35it/s]\n"
     ]
    },
    {
     "name": "stdout",
     "output_type": "stream",
     "text": [
      "Model Loss is 0.0008149167406372726\n",
      "Time for epoch 91 is 2.688399314880371 sec\n",
      "Epoch: 92\n",
      "Learning rate: 0.0009043989\n"
     ]
    },
    {
     "name": "stderr",
     "output_type": "stream",
     "text": [
      "100%|█████████████████████████████████████████| 103/103 [00:02<00:00, 38.30it/s]\n"
     ]
    },
    {
     "name": "stdout",
     "output_type": "stream",
     "text": [
      "Model Loss is 0.0008995365351438522\n",
      "Time for epoch 92 is 2.691789388656616 sec\n",
      "Epoch: 93\n",
      "Learning rate: 0.0009033999\n"
     ]
    },
    {
     "name": "stderr",
     "output_type": "stream",
     "text": [
      "100%|█████████████████████████████████████████| 103/103 [00:02<00:00, 38.33it/s]\n"
     ]
    },
    {
     "name": "stdout",
     "output_type": "stream",
     "text": [
      "Model Loss is 0.0008118691039271653\n",
      "Time for epoch 93 is 2.689054250717163 sec\n",
      "Epoch: 94\n",
      "Learning rate: 0.0009024019\n"
     ]
    },
    {
     "name": "stderr",
     "output_type": "stream",
     "text": [
      "100%|█████████████████████████████████████████| 103/103 [00:02<00:00, 38.38it/s]\n"
     ]
    },
    {
     "name": "stdout",
     "output_type": "stream",
     "text": [
      "Model Loss is 0.0011747522512450814\n",
      "Time for epoch 94 is 2.6855039596557617 sec\n",
      "Epoch: 95\n",
      "Learning rate: 0.00090140506\n"
     ]
    },
    {
     "name": "stderr",
     "output_type": "stream",
     "text": [
      "100%|█████████████████████████████████████████| 103/103 [00:02<00:00, 38.51it/s]\n"
     ]
    },
    {
     "name": "stdout",
     "output_type": "stream",
     "text": [
      "Model Loss is 0.001011515618301928\n",
      "Time for epoch 95 is 2.6766059398651123 sec\n",
      "Epoch: 96\n",
      "Learning rate: 0.0009004094\n"
     ]
    },
    {
     "name": "stderr",
     "output_type": "stream",
     "text": [
      "100%|█████████████████████████████████████████| 103/103 [00:02<00:00, 38.51it/s]\n"
     ]
    },
    {
     "name": "stdout",
     "output_type": "stream",
     "text": [
      "Model Loss is 0.0008141022408381104\n",
      "Time for epoch 96 is 2.6765973567962646 sec\n",
      "Epoch: 97\n",
      "Learning rate: 0.0008994148\n"
     ]
    },
    {
     "name": "stderr",
     "output_type": "stream",
     "text": [
      "100%|█████████████████████████████████████████| 103/103 [00:02<00:00, 38.49it/s]\n"
     ]
    },
    {
     "name": "stdout",
     "output_type": "stream",
     "text": [
      "Model Loss is 0.0007070343708619475\n",
      "Time for epoch 97 is 2.6781294345855713 sec\n",
      "Epoch: 98\n",
      "Learning rate: 0.0008984213\n"
     ]
    },
    {
     "name": "stderr",
     "output_type": "stream",
     "text": [
      "100%|█████████████████████████████████████████| 103/103 [00:02<00:00, 38.38it/s]\n"
     ]
    },
    {
     "name": "stdout",
     "output_type": "stream",
     "text": [
      "Model Loss is 0.0010413159616291523\n",
      "Time for epoch 98 is 2.6856589317321777 sec\n",
      "Epoch: 99\n",
      "Learning rate: 0.00089742884\n"
     ]
    },
    {
     "name": "stderr",
     "output_type": "stream",
     "text": [
      "100%|█████████████████████████████████████████| 103/103 [00:02<00:00, 38.36it/s]\n"
     ]
    },
    {
     "name": "stdout",
     "output_type": "stream",
     "text": [
      "Model Loss is 0.0010463286889716983\n",
      "Time for epoch 99 is 2.6875386238098145 sec\n",
      "Epoch: 100\n",
      "Learning rate: 0.0008964375\n"
     ]
    },
    {
     "name": "stderr",
     "output_type": "stream",
     "text": [
      "100%|█████████████████████████████████████████| 103/103 [00:02<00:00, 38.35it/s]\n"
     ]
    },
    {
     "name": "stdout",
     "output_type": "stream",
     "text": [
      "Model Loss is 0.0007111427839845419\n",
      "Time for epoch 100 is 29.085041046142578 sec\n",
      "Epoch: 101\n",
      "Learning rate: 0.0008954472\n"
     ]
    },
    {
     "name": "stderr",
     "output_type": "stream",
     "text": [
      "100%|█████████████████████████████████████████| 103/103 [00:03<00:00, 33.99it/s]\n"
     ]
    },
    {
     "name": "stdout",
     "output_type": "stream",
     "text": [
      "Model Loss is 0.0007436473970301449\n",
      "Time for epoch 101 is 3.0323123931884766 sec\n",
      "Epoch: 102\n",
      "Learning rate: 0.0008944581\n"
     ]
    },
    {
     "name": "stderr",
     "output_type": "stream",
     "text": [
      "100%|█████████████████████████████████████████| 103/103 [00:03<00:00, 34.03it/s]\n"
     ]
    },
    {
     "name": "stdout",
     "output_type": "stream",
     "text": [
      "Model Loss is 0.0009868821362033486\n",
      "Time for epoch 102 is 3.0289483070373535 sec\n",
      "Epoch: 103\n",
      "Learning rate: 0.00089347013\n"
     ]
    },
    {
     "name": "stderr",
     "output_type": "stream",
     "text": [
      "100%|█████████████████████████████████████████| 103/103 [00:03<00:00, 34.26it/s]\n"
     ]
    },
    {
     "name": "stdout",
     "output_type": "stream",
     "text": [
      "Model Loss is 0.0011792333098128438\n",
      "Time for epoch 103 is 3.0080161094665527 sec\n",
      "Epoch: 104\n",
      "Learning rate: 0.00089248316\n"
     ]
    },
    {
     "name": "stderr",
     "output_type": "stream",
     "text": [
      "100%|█████████████████████████████████████████| 103/103 [00:03<00:00, 34.25it/s]\n"
     ]
    },
    {
     "name": "stdout",
     "output_type": "stream",
     "text": [
      "Model Loss is 0.0009253894677385688\n",
      "Time for epoch 104 is 3.009467840194702 sec\n",
      "Epoch: 105\n",
      "Learning rate: 0.0008914973\n"
     ]
    },
    {
     "name": "stderr",
     "output_type": "stream",
     "text": [
      "100%|█████████████████████████████████████████| 103/103 [00:03<00:00, 34.33it/s]\n"
     ]
    },
    {
     "name": "stdout",
     "output_type": "stream",
     "text": [
      "Model Loss is 0.0011555332457646728\n",
      "Time for epoch 105 is 3.002413511276245 sec\n",
      "Epoch: 106\n",
      "Learning rate: 0.0008905125\n"
     ]
    },
    {
     "name": "stderr",
     "output_type": "stream",
     "text": [
      "100%|█████████████████████████████████████████| 103/103 [00:03<00:00, 34.27it/s]\n"
     ]
    },
    {
     "name": "stdout",
     "output_type": "stream",
     "text": [
      "Model Loss is 0.0014109219191595912\n",
      "Time for epoch 106 is 3.007389783859253 sec\n",
      "Epoch: 107\n",
      "Learning rate: 0.0008895288\n"
     ]
    },
    {
     "name": "stderr",
     "output_type": "stream",
     "text": [
      "100%|█████████████████████████████████████████| 103/103 [00:03<00:00, 34.20it/s]\n"
     ]
    },
    {
     "name": "stdout",
     "output_type": "stream",
     "text": [
      "Model Loss is 0.0014849110739305615\n",
      "Time for epoch 107 is 3.0138306617736816 sec\n",
      "Epoch: 108\n",
      "Learning rate: 0.00088854623\n"
     ]
    },
    {
     "name": "stderr",
     "output_type": "stream",
     "text": [
      "100%|█████████████████████████████████████████| 103/103 [00:03<00:00, 33.84it/s]\n"
     ]
    },
    {
     "name": "stdout",
     "output_type": "stream",
     "text": [
      "Model Loss is 0.0009393643704243004\n",
      "Time for epoch 108 is 3.0457961559295654 sec\n",
      "Epoch: 109\n",
      "Learning rate: 0.0008875646\n"
     ]
    },
    {
     "name": "stderr",
     "output_type": "stream",
     "text": [
      "100%|█████████████████████████████████████████| 103/103 [00:03<00:00, 34.09it/s]\n"
     ]
    },
    {
     "name": "stdout",
     "output_type": "stream",
     "text": [
      "Model Loss is 0.0008942155982367694\n",
      "Time for epoch 109 is 3.0232996940612793 sec\n",
      "Epoch: 110\n",
      "Learning rate: 0.0008865843\n"
     ]
    },
    {
     "name": "stderr",
     "output_type": "stream",
     "text": [
      "100%|█████████████████████████████████████████| 103/103 [00:03<00:00, 34.22it/s]\n"
     ]
    },
    {
     "name": "stdout",
     "output_type": "stream",
     "text": [
      "Model Loss is 0.000874497287441045\n",
      "Time for epoch 110 is 3.0124011039733887 sec\n",
      "Epoch: 111\n",
      "Learning rate: 0.0008856049\n"
     ]
    },
    {
     "name": "stderr",
     "output_type": "stream",
     "text": [
      "100%|█████████████████████████████████████████| 103/103 [00:03<00:00, 34.27it/s]\n"
     ]
    },
    {
     "name": "stdout",
     "output_type": "stream",
     "text": [
      "Model Loss is 0.0009418997797183692\n",
      "Time for epoch 111 is 3.0075976848602295 sec\n",
      "Epoch: 112\n",
      "Learning rate: 0.0008846266\n"
     ]
    },
    {
     "name": "stderr",
     "output_type": "stream",
     "text": [
      "100%|█████████████████████████████████████████| 103/103 [00:03<00:00, 34.22it/s]\n"
     ]
    },
    {
     "name": "stdout",
     "output_type": "stream",
     "text": [
      "Model Loss is 0.0008118634577840567\n",
      "Time for epoch 112 is 3.011915445327759 sec\n",
      "Epoch: 113\n",
      "Learning rate: 0.00088364945\n"
     ]
    },
    {
     "name": "stderr",
     "output_type": "stream",
     "text": [
      "100%|█████████████████████████████████████████| 103/103 [00:03<00:00, 34.24it/s]\n"
     ]
    },
    {
     "name": "stdout",
     "output_type": "stream",
     "text": [
      "Model Loss is 0.0007787616923451424\n",
      "Time for epoch 113 is 3.010455846786499 sec\n",
      "Epoch: 114\n",
      "Learning rate: 0.0008826733\n"
     ]
    },
    {
     "name": "stderr",
     "output_type": "stream",
     "text": [
      "100%|█████████████████████████████████████████| 103/103 [00:03<00:00, 34.22it/s]\n"
     ]
    },
    {
     "name": "stdout",
     "output_type": "stream",
     "text": [
      "Model Loss is 0.000855978752952069\n",
      "Time for epoch 114 is 3.0119681358337402 sec\n",
      "Epoch: 115\n",
      "Learning rate: 0.0008816983\n"
     ]
    },
    {
     "name": "stderr",
     "output_type": "stream",
     "text": [
      "100%|█████████████████████████████████████████| 103/103 [00:03<00:00, 34.02it/s]\n"
     ]
    },
    {
     "name": "stdout",
     "output_type": "stream",
     "text": [
      "Model Loss is 0.0007540783262811601\n",
      "Time for epoch 115 is 3.0298900604248047 sec\n",
      "Epoch: 116\n",
      "Learning rate: 0.0008807243\n"
     ]
    },
    {
     "name": "stderr",
     "output_type": "stream",
     "text": [
      "100%|█████████████████████████████████████████| 103/103 [00:03<00:00, 34.23it/s]\n"
     ]
    },
    {
     "name": "stdout",
     "output_type": "stream",
     "text": [
      "Model Loss is 0.0014843709068372846\n",
      "Time for epoch 116 is 3.0112829208374023 sec\n",
      "Epoch: 117\n",
      "Learning rate: 0.00087975146\n"
     ]
    },
    {
     "name": "stderr",
     "output_type": "stream",
     "text": [
      "100%|█████████████████████████████████████████| 103/103 [00:03<00:00, 34.17it/s]\n"
     ]
    },
    {
     "name": "stdout",
     "output_type": "stream",
     "text": [
      "Model Loss is 0.0011160748545080423\n",
      "Time for epoch 117 is 3.016702651977539 sec\n",
      "Epoch: 118\n",
      "Learning rate: 0.0008787797\n"
     ]
    },
    {
     "name": "stderr",
     "output_type": "stream",
     "text": [
      "100%|█████████████████████████████████████████| 103/103 [00:03<00:00, 34.10it/s]\n"
     ]
    },
    {
     "name": "stdout",
     "output_type": "stream",
     "text": [
      "Model Loss is 0.0008724227081984282\n",
      "Time for epoch 118 is 3.0226826667785645 sec\n",
      "Epoch: 119\n",
      "Learning rate: 0.00087780895\n"
     ]
    },
    {
     "name": "stderr",
     "output_type": "stream",
     "text": [
      "100%|█████████████████████████████████████████| 103/103 [00:03<00:00, 34.08it/s]\n"
     ]
    },
    {
     "name": "stdout",
     "output_type": "stream",
     "text": [
      "Model Loss is 0.0007596490322612226\n",
      "Time for epoch 119 is 3.024595022201538 sec\n",
      "Epoch: 120\n",
      "Learning rate: 0.00087683933\n"
     ]
    },
    {
     "name": "stderr",
     "output_type": "stream",
     "text": [
      "100%|█████████████████████████████████████████| 103/103 [00:03<00:00, 34.06it/s]\n"
     ]
    },
    {
     "name": "stdout",
     "output_type": "stream",
     "text": [
      "Model Loss is 0.0006325187860056758\n",
      "Time for epoch 120 is 30.020472288131714 sec\n",
      "Epoch: 121\n",
      "Learning rate: 0.00087587076\n"
     ]
    },
    {
     "name": "stderr",
     "output_type": "stream",
     "text": [
      "100%|█████████████████████████████████████████| 103/103 [00:03<00:00, 34.07it/s]\n"
     ]
    },
    {
     "name": "stdout",
     "output_type": "stream",
     "text": [
      "Model Loss is 0.0009046728373505175\n",
      "Time for epoch 121 is 3.025533676147461 sec\n",
      "Epoch: 122\n",
      "Learning rate: 0.00087490317\n"
     ]
    },
    {
     "name": "stderr",
     "output_type": "stream",
     "text": [
      "100%|█████████████████████████████████████████| 103/103 [00:03<00:00, 34.19it/s]\n"
     ]
    },
    {
     "name": "stdout",
     "output_type": "stream",
     "text": [
      "Model Loss is 0.0008054534555412829\n",
      "Time for epoch 122 is 3.015272855758667 sec\n",
      "Epoch: 123\n",
      "Learning rate: 0.00087393675\n"
     ]
    },
    {
     "name": "stderr",
     "output_type": "stream",
     "text": [
      "100%|█████████████████████████████████████████| 103/103 [00:03<00:00, 34.15it/s]\n"
     ]
    },
    {
     "name": "stdout",
     "output_type": "stream",
     "text": [
      "Model Loss is 0.000693586771376431\n",
      "Time for epoch 123 is 3.018932819366455 sec\n",
      "Epoch: 124\n",
      "Learning rate: 0.00087297143\n"
     ]
    },
    {
     "name": "stderr",
     "output_type": "stream",
     "text": [
      "100%|█████████████████████████████████████████| 103/103 [00:03<00:00, 34.21it/s]\n"
     ]
    },
    {
     "name": "stdout",
     "output_type": "stream",
     "text": [
      "Model Loss is 0.0005924006109125912\n",
      "Time for epoch 124 is 3.0135674476623535 sec\n",
      "Epoch: 125\n",
      "Learning rate: 0.0008720071\n"
     ]
    },
    {
     "name": "stderr",
     "output_type": "stream",
     "text": [
      "100%|█████████████████████████████████████████| 103/103 [00:03<00:00, 34.23it/s]\n"
     ]
    },
    {
     "name": "stdout",
     "output_type": "stream",
     "text": [
      "Model Loss is 0.0007891241111792624\n",
      "Time for epoch 125 is 3.0115904808044434 sec\n",
      "Epoch: 126\n",
      "Learning rate: 0.0008710438\n"
     ]
    },
    {
     "name": "stderr",
     "output_type": "stream",
     "text": [
      "100%|█████████████████████████████████████████| 103/103 [00:02<00:00, 35.35it/s]\n"
     ]
    },
    {
     "name": "stdout",
     "output_type": "stream",
     "text": [
      "Model Loss is 0.0005546470638364553\n",
      "Time for epoch 126 is 2.916198492050171 sec\n",
      "Epoch: 127\n",
      "Learning rate: 0.00087008165\n"
     ]
    },
    {
     "name": "stderr",
     "output_type": "stream",
     "text": [
      "100%|█████████████████████████████████████████| 103/103 [00:02<00:00, 38.57it/s]\n"
     ]
    },
    {
     "name": "stdout",
     "output_type": "stream",
     "text": [
      "Model Loss is 0.0005637519061565399\n",
      "Time for epoch 127 is 2.672504425048828 sec\n",
      "Epoch: 128\n",
      "Learning rate: 0.00086912053\n"
     ]
    },
    {
     "name": "stderr",
     "output_type": "stream",
     "text": [
      "100%|█████████████████████████████████████████| 103/103 [00:02<00:00, 38.51it/s]\n"
     ]
    },
    {
     "name": "stdout",
     "output_type": "stream",
     "text": [
      "Model Loss is 0.000650422356557101\n",
      "Time for epoch 128 is 2.676816940307617 sec\n",
      "Epoch: 129\n",
      "Learning rate: 0.0008681605\n"
     ]
    },
    {
     "name": "stderr",
     "output_type": "stream",
     "text": [
      "100%|█████████████████████████████████████████| 103/103 [00:02<00:00, 38.55it/s]\n"
     ]
    },
    {
     "name": "stdout",
     "output_type": "stream",
     "text": [
      "Model Loss is 0.0005451247561722994\n",
      "Time for epoch 129 is 2.6738648414611816 sec\n",
      "Epoch: 130\n",
      "Learning rate: 0.00086720154\n"
     ]
    },
    {
     "name": "stderr",
     "output_type": "stream",
     "text": [
      "100%|█████████████████████████████████████████| 103/103 [00:02<00:00, 38.59it/s]\n"
     ]
    },
    {
     "name": "stdout",
     "output_type": "stream",
     "text": [
      "Model Loss is 0.0006520839524455369\n",
      "Time for epoch 130 is 2.6714396476745605 sec\n",
      "Epoch: 131\n",
      "Learning rate: 0.00086624356\n"
     ]
    },
    {
     "name": "stderr",
     "output_type": "stream",
     "text": [
      "100%|█████████████████████████████████████████| 103/103 [00:02<00:00, 38.45it/s]\n"
     ]
    },
    {
     "name": "stdout",
     "output_type": "stream",
     "text": [
      "Model Loss is 0.0008698379970155656\n",
      "Time for epoch 131 is 2.6810073852539062 sec\n",
      "Epoch: 132\n",
      "Learning rate: 0.0008652867\n"
     ]
    },
    {
     "name": "stderr",
     "output_type": "stream",
     "text": [
      "100%|█████████████████████████████████████████| 103/103 [00:02<00:00, 38.45it/s]\n"
     ]
    },
    {
     "name": "stdout",
     "output_type": "stream",
     "text": [
      "Model Loss is 0.0008059022948145866\n",
      "Time for epoch 132 is 2.681370973587036 sec\n",
      "Epoch: 133\n",
      "Learning rate: 0.00086433085\n"
     ]
    },
    {
     "name": "stderr",
     "output_type": "stream",
     "text": [
      "100%|█████████████████████████████████████████| 103/103 [00:02<00:00, 38.38it/s]\n"
     ]
    },
    {
     "name": "stdout",
     "output_type": "stream",
     "text": [
      "Model Loss is 0.0006377219688147306\n",
      "Time for epoch 133 is 2.686030387878418 sec\n",
      "Epoch: 134\n",
      "Learning rate: 0.0008633761\n"
     ]
    },
    {
     "name": "stderr",
     "output_type": "stream",
     "text": [
      "100%|█████████████████████████████████████████| 103/103 [00:02<00:00, 38.67it/s]\n"
     ]
    },
    {
     "name": "stdout",
     "output_type": "stream",
     "text": [
      "Model Loss is 0.0008846124983392656\n",
      "Time for epoch 134 is 2.666097402572632 sec\n",
      "Epoch: 135\n",
      "Learning rate: 0.00086242234\n"
     ]
    },
    {
     "name": "stderr",
     "output_type": "stream",
     "text": [
      "100%|█████████████████████████████████████████| 103/103 [00:02<00:00, 38.39it/s]\n"
     ]
    },
    {
     "name": "stdout",
     "output_type": "stream",
     "text": [
      "Model Loss is 0.0008517010137438774\n",
      "Time for epoch 135 is 2.685650587081909 sec\n",
      "Epoch: 136\n",
      "Learning rate: 0.00086146966\n"
     ]
    },
    {
     "name": "stderr",
     "output_type": "stream",
     "text": [
      "100%|█████████████████████████████████████████| 103/103 [00:02<00:00, 38.41it/s]\n"
     ]
    },
    {
     "name": "stdout",
     "output_type": "stream",
     "text": [
      "Model Loss is 0.0007256902172230184\n",
      "Time for epoch 136 is 2.6832973957061768 sec\n",
      "Epoch: 137\n",
      "Learning rate: 0.00086051814\n"
     ]
    },
    {
     "name": "stderr",
     "output_type": "stream",
     "text": [
      "100%|█████████████████████████████████████████| 103/103 [00:02<00:00, 38.30it/s]\n"
     ]
    },
    {
     "name": "stdout",
     "output_type": "stream",
     "text": [
      "Model Loss is 0.0007744581671431661\n",
      "Time for epoch 137 is 2.690939426422119 sec\n",
      "Epoch: 138\n",
      "Learning rate: 0.00085956755\n"
     ]
    },
    {
     "name": "stderr",
     "output_type": "stream",
     "text": [
      "100%|█████████████████████████████████████████| 103/103 [00:02<00:00, 38.30it/s]\n"
     ]
    },
    {
     "name": "stdout",
     "output_type": "stream",
     "text": [
      "Model Loss is 0.0009500358137302101\n",
      "Time for epoch 138 is 2.691494941711426 sec\n",
      "Epoch: 139\n",
      "Learning rate: 0.00085861806\n"
     ]
    },
    {
     "name": "stderr",
     "output_type": "stream",
     "text": [
      "100%|█████████████████████████████████████████| 103/103 [00:02<00:00, 38.55it/s]\n"
     ]
    },
    {
     "name": "stdout",
     "output_type": "stream",
     "text": [
      "Model Loss is 0.0007918532937765121\n",
      "Time for epoch 139 is 2.6732633113861084 sec\n",
      "Epoch: 140\n",
      "Learning rate: 0.00085766957\n"
     ]
    },
    {
     "name": "stderr",
     "output_type": "stream",
     "text": [
      "100%|█████████████████████████████████████████| 103/103 [00:02<00:00, 38.66it/s]\n"
     ]
    },
    {
     "name": "stdout",
     "output_type": "stream",
     "text": [
      "Model Loss is 0.0007400218164548278\n",
      "Time for epoch 140 is 2.666013717651367 sec\n",
      "Epoch: 141\n",
      "Learning rate: 0.0008567222\n"
     ]
    },
    {
     "name": "stderr",
     "output_type": "stream",
     "text": [
      "100%|█████████████████████████████████████████| 103/103 [00:02<00:00, 38.62it/s]\n"
     ]
    },
    {
     "name": "stdout",
     "output_type": "stream",
     "text": [
      "Model Loss is 0.0007365823839791119\n",
      "Time for epoch 141 is 2.668436050415039 sec\n",
      "Epoch: 142\n",
      "Learning rate: 0.00085577584\n"
     ]
    },
    {
     "name": "stderr",
     "output_type": "stream",
     "text": [
      "100%|█████████████████████████████████████████| 103/103 [00:02<00:00, 38.50it/s]\n"
     ]
    },
    {
     "name": "stdout",
     "output_type": "stream",
     "text": [
      "Model Loss is 0.0007061752839945257\n",
      "Time for epoch 142 is 2.6767256259918213 sec\n",
      "Epoch: 143\n",
      "Learning rate: 0.00085483055\n"
     ]
    },
    {
     "name": "stderr",
     "output_type": "stream",
     "text": [
      "100%|█████████████████████████████████████████| 103/103 [00:02<00:00, 38.57it/s]\n"
     ]
    },
    {
     "name": "stdout",
     "output_type": "stream",
     "text": [
      "Model Loss is 0.0008256056462414563\n",
      "Time for epoch 143 is 2.67202091217041 sec\n",
      "Epoch: 144\n",
      "Learning rate: 0.00085388625\n"
     ]
    },
    {
     "name": "stderr",
     "output_type": "stream",
     "text": [
      "100%|█████████████████████████████████████████| 103/103 [00:02<00:00, 38.63it/s]\n"
     ]
    },
    {
     "name": "stdout",
     "output_type": "stream",
     "text": [
      "Model Loss is 0.0006050494266673923\n",
      "Time for epoch 144 is 2.668304681777954 sec\n",
      "Epoch: 145\n",
      "Learning rate: 0.000852943\n"
     ]
    },
    {
     "name": "stderr",
     "output_type": "stream",
     "text": [
      "100%|█████████████████████████████████████████| 103/103 [00:02<00:00, 38.45it/s]\n"
     ]
    },
    {
     "name": "stdout",
     "output_type": "stream",
     "text": [
      "Model Loss is 0.0007996596978046\n",
      "Time for epoch 145 is 2.6803061962127686 sec\n",
      "Epoch: 146\n",
      "Learning rate: 0.00085200084\n"
     ]
    },
    {
     "name": "stderr",
     "output_type": "stream",
     "text": [
      "100%|█████████████████████████████████████████| 103/103 [00:02<00:00, 38.57it/s]\n"
     ]
    },
    {
     "name": "stdout",
     "output_type": "stream",
     "text": [
      "Model Loss is 0.0007207969320006669\n",
      "Time for epoch 146 is 2.671855926513672 sec\n",
      "Epoch: 147\n",
      "Learning rate: 0.0008510597\n"
     ]
    },
    {
     "name": "stderr",
     "output_type": "stream",
     "text": [
      "100%|█████████████████████████████████████████| 103/103 [00:02<00:00, 38.47it/s]\n"
     ]
    },
    {
     "name": "stdout",
     "output_type": "stream",
     "text": [
      "Model Loss is 0.0005745882517658174\n",
      "Time for epoch 147 is 2.678762674331665 sec\n",
      "Epoch: 148\n",
      "Learning rate: 0.00085011957\n"
     ]
    },
    {
     "name": "stderr",
     "output_type": "stream",
     "text": [
      "100%|█████████████████████████████████████████| 103/103 [00:02<00:00, 38.59it/s]\n"
     ]
    },
    {
     "name": "stdout",
     "output_type": "stream",
     "text": [
      "Model Loss is 0.0005060432013124228\n",
      "Time for epoch 148 is 2.670569896697998 sec\n",
      "Epoch: 149\n",
      "Learning rate: 0.00084918056\n"
     ]
    },
    {
     "name": "stderr",
     "output_type": "stream",
     "text": [
      "100%|█████████████████████████████████████████| 103/103 [00:02<00:00, 38.52it/s]\n"
     ]
    },
    {
     "name": "stdout",
     "output_type": "stream",
     "text": [
      "Model Loss is 0.0007645832374691963\n",
      "Time for epoch 149 is 2.6755099296569824 sec\n",
      "Epoch: 150\n",
      "Learning rate: 0.0008482425\n"
     ]
    },
    {
     "name": "stderr",
     "output_type": "stream",
     "text": [
      "100%|█████████████████████████████████████████| 103/103 [00:02<00:00, 38.53it/s]\n"
     ]
    },
    {
     "name": "stdout",
     "output_type": "stream",
     "text": [
      "Model Loss is 0.0006370368064381182\n",
      "Time for epoch 150 is 2.675215005874634 sec\n",
      "Epoch: 151\n",
      "Learning rate: 0.0008473055\n"
     ]
    },
    {
     "name": "stderr",
     "output_type": "stream",
     "text": [
      "100%|█████████████████████████████████████████| 103/103 [00:02<00:00, 38.64it/s]\n"
     ]
    },
    {
     "name": "stdout",
     "output_type": "stream",
     "text": [
      "Model Loss is 0.0007184770074672997\n",
      "Time for epoch 151 is 2.667048215866089 sec\n",
      "Epoch: 152\n",
      "Learning rate: 0.00084636954\n"
     ]
    },
    {
     "name": "stderr",
     "output_type": "stream",
     "text": [
      "100%|█████████████████████████████████████████| 103/103 [00:02<00:00, 38.72it/s]\n"
     ]
    },
    {
     "name": "stdout",
     "output_type": "stream",
     "text": [
      "Model Loss is 0.000677047180943191\n",
      "Time for epoch 152 is 2.6625564098358154 sec\n",
      "Epoch: 153\n",
      "Learning rate: 0.0008454346\n"
     ]
    },
    {
     "name": "stderr",
     "output_type": "stream",
     "text": [
      "100%|█████████████████████████████████████████| 103/103 [00:02<00:00, 38.86it/s]\n"
     ]
    },
    {
     "name": "stdout",
     "output_type": "stream",
     "text": [
      "Model Loss is 0.0005281714256852865\n",
      "Time for epoch 153 is 2.652386426925659 sec\n",
      "Epoch: 154\n",
      "Learning rate: 0.0008445007\n"
     ]
    },
    {
     "name": "stderr",
     "output_type": "stream",
     "text": [
      "100%|█████████████████████████████████████████| 103/103 [00:02<00:00, 38.71it/s]\n"
     ]
    },
    {
     "name": "stdout",
     "output_type": "stream",
     "text": [
      "Model Loss is 0.0006757907103747129\n",
      "Time for epoch 154 is 2.6624114513397217 sec\n",
      "Epoch: 155\n",
      "Learning rate: 0.0008435679\n"
     ]
    },
    {
     "name": "stderr",
     "output_type": "stream",
     "text": [
      "100%|█████████████████████████████████████████| 103/103 [00:02<00:00, 38.63it/s]\n"
     ]
    },
    {
     "name": "stdout",
     "output_type": "stream",
     "text": [
      "Model Loss is 0.0008110446506179869\n",
      "Time for epoch 155 is 2.6681787967681885 sec\n",
      "Epoch: 156\n",
      "Learning rate: 0.00084263604\n"
     ]
    },
    {
     "name": "stderr",
     "output_type": "stream",
     "text": [
      "100%|█████████████████████████████████████████| 103/103 [00:02<00:00, 38.48it/s]\n"
     ]
    },
    {
     "name": "stdout",
     "output_type": "stream",
     "text": [
      "Model Loss is 0.0007431039121001959\n",
      "Time for epoch 156 is 2.6779942512512207 sec\n",
      "Epoch: 157\n",
      "Learning rate: 0.00084170524\n"
     ]
    },
    {
     "name": "stderr",
     "output_type": "stream",
     "text": [
      "100%|█████████████████████████████████████████| 103/103 [00:02<00:00, 38.56it/s]\n"
     ]
    },
    {
     "name": "stdout",
     "output_type": "stream",
     "text": [
      "Model Loss is 0.0007260682177729905\n",
      "Time for epoch 157 is 2.672823429107666 sec\n",
      "Epoch: 158\n",
      "Learning rate: 0.00084077544\n"
     ]
    },
    {
     "name": "stderr",
     "output_type": "stream",
     "text": [
      "100%|█████████████████████████████████████████| 103/103 [00:02<00:00, 38.54it/s]\n"
     ]
    },
    {
     "name": "stdout",
     "output_type": "stream",
     "text": [
      "Model Loss is 0.0006831658538430929\n",
      "Time for epoch 158 is 2.67437744140625 sec\n",
      "Epoch: 159\n",
      "Learning rate: 0.00083984673\n"
     ]
    },
    {
     "name": "stderr",
     "output_type": "stream",
     "text": [
      "100%|█████████████████████████████████████████| 103/103 [00:02<00:00, 38.60it/s]\n"
     ]
    },
    {
     "name": "stdout",
     "output_type": "stream",
     "text": [
      "Model Loss is 0.000633980322163552\n",
      "Time for epoch 159 is 2.6702258586883545 sec\n",
      "Epoch: 160\n",
      "Learning rate: 0.00083891896\n"
     ]
    },
    {
     "name": "stderr",
     "output_type": "stream",
     "text": [
      "100%|█████████████████████████████████████████| 103/103 [00:02<00:00, 38.64it/s]\n"
     ]
    },
    {
     "name": "stdout",
     "output_type": "stream",
     "text": [
      "Model Loss is 0.0006205600220710039\n",
      "Time for epoch 160 is 29.03981351852417 sec\n",
      "Epoch: 161\n",
      "Learning rate: 0.00083799224\n"
     ]
    },
    {
     "name": "stderr",
     "output_type": "stream",
     "text": [
      "100%|█████████████████████████████████████████| 103/103 [00:03<00:00, 34.00it/s]\n"
     ]
    },
    {
     "name": "stdout",
     "output_type": "stream",
     "text": [
      "Model Loss is 0.0009031259687617421\n",
      "Time for epoch 161 is 3.0317208766937256 sec\n",
      "Epoch: 162\n",
      "Learning rate: 0.00083706656\n"
     ]
    },
    {
     "name": "stderr",
     "output_type": "stream",
     "text": [
      "100%|█████████████████████████████████████████| 103/103 [00:03<00:00, 34.32it/s]\n"
     ]
    },
    {
     "name": "stdout",
     "output_type": "stream",
     "text": [
      "Model Loss is 0.0011439635418355465\n",
      "Time for epoch 162 is 3.0036869049072266 sec\n",
      "Epoch: 163\n",
      "Learning rate: 0.000836142\n"
     ]
    },
    {
     "name": "stderr",
     "output_type": "stream",
     "text": [
      "100%|█████████████████████████████████████████| 103/103 [00:03<00:00, 34.25it/s]\n"
     ]
    },
    {
     "name": "stdout",
     "output_type": "stream",
     "text": [
      "Model Loss is 0.0009213834418915212\n",
      "Time for epoch 163 is 3.0099973678588867 sec\n",
      "Epoch: 164\n",
      "Learning rate: 0.00083521835\n"
     ]
    },
    {
     "name": "stderr",
     "output_type": "stream",
     "text": [
      "100%|█████████████████████████████████████████| 103/103 [00:03<00:00, 34.26it/s]\n"
     ]
    },
    {
     "name": "stdout",
     "output_type": "stream",
     "text": [
      "Model Loss is 0.0006754925125278533\n",
      "Time for epoch 164 is 3.009169340133667 sec\n",
      "Epoch: 165\n",
      "Learning rate: 0.0008342957\n"
     ]
    },
    {
     "name": "stderr",
     "output_type": "stream",
     "text": [
      "100%|█████████████████████████████████████████| 103/103 [00:03<00:00, 34.20it/s]\n"
     ]
    },
    {
     "name": "stdout",
     "output_type": "stream",
     "text": [
      "Model Loss is 0.0007308654021471739\n",
      "Time for epoch 165 is 3.0145816802978516 sec\n",
      "Epoch: 166\n",
      "Learning rate: 0.0008333741\n"
     ]
    },
    {
     "name": "stderr",
     "output_type": "stream",
     "text": [
      "100%|█████████████████████████████████████████| 103/103 [00:03<00:00, 34.25it/s]\n"
     ]
    },
    {
     "name": "stdout",
     "output_type": "stream",
     "text": [
      "Model Loss is 0.0007910121348686516\n",
      "Time for epoch 166 is 3.0100319385528564 sec\n",
      "Epoch: 167\n",
      "Learning rate: 0.00083245354\n"
     ]
    },
    {
     "name": "stderr",
     "output_type": "stream",
     "text": [
      "100%|█████████████████████████████████████████| 103/103 [00:03<00:00, 34.27it/s]\n"
     ]
    },
    {
     "name": "stdout",
     "output_type": "stream",
     "text": [
      "Model Loss is 0.0007968062418513\n",
      "Time for epoch 167 is 3.0079233646392822 sec\n",
      "Epoch: 168\n",
      "Learning rate: 0.0008315339\n"
     ]
    },
    {
     "name": "stderr",
     "output_type": "stream",
     "text": [
      "100%|█████████████████████████████████████████| 103/103 [00:03<00:00, 34.18it/s]\n"
     ]
    },
    {
     "name": "stdout",
     "output_type": "stream",
     "text": [
      "Model Loss is 0.0012240459909662604\n",
      "Time for epoch 168 is 3.015705108642578 sec\n",
      "Epoch: 169\n",
      "Learning rate: 0.00083061546\n"
     ]
    },
    {
     "name": "stderr",
     "output_type": "stream",
     "text": [
      "100%|█████████████████████████████████████████| 103/103 [00:03<00:00, 34.23it/s]\n"
     ]
    },
    {
     "name": "stdout",
     "output_type": "stream",
     "text": [
      "Model Loss is 0.0012883146991953254\n",
      "Time for epoch 169 is 3.0116398334503174 sec\n",
      "Epoch: 170\n",
      "Learning rate: 0.000829698\n"
     ]
    },
    {
     "name": "stderr",
     "output_type": "stream",
     "text": [
      "100%|█████████████████████████████████████████| 103/103 [00:03<00:00, 34.28it/s]\n"
     ]
    },
    {
     "name": "stdout",
     "output_type": "stream",
     "text": [
      "Model Loss is 0.0008652689284645021\n",
      "Time for epoch 170 is 3.007424831390381 sec\n",
      "Epoch: 171\n",
      "Learning rate: 0.00082878146\n"
     ]
    },
    {
     "name": "stderr",
     "output_type": "stream",
     "text": [
      "100%|█████████████████████████████████████████| 103/103 [00:03<00:00, 34.28it/s]\n"
     ]
    },
    {
     "name": "stdout",
     "output_type": "stream",
     "text": [
      "Model Loss is 0.0006478739087469876\n",
      "Time for epoch 171 is 3.007120132446289 sec\n",
      "Epoch: 172\n",
      "Learning rate: 0.00082786597\n"
     ]
    },
    {
     "name": "stderr",
     "output_type": "stream",
     "text": [
      "100%|█████████████████████████████████████████| 103/103 [00:03<00:00, 34.26it/s]\n"
     ]
    },
    {
     "name": "stdout",
     "output_type": "stream",
     "text": [
      "Model Loss is 0.0007260720012709498\n",
      "Time for epoch 172 is 3.008967161178589 sec\n",
      "Epoch: 173\n",
      "Learning rate: 0.00082695147\n"
     ]
    },
    {
     "name": "stderr",
     "output_type": "stream",
     "text": [
      "100%|█████████████████████████████████████████| 103/103 [00:03<00:00, 34.26it/s]\n"
     ]
    },
    {
     "name": "stdout",
     "output_type": "stream",
     "text": [
      "Model Loss is 0.0007891934365034103\n",
      "Time for epoch 173 is 3.008443832397461 sec\n",
      "Epoch: 174\n",
      "Learning rate: 0.00082603795\n"
     ]
    },
    {
     "name": "stderr",
     "output_type": "stream",
     "text": [
      "100%|█████████████████████████████████████████| 103/103 [00:03<00:00, 34.25it/s]\n"
     ]
    },
    {
     "name": "stdout",
     "output_type": "stream",
     "text": [
      "Model Loss is 0.0008380296640098095\n",
      "Time for epoch 174 is 3.010011672973633 sec\n",
      "Epoch: 175\n",
      "Learning rate: 0.0008251255\n"
     ]
    },
    {
     "name": "stderr",
     "output_type": "stream",
     "text": [
      "100%|█████████████████████████████████████████| 103/103 [00:03<00:00, 34.24it/s]\n"
     ]
    },
    {
     "name": "stdout",
     "output_type": "stream",
     "text": [
      "Model Loss is 0.0008257371373474598\n",
      "Time for epoch 175 is 3.010453701019287 sec\n",
      "Epoch: 176\n",
      "Learning rate: 0.0008242141\n"
     ]
    },
    {
     "name": "stderr",
     "output_type": "stream",
     "text": [
      "100%|█████████████████████████████████████████| 103/103 [00:03<00:00, 34.19it/s]\n"
     ]
    },
    {
     "name": "stdout",
     "output_type": "stream",
     "text": [
      "Model Loss is 0.0007800350431352854\n",
      "Time for epoch 176 is 3.014697551727295 sec\n",
      "Epoch: 177\n",
      "Learning rate: 0.0008233036\n"
     ]
    },
    {
     "name": "stderr",
     "output_type": "stream",
     "text": [
      "100%|█████████████████████████████████████████| 103/103 [00:03<00:00, 34.13it/s]\n"
     ]
    },
    {
     "name": "stdout",
     "output_type": "stream",
     "text": [
      "Model Loss is 0.0005241040489636362\n",
      "Time for epoch 177 is 3.020411968231201 sec\n",
      "Epoch: 178\n",
      "Learning rate: 0.00082239415\n"
     ]
    },
    {
     "name": "stderr",
     "output_type": "stream",
     "text": [
      "100%|█████████████████████████████████████████| 103/103 [00:03<00:00, 34.13it/s]\n"
     ]
    },
    {
     "name": "stdout",
     "output_type": "stream",
     "text": [
      "Model Loss is 0.0005692560225725174\n",
      "Time for epoch 178 is 3.019727945327759 sec\n",
      "Epoch: 179\n",
      "Learning rate: 0.00082148577\n"
     ]
    },
    {
     "name": "stderr",
     "output_type": "stream",
     "text": [
      "100%|█████████████████████████████████████████| 103/103 [00:03<00:00, 34.16it/s]\n"
     ]
    },
    {
     "name": "stdout",
     "output_type": "stream",
     "text": [
      "Model Loss is 0.0006615520105697215\n",
      "Time for epoch 179 is 3.0170810222625732 sec\n",
      "Epoch: 180\n",
      "Learning rate: 0.00082057825\n"
     ]
    },
    {
     "name": "stderr",
     "output_type": "stream",
     "text": [
      "100%|█████████████████████████████████████████| 103/103 [00:03<00:00, 34.15it/s]\n"
     ]
    },
    {
     "name": "stdout",
     "output_type": "stream",
     "text": [
      "Model Loss is 0.0005893814959563315\n",
      "Time for epoch 180 is 30.011756658554077 sec\n",
      "Epoch: 181\n",
      "Learning rate: 0.00081967184\n"
     ]
    },
    {
     "name": "stderr",
     "output_type": "stream",
     "text": [
      "100%|█████████████████████████████████████████| 103/103 [00:03<00:00, 33.85it/s]\n"
     ]
    },
    {
     "name": "stdout",
     "output_type": "stream",
     "text": [
      "Model Loss is 0.0005982967559248209\n",
      "Time for epoch 181 is 3.0446763038635254 sec\n",
      "Epoch: 182\n",
      "Learning rate: 0.0008187664\n"
     ]
    },
    {
     "name": "stderr",
     "output_type": "stream",
     "text": [
      "100%|█████████████████████████████████████████| 103/103 [00:03<00:00, 34.13it/s]\n"
     ]
    },
    {
     "name": "stdout",
     "output_type": "stream",
     "text": [
      "Model Loss is 0.0005692195263691247\n",
      "Time for epoch 182 is 3.0205748081207275 sec\n",
      "Epoch: 183\n",
      "Learning rate: 0.0008178619\n"
     ]
    },
    {
     "name": "stderr",
     "output_type": "stream",
     "text": [
      "100%|█████████████████████████████████████████| 103/103 [00:03<00:00, 34.02it/s]\n"
     ]
    },
    {
     "name": "stdout",
     "output_type": "stream",
     "text": [
      "Model Loss is 0.0006237390916794538\n",
      "Time for epoch 183 is 3.0297369956970215 sec\n",
      "Epoch: 184\n",
      "Learning rate: 0.00081695855\n"
     ]
    },
    {
     "name": "stderr",
     "output_type": "stream",
     "text": [
      "100%|█████████████████████████████████████████| 103/103 [00:03<00:00, 34.03it/s]\n"
     ]
    },
    {
     "name": "stdout",
     "output_type": "stream",
     "text": [
      "Model Loss is 0.0006347004673443735\n",
      "Time for epoch 184 is 3.028442621231079 sec\n",
      "Epoch: 185\n",
      "Learning rate: 0.0008160561\n"
     ]
    },
    {
     "name": "stderr",
     "output_type": "stream",
     "text": [
      "100%|█████████████████████████████████████████| 103/103 [00:03<00:00, 33.96it/s]\n"
     ]
    },
    {
     "name": "stdout",
     "output_type": "stream",
     "text": [
      "Model Loss is 0.0005296459421515465\n",
      "Time for epoch 185 is 30.011696100234985 sec\n",
      "Epoch: 186\n",
      "Learning rate: 0.00081515464\n"
     ]
    },
    {
     "name": "stderr",
     "output_type": "stream",
     "text": [
      "100%|█████████████████████████████████████████| 103/103 [00:02<00:00, 37.78it/s]\n"
     ]
    },
    {
     "name": "stdout",
     "output_type": "stream",
     "text": [
      "Model Loss is 0.0005162844900041819\n",
      "Time for epoch 186 is 2.7286386489868164 sec\n",
      "Epoch: 187\n",
      "Learning rate: 0.0008142542\n"
     ]
    },
    {
     "name": "stderr",
     "output_type": "stream",
     "text": [
      "100%|█████████████████████████████████████████| 103/103 [00:03<00:00, 34.13it/s]\n"
     ]
    },
    {
     "name": "stdout",
     "output_type": "stream",
     "text": [
      "Model Loss is 0.0006046040798537433\n",
      "Time for epoch 187 is 3.019965171813965 sec\n",
      "Epoch: 188\n",
      "Learning rate: 0.0008133548\n"
     ]
    },
    {
     "name": "stderr",
     "output_type": "stream",
     "text": [
      "100%|█████████████████████████████████████████| 103/103 [00:03<00:00, 34.08it/s]\n"
     ]
    },
    {
     "name": "stdout",
     "output_type": "stream",
     "text": [
      "Model Loss is 0.0006757555529475212\n",
      "Time for epoch 188 is 3.024054527282715 sec\n",
      "Epoch: 189\n",
      "Learning rate: 0.0008124563\n"
     ]
    },
    {
     "name": "stderr",
     "output_type": "stream",
     "text": [
      "100%|█████████████████████████████████████████| 103/103 [00:03<00:00, 34.08it/s]\n"
     ]
    },
    {
     "name": "stdout",
     "output_type": "stream",
     "text": [
      "Model Loss is 0.0005385411786846817\n",
      "Time for epoch 189 is 3.0248403549194336 sec\n",
      "Epoch: 190\n",
      "Learning rate: 0.00081155886\n"
     ]
    },
    {
     "name": "stderr",
     "output_type": "stream",
     "text": [
      "100%|█████████████████████████████████████████| 103/103 [00:03<00:00, 34.13it/s]\n"
     ]
    },
    {
     "name": "stdout",
     "output_type": "stream",
     "text": [
      "Model Loss is 0.0005383647512644529\n",
      "Time for epoch 190 is 3.0199837684631348 sec\n",
      "Epoch: 191\n",
      "Learning rate: 0.0008106624\n"
     ]
    },
    {
     "name": "stderr",
     "output_type": "stream",
     "text": [
      "100%|█████████████████████████████████████████| 103/103 [00:03<00:00, 34.21it/s]\n"
     ]
    },
    {
     "name": "stdout",
     "output_type": "stream",
     "text": [
      "Model Loss is 0.0006557205342687666\n",
      "Time for epoch 191 is 3.012650728225708 sec\n",
      "Epoch: 192\n",
      "Learning rate: 0.00080976693\n"
     ]
    },
    {
     "name": "stderr",
     "output_type": "stream",
     "text": [
      "100%|█████████████████████████████████████████| 103/103 [00:03<00:00, 34.18it/s]\n"
     ]
    },
    {
     "name": "stdout",
     "output_type": "stream",
     "text": [
      "Model Loss is 0.0005378564819693565\n",
      "Time for epoch 192 is 3.0154011249542236 sec\n",
      "Epoch: 193\n",
      "Learning rate: 0.0008088724\n"
     ]
    },
    {
     "name": "stderr",
     "output_type": "stream",
     "text": [
      "100%|█████████████████████████████████████████| 103/103 [00:03<00:00, 34.23it/s]\n"
     ]
    },
    {
     "name": "stdout",
     "output_type": "stream",
     "text": [
      "Model Loss is 0.0006350854528136551\n",
      "Time for epoch 193 is 3.011011838912964 sec\n",
      "Epoch: 194\n",
      "Learning rate: 0.00080797885\n"
     ]
    },
    {
     "name": "stderr",
     "output_type": "stream",
     "text": [
      "100%|█████████████████████████████████████████| 103/103 [00:03<00:00, 34.23it/s]\n"
     ]
    },
    {
     "name": "stdout",
     "output_type": "stream",
     "text": [
      "Model Loss is 0.0006640163483098149\n",
      "Time for epoch 194 is 3.0111567974090576 sec\n",
      "Epoch: 195\n",
      "Learning rate: 0.00080708636\n"
     ]
    },
    {
     "name": "stderr",
     "output_type": "stream",
     "text": [
      "100%|█████████████████████████████████████████| 103/103 [00:03<00:00, 34.28it/s]\n"
     ]
    },
    {
     "name": "stdout",
     "output_type": "stream",
     "text": [
      "Model Loss is 0.0005836267373524606\n",
      "Time for epoch 195 is 3.0067250728607178 sec\n",
      "Epoch: 196\n",
      "Learning rate: 0.0008061949\n"
     ]
    },
    {
     "name": "stderr",
     "output_type": "stream",
     "text": [
      "100%|█████████████████████████████████████████| 103/103 [00:03<00:00, 34.16it/s]\n"
     ]
    },
    {
     "name": "stdout",
     "output_type": "stream",
     "text": [
      "Model Loss is 0.0006773265777155757\n",
      "Time for epoch 196 is 3.0169148445129395 sec\n",
      "Epoch: 197\n",
      "Learning rate: 0.0008053043\n"
     ]
    },
    {
     "name": "stderr",
     "output_type": "stream",
     "text": [
      "100%|█████████████████████████████████████████| 103/103 [00:03<00:00, 34.27it/s]\n"
     ]
    },
    {
     "name": "stdout",
     "output_type": "stream",
     "text": [
      "Model Loss is 0.0006598571198992431\n",
      "Time for epoch 197 is 3.0076496601104736 sec\n",
      "Epoch: 198\n",
      "Learning rate: 0.00080441474\n"
     ]
    },
    {
     "name": "stderr",
     "output_type": "stream",
     "text": [
      "100%|█████████████████████████████████████████| 103/103 [00:03<00:00, 34.17it/s]\n"
     ]
    },
    {
     "name": "stdout",
     "output_type": "stream",
     "text": [
      "Model Loss is 0.0004990167799405754\n",
      "Time for epoch 198 is 3.016460657119751 sec\n",
      "Epoch: 199\n",
      "Learning rate: 0.00080352614\n"
     ]
    },
    {
     "name": "stderr",
     "output_type": "stream",
     "text": [
      "100%|█████████████████████████████████████████| 103/103 [00:03<00:00, 33.96it/s]\n"
     ]
    },
    {
     "name": "stdout",
     "output_type": "stream",
     "text": [
      "Model Loss is 0.0006030634394846857\n",
      "Time for epoch 199 is 3.034834146499634 sec\n",
      "Epoch: 200\n",
      "Learning rate: 0.0008026386\n"
     ]
    },
    {
     "name": "stderr",
     "output_type": "stream",
     "text": [
      "100%|█████████████████████████████████████████| 103/103 [00:03<00:00, 33.54it/s]\n"
     ]
    },
    {
     "name": "stdout",
     "output_type": "stream",
     "text": [
      "Model Loss is 0.0006762602715753019\n",
      "Time for epoch 200 is 3.073385238647461 sec\n",
      "Epoch: 201\n",
      "Learning rate: 0.000801752\n"
     ]
    },
    {
     "name": "stderr",
     "output_type": "stream",
     "text": [
      "100%|█████████████████████████████████████████| 103/103 [00:03<00:00, 33.55it/s]\n"
     ]
    },
    {
     "name": "stdout",
     "output_type": "stream",
     "text": [
      "Model Loss is 0.0005336325848475099\n",
      "Time for epoch 201 is 3.071925640106201 sec\n",
      "Epoch: 202\n",
      "Learning rate: 0.0008008663\n"
     ]
    },
    {
     "name": "stderr",
     "output_type": "stream",
     "text": [
      "100%|█████████████████████████████████████████| 103/103 [00:03<00:00, 33.71it/s]\n"
     ]
    },
    {
     "name": "stdout",
     "output_type": "stream",
     "text": [
      "Model Loss is 0.0004665941232815385\n",
      "Time for epoch 202 is 3.05777645111084 sec\n",
      "Epoch: 203\n",
      "Learning rate: 0.0007999816\n"
     ]
    },
    {
     "name": "stderr",
     "output_type": "stream",
     "text": [
      "100%|█████████████████████████████████████████| 103/103 [00:03<00:00, 33.96it/s]\n"
     ]
    },
    {
     "name": "stdout",
     "output_type": "stream",
     "text": [
      "Model Loss is 0.0004413157294038683\n",
      "Time for epoch 203 is 3.035362482070923 sec\n",
      "Epoch: 204\n",
      "Learning rate: 0.000799098\n"
     ]
    },
    {
     "name": "stderr",
     "output_type": "stream",
     "text": [
      "100%|█████████████████████████████████████████| 103/103 [00:03<00:00, 33.87it/s]\n"
     ]
    },
    {
     "name": "stdout",
     "output_type": "stream",
     "text": [
      "Model Loss is 0.0005776429898105562\n",
      "Time for epoch 204 is 3.04325270652771 sec\n",
      "Epoch: 205\n",
      "Learning rate: 0.0007982153\n"
     ]
    },
    {
     "name": "stderr",
     "output_type": "stream",
     "text": [
      " 38%|███████████████▉                          | 39/103 [00:01<00:01, 37.66it/s]\n"
     ]
    },
    {
     "ename": "KeyboardInterrupt",
     "evalue": "",
     "output_type": "error",
     "traceback": [
      "\u001b[0;31m---------------------------------------------------------------------------\u001b[0m",
      "\u001b[0;31mKeyboardInterrupt\u001b[0m                         Traceback (most recent call last)",
      "Cell \u001b[0;32mIn[23], line 1\u001b[0m\n\u001b[0;32m----> 1\u001b[0m \u001b[43mtrain\u001b[49m\u001b[43m(\u001b[49m\u001b[43m[\u001b[49m\u001b[43msel_indices\u001b[49m\u001b[43m,\u001b[49m\u001b[43m \u001b[49m\u001b[43msubjects_lr\u001b[49m\u001b[43m,\u001b[49m\u001b[43m \u001b[49m\u001b[43msubjects_hr\u001b[49m\u001b[43m,\u001b[49m\u001b[43m \u001b[49m\u001b[43msubjects_masks\u001b[49m\u001b[43m]\u001b[49m\u001b[43m,\u001b[49m\u001b[43m \u001b[49m\u001b[38;5;241;43m300\u001b[39;49m\u001b[43m)\u001b[49m\n",
      "Cell \u001b[0;32mIn[21], line 51\u001b[0m, in \u001b[0;36mtrain\u001b[0;34m(data, epochs)\u001b[0m\n\u001b[1;32m     47\u001b[0m     hr_patches\u001b[38;5;241m.\u001b[39mappend(hr_patch)\n\u001b[1;32m     49\u001b[0m     \u001b[38;5;28;01mcontinue\u001b[39;00m\n\u001b[0;32m---> 51\u001b[0m lr_patches \u001b[38;5;241m=\u001b[39m tf\u001b[38;5;241m.\u001b[39mconvert_to_tensor(np\u001b[38;5;241m.\u001b[39marray(lr_patches), dtype\u001b[38;5;241m=\u001b[39mtf\u001b[38;5;241m.\u001b[39mfloat32)\n\u001b[1;32m     52\u001b[0m hr_patches \u001b[38;5;241m=\u001b[39m tf\u001b[38;5;241m.\u001b[39mconvert_to_tensor(np\u001b[38;5;241m.\u001b[39marray(hr_patches), dtype\u001b[38;5;241m=\u001b[39mtf\u001b[38;5;241m.\u001b[39mfloat32)\n\u001b[1;32m     54\u001b[0m m_loss \u001b[38;5;241m=\u001b[39m tf\u001b[38;5;241m.\u001b[39mreduce_mean(train_step(lr_patches, hr_patches))\n",
      "\u001b[0;31mKeyboardInterrupt\u001b[0m: "
     ]
    }
   ],
   "source": [
    "train([sel_indices, subjects_lr, subjects_hr, subjects_masks], 300)"
   ]
  },
  {
   "cell_type": "code",
   "execution_count": 24,
   "metadata": {},
   "outputs": [
    {
     "data": {
      "text/plain": [
       "<matplotlib.image.AxesImage at 0x7f03a8ae4a10>"
      ]
     },
     "execution_count": 24,
     "metadata": {},
     "output_type": "execute_result"
    },
    {
     "data": {
      "image/png": "[encoded data removed]",
      "text/plain": [
       "<Figure size 640x480 with 1 Axes>"
      ]
     },
     "metadata": {},
     "output_type": "display_data"
    },
    {
     "data": {
      "image/png": "[encoded data removed]",
      "text/plain": [
       "<Figure size 640x480 with 1 Axes>"
      ]
     },
     "metadata": {},
     "output_type": "display_data"
    }
   ],
   "source": [
    "i = 60 \n",
    "j = 60\n",
    "k = 80\n",
    "\n",
    "channel = 0\n",
    "\n",
    "lr_patch = np.copy(subjects_lr[6][\n",
    "                        i - p_size_i - e_or_o : i + p_size_i,\n",
    "                        j - p_size_i - e_or_o : j + p_size_i,\n",
    "                        k - p_size_i - e_or_o : k + p_size_i, :])\n",
    "\n",
    "hr_patch = np.copy(subjects_hr[6][\n",
    "                        i - p_size_o - e_or_o : i + p_size_o,\n",
    "                        j - p_size_o - e_or_o : j + p_size_o,\n",
    "                        k - p_size_o - e_or_o : k + p_size_o, :])\n",
    "\n",
    "lr_mask = subjects_masks[6][\n",
    "                            i - p_size_i - e_or_o : i + p_size_i,\n",
    "                            j - p_size_i - e_or_o : j + p_size_i,\n",
    "                            k - p_size_i - e_or_o : k + p_size_i]\n",
    "\n",
    "lr_patch[lr_mask == 0] = 0\n",
    "\n",
    "generated_image = model_unet(lr_patch[None,...], training=False)\n",
    "\n",
    "plt.imshow(generated_image[0,:,:,3,channel],cmap='gray')\n",
    "plt.figure()\n",
    "plt.imshow(hr_patch[:,:,3,channel],cmap='gray')"
   ]
  },
  {
   "cell_type": "code",
   "execution_count": 25,
   "metadata": {},
   "outputs": [
    {
     "name": "stderr",
     "output_type": "stream",
     "text": [
      "100%|███████████████████████████████████████████| 65/65 [00:02<00:00, 24.46it/s]\n"
     ]
    }
   ],
   "source": [
    "# subjects_lr\n",
    "# subjects_hr# subjects_masks\n",
    "\n",
    "result_image = np.zeros(hires_output.shape)\n",
    "\n",
    "for (i, j, k) in tqdm(sel_indices[np.where(sel_indices[:,0]==6),1:].squeeze()):\n",
    "\n",
    "    lr_patch = np.copy(subjects_lr[6][\n",
    "                            i - p_size_i - e_or_o : i + p_size_i,\n",
    "                            j - p_size_i - e_or_o : j + p_size_i,\n",
    "                            k - p_size_i - e_or_o : k + p_size_i, :])\n",
    "\n",
    "    lr_mask = subjects_masks[6][\n",
    "                                i - p_size_i - e_or_o : i + p_size_i,\n",
    "                                j - p_size_i - e_or_o : j + p_size_i,\n",
    "                                k - p_size_i - e_or_o : k + p_size_i]\n",
    "\n",
    "    lr_patch[lr_mask == 0] = 0\n",
    "\n",
    "    output_patch = model_unet(lr_patch[None,...], training=False)\n",
    "\n",
    "    result_image[i - p_size_o - e_or_o : i + p_size_o,\n",
    "                 j - p_size_o - e_or_o : j + p_size_o,\n",
    "                 k - p_size_o - e_or_o : k + p_size_o, :] = output_patch\n",
    "\n",
    "result_image[subjects_masks[6] < 0] = 0\n",
    "    "
   ]
  },
  {
   "cell_type": "code",
   "execution_count": 26,
   "metadata": {},
   "outputs": [
    {
     "data": {
      "text/plain": [
       "<matplotlib.image.AxesImage at 0x7f034dfdc4d0>"
      ]
     },
     "execution_count": 26,
     "metadata": {},
     "output_type": "execute_result"
    },
    {
     "data": {
      "image/png": "[encoded data removed]",
      "text/plain": [
       "<Figure size 640x480 with 1 Axes>"
      ]
     },
     "metadata": {},
     "output_type": "display_data"
    },
    {
     "data": {
      "image/png": "[encoded data removed]",
      "text/plain": [
       "<Figure size 640x480 with 1 Axes>"
      ]
     },
     "metadata": {},
     "output_type": "display_data"
    },
    {
     "data": {
      "image/png": "[encoded data removed]",
      "text/plain": [
       "<Figure size 640x480 with 1 Axes>"
      ]
     },
     "metadata": {},
     "output_type": "display_data"
    }
   ],
   "source": [
    "zdim = 60\n",
    "channel = 0\n",
    "\n",
    "# plt.imshow(subjects_masks[6][:,:,zdim], cmap='gray')\n",
    "# plt.figure()\n",
    "plt.imshow(subjects_lr[6][:,:,zdim,channel], cmap='gray')\n",
    "plt.figure()\n",
    "plt.imshow(subjects_hr[6][:,:,zdim,channel], cmap='gray')\n",
    "plt.figure()\n",
    "plt.imshow(result_image[:,:,zdim,channel], cmap='gray')"
   ]
  },
  {
   "cell_type": "code",
   "execution_count": 27,
   "metadata": {},
   "outputs": [
    {
     "name": "stdout",
     "output_type": "stream",
     "text": [
      "0.1155143577484637 0.0033739805722374124 0.04106258600950241\n"
     ]
    },
    {
     "data": {
      "image/png": "[encoded data removed]",
      "text/plain": [
       "<Figure size 640x480 with 1 Axes>"
      ]
     },
     "metadata": {},
     "output_type": "display_data"
    },
    {
     "data": {
      "image/png": "[encoded data removed]",
      "text/plain": [
       "<Figure size 640x480 with 1 Axes>"
      ]
     },
     "metadata": {},
     "output_type": "display_data"
    },
    {
     "data": {
      "image/png": "[encoded data removed]",
      "text/plain": [
       "<Figure size 640x480 with 1 Axes>"
      ]
     },
     "metadata": {},
     "output_type": "display_data"
    }
   ],
   "source": [
    "plt.imshow(subjects_lr[6][50:90,60:120,zdim,channel], cmap='gray')\n",
    "plt.figure()\n",
    "plt.imshow(subjects_hr[6][50:90,60:120,zdim,channel], cmap='gray')\n",
    "plt.figure()\n",
    "plt.imshow(result_image[50:90,60:120,zdim,channel], cmap='gray')\n",
    "\n",
    "print(np.min(subjects_lr[6][40:80,60:120,zdim,channel]), np.min(subjects_hr[6][40:80,60:120,zdim,channel]), np.min(result_image[40:80,60:120,zdim,channel]))"
   ]
  },
  {
   "cell_type": "code",
   "execution_count": 19,
   "metadata": {},
   "outputs": [],
   "source": [
    "# generator.save_weights('Model/gen_weights')\n",
    "# discriminator.save_weights('Model/disc_weights')"
   ]
  },
  {
   "cell_type": "code",
   "execution_count": 20,
   "metadata": {},
   "outputs": [
    {
     "name": "stdout",
     "output_type": "stream",
     "text": [
      "WARNING:tensorflow:Compiled the loaded model, but the compiled metrics have yet to be built. `model.compile_metrics` will be empty until you train or evaluate the model.\n",
      "INFO:tensorflow:Assets written to: Model/unet_model_map/assets\n"
     ]
    },
    {
     "name": "stderr",
     "output_type": "stream",
     "text": [
      "INFO:tensorflow:Assets written to: Model/unet_model_map/assets\n"
     ]
    }
   ],
   "source": [
    "model_unet.save('Model/unet_model_map')"
   ]
  }
 ],
 "metadata": {
  "kernelspec": {
   "display_name": "Python 3 (ipykernel)",
   "language": "python",
   "name": "python3"
  },
  "language_info": {
   "codemirror_mode": {
    "name": "ipython",
    "version": 3
   },
   "file_extension": ".py",
   "mimetype": "text/x-python",
   "name": "python",
   "nbconvert_exporter": "python",
   "pygments_lexer": "ipython3",
   "version": "3.11.4"
  }
 },
 "nbformat": 4,
 "nbformat_minor": 4
}
