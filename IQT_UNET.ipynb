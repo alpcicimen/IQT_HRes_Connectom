{
 "cells": [
  {
   "cell_type": "code",
   "execution_count": 1,
   "metadata": {
    "ExecuteTime": {
     "end_time": "2023-08-05T13:44:49.616254700Z",
     "start_time": "2023-08-05T13:44:43.055344700Z"
    }
   },
   "outputs": [
    {
     "name": "stderr",
     "output_type": "stream",
     "text": [
      "2023-08-24 19:53:35.772999: I tensorflow/core/util/port.cc:110] oneDNN custom operations are on. You may see slightly different numerical results due to floating-point round-off errors from different computation orders. To turn them off, set the environment variable `TF_ENABLE_ONEDNN_OPTS=0`.\n",
      "2023-08-24 19:53:35.801660: I tensorflow/core/platform/cpu_feature_guard.cc:182] This TensorFlow binary is optimized to use available CPU instructions in performance-critical operations.\n",
      "To enable the following instructions: AVX2 AVX_VNNI FMA, in other operations, rebuild TensorFlow with the appropriate compiler flags.\n",
      "2023-08-24 19:53:37.101384: W tensorflow/compiler/tf2tensorrt/utils/py_utils.cc:38] TF-TRT Warning: Could not find TensorRT\n"
     ]
    }
   ],
   "source": [
    "import tensorflow as tf"
   ]
  },
  {
   "cell_type": "code",
   "execution_count": 2,
   "metadata": {
    "ExecuteTime": {
     "end_time": "2023-08-05T13:44:49.635699800Z",
     "start_time": "2023-08-05T13:44:49.617799900Z"
    },
    "collapsed": false,
    "jupyter": {
     "outputs_hidden": false
    }
   },
   "outputs": [
    {
     "data": {
      "text/plain": [
       "'2.13.0'"
      ]
     },
     "execution_count": 2,
     "metadata": {},
     "output_type": "execute_result"
    }
   ],
   "source": [
    "tf.__version__"
   ]
  },
  {
   "cell_type": "code",
   "execution_count": 3,
   "metadata": {
    "ExecuteTime": {
     "end_time": "2023-08-05T13:44:51.214287100Z",
     "start_time": "2023-08-05T13:44:49.620274400Z"
    },
    "collapsed": false,
    "jupyter": {
     "outputs_hidden": false
    }
   },
   "outputs": [],
   "source": [
    "import glob\n",
    "# import imageio\n",
    "import matplotlib.pyplot as plt\n",
    "import numpy as np\n",
    "import os\n",
    "import PIL\n",
    "# from tensorflow.python.keras import layers\n",
    "from tensorflow.keras import layers, activations\n",
    "import time\n",
    "import nibabel as nib\n",
    "from tqdm import tqdm\n",
    "import gc\n",
    "from scipy.ndimage import binary_erosion\n",
    "from IPython import display\n",
    "import datetime\n",
    "\n",
    "import model"
   ]
  },
  {
   "cell_type": "code",
   "execution_count": 4,
   "metadata": {},
   "outputs": [
    {
     "name": "stdout",
     "output_type": "stream",
     "text": [
      "['390645', '545345', '106016', '120111', '101915', '351938', '705341']\n"
     ]
    }
   ],
   "source": [
    "subjects = [ f.name for f in os.scandir('./Data') if f.is_dir() and f.name != '.ipynb_checkpoints']\n",
    "\n",
    "# subjects = ['390645', '120111']\n",
    "\n",
    "e_or_o = 0\n",
    "\n",
    "p_size_i = 16\n",
    "p_size_o = p_size_i\n",
    "\n",
    "print(subjects)"
   ]
  },
  {
   "cell_type": "code",
   "execution_count": 5,
   "metadata": {
    "ExecuteTime": {
     "end_time": "2023-08-05T14:00:04.659577500Z",
     "start_time": "2023-08-05T14:00:01.079241200Z"
    }
   },
   "outputs": [
    {
     "name": "stdout",
     "output_type": "stream",
     "text": [
      "Loading Subject 390645\n",
      "Loading Subject 545345\n",
      "Loading Subject 106016\n",
      "Loading Subject 120111\n",
      "Loading Subject 101915\n",
      "Loading Subject 351938\n",
      "Loading Subject 705341\n"
     ]
    }
   ],
   "source": [
    "subjects_lr = []\n",
    "subjects_hr = []\n",
    "subjects_masks = []\n",
    "\n",
    "subjects_preproc_values_lr = []\n",
    "subjects_preproc_values_hr = []\n",
    "\n",
    "subjects_t1_preproc_values = []\n",
    "\n",
    "for subj in subjects:\n",
    "\n",
    "    h4_imgs = []\n",
    "    h4_imgs_lr = []\n",
    "    dti_imgs = []\n",
    "    dti_imgs_lr = []\n",
    "\n",
    "    # DTI normalisation metrics pre-normalisation (storing max and min values in the mask) - Store for HR only\n",
    "    dti_preprocs_hr = np.zeros((6,2))\n",
    "    dti_preprocs_lr = np.zeros((6,2))\n",
    "\n",
    "    print(\"Loading Subject {}\".format(subj))\n",
    "    \n",
    "    for i in range(1,9):\n",
    "    \n",
    "        dti_data = np.array(nib.load(\"Data/{}/T1w/Diffusion/dt_all_{}.nii\".format(subj,i)).get_fdata())\n",
    "        dti_data_lr = np.array(nib.load(\"Data/{}/T1w/Diffusion/dt_all_lowres_2_{}.nii\".format(subj,i)).get_fdata())\n",
    "    \n",
    "        # if i > 1:\n",
    "        #     dti_data[dti_imgs[0] < 0] = 0\n",
    "        #     dti_data_lr[dti_imgs[0] < 0] = 0\n",
    "    \n",
    "        dti_imgs.append(dti_data)\n",
    "        dti_imgs_lr.append(dti_data_lr)\n",
    "    \n",
    "        dti_data = None\n",
    "        dti_data_lr = None\n",
    "    \n",
    "    for i in range(1,25):\n",
    "    \n",
    "        h4_data = np.array(nib.load(\"Data/{}/T1w/Diffusion/h4_all_{}.nii\".format(subj,str(i).zfill(2))).get_fdata())\n",
    "        h4_data_lr = np.array(nib.load(\"Data/{}/T1w/Diffusion/h4_all_lowres_2_{}.nii\".format(subj,str(i).zfill(2))).get_fdata())\n",
    "    \n",
    "        # if i > 1:\n",
    "        #     h4_data[h4_data[0] < 0] = 0\n",
    "        #     h4_data_lr[h4_data[0] < 0] = 0\n",
    "        \n",
    "        h4_imgs.append(h4_data)\n",
    "        h4_imgs_lr.append(h4_data_lr)\n",
    "    \n",
    "        h4_data = None\n",
    "        h4_data_lr = None\n",
    "    \n",
    "    h4_imgs = np.array(h4_imgs).transpose((1,2,3,0))\n",
    "    h4_imgs_lr = np.array(h4_imgs_lr).transpose((1,2,3,0))\n",
    "    \n",
    "    dti_imgs = np.array(dti_imgs).transpose((1,2,3,0))\n",
    "    dti_imgs_lr = np.array(dti_imgs_lr).transpose((1,2,3,0))\n",
    "    \n",
    "    mask = h4_imgs[...,0]\n",
    "\n",
    "    binmask = np.zeros(mask.shape)\n",
    "\n",
    "    binmask[mask >= 0] = 1\n",
    "\n",
    "    mask = binary_erosion(binmask, structure=np.ones((5,5,5),np.uint8),iterations = 1)\n",
    "\n",
    "    binmask = None\n",
    "\n",
    "    # Calculate DTI ranges and normalise to range [0,1]\n",
    "    for i in range(2,8):\n",
    "\n",
    "        dti_preprocs_lr[i-2,:] = np.array([np.min(mask*dti_imgs_lr[...,i]), np.max(mask*dti_imgs_lr[...,i])])\n",
    "        dti_imgs_lr[mask>0, i] = (dti_imgs_lr[mask>0, i] - dti_preprocs_lr[i-2,0] + 0.0001) / (dti_preprocs_lr[i-2,1] - dti_preprocs_lr[i-2,0])\n",
    "        dti_imgs_lr[mask==0, i] = 0\n",
    "\n",
    "        dti_preprocs_hr[i-2,:] = np.array([np.min(mask*dti_imgs[...,i]), np.max(mask*dti_imgs[...,i])])\n",
    "        dti_imgs[mask>0, i] = (dti_imgs[mask>0, i] - dti_preprocs_hr[i-2,0] + 0.0001) / (dti_preprocs_hr[i-2,1] - dti_preprocs_hr[i-2,0])\n",
    "        dti_imgs[mask==0, i] = 0\n",
    "\n",
    "\n",
    "    t1w = nib.load(\"Data/{}/T1w/Diffusion/t1w.nii\".format(subj))\n",
    "    \n",
    "    t1w_data = np.array(t1w.get_fdata())\n",
    "    \n",
    "    t1w_data_format = np.concatenate(\n",
    "        (t1w_data[::2,::2,::2, None], t1w_data[::2,::2,1::2, None],\n",
    "         t1w_data[::2,1::2,::2, None], t1w_data[::2,1::2,1::2, None],\n",
    "         t1w_data[1::2,::2,::2, None], t1w_data[1::2,::2,1::2, None],\n",
    "         t1w_data[1::2,1::2,::2, None], t1w_data[1::2,1::2,1::2, None]),\n",
    "        axis=-1)\n",
    "\n",
    "    t1w_preprocs = np.array([np.min(t1w_data_format*mask[...,None]), np.max(t1w_data_format*mask[...,None])])\n",
    "    \n",
    "    subjects_t1_preproc_values.append(t1w_preprocs)    \n",
    "    t1w_data_format[mask>0, :] = (t1w_data_format[mask>0, :] - t1w_preprocs[0] + 0.0001) / (t1w_preprocs[1] - t1w_preprocs[0])\n",
    "\n",
    "    subjects_preproc_values_lr.append(dti_preprocs_lr)\n",
    "    subjects_preproc_values_hr.append(dti_preprocs_hr)\n",
    "\n",
    "    lowres_input = np.concatenate((dti_imgs_lr[...,2:], t1w_data_format), axis=-1)\n",
    "    hires_output = np.copy(dti_imgs[...,2:])\n",
    "    \n",
    "    # lowres_input = np.concatenate((h4_imgs_lr[...,2:], dti_imgs_lr[...,2:], t1w_data_format), axis=-1)\n",
    "    # hires_output = np.copy(h4_imgs[...,2:])\n",
    "\n",
    "    subjects_lr.append(lowres_input)\n",
    "    subjects_hr.append(hires_output)\n",
    "    subjects_masks.append(mask)\n"
   ]
  },
  {
   "cell_type": "code",
   "execution_count": 6,
   "metadata": {
    "ExecuteTime": {
     "end_time": "2023-08-05T15:25:06.718078900Z",
     "start_time": "2023-08-05T15:25:06.534741600Z"
    },
    "collapsed": false,
    "jupyter": {
     "outputs_hidden": false
    }
   },
   "outputs": [
    {
     "name": "stderr",
     "output_type": "stream",
     "text": [
      "2023-08-24 19:53:55.473045: I tensorflow/compiler/xla/stream_executor/cuda/cuda_gpu_executor.cc:995] successful NUMA node read from SysFS had negative value (-1), but there must be at least one NUMA node, so returning NUMA node zero. See more at https://github.com/torvalds/linux/blob/v6.0/Documentation/ABI/testing/sysfs-bus-pci#L344-L355\n",
      "2023-08-24 19:53:55.489205: I tensorflow/compiler/xla/stream_executor/cuda/cuda_gpu_executor.cc:995] successful NUMA node read from SysFS had negative value (-1), but there must be at least one NUMA node, so returning NUMA node zero. See more at https://github.com/torvalds/linux/blob/v6.0/Documentation/ABI/testing/sysfs-bus-pci#L344-L355\n",
      "2023-08-24 19:53:55.489310: I tensorflow/compiler/xla/stream_executor/cuda/cuda_gpu_executor.cc:995] successful NUMA node read from SysFS had negative value (-1), but there must be at least one NUMA node, so returning NUMA node zero. See more at https://github.com/torvalds/linux/blob/v6.0/Documentation/ABI/testing/sysfs-bus-pci#L344-L355\n",
      "2023-08-24 19:53:55.490619: I tensorflow/compiler/xla/stream_executor/cuda/cuda_gpu_executor.cc:995] successful NUMA node read from SysFS had negative value (-1), but there must be at least one NUMA node, so returning NUMA node zero. See more at https://github.com/torvalds/linux/blob/v6.0/Documentation/ABI/testing/sysfs-bus-pci#L344-L355\n",
      "2023-08-24 19:53:55.490698: I tensorflow/compiler/xla/stream_executor/cuda/cuda_gpu_executor.cc:995] successful NUMA node read from SysFS had negative value (-1), but there must be at least one NUMA node, so returning NUMA node zero. See more at https://github.com/torvalds/linux/blob/v6.0/Documentation/ABI/testing/sysfs-bus-pci#L344-L355\n",
      "2023-08-24 19:53:55.490748: I tensorflow/compiler/xla/stream_executor/cuda/cuda_gpu_executor.cc:995] successful NUMA node read from SysFS had negative value (-1), but there must be at least one NUMA node, so returning NUMA node zero. See more at https://github.com/torvalds/linux/blob/v6.0/Documentation/ABI/testing/sysfs-bus-pci#L344-L355\n",
      "2023-08-24 19:53:55.794903: I tensorflow/compiler/xla/stream_executor/cuda/cuda_gpu_executor.cc:995] successful NUMA node read from SysFS had negative value (-1), but there must be at least one NUMA node, so returning NUMA node zero. See more at https://github.com/torvalds/linux/blob/v6.0/Documentation/ABI/testing/sysfs-bus-pci#L344-L355\n",
      "2023-08-24 19:53:55.795024: I tensorflow/compiler/xla/stream_executor/cuda/cuda_gpu_executor.cc:995] successful NUMA node read from SysFS had negative value (-1), but there must be at least one NUMA node, so returning NUMA node zero. See more at https://github.com/torvalds/linux/blob/v6.0/Documentation/ABI/testing/sysfs-bus-pci#L344-L355\n",
      "2023-08-24 19:53:55.795082: I tensorflow/compiler/xla/stream_executor/cuda/cuda_gpu_executor.cc:995] successful NUMA node read from SysFS had negative value (-1), but there must be at least one NUMA node, so returning NUMA node zero. See more at https://github.com/torvalds/linux/blob/v6.0/Documentation/ABI/testing/sysfs-bus-pci#L344-L355\n",
      "2023-08-24 19:53:55.795139: I tensorflow/core/common_runtime/gpu/gpu_device.cc:1639] Created device /job:localhost/replica:0/task:0/device:GPU:0 with 21793 MB memory:  -> device: 0, name: NVIDIA GeForce RTX 3090 Ti, pci bus id: 0000:01:00.0, compute capability: 8.6\n"
     ]
    }
   ],
   "source": [
    "input_layer = tf.keras.Input(shape=(2*p_size_i, 2*p_size_i, 2*p_size_i, 14))\n",
    "output_layer = model.unet3d(input_layer, 50, 6)\n",
    "\n",
    "# output_layer = tf.keras.activations.sigmoid(output_layer)\n",
    "\n",
    "model_unet = tf.keras.Model(input_layer, output_layer)"
   ]
  },
  {
   "cell_type": "code",
   "execution_count": 7,
   "metadata": {},
   "outputs": [
    {
     "name": "stdout",
     "output_type": "stream",
     "text": [
      "Model: \"model\"\n",
      "__________________________________________________________________________________________________\n",
      " Layer (type)                Output Shape                 Param #   Connected to                  \n",
      "==================================================================================================\n",
      " input_1 (InputLayer)        [(None, 32, 32, 32, 14)]     0         []                            \n",
      "                                                                                                  \n",
      " conv3d (Conv3D)             (None, 32, 32, 32, 50)       18950     ['input_1[0][0]']             \n",
      "                                                                                                  \n",
      " batch_normalization (Batch  (None, 32, 32, 32, 50)       200       ['conv3d[0][0]']              \n",
      " Normalization)                                                                                   \n",
      "                                                                                                  \n",
      " conv3d_1 (Conv3D)           (None, 32, 32, 32, 50)       67550     ['batch_normalization[0][0]'] \n",
      "                                                                                                  \n",
      " batch_normalization_1 (Bat  (None, 32, 32, 32, 50)       200       ['conv3d_1[0][0]']            \n",
      " chNormalization)                                                                                 \n",
      "                                                                                                  \n",
      " conv3d_2 (Conv3D)           (None, 16, 16, 16, 100)      135100    ['batch_normalization_1[0][0]'\n",
      "                                                                    ]                             \n",
      "                                                                                                  \n",
      " batch_normalization_2 (Bat  (None, 16, 16, 16, 100)      400       ['conv3d_2[0][0]']            \n",
      " chNormalization)                                                                                 \n",
      "                                                                                                  \n",
      " conv3d_3 (Conv3D)           (None, 16, 16, 16, 100)      270100    ['batch_normalization_2[0][0]'\n",
      "                                                                    ]                             \n",
      "                                                                                                  \n",
      " batch_normalization_3 (Bat  (None, 16, 16, 16, 100)      400       ['conv3d_3[0][0]']            \n",
      " chNormalization)                                                                                 \n",
      "                                                                                                  \n",
      " conv3d_4 (Conv3D)           (None, 16, 16, 16, 100)      270100    ['batch_normalization_3[0][0]'\n",
      "                                                                    ]                             \n",
      "                                                                                                  \n",
      " batch_normalization_4 (Bat  (None, 16, 16, 16, 100)      400       ['conv3d_4[0][0]']            \n",
      " chNormalization)                                                                                 \n",
      "                                                                                                  \n",
      " conv3d_5 (Conv3D)           (None, 8, 8, 8, 200)         540200    ['batch_normalization_4[0][0]'\n",
      "                                                                    ]                             \n",
      "                                                                                                  \n",
      " batch_normalization_5 (Bat  (None, 8, 8, 8, 200)         800       ['conv3d_5[0][0]']            \n",
      " chNormalization)                                                                                 \n",
      "                                                                                                  \n",
      " conv3d_6 (Conv3D)           (None, 8, 8, 8, 200)         1080200   ['batch_normalization_5[0][0]'\n",
      "                                                                    ]                             \n",
      "                                                                                                  \n",
      " batch_normalization_6 (Bat  (None, 8, 8, 8, 200)         800       ['conv3d_6[0][0]']            \n",
      " chNormalization)                                                                                 \n",
      "                                                                                                  \n",
      " conv3d_7 (Conv3D)           (None, 8, 8, 8, 200)         1080200   ['batch_normalization_6[0][0]'\n",
      "                                                                    ]                             \n",
      "                                                                                                  \n",
      " batch_normalization_7 (Bat  (None, 8, 8, 8, 200)         800       ['conv3d_7[0][0]']            \n",
      " chNormalization)                                                                                 \n",
      "                                                                                                  \n",
      " conv3d_8 (Conv3D)           (None, 4, 4, 4, 400)         2160400   ['batch_normalization_7[0][0]'\n",
      "                                                                    ]                             \n",
      "                                                                                                  \n",
      " batch_normalization_8 (Bat  (None, 4, 4, 4, 400)         1600      ['conv3d_8[0][0]']            \n",
      " chNormalization)                                                                                 \n",
      "                                                                                                  \n",
      " conv3d_9 (Conv3D)           (None, 4, 4, 4, 400)         4320400   ['batch_normalization_8[0][0]'\n",
      "                                                                    ]                             \n",
      "                                                                                                  \n",
      " batch_normalization_9 (Bat  (None, 4, 4, 4, 400)         1600      ['conv3d_9[0][0]']            \n",
      " chNormalization)                                                                                 \n",
      "                                                                                                  \n",
      " conv3d_10 (Conv3D)          (None, 4, 4, 4, 400)         4320400   ['batch_normalization_9[0][0]'\n",
      "                                                                    ]                             \n",
      "                                                                                                  \n",
      " batch_normalization_10 (Ba  (None, 4, 4, 4, 400)         1600      ['conv3d_10[0][0]']           \n",
      " tchNormalization)                                                                                \n",
      "                                                                                                  \n",
      " conv3d_11 (Conv3D)          (None, 2, 2, 2, 800)         8640800   ['batch_normalization_10[0][0]\n",
      "                                                                    ']                            \n",
      "                                                                                                  \n",
      " batch_normalization_11 (Ba  (None, 2, 2, 2, 800)         3200      ['conv3d_11[0][0]']           \n",
      " tchNormalization)                                                                                \n",
      "                                                                                                  \n",
      " conv3d_12 (Conv3D)          (None, 2, 2, 2, 800)         1728080   ['batch_normalization_11[0][0]\n",
      "                                                          0         ']                            \n",
      "                                                                                                  \n",
      " batch_normalization_12 (Ba  (None, 2, 2, 2, 800)         3200      ['conv3d_12[0][0]']           \n",
      " tchNormalization)                                                                                \n",
      "                                                                                                  \n",
      " conv3d_transpose (Conv3DTr  (None, 4, 4, 4, 400)         6912040   ['batch_normalization_12[0][0]\n",
      " anspose)                                                 0         ']                            \n",
      "                                                                                                  \n",
      " batch_normalization_13 (Ba  (None, 4, 4, 4, 400)         1600      ['conv3d_transpose[0][0]']    \n",
      " tchNormalization)                                                                                \n",
      "                                                                                                  \n",
      " tf.slice (TFOpLambda)       (None, 4, 4, 4, 400)         0         ['batch_normalization_13[0][0]\n",
      "                                                                    ']                            \n",
      "                                                                                                  \n",
      " concatenate (Concatenate)   (None, 4, 4, 4, 800)         0         ['tf.slice[0][0]',            \n",
      "                                                                     'batch_normalization_10[0][0]\n",
      "                                                                    ']                            \n",
      "                                                                                                  \n",
      " conv3d_13 (Conv3D)          (None, 4, 4, 4, 400)         8640400   ['concatenate[0][0]']         \n",
      "                                                                                                  \n",
      " batch_normalization_14 (Ba  (None, 4, 4, 4, 400)         1600      ['conv3d_13[0][0]']           \n",
      " tchNormalization)                                                                                \n",
      "                                                                                                  \n",
      " conv3d_14 (Conv3D)          (None, 4, 4, 4, 400)         4320400   ['batch_normalization_14[0][0]\n",
      "                                                                    ']                            \n",
      "                                                                                                  \n",
      " batch_normalization_15 (Ba  (None, 4, 4, 4, 400)         1600      ['conv3d_14[0][0]']           \n",
      " tchNormalization)                                                                                \n",
      "                                                                                                  \n",
      " conv3d_transpose_1 (Conv3D  (None, 8, 8, 8, 200)         1728020   ['batch_normalization_15[0][0]\n",
      " Transpose)                                               0         ']                            \n",
      "                                                                                                  \n",
      " batch_normalization_16 (Ba  (None, 8, 8, 8, 200)         800       ['conv3d_transpose_1[0][0]']  \n",
      " tchNormalization)                                                                                \n",
      "                                                                                                  \n",
      " tf.slice_1 (TFOpLambda)     (None, 8, 8, 8, 200)         0         ['batch_normalization_16[0][0]\n",
      "                                                                    ']                            \n",
      "                                                                                                  \n",
      " concatenate_1 (Concatenate  (None, 8, 8, 8, 400)         0         ['tf.slice_1[0][0]',          \n",
      " )                                                                   'batch_normalization_7[0][0]'\n",
      "                                                                    ]                             \n",
      "                                                                                                  \n",
      " conv3d_15 (Conv3D)          (None, 8, 8, 8, 200)         2160200   ['concatenate_1[0][0]']       \n",
      "                                                                                                  \n",
      " batch_normalization_17 (Ba  (None, 8, 8, 8, 200)         800       ['conv3d_15[0][0]']           \n",
      " tchNormalization)                                                                                \n",
      "                                                                                                  \n",
      " conv3d_16 (Conv3D)          (None, 8, 8, 8, 200)         1080200   ['batch_normalization_17[0][0]\n",
      "                                                                    ']                            \n",
      "                                                                                                  \n",
      " batch_normalization_18 (Ba  (None, 8, 8, 8, 200)         800       ['conv3d_16[0][0]']           \n",
      " tchNormalization)                                                                                \n",
      "                                                                                                  \n",
      " conv3d_transpose_2 (Conv3D  (None, 16, 16, 16, 100)      4320100   ['batch_normalization_18[0][0]\n",
      " Transpose)                                                         ']                            \n",
      "                                                                                                  \n",
      " batch_normalization_19 (Ba  (None, 16, 16, 16, 100)      400       ['conv3d_transpose_2[0][0]']  \n",
      " tchNormalization)                                                                                \n",
      "                                                                                                  \n",
      " tf.slice_2 (TFOpLambda)     (None, 16, 16, 16, 100)      0         ['batch_normalization_19[0][0]\n",
      "                                                                    ']                            \n",
      "                                                                                                  \n",
      " concatenate_2 (Concatenate  (None, 16, 16, 16, 200)      0         ['tf.slice_2[0][0]',          \n",
      " )                                                                   'batch_normalization_4[0][0]'\n",
      "                                                                    ]                             \n",
      "                                                                                                  \n",
      " conv3d_17 (Conv3D)          (None, 16, 16, 16, 100)      540100    ['concatenate_2[0][0]']       \n",
      "                                                                                                  \n",
      " batch_normalization_20 (Ba  (None, 16, 16, 16, 100)      400       ['conv3d_17[0][0]']           \n",
      " tchNormalization)                                                                                \n",
      "                                                                                                  \n",
      " conv3d_18 (Conv3D)          (None, 16, 16, 16, 100)      270100    ['batch_normalization_20[0][0]\n",
      "                                                                    ']                            \n",
      "                                                                                                  \n",
      " batch_normalization_21 (Ba  (None, 16, 16, 16, 100)      400       ['conv3d_18[0][0]']           \n",
      " tchNormalization)                                                                                \n",
      "                                                                                                  \n",
      " conv3d_transpose_3 (Conv3D  (None, 32, 32, 32, 50)       1080050   ['batch_normalization_21[0][0]\n",
      " Transpose)                                                         ']                            \n",
      "                                                                                                  \n",
      " batch_normalization_22 (Ba  (None, 32, 32, 32, 50)       200       ['conv3d_transpose_3[0][0]']  \n",
      " tchNormalization)                                                                                \n",
      "                                                                                                  \n",
      " tf.slice_3 (TFOpLambda)     (None, 32, 32, 32, 50)       0         ['batch_normalization_22[0][0]\n",
      "                                                                    ']                            \n",
      "                                                                                                  \n",
      " concatenate_3 (Concatenate  (None, 32, 32, 32, 100)      0         ['tf.slice_3[0][0]',          \n",
      " )                                                                   'batch_normalization_1[0][0]'\n",
      "                                                                    ]                             \n",
      "                                                                                                  \n",
      " conv3d_19 (Conv3D)          (None, 32, 32, 32, 50)       135050    ['concatenate_3[0][0]']       \n",
      "                                                                                                  \n",
      " batch_normalization_23 (Ba  (None, 32, 32, 32, 50)       200       ['conv3d_19[0][0]']           \n",
      " tchNormalization)                                                                                \n",
      "                                                                                                  \n",
      " conv3d_20 (Conv3D)          (None, 32, 32, 32, 50)       67550     ['batch_normalization_23[0][0]\n",
      "                                                                    ']                            \n",
      "                                                                                                  \n",
      " batch_normalization_24 (Ba  (None, 32, 32, 32, 50)       200       ['conv3d_20[0][0]']           \n",
      " tchNormalization)                                                                                \n",
      "                                                                                                  \n",
      " conv3d_21 (Conv3D)          (None, 32, 32, 32, 6)        8106      ['batch_normalization_24[0][0]\n",
      "                                                                    ']                            \n",
      "                                                                                                  \n",
      "==================================================================================================\n",
      "Total params: 149232256 (569.28 MB)\n",
      "Trainable params: 149220156 (569.23 MB)\n",
      "Non-trainable params: 12100 (47.27 KB)\n",
      "__________________________________________________________________________________________________\n",
      "None\n"
     ]
    }
   ],
   "source": [
    "print(model_unet.summary())"
   ]
  },
  {
   "cell_type": "code",
   "execution_count": 8,
   "metadata": {
    "ExecuteTime": {
     "end_time": "2023-08-05T14:18:21.291398100Z",
     "start_time": "2023-08-05T14:18:21.254969700Z"
    },
    "collapsed": false,
    "jupyter": {
     "outputs_hidden": false
    }
   },
   "outputs": [],
   "source": [
    "# cross_entropy = tf.keras.losses.BinaryCrossentropy()\n",
    "\n",
    "def model_loss(output, target):\n",
    "    # return cross_entropy(output, target)\n",
    "    return tf.reduce_mean(tf.square(target - output))"
   ]
  },
  {
   "cell_type": "code",
   "execution_count": 9,
   "metadata": {
    "ExecuteTime": {
     "end_time": "2023-08-05T14:18:25.658937200Z",
     "start_time": "2023-08-05T14:18:25.629596Z"
    },
    "collapsed": false,
    "jupyter": {
     "outputs_hidden": false
    }
   },
   "outputs": [],
   "source": [
    "lr_schedule = tf.keras.optimizers.schedules.ExponentialDecay(\n",
    "    initial_learning_rate=1e-3,\n",
    "    decay_steps=50*200,\n",
    "    decay_rate=0.1\n",
    ")\n",
    "\n",
    "model_optimizer = tf.keras.optimizers.Adam(lr_schedule)"
   ]
  },
  {
   "cell_type": "code",
   "execution_count": 10,
   "metadata": {},
   "outputs": [],
   "source": [
    "checkpoint_dir = './training_checkpoints_unet'\n",
    "checkpoint_prefix = os.path.join(checkpoint_dir, \"ckpt\")\n",
    "checkpoint = tf.train.Checkpoint(model_optimizer=model_optimizer,\n",
    "                                 model=model_unet)\n",
    "\n",
    "loss_metric = tf.keras.metrics.Mean('model_loss', dtype=tf.float32)\n",
    "\n",
    "current_time = datetime.datetime.now().strftime(\"%Y%m%d-%H%M%S\")\n",
    "log_dir = './logs/unet3d/' + current_time + '/train'\n",
    "summary_writer = tf.summary.create_file_writer(log_dir)"
   ]
  },
  {
   "cell_type": "code",
   "execution_count": 11,
   "metadata": {
    "ExecuteTime": {
     "end_time": "2023-08-05T14:31:31.474922300Z",
     "start_time": "2023-08-05T14:31:31.453950800Z"
    },
    "collapsed": false,
    "jupyter": {
     "outputs_hidden": false
    }
   },
   "outputs": [],
   "source": [
    "@tf.function\n",
    "def train_step(lr_patch, hr_patch):\n",
    "\n",
    "    with tf.GradientTape() as model_tape:\n",
    "\n",
    "      output = model_unet(lr_patch, training=True)\n",
    "\n",
    "      m_loss = model_loss(output, hr_patch)\n",
    "\n",
    "      loss_metric(m_loss)\n",
    "\n",
    "    gradients_of_model = model_tape.gradient(m_loss, model_unet.trainable_variables)\n",
    "\n",
    "    model_optimizer.apply_gradients(zip(gradients_of_model, model_unet.trainable_variables))\n",
    "\n",
    "    return m_loss"
   ]
  },
  {
   "cell_type": "code",
   "execution_count": 12,
   "metadata": {
    "ExecuteTime": {
     "end_time": "2023-08-05T15:37:15.289028100Z",
     "start_time": "2023-08-05T15:37:15.270842400Z"
    },
    "collapsed": false,
    "jupyter": {
     "outputs_hidden": false
    }
   },
   "outputs": [],
   "source": [
    "def train(data, epochs):\n",
    "\n",
    "  best_cost = np.Inf\n",
    "  \n",
    "  for epoch in range(epochs):\n",
    "    start = time.time()\n",
    "\n",
    "    print(\"Epoch: {}\".format(epoch+1))\n",
    "\n",
    "    print(\"Learning rate:\", model_optimizer.learning_rate.numpy())\n",
    "\n",
    "    mean_m_loss = 0.0\n",
    "\n",
    "    # [sel_indices, subjects_lr, subjects_hr, subjects_masks]\n",
    "\n",
    "    randsels = np.random.choice(data[0].shape[0],data[0].shape[0]//4)\n",
    "\n",
    "    lr_patches = []\n",
    "    hr_patches = []\n",
    "\n",
    "    for prog, index in enumerate(tqdm(randsels)):\n",
    "\n",
    "        if (prog+1) % 8 != 0 and prog != (len(randsels) - 1):\n",
    "\n",
    "            (s, i, j, k) = data[0][index]\n",
    "        \n",
    "            lr_patch = np.copy(data[1][s][\n",
    "                                    i - p_size_i - e_or_o : i + p_size_i,\n",
    "                                    j - p_size_i - e_or_o : j + p_size_i,\n",
    "                                    k - p_size_i - e_or_o : k + p_size_i, :]) * \\\n",
    "            np.copy(data[3][s][\n",
    "                                    i - p_size_i - e_or_o : i + p_size_i,\n",
    "                                    j - p_size_i - e_or_o : j + p_size_i,\n",
    "                                    k - p_size_i - e_or_o : k + p_size_i, None])\n",
    "                               \n",
    "        \n",
    "            hr_patch = np.copy(data[2][s][\n",
    "                                    i - p_size_o - e_or_o : i + p_size_o,\n",
    "                                    j - p_size_o - e_or_o : j + p_size_o,\n",
    "                                    k - p_size_o - e_or_o : k + p_size_o, :]) * \\\n",
    "            np.copy(data[3][s][\n",
    "                                    i - p_size_o - e_or_o : i + p_size_o,\n",
    "                                    j - p_size_o - e_or_o : j + p_size_o,\n",
    "                                    k - p_size_o - e_or_o : k + p_size_o, None])\n",
    "\n",
    "            lr_patches.append(lr_patch)\n",
    "            hr_patches.append(hr_patch)\n",
    "            \n",
    "            continue\n",
    "        \n",
    "        lr_patches = tf.convert_to_tensor(np.array(lr_patches), dtype=tf.float32)\n",
    "        hr_patches = tf.convert_to_tensor(np.array(hr_patches), dtype=tf.float32)\n",
    "        \n",
    "        m_loss = train_step(lr_patches, hr_patches)\n",
    "\n",
    "        with summary_writer.as_default():\n",
    "            tf.summary.scalar('model_loss', loss_metric.result(), step=epoch)\n",
    "        \n",
    "        mean_m_loss = mean_m_loss + m_loss\n",
    "\n",
    "        lr_patches = []\n",
    "        hr_patches = []\n",
    "\n",
    "    if epoch+1 % 5 == 0 and best_cost < mean_m_loss:\n",
    "        checkpoint.save(file_prefix = checkpoint_prefix)\n",
    "        best_cost = total_cost\n",
    "\n",
    "    print('Model Loss is {}'.format(float(mean_m_loss/len(randsels//8))))\n",
    "      \n",
    "    print ('Time for epoch {} is {} sec'.format(epoch + 1, time.time()-start))"
   ]
  },
  {
   "cell_type": "code",
   "execution_count": 13,
   "metadata": {},
   "outputs": [],
   "source": [
    "(xsize, ysize, zsize, comp) = subjects_lr[0].shape\n",
    "\n",
    "# e_or_o = 0\n",
    "\n",
    "# p_size_i = 16\n",
    "# p_size_o = 16\n",
    "\n",
    "# split_indices = [(i, j, k)\n",
    "#                  for k in np.arange(p_size_i+1,zsize-p_size_i+1,2*p_size_o+1)       \n",
    "#                  for j in np.arange(p_size_i+1,ysize-p_size_i+1,2*p_size_o+1)\n",
    "#                  for i in np.arange(p_size_i+1,xsize-p_size_i+1,2*p_size_o+1)\n",
    "#                 ]\n",
    "\n",
    "split_indices = [(i, j, k)\n",
    "                 for k in np.arange(p_size_i+e_or_o,zsize-p_size_i+e_or_o,2*p_size_o+e_or_o)       \n",
    "                 for j in np.arange(p_size_i+e_or_o,ysize-p_size_i+e_or_o,2*p_size_o+e_or_o)\n",
    "                 for i in np.arange(p_size_i+e_or_o,xsize-p_size_i+e_or_o,2*p_size_o+e_or_o)\n",
    "                ]\n",
    "\n",
    "sel_indices = []\n",
    "\n",
    "for s in range(len(subjects_lr)):\n",
    "    for (i, j, k) in split_indices:\n",
    "        ipatch_mask = subjects_masks[s][\n",
    "            i - p_size_o - e_or_o : i + p_size_o,\n",
    "            j - p_size_o - e_or_o : j + p_size_o,\n",
    "            k - p_size_o - e_or_o : k + p_size_o]\n",
    "    \n",
    "        if np.max(ipatch_mask) > 0:\n",
    "            sel_indices.append((s,i,j,k))\n",
    "\n",
    "sel_indices = np.array(sel_indices)"
   ]
  },
  {
   "cell_type": "code",
   "execution_count": 14,
   "metadata": {
    "ExecuteTime": {
     "end_time": "2023-08-05T15:37:17.483885900Z",
     "start_time": "2023-08-05T15:37:17.435327300Z"
    }
   },
   "outputs": [
    {
     "name": "stdout",
     "output_type": "stream",
     "text": [
      "Epoch: 1\n",
      "Learning rate: 0.001\n"
     ]
    },
    {
     "name": "stderr",
     "output_type": "stream",
     "text": [
      "  0%|                                                   | 0/103 [00:00<?, ?it/s]2023-08-24 19:54:01.713856: I tensorflow/compiler/xla/stream_executor/cuda/cuda_dnn.cc:432] Loaded cuDNN version 8600\n",
      "2023-08-24 19:54:04.284496: I tensorflow/compiler/xla/service/service.cc:168] XLA service 0x7f730e584de0 initialized for platform CUDA (this does not guarantee that XLA will be used). Devices:\n",
      "2023-08-24 19:54:04.284524: I tensorflow/compiler/xla/service/service.cc:176]   StreamExecutor device (0): NVIDIA GeForce RTX 3090 Ti, Compute Capability 8.6\n",
      "2023-08-24 19:54:04.290167: I tensorflow/compiler/mlir/tensorflow/utils/dump_mlir_util.cc:255] disabling MLIR crash reproducer, set env var `MLIR_CRASH_REPRODUCER_DIRECTORY` to enable.\n",
      "2023-08-24 19:54:04.524620: I ./tensorflow/compiler/jit/device_compiler.h:186] Compiled cluster using XLA!  This line is logged at most once for the lifetime of the process.\n",
      "100%|█████████████████████████████████████████| 103/103 [00:24<00:00,  4.15it/s]\n"
     ]
    },
    {
     "name": "stdout",
     "output_type": "stream",
     "text": [
      "Model Loss is 0.08353915065526962\n",
      "Time for epoch 1 is 24.816176414489746 sec\n",
      "Epoch: 2\n",
      "Learning rate: 0.0009944891\n"
     ]
    },
    {
     "name": "stderr",
     "output_type": "stream",
     "text": [
      "100%|█████████████████████████████████████████| 103/103 [00:01<00:00, 55.61it/s]\n"
     ]
    },
    {
     "name": "stdout",
     "output_type": "stream",
     "text": [
      "Model Loss is 0.009028344415128231\n",
      "Time for epoch 2 is 1.8541874885559082 sec\n",
      "Epoch: 3\n",
      "Learning rate: 0.0009885532\n"
     ]
    },
    {
     "name": "stderr",
     "output_type": "stream",
     "text": [
      "100%|█████████████████████████████████████████| 103/103 [00:01<00:00, 55.73it/s]\n"
     ]
    },
    {
     "name": "stdout",
     "output_type": "stream",
     "text": [
      "Model Loss is 0.00534519599750638\n",
      "Time for epoch 3 is 1.8500804901123047 sec\n",
      "Epoch: 4\n",
      "Learning rate: 0.0009826525\n"
     ]
    },
    {
     "name": "stderr",
     "output_type": "stream",
     "text": [
      "100%|█████████████████████████████████████████| 103/103 [00:01<00:00, 55.35it/s]\n"
     ]
    },
    {
     "name": "stdout",
     "output_type": "stream",
     "text": [
      "Model Loss is 0.003144401591271162\n",
      "Time for epoch 4 is 1.8631501197814941 sec\n",
      "Epoch: 5\n",
      "Learning rate: 0.0009767873\n"
     ]
    },
    {
     "name": "stderr",
     "output_type": "stream",
     "text": [
      "100%|█████████████████████████████████████████| 103/103 [00:01<00:00, 55.63it/s]\n"
     ]
    },
    {
     "name": "stdout",
     "output_type": "stream",
     "text": [
      "Model Loss is 0.003273224690929055\n",
      "Time for epoch 5 is 1.8533055782318115 sec\n",
      "Epoch: 6\n",
      "Learning rate: 0.00097095704\n"
     ]
    },
    {
     "name": "stderr",
     "output_type": "stream",
     "text": [
      "100%|█████████████████████████████████████████| 103/103 [00:01<00:00, 55.48it/s]\n"
     ]
    },
    {
     "name": "stdout",
     "output_type": "stream",
     "text": [
      "Model Loss is 0.0022810366936028004\n",
      "Time for epoch 6 is 1.8582508563995361 sec\n",
      "Epoch: 7\n",
      "Learning rate: 0.0009651616\n"
     ]
    },
    {
     "name": "stderr",
     "output_type": "stream",
     "text": [
      "100%|█████████████████████████████████████████| 103/103 [00:01<00:00, 55.60it/s]\n"
     ]
    },
    {
     "name": "stdout",
     "output_type": "stream",
     "text": [
      "Model Loss is 0.001782718114554882\n",
      "Time for epoch 7 is 1.85404372215271 sec\n",
      "Epoch: 8\n",
      "Learning rate: 0.0009594006\n"
     ]
    },
    {
     "name": "stderr",
     "output_type": "stream",
     "text": [
      "100%|█████████████████████████████████████████| 103/103 [00:01<00:00, 56.67it/s]\n"
     ]
    },
    {
     "name": "stdout",
     "output_type": "stream",
     "text": [
      "Model Loss is 0.0020750442054122686\n",
      "Time for epoch 8 is 1.8190419673919678 sec\n",
      "Epoch: 9\n",
      "Learning rate: 0.0009536742\n"
     ]
    },
    {
     "name": "stderr",
     "output_type": "stream",
     "text": [
      "100%|█████████████████████████████████████████| 103/103 [00:01<00:00, 59.22it/s]\n"
     ]
    },
    {
     "name": "stdout",
     "output_type": "stream",
     "text": [
      "Model Loss is 0.0017053191550076008\n",
      "Time for epoch 9 is 1.7408599853515625 sec\n",
      "Epoch: 10\n",
      "Learning rate: 0.00094798184\n"
     ]
    },
    {
     "name": "stderr",
     "output_type": "stream",
     "text": [
      "100%|█████████████████████████████████████████| 103/103 [00:01<00:00, 58.82it/s]\n"
     ]
    },
    {
     "name": "stdout",
     "output_type": "stream",
     "text": [
      "Model Loss is 0.002174423774704337\n",
      "Time for epoch 10 is 1.7524323463439941 sec\n",
      "Epoch: 11\n",
      "Learning rate: 0.00094232353\n"
     ]
    },
    {
     "name": "stderr",
     "output_type": "stream",
     "text": [
      "100%|█████████████████████████████████████████| 103/103 [00:01<00:00, 59.27it/s]\n"
     ]
    },
    {
     "name": "stdout",
     "output_type": "stream",
     "text": [
      "Model Loss is 0.0017443947726860642\n",
      "Time for epoch 11 is 1.7391736507415771 sec\n",
      "Epoch: 12\n",
      "Learning rate: 0.0009366989\n"
     ]
    },
    {
     "name": "stderr",
     "output_type": "stream",
     "text": [
      "100%|█████████████████████████████████████████| 103/103 [00:01<00:00, 58.65it/s]\n"
     ]
    },
    {
     "name": "stdout",
     "output_type": "stream",
     "text": [
      "Model Loss is 0.0014948834432289004\n",
      "Time for epoch 12 is 1.7576851844787598 sec\n",
      "Epoch: 13\n",
      "Learning rate: 0.0009311079\n"
     ]
    },
    {
     "name": "stderr",
     "output_type": "stream",
     "text": [
      "100%|█████████████████████████████████████████| 103/103 [00:01<00:00, 58.97it/s]\n"
     ]
    },
    {
     "name": "stdout",
     "output_type": "stream",
     "text": [
      "Model Loss is 0.0014558808179572225\n",
      "Time for epoch 13 is 1.7480254173278809 sec\n",
      "Epoch: 14\n",
      "Learning rate: 0.00092555024\n"
     ]
    },
    {
     "name": "stderr",
     "output_type": "stream",
     "text": [
      "100%|█████████████████████████████████████████| 103/103 [00:01<00:00, 58.50it/s]\n"
     ]
    },
    {
     "name": "stdout",
     "output_type": "stream",
     "text": [
      "Model Loss is 0.0018732708413153887\n",
      "Time for epoch 14 is 1.7621877193450928 sec\n",
      "Epoch: 15\n",
      "Learning rate: 0.0009200258\n"
     ]
    },
    {
     "name": "stderr",
     "output_type": "stream",
     "text": [
      "100%|█████████████████████████████████████████| 103/103 [00:01<00:00, 58.50it/s]\n"
     ]
    },
    {
     "name": "stdout",
     "output_type": "stream",
     "text": [
      "Model Loss is 0.0016502020880579948\n",
      "Time for epoch 15 is 1.7621264457702637 sec\n",
      "Epoch: 16\n",
      "Learning rate: 0.0009145343\n"
     ]
    },
    {
     "name": "stderr",
     "output_type": "stream",
     "text": [
      "100%|█████████████████████████████████████████| 103/103 [00:01<00:00, 58.33it/s]\n"
     ]
    },
    {
     "name": "stdout",
     "output_type": "stream",
     "text": [
      "Model Loss is 0.0013825728092342615\n",
      "Time for epoch 16 is 1.7674145698547363 sec\n",
      "Epoch: 17\n",
      "Learning rate: 0.0009090756\n"
     ]
    },
    {
     "name": "stderr",
     "output_type": "stream",
     "text": [
      "100%|█████████████████████████████████████████| 103/103 [00:01<00:00, 58.63it/s]\n"
     ]
    },
    {
     "name": "stdout",
     "output_type": "stream",
     "text": [
      "Model Loss is 0.0016067764954641461\n",
      "Time for epoch 17 is 1.7582011222839355 sec\n",
      "Epoch: 18\n",
      "Learning rate: 0.0009036495\n"
     ]
    },
    {
     "name": "stderr",
     "output_type": "stream",
     "text": [
      "100%|█████████████████████████████████████████| 103/103 [00:01<00:00, 58.57it/s]\n"
     ]
    },
    {
     "name": "stdout",
     "output_type": "stream",
     "text": [
      "Model Loss is 0.0017568693729117513\n",
      "Time for epoch 18 is 1.7598447799682617 sec\n",
      "Epoch: 19\n",
      "Learning rate: 0.00089825573\n"
     ]
    },
    {
     "name": "stderr",
     "output_type": "stream",
     "text": [
      "100%|█████████████████████████████████████████| 103/103 [00:01<00:00, 58.77it/s]\n"
     ]
    },
    {
     "name": "stdout",
     "output_type": "stream",
     "text": [
      "Model Loss is 0.001002032426185906\n",
      "Time for epoch 19 is 1.7538459300994873 sec\n",
      "Epoch: 20\n",
      "Learning rate: 0.0008928942\n"
     ]
    },
    {
     "name": "stderr",
     "output_type": "stream",
     "text": [
      "100%|█████████████████████████████████████████| 103/103 [00:01<00:00, 58.04it/s]\n"
     ]
    },
    {
     "name": "stdout",
     "output_type": "stream",
     "text": [
      "Model Loss is 0.001108804251998663\n",
      "Time for epoch 20 is 1.776165246963501 sec\n",
      "Epoch: 21\n",
      "Learning rate: 0.0008875646\n"
     ]
    },
    {
     "name": "stderr",
     "output_type": "stream",
     "text": [
      "100%|█████████████████████████████████████████| 103/103 [00:01<00:00, 59.51it/s]\n"
     ]
    },
    {
     "name": "stdout",
     "output_type": "stream",
     "text": [
      "Model Loss is 0.0013370095985010266\n",
      "Time for epoch 21 is 1.7320740222930908 sec\n",
      "Epoch: 22\n",
      "Learning rate: 0.0008822669\n"
     ]
    },
    {
     "name": "stderr",
     "output_type": "stream",
     "text": [
      "100%|█████████████████████████████████████████| 103/103 [00:01<00:00, 59.14it/s]\n"
     ]
    },
    {
     "name": "stdout",
     "output_type": "stream",
     "text": [
      "Model Loss is 0.0011347875697538257\n",
      "Time for epoch 22 is 1.743051528930664 sec\n",
      "Epoch: 23\n",
      "Learning rate: 0.00087700086\n"
     ]
    },
    {
     "name": "stderr",
     "output_type": "stream",
     "text": [
      "100%|█████████████████████████████████████████| 103/103 [00:01<00:00, 59.12it/s]\n"
     ]
    },
    {
     "name": "stdout",
     "output_type": "stream",
     "text": [
      "Model Loss is 0.0013408774975687265\n",
      "Time for epoch 23 is 1.743626594543457 sec\n",
      "Epoch: 24\n",
      "Learning rate: 0.0008717662\n"
     ]
    },
    {
     "name": "stderr",
     "output_type": "stream",
     "text": [
      "100%|█████████████████████████████████████████| 103/103 [00:01<00:00, 56.83it/s]\n"
     ]
    },
    {
     "name": "stdout",
     "output_type": "stream",
     "text": [
      "Model Loss is 0.001012631575576961\n",
      "Time for epoch 24 is 1.8142035007476807 sec\n",
      "Epoch: 25\n",
      "Learning rate: 0.00086656277\n"
     ]
    },
    {
     "name": "stderr",
     "output_type": "stream",
     "text": [
      "100%|█████████████████████████████████████████| 103/103 [00:01<00:00, 56.74it/s]\n"
     ]
    },
    {
     "name": "stdout",
     "output_type": "stream",
     "text": [
      "Model Loss is 0.0017616297118365765\n",
      "Time for epoch 25 is 1.8169264793395996 sec\n",
      "Epoch: 26\n",
      "Learning rate: 0.0008613904\n"
     ]
    },
    {
     "name": "stderr",
     "output_type": "stream",
     "text": [
      "100%|█████████████████████████████████████████| 103/103 [00:01<00:00, 59.31it/s]\n"
     ]
    },
    {
     "name": "stdout",
     "output_type": "stream",
     "text": [
      "Model Loss is 0.0010226201266050339\n",
      "Time for epoch 26 is 1.7381680011749268 sec\n",
      "Epoch: 27\n",
      "Learning rate: 0.00085624884\n"
     ]
    },
    {
     "name": "stderr",
     "output_type": "stream",
     "text": [
      "100%|█████████████████████████████████████████| 103/103 [00:01<00:00, 59.20it/s]\n"
     ]
    },
    {
     "name": "stdout",
     "output_type": "stream",
     "text": [
      "Model Loss is 0.0011284390930086374\n",
      "Time for epoch 27 is 1.7411761283874512 sec\n",
      "Epoch: 28\n",
      "Learning rate: 0.0008511381\n"
     ]
    },
    {
     "name": "stderr",
     "output_type": "stream",
     "text": [
      "100%|█████████████████████████████████████████| 103/103 [00:01<00:00, 57.04it/s]\n"
     ]
    },
    {
     "name": "stdout",
     "output_type": "stream",
     "text": [
      "Model Loss is 0.0009915180271491408\n",
      "Time for epoch 28 is 1.8071198463439941 sec\n",
      "Epoch: 29\n",
      "Learning rate: 0.0008460578\n"
     ]
    },
    {
     "name": "stderr",
     "output_type": "stream",
     "text": [
      "100%|█████████████████████████████████████████| 103/103 [00:01<00:00, 56.26it/s]\n"
     ]
    },
    {
     "name": "stdout",
     "output_type": "stream",
     "text": [
      "Model Loss is 0.0009196757455356419\n",
      "Time for epoch 29 is 1.8325295448303223 sec\n",
      "Epoch: 30\n",
      "Learning rate: 0.0008410078\n"
     ]
    },
    {
     "name": "stderr",
     "output_type": "stream",
     "text": [
      "100%|█████████████████████████████████████████| 103/103 [00:01<00:00, 56.65it/s]\n"
     ]
    },
    {
     "name": "stdout",
     "output_type": "stream",
     "text": [
      "Model Loss is 0.0012844298034906387\n",
      "Time for epoch 30 is 1.8201918601989746 sec\n",
      "Epoch: 31\n",
      "Learning rate: 0.0008359879\n"
     ]
    },
    {
     "name": "stderr",
     "output_type": "stream",
     "text": [
      "100%|█████████████████████████████████████████| 103/103 [00:01<00:00, 56.94it/s]\n"
     ]
    },
    {
     "name": "stdout",
     "output_type": "stream",
     "text": [
      "Model Loss is 0.0009386626188643277\n",
      "Time for epoch 31 is 1.810692310333252 sec\n",
      "Epoch: 32\n",
      "Learning rate: 0.0008309981\n"
     ]
    },
    {
     "name": "stderr",
     "output_type": "stream",
     "text": [
      "100%|█████████████████████████████████████████| 103/103 [00:01<00:00, 57.04it/s]\n"
     ]
    },
    {
     "name": "stdout",
     "output_type": "stream",
     "text": [
      "Model Loss is 0.0011625367915257812\n",
      "Time for epoch 32 is 1.8073883056640625 sec\n",
      "Epoch: 33\n",
      "Learning rate: 0.00082603795\n"
     ]
    },
    {
     "name": "stderr",
     "output_type": "stream",
     "text": [
      "100%|█████████████████████████████████████████| 103/103 [00:01<00:00, 57.23it/s]\n"
     ]
    },
    {
     "name": "stdout",
     "output_type": "stream",
     "text": [
      "Model Loss is 0.0009932753164321184\n",
      "Time for epoch 33 is 1.8012888431549072 sec\n",
      "Epoch: 34\n",
      "Learning rate: 0.00082110753\n"
     ]
    },
    {
     "name": "stderr",
     "output_type": "stream",
     "text": [
      "100%|█████████████████████████████████████████| 103/103 [00:01<00:00, 57.19it/s]\n"
     ]
    },
    {
     "name": "stdout",
     "output_type": "stream",
     "text": [
      "Model Loss is 0.0008611929952166975\n",
      "Time for epoch 34 is 1.8024189472198486 sec\n",
      "Epoch: 35\n",
      "Learning rate: 0.0008162064\n"
     ]
    },
    {
     "name": "stderr",
     "output_type": "stream",
     "text": [
      "100%|█████████████████████████████████████████| 103/103 [00:01<00:00, 57.09it/s]\n"
     ]
    },
    {
     "name": "stdout",
     "output_type": "stream",
     "text": [
      "Model Loss is 0.0007189887692220509\n",
      "Time for epoch 35 is 1.805532693862915 sec\n",
      "Epoch: 36\n",
      "Learning rate: 0.00081133464\n"
     ]
    },
    {
     "name": "stderr",
     "output_type": "stream",
     "text": [
      "100%|█████████████████████████████████████████| 103/103 [00:01<00:00, 57.02it/s]\n"
     ]
    },
    {
     "name": "stdout",
     "output_type": "stream",
     "text": [
      "Model Loss is 0.001891274587251246\n",
      "Time for epoch 36 is 1.8077664375305176 sec\n",
      "Epoch: 37\n",
      "Learning rate: 0.0008064919\n"
     ]
    },
    {
     "name": "stderr",
     "output_type": "stream",
     "text": [
      "100%|█████████████████████████████████████████| 103/103 [00:01<00:00, 53.53it/s]\n"
     ]
    },
    {
     "name": "stdout",
     "output_type": "stream",
     "text": [
      "Model Loss is 0.0014789000852033496\n",
      "Time for epoch 37 is 1.9256782531738281 sec\n",
      "Epoch: 38\n",
      "Learning rate: 0.00080167816\n"
     ]
    },
    {
     "name": "stderr",
     "output_type": "stream",
     "text": [
      "100%|█████████████████████████████████████████| 103/103 [00:01<00:00, 53.54it/s]\n"
     ]
    },
    {
     "name": "stdout",
     "output_type": "stream",
     "text": [
      "Model Loss is 0.0009881147416308522\n",
      "Time for epoch 38 is 1.9256408214569092 sec\n",
      "Epoch: 39\n",
      "Learning rate: 0.000796893\n"
     ]
    },
    {
     "name": "stderr",
     "output_type": "stream",
     "text": [
      "100%|█████████████████████████████████████████| 103/103 [00:01<00:00, 53.79it/s]\n"
     ]
    },
    {
     "name": "stdout",
     "output_type": "stream",
     "text": [
      "Model Loss is 0.0007788452203385532\n",
      "Time for epoch 39 is 1.9166712760925293 sec\n",
      "Epoch: 40\n",
      "Learning rate: 0.00079213653\n"
     ]
    },
    {
     "name": "stderr",
     "output_type": "stream",
     "text": [
      "100%|█████████████████████████████████████████| 103/103 [00:01<00:00, 53.29it/s]\n"
     ]
    },
    {
     "name": "stdout",
     "output_type": "stream",
     "text": [
      "Model Loss is 0.0008936544181779027\n",
      "Time for epoch 40 is 1.934962511062622 sec\n",
      "Epoch: 41\n",
      "Learning rate: 0.0007874083\n"
     ]
    },
    {
     "name": "stderr",
     "output_type": "stream",
     "text": [
      "100%|█████████████████████████████████████████| 103/103 [00:01<00:00, 53.53it/s]\n"
     ]
    },
    {
     "name": "stdout",
     "output_type": "stream",
     "text": [
      "Model Loss is 0.0009501418680883944\n",
      "Time for epoch 41 is 1.926314115524292 sec\n",
      "Epoch: 42\n",
      "Learning rate: 0.00078270846\n"
     ]
    },
    {
     "name": "stderr",
     "output_type": "stream",
     "text": [
      "100%|█████████████████████████████████████████| 103/103 [00:01<00:00, 53.45it/s]\n"
     ]
    },
    {
     "name": "stdout",
     "output_type": "stream",
     "text": [
      "Model Loss is 0.001022885087877512\n",
      "Time for epoch 42 is 1.9289164543151855 sec\n",
      "Epoch: 43\n",
      "Learning rate: 0.0007780366\n"
     ]
    },
    {
     "name": "stderr",
     "output_type": "stream",
     "text": [
      "100%|█████████████████████████████████████████| 103/103 [00:01<00:00, 55.81it/s]\n"
     ]
    },
    {
     "name": "stdout",
     "output_type": "stream",
     "text": [
      "Model Loss is 0.001099271234124899\n",
      "Time for epoch 43 is 1.8476612567901611 sec\n",
      "Epoch: 44\n",
      "Learning rate: 0.0007733927\n"
     ]
    },
    {
     "name": "stderr",
     "output_type": "stream",
     "text": [
      "100%|█████████████████████████████████████████| 103/103 [00:01<00:00, 55.88it/s]\n"
     ]
    },
    {
     "name": "stdout",
     "output_type": "stream",
     "text": [
      "Model Loss is 0.0009333673515357077\n",
      "Time for epoch 44 is 1.8454723358154297 sec\n",
      "Epoch: 45\n",
      "Learning rate: 0.00076877634\n"
     ]
    },
    {
     "name": "stderr",
     "output_type": "stream",
     "text": [
      "100%|█████████████████████████████████████████| 103/103 [00:01<00:00, 55.64it/s]\n"
     ]
    },
    {
     "name": "stdout",
     "output_type": "stream",
     "text": [
      "Model Loss is 0.001181738800369203\n",
      "Time for epoch 45 is 1.8533012866973877 sec\n",
      "Epoch: 46\n",
      "Learning rate: 0.00076418766\n"
     ]
    },
    {
     "name": "stderr",
     "output_type": "stream",
     "text": [
      "100%|█████████████████████████████████████████| 103/103 [00:01<00:00, 55.92it/s]\n"
     ]
    },
    {
     "name": "stdout",
     "output_type": "stream",
     "text": [
      "Model Loss is 0.0011748478282243013\n",
      "Time for epoch 46 is 1.843648910522461 sec\n",
      "Epoch: 47\n",
      "Learning rate: 0.00075962633\n"
     ]
    },
    {
     "name": "stderr",
     "output_type": "stream",
     "text": [
      "100%|█████████████████████████████████████████| 103/103 [00:01<00:00, 55.32it/s]\n"
     ]
    },
    {
     "name": "stdout",
     "output_type": "stream",
     "text": [
      "Model Loss is 0.0011292215203866363\n",
      "Time for epoch 47 is 1.8639988899230957 sec\n",
      "Epoch: 48\n",
      "Learning rate: 0.0007550923\n"
     ]
    },
    {
     "name": "stderr",
     "output_type": "stream",
     "text": [
      "100%|█████████████████████████████████████████| 103/103 [00:01<00:00, 55.17it/s]\n"
     ]
    },
    {
     "name": "stdout",
     "output_type": "stream",
     "text": [
      "Model Loss is 0.0013225771253928542\n",
      "Time for epoch 48 is 1.8691213130950928 sec\n",
      "Epoch: 49\n",
      "Learning rate: 0.0007505852\n"
     ]
    },
    {
     "name": "stderr",
     "output_type": "stream",
     "text": [
      "100%|█████████████████████████████████████████| 103/103 [00:01<00:00, 55.46it/s]\n"
     ]
    },
    {
     "name": "stdout",
     "output_type": "stream",
     "text": [
      "Model Loss is 0.0009385981829836965\n",
      "Time for epoch 49 is 1.859419584274292 sec\n",
      "Epoch: 50\n",
      "Learning rate: 0.0007461051\n"
     ]
    },
    {
     "name": "stderr",
     "output_type": "stream",
     "text": [
      "100%|█████████████████████████████████████████| 103/103 [00:01<00:00, 55.38it/s]\n"
     ]
    },
    {
     "name": "stdout",
     "output_type": "stream",
     "text": [
      "Model Loss is 0.0011922754347324371\n",
      "Time for epoch 50 is 1.8617780208587646 sec\n",
      "Epoch: 51\n",
      "Learning rate: 0.00074165175\n"
     ]
    },
    {
     "name": "stderr",
     "output_type": "stream",
     "text": [
      "100%|█████████████████████████████████████████| 103/103 [00:01<00:00, 58.29it/s]\n"
     ]
    },
    {
     "name": "stdout",
     "output_type": "stream",
     "text": [
      "Model Loss is 0.0013509279815480113\n",
      "Time for epoch 51 is 1.768852949142456 sec\n",
      "Epoch: 52\n",
      "Learning rate: 0.000737225\n"
     ]
    },
    {
     "name": "stderr",
     "output_type": "stream",
     "text": [
      "100%|█████████████████████████████████████████| 103/103 [00:01<00:00, 58.86it/s]\n"
     ]
    },
    {
     "name": "stdout",
     "output_type": "stream",
     "text": [
      "Model Loss is 0.0007883685175329447\n",
      "Time for epoch 52 is 1.7516305446624756 sec\n",
      "Epoch: 53\n",
      "Learning rate: 0.0007328246\n"
     ]
    },
    {
     "name": "stderr",
     "output_type": "stream",
     "text": [
      "100%|█████████████████████████████████████████| 103/103 [00:01<00:00, 58.98it/s]\n"
     ]
    },
    {
     "name": "stdout",
     "output_type": "stream",
     "text": [
      "Model Loss is 0.0009512000251561403\n",
      "Time for epoch 53 is 1.7482142448425293 sec\n",
      "Epoch: 54\n",
      "Learning rate: 0.0007284505\n"
     ]
    },
    {
     "name": "stderr",
     "output_type": "stream",
     "text": [
      "100%|█████████████████████████████████████████| 103/103 [00:01<00:00, 57.73it/s]\n"
     ]
    },
    {
     "name": "stdout",
     "output_type": "stream",
     "text": [
      "Model Loss is 0.0013719010166823864\n",
      "Time for epoch 54 is 1.7858757972717285 sec\n",
      "Epoch: 55\n",
      "Learning rate: 0.0007241025\n"
     ]
    },
    {
     "name": "stderr",
     "output_type": "stream",
     "text": [
      "100%|█████████████████████████████████████████| 103/103 [00:01<00:00, 58.54it/s]\n"
     ]
    },
    {
     "name": "stdout",
     "output_type": "stream",
     "text": [
      "Model Loss is 0.0009560445905663073\n",
      "Time for epoch 55 is 1.761124849319458 sec\n",
      "Epoch: 56\n",
      "Learning rate: 0.0007197804\n"
     ]
    },
    {
     "name": "stderr",
     "output_type": "stream",
     "text": [
      "100%|█████████████████████████████████████████| 103/103 [00:01<00:00, 58.44it/s]\n"
     ]
    },
    {
     "name": "stdout",
     "output_type": "stream",
     "text": [
      "Model Loss is 0.000716262380592525\n",
      "Time for epoch 56 is 1.764167070388794 sec\n",
      "Epoch: 57\n",
      "Learning rate: 0.0007154842\n"
     ]
    },
    {
     "name": "stderr",
     "output_type": "stream",
     "text": [
      "100%|█████████████████████████████████████████| 103/103 [00:01<00:00, 59.13it/s]\n"
     ]
    },
    {
     "name": "stdout",
     "output_type": "stream",
     "text": [
      "Model Loss is 0.0009260154911316931\n",
      "Time for epoch 57 is 1.7434427738189697 sec\n",
      "Epoch: 58\n",
      "Learning rate: 0.0007112135\n"
     ]
    },
    {
     "name": "stderr",
     "output_type": "stream",
     "text": [
      "100%|█████████████████████████████████████████| 103/103 [00:01<00:00, 58.65it/s]\n"
     ]
    },
    {
     "name": "stdout",
     "output_type": "stream",
     "text": [
      "Model Loss is 0.0008519878028891981\n",
      "Time for epoch 58 is 1.7579066753387451 sec\n",
      "Epoch: 59\n",
      "Learning rate: 0.0007069684\n"
     ]
    },
    {
     "name": "stderr",
     "output_type": "stream",
     "text": [
      "100%|█████████████████████████████████████████| 103/103 [00:01<00:00, 59.06it/s]\n"
     ]
    },
    {
     "name": "stdout",
     "output_type": "stream",
     "text": [
      "Model Loss is 0.0007458243053406477\n",
      "Time for epoch 59 is 1.7457005977630615 sec\n",
      "Epoch: 60\n",
      "Learning rate: 0.00070274866\n"
     ]
    },
    {
     "name": "stderr",
     "output_type": "stream",
     "text": [
      "100%|█████████████████████████████████████████| 103/103 [00:01<00:00, 58.67it/s]\n"
     ]
    },
    {
     "name": "stdout",
     "output_type": "stream",
     "text": [
      "Model Loss is 0.0005262737977318466\n",
      "Time for epoch 60 is 1.7567310333251953 sec\n",
      "Epoch: 61\n",
      "Learning rate: 0.0006985541\n"
     ]
    },
    {
     "name": "stderr",
     "output_type": "stream",
     "text": [
      "100%|█████████████████████████████████████████| 103/103 [00:01<00:00, 58.12it/s]\n"
     ]
    },
    {
     "name": "stdout",
     "output_type": "stream",
     "text": [
      "Model Loss is 0.0007408735691569746\n",
      "Time for epoch 61 is 1.7737505435943604 sec\n",
      "Epoch: 62\n",
      "Learning rate: 0.0006943845\n"
     ]
    },
    {
     "name": "stderr",
     "output_type": "stream",
     "text": [
      "100%|█████████████████████████████████████████| 103/103 [00:01<00:00, 55.22it/s]\n"
     ]
    },
    {
     "name": "stdout",
     "output_type": "stream",
     "text": [
      "Model Loss is 0.000575816840864718\n",
      "Time for epoch 62 is 1.8670637607574463 sec\n",
      "Epoch: 63\n",
      "Learning rate: 0.0006902399\n"
     ]
    },
    {
     "name": "stderr",
     "output_type": "stream",
     "text": [
      "100%|█████████████████████████████████████████| 103/103 [00:01<00:00, 55.46it/s]\n"
     ]
    },
    {
     "name": "stdout",
     "output_type": "stream",
     "text": [
      "Model Loss is 0.0012610792182385921\n",
      "Time for epoch 63 is 1.8587243556976318 sec\n",
      "Epoch: 64\n",
      "Learning rate: 0.0006861199\n"
     ]
    },
    {
     "name": "stderr",
     "output_type": "stream",
     "text": [
      "100%|█████████████████████████████████████████| 103/103 [00:01<00:00, 55.38it/s]\n"
     ]
    },
    {
     "name": "stdout",
     "output_type": "stream",
     "text": [
      "Model Loss is 0.0009707278222776949\n",
      "Time for epoch 64 is 1.8614239692687988 sec\n",
      "Epoch: 65\n",
      "Learning rate: 0.0006820246\n"
     ]
    },
    {
     "name": "stderr",
     "output_type": "stream",
     "text": [
      "100%|█████████████████████████████████████████| 103/103 [00:01<00:00, 55.46it/s]\n"
     ]
    },
    {
     "name": "stdout",
     "output_type": "stream",
     "text": [
      "Model Loss is 0.0007717287517152727\n",
      "Time for epoch 65 is 1.8587310314178467 sec\n",
      "Epoch: 66\n",
      "Learning rate: 0.00067795365\n"
     ]
    },
    {
     "name": "stderr",
     "output_type": "stream",
     "text": [
      "100%|█████████████████████████████████████████| 103/103 [00:01<00:00, 55.13it/s]\n"
     ]
    },
    {
     "name": "stdout",
     "output_type": "stream",
     "text": [
      "Model Loss is 0.001164593966677785\n",
      "Time for epoch 66 is 1.8698029518127441 sec\n",
      "Epoch: 67\n",
      "Learning rate: 0.00067390705\n"
     ]
    },
    {
     "name": "stderr",
     "output_type": "stream",
     "text": [
      "100%|█████████████████████████████████████████| 103/103 [00:01<00:00, 55.34it/s]\n"
     ]
    },
    {
     "name": "stdout",
     "output_type": "stream",
     "text": [
      "Model Loss is 0.0009533688426017761\n",
      "Time for epoch 67 is 1.8630249500274658 sec\n",
      "Epoch: 68\n",
      "Learning rate: 0.00066988467\n"
     ]
    },
    {
     "name": "stderr",
     "output_type": "stream",
     "text": [
      "100%|█████████████████████████████████████████| 103/103 [00:01<00:00, 55.44it/s]\n"
     ]
    },
    {
     "name": "stdout",
     "output_type": "stream",
     "text": [
      "Model Loss is 0.0006879914435558021\n",
      "Time for epoch 68 is 1.859743595123291 sec\n",
      "Epoch: 69\n",
      "Learning rate: 0.0006658862\n"
     ]
    },
    {
     "name": "stderr",
     "output_type": "stream",
     "text": [
      "100%|█████████████████████████████████████████| 103/103 [00:01<00:00, 55.74it/s]\n"
     ]
    },
    {
     "name": "stdout",
     "output_type": "stream",
     "text": [
      "Model Loss is 0.0006290038581937551\n",
      "Time for epoch 69 is 1.8495333194732666 sec\n",
      "Epoch: 70\n",
      "Learning rate: 0.0006619116\n"
     ]
    },
    {
     "name": "stderr",
     "output_type": "stream",
     "text": [
      "100%|█████████████████████████████████████████| 103/103 [00:01<00:00, 55.18it/s]\n"
     ]
    },
    {
     "name": "stdout",
     "output_type": "stream",
     "text": [
      "Model Loss is 0.0008216786081902683\n",
      "Time for epoch 70 is 1.8683195114135742 sec\n",
      "Epoch: 71\n",
      "Learning rate: 0.0006579608\n"
     ]
    },
    {
     "name": "stderr",
     "output_type": "stream",
     "text": [
      "100%|█████████████████████████████████████████| 103/103 [00:01<00:00, 55.86it/s]\n"
     ]
    },
    {
     "name": "stdout",
     "output_type": "stream",
     "text": [
      "Model Loss is 0.0005266356165520847\n",
      "Time for epoch 71 is 1.845261812210083 sec\n",
      "Epoch: 72\n",
      "Learning rate: 0.0006540335\n"
     ]
    },
    {
     "name": "stderr",
     "output_type": "stream",
     "text": [
      "100%|█████████████████████████████████████████| 103/103 [00:01<00:00, 55.20it/s]\n"
     ]
    },
    {
     "name": "stdout",
     "output_type": "stream",
     "text": [
      "Model Loss is 0.0007213085191324353\n",
      "Time for epoch 72 is 1.867506980895996 sec\n",
      "Epoch: 73\n",
      "Learning rate: 0.0006501297\n"
     ]
    },
    {
     "name": "stderr",
     "output_type": "stream",
     "text": [
      "100%|█████████████████████████████████████████| 103/103 [00:01<00:00, 55.37it/s]\n"
     ]
    },
    {
     "name": "stdout",
     "output_type": "stream",
     "text": [
      "Model Loss is 0.0005988190532661974\n",
      "Time for epoch 73 is 1.8623592853546143 sec\n",
      "Epoch: 74\n",
      "Learning rate: 0.0006462492\n"
     ]
    },
    {
     "name": "stderr",
     "output_type": "stream",
     "text": [
      "100%|█████████████████████████████████████████| 103/103 [00:01<00:00, 55.12it/s]\n"
     ]
    },
    {
     "name": "stdout",
     "output_type": "stream",
     "text": [
      "Model Loss is 0.0006849711644463241\n",
      "Time for epoch 74 is 1.8707773685455322 sec\n",
      "Epoch: 75\n",
      "Learning rate: 0.0006423919\n"
     ]
    },
    {
     "name": "stderr",
     "output_type": "stream",
     "text": [
      "100%|█████████████████████████████████████████| 103/103 [00:01<00:00, 55.43it/s]\n"
     ]
    },
    {
     "name": "stdout",
     "output_type": "stream",
     "text": [
      "Model Loss is 0.0007054675370454788\n",
      "Time for epoch 75 is 1.85970139503479 sec\n",
      "Epoch: 76\n",
      "Learning rate: 0.00063855754\n"
     ]
    },
    {
     "name": "stderr",
     "output_type": "stream",
     "text": [
      "100%|█████████████████████████████████████████| 103/103 [00:01<00:00, 55.01it/s]\n"
     ]
    },
    {
     "name": "stdout",
     "output_type": "stream",
     "text": [
      "Model Loss is 0.0006674207397736609\n",
      "Time for epoch 76 is 1.8740851879119873 sec\n",
      "Epoch: 77\n",
      "Learning rate: 0.0006347461\n"
     ]
    },
    {
     "name": "stderr",
     "output_type": "stream",
     "text": [
      "100%|█████████████████████████████████████████| 103/103 [00:01<00:00, 57.81it/s]\n"
     ]
    },
    {
     "name": "stdout",
     "output_type": "stream",
     "text": [
      "Model Loss is 0.0008137152763083577\n",
      "Time for epoch 77 is 1.7831299304962158 sec\n",
      "Epoch: 78\n",
      "Learning rate: 0.0006309574\n"
     ]
    },
    {
     "name": "stderr",
     "output_type": "stream",
     "text": [
      "100%|█████████████████████████████████████████| 103/103 [00:01<00:00, 58.71it/s]\n"
     ]
    },
    {
     "name": "stdout",
     "output_type": "stream",
     "text": [
      "Model Loss is 0.0006925100460648537\n",
      "Time for epoch 78 is 1.7555365562438965 sec\n",
      "Epoch: 79\n",
      "Learning rate: 0.0006271913\n"
     ]
    },
    {
     "name": "stderr",
     "output_type": "stream",
     "text": [
      "100%|█████████████████████████████████████████| 103/103 [00:01<00:00, 58.87it/s]\n"
     ]
    },
    {
     "name": "stdout",
     "output_type": "stream",
     "text": [
      "Model Loss is 0.0006169325206428766\n",
      "Time for epoch 79 is 1.7507696151733398 sec\n",
      "Epoch: 80\n",
      "Learning rate: 0.0006234477\n"
     ]
    },
    {
     "name": "stderr",
     "output_type": "stream",
     "text": [
      "100%|█████████████████████████████████████████| 103/103 [00:01<00:00, 58.38it/s]\n"
     ]
    },
    {
     "name": "stdout",
     "output_type": "stream",
     "text": [
      "Model Loss is 0.0005814226460643113\n",
      "Time for epoch 80 is 1.7658674716949463 sec\n",
      "Epoch: 81\n",
      "Learning rate: 0.00061972643\n"
     ]
    },
    {
     "name": "stderr",
     "output_type": "stream",
     "text": [
      "100%|█████████████████████████████████████████| 103/103 [00:01<00:00, 56.58it/s]\n"
     ]
    },
    {
     "name": "stdout",
     "output_type": "stream",
     "text": [
      "Model Loss is 0.0008053580531850457\n",
      "Time for epoch 81 is 1.8221487998962402 sec\n",
      "Epoch: 82\n",
      "Learning rate: 0.0006160274\n"
     ]
    },
    {
     "name": "stderr",
     "output_type": "stream",
     "text": [
      "100%|█████████████████████████████████████████| 103/103 [00:01<00:00, 57.42it/s]\n"
     ]
    },
    {
     "name": "stdout",
     "output_type": "stream",
     "text": [
      "Model Loss is 0.0007816501311026514\n",
      "Time for epoch 82 is 1.795457363128662 sec\n",
      "Epoch: 83\n",
      "Learning rate: 0.0006123504\n"
     ]
    },
    {
     "name": "stderr",
     "output_type": "stream",
     "text": [
      "100%|█████████████████████████████████████████| 103/103 [00:01<00:00, 58.58it/s]\n"
     ]
    },
    {
     "name": "stdout",
     "output_type": "stream",
     "text": [
      "Model Loss is 0.0007389133097603917\n",
      "Time for epoch 83 is 1.7598106861114502 sec\n",
      "Epoch: 84\n",
      "Learning rate: 0.00060869544\n"
     ]
    },
    {
     "name": "stderr",
     "output_type": "stream",
     "text": [
      "100%|█████████████████████████████████████████| 103/103 [00:01<00:00, 58.31it/s]\n"
     ]
    },
    {
     "name": "stdout",
     "output_type": "stream",
     "text": [
      "Model Loss is 0.0005155803519301116\n",
      "Time for epoch 84 is 1.7677760124206543 sec\n",
      "Epoch: 85\n",
      "Learning rate: 0.0006050622\n"
     ]
    },
    {
     "name": "stderr",
     "output_type": "stream",
     "text": [
      "100%|█████████████████████████████████████████| 103/103 [00:01<00:00, 58.59it/s]\n"
     ]
    },
    {
     "name": "stdout",
     "output_type": "stream",
     "text": [
      "Model Loss is 0.0006267477874644101\n",
      "Time for epoch 85 is 1.7595865726470947 sec\n",
      "Epoch: 86\n",
      "Learning rate: 0.00060145074\n"
     ]
    },
    {
     "name": "stderr",
     "output_type": "stream",
     "text": [
      "100%|█████████████████████████████████████████| 103/103 [00:01<00:00, 58.59it/s]\n"
     ]
    },
    {
     "name": "stdout",
     "output_type": "stream",
     "text": [
      "Model Loss is 0.0007695541135035455\n",
      "Time for epoch 86 is 1.7592856884002686 sec\n",
      "Epoch: 87\n",
      "Learning rate: 0.0005978607\n"
     ]
    },
    {
     "name": "stderr",
     "output_type": "stream",
     "text": [
      "100%|█████████████████████████████████████████| 103/103 [00:01<00:00, 58.59it/s]\n"
     ]
    },
    {
     "name": "stdout",
     "output_type": "stream",
     "text": [
      "Model Loss is 0.00048055240768007934\n",
      "Time for epoch 87 is 1.7592012882232666 sec\n",
      "Epoch: 88\n",
      "Learning rate: 0.0005942922\n"
     ]
    },
    {
     "name": "stderr",
     "output_type": "stream",
     "text": [
      "100%|█████████████████████████████████████████| 103/103 [00:01<00:00, 57.98it/s]\n"
     ]
    },
    {
     "name": "stdout",
     "output_type": "stream",
     "text": [
      "Model Loss is 0.0008423849358223379\n",
      "Time for epoch 88 is 1.778334379196167 sec\n",
      "Epoch: 89\n",
      "Learning rate: 0.00059074495\n"
     ]
    },
    {
     "name": "stderr",
     "output_type": "stream",
     "text": [
      "100%|█████████████████████████████████████████| 103/103 [00:01<00:00, 58.43it/s]\n"
     ]
    },
    {
     "name": "stdout",
     "output_type": "stream",
     "text": [
      "Model Loss is 0.0008394381147809327\n",
      "Time for epoch 89 is 1.7644131183624268 sec\n",
      "Epoch: 90\n",
      "Learning rate: 0.0005872189\n"
     ]
    },
    {
     "name": "stderr",
     "output_type": "stream",
     "text": [
      "100%|█████████████████████████████████████████| 103/103 [00:01<00:00, 58.49it/s]\n"
     ]
    },
    {
     "name": "stdout",
     "output_type": "stream",
     "text": [
      "Model Loss is 0.0007241013227030635\n",
      "Time for epoch 90 is 1.7627465724945068 sec\n",
      "Epoch: 91\n",
      "Learning rate: 0.0005837139\n"
     ]
    },
    {
     "name": "stderr",
     "output_type": "stream",
     "text": [
      "100%|█████████████████████████████████████████| 103/103 [00:01<00:00, 58.80it/s]\n"
     ]
    },
    {
     "name": "stdout",
     "output_type": "stream",
     "text": [
      "Model Loss is 0.0005262094200588763\n",
      "Time for epoch 91 is 1.7535936832427979 sec\n",
      "Epoch: 92\n",
      "Learning rate: 0.0005802298\n"
     ]
    },
    {
     "name": "stderr",
     "output_type": "stream",
     "text": [
      "100%|█████████████████████████████████████████| 103/103 [00:01<00:00, 58.42it/s]\n"
     ]
    },
    {
     "name": "stdout",
     "output_type": "stream",
     "text": [
      "Model Loss is 0.0004671527713071555\n",
      "Time for epoch 92 is 1.7649736404418945 sec\n",
      "Epoch: 93\n",
      "Learning rate: 0.00057676644\n"
     ]
    },
    {
     "name": "stderr",
     "output_type": "stream",
     "text": [
      "100%|█████████████████████████████████████████| 103/103 [00:01<00:00, 58.50it/s]\n"
     ]
    },
    {
     "name": "stdout",
     "output_type": "stream",
     "text": [
      "Model Loss is 0.0006831435021013021\n",
      "Time for epoch 93 is 1.7622196674346924 sec\n",
      "Epoch: 94\n",
      "Learning rate: 0.00057332386\n"
     ]
    },
    {
     "name": "stderr",
     "output_type": "stream",
     "text": [
      "100%|█████████████████████████████████████████| 103/103 [00:01<00:00, 58.27it/s]\n"
     ]
    },
    {
     "name": "stdout",
     "output_type": "stream",
     "text": [
      "Model Loss is 0.0004096852499060333\n",
      "Time for epoch 94 is 1.7696685791015625 sec\n",
      "Epoch: 95\n",
      "Learning rate: 0.0005699018\n"
     ]
    },
    {
     "name": "stderr",
     "output_type": "stream",
     "text": [
      "100%|█████████████████████████████████████████| 103/103 [00:01<00:00, 58.51it/s]\n"
     ]
    },
    {
     "name": "stdout",
     "output_type": "stream",
     "text": [
      "Model Loss is 0.00045907514868304133\n",
      "Time for epoch 95 is 1.7622857093811035 sec\n",
      "Epoch: 96\n",
      "Learning rate: 0.0005665002\n"
     ]
    },
    {
     "name": "stderr",
     "output_type": "stream",
     "text": [
      "100%|█████████████████████████████████████████| 103/103 [00:01<00:00, 58.18it/s]\n"
     ]
    },
    {
     "name": "stdout",
     "output_type": "stream",
     "text": [
      "Model Loss is 0.0005316665046848357\n",
      "Time for epoch 96 is 1.771946668624878 sec\n",
      "Epoch: 97\n",
      "Learning rate: 0.0005631188\n"
     ]
    },
    {
     "name": "stderr",
     "output_type": "stream",
     "text": [
      "100%|█████████████████████████████████████████| 103/103 [00:01<00:00, 58.43it/s]\n"
     ]
    },
    {
     "name": "stdout",
     "output_type": "stream",
     "text": [
      "Model Loss is 0.0005973700317554176\n",
      "Time for epoch 97 is 1.7647285461425781 sec\n",
      "Epoch: 98\n",
      "Learning rate: 0.00055975764\n"
     ]
    },
    {
     "name": "stderr",
     "output_type": "stream",
     "text": [
      "100%|█████████████████████████████████████████| 103/103 [00:01<00:00, 58.13it/s]\n"
     ]
    },
    {
     "name": "stdout",
     "output_type": "stream",
     "text": [
      "Model Loss is 0.0004948627320118248\n",
      "Time for epoch 98 is 1.7737314701080322 sec\n",
      "Epoch: 99\n",
      "Learning rate: 0.0005564165\n"
     ]
    },
    {
     "name": "stderr",
     "output_type": "stream",
     "text": [
      "100%|█████████████████████████████████████████| 103/103 [00:01<00:00, 57.62it/s]\n"
     ]
    },
    {
     "name": "stdout",
     "output_type": "stream",
     "text": [
      "Model Loss is 0.000403972138883546\n",
      "Time for epoch 99 is 1.7890996932983398 sec\n",
      "Epoch: 100\n",
      "Learning rate: 0.0005530953\n"
     ]
    },
    {
     "name": "stderr",
     "output_type": "stream",
     "text": [
      "100%|█████████████████████████████████████████| 103/103 [00:01<00:00, 59.38it/s]\n"
     ]
    },
    {
     "name": "stdout",
     "output_type": "stream",
     "text": [
      "Model Loss is 0.0005107374163344502\n",
      "Time for epoch 100 is 1.7362611293792725 sec\n",
      "Epoch: 101\n",
      "Learning rate: 0.00054979406\n"
     ]
    },
    {
     "name": "stderr",
     "output_type": "stream",
     "text": [
      "100%|█████████████████████████████████████████| 103/103 [00:01<00:00, 57.81it/s]\n"
     ]
    },
    {
     "name": "stdout",
     "output_type": "stream",
     "text": [
      "Model Loss is 0.0004992619506083429\n",
      "Time for epoch 101 is 1.7833361625671387 sec\n",
      "Epoch: 102\n",
      "Learning rate: 0.00054651237\n"
     ]
    },
    {
     "name": "stderr",
     "output_type": "stream",
     "text": [
      "100%|█████████████████████████████████████████| 103/103 [00:01<00:00, 58.35it/s]\n"
     ]
    },
    {
     "name": "stdout",
     "output_type": "stream",
     "text": [
      "Model Loss is 0.0003729343879967928\n",
      "Time for epoch 102 is 1.7663984298706055 sec\n",
      "Epoch: 103\n",
      "Learning rate: 0.00054325035\n"
     ]
    },
    {
     "name": "stderr",
     "output_type": "stream",
     "text": [
      "100%|█████████████████████████████████████████| 103/103 [00:01<00:00, 58.51it/s]\n"
     ]
    },
    {
     "name": "stdout",
     "output_type": "stream",
     "text": [
      "Model Loss is 0.0003766226873267442\n",
      "Time for epoch 103 is 1.7615997791290283 sec\n",
      "Epoch: 104\n",
      "Learning rate: 0.0005400077\n"
     ]
    },
    {
     "name": "stderr",
     "output_type": "stream",
     "text": [
      "100%|█████████████████████████████████████████| 103/103 [00:01<00:00, 58.37it/s]\n"
     ]
    },
    {
     "name": "stdout",
     "output_type": "stream",
     "text": [
      "Model Loss is 0.00045320639037527144\n",
      "Time for epoch 104 is 1.7662787437438965 sec\n",
      "Epoch: 105\n",
      "Learning rate: 0.00053678453\n"
     ]
    },
    {
     "name": "stderr",
     "output_type": "stream",
     "text": [
      "100%|█████████████████████████████████████████| 103/103 [00:01<00:00, 57.78it/s]\n"
     ]
    },
    {
     "name": "stdout",
     "output_type": "stream",
     "text": [
      "Model Loss is 0.000545748567674309\n",
      "Time for epoch 105 is 1.7839117050170898 sec\n",
      "Epoch: 106\n",
      "Learning rate: 0.00053358055\n"
     ]
    },
    {
     "name": "stderr",
     "output_type": "stream",
     "text": [
      "100%|█████████████████████████████████████████| 103/103 [00:01<00:00, 57.54it/s]\n"
     ]
    },
    {
     "name": "stdout",
     "output_type": "stream",
     "text": [
      "Model Loss is 0.0004485313838813454\n",
      "Time for epoch 106 is 1.791236162185669 sec\n",
      "Epoch: 107\n",
      "Learning rate: 0.0005303958\n"
     ]
    },
    {
     "name": "stderr",
     "output_type": "stream",
     "text": [
      "100%|█████████████████████████████████████████| 103/103 [00:01<00:00, 58.35it/s]\n"
     ]
    },
    {
     "name": "stdout",
     "output_type": "stream",
     "text": [
      "Model Loss is 0.0005055380170233548\n",
      "Time for epoch 107 is 1.7664666175842285 sec\n",
      "Epoch: 108\n",
      "Learning rate: 0.00052722986\n"
     ]
    },
    {
     "name": "stderr",
     "output_type": "stream",
     "text": [
      "100%|█████████████████████████████████████████| 103/103 [00:01<00:00, 55.10it/s]\n"
     ]
    },
    {
     "name": "stdout",
     "output_type": "stream",
     "text": [
      "Model Loss is 0.0004384630883578211\n",
      "Time for epoch 108 is 1.8709464073181152 sec\n",
      "Epoch: 109\n",
      "Learning rate: 0.0005240829\n"
     ]
    },
    {
     "name": "stderr",
     "output_type": "stream",
     "text": [
      "100%|█████████████████████████████████████████| 103/103 [00:01<00:00, 54.04it/s]\n"
     ]
    },
    {
     "name": "stdout",
     "output_type": "stream",
     "text": [
      "Model Loss is 0.0005929121980443597\n",
      "Time for epoch 109 is 1.9079818725585938 sec\n",
      "Epoch: 110\n",
      "Learning rate: 0.0005209548\n"
     ]
    },
    {
     "name": "stderr",
     "output_type": "stream",
     "text": [
      "100%|█████████████████████████████████████████| 103/103 [00:01<00:00, 51.81it/s]\n"
     ]
    },
    {
     "name": "stdout",
     "output_type": "stream",
     "text": [
      "Model Loss is 0.0006732837064191699\n",
      "Time for epoch 110 is 1.989311933517456 sec\n",
      "Epoch: 111\n",
      "Learning rate: 0.0005178452\n"
     ]
    },
    {
     "name": "stderr",
     "output_type": "stream",
     "text": [
      "100%|█████████████████████████████████████████| 103/103 [00:01<00:00, 53.87it/s]\n"
     ]
    },
    {
     "name": "stdout",
     "output_type": "stream",
     "text": [
      "Model Loss is 0.0006772882770746946\n",
      "Time for epoch 111 is 1.913083791732788 sec\n",
      "Epoch: 112\n",
      "Learning rate: 0.0005147543\n"
     ]
    },
    {
     "name": "stderr",
     "output_type": "stream",
     "text": [
      "100%|█████████████████████████████████████████| 103/103 [00:01<00:00, 55.58it/s]\n"
     ]
    },
    {
     "name": "stdout",
     "output_type": "stream",
     "text": [
      "Model Loss is 0.0006114623392932117\n",
      "Time for epoch 112 is 1.854851245880127 sec\n",
      "Epoch: 113\n",
      "Learning rate: 0.0005116819\n"
     ]
    },
    {
     "name": "stderr",
     "output_type": "stream",
     "text": [
      "100%|█████████████████████████████████████████| 103/103 [00:01<00:00, 55.22it/s]\n"
     ]
    },
    {
     "name": "stdout",
     "output_type": "stream",
     "text": [
      "Model Loss is 0.0004422820929903537\n",
      "Time for epoch 113 is 1.8671424388885498 sec\n",
      "Epoch: 114\n",
      "Learning rate: 0.0005086277\n"
     ]
    },
    {
     "name": "stderr",
     "output_type": "stream",
     "text": [
      "100%|█████████████████████████████████████████| 103/103 [00:01<00:00, 55.13it/s]\n"
     ]
    },
    {
     "name": "stdout",
     "output_type": "stream",
     "text": [
      "Model Loss is 0.00039960729191079736\n",
      "Time for epoch 114 is 1.8699815273284912 sec\n",
      "Epoch: 115\n",
      "Learning rate: 0.0005055918\n"
     ]
    },
    {
     "name": "stderr",
     "output_type": "stream",
     "text": [
      "100%|█████████████████████████████████████████| 103/103 [00:01<00:00, 55.55it/s]\n"
     ]
    },
    {
     "name": "stdout",
     "output_type": "stream",
     "text": [
      "Model Loss is 0.0005335959140211344\n",
      "Time for epoch 115 is 1.8556227684020996 sec\n",
      "Epoch: 116\n",
      "Learning rate: 0.00050257397\n"
     ]
    },
    {
     "name": "stderr",
     "output_type": "stream",
     "text": [
      "100%|█████████████████████████████████████████| 103/103 [00:01<00:00, 55.71it/s]\n"
     ]
    },
    {
     "name": "stdout",
     "output_type": "stream",
     "text": [
      "Model Loss is 0.0004882857901975513\n",
      "Time for epoch 116 is 1.8506121635437012 sec\n",
      "Epoch: 117\n",
      "Learning rate: 0.00049957423\n"
     ]
    },
    {
     "name": "stderr",
     "output_type": "stream",
     "text": [
      "100%|█████████████████████████████████████████| 103/103 [00:01<00:00, 56.14it/s]\n"
     ]
    },
    {
     "name": "stdout",
     "output_type": "stream",
     "text": [
      "Model Loss is 0.0005767333204858005\n",
      "Time for epoch 117 is 1.8363134860992432 sec\n",
      "Epoch: 118\n",
      "Learning rate: 0.0004965923\n"
     ]
    },
    {
     "name": "stderr",
     "output_type": "stream",
     "text": [
      "100%|█████████████████████████████████████████| 103/103 [00:01<00:00, 55.83it/s]\n"
     ]
    },
    {
     "name": "stdout",
     "output_type": "stream",
     "text": [
      "Model Loss is 0.00046798106632195413\n",
      "Time for epoch 118 is 1.846482753753662 sec\n",
      "Epoch: 119\n",
      "Learning rate: 0.00049362826\n"
     ]
    },
    {
     "name": "stderr",
     "output_type": "stream",
     "text": [
      "100%|█████████████████████████████████████████| 103/103 [00:01<00:00, 56.23it/s]\n"
     ]
    },
    {
     "name": "stdout",
     "output_type": "stream",
     "text": [
      "Model Loss is 0.0006512406398542225\n",
      "Time for epoch 119 is 1.833512783050537 sec\n",
      "Epoch: 120\n",
      "Learning rate: 0.00049068185\n"
     ]
    },
    {
     "name": "stderr",
     "output_type": "stream",
     "text": [
      "100%|█████████████████████████████████████████| 103/103 [00:01<00:00, 55.66it/s]\n"
     ]
    },
    {
     "name": "stdout",
     "output_type": "stream",
     "text": [
      "Model Loss is 0.0005329987616278231\n",
      "Time for epoch 120 is 1.8524422645568848 sec\n",
      "Epoch: 121\n",
      "Learning rate: 0.00048775307\n"
     ]
    },
    {
     "name": "stderr",
     "output_type": "stream",
     "text": [
      "100%|█████████████████████████████████████████| 103/103 [00:01<00:00, 55.80it/s]\n"
     ]
    },
    {
     "name": "stdout",
     "output_type": "stream",
     "text": [
      "Model Loss is 0.0004468772385735065\n",
      "Time for epoch 121 is 1.8476061820983887 sec\n",
      "Epoch: 122\n",
      "Learning rate: 0.0004848418\n"
     ]
    },
    {
     "name": "stderr",
     "output_type": "stream",
     "text": [
      "100%|█████████████████████████████████████████| 103/103 [00:01<00:00, 55.33it/s]\n"
     ]
    },
    {
     "name": "stdout",
     "output_type": "stream",
     "text": [
      "Model Loss is 0.0005464386194944382\n",
      "Time for epoch 122 is 1.8633716106414795 sec\n",
      "Epoch: 123\n",
      "Learning rate: 0.0004819478\n"
     ]
    },
    {
     "name": "stderr",
     "output_type": "stream",
     "text": [
      "100%|█████████████████████████████████████████| 103/103 [00:01<00:00, 55.60it/s]\n"
     ]
    },
    {
     "name": "stdout",
     "output_type": "stream",
     "text": [
      "Model Loss is 0.001688017975538969\n",
      "Time for epoch 123 is 1.854076623916626 sec\n",
      "Epoch: 124\n",
      "Learning rate: 0.0004790712\n"
     ]
    },
    {
     "name": "stderr",
     "output_type": "stream",
     "text": [
      "100%|█████████████████████████████████████████| 103/103 [00:01<00:00, 55.76it/s]\n"
     ]
    },
    {
     "name": "stdout",
     "output_type": "stream",
     "text": [
      "Model Loss is 0.0011388779385015368\n",
      "Time for epoch 124 is 1.8489744663238525 sec\n",
      "Epoch: 125\n",
      "Learning rate: 0.0004762116\n"
     ]
    },
    {
     "name": "stderr",
     "output_type": "stream",
     "text": [
      "100%|█████████████████████████████████████████| 103/103 [00:01<00:00, 56.14it/s]\n"
     ]
    },
    {
     "name": "stdout",
     "output_type": "stream",
     "text": [
      "Model Loss is 0.0014534759102389216\n",
      "Time for epoch 125 is 1.8362598419189453 sec\n",
      "Epoch: 126\n",
      "Learning rate: 0.00047336923\n"
     ]
    },
    {
     "name": "stderr",
     "output_type": "stream",
     "text": [
      "100%|█████████████████████████████████████████| 103/103 [00:01<00:00, 55.52it/s]\n"
     ]
    },
    {
     "name": "stdout",
     "output_type": "stream",
     "text": [
      "Model Loss is 0.00144974107388407\n",
      "Time for epoch 126 is 1.8569684028625488 sec\n",
      "Epoch: 127\n",
      "Learning rate: 0.00047054375\n"
     ]
    },
    {
     "name": "stderr",
     "output_type": "stream",
     "text": [
      "100%|█████████████████████████████████████████| 103/103 [00:01<00:00, 55.46it/s]\n"
     ]
    },
    {
     "name": "stdout",
     "output_type": "stream",
     "text": [
      "Model Loss is 0.0009914698312059045\n",
      "Time for epoch 127 is 1.8592047691345215 sec\n",
      "Epoch: 128\n",
      "Learning rate: 0.0004677352\n"
     ]
    },
    {
     "name": "stderr",
     "output_type": "stream",
     "text": [
      "100%|█████████████████████████████████████████| 103/103 [00:01<00:00, 52.25it/s]\n"
     ]
    },
    {
     "name": "stdout",
     "output_type": "stream",
     "text": [
      "Model Loss is 0.000862825196236372\n",
      "Time for epoch 128 is 1.9734716415405273 sec\n",
      "Epoch: 129\n",
      "Learning rate: 0.00046494335\n"
     ]
    },
    {
     "name": "stderr",
     "output_type": "stream",
     "text": [
      "100%|█████████████████████████████████████████| 103/103 [00:01<00:00, 52.36it/s]\n"
     ]
    },
    {
     "name": "stdout",
     "output_type": "stream",
     "text": [
      "Model Loss is 0.0008459662785753608\n",
      "Time for epoch 129 is 1.9698479175567627 sec\n",
      "Epoch: 130\n",
      "Learning rate: 0.0004621682\n"
     ]
    },
    {
     "name": "stderr",
     "output_type": "stream",
     "text": [
      "100%|█████████████████████████████████████████| 103/103 [00:01<00:00, 52.16it/s]\n"
     ]
    },
    {
     "name": "stdout",
     "output_type": "stream",
     "text": [
      "Model Loss is 0.0008203767938539386\n",
      "Time for epoch 130 is 1.9768505096435547 sec\n",
      "Epoch: 131\n",
      "Learning rate: 0.00045940955\n"
     ]
    },
    {
     "name": "stderr",
     "output_type": "stream",
     "text": [
      "100%|█████████████████████████████████████████| 103/103 [00:01<00:00, 52.28it/s]\n"
     ]
    },
    {
     "name": "stdout",
     "output_type": "stream",
     "text": [
      "Model Loss is 0.0008734271978028119\n",
      "Time for epoch 131 is 1.9730744361877441 sec\n",
      "Epoch: 132\n",
      "Learning rate: 0.00045666745\n"
     ]
    },
    {
     "name": "stderr",
     "output_type": "stream",
     "text": [
      "100%|█████████████████████████████████████████| 103/103 [00:01<00:00, 52.23it/s]\n"
     ]
    },
    {
     "name": "stdout",
     "output_type": "stream",
     "text": [
      "Model Loss is 0.0006979235913604498\n",
      "Time for epoch 132 is 1.9741413593292236 sec\n",
      "Epoch: 133\n",
      "Learning rate: 0.00045394167\n"
     ]
    },
    {
     "name": "stderr",
     "output_type": "stream",
     "text": [
      "100%|█████████████████████████████████████████| 103/103 [00:01<00:00, 52.89it/s]\n"
     ]
    },
    {
     "name": "stdout",
     "output_type": "stream",
     "text": [
      "Model Loss is 0.0007858712342567742\n",
      "Time for epoch 133 is 1.9492087364196777 sec\n",
      "Epoch: 134\n",
      "Learning rate: 0.00045123216\n"
     ]
    },
    {
     "name": "stderr",
     "output_type": "stream",
     "text": [
      "100%|█████████████████████████████████████████| 103/103 [00:01<00:00, 52.62it/s]\n"
     ]
    },
    {
     "name": "stdout",
     "output_type": "stream",
     "text": [
      "Model Loss is 0.0009084969060495496\n",
      "Time for epoch 134 is 1.959233045578003 sec\n",
      "Epoch: 135\n",
      "Learning rate: 0.0004485388\n"
     ]
    },
    {
     "name": "stderr",
     "output_type": "stream",
     "text": [
      "100%|█████████████████████████████████████████| 103/103 [00:01<00:00, 52.76it/s]\n"
     ]
    },
    {
     "name": "stdout",
     "output_type": "stream",
     "text": [
      "Model Loss is 0.0010137141216546297\n",
      "Time for epoch 135 is 1.9542415142059326 sec\n",
      "Epoch: 136\n",
      "Learning rate: 0.0004458616\n"
     ]
    },
    {
     "name": "stderr",
     "output_type": "stream",
     "text": [
      "100%|█████████████████████████████████████████| 103/103 [00:01<00:00, 52.57it/s]\n"
     ]
    },
    {
     "name": "stdout",
     "output_type": "stream",
     "text": [
      "Model Loss is 0.0007147915312089026\n",
      "Time for epoch 136 is 1.9615294933319092 sec\n",
      "Epoch: 137\n",
      "Learning rate: 0.0004432003\n"
     ]
    },
    {
     "name": "stderr",
     "output_type": "stream",
     "text": [
      "100%|█████████████████████████████████████████| 103/103 [00:01<00:00, 52.81it/s]\n"
     ]
    },
    {
     "name": "stdout",
     "output_type": "stream",
     "text": [
      "Model Loss is 0.000455498811788857\n",
      "Time for epoch 137 is 1.9522533416748047 sec\n",
      "Epoch: 138\n",
      "Learning rate: 0.0004405549\n"
     ]
    },
    {
     "name": "stderr",
     "output_type": "stream",
     "text": [
      "100%|█████████████████████████████████████████| 103/103 [00:01<00:00, 52.53it/s]\n"
     ]
    },
    {
     "name": "stdout",
     "output_type": "stream",
     "text": [
      "Model Loss is 0.0005923561402596533\n",
      "Time for epoch 138 is 1.9627249240875244 sec\n",
      "Epoch: 139\n",
      "Learning rate: 0.0004379253\n"
     ]
    },
    {
     "name": "stderr",
     "output_type": "stream",
     "text": [
      "100%|█████████████████████████████████████████| 103/103 [00:01<00:00, 52.80it/s]\n"
     ]
    },
    {
     "name": "stdout",
     "output_type": "stream",
     "text": [
      "Model Loss is 0.0006057327846065164\n",
      "Time for epoch 139 is 1.9524359703063965 sec\n",
      "Epoch: 140\n",
      "Learning rate: 0.00043531138\n"
     ]
    },
    {
     "name": "stderr",
     "output_type": "stream",
     "text": [
      "100%|█████████████████████████████████████████| 103/103 [00:01<00:00, 52.45it/s]\n"
     ]
    },
    {
     "name": "stdout",
     "output_type": "stream",
     "text": [
      "Model Loss is 0.0005377399502322078\n",
      "Time for epoch 140 is 1.96563720703125 sec\n",
      "Epoch: 141\n",
      "Learning rate: 0.0004327131\n"
     ]
    },
    {
     "name": "stderr",
     "output_type": "stream",
     "text": [
      "100%|█████████████████████████████████████████| 103/103 [00:01<00:00, 52.77it/s]\n"
     ]
    },
    {
     "name": "stdout",
     "output_type": "stream",
     "text": [
      "Model Loss is 0.0005557890981435776\n",
      "Time for epoch 141 is 1.9533164501190186 sec\n",
      "Epoch: 142\n",
      "Learning rate: 0.00043013028\n"
     ]
    },
    {
     "name": "stderr",
     "output_type": "stream",
     "text": [
      "100%|█████████████████████████████████████████| 103/103 [00:01<00:00, 52.57it/s]\n"
     ]
    },
    {
     "name": "stdout",
     "output_type": "stream",
     "text": [
      "Model Loss is 0.0004865978262387216\n",
      "Time for epoch 142 is 1.960738182067871 sec\n",
      "Epoch: 143\n",
      "Learning rate: 0.00042756292\n"
     ]
    },
    {
     "name": "stderr",
     "output_type": "stream",
     "text": [
      "100%|█████████████████████████████████████████| 103/103 [00:01<00:00, 52.76it/s]\n"
     ]
    },
    {
     "name": "stdout",
     "output_type": "stream",
     "text": [
      "Model Loss is 0.0004773512773681432\n",
      "Time for epoch 143 is 1.9540112018585205 sec\n",
      "Epoch: 144\n",
      "Learning rate: 0.00042501086\n"
     ]
    },
    {
     "name": "stderr",
     "output_type": "stream",
     "text": [
      "100%|█████████████████████████████████████████| 103/103 [00:01<00:00, 52.41it/s]\n"
     ]
    },
    {
     "name": "stdout",
     "output_type": "stream",
     "text": [
      "Model Loss is 0.00045631578541360795\n",
      "Time for epoch 144 is 1.9676587581634521 sec\n",
      "Epoch: 145\n",
      "Learning rate: 0.00042247406\n"
     ]
    },
    {
     "name": "stderr",
     "output_type": "stream",
     "text": [
      "100%|█████████████████████████████████████████| 103/103 [00:01<00:00, 52.81it/s]\n"
     ]
    },
    {
     "name": "stdout",
     "output_type": "stream",
     "text": [
      "Model Loss is 0.00045332807349041104\n",
      "Time for epoch 145 is 1.952132225036621 sec\n",
      "Epoch: 146\n",
      "Learning rate: 0.00041995235\n"
     ]
    },
    {
     "name": "stderr",
     "output_type": "stream",
     "text": [
      "100%|█████████████████████████████████████████| 103/103 [00:01<00:00, 52.38it/s]\n"
     ]
    },
    {
     "name": "stdout",
     "output_type": "stream",
     "text": [
      "Model Loss is 0.0003731529868673533\n",
      "Time for epoch 146 is 1.968120813369751 sec\n",
      "Epoch: 147\n",
      "Learning rate: 0.00041744573\n"
     ]
    },
    {
     "name": "stderr",
     "output_type": "stream",
     "text": [
      "100%|█████████████████████████████████████████| 103/103 [00:01<00:00, 52.66it/s]\n"
     ]
    },
    {
     "name": "stdout",
     "output_type": "stream",
     "text": [
      "Model Loss is 0.0004842819180339575\n",
      "Time for epoch 147 is 1.9574108123779297 sec\n",
      "Epoch: 148\n",
      "Learning rate: 0.00041495406\n"
     ]
    },
    {
     "name": "stderr",
     "output_type": "stream",
     "text": [
      "100%|█████████████████████████████████████████| 103/103 [00:01<00:00, 52.35it/s]\n"
     ]
    },
    {
     "name": "stdout",
     "output_type": "stream",
     "text": [
      "Model Loss is 0.0005338461487554014\n",
      "Time for epoch 148 is 1.9689643383026123 sec\n",
      "Epoch: 149\n",
      "Learning rate: 0.00041247727\n"
     ]
    },
    {
     "name": "stderr",
     "output_type": "stream",
     "text": [
      "100%|█████████████████████████████████████████| 103/103 [00:01<00:00, 52.64it/s]\n"
     ]
    },
    {
     "name": "stdout",
     "output_type": "stream",
     "text": [
      "Model Loss is 0.000500810332596302\n",
      "Time for epoch 149 is 1.9584712982177734 sec\n",
      "Epoch: 150\n",
      "Learning rate: 0.0004100153\n"
     ]
    },
    {
     "name": "stderr",
     "output_type": "stream",
     "text": [
      "100%|█████████████████████████████████████████| 103/103 [00:01<00:00, 52.51it/s]\n"
     ]
    },
    {
     "name": "stdout",
     "output_type": "stream",
     "text": [
      "Model Loss is 0.000491788552608341\n",
      "Time for epoch 150 is 1.9631843566894531 sec\n",
      "Epoch: 151\n",
      "Learning rate: 0.00040756798\n"
     ]
    },
    {
     "name": "stderr",
     "output_type": "stream",
     "text": [
      "100%|█████████████████████████████████████████| 103/103 [00:01<00:00, 52.86it/s]\n"
     ]
    },
    {
     "name": "stdout",
     "output_type": "stream",
     "text": [
      "Model Loss is 0.0005001223180443048\n",
      "Time for epoch 151 is 1.950005292892456 sec\n",
      "Epoch: 152\n",
      "Learning rate: 0.00040513527\n"
     ]
    },
    {
     "name": "stderr",
     "output_type": "stream",
     "text": [
      "100%|█████████████████████████████████████████| 103/103 [00:01<00:00, 52.65it/s]\n"
     ]
    },
    {
     "name": "stdout",
     "output_type": "stream",
     "text": [
      "Model Loss is 0.00038999784737825394\n",
      "Time for epoch 152 is 1.9577844142913818 sec\n",
      "Epoch: 153\n",
      "Learning rate: 0.00040271707\n"
     ]
    },
    {
     "name": "stderr",
     "output_type": "stream",
     "text": [
      "100%|█████████████████████████████████████████| 103/103 [00:01<00:00, 52.95it/s]\n"
     ]
    },
    {
     "name": "stdout",
     "output_type": "stream",
     "text": [
      "Model Loss is 0.0004969688598066568\n",
      "Time for epoch 153 is 1.9466216564178467 sec\n",
      "Epoch: 154\n",
      "Learning rate: 0.0004003133\n"
     ]
    },
    {
     "name": "stderr",
     "output_type": "stream",
     "text": [
      "100%|█████████████████████████████████████████| 103/103 [00:01<00:00, 52.43it/s]\n"
     ]
    },
    {
     "name": "stdout",
     "output_type": "stream",
     "text": [
      "Model Loss is 0.00033393633202649653\n",
      "Time for epoch 154 is 1.9661791324615479 sec\n",
      "Epoch: 155\n",
      "Learning rate: 0.0003979239\n"
     ]
    },
    {
     "name": "stderr",
     "output_type": "stream",
     "text": [
      "100%|█████████████████████████████████████████| 103/103 [00:01<00:00, 52.78it/s]\n"
     ]
    },
    {
     "name": "stdout",
     "output_type": "stream",
     "text": [
      "Model Loss is 0.0004475072491914034\n",
      "Time for epoch 155 is 1.9530270099639893 sec\n",
      "Epoch: 156\n",
      "Learning rate: 0.00039554876\n"
     ]
    },
    {
     "name": "stderr",
     "output_type": "stream",
     "text": [
      "100%|█████████████████████████████████████████| 103/103 [00:01<00:00, 52.52it/s]\n"
     ]
    },
    {
     "name": "stdout",
     "output_type": "stream",
     "text": [
      "Model Loss is 0.0004329012881498784\n",
      "Time for epoch 156 is 1.962641716003418 sec\n",
      "Epoch: 157\n",
      "Learning rate: 0.0003931878\n"
     ]
    },
    {
     "name": "stderr",
     "output_type": "stream",
     "text": [
      "100%|█████████████████████████████████████████| 103/103 [00:01<00:00, 52.72it/s]\n"
     ]
    },
    {
     "name": "stdout",
     "output_type": "stream",
     "text": [
      "Model Loss is 0.00038818668690510094\n",
      "Time for epoch 157 is 1.955524206161499 sec\n",
      "Epoch: 158\n",
      "Learning rate: 0.0003908409\n"
     ]
    },
    {
     "name": "stderr",
     "output_type": "stream",
     "text": [
      "100%|█████████████████████████████████████████| 103/103 [00:01<00:00, 52.40it/s]\n"
     ]
    },
    {
     "name": "stdout",
     "output_type": "stream",
     "text": [
      "Model Loss is 0.0003854825918097049\n",
      "Time for epoch 158 is 1.9673564434051514 sec\n",
      "Epoch: 159\n",
      "Learning rate: 0.00038850808\n"
     ]
    },
    {
     "name": "stderr",
     "output_type": "stream",
     "text": [
      "100%|█████████████████████████████████████████| 103/103 [00:01<00:00, 55.27it/s]\n"
     ]
    },
    {
     "name": "stdout",
     "output_type": "stream",
     "text": [
      "Model Loss is 0.00044106083805672824\n",
      "Time for epoch 159 is 1.8648920059204102 sec\n",
      "Epoch: 160\n",
      "Learning rate: 0.00038618912\n"
     ]
    },
    {
     "name": "stderr",
     "output_type": "stream",
     "text": [
      "100%|█████████████████████████████████████████| 103/103 [00:01<00:00, 55.16it/s]\n"
     ]
    },
    {
     "name": "stdout",
     "output_type": "stream",
     "text": [
      "Model Loss is 0.0005719210603274405\n",
      "Time for epoch 160 is 1.8683195114135742 sec\n",
      "Epoch: 161\n",
      "Learning rate: 0.00038388403\n"
     ]
    },
    {
     "name": "stderr",
     "output_type": "stream",
     "text": [
      "100%|█████████████████████████████████████████| 103/103 [00:01<00:00, 58.16it/s]\n"
     ]
    },
    {
     "name": "stdout",
     "output_type": "stream",
     "text": [
      "Model Loss is 0.0004632428754121065\n",
      "Time for epoch 161 is 1.7724227905273438 sec\n",
      "Epoch: 162\n",
      "Learning rate: 0.0003815927\n"
     ]
    },
    {
     "name": "stderr",
     "output_type": "stream",
     "text": [
      "100%|█████████████████████████████████████████| 103/103 [00:01<00:00, 57.38it/s]\n"
     ]
    },
    {
     "name": "stdout",
     "output_type": "stream",
     "text": [
      "Model Loss is 0.0005976604879833758\n",
      "Time for epoch 162 is 1.7961359024047852 sec\n",
      "Epoch: 163\n",
      "Learning rate: 0.00037931497\n"
     ]
    },
    {
     "name": "stderr",
     "output_type": "stream",
     "text": [
      "100%|█████████████████████████████████████████| 103/103 [00:01<00:00, 58.43it/s]\n"
     ]
    },
    {
     "name": "stdout",
     "output_type": "stream",
     "text": [
      "Model Loss is 0.0004752655222546309\n",
      "Time for epoch 163 is 1.7637951374053955 sec\n",
      "Epoch: 164\n",
      "Learning rate: 0.00037705095\n"
     ]
    },
    {
     "name": "stderr",
     "output_type": "stream",
     "text": [
      "100%|█████████████████████████████████████████| 103/103 [00:01<00:00, 58.72it/s]\n"
     ]
    },
    {
     "name": "stdout",
     "output_type": "stream",
     "text": [
      "Model Loss is 0.00037085439544171095\n",
      "Time for epoch 164 is 1.755086898803711 sec\n",
      "Epoch: 165\n",
      "Learning rate: 0.00037480038\n"
     ]
    },
    {
     "name": "stderr",
     "output_type": "stream",
     "text": [
      "100%|█████████████████████████████████████████| 103/103 [00:01<00:00, 58.83it/s]\n"
     ]
    },
    {
     "name": "stdout",
     "output_type": "stream",
     "text": [
      "Model Loss is 0.0004026360693387687\n",
      "Time for epoch 165 is 1.7519640922546387 sec\n",
      "Epoch: 166\n",
      "Learning rate: 0.00037256326\n"
     ]
    },
    {
     "name": "stderr",
     "output_type": "stream",
     "text": [
      "100%|█████████████████████████████████████████| 103/103 [00:01<00:00, 59.52it/s]\n"
     ]
    },
    {
     "name": "stdout",
     "output_type": "stream",
     "text": [
      "Model Loss is 0.000443503464339301\n",
      "Time for epoch 166 is 1.7318403720855713 sec\n",
      "Epoch: 167\n",
      "Learning rate: 0.00037033946\n"
     ]
    },
    {
     "name": "stderr",
     "output_type": "stream",
     "text": [
      "100%|█████████████████████████████████████████| 103/103 [00:01<00:00, 59.57it/s]\n"
     ]
    },
    {
     "name": "stdout",
     "output_type": "stream",
     "text": [
      "Model Loss is 0.00038474591565318406\n",
      "Time for epoch 167 is 1.7303926944732666 sec\n",
      "Epoch: 168\n",
      "Learning rate: 0.000368129\n"
     ]
    },
    {
     "name": "stderr",
     "output_type": "stream",
     "text": [
      "100%|█████████████████████████████████████████| 103/103 [00:01<00:00, 58.37it/s]\n"
     ]
    },
    {
     "name": "stdout",
     "output_type": "stream",
     "text": [
      "Model Loss is 0.00036053196527063847\n",
      "Time for epoch 168 is 1.7659099102020264 sec\n",
      "Epoch: 169\n",
      "Learning rate: 0.00036593166\n"
     ]
    },
    {
     "name": "stderr",
     "output_type": "stream",
     "text": [
      "100%|█████████████████████████████████████████| 103/103 [00:01<00:00, 56.86it/s]\n"
     ]
    },
    {
     "name": "stdout",
     "output_type": "stream",
     "text": [
      "Model Loss is 0.00035751613904722035\n",
      "Time for epoch 169 is 1.8124830722808838 sec\n",
      "Epoch: 170\n",
      "Learning rate: 0.0003637475\n"
     ]
    },
    {
     "name": "stderr",
     "output_type": "stream",
     "text": [
      "100%|█████████████████████████████████████████| 103/103 [00:01<00:00, 58.41it/s]\n"
     ]
    },
    {
     "name": "stdout",
     "output_type": "stream",
     "text": [
      "Model Loss is 0.0004107717832084745\n",
      "Time for epoch 170 is 1.7646944522857666 sec\n",
      "Epoch: 171\n",
      "Learning rate: 0.00036157636\n"
     ]
    },
    {
     "name": "stderr",
     "output_type": "stream",
     "text": [
      "100%|█████████████████████████████████████████| 103/103 [00:01<00:00, 58.74it/s]\n"
     ]
    },
    {
     "name": "stdout",
     "output_type": "stream",
     "text": [
      "Model Loss is 0.00037816210533492267\n",
      "Time for epoch 171 is 1.7547976970672607 sec\n",
      "Epoch: 172\n",
      "Learning rate: 0.00035941822\n"
     ]
    },
    {
     "name": "stderr",
     "output_type": "stream",
     "text": [
      "100%|█████████████████████████████████████████| 103/103 [00:01<00:00, 58.20it/s]\n"
     ]
    },
    {
     "name": "stdout",
     "output_type": "stream",
     "text": [
      "Model Loss is 0.0004277306725271046\n",
      "Time for epoch 172 is 1.7709474563598633 sec\n",
      "Epoch: 173\n",
      "Learning rate: 0.00035727283\n"
     ]
    },
    {
     "name": "stderr",
     "output_type": "stream",
     "text": [
      "100%|█████████████████████████████████████████| 103/103 [00:01<00:00, 59.27it/s]\n"
     ]
    },
    {
     "name": "stdout",
     "output_type": "stream",
     "text": [
      "Model Loss is 0.0005742753273807466\n",
      "Time for epoch 173 is 1.739098072052002 sec\n",
      "Epoch: 174\n",
      "Learning rate: 0.00035514036\n"
     ]
    },
    {
     "name": "stderr",
     "output_type": "stream",
     "text": [
      "100%|█████████████████████████████████████████| 103/103 [00:01<00:00, 58.75it/s]\n"
     ]
    },
    {
     "name": "stdout",
     "output_type": "stream",
     "text": [
      "Model Loss is 0.000550806347746402\n",
      "Time for epoch 174 is 1.7544007301330566 sec\n",
      "Epoch: 175\n",
      "Learning rate: 0.00035302056\n"
     ]
    },
    {
     "name": "stderr",
     "output_type": "stream",
     "text": [
      "100%|█████████████████████████████████████████| 103/103 [00:01<00:00, 58.96it/s]\n"
     ]
    },
    {
     "name": "stdout",
     "output_type": "stream",
     "text": [
      "Model Loss is 0.00035396782914176583\n",
      "Time for epoch 175 is 1.7481491565704346 sec\n",
      "Epoch: 176\n",
      "Learning rate: 0.0003509135\n"
     ]
    },
    {
     "name": "stderr",
     "output_type": "stream",
     "text": [
      "100%|█████████████████████████████████████████| 103/103 [00:01<00:00, 58.42it/s]\n"
     ]
    },
    {
     "name": "stdout",
     "output_type": "stream",
     "text": [
      "Model Loss is 0.0003623466764111072\n",
      "Time for epoch 176 is 1.7643444538116455 sec\n",
      "Epoch: 177\n",
      "Learning rate: 0.00034881892\n"
     ]
    },
    {
     "name": "stderr",
     "output_type": "stream",
     "text": [
      "100%|█████████████████████████████████████████| 103/103 [00:01<00:00, 58.57it/s]\n"
     ]
    },
    {
     "name": "stdout",
     "output_type": "stream",
     "text": [
      "Model Loss is 0.00037700534448958933\n",
      "Time for epoch 177 is 1.7598075866699219 sec\n",
      "Epoch: 178\n",
      "Learning rate: 0.00034673687\n"
     ]
    },
    {
     "name": "stderr",
     "output_type": "stream",
     "text": [
      "100%|█████████████████████████████████████████| 103/103 [00:01<00:00, 57.63it/s]\n"
     ]
    },
    {
     "name": "stdout",
     "output_type": "stream",
     "text": [
      "Model Loss is 0.00034721344127319753\n",
      "Time for epoch 178 is 1.7886323928833008 sec\n",
      "Epoch: 179\n",
      "Learning rate: 0.00034466726\n"
     ]
    },
    {
     "name": "stderr",
     "output_type": "stream",
     "text": [
      "100%|█████████████████████████████████████████| 103/103 [00:01<00:00, 58.58it/s]\n"
     ]
    },
    {
     "name": "stdout",
     "output_type": "stream",
     "text": [
      "Model Loss is 0.0003605219244491309\n",
      "Time for epoch 179 is 1.7594692707061768 sec\n",
      "Epoch: 180\n",
      "Learning rate: 0.00034261003\n"
     ]
    },
    {
     "name": "stderr",
     "output_type": "stream",
     "text": [
      "100%|█████████████████████████████████████████| 103/103 [00:01<00:00, 58.19it/s]\n"
     ]
    },
    {
     "name": "stdout",
     "output_type": "stream",
     "text": [
      "Model Loss is 0.00036562862806022167\n",
      "Time for epoch 180 is 1.7714242935180664 sec\n",
      "Epoch: 181\n",
      "Learning rate: 0.00034056502\n"
     ]
    },
    {
     "name": "stderr",
     "output_type": "stream",
     "text": [
      "100%|█████████████████████████████████████████| 103/103 [00:01<00:00, 58.76it/s]\n"
     ]
    },
    {
     "name": "stdout",
     "output_type": "stream",
     "text": [
      "Model Loss is 0.0002994106325786561\n",
      "Time for epoch 181 is 1.7540180683135986 sec\n",
      "Epoch: 182\n",
      "Learning rate: 0.00033853226\n"
     ]
    },
    {
     "name": "stderr",
     "output_type": "stream",
     "text": [
      "100%|█████████████████████████████████████████| 103/103 [00:01<00:00, 57.86it/s]\n"
     ]
    },
    {
     "name": "stdout",
     "output_type": "stream",
     "text": [
      "Model Loss is 0.0004447154642548412\n",
      "Time for epoch 182 is 1.781524419784546 sec\n",
      "Epoch: 183\n",
      "Learning rate: 0.0003365116\n"
     ]
    },
    {
     "name": "stderr",
     "output_type": "stream",
     "text": [
      "100%|█████████████████████████████████████████| 103/103 [00:01<00:00, 58.40it/s]\n"
     ]
    },
    {
     "name": "stdout",
     "output_type": "stream",
     "text": [
      "Model Loss is 0.0004495444300118834\n",
      "Time for epoch 183 is 1.7650525569915771 sec\n",
      "Epoch: 184\n",
      "Learning rate: 0.00033450304\n"
     ]
    },
    {
     "name": "stderr",
     "output_type": "stream",
     "text": [
      "100%|█████████████████████████████████████████| 103/103 [00:01<00:00, 57.80it/s]\n"
     ]
    },
    {
     "name": "stdout",
     "output_type": "stream",
     "text": [
      "Model Loss is 0.00032377257593907416\n",
      "Time for epoch 184 is 1.7832069396972656 sec\n",
      "Epoch: 185\n",
      "Learning rate: 0.0003325064\n"
     ]
    },
    {
     "name": "stderr",
     "output_type": "stream",
     "text": [
      "100%|█████████████████████████████████████████| 103/103 [00:01<00:00, 58.29it/s]\n"
     ]
    },
    {
     "name": "stdout",
     "output_type": "stream",
     "text": [
      "Model Loss is 0.00032906027627177536\n",
      "Time for epoch 185 is 1.7683587074279785 sec\n",
      "Epoch: 186\n",
      "Learning rate: 0.00033052175\n"
     ]
    },
    {
     "name": "stderr",
     "output_type": "stream",
     "text": [
      "100%|█████████████████████████████████████████| 103/103 [00:01<00:00, 57.64it/s]\n"
     ]
    },
    {
     "name": "stdout",
     "output_type": "stream",
     "text": [
      "Model Loss is 0.0003403812588658184\n",
      "Time for epoch 186 is 1.7880675792694092 sec\n",
      "Epoch: 187\n",
      "Learning rate: 0.00032854892\n"
     ]
    },
    {
     "name": "stderr",
     "output_type": "stream",
     "text": [
      "100%|█████████████████████████████████████████| 103/103 [00:01<00:00, 58.11it/s]\n"
     ]
    },
    {
     "name": "stdout",
     "output_type": "stream",
     "text": [
      "Model Loss is 0.00034972617868334055\n",
      "Time for epoch 187 is 1.7738189697265625 sec\n",
      "Epoch: 188\n",
      "Learning rate: 0.00032658785\n"
     ]
    },
    {
     "name": "stderr",
     "output_type": "stream",
     "text": [
      "100%|█████████████████████████████████████████| 103/103 [00:01<00:00, 57.56it/s]\n"
     ]
    },
    {
     "name": "stdout",
     "output_type": "stream",
     "text": [
      "Model Loss is 0.0002722845529206097\n",
      "Time for epoch 188 is 1.790714979171753 sec\n",
      "Epoch: 189\n",
      "Learning rate: 0.0003246385\n"
     ]
    },
    {
     "name": "stderr",
     "output_type": "stream",
     "text": [
      "100%|█████████████████████████████████████████| 103/103 [00:01<00:00, 58.28it/s]\n"
     ]
    },
    {
     "name": "stdout",
     "output_type": "stream",
     "text": [
      "Model Loss is 0.0004651542112696916\n",
      "Time for epoch 189 is 1.7685554027557373 sec\n",
      "Epoch: 190\n",
      "Learning rate: 0.00032270083\n"
     ]
    },
    {
     "name": "stderr",
     "output_type": "stream",
     "text": [
      "100%|█████████████████████████████████████████| 103/103 [00:01<00:00, 57.70it/s]\n"
     ]
    },
    {
     "name": "stdout",
     "output_type": "stream",
     "text": [
      "Model Loss is 0.0003997093881480396\n",
      "Time for epoch 190 is 1.786595344543457 sec\n",
      "Epoch: 191\n",
      "Learning rate: 0.00032077465\n"
     ]
    },
    {
     "name": "stderr",
     "output_type": "stream",
     "text": [
      "100%|█████████████████████████████████████████| 103/103 [00:01<00:00, 58.32it/s]\n"
     ]
    },
    {
     "name": "stdout",
     "output_type": "stream",
     "text": [
      "Model Loss is 0.0003694874467328191\n",
      "Time for epoch 191 is 1.7673335075378418 sec\n",
      "Epoch: 192\n",
      "Learning rate: 0.00031885997\n"
     ]
    },
    {
     "name": "stderr",
     "output_type": "stream",
     "text": [
      "100%|█████████████████████████████████████████| 103/103 [00:01<00:00, 58.19it/s]\n"
     ]
    },
    {
     "name": "stdout",
     "output_type": "stream",
     "text": [
      "Model Loss is 0.0003293437184765935\n",
      "Time for epoch 192 is 1.7712812423706055 sec\n",
      "Epoch: 193\n",
      "Learning rate: 0.00031695678\n"
     ]
    },
    {
     "name": "stderr",
     "output_type": "stream",
     "text": [
      "100%|█████████████████████████████████████████| 103/103 [00:01<00:00, 58.80it/s]\n"
     ]
    },
    {
     "name": "stdout",
     "output_type": "stream",
     "text": [
      "Model Loss is 0.0003817220567725599\n",
      "Time for epoch 193 is 1.7528958320617676 sec\n",
      "Epoch: 194\n",
      "Learning rate: 0.0003150649\n"
     ]
    },
    {
     "name": "stderr",
     "output_type": "stream",
     "text": [
      "100%|█████████████████████████████████████████| 103/103 [00:01<00:00, 58.28it/s]\n"
     ]
    },
    {
     "name": "stdout",
     "output_type": "stream",
     "text": [
      "Model Loss is 0.00033696810714900494\n",
      "Time for epoch 194 is 1.7684330940246582 sec\n",
      "Epoch: 195\n",
      "Learning rate: 0.00031318437\n"
     ]
    },
    {
     "name": "stderr",
     "output_type": "stream",
     "text": [
      "100%|█████████████████████████████████████████| 103/103 [00:01<00:00, 58.45it/s]\n"
     ]
    },
    {
     "name": "stdout",
     "output_type": "stream",
     "text": [
      "Model Loss is 0.00028343041776679456\n",
      "Time for epoch 195 is 1.7632043361663818 sec\n",
      "Epoch: 196\n",
      "Learning rate: 0.00031131497\n"
     ]
    },
    {
     "name": "stderr",
     "output_type": "stream",
     "text": [
      "100%|█████████████████████████████████████████| 103/103 [00:01<00:00, 58.18it/s]\n"
     ]
    },
    {
     "name": "stdout",
     "output_type": "stream",
     "text": [
      "Model Loss is 0.0003184132801834494\n",
      "Time for epoch 196 is 1.7716891765594482 sec\n",
      "Epoch: 197\n",
      "Learning rate: 0.0003094568\n"
     ]
    },
    {
     "name": "stderr",
     "output_type": "stream",
     "text": [
      "100%|█████████████████████████████████████████| 103/103 [00:01<00:00, 58.44it/s]\n"
     ]
    },
    {
     "name": "stdout",
     "output_type": "stream",
     "text": [
      "Model Loss is 0.0003798814141191542\n",
      "Time for epoch 197 is 1.763599157333374 sec\n",
      "Epoch: 198\n",
      "Learning rate: 0.00030760973\n"
     ]
    },
    {
     "name": "stderr",
     "output_type": "stream",
     "text": [
      "100%|█████████████████████████████████████████| 103/103 [00:01<00:00, 58.44it/s]\n"
     ]
    },
    {
     "name": "stdout",
     "output_type": "stream",
     "text": [
      "Model Loss is 0.0003215041651856154\n",
      "Time for epoch 198 is 1.7638294696807861 sec\n",
      "Epoch: 199\n",
      "Learning rate: 0.00030577366\n"
     ]
    },
    {
     "name": "stderr",
     "output_type": "stream",
     "text": [
      "100%|█████████████████████████████████████████| 103/103 [00:01<00:00, 58.72it/s]\n"
     ]
    },
    {
     "name": "stdout",
     "output_type": "stream",
     "text": [
      "Model Loss is 0.00031274979119189084\n",
      "Time for epoch 199 is 1.7552824020385742 sec\n",
      "Epoch: 200\n",
      "Learning rate: 0.0003039485\n"
     ]
    },
    {
     "name": "stderr",
     "output_type": "stream",
     "text": [
      "100%|█████████████████████████████████████████| 103/103 [00:01<00:00, 58.27it/s]\n"
     ]
    },
    {
     "name": "stdout",
     "output_type": "stream",
     "text": [
      "Model Loss is 0.0003065243945457041\n",
      "Time for epoch 200 is 1.768742561340332 sec\n",
      "Epoch: 201\n",
      "Learning rate: 0.0003021343\n"
     ]
    },
    {
     "name": "stderr",
     "output_type": "stream",
     "text": [
      "100%|█████████████████████████████████████████| 103/103 [00:01<00:00, 58.52it/s]\n"
     ]
    },
    {
     "name": "stdout",
     "output_type": "stream",
     "text": [
      "Model Loss is 0.0003749303286895156\n",
      "Time for epoch 201 is 1.7614541053771973 sec\n",
      "Epoch: 202\n",
      "Learning rate: 0.00030033092\n"
     ]
    },
    {
     "name": "stderr",
     "output_type": "stream",
     "text": [
      "100%|█████████████████████████████████████████| 103/103 [00:01<00:00, 58.47it/s]\n"
     ]
    },
    {
     "name": "stdout",
     "output_type": "stream",
     "text": [
      "Model Loss is 0.00036900187842547894\n",
      "Time for epoch 202 is 1.7631969451904297 sec\n",
      "Epoch: 203\n",
      "Learning rate: 0.0002985383\n"
     ]
    },
    {
     "name": "stderr",
     "output_type": "stream",
     "text": [
      "100%|█████████████████████████████████████████| 103/103 [00:01<00:00, 58.33it/s]\n"
     ]
    },
    {
     "name": "stdout",
     "output_type": "stream",
     "text": [
      "Model Loss is 0.00036698937765322626\n",
      "Time for epoch 203 is 1.7670772075653076 sec\n",
      "Epoch: 204\n",
      "Learning rate: 0.00029675636\n"
     ]
    },
    {
     "name": "stderr",
     "output_type": "stream",
     "text": [
      "100%|█████████████████████████████████████████| 103/103 [00:01<00:00, 57.64it/s]\n"
     ]
    },
    {
     "name": "stdout",
     "output_type": "stream",
     "text": [
      "Model Loss is 0.00028630736051127315\n",
      "Time for epoch 204 is 1.7885510921478271 sec\n",
      "Epoch: 205\n",
      "Learning rate: 0.00029498508\n"
     ]
    },
    {
     "name": "stderr",
     "output_type": "stream",
     "text": [
      "100%|█████████████████████████████████████████| 103/103 [00:01<00:00, 55.01it/s]\n"
     ]
    },
    {
     "name": "stdout",
     "output_type": "stream",
     "text": [
      "Model Loss is 0.00031710611074231565\n",
      "Time for epoch 205 is 1.8744370937347412 sec\n",
      "Epoch: 206\n",
      "Learning rate: 0.00029322435\n"
     ]
    },
    {
     "name": "stderr",
     "output_type": "stream",
     "text": [
      "100%|█████████████████████████████████████████| 103/103 [00:01<00:00, 54.79it/s]\n"
     ]
    },
    {
     "name": "stdout",
     "output_type": "stream",
     "text": [
      "Model Loss is 0.0003633649321272969\n",
      "Time for epoch 206 is 1.8818724155426025 sec\n",
      "Epoch: 207\n",
      "Learning rate: 0.00029147416\n"
     ]
    },
    {
     "name": "stderr",
     "output_type": "stream",
     "text": [
      "100%|█████████████████████████████████████████| 103/103 [00:01<00:00, 55.32it/s]\n"
     ]
    },
    {
     "name": "stdout",
     "output_type": "stream",
     "text": [
      "Model Loss is 0.000422457029344514\n",
      "Time for epoch 207 is 1.8637402057647705 sec\n",
      "Epoch: 208\n",
      "Learning rate: 0.00028973437\n"
     ]
    },
    {
     "name": "stderr",
     "output_type": "stream",
     "text": [
      "100%|█████████████████████████████████████████| 103/103 [00:01<00:00, 55.18it/s]\n"
     ]
    },
    {
     "name": "stdout",
     "output_type": "stream",
     "text": [
      "Model Loss is 0.0005456697545014322\n",
      "Time for epoch 208 is 1.8683173656463623 sec\n",
      "Epoch: 209\n",
      "Learning rate: 0.00028800502\n"
     ]
    },
    {
     "name": "stderr",
     "output_type": "stream",
     "text": [
      "100%|█████████████████████████████████████████| 103/103 [00:01<00:00, 55.38it/s]\n"
     ]
    },
    {
     "name": "stdout",
     "output_type": "stream",
     "text": [
      "Model Loss is 0.0002849097945727408\n",
      "Time for epoch 209 is 1.861797571182251 sec\n",
      "Epoch: 210\n",
      "Learning rate: 0.0002862859\n"
     ]
    },
    {
     "name": "stderr",
     "output_type": "stream",
     "text": [
      "100%|█████████████████████████████████████████| 103/103 [00:01<00:00, 55.02it/s]\n"
     ]
    },
    {
     "name": "stdout",
     "output_type": "stream",
     "text": [
      "Model Loss is 0.0004505146062001586\n",
      "Time for epoch 210 is 1.873499870300293 sec\n",
      "Epoch: 211\n",
      "Learning rate: 0.00028457717\n"
     ]
    },
    {
     "name": "stderr",
     "output_type": "stream",
     "text": [
      "100%|█████████████████████████████████████████| 103/103 [00:01<00:00, 55.50it/s]\n"
     ]
    },
    {
     "name": "stdout",
     "output_type": "stream",
     "text": [
      "Model Loss is 0.0004176728252787143\n",
      "Time for epoch 211 is 1.8572556972503662 sec\n",
      "Epoch: 212\n",
      "Learning rate: 0.00028287855\n"
     ]
    },
    {
     "name": "stderr",
     "output_type": "stream",
     "text": [
      "100%|█████████████████████████████████████████| 103/103 [00:01<00:00, 54.89it/s]\n"
     ]
    },
    {
     "name": "stdout",
     "output_type": "stream",
     "text": [
      "Model Loss is 0.00032374938018620014\n",
      "Time for epoch 212 is 1.8785085678100586 sec\n",
      "Epoch: 213\n",
      "Learning rate: 0.00028119012\n"
     ]
    },
    {
     "name": "stderr",
     "output_type": "stream",
     "text": [
      "100%|█████████████████████████████████████████| 103/103 [00:01<00:00, 55.27it/s]\n"
     ]
    },
    {
     "name": "stdout",
     "output_type": "stream",
     "text": [
      "Model Loss is 0.0003217671765014529\n",
      "Time for epoch 213 is 1.8653979301452637 sec\n",
      "Epoch: 214\n",
      "Learning rate: 0.0002795117\n"
     ]
    },
    {
     "name": "stderr",
     "output_type": "stream",
     "text": [
      "100%|█████████████████████████████████████████| 103/103 [00:01<00:00, 55.12it/s]\n"
     ]
    },
    {
     "name": "stdout",
     "output_type": "stream",
     "text": [
      "Model Loss is 0.00025726386229507625\n",
      "Time for epoch 214 is 1.870168924331665 sec\n",
      "Epoch: 215\n",
      "Learning rate: 0.0002778434\n"
     ]
    },
    {
     "name": "stderr",
     "output_type": "stream",
     "text": [
      "100%|█████████████████████████████████████████| 103/103 [00:01<00:00, 55.20it/s]\n"
     ]
    },
    {
     "name": "stdout",
     "output_type": "stream",
     "text": [
      "Model Loss is 0.0002908573078457266\n",
      "Time for epoch 215 is 1.8675971031188965 sec\n",
      "Epoch: 216\n",
      "Learning rate: 0.00027618496\n"
     ]
    },
    {
     "name": "stderr",
     "output_type": "stream",
     "text": [
      "100%|█████████████████████████████████████████| 103/103 [00:01<00:00, 54.95it/s]\n"
     ]
    },
    {
     "name": "stdout",
     "output_type": "stream",
     "text": [
      "Model Loss is 0.00027220111223869026\n",
      "Time for epoch 216 is 1.8760409355163574 sec\n",
      "Epoch: 217\n",
      "Learning rate: 0.00027453646\n"
     ]
    },
    {
     "name": "stderr",
     "output_type": "stream",
     "text": [
      "100%|█████████████████████████████████████████| 103/103 [00:01<00:00, 55.10it/s]\n"
     ]
    },
    {
     "name": "stdout",
     "output_type": "stream",
     "text": [
      "Model Loss is 0.00026551360497251153\n",
      "Time for epoch 217 is 1.8709774017333984 sec\n",
      "Epoch: 218\n",
      "Learning rate: 0.0002728978\n"
     ]
    },
    {
     "name": "stderr",
     "output_type": "stream",
     "text": [
      "100%|█████████████████████████████████████████| 103/103 [00:01<00:00, 55.06it/s]\n"
     ]
    },
    {
     "name": "stdout",
     "output_type": "stream",
     "text": [
      "Model Loss is 0.0002653127012308687\n",
      "Time for epoch 218 is 1.872237205505371 sec\n",
      "Epoch: 219\n",
      "Learning rate: 0.00027126895\n"
     ]
    },
    {
     "name": "stderr",
     "output_type": "stream",
     "text": [
      "100%|█████████████████████████████████████████| 103/103 [00:01<00:00, 55.25it/s]\n"
     ]
    },
    {
     "name": "stdout",
     "output_type": "stream",
     "text": [
      "Model Loss is 0.00035644645686261356\n",
      "Time for epoch 219 is 1.8659744262695312 sec\n",
      "Epoch: 220\n",
      "Learning rate: 0.00026964975\n"
     ]
    },
    {
     "name": "stderr",
     "output_type": "stream",
     "text": [
      "100%|█████████████████████████████████████████| 103/103 [00:01<00:00, 55.06it/s]\n"
     ]
    },
    {
     "name": "stdout",
     "output_type": "stream",
     "text": [
      "Model Loss is 0.00026518022059462965\n",
      "Time for epoch 220 is 1.8724634647369385 sec\n",
      "Epoch: 221\n",
      "Learning rate: 0.00026804028\n"
     ]
    },
    {
     "name": "stderr",
     "output_type": "stream",
     "text": [
      "100%|█████████████████████████████████████████| 103/103 [00:01<00:00, 55.26it/s]\n"
     ]
    },
    {
     "name": "stdout",
     "output_type": "stream",
     "text": [
      "Model Loss is 0.0002409780863672495\n",
      "Time for epoch 221 is 1.8655946254730225 sec\n",
      "Epoch: 222\n",
      "Learning rate: 0.00026644036\n"
     ]
    },
    {
     "name": "stderr",
     "output_type": "stream",
     "text": [
      "100%|█████████████████████████████████████████| 103/103 [00:01<00:00, 54.96it/s]\n"
     ]
    },
    {
     "name": "stdout",
     "output_type": "stream",
     "text": [
      "Model Loss is 0.00028888744418509305\n",
      "Time for epoch 222 is 1.8757331371307373 sec\n",
      "Epoch: 223\n",
      "Learning rate: 0.00026485007\n"
     ]
    },
    {
     "name": "stderr",
     "output_type": "stream",
     "text": [
      "100%|█████████████████████████████████████████| 103/103 [00:01<00:00, 55.22it/s]\n"
     ]
    },
    {
     "name": "stdout",
     "output_type": "stream",
     "text": [
      "Model Loss is 0.0002774271124508232\n",
      "Time for epoch 223 is 1.866666316986084 sec\n",
      "Epoch: 224\n",
      "Learning rate: 0.0002632692\n"
     ]
    },
    {
     "name": "stderr",
     "output_type": "stream",
     "text": [
      "100%|█████████████████████████████████████████| 103/103 [00:01<00:00, 54.97it/s]\n"
     ]
    },
    {
     "name": "stdout",
     "output_type": "stream",
     "text": [
      "Model Loss is 0.00028893983107991517\n",
      "Time for epoch 224 is 1.8753790855407715 sec\n",
      "Epoch: 225\n",
      "Learning rate: 0.00026169777\n"
     ]
    },
    {
     "name": "stderr",
     "output_type": "stream",
     "text": [
      "100%|█████████████████████████████████████████| 103/103 [00:01<00:00, 55.27it/s]\n"
     ]
    },
    {
     "name": "stdout",
     "output_type": "stream",
     "text": [
      "Model Loss is 0.0002823327376972884\n",
      "Time for epoch 225 is 1.8650777339935303 sec\n",
      "Epoch: 226\n",
      "Learning rate: 0.0002601357\n"
     ]
    },
    {
     "name": "stderr",
     "output_type": "stream",
     "text": [
      "100%|█████████████████████████████████████████| 103/103 [00:01<00:00, 55.09it/s]\n"
     ]
    },
    {
     "name": "stdout",
     "output_type": "stream",
     "text": [
      "Model Loss is 0.00026500385138206184\n",
      "Time for epoch 226 is 1.8712801933288574 sec\n",
      "Epoch: 227\n",
      "Learning rate: 0.00025858305\n"
     ]
    },
    {
     "name": "stderr",
     "output_type": "stream",
     "text": [
      "100%|█████████████████████████████████████████| 103/103 [00:01<00:00, 55.50it/s]\n"
     ]
    },
    {
     "name": "stdout",
     "output_type": "stream",
     "text": [
      "Model Loss is 0.0002890565956477076\n",
      "Time for epoch 227 is 1.857586145401001 sec\n",
      "Epoch: 228\n",
      "Learning rate: 0.0002570396\n"
     ]
    },
    {
     "name": "stderr",
     "output_type": "stream",
     "text": [
      "100%|█████████████████████████████████████████| 103/103 [00:01<00:00, 54.98it/s]\n"
     ]
    },
    {
     "name": "stdout",
     "output_type": "stream",
     "text": [
      "Model Loss is 0.0003266827843617648\n",
      "Time for epoch 228 is 1.8749101161956787 sec\n",
      "Epoch: 229\n",
      "Learning rate: 0.0002555054\n"
     ]
    },
    {
     "name": "stderr",
     "output_type": "stream",
     "text": [
      "100%|█████████████████████████████████████████| 103/103 [00:01<00:00, 55.29it/s]\n"
     ]
    },
    {
     "name": "stdout",
     "output_type": "stream",
     "text": [
      "Model Loss is 0.00029473169706761837\n",
      "Time for epoch 229 is 1.8642759323120117 sec\n",
      "Epoch: 230\n",
      "Learning rate: 0.00025398028\n"
     ]
    },
    {
     "name": "stderr",
     "output_type": "stream",
     "text": [
      "100%|█████████████████████████████████████████| 103/103 [00:01<00:00, 54.83it/s]\n"
     ]
    },
    {
     "name": "stdout",
     "output_type": "stream",
     "text": [
      "Model Loss is 0.000373076502000913\n",
      "Time for epoch 230 is 1.8801600933074951 sec\n",
      "Epoch: 231\n",
      "Learning rate: 0.00025246438\n"
     ]
    },
    {
     "name": "stderr",
     "output_type": "stream",
     "text": [
      "100%|█████████████████████████████████████████| 103/103 [00:01<00:00, 55.27it/s]\n"
     ]
    },
    {
     "name": "stdout",
     "output_type": "stream",
     "text": [
      "Model Loss is 0.00032880844082683325\n",
      "Time for epoch 231 is 1.865464210510254 sec\n",
      "Epoch: 232\n",
      "Learning rate: 0.0002509574\n"
     ]
    },
    {
     "name": "stderr",
     "output_type": "stream",
     "text": [
      "100%|█████████████████████████████████████████| 103/103 [00:01<00:00, 54.95it/s]\n"
     ]
    },
    {
     "name": "stdout",
     "output_type": "stream",
     "text": [
      "Model Loss is 0.0002928527828771621\n",
      "Time for epoch 232 is 1.8761999607086182 sec\n",
      "Epoch: 233\n",
      "Learning rate: 0.0002494595\n"
     ]
    },
    {
     "name": "stderr",
     "output_type": "stream",
     "text": [
      "100%|█████████████████████████████████████████| 103/103 [00:01<00:00, 57.85it/s]\n"
     ]
    },
    {
     "name": "stdout",
     "output_type": "stream",
     "text": [
      "Model Loss is 0.00024606857914477587\n",
      "Time for epoch 233 is 1.7820632457733154 sec\n",
      "Epoch: 234\n",
      "Learning rate: 0.00024797049\n"
     ]
    },
    {
     "name": "stderr",
     "output_type": "stream",
     "text": [
      "100%|█████████████████████████████████████████| 103/103 [00:01<00:00, 58.33it/s]\n"
     ]
    },
    {
     "name": "stdout",
     "output_type": "stream",
     "text": [
      "Model Loss is 0.0003381997812539339\n",
      "Time for epoch 234 is 1.767202377319336 sec\n",
      "Epoch: 235\n",
      "Learning rate: 0.0002464904\n"
     ]
    },
    {
     "name": "stderr",
     "output_type": "stream",
     "text": [
      "100%|█████████████████████████████████████████| 103/103 [00:01<00:00, 58.07it/s]\n"
     ]
    },
    {
     "name": "stdout",
     "output_type": "stream",
     "text": [
      "Model Loss is 0.00028287392342463136\n",
      "Time for epoch 235 is 1.7749836444854736 sec\n",
      "Epoch: 236\n",
      "Learning rate: 0.00024501915\n"
     ]
    },
    {
     "name": "stderr",
     "output_type": "stream",
     "text": [
      "100%|█████████████████████████████████████████| 103/103 [00:01<00:00, 57.92it/s]\n"
     ]
    },
    {
     "name": "stdout",
     "output_type": "stream",
     "text": [
      "Model Loss is 0.00023292862169910222\n",
      "Time for epoch 236 is 1.779587984085083 sec\n",
      "Epoch: 237\n",
      "Learning rate: 0.00024355669\n"
     ]
    },
    {
     "name": "stderr",
     "output_type": "stream",
     "text": [
      "100%|█████████████████████████████████████████| 103/103 [00:01<00:00, 58.86it/s]\n"
     ]
    },
    {
     "name": "stdout",
     "output_type": "stream",
     "text": [
      "Model Loss is 0.00025031028781086206\n",
      "Time for epoch 237 is 1.7516765594482422 sec\n",
      "Epoch: 238\n",
      "Learning rate: 0.0002421029\n"
     ]
    },
    {
     "name": "stderr",
     "output_type": "stream",
     "text": [
      "100%|█████████████████████████████████████████| 103/103 [00:01<00:00, 57.84it/s]\n"
     ]
    },
    {
     "name": "stdout",
     "output_type": "stream",
     "text": [
      "Model Loss is 0.00021913131058681756\n",
      "Time for epoch 238 is 1.7822160720825195 sec\n",
      "Epoch: 239\n",
      "Learning rate: 0.00024065784\n"
     ]
    },
    {
     "name": "stderr",
     "output_type": "stream",
     "text": [
      "100%|█████████████████████████████████████████| 103/103 [00:01<00:00, 57.80it/s]\n"
     ]
    },
    {
     "name": "stdout",
     "output_type": "stream",
     "text": [
      "Model Loss is 0.0002316854806849733\n",
      "Time for epoch 239 is 1.7829911708831787 sec\n",
      "Epoch: 240\n",
      "Learning rate: 0.00023922141\n"
     ]
    },
    {
     "name": "stderr",
     "output_type": "stream",
     "text": [
      "100%|█████████████████████████████████████████| 103/103 [00:01<00:00, 58.36it/s]\n"
     ]
    },
    {
     "name": "stdout",
     "output_type": "stream",
     "text": [
      "Model Loss is 0.00020272172696422786\n",
      "Time for epoch 240 is 1.7661502361297607 sec\n",
      "Epoch: 241\n",
      "Learning rate: 0.00023779355\n"
     ]
    },
    {
     "name": "stderr",
     "output_type": "stream",
     "text": [
      "100%|█████████████████████████████████████████| 103/103 [00:01<00:00, 59.41it/s]\n"
     ]
    },
    {
     "name": "stdout",
     "output_type": "stream",
     "text": [
      "Model Loss is 0.00024351986940018833\n",
      "Time for epoch 241 is 1.7350108623504639 sec\n",
      "Epoch: 242\n",
      "Learning rate: 0.00023637417\n"
     ]
    },
    {
     "name": "stderr",
     "output_type": "stream",
     "text": [
      "100%|█████████████████████████████████████████| 103/103 [00:01<00:00, 58.92it/s]\n"
     ]
    },
    {
     "name": "stdout",
     "output_type": "stream",
     "text": [
      "Model Loss is 0.00021165801445022225\n",
      "Time for epoch 242 is 1.7495050430297852 sec\n",
      "Epoch: 243\n",
      "Learning rate: 0.0002349633\n"
     ]
    },
    {
     "name": "stderr",
     "output_type": "stream",
     "text": [
      "100%|█████████████████████████████████████████| 103/103 [00:01<00:00, 58.86it/s]\n"
     ]
    },
    {
     "name": "stdout",
     "output_type": "stream",
     "text": [
      "Model Loss is 0.0002340402570553124\n",
      "Time for epoch 243 is 1.7511343955993652 sec\n",
      "Epoch: 244\n",
      "Learning rate: 0.00023356086\n"
     ]
    },
    {
     "name": "stderr",
     "output_type": "stream",
     "text": [
      "100%|█████████████████████████████████████████| 103/103 [00:01<00:00, 58.81it/s]\n"
     ]
    },
    {
     "name": "stdout",
     "output_type": "stream",
     "text": [
      "Model Loss is 0.00023155237431637943\n",
      "Time for epoch 244 is 1.7525906562805176 sec\n",
      "Epoch: 245\n",
      "Learning rate: 0.00023216676\n"
     ]
    },
    {
     "name": "stderr",
     "output_type": "stream",
     "text": [
      "100%|█████████████████████████████████████████| 103/103 [00:01<00:00, 59.15it/s]\n"
     ]
    },
    {
     "name": "stdout",
     "output_type": "stream",
     "text": [
      "Model Loss is 0.00021532578102778643\n",
      "Time for epoch 245 is 1.7426931858062744 sec\n",
      "Epoch: 246\n",
      "Learning rate: 0.00023078098\n"
     ]
    },
    {
     "name": "stderr",
     "output_type": "stream",
     "text": [
      "100%|█████████████████████████████████████████| 103/103 [00:01<00:00, 58.90it/s]\n"
     ]
    },
    {
     "name": "stdout",
     "output_type": "stream",
     "text": [
      "Model Loss is 0.0002475492365192622\n",
      "Time for epoch 246 is 1.7499637603759766 sec\n",
      "Epoch: 247\n",
      "Learning rate: 0.0002294035\n"
     ]
    },
    {
     "name": "stderr",
     "output_type": "stream",
     "text": [
      "100%|█████████████████████████████████████████| 103/103 [00:01<00:00, 59.27it/s]\n"
     ]
    },
    {
     "name": "stdout",
     "output_type": "stream",
     "text": [
      "Model Loss is 0.00025780501891858876\n",
      "Time for epoch 247 is 1.7390940189361572 sec\n",
      "Epoch: 248\n",
      "Learning rate: 0.00022803426\n"
     ]
    },
    {
     "name": "stderr",
     "output_type": "stream",
     "text": [
      "100%|█████████████████████████████████████████| 103/103 [00:01<00:00, 58.98it/s]\n"
     ]
    },
    {
     "name": "stdout",
     "output_type": "stream",
     "text": [
      "Model Loss is 0.00029223551973700523\n",
      "Time for epoch 248 is 1.747645616531372 sec\n",
      "Epoch: 249\n",
      "Learning rate: 0.00022667312\n"
     ]
    },
    {
     "name": "stderr",
     "output_type": "stream",
     "text": [
      "100%|█████████████████████████████████████████| 103/103 [00:01<00:00, 59.31it/s]\n"
     ]
    },
    {
     "name": "stdout",
     "output_type": "stream",
     "text": [
      "Model Loss is 0.0002308723342139274\n",
      "Time for epoch 249 is 1.737809658050537 sec\n",
      "Epoch: 250\n",
      "Learning rate: 0.00022532014\n"
     ]
    },
    {
     "name": "stderr",
     "output_type": "stream",
     "text": [
      "100%|█████████████████████████████████████████| 103/103 [00:01<00:00, 58.71it/s]\n"
     ]
    },
    {
     "name": "stdout",
     "output_type": "stream",
     "text": [
      "Model Loss is 0.0002657492004800588\n",
      "Time for epoch 250 is 1.755688190460205 sec\n",
      "Epoch: 251\n",
      "Learning rate: 0.00022397525\n"
     ]
    },
    {
     "name": "stderr",
     "output_type": "stream",
     "text": [
      "100%|█████████████████████████████████████████| 103/103 [00:01<00:00, 59.19it/s]\n"
     ]
    },
    {
     "name": "stdout",
     "output_type": "stream",
     "text": [
      "Model Loss is 0.00022529637499246746\n",
      "Time for epoch 251 is 1.7413952350616455 sec\n",
      "Epoch: 252\n",
      "Learning rate: 0.00022263841\n"
     ]
    },
    {
     "name": "stderr",
     "output_type": "stream",
     "text": [
      "100%|█████████████████████████████████████████| 103/103 [00:01<00:00, 58.79it/s]\n"
     ]
    },
    {
     "name": "stdout",
     "output_type": "stream",
     "text": [
      "Model Loss is 0.00027719163335859776\n",
      "Time for epoch 252 is 1.75319242477417 sec\n",
      "Epoch: 253\n",
      "Learning rate: 0.00022130948\n"
     ]
    },
    {
     "name": "stderr",
     "output_type": "stream",
     "text": [
      "100%|█████████████████████████████████████████| 103/103 [00:01<00:00, 59.20it/s]\n"
     ]
    },
    {
     "name": "stdout",
     "output_type": "stream",
     "text": [
      "Model Loss is 0.00026964169228449464\n",
      "Time for epoch 253 is 1.7411458492279053 sec\n",
      "Epoch: 254\n",
      "Learning rate: 0.00021998852\n"
     ]
    },
    {
     "name": "stderr",
     "output_type": "stream",
     "text": [
      "100%|█████████████████████████████████████████| 103/103 [00:01<00:00, 58.62it/s]\n"
     ]
    },
    {
     "name": "stdout",
     "output_type": "stream",
     "text": [
      "Model Loss is 0.00026694548432715237\n",
      "Time for epoch 254 is 1.7584807872772217 sec\n",
      "Epoch: 255\n",
      "Learning rate: 0.00021867546\n"
     ]
    },
    {
     "name": "stderr",
     "output_type": "stream",
     "text": [
      "100%|█████████████████████████████████████████| 103/103 [00:01<00:00, 58.75it/s]\n"
     ]
    },
    {
     "name": "stdout",
     "output_type": "stream",
     "text": [
      "Model Loss is 0.0003071105165872723\n",
      "Time for epoch 255 is 1.7544443607330322 sec\n",
      "Epoch: 256\n",
      "Learning rate: 0.00021737024\n"
     ]
    },
    {
     "name": "stderr",
     "output_type": "stream",
     "text": [
      "100%|█████████████████████████████████████████| 103/103 [00:01<00:00, 58.16it/s]\n"
     ]
    },
    {
     "name": "stdout",
     "output_type": "stream",
     "text": [
      "Model Loss is 0.0003145303053315729\n",
      "Time for epoch 256 is 1.772193193435669 sec\n",
      "Epoch: 257\n",
      "Learning rate: 0.00021607276\n"
     ]
    },
    {
     "name": "stderr",
     "output_type": "stream",
     "text": [
      "100%|█████████████████████████████████████████| 103/103 [00:01<00:00, 58.47it/s]\n"
     ]
    },
    {
     "name": "stdout",
     "output_type": "stream",
     "text": [
      "Model Loss is 0.0002512410283088684\n",
      "Time for epoch 257 is 1.7628133296966553 sec\n",
      "Epoch: 258\n",
      "Learning rate: 0.00021478307\n"
     ]
    },
    {
     "name": "stderr",
     "output_type": "stream",
     "text": [
      "100%|█████████████████████████████████████████| 103/103 [00:01<00:00, 58.26it/s]\n"
     ]
    },
    {
     "name": "stdout",
     "output_type": "stream",
     "text": [
      "Model Loss is 0.0002064085128949955\n",
      "Time for epoch 258 is 1.769171953201294 sec\n",
      "Epoch: 259\n",
      "Learning rate: 0.00021350106\n"
     ]
    },
    {
     "name": "stderr",
     "output_type": "stream",
     "text": [
      "100%|█████████████████████████████████████████| 103/103 [00:01<00:00, 58.55it/s]\n"
     ]
    },
    {
     "name": "stdout",
     "output_type": "stream",
     "text": [
      "Model Loss is 0.00026831720606423914\n",
      "Time for epoch 259 is 1.7603821754455566 sec\n",
      "Epoch: 260\n",
      "Learning rate: 0.00021222669\n"
     ]
    },
    {
     "name": "stderr",
     "output_type": "stream",
     "text": [
      "100%|█████████████████████████████████████████| 103/103 [00:01<00:00, 58.06it/s]\n"
     ]
    },
    {
     "name": "stdout",
     "output_type": "stream",
     "text": [
      "Model Loss is 0.0002857090439647436\n",
      "Time for epoch 260 is 1.7752323150634766 sec\n",
      "Epoch: 261\n",
      "Learning rate: 0.00021095994\n"
     ]
    },
    {
     "name": "stderr",
     "output_type": "stream",
     "text": [
      "100%|█████████████████████████████████████████| 103/103 [00:01<00:00, 58.34it/s]\n"
     ]
    },
    {
     "name": "stdout",
     "output_type": "stream",
     "text": [
      "Model Loss is 0.00021284753165673465\n",
      "Time for epoch 261 is 1.7670154571533203 sec\n",
      "Epoch: 262\n",
      "Learning rate: 0.00020970078\n"
     ]
    },
    {
     "name": "stderr",
     "output_type": "stream",
     "text": [
      "100%|█████████████████████████████████████████| 103/103 [00:01<00:00, 57.48it/s]\n"
     ]
    },
    {
     "name": "stdout",
     "output_type": "stream",
     "text": [
      "Model Loss is 0.00023007899289950728\n",
      "Time for epoch 262 is 1.7934026718139648 sec\n",
      "Epoch: 263\n",
      "Learning rate: 0.00020844908\n"
     ]
    },
    {
     "name": "stderr",
     "output_type": "stream",
     "text": [
      "100%|█████████████████████████████████████████| 103/103 [00:01<00:00, 55.37it/s]\n"
     ]
    },
    {
     "name": "stdout",
     "output_type": "stream",
     "text": [
      "Model Loss is 0.00027670557028613985\n",
      "Time for epoch 263 is 1.8619170188903809 sec\n",
      "Epoch: 264\n",
      "Learning rate: 0.00020720488\n"
     ]
    },
    {
     "name": "stderr",
     "output_type": "stream",
     "text": [
      "100%|█████████████████████████████████████████| 103/103 [00:01<00:00, 56.27it/s]\n"
     ]
    },
    {
     "name": "stdout",
     "output_type": "stream",
     "text": [
      "Model Loss is 0.00031461729668080807\n",
      "Time for epoch 264 is 1.8320777416229248 sec\n",
      "Epoch: 265\n",
      "Learning rate: 0.00020596814\n"
     ]
    },
    {
     "name": "stderr",
     "output_type": "stream",
     "text": [
      "100%|█████████████████████████████████████████| 103/103 [00:01<00:00, 58.85it/s]\n"
     ]
    },
    {
     "name": "stdout",
     "output_type": "stream",
     "text": [
      "Model Loss is 0.0002680614707060158\n",
      "Time for epoch 265 is 1.7518768310546875 sec\n",
      "Epoch: 266\n",
      "Learning rate: 0.00020473874\n"
     ]
    },
    {
     "name": "stderr",
     "output_type": "stream",
     "text": [
      "100%|█████████████████████████████████████████| 103/103 [00:01<00:00, 58.25it/s]\n"
     ]
    },
    {
     "name": "stdout",
     "output_type": "stream",
     "text": [
      "Model Loss is 0.00027815677458420396\n",
      "Time for epoch 266 is 1.769479513168335 sec\n",
      "Epoch: 267\n",
      "Learning rate: 0.00020351667\n"
     ]
    },
    {
     "name": "stderr",
     "output_type": "stream",
     "text": [
      "100%|█████████████████████████████████████████| 103/103 [00:01<00:00, 58.50it/s]\n"
     ]
    },
    {
     "name": "stdout",
     "output_type": "stream",
     "text": [
      "Model Loss is 0.00039914605440571904\n",
      "Time for epoch 267 is 1.761530876159668 sec\n",
      "Epoch: 268\n",
      "Learning rate: 0.00020230192\n"
     ]
    },
    {
     "name": "stderr",
     "output_type": "stream",
     "text": [
      "100%|█████████████████████████████████████████| 103/103 [00:01<00:00, 58.24it/s]\n"
     ]
    },
    {
     "name": "stdout",
     "output_type": "stream",
     "text": [
      "Model Loss is 0.0002609044313430786\n",
      "Time for epoch 268 is 1.7696492671966553 sec\n",
      "Epoch: 269\n",
      "Learning rate: 0.00020109443\n"
     ]
    },
    {
     "name": "stderr",
     "output_type": "stream",
     "text": [
      "100%|█████████████████████████████████████████| 103/103 [00:01<00:00, 58.37it/s]\n"
     ]
    },
    {
     "name": "stdout",
     "output_type": "stream",
     "text": [
      "Model Loss is 0.00023232772946357727\n",
      "Time for epoch 269 is 1.7659516334533691 sec\n",
      "Epoch: 270\n",
      "Learning rate: 0.00019989414\n"
     ]
    },
    {
     "name": "stderr",
     "output_type": "stream",
     "text": [
      "100%|█████████████████████████████████████████| 103/103 [00:01<00:00, 57.46it/s]\n"
     ]
    },
    {
     "name": "stdout",
     "output_type": "stream",
     "text": [
      "Model Loss is 0.00022665393771603703\n",
      "Time for epoch 270 is 1.7942075729370117 sec\n",
      "Epoch: 271\n",
      "Learning rate: 0.00019870097\n"
     ]
    },
    {
     "name": "stderr",
     "output_type": "stream",
     "text": [
      "100%|█████████████████████████████████████████| 103/103 [00:01<00:00, 54.46it/s]\n"
     ]
    },
    {
     "name": "stdout",
     "output_type": "stream",
     "text": [
      "Model Loss is 0.00022752935183234513\n",
      "Time for epoch 271 is 1.8930985927581787 sec\n",
      "Epoch: 272\n",
      "Learning rate: 0.00019751496\n"
     ]
    },
    {
     "name": "stderr",
     "output_type": "stream",
     "text": [
      "100%|█████████████████████████████████████████| 103/103 [00:01<00:00, 54.43it/s]\n"
     ]
    },
    {
     "name": "stdout",
     "output_type": "stream",
     "text": [
      "Model Loss is 0.00022889082902111113\n",
      "Time for epoch 272 is 1.8939573764801025 sec\n",
      "Epoch: 273\n",
      "Learning rate: 0.00019633604\n"
     ]
    },
    {
     "name": "stderr",
     "output_type": "stream",
     "text": [
      "100%|█████████████████████████████████████████| 103/103 [00:01<00:00, 55.50it/s]\n"
     ]
    },
    {
     "name": "stdout",
     "output_type": "stream",
     "text": [
      "Model Loss is 0.0002571208169683814\n",
      "Time for epoch 273 is 1.857544183731079 sec\n",
      "Epoch: 274\n",
      "Learning rate: 0.00019516415\n"
     ]
    },
    {
     "name": "stderr",
     "output_type": "stream",
     "text": [
      "100%|█████████████████████████████████████████| 103/103 [00:01<00:00, 58.13it/s]\n"
     ]
    },
    {
     "name": "stdout",
     "output_type": "stream",
     "text": [
      "Model Loss is 0.0002528813201934099\n",
      "Time for epoch 274 is 1.7733798027038574 sec\n",
      "Epoch: 275\n",
      "Learning rate: 0.00019399922\n"
     ]
    },
    {
     "name": "stderr",
     "output_type": "stream",
     "text": [
      "100%|█████████████████████████████████████████| 103/103 [00:01<00:00, 58.23it/s]\n"
     ]
    },
    {
     "name": "stdout",
     "output_type": "stream",
     "text": [
      "Model Loss is 0.0002495746884960681\n",
      "Time for epoch 275 is 1.7700023651123047 sec\n",
      "Epoch: 276\n",
      "Learning rate: 0.00019284128\n"
     ]
    },
    {
     "name": "stderr",
     "output_type": "stream",
     "text": [
      "100%|█████████████████████████████████████████| 103/103 [00:01<00:00, 58.07it/s]\n"
     ]
    },
    {
     "name": "stdout",
     "output_type": "stream",
     "text": [
      "Model Loss is 0.00022494851145893335\n",
      "Time for epoch 276 is 1.7750260829925537 sec\n",
      "Epoch: 277\n",
      "Learning rate: 0.00019169025\n"
     ]
    },
    {
     "name": "stderr",
     "output_type": "stream",
     "text": [
      "100%|█████████████████████████████████████████| 103/103 [00:01<00:00, 58.42it/s]\n"
     ]
    },
    {
     "name": "stdout",
     "output_type": "stream",
     "text": [
      "Model Loss is 0.0002207115467172116\n",
      "Time for epoch 277 is 1.764359951019287 sec\n",
      "Epoch: 278\n",
      "Learning rate: 0.0001905461\n"
     ]
    },
    {
     "name": "stderr",
     "output_type": "stream",
     "text": [
      "100%|█████████████████████████████████████████| 103/103 [00:01<00:00, 58.23it/s]\n"
     ]
    },
    {
     "name": "stdout",
     "output_type": "stream",
     "text": [
      "Model Loss is 0.00022030933178029954\n",
      "Time for epoch 278 is 1.7700459957122803 sec\n",
      "Epoch: 279\n",
      "Learning rate: 0.00018940873\n"
     ]
    },
    {
     "name": "stderr",
     "output_type": "stream",
     "text": [
      "100%|█████████████████████████████████████████| 103/103 [00:01<00:00, 55.00it/s]\n"
     ]
    },
    {
     "name": "stdout",
     "output_type": "stream",
     "text": [
      "Model Loss is 0.00026812637224793434\n",
      "Time for epoch 279 is 1.874351978302002 sec\n",
      "Epoch: 280\n",
      "Learning rate: 0.0001882782\n"
     ]
    },
    {
     "name": "stderr",
     "output_type": "stream",
     "text": [
      "100%|█████████████████████████████████████████| 103/103 [00:01<00:00, 54.80it/s]\n"
     ]
    },
    {
     "name": "stdout",
     "output_type": "stream",
     "text": [
      "Model Loss is 0.00023664480249863118\n",
      "Time for epoch 280 is 1.8814716339111328 sec\n",
      "Epoch: 281\n",
      "Learning rate: 0.00018715441\n"
     ]
    },
    {
     "name": "stderr",
     "output_type": "stream",
     "text": [
      "100%|█████████████████████████████████████████| 103/103 [00:01<00:00, 54.97it/s]\n"
     ]
    },
    {
     "name": "stdout",
     "output_type": "stream",
     "text": [
      "Model Loss is 0.00021360204846132547\n",
      "Time for epoch 281 is 1.8754019737243652 sec\n",
      "Epoch: 282\n",
      "Learning rate: 0.0001860373\n"
     ]
    },
    {
     "name": "stderr",
     "output_type": "stream",
     "text": [
      "100%|█████████████████████████████████████████| 103/103 [00:01<00:00, 54.92it/s]\n"
     ]
    },
    {
     "name": "stdout",
     "output_type": "stream",
     "text": [
      "Model Loss is 0.00022353445820044726\n",
      "Time for epoch 282 is 1.8771064281463623 sec\n",
      "Epoch: 283\n",
      "Learning rate: 0.00018492686\n"
     ]
    },
    {
     "name": "stderr",
     "output_type": "stream",
     "text": [
      "100%|█████████████████████████████████████████| 103/103 [00:01<00:00, 56.85it/s]\n"
     ]
    },
    {
     "name": "stdout",
     "output_type": "stream",
     "text": [
      "Model Loss is 0.0002868757874239236\n",
      "Time for epoch 283 is 1.813020944595337 sec\n",
      "Epoch: 284\n",
      "Learning rate: 0.00018382308\n"
     ]
    },
    {
     "name": "stderr",
     "output_type": "stream",
     "text": [
      "100%|█████████████████████████████████████████| 103/103 [00:01<00:00, 58.13it/s]\n"
     ]
    },
    {
     "name": "stdout",
     "output_type": "stream",
     "text": [
      "Model Loss is 0.0002794967731460929\n",
      "Time for epoch 284 is 1.7732510566711426 sec\n",
      "Epoch: 285\n",
      "Learning rate: 0.00018272585\n"
     ]
    },
    {
     "name": "stderr",
     "output_type": "stream",
     "text": [
      "100%|█████████████████████████████████████████| 103/103 [00:01<00:00, 58.17it/s]\n"
     ]
    },
    {
     "name": "stdout",
     "output_type": "stream",
     "text": [
      "Model Loss is 0.00022163341054692864\n",
      "Time for epoch 285 is 1.7719941139221191 sec\n",
      "Epoch: 286\n",
      "Learning rate: 0.00018163522\n"
     ]
    },
    {
     "name": "stderr",
     "output_type": "stream",
     "text": [
      "100%|█████████████████████████████████████████| 103/103 [00:01<00:00, 57.89it/s]\n"
     ]
    },
    {
     "name": "stdout",
     "output_type": "stream",
     "text": [
      "Model Loss is 0.00024132101680152118\n",
      "Time for epoch 286 is 1.7805392742156982 sec\n",
      "Epoch: 287\n",
      "Learning rate: 0.00018055104\n"
     ]
    },
    {
     "name": "stderr",
     "output_type": "stream",
     "text": [
      "100%|█████████████████████████████████████████| 103/103 [00:01<00:00, 58.44it/s]\n"
     ]
    },
    {
     "name": "stdout",
     "output_type": "stream",
     "text": [
      "Model Loss is 0.00024582110927440226\n",
      "Time for epoch 287 is 1.7635340690612793 sec\n",
      "Epoch: 288\n",
      "Learning rate: 0.00017947338\n"
     ]
    },
    {
     "name": "stderr",
     "output_type": "stream",
     "text": [
      "100%|█████████████████████████████████████████| 103/103 [00:01<00:00, 58.28it/s]\n"
     ]
    },
    {
     "name": "stdout",
     "output_type": "stream",
     "text": [
      "Model Loss is 0.00023562753631267697\n",
      "Time for epoch 288 is 1.768571376800537 sec\n",
      "Epoch: 289\n",
      "Learning rate: 0.00017840212\n"
     ]
    },
    {
     "name": "stderr",
     "output_type": "stream",
     "text": [
      "100%|█████████████████████████████████████████| 103/103 [00:01<00:00, 58.59it/s]\n"
     ]
    },
    {
     "name": "stdout",
     "output_type": "stream",
     "text": [
      "Model Loss is 0.00023069774033501744\n",
      "Time for epoch 289 is 1.7591538429260254 sec\n",
      "Epoch: 290\n",
      "Learning rate: 0.0001773373\n"
     ]
    },
    {
     "name": "stderr",
     "output_type": "stream",
     "text": [
      "100%|█████████████████████████████████████████| 103/103 [00:01<00:00, 58.28it/s]\n"
     ]
    },
    {
     "name": "stdout",
     "output_type": "stream",
     "text": [
      "Model Loss is 0.0002001316170208156\n",
      "Time for epoch 290 is 1.7684321403503418 sec\n",
      "Epoch: 291\n",
      "Learning rate: 0.00017627877\n"
     ]
    },
    {
     "name": "stderr",
     "output_type": "stream",
     "text": [
      "100%|█████████████████████████████████████████| 103/103 [00:01<00:00, 57.67it/s]\n"
     ]
    },
    {
     "name": "stdout",
     "output_type": "stream",
     "text": [
      "Model Loss is 0.00022471151896752417\n",
      "Time for epoch 291 is 1.787492275238037 sec\n",
      "Epoch: 292\n",
      "Learning rate: 0.00017522661\n"
     ]
    },
    {
     "name": "stderr",
     "output_type": "stream",
     "text": [
      "100%|█████████████████████████████████████████| 103/103 [00:01<00:00, 54.70it/s]\n"
     ]
    },
    {
     "name": "stdout",
     "output_type": "stream",
     "text": [
      "Model Loss is 0.00020975148072466254\n",
      "Time for epoch 292 is 1.884793758392334 sec\n",
      "Epoch: 293\n",
      "Learning rate: 0.00017418069\n"
     ]
    },
    {
     "name": "stderr",
     "output_type": "stream",
     "text": [
      "100%|█████████████████████████████████████████| 103/103 [00:01<00:00, 55.26it/s]\n"
     ]
    },
    {
     "name": "stdout",
     "output_type": "stream",
     "text": [
      "Model Loss is 0.0002560961584094912\n",
      "Time for epoch 293 is 1.8655126094818115 sec\n",
      "Epoch: 294\n",
      "Learning rate: 0.00017314106\n"
     ]
    },
    {
     "name": "stderr",
     "output_type": "stream",
     "text": [
      "100%|█████████████████████████████████████████| 103/103 [00:01<00:00, 55.10it/s]\n"
     ]
    },
    {
     "name": "stdout",
     "output_type": "stream",
     "text": [
      "Model Loss is 0.00019975237955804914\n",
      "Time for epoch 294 is 1.8710784912109375 sec\n",
      "Epoch: 295\n",
      "Learning rate: 0.00017210758\n"
     ]
    },
    {
     "name": "stderr",
     "output_type": "stream",
     "text": [
      "100%|█████████████████████████████████████████| 103/103 [00:01<00:00, 58.35it/s]\n"
     ]
    },
    {
     "name": "stdout",
     "output_type": "stream",
     "text": [
      "Model Loss is 0.00022658915258944035\n",
      "Time for epoch 295 is 1.7666528224945068 sec\n",
      "Epoch: 296\n",
      "Learning rate: 0.00017108032\n"
     ]
    },
    {
     "name": "stderr",
     "output_type": "stream",
     "text": [
      "100%|█████████████████████████████████████████| 103/103 [00:01<00:00, 58.58it/s]\n"
     ]
    },
    {
     "name": "stdout",
     "output_type": "stream",
     "text": [
      "Model Loss is 0.0002143998717656359\n",
      "Time for epoch 296 is 1.7593588829040527 sec\n",
      "Epoch: 297\n",
      "Learning rate: 0.00017005914\n"
     ]
    },
    {
     "name": "stderr",
     "output_type": "stream",
     "text": [
      "100%|█████████████████████████████████████████| 103/103 [00:01<00:00, 58.25it/s]\n"
     ]
    },
    {
     "name": "stdout",
     "output_type": "stream",
     "text": [
      "Model Loss is 0.0002348420093767345\n",
      "Time for epoch 297 is 1.7694454193115234 sec\n",
      "Epoch: 298\n",
      "Learning rate: 0.00016904413\n"
     ]
    },
    {
     "name": "stderr",
     "output_type": "stream",
     "text": [
      "100%|█████████████████████████████████████████| 103/103 [00:01<00:00, 58.19it/s]\n"
     ]
    },
    {
     "name": "stdout",
     "output_type": "stream",
     "text": [
      "Model Loss is 0.00022851892572361976\n",
      "Time for epoch 298 is 1.7710864543914795 sec\n",
      "Epoch: 299\n",
      "Learning rate: 0.00016803513\n"
     ]
    },
    {
     "name": "stderr",
     "output_type": "stream",
     "text": [
      "100%|█████████████████████████████████████████| 103/103 [00:01<00:00, 58.67it/s]\n"
     ]
    },
    {
     "name": "stdout",
     "output_type": "stream",
     "text": [
      "Model Loss is 0.0002093229559250176\n",
      "Time for epoch 299 is 1.7567393779754639 sec\n",
      "Epoch: 300\n",
      "Learning rate: 0.00016703215\n"
     ]
    },
    {
     "name": "stderr",
     "output_type": "stream",
     "text": [
      "100%|█████████████████████████████████████████| 103/103 [00:01<00:00, 56.96it/s]"
     ]
    },
    {
     "name": "stdout",
     "output_type": "stream",
     "text": [
      "Model Loss is 0.00028440976166166365\n",
      "Time for epoch 300 is 1.8098828792572021 sec\n"
     ]
    },
    {
     "name": "stderr",
     "output_type": "stream",
     "text": [
      "\n"
     ]
    }
   ],
   "source": [
    "train([sel_indices, subjects_lr, subjects_hr, subjects_masks], 300)"
   ]
  },
  {
   "cell_type": "code",
   "execution_count": 15,
   "metadata": {},
   "outputs": [
    {
     "data": {
      "text/plain": [
       "<matplotlib.image.AxesImage at 0x7f7d7349ba10>"
      ]
     },
     "execution_count": 15,
     "metadata": {},
     "output_type": "execute_result"
    },
    {
     "data": {
      "image/png": "[encoded data removed]",
      "text/plain": [
       "<Figure size 640x480 with 1 Axes>"
      ]
     },
     "metadata": {},
     "output_type": "display_data"
    },
    {
     "data": {
      "image/png": "[encoded data removed]",
      "text/plain": [
       "<Figure size 640x480 with 1 Axes>"
      ]
     },
     "metadata": {},
     "output_type": "display_data"
    }
   ],
   "source": [
    "i = 60 \n",
    "j = 60\n",
    "k = 80\n",
    "\n",
    "channel = 1\n",
    "\n",
    "lr_patch = np.copy(subjects_lr[6][\n",
    "                        i - p_size_i - e_or_o : i + p_size_i,\n",
    "                        j - p_size_i - e_or_o : j + p_size_i,\n",
    "                        k - p_size_i - e_or_o : k + p_size_i, :])\n",
    "\n",
    "hr_patch = np.copy(subjects_hr[6][\n",
    "                        i - p_size_o - e_or_o : i + p_size_o,\n",
    "                        j - p_size_o - e_or_o : j + p_size_o,\n",
    "                        k - p_size_o - e_or_o : k + p_size_o, :])\n",
    "\n",
    "lr_mask = subjects_masks[6][\n",
    "                            i - p_size_i - e_or_o : i + p_size_i,\n",
    "                            j - p_size_i - e_or_o : j + p_size_i,\n",
    "                            k - p_size_i - e_or_o : k + p_size_i]\n",
    "\n",
    "lr_patch[lr_mask == 0] = 0\n",
    "\n",
    "generated_image = model_unet(lr_patch[None,...], training=False)\n",
    "\n",
    "plt.imshow(generated_image[0,:,:,3,channel],cmap='gray')\n",
    "plt.figure()\n",
    "plt.imshow(hr_patch[:,:,3,channel],cmap='gray')"
   ]
  },
  {
   "cell_type": "code",
   "execution_count": 16,
   "metadata": {},
   "outputs": [
    {
     "name": "stderr",
     "output_type": "stream",
     "text": [
      "100%|███████████████████████████████████████████| 65/65 [00:02<00:00, 26.80it/s]\n"
     ]
    }
   ],
   "source": [
    "# subjects_lr\n",
    "# subjects_hr# subjects_masks\n",
    "\n",
    "result_image = np.zeros(hires_output.shape)\n",
    "\n",
    "for (i, j, k) in tqdm(sel_indices[np.where(sel_indices[:,0]==6),1:].squeeze()):\n",
    "\n",
    "    lr_patch = np.copy(subjects_lr[6][\n",
    "                            i - p_size_i - e_or_o : i + p_size_i,\n",
    "                            j - p_size_i - e_or_o : j + p_size_i,\n",
    "                            k - p_size_i - e_or_o : k + p_size_i, :])\n",
    "\n",
    "    lr_mask = subjects_masks[6][\n",
    "                                i - p_size_i - e_or_o : i + p_size_i,\n",
    "                                j - p_size_i - e_or_o : j + p_size_i,\n",
    "                                k - p_size_i - e_or_o : k + p_size_i]\n",
    "\n",
    "    lr_patch[lr_mask == 0] = 0\n",
    "\n",
    "    output_patch = model_unet(lr_patch[None,...], training=False)\n",
    "\n",
    "    result_image[i - p_size_o - e_or_o : i + p_size_o,\n",
    "                 j - p_size_o - e_or_o : j + p_size_o,\n",
    "                 k - p_size_o - e_or_o : k + p_size_o, :] = output_patch\n",
    "\n",
    "result_image[subjects_masks[6] == 0] = 0\n",
    "    "
   ]
  },
  {
   "cell_type": "code",
   "execution_count": 17,
   "metadata": {},
   "outputs": [
    {
     "data": {
      "text/plain": [
       "<matplotlib.image.AxesImage at 0x7f7d230913d0>"
      ]
     },
     "execution_count": 17,
     "metadata": {},
     "output_type": "execute_result"
    },
    {
     "data": {
      "image/png": "[encoded data removed]",
      "text/plain": [
       "<Figure size 640x480 with 1 Axes>"
      ]
     },
     "metadata": {},
     "output_type": "display_data"
    },
    {
     "data": {
      "image/png": "[encoded data removed]",
      "text/plain": [
       "<Figure size 640x480 with 1 Axes>"
      ]
     },
     "metadata": {},
     "output_type": "display_data"
    },
    {
     "data": {
      "image/png": "[encoded data removed]",
      "text/plain": [
       "<Figure size 640x480 with 1 Axes>"
      ]
     },
     "metadata": {},
     "output_type": "display_data"
    }
   ],
   "source": [
    "zdim = 60\n",
    "channel = 0\n",
    "\n",
    "# plt.imshow(subjects_masks[6][:,:,zdim], cmap='gray')\n",
    "# plt.figure()\n",
    "plt.imshow(subjects_lr[6][:,:,zdim,channel], cmap='gray')\n",
    "plt.figure()\n",
    "plt.imshow(subjects_hr[6][:,:,zdim,channel], cmap='gray')\n",
    "plt.figure()\n",
    "plt.imshow(result_image[:,:,zdim,channel], cmap='gray')"
   ]
  },
  {
   "cell_type": "code",
   "execution_count": 18,
   "metadata": {},
   "outputs": [
    {
     "name": "stdout",
     "output_type": "stream",
     "text": [
      "0.1314642606296684 0.15640600571427601 -0.8236386775970459\n"
     ]
    },
    {
     "data": {
      "image/png": "[encoded data removed]",
      "text/plain": [
       "<Figure size 640x480 with 1 Axes>"
      ]
     },
     "metadata": {},
     "output_type": "display_data"
    },
    {
     "data": {
      "image/png": "[encoded data removed]",
      "text/plain": [
       "<Figure size 640x480 with 1 Axes>"
      ]
     },
     "metadata": {},
     "output_type": "display_data"
    },
    {
     "data": {
      "image/png": "[encoded data removed]",
      "text/plain": [
       "<Figure size 640x480 with 1 Axes>"
      ]
     },
     "metadata": {},
     "output_type": "display_data"
    }
   ],
   "source": [
    "plt.imshow(subjects_lr[6][50:90,60:120,zdim,channel], cmap='gray')\n",
    "plt.figure()\n",
    "plt.imshow(subjects_hr[6][50:90,60:120,zdim,channel], cmap='gray')\n",
    "plt.figure()\n",
    "plt.imshow(result_image[50:90,60:120,zdim,channel], cmap='gray')\n",
    "\n",
    "print(np.min(subjects_lr[6][40:80,60:120,zdim,channel]), np.min(subjects_hr[6][40:80,60:120,zdim,channel]), np.min(result_image[40:80,60:120,zdim,channel]))"
   ]
  },
  {
   "cell_type": "code",
   "execution_count": 19,
   "metadata": {},
   "outputs": [],
   "source": [
    "# generator.save_weights('Model/gen_weights')\n",
    "# discriminator.save_weights('Model/disc_weights')"
   ]
  },
  {
   "cell_type": "code",
   "execution_count": 20,
   "metadata": {},
   "outputs": [
    {
     "name": "stdout",
     "output_type": "stream",
     "text": [
      "WARNING:tensorflow:Compiled the loaded model, but the compiled metrics have yet to be built. `model.compile_metrics` will be empty until you train or evaluate the model.\n",
      "INFO:tensorflow:Assets written to: Model/unet_model/assets\n"
     ]
    },
    {
     "name": "stderr",
     "output_type": "stream",
     "text": [
      "INFO:tensorflow:Assets written to: Model/unet_model/assets\n"
     ]
    }
   ],
   "source": [
    "model_unet.save('Model/unet_model')"
   ]
  }
 ],
 "metadata": {
  "kernelspec": {
   "display_name": "Python 3 (ipykernel)",
   "language": "python",
   "name": "python3"
  },
  "language_info": {
   "codemirror_mode": {
    "name": "ipython",
    "version": 3
   },
   "file_extension": ".py",
   "mimetype": "text/x-python",
   "name": "python",
   "nbconvert_exporter": "python",
   "pygments_lexer": "ipython3",
   "version": "3.11.4"
  }
 },
 "nbformat": 4,
 "nbformat_minor": 4
}
